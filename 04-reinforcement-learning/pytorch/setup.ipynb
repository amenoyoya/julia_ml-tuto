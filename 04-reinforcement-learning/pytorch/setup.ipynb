{
 "cells": [
  {
   "cell_type": "code",
   "execution_count": 1,
   "metadata": {},
   "outputs": [
    {
     "name": "stdout",
     "output_type": "stream",
     "text": [
      "Looking in links: https://download.pytorch.org/whl/torch_stable.html\n",
      "Requirement already satisfied: torch==1.7.1+cu110 in c:\\users\\user\\.pyenv\\pyenv-win\\versions\\3.8.10\\lib\\site-packages (1.7.1+cu110)\n",
      "Requirement already satisfied: torchvision in c:\\users\\user\\appdata\\roaming\\python\\python38\\site-packages (0.8.2+cu110)\n",
      "Requirement already satisfied: numpy in c:\\users\\user\\.pyenv\\pyenv-win\\versions\\3.8.10\\lib\\site-packages (from torch==1.7.1+cu110) (1.22.3)\n",
      "Requirement already satisfied: typing-extensions in c:\\users\\user\\.pyenv\\pyenv-win\\versions\\3.8.10\\lib\\site-packages (from torch==1.7.1+cu110) (4.1.1)\n",
      "Requirement already satisfied: pillow>=4.1.1 in c:\\users\\user\\.pyenv\\pyenv-win\\versions\\3.8.10\\lib\\site-packages (from torchvision) (9.1.0)\n"
     ]
    },
    {
     "name": "stderr",
     "output_type": "stream",
     "text": [
      "┌ Info: Precompiling PyCall [438e738f-606a-5dbb-bf0a-cddfbfd45ab0]\n",
      "└ @ Base loading.jl:1423\n",
      "WARNING: There was an error checking the latest version of pip.\n"
     ]
    },
    {
     "data": {
      "text/plain": [
       "Process(`\u001b[4m'C:\\Users\\user\\.pyenv\\pyenv-win\\versions\\3.8.10\\python.exe'\u001b[24m \u001b[4m-m\u001b[24m \u001b[4mpip\u001b[24m \u001b[4minstall\u001b[24m \u001b[4m-f\u001b[24m \u001b[4mhttps://download.pytorch.org/whl/torch_stable.html\u001b[24m \u001b[4mtorch==1.7.1+cu110\u001b[24m \u001b[4mtorchvision\u001b[24m`, ProcessExited(0))"
      ]
     },
     "execution_count": 1,
     "metadata": {},
     "output_type": "execute_result"
    }
   ],
   "source": [
    "using PyCall\n",
    "\n",
    "run(`$(PyCall.python) -m pip install -f https://download.pytorch.org/whl/torch_stable.html torch==1.7.1+cu110 torchvision`)"
   ]
  },
  {
   "cell_type": "code",
   "execution_count": 1,
   "metadata": {},
   "outputs": [
    {
     "name": "stderr",
     "output_type": "stream",
     "text": [
      "\u001b[32m\u001b[1m    Updating\u001b[22m\u001b[39m registry at `C:\\Users\\user\\.julia\\registries\\General.toml`\n",
      "\u001b[32m\u001b[1m   Resolving\u001b[22m\u001b[39m package versions...\n",
      "\u001b[32m\u001b[1m  No Changes\u001b[22m\u001b[39m to `C:\\Users\\user\\.julia\\environments\\v1.7\\Project.toml`\n",
      "\u001b[32m\u001b[1m  No Changes\u001b[22m\u001b[39m to `C:\\Users\\user\\.julia\\environments\\v1.7\\Manifest.toml`\n"
     ]
    }
   ],
   "source": [
    "using Pkg\n",
    "\n",
    "Pkg.add([\n",
    "    \"Revise\",\n",
    "    \"ProgressMeter\",\n",
    "    \"GLMakie\",\n",
    "    \"NaNStatistics\",\n",
    "    \"Distributions\"\n",
    "])"
   ]
  },
  {
   "cell_type": "code",
   "execution_count": null,
   "metadata": {},
   "outputs": [],
   "source": []
  }
 ],
 "metadata": {
  "kernelspec": {
   "display_name": "Julia 1.7.2",
   "language": "julia",
   "name": "julia-1.7"
  },
  "language_info": {
   "file_extension": ".jl",
   "mimetype": "application/julia",
   "name": "julia",
   "version": "1.7.2"
  },
  "orig_nbformat": 4
 },
 "nbformat": 4,
 "nbformat_minor": 2
}
