{
 "cells": [
  {
   "cell_type": "code",
   "execution_count": 1,
   "metadata": {},
   "outputs": [],
   "source": [
    "using ReinforcementLearning, StableRNGs, Flux, Flux.Losses\n",
    "\n",
    "function RL.Experiment(\n",
    "    ::Val{:JuliaRL},\n",
    "    ::Val{:BasicDQN},\n",
    "    ::Val{:CartPole},\n",
    "    ::Nothing;\n",
    "    seed = 123\n",
    ")\n",
    "    rng = StableRNG(seed)\n",
    "    env = CartPoleEnv(; T = Float32, rng = rng)\n",
    "    ns, na = length(state(env)), length(action_space(env))\n",
    "\n",
    "    policy = Agent(\n",
    "        policy = QBasedPolicy(\n",
    "            learner = BasicDQNLearner(\n",
    "                approximator = NeuralNetworkApproximator(\n",
    "                    model = Chain(\n",
    "                        Dense(ns, 128, relu; init = glorot_uniform(rng)),\n",
    "                        Dense(128, 128, relu; init = glorot_uniform(rng)),\n",
    "                        Dense(128, na; init = glorot_uniform(rng)),\n",
    "                    ) |> gpu,\n",
    "                    optimizer = ADAM(),\n",
    "                ),\n",
    "                batch_size = 32,\n",
    "                min_replay_history = 100,\n",
    "                loss_func = huber_loss,\n",
    "                rng = rng,\n",
    "            ),\n",
    "            explorer = EpsilonGreedyExplorer(\n",
    "                kind = :exp,\n",
    "                ϵ_stable = 0.01,\n",
    "                decay_steps = 500,\n",
    "                rng = rng,\n",
    "            ),\n",
    "        ),\n",
    "        trajectory = CircularArraySARTTrajectory(\n",
    "            capacity = 1000,\n",
    "            state = Vector{Float32} => (ns,),\n",
    "        ),\n",
    "    )\n",
    "    stop_condition = StopAfterStep(10_000, is_show_progress=!haskey(ENV, \"CI\"))\n",
    "    hook = TotalRewardPerEpisode()\n",
    "    Experiment(policy, env, stop_condition, hook, \"# BasicDQN <-> CartPole\")\n",
    "end"
   ]
  },
  {
   "cell_type": "code",
   "execution_count": 3,
   "metadata": {},
   "outputs": [
    {
     "data": {
      "text/latex": [
       "\\section{BasicDQN <-> CartPole}\n"
      ],
      "text/markdown": [
       "# BasicDQN <-> CartPole\n"
      ],
      "text/plain": [
       "\u001b[1m  BasicDQN <-> CartPole\u001b[22m\n",
       "\u001b[1m  ≡≡≡≡≡≡≡≡≡≡≡≡≡≡≡≡≡≡≡≡≡≡≡\u001b[22m"
      ]
     },
     "metadata": {},
     "output_type": "display_data"
    },
    {
     "name": "stderr",
     "output_type": "stream",
     "text": [
      "\u001b[32mProgress: 100%|█████████████████████████████████████████| Time: 0:00:34\u001b[39m\n"
     ]
    },
    {
     "name": "stdout",
     "output_type": "stream",
     "text": [
      "             ⠀⠀⠀⠀⠀⠀⠀⠀⠀\u001b[97;1mTotal reward per episode\u001b[0m⠀⠀⠀⠀⠀⠀⠀⠀⠀ \n",
      "             \u001b[38;5;8m┌────────────────────────────────────────┐\u001b[0m \n",
      "         \u001b[38;5;8m200\u001b[0m \u001b[38;5;8m│\u001b[0m⠀⠀⠀⠀⠀⠀⠀⠀⠀⠀⠀⠀⠀⠀⠀⠀⠀⠀⠀⠀⠀⠀\u001b[38;5;2m⢸\u001b[0m\u001b[38;5;2m⡎\u001b[0m\u001b[38;5;2m⠉\u001b[0m\u001b[38;5;2m⠉\u001b[0m\u001b[38;5;2m⠉\u001b[0m\u001b[38;5;2m⠉\u001b[0m\u001b[38;5;2m⠉\u001b[0m\u001b[38;5;2m⠉\u001b[0m\u001b[38;5;2m⠉\u001b[0m\u001b[38;5;2m⠉\u001b[0m\u001b[38;5;2m⠉\u001b[0m\u001b[38;5;2m⠉\u001b[0m\u001b[38;5;2m⠉\u001b[0m\u001b[38;5;2m⠉\u001b[0m\u001b[38;5;2m⠉\u001b[0m\u001b[38;5;2m⠉\u001b[0m\u001b[38;5;2m⠉\u001b[0m⠀\u001b[38;5;8m│\u001b[0m \u001b[38;5;8m\u001b[0m\n",
      "            \u001b[38;5;8m\u001b[0m \u001b[38;5;8m│\u001b[0m⠀⠀⠀⠀⠀⠀⠀⠀⠀⠀⠀⠀⠀⠀⠀⠀⠀⠀⠀⠀\u001b[38;5;2m⢰\u001b[0m⠀\u001b[38;5;2m⣾\u001b[0m\u001b[38;5;2m⡇\u001b[0m⠀⠀⠀⠀⠀⠀⠀⠀⠀⠀⠀⠀⠀⠀⠀⠀\u001b[38;5;8m│\u001b[0m \u001b[38;5;8m\u001b[0m\n",
      "            \u001b[38;5;8m\u001b[0m \u001b[38;5;8m│\u001b[0m⠀⠀⠀⠀⠀⠀⠀⠀⠀⠀⠀⠀⠀⠀⠀⠀⠀⠀⠀⠀\u001b[38;5;2m⢸\u001b[0m\u001b[38;5;2m⣰\u001b[0m\u001b[38;5;2m⡏\u001b[0m\u001b[38;5;2m⡇\u001b[0m⠀⠀⠀⠀⠀⠀⠀⠀⠀⠀⠀⠀⠀⠀⠀⠀\u001b[38;5;8m│\u001b[0m \u001b[38;5;8m\u001b[0m\n",
      "            \u001b[38;5;8m\u001b[0m \u001b[38;5;8m│\u001b[0m⠀⠀⠀⠀⠀⠀⠀⠀⠀⠀⠀⠀⠀⠀⠀⠀⠀⠀⠀⠀\u001b[38;5;2m⢸\u001b[0m\u001b[38;5;2m⣿\u001b[0m\u001b[38;5;2m⠃\u001b[0m⠀⠀⠀⠀⠀⠀⠀⠀⠀⠀⠀⠀⠀⠀⠀⠀⠀\u001b[38;5;8m│\u001b[0m \u001b[38;5;8m\u001b[0m\n",
      "            \u001b[38;5;8m\u001b[0m \u001b[38;5;8m│\u001b[0m⠀⠀⠀⠀⠀⠀⠀⠀⠀⠀⠀⠀⠀⠀⠀⠀⠀⠀⠀\u001b[38;5;2m⢠\u001b[0m\u001b[38;5;2m⣸\u001b[0m\u001b[38;5;2m⣿\u001b[0m⠀⠀⠀⠀⠀⠀⠀⠀⠀⠀⠀⠀⠀⠀⠀⠀⠀⠀\u001b[38;5;8m│\u001b[0m \u001b[38;5;8m\u001b[0m\n",
      "            \u001b[38;5;8m\u001b[0m \u001b[38;5;8m│\u001b[0m⠀⠀⠀⠀⠀⠀⠀⠀⠀⠀⠀⠀⠀⠀⠀⠀⠀⠀⠀\u001b[38;5;2m⡸\u001b[0m\u001b[38;5;2m⣿\u001b[0m\u001b[38;5;2m⡏\u001b[0m⠀⠀⠀⠀⠀⠀⠀⠀⠀⠀⠀⠀⠀⠀⠀⠀⠀⠀\u001b[38;5;8m│\u001b[0m \u001b[38;5;8m\u001b[0m\n",
      "            \u001b[38;5;8m\u001b[0m \u001b[38;5;8m│\u001b[0m⠀⠀⠀⠀⠀⠀⠀⠀⠀⠀⠀⠀⠀⠀⠀⠀⠀⠀⠀\u001b[38;5;2m⡇\u001b[0m\u001b[38;5;2m⡿\u001b[0m\u001b[38;5;2m⡇\u001b[0m⠀⠀⠀⠀⠀⠀⠀⠀⠀⠀⠀⠀⠀⠀⠀⠀⠀⠀\u001b[38;5;8m│\u001b[0m \u001b[38;5;8m\u001b[0m\n",
      "   Score    \u001b[38;5;8m\u001b[0m \u001b[38;5;8m│\u001b[0m⠀⠀⠀⠀⠀⠀⠀⠀⠀⠀⠀⠀⠀⠀⠀⠀⠀⠀\u001b[38;5;2m⢠\u001b[0m\u001b[38;5;2m⡇\u001b[0m\u001b[38;5;2m⠃\u001b[0m\u001b[38;5;2m⠁\u001b[0m⠀⠀⠀⠀⠀⠀⠀⠀⠀⠀⠀⠀⠀⠀⠀⠀⠀⠀\u001b[38;5;8m│\u001b[0m \u001b[38;5;8m\u001b[0m\n",
      "            \u001b[38;5;8m\u001b[0m \u001b[38;5;8m│\u001b[0m⠀⠀⠀⠀⠀⠀⠀⠀⠀⠀⠀⠀⠀⠀⠀⠀⠀⠀\u001b[38;5;2m⣼\u001b[0m\u001b[38;5;2m⡇\u001b[0m⠀⠀⠀⠀⠀⠀⠀⠀⠀⠀⠀⠀⠀⠀⠀⠀⠀⠀⠀⠀\u001b[38;5;8m│\u001b[0m \u001b[38;5;8m\u001b[0m\n",
      "            \u001b[38;5;8m\u001b[0m \u001b[38;5;8m│\u001b[0m⠀⠀⠀⠀⠀⠀⠀⠀⠀⠀⠀⠀⠀⠀⠀\u001b[38;5;2m⢀\u001b[0m⠀⠀\u001b[38;5;2m⣿\u001b[0m\u001b[38;5;2m⡇\u001b[0m⠀⠀⠀⠀⠀⠀⠀⠀⠀⠀⠀⠀⠀⠀⠀⠀⠀⠀⠀⠀\u001b[38;5;8m│\u001b[0m \u001b[38;5;8m\u001b[0m\n",
      "            \u001b[38;5;8m\u001b[0m \u001b[38;5;8m│\u001b[0m⠀⠀⠀⠀⠀⠀⠀⠀⠀⠀⠀⠀⠀⠀⠀\u001b[38;5;2m⣿\u001b[0m⠀\u001b[38;5;2m⢰\u001b[0m\u001b[38;5;2m⢹\u001b[0m\u001b[38;5;2m⡇\u001b[0m⠀⠀⠀⠀⠀⠀⠀⠀⠀⠀⠀⠀⠀⠀⠀⠀⠀⠀⠀⠀\u001b[38;5;8m│\u001b[0m \u001b[38;5;8m\u001b[0m\n",
      "            \u001b[38;5;8m\u001b[0m \u001b[38;5;8m│\u001b[0m⠀⠀⠀⠀⠀⠀⠀⠀⠀⠀⠀⠀⠀⠀⠀\u001b[38;5;2m⡿\u001b[0m\u001b[38;5;2m⠖\u001b[0m\u001b[38;5;2m⠊\u001b[0m\u001b[38;5;2m⠘\u001b[0m\u001b[38;5;2m⡇\u001b[0m⠀⠀⠀⠀⠀⠀⠀⠀⠀⠀⠀⠀⠀⠀⠀⠀⠀⠀⠀⠀\u001b[38;5;8m│\u001b[0m \u001b[38;5;8m\u001b[0m\n",
      "            \u001b[38;5;8m\u001b[0m \u001b[38;5;8m│\u001b[0m⠀\u001b[38;5;2m⢀\u001b[0m⠀⠀⠀\u001b[38;5;2m⣇\u001b[0m\u001b[38;5;2m⡄\u001b[0m⠀⠀\u001b[38;5;2m⣀\u001b[0m\u001b[38;5;2m⢀\u001b[0m\u001b[38;5;2m⢠\u001b[0m\u001b[38;5;2m⡄\u001b[0m⠀\u001b[38;5;2m⡀\u001b[0m\u001b[38;5;2m⡇\u001b[0m⠀⠀⠀\u001b[38;5;2m⡇\u001b[0m⠀⠀⠀⠀⠀⠀⠀⠀⠀⠀⠀⠀⠀⠀⠀⠀⠀⠀⠀⠀\u001b[38;5;8m│\u001b[0m \u001b[38;5;8m\u001b[0m\n",
      "            \u001b[38;5;8m\u001b[0m \u001b[38;5;8m│\u001b[0m\u001b[38;5;2m⢢\u001b[0m\u001b[38;5;2m⠜\u001b[0m\u001b[38;5;2m⡆\u001b[0m\u001b[38;5;2m⣄\u001b[0m\u001b[38;5;2m⡜\u001b[0m\u001b[38;5;2m⢸\u001b[0m\u001b[38;5;2m⠛\u001b[0m\u001b[38;5;2m⣶\u001b[0m\u001b[38;5;2m⣇\u001b[0m\u001b[38;5;2m⠟\u001b[0m\u001b[38;5;2m⡜\u001b[0m\u001b[38;5;2m⣼\u001b[0m\u001b[38;5;2m⠣\u001b[0m\u001b[38;5;2m⢤\u001b[0m\u001b[38;5;2m⢻\u001b[0m⠀⠀⠀⠀⠀⠀⠀⠀⠀⠀⠀⠀⠀⠀⠀⠀⠀⠀⠀⠀⠀⠀⠀⠀⠀\u001b[38;5;8m│\u001b[0m \u001b[38;5;8m\u001b[0m\n",
      "           \u001b[38;5;8m0\u001b[0m \u001b[38;5;8m│\u001b[0m⠀⠀\u001b[38;5;2m⠈\u001b[0m⠀⠀\u001b[38;5;2m⠈\u001b[0m⠀\u001b[38;5;2m⠈\u001b[0m\u001b[38;5;2m⠈\u001b[0m⠀\u001b[38;5;2m⠃\u001b[0m⠀⠀\u001b[38;5;2m⠈\u001b[0m⠀⠀⠀⠀⠀⠀⠀⠀⠀⠀⠀⠀⠀⠀⠀⠀⠀⠀⠀⠀⠀⠀⠀⠀⠀⠀\u001b[38;5;8m│\u001b[0m \u001b[38;5;8m\u001b[0m\n",
      "             \u001b[38;5;8m└────────────────────────────────────────┘\u001b[0m \n",
      "             ⠀\u001b[38;5;8m0\u001b[0m⠀⠀⠀⠀⠀⠀⠀⠀⠀⠀⠀⠀⠀⠀⠀⠀⠀⠀\u001b[38;5;8m\u001b[0m⠀⠀⠀⠀⠀⠀⠀⠀⠀⠀⠀⠀⠀⠀⠀⠀⠀⠀⠀\u001b[38;5;8m90\u001b[0m⠀ \n",
      "             ⠀⠀⠀⠀⠀⠀⠀⠀⠀⠀⠀⠀⠀⠀⠀⠀⠀⠀Episode⠀⠀⠀⠀⠀⠀⠀⠀⠀⠀⠀⠀⠀⠀⠀⠀⠀ \n",
      " 34.236013 seconds (46.80 M allocations: 2.578 GiB, 2.09% gc time)\n"
     ]
    },
    {
     "data": {
      "image/svg+xml": "<?xml version=\"1.0\" encoding=\"utf-8\"?>\n<svg xmlns=\"http://www.w3.org/2000/svg\" xmlns:xlink=\"http://www.w3.org/1999/xlink\" width=\"600\" height=\"400\" viewBox=\"0 0 2400 1600\">\n<defs>\n  <clipPath id=\"clip310\">\n    <rect x=\"0\" y=\"0\" width=\"2400\" height=\"1600\"/>\n  </clipPath>\n</defs>\n<path clip-path=\"url(#clip310)\" d=\"\nM0 1600 L2400 1600 L2400 0 L0 0  Z\n  \" fill=\"#ffffff\" fill-rule=\"evenodd\" fill-opacity=\"1\"/>\n<defs>\n  <clipPath id=\"clip311\">\n    <rect x=\"480\" y=\"0\" width=\"1681\" height=\"1600\"/>\n  </clipPath>\n</defs>\n<path clip-path=\"url(#clip310)\" d=\"\nM170.857 1486.45 L2352.76 1486.45 L2352.76 47.2441 L170.857 47.2441  Z\n  \" fill=\"#ffffff\" fill-rule=\"evenodd\" fill-opacity=\"1\"/>\n<defs>\n  <clipPath id=\"clip312\">\n    <rect x=\"170\" y=\"47\" width=\"2183\" height=\"1440\"/>\n  </clipPath>\n</defs>\n<polyline clip-path=\"url(#clip312)\" style=\"stroke:#000000; stroke-linecap:butt; stroke-linejoin:round; stroke-width:2; stroke-opacity:0.1; fill:none\" points=\"\n  208.95,1486.45 208.95,47.2441 \n  \"/>\n<polyline clip-path=\"url(#clip312)\" style=\"stroke:#000000; stroke-linecap:butt; stroke-linejoin:round; stroke-width:2; stroke-opacity:0.1; fill:none\" points=\"\n  682.144,1486.45 682.144,47.2441 \n  \"/>\n<polyline clip-path=\"url(#clip312)\" style=\"stroke:#000000; stroke-linecap:butt; stroke-linejoin:round; stroke-width:2; stroke-opacity:0.1; fill:none\" points=\"\n  1155.34,1486.45 1155.34,47.2441 \n  \"/>\n<polyline clip-path=\"url(#clip312)\" style=\"stroke:#000000; stroke-linecap:butt; stroke-linejoin:round; stroke-width:2; stroke-opacity:0.1; fill:none\" points=\"\n  1628.53,1486.45 1628.53,47.2441 \n  \"/>\n<polyline clip-path=\"url(#clip312)\" style=\"stroke:#000000; stroke-linecap:butt; stroke-linejoin:round; stroke-width:2; stroke-opacity:0.1; fill:none\" points=\"\n  2101.73,1486.45 2101.73,47.2441 \n  \"/>\n<polyline clip-path=\"url(#clip310)\" style=\"stroke:#000000; stroke-linecap:butt; stroke-linejoin:round; stroke-width:4; stroke-opacity:1; fill:none\" points=\"\n  170.857,1486.45 2352.76,1486.45 \n  \"/>\n<polyline clip-path=\"url(#clip310)\" style=\"stroke:#000000; stroke-linecap:butt; stroke-linejoin:round; stroke-width:4; stroke-opacity:1; fill:none\" points=\"\n  208.95,1486.45 208.95,1467.55 \n  \"/>\n<polyline clip-path=\"url(#clip310)\" style=\"stroke:#000000; stroke-linecap:butt; stroke-linejoin:round; stroke-width:4; stroke-opacity:1; fill:none\" points=\"\n  682.144,1486.45 682.144,1467.55 \n  \"/>\n<polyline clip-path=\"url(#clip310)\" style=\"stroke:#000000; stroke-linecap:butt; stroke-linejoin:round; stroke-width:4; stroke-opacity:1; fill:none\" points=\"\n  1155.34,1486.45 1155.34,1467.55 \n  \"/>\n<polyline clip-path=\"url(#clip310)\" style=\"stroke:#000000; stroke-linecap:butt; stroke-linejoin:round; stroke-width:4; stroke-opacity:1; fill:none\" points=\"\n  1628.53,1486.45 1628.53,1467.55 \n  \"/>\n<polyline clip-path=\"url(#clip310)\" style=\"stroke:#000000; stroke-linecap:butt; stroke-linejoin:round; stroke-width:4; stroke-opacity:1; fill:none\" points=\"\n  2101.73,1486.45 2101.73,1467.55 \n  \"/>\n<path clip-path=\"url(#clip310)\" d=\"M208.95 1517.37 Q205.338 1517.37 203.51 1520.93 Q201.704 1524.47 201.704 1531.6 Q201.704 1538.71 203.51 1542.27 Q205.338 1545.82 208.95 1545.82 Q212.584 1545.82 214.389 1542.27 Q216.218 1538.71 216.218 1531.6 Q216.218 1524.47 214.389 1520.93 Q212.584 1517.37 208.95 1517.37 M208.95 1513.66 Q214.76 1513.66 217.815 1518.27 Q220.894 1522.85 220.894 1531.6 Q220.894 1540.33 217.815 1544.94 Q214.76 1549.52 208.95 1549.52 Q203.139 1549.52 200.061 1544.94 Q197.005 1540.33 197.005 1531.6 Q197.005 1522.85 200.061 1518.27 Q203.139 1513.66 208.95 1513.66 Z\" fill=\"#000000\" fill-rule=\"evenodd\" fill-opacity=\"1\" /><path clip-path=\"url(#clip310)\" d=\"M660.917 1544.91 L677.236 1544.91 L677.236 1548.85 L655.292 1548.85 L655.292 1544.91 Q657.954 1542.16 662.537 1537.53 Q667.144 1532.88 668.324 1531.53 Q670.57 1529.01 671.449 1527.27 Q672.352 1525.51 672.352 1523.82 Q672.352 1521.07 670.408 1519.33 Q668.486 1517.6 665.385 1517.6 Q663.186 1517.6 660.732 1518.36 Q658.301 1519.13 655.524 1520.68 L655.524 1515.95 Q658.348 1514.82 660.801 1514.24 Q663.255 1513.66 665.292 1513.66 Q670.662 1513.66 673.857 1516.35 Q677.051 1519.03 677.051 1523.52 Q677.051 1525.65 676.241 1527.57 Q675.454 1529.47 673.348 1532.07 Q672.769 1532.74 669.667 1535.95 Q666.565 1539.15 660.917 1544.91 Z\" fill=\"#000000\" fill-rule=\"evenodd\" fill-opacity=\"1\" /><path clip-path=\"url(#clip310)\" d=\"M697.051 1517.37 Q693.44 1517.37 691.611 1520.93 Q689.806 1524.47 689.806 1531.6 Q689.806 1538.71 691.611 1542.27 Q693.44 1545.82 697.051 1545.82 Q700.685 1545.82 702.491 1542.27 Q704.32 1538.71 704.32 1531.6 Q704.32 1524.47 702.491 1520.93 Q700.685 1517.37 697.051 1517.37 M697.051 1513.66 Q702.861 1513.66 705.917 1518.27 Q708.995 1522.85 708.995 1531.6 Q708.995 1540.33 705.917 1544.94 Q702.861 1549.52 697.051 1549.52 Q691.241 1549.52 688.162 1544.94 Q685.107 1540.33 685.107 1531.6 Q685.107 1522.85 688.162 1518.27 Q691.241 1513.66 697.051 1513.66 Z\" fill=\"#000000\" fill-rule=\"evenodd\" fill-opacity=\"1\" /><path clip-path=\"url(#clip310)\" d=\"M1143.51 1518.36 L1131.7 1536.81 L1143.51 1536.81 L1143.51 1518.36 M1142.28 1514.29 L1148.16 1514.29 L1148.16 1536.81 L1153.09 1536.81 L1153.09 1540.7 L1148.16 1540.7 L1148.16 1548.85 L1143.51 1548.85 L1143.51 1540.7 L1127.91 1540.7 L1127.91 1536.19 L1142.28 1514.29 Z\" fill=\"#000000\" fill-rule=\"evenodd\" fill-opacity=\"1\" /><path clip-path=\"url(#clip310)\" d=\"M1170.82 1517.37 Q1167.21 1517.37 1165.38 1520.93 Q1163.58 1524.47 1163.58 1531.6 Q1163.58 1538.71 1165.38 1542.27 Q1167.21 1545.82 1170.82 1545.82 Q1174.46 1545.82 1176.26 1542.27 Q1178.09 1538.71 1178.09 1531.6 Q1178.09 1524.47 1176.26 1520.93 Q1174.46 1517.37 1170.82 1517.37 M1170.82 1513.66 Q1176.63 1513.66 1179.69 1518.27 Q1182.77 1522.85 1182.77 1531.6 Q1182.77 1540.33 1179.69 1544.94 Q1176.63 1549.52 1170.82 1549.52 Q1165.01 1549.52 1161.94 1544.94 Q1158.88 1540.33 1158.88 1531.6 Q1158.88 1522.85 1161.94 1518.27 Q1165.01 1513.66 1170.82 1513.66 Z\" fill=\"#000000\" fill-rule=\"evenodd\" fill-opacity=\"1\" /><path clip-path=\"url(#clip310)\" d=\"M1613.94 1529.7 Q1610.79 1529.7 1608.94 1531.86 Q1607.11 1534.01 1607.11 1537.76 Q1607.11 1541.49 1608.94 1543.66 Q1610.79 1545.82 1613.94 1545.82 Q1617.09 1545.82 1618.91 1543.66 Q1620.77 1541.49 1620.77 1537.76 Q1620.77 1534.01 1618.91 1531.86 Q1617.09 1529.7 1613.94 1529.7 M1623.22 1515.05 L1623.22 1519.31 Q1621.46 1518.48 1619.65 1518.04 Q1617.87 1517.6 1616.11 1517.6 Q1611.48 1517.6 1609.03 1520.72 Q1606.6 1523.85 1606.25 1530.17 Q1607.62 1528.15 1609.68 1527.09 Q1611.74 1526 1614.22 1526 Q1619.42 1526 1622.43 1529.17 Q1625.47 1532.32 1625.47 1537.76 Q1625.47 1543.08 1622.32 1546.3 Q1619.17 1549.52 1613.94 1549.52 Q1607.94 1549.52 1604.77 1544.94 Q1601.6 1540.33 1601.6 1531.6 Q1601.6 1523.41 1605.49 1518.55 Q1609.38 1513.66 1615.93 1513.66 Q1617.69 1513.66 1619.47 1514.01 Q1621.28 1514.36 1623.22 1515.05 Z\" fill=\"#000000\" fill-rule=\"evenodd\" fill-opacity=\"1\" /><path clip-path=\"url(#clip310)\" d=\"M1643.52 1517.37 Q1639.91 1517.37 1638.08 1520.93 Q1636.28 1524.47 1636.28 1531.6 Q1636.28 1538.71 1638.08 1542.27 Q1639.91 1545.82 1643.52 1545.82 Q1647.15 1545.82 1648.96 1542.27 Q1650.79 1538.71 1650.79 1531.6 Q1650.79 1524.47 1648.96 1520.93 Q1647.15 1517.37 1643.52 1517.37 M1643.52 1513.66 Q1649.33 1513.66 1652.39 1518.27 Q1655.46 1522.85 1655.46 1531.6 Q1655.46 1540.33 1652.39 1544.94 Q1649.33 1549.52 1643.52 1549.52 Q1637.71 1549.52 1634.63 1544.94 Q1631.58 1540.33 1631.58 1531.6 Q1631.58 1522.85 1634.63 1518.27 Q1637.71 1513.66 1643.52 1513.66 Z\" fill=\"#000000\" fill-rule=\"evenodd\" fill-opacity=\"1\" /><path clip-path=\"url(#clip310)\" d=\"M2086.6 1532.44 Q2083.27 1532.44 2081.34 1534.22 Q2079.45 1536 2079.45 1539.13 Q2079.45 1542.25 2081.34 1544.03 Q2083.27 1545.82 2086.6 1545.82 Q2089.93 1545.82 2091.85 1544.03 Q2093.78 1542.23 2093.78 1539.13 Q2093.78 1536 2091.85 1534.22 Q2089.96 1532.44 2086.6 1532.44 M2081.92 1530.45 Q2078.91 1529.7 2077.22 1527.64 Q2075.56 1525.58 2075.56 1522.62 Q2075.56 1518.48 2078.5 1516.07 Q2081.46 1513.66 2086.6 1513.66 Q2091.76 1513.66 2094.7 1516.07 Q2097.64 1518.48 2097.64 1522.62 Q2097.64 1525.58 2095.95 1527.64 Q2094.28 1529.7 2091.3 1530.45 Q2094.68 1531.23 2096.55 1533.52 Q2098.45 1535.82 2098.45 1539.13 Q2098.45 1544.15 2095.37 1546.83 Q2092.32 1549.52 2086.6 1549.52 Q2080.88 1549.52 2077.8 1546.83 Q2074.75 1544.15 2074.75 1539.13 Q2074.75 1535.82 2076.65 1533.52 Q2078.54 1531.23 2081.92 1530.45 M2080.21 1523.06 Q2080.21 1525.75 2081.88 1527.25 Q2083.57 1528.76 2086.6 1528.76 Q2089.61 1528.76 2091.3 1527.25 Q2093.01 1525.75 2093.01 1523.06 Q2093.01 1520.38 2091.3 1518.87 Q2089.61 1517.37 2086.6 1517.37 Q2083.57 1517.37 2081.88 1518.87 Q2080.21 1520.38 2080.21 1523.06 Z\" fill=\"#000000\" fill-rule=\"evenodd\" fill-opacity=\"1\" /><path clip-path=\"url(#clip310)\" d=\"M2116.76 1517.37 Q2113.15 1517.37 2111.32 1520.93 Q2109.52 1524.47 2109.52 1531.6 Q2109.52 1538.71 2111.32 1542.27 Q2113.15 1545.82 2116.76 1545.82 Q2120.4 1545.82 2122.2 1542.27 Q2124.03 1538.71 2124.03 1531.6 Q2124.03 1524.47 2122.2 1520.93 Q2120.4 1517.37 2116.76 1517.37 M2116.76 1513.66 Q2122.57 1513.66 2125.63 1518.27 Q2128.71 1522.85 2128.71 1531.6 Q2128.71 1540.33 2125.63 1544.94 Q2122.57 1549.52 2116.76 1549.52 Q2110.95 1549.52 2107.87 1544.94 Q2104.82 1540.33 2104.82 1531.6 Q2104.82 1522.85 2107.87 1518.27 Q2110.95 1513.66 2116.76 1513.66 Z\" fill=\"#000000\" fill-rule=\"evenodd\" fill-opacity=\"1\" /><polyline clip-path=\"url(#clip312)\" style=\"stroke:#000000; stroke-linecap:butt; stroke-linejoin:round; stroke-width:2; stroke-opacity:0.1; fill:none\" points=\"\n  170.857,1159.88 2352.76,1159.88 \n  \"/>\n<polyline clip-path=\"url(#clip312)\" style=\"stroke:#000000; stroke-linecap:butt; stroke-linejoin:round; stroke-width:2; stroke-opacity:0.1; fill:none\" points=\"\n  170.857,802.576 2352.76,802.576 \n  \"/>\n<polyline clip-path=\"url(#clip312)\" style=\"stroke:#000000; stroke-linecap:butt; stroke-linejoin:round; stroke-width:2; stroke-opacity:0.1; fill:none\" points=\"\n  170.857,445.276 2352.76,445.276 \n  \"/>\n<polyline clip-path=\"url(#clip312)\" style=\"stroke:#000000; stroke-linecap:butt; stroke-linejoin:round; stroke-width:2; stroke-opacity:0.1; fill:none\" points=\"\n  170.857,87.9763 2352.76,87.9763 \n  \"/>\n<polyline clip-path=\"url(#clip310)\" style=\"stroke:#000000; stroke-linecap:butt; stroke-linejoin:round; stroke-width:4; stroke-opacity:1; fill:none\" points=\"\n  170.857,1486.45 170.857,47.2441 \n  \"/>\n<polyline clip-path=\"url(#clip310)\" style=\"stroke:#000000; stroke-linecap:butt; stroke-linejoin:round; stroke-width:4; stroke-opacity:1; fill:none\" points=\"\n  170.857,1159.88 189.755,1159.88 \n  \"/>\n<polyline clip-path=\"url(#clip310)\" style=\"stroke:#000000; stroke-linecap:butt; stroke-linejoin:round; stroke-width:4; stroke-opacity:1; fill:none\" points=\"\n  170.857,802.576 189.755,802.576 \n  \"/>\n<polyline clip-path=\"url(#clip310)\" style=\"stroke:#000000; stroke-linecap:butt; stroke-linejoin:round; stroke-width:4; stroke-opacity:1; fill:none\" points=\"\n  170.857,445.276 189.755,445.276 \n  \"/>\n<polyline clip-path=\"url(#clip310)\" style=\"stroke:#000000; stroke-linecap:butt; stroke-linejoin:round; stroke-width:4; stroke-opacity:1; fill:none\" points=\"\n  170.857,87.9763 189.755,87.9763 \n  \"/>\n<path clip-path=\"url(#clip310)\" d=\"M82.7975 1142.6 L101.154 1142.6 L101.154 1146.53 L87.0799 1146.53 L87.0799 1155 Q88.0984 1154.66 89.1169 1154.49 Q90.1354 1154.31 91.1539 1154.31 Q96.941 1154.31 100.321 1157.48 Q103.7 1160.65 103.7 1166.07 Q103.7 1171.65 100.228 1174.75 Q96.7558 1177.83 90.4364 1177.83 Q88.2604 1177.83 85.9919 1177.46 Q83.7466 1177.09 81.3392 1176.35 L81.3392 1171.65 Q83.4225 1172.78 85.6447 1173.34 Q87.8669 1173.89 90.3438 1173.89 Q94.3484 1173.89 96.6863 1171.79 Q99.0243 1169.68 99.0243 1166.07 Q99.0243 1162.46 96.6863 1160.35 Q94.3484 1158.24 90.3438 1158.24 Q88.4688 1158.24 86.5938 1158.66 Q84.7419 1159.08 82.7975 1159.96 L82.7975 1142.6 Z\" fill=\"#000000\" fill-rule=\"evenodd\" fill-opacity=\"1\" /><path clip-path=\"url(#clip310)\" d=\"M122.913 1145.67 Q119.302 1145.67 117.473 1149.24 Q115.668 1152.78 115.668 1159.91 Q115.668 1167.02 117.473 1170.58 Q119.302 1174.12 122.913 1174.12 Q126.547 1174.12 128.353 1170.58 Q130.182 1167.02 130.182 1159.91 Q130.182 1152.78 128.353 1149.24 Q126.547 1145.67 122.913 1145.67 M122.913 1141.97 Q128.723 1141.97 131.779 1146.58 Q134.857 1151.16 134.857 1159.91 Q134.857 1168.64 131.779 1173.24 Q128.723 1177.83 122.913 1177.83 Q117.103 1177.83 114.024 1173.24 Q110.969 1168.64 110.969 1159.91 Q110.969 1151.16 114.024 1146.58 Q117.103 1141.97 122.913 1141.97 Z\" fill=\"#000000\" fill-rule=\"evenodd\" fill-opacity=\"1\" /><path clip-path=\"url(#clip310)\" d=\"M53.3995 815.921 L61.0384 815.921 L61.0384 789.555 L52.7282 791.222 L52.7282 786.963 L60.9921 785.296 L65.668 785.296 L65.668 815.921 L73.3068 815.921 L73.3068 819.856 L53.3995 819.856 L53.3995 815.921 Z\" fill=\"#000000\" fill-rule=\"evenodd\" fill-opacity=\"1\" /><path clip-path=\"url(#clip310)\" d=\"M92.7512 788.375 Q89.1401 788.375 87.3114 791.939 Q85.5058 795.481 85.5058 802.611 Q85.5058 809.717 87.3114 813.282 Q89.1401 816.824 92.7512 816.824 Q96.3854 816.824 98.1909 813.282 Q100.02 809.717 100.02 802.611 Q100.02 795.481 98.1909 791.939 Q96.3854 788.375 92.7512 788.375 M92.7512 784.671 Q98.5613 784.671 101.617 789.277 Q104.696 793.861 104.696 802.611 Q104.696 811.337 101.617 815.944 Q98.5613 820.527 92.7512 820.527 Q86.941 820.527 83.8623 815.944 Q80.8068 811.337 80.8068 802.611 Q80.8068 793.861 83.8623 789.277 Q86.941 784.671 92.7512 784.671 Z\" fill=\"#000000\" fill-rule=\"evenodd\" fill-opacity=\"1\" /><path clip-path=\"url(#clip310)\" d=\"M122.913 788.375 Q119.302 788.375 117.473 791.939 Q115.668 795.481 115.668 802.611 Q115.668 809.717 117.473 813.282 Q119.302 816.824 122.913 816.824 Q126.547 816.824 128.353 813.282 Q130.182 809.717 130.182 802.611 Q130.182 795.481 128.353 791.939 Q126.547 788.375 122.913 788.375 M122.913 784.671 Q128.723 784.671 131.779 789.277 Q134.857 793.861 134.857 802.611 Q134.857 811.337 131.779 815.944 Q128.723 820.527 122.913 820.527 Q117.103 820.527 114.024 815.944 Q110.969 811.337 110.969 802.611 Q110.969 793.861 114.024 789.277 Q117.103 784.671 122.913 784.671 Z\" fill=\"#000000\" fill-rule=\"evenodd\" fill-opacity=\"1\" /><path clip-path=\"url(#clip310)\" d=\"M53.3995 458.621 L61.0384 458.621 L61.0384 432.255 L52.7282 433.922 L52.7282 429.663 L60.9921 427.996 L65.668 427.996 L65.668 458.621 L73.3068 458.621 L73.3068 462.556 L53.3995 462.556 L53.3995 458.621 Z\" fill=\"#000000\" fill-rule=\"evenodd\" fill-opacity=\"1\" /><path clip-path=\"url(#clip310)\" d=\"M82.7975 427.996 L101.154 427.996 L101.154 431.931 L87.0799 431.931 L87.0799 440.403 Q88.0984 440.056 89.1169 439.894 Q90.1354 439.709 91.1539 439.709 Q96.941 439.709 100.321 442.88 Q103.7 446.052 103.7 451.468 Q103.7 457.047 100.228 460.149 Q96.7558 463.227 90.4364 463.227 Q88.2604 463.227 85.9919 462.857 Q83.7466 462.487 81.3392 461.746 L81.3392 457.047 Q83.4225 458.181 85.6447 458.737 Q87.8669 459.292 90.3438 459.292 Q94.3484 459.292 96.6863 457.186 Q99.0243 455.079 99.0243 451.468 Q99.0243 447.857 96.6863 445.751 Q94.3484 443.644 90.3438 443.644 Q88.4688 443.644 86.5938 444.061 Q84.7419 444.478 82.7975 445.357 L82.7975 427.996 Z\" fill=\"#000000\" fill-rule=\"evenodd\" fill-opacity=\"1\" /><path clip-path=\"url(#clip310)\" d=\"M122.913 431.075 Q119.302 431.075 117.473 434.64 Q115.668 438.181 115.668 445.311 Q115.668 452.417 117.473 455.982 Q119.302 459.524 122.913 459.524 Q126.547 459.524 128.353 455.982 Q130.182 452.417 130.182 445.311 Q130.182 438.181 128.353 434.64 Q126.547 431.075 122.913 431.075 M122.913 427.371 Q128.723 427.371 131.779 431.978 Q134.857 436.561 134.857 445.311 Q134.857 454.038 131.779 458.644 Q128.723 463.227 122.913 463.227 Q117.103 463.227 114.024 458.644 Q110.969 454.038 110.969 445.311 Q110.969 436.561 114.024 431.978 Q117.103 427.371 122.913 427.371 Z\" fill=\"#000000\" fill-rule=\"evenodd\" fill-opacity=\"1\" /><path clip-path=\"url(#clip310)\" d=\"M56.6171 101.321 L72.9365 101.321 L72.9365 105.256 L50.9921 105.256 L50.9921 101.321 Q53.6541 98.5665 58.2375 93.9369 Q62.8439 89.2841 64.0245 87.9416 Q66.2698 85.4184 67.1494 83.6823 Q68.0522 81.9231 68.0522 80.2333 Q68.0522 77.4786 66.1078 75.7425 Q64.1865 74.0064 61.0847 74.0064 Q58.8856 74.0064 56.4319 74.7703 Q54.0014 75.5342 51.2236 77.0851 L51.2236 72.3629 Q54.0477 71.2287 56.5014 70.65 Q58.955 70.0713 60.9921 70.0713 Q66.3624 70.0713 69.5568 72.7565 Q72.7513 75.4416 72.7513 79.9323 Q72.7513 82.062 71.9411 83.9832 Q71.1541 85.8814 69.0476 88.474 Q68.4689 89.1453 65.367 92.3628 Q62.2652 95.5573 56.6171 101.321 Z\" fill=\"#000000\" fill-rule=\"evenodd\" fill-opacity=\"1\" /><path clip-path=\"url(#clip310)\" d=\"M92.7512 73.775 Q89.1401 73.775 87.3114 77.3398 Q85.5058 80.8814 85.5058 88.011 Q85.5058 95.1174 87.3114 98.6822 Q89.1401 102.224 92.7512 102.224 Q96.3854 102.224 98.1909 98.6822 Q100.02 95.1174 100.02 88.011 Q100.02 80.8814 98.1909 77.3398 Q96.3854 73.775 92.7512 73.775 M92.7512 70.0713 Q98.5613 70.0713 101.617 74.6777 Q104.696 79.261 104.696 88.011 Q104.696 96.7378 101.617 101.344 Q98.5613 105.928 92.7512 105.928 Q86.941 105.928 83.8623 101.344 Q80.8068 96.7378 80.8068 88.011 Q80.8068 79.261 83.8623 74.6777 Q86.941 70.0713 92.7512 70.0713 Z\" fill=\"#000000\" fill-rule=\"evenodd\" fill-opacity=\"1\" /><path clip-path=\"url(#clip310)\" d=\"M122.913 73.775 Q119.302 73.775 117.473 77.3398 Q115.668 80.8814 115.668 88.011 Q115.668 95.1174 117.473 98.6822 Q119.302 102.224 122.913 102.224 Q126.547 102.224 128.353 98.6822 Q130.182 95.1174 130.182 88.011 Q130.182 80.8814 128.353 77.3398 Q126.547 73.775 122.913 73.775 M122.913 70.0713 Q128.723 70.0713 131.779 74.6777 Q134.857 79.261 134.857 88.011 Q134.857 96.7378 131.779 101.344 Q128.723 105.928 122.913 105.928 Q117.103 105.928 114.024 101.344 Q110.969 96.7378 110.969 88.011 Q110.969 79.261 114.024 74.6777 Q117.103 70.0713 122.913 70.0713 Z\" fill=\"#000000\" fill-rule=\"evenodd\" fill-opacity=\"1\" /><polyline clip-path=\"url(#clip312)\" style=\"stroke:#009af9; stroke-linecap:butt; stroke-linejoin:round; stroke-width:4; stroke-opacity:1; fill:none\" points=\"\n  232.609,1352.82 256.269,1402.84 279.929,1381.4 303.588,1324.23 327.248,1381.4 350.908,1424.28 374.568,1395.69 398.227,1417.13 421.887,1402.84 445.547,1395.69 \n  469.206,1367.11 492.866,1245.63 516.526,1431.42 540.185,1288.5 563.845,1359.96 587.505,1367.11 611.165,1438.57 634.824,1345.67 658.484,1402.84 682.144,1438.57 \n  705.803,1317.09 729.463,1309.94 753.123,1445.72 776.783,1302.8 800.442,1381.4 824.102,1417.13 847.762,1281.36 871.421,1352.82 895.081,1388.55 918.741,1388.55 \n  942.401,1424.28 966.06,1309.94 989.72,1417.13 1013.38,1317.09 1037.04,1016.96 1060.7,1195.61 1084.36,1159.88 1108.02,1181.31 1131.68,1181.31 1155.34,1131.29 \n  1179,1016.96 1202.66,816.868 1226.32,1302.8 1249.98,531.028 1273.64,552.466 1297.3,788.284 1320.96,223.75 1344.62,773.992 1368.28,316.648 1391.94,402.4 \n  1415.59,87.9763 1439.25,366.67 1462.91,87.9763 1486.57,87.9763 1510.23,87.9763 1533.89,87.9763 1557.55,87.9763 1581.21,87.9763 1604.87,87.9763 1628.53,87.9763 \n  1652.19,87.9763 1675.85,87.9763 1699.51,87.9763 1723.17,87.9763 1746.83,87.9763 1770.49,87.9763 1794.15,87.9763 1817.81,87.9763 1841.47,87.9763 1865.13,87.9763 \n  1888.79,87.9763 1912.45,87.9763 1936.11,87.9763 1959.77,87.9763 1983.43,87.9763 2007.09,87.9763 2030.75,87.9763 2054.41,87.9763 2078.07,87.9763 2101.73,87.9763 \n  2125.39,87.9763 2149.05,87.9763 2172.71,87.9763 2196.37,87.9763 2220.02,87.9763 2243.68,87.9763 2267.34,87.9763 2291,87.9763 \n  \"/>\n<path clip-path=\"url(#clip310)\" d=\"\nM1985.16 198.898 L2280.03 198.898 L2280.03 95.2176 L1985.16 95.2176  Z\n  \" fill=\"#ffffff\" fill-rule=\"evenodd\" fill-opacity=\"1\"/>\n<polyline clip-path=\"url(#clip310)\" style=\"stroke:#000000; stroke-linecap:butt; stroke-linejoin:round; stroke-width:4; stroke-opacity:1; fill:none\" points=\"\n  1985.16,198.898 2280.03,198.898 2280.03,95.2176 1985.16,95.2176 1985.16,198.898 \n  \"/>\n<polyline clip-path=\"url(#clip310)\" style=\"stroke:#009af9; stroke-linecap:butt; stroke-linejoin:round; stroke-width:4; stroke-opacity:1; fill:none\" points=\"\n  2009.41,147.058 2154.87,147.058 \n  \"/>\n<path clip-path=\"url(#clip310)\" d=\"M2192.95 166.745 Q2191.15 171.375 2189.43 172.787 Q2187.72 174.199 2184.85 174.199 L2181.45 174.199 L2181.45 170.634 L2183.95 170.634 Q2185.71 170.634 2186.68 169.8 Q2187.65 168.967 2188.83 165.865 L2189.6 163.921 L2179.11 138.412 L2183.62 138.412 L2191.72 158.689 L2199.83 138.412 L2204.34 138.412 L2192.95 166.745 Z\" fill=\"#000000\" fill-rule=\"evenodd\" fill-opacity=\"1\" /><path clip-path=\"url(#clip310)\" d=\"M2211.63 160.402 L2219.27 160.402 L2219.27 134.037 L2210.96 135.703 L2210.96 131.444 L2219.22 129.778 L2223.9 129.778 L2223.9 160.402 L2231.54 160.402 L2231.54 164.338 L2211.63 164.338 L2211.63 160.402 Z\" fill=\"#000000\" fill-rule=\"evenodd\" fill-opacity=\"1\" /></svg>\n"
     },
     "execution_count": 3,
     "metadata": {},
     "output_type": "execute_result"
    }
   ],
   "source": [
    "using Plots\n",
    "\n",
    "ex = E`JuliaRL_BasicDQN_CartPole`\n",
    "@time run(ex)\n",
    "plot(ex.hook.rewards)"
   ]
  },
  {
   "cell_type": "code",
   "execution_count": 5,
   "metadata": {},
   "outputs": [
    {
     "data": {
      "text/latex": [
       "DQN <-> Demo\n",
       "\n"
      ],
      "text/markdown": [
       "DQN <-> Demo\n"
      ],
      "text/plain": [
       "  DQN <-> Demo"
      ]
     },
     "metadata": {},
     "output_type": "display_data"
    },
    {
     "data": {
      "text/latex": [
       "DQN <-> Demo\n",
       "\n"
      ],
      "text/markdown": [
       "DQN <-> Demo\n"
      ],
      "text/plain": [
       "  DQN <-> Demo"
      ]
     },
     "metadata": {},
     "output_type": "display_data"
    },
    {
     "data": {
      "text/plain": [
       "typename(Experiment)\n",
       "├─ policy => typename(Agent)\n",
       "│  ├─ policy => typename(QBasedPolicy)\n",
       "│  │  ├─ learner => typename(BasicDQNLearner)\n",
       "│  │  │  ├─ approximator => typename(NeuralNetworkApproximator)\n",
       "│  │  │  │  ├─ model => typename(Chain)\n",
       "│  │  │  │  │  └─ layers\n",
       "│  │  │  │  │     ├─ 1\n",
       "│  │  │  │  │     │  └─ typename(Dense)\n",
       "│  │  │  │  │     │     ├─ weight => 128×4 CUDA.CuArray{Float32, 2, CUDA.Mem.DeviceBuffer}\n",
       "│  │  │  │  │     │     ├─ bias => 128-element CUDA.CuArray{Float32, 1, CUDA.Mem.DeviceBuffer}\n",
       "│  │  │  │  │     │     └─ σ => typename(typeof(relu))\n",
       "│  │  │  │  │     ├─ 2\n",
       "│  │  │  │  │     │  └─ typename(Dense)\n",
       "│  │  │  │  │     │     ├─ weight => 128×128 CUDA.CuArray{Float32, 2, CUDA.Mem.DeviceBuffer}\n",
       "│  │  │  │  │     │     ├─ bias => 128-element CUDA.CuArray{Float32, 1, CUDA.Mem.DeviceBuffer}\n",
       "│  │  │  │  │     │     └─ σ => typename(typeof(relu))\n",
       "│  │  │  │  │     └─ 3\n",
       "│  │  │  │  │        └─ typename(Dense)\n",
       "│  │  │  │  │           ├─ weight => 2×128 CUDA.CuArray{Float32, 2, CUDA.Mem.DeviceBuffer}\n",
       "│  │  │  │  │           ├─ bias => 2-element CUDA.CuArray{Float32, 1, CUDA.Mem.DeviceBuffer}\n",
       "│  │  │  │  │           └─ σ => typename(typeof(identity))\n",
       "│  │  │  │  └─ optimizer => typename(ADAM)\n",
       "│  │  │  │     ├─ eta => 0.001\n",
       "│  │  │  │     ├─ beta\n",
       "│  │  │  │     │  ├─ 1\n",
       "│  │  │  │     │  │  └─ 0.9\n",
       "│  │  │  │     │  └─ 2\n",
       "│  │  │  │     │     └─ 0.999\n",
       "│  │  │  │     ├─ epsilon => 1.0e-8\n",
       "│  │  │  │     └─ state => typename(IdDict)\n",
       "│  │  │  ├─ loss_func => typename(typeof(huber_loss))\n",
       "│  │  │  ├─ γ => 0.99\n",
       "│  │  │  ├─ sampler => typename(BatchSampler)\n",
       "│  │  │  │  ├─ batch_size => 32\n",
       "│  │  │  │  ├─ cache => typename(NamedTuple)\n",
       "│  │  │  │  │  ├─ state => 4×32 Matrix{Float32}\n",
       "│  │  │  │  │  ├─ action => 32-element Vector{Int64}\n",
       "│  │  │  │  │  ├─ reward => 32-element Vector{Float32}\n",
       "│  │  │  │  │  ├─ terminal => 32-element Vector{Bool}\n",
       "│  │  │  │  │  └─ next_state => 4×32 Matrix{Float32}\n",
       "│  │  │  │  └─ rng => typename(Random._GLOBAL_RNG)\n",
       "│  │  │  ├─ min_replay_history => 100\n",
       "│  │  │  ├─ rng => typename(StableRNGs.LehmerRNG)\n",
       "│  │  │  └─ loss => 1.5847143\n",
       "│  │  └─ explorer => typename(EpsilonGreedyExplorer)\n",
       "│  │     ├─ ϵ_stable => 0.01\n",
       "│  │     ├─ ϵ_init => 1.0\n",
       "│  │     ├─ warmup_steps => 0\n",
       "│  │     ├─ decay_steps => 500\n",
       "│  │     ├─ step => 10202\n",
       "│  │     ├─ rng => typename(StableRNGs.LehmerRNG)\n",
       "│  │     └─ is_training => true\n",
       "│  └─ trajectory => typename(Trajectory)\n",
       "│     └─ traces => typename(NamedTuple)\n",
       "│        ├─ state => 4×1001 CircularArrayBuffers.CircularArrayBuffer{Float32, 2, Matrix{Float32}}\n",
       "│        ├─ action => 1001-element CircularArrayBuffers.CircularVectorBuffer{Int64, Vector{Int64}}\n",
       "│        ├─ reward => 1000-element CircularArrayBuffers.CircularVectorBuffer{Float32, Vector{Float32}}\n",
       "│        └─ terminal => 1000-element CircularArrayBuffers.CircularVectorBuffer{Bool, Vector{Bool}}\n",
       "├─ env => typename(CartPoleEnv)\n",
       "├─ stop_condition => typename(StopWhenDone)\n",
       "├─ hook => typename(RolloutHook)\n",
       "│  ├─ render => typename(typeof(plot))\n",
       "│  └─ close => typename(typeof(closeall))\n",
       "└─ description => \"DQN <-> Demo\"\n"
      ]
     },
     "execution_count": 5,
     "metadata": {},
     "output_type": "execute_result"
    }
   ],
   "source": [
    "demo = Experiment(\n",
    "    ex.policy,\n",
    "    CartPoleEnv(),\n",
    "    StopWhenDone(),\n",
    "    RolloutHook(plot, closeall),\n",
    "    \"DQN <-> Demo\"\n",
    ")\n",
    "run(demo)"
   ]
  },
  {
   "cell_type": "code",
   "execution_count": null,
   "metadata": {},
   "outputs": [],
   "source": []
  }
 ],
 "metadata": {
  "kernelspec": {
   "display_name": "Julia 1.7.2",
   "language": "julia",
   "name": "julia-1.7"
  },
  "language_info": {
   "file_extension": ".jl",
   "mimetype": "application/julia",
   "name": "julia",
   "version": "1.7.2"
  },
  "orig_nbformat": 4
 },
 "nbformat": 4,
 "nbformat_minor": 2
}
