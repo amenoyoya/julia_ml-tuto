{
 "cells": [
  {
   "cell_type": "markdown",
   "metadata": {},
   "source": [
    "# Makie.jl の sysimage を作成して初回起動を高速化する\n",
    "\n",
    "[参考](https://zenn.dev/kb_satou/articles/3d7f1f70aea885)\n",
    "\n",
    "## Makie.jl の sysimage 作成\n",
    "\n",
    "[Makie.jl](https://makie.juliaplots.org/stable/) は純 Julia 製のプロットパッケージであり、非常に複雑なコードで形成されているため、初回のプロット表示に1分以上かかる\n",
    "\n",
    "流石に遅すぎて使いにくいため、[PackageCompiler.jl](https://github.com/JuliaLang/PackageCompiler.jl) を使って sysimage を作成してみる\n",
    "\n",
    "### sysimage とは\n",
    "Julia は JITコンパイラを採用しており、コードを Just-in-Time 方式でコンパイルしてから実行している\n",
    "\n",
    "このとき、初回実行時のコンパイルしたコードの状態を保存したものが sysimage である\n",
    "\n",
    "sysimage を使うことで、JITコンパイルの時間を削減し、初回実行を高速化することができる"
   ]
  },
  {
   "cell_type": "code",
   "execution_count": 1,
   "metadata": {},
   "outputs": [
    {
     "name": "stderr",
     "output_type": "stream",
     "text": [
      "\u001b[32m\u001b[1m    Updating\u001b[22m\u001b[39m registry at `C:\\Users\\user\\.julia\\registries\\General.toml`\n",
      "\u001b[32m\u001b[1m   Resolving\u001b[22m\u001b[39m package versions...\n",
      "\u001b[32m\u001b[1m  No Changes\u001b[22m\u001b[39m to `C:\\Users\\user\\.julia\\environments\\v1.7\\Project.toml`\n",
      "\u001b[32m\u001b[1m  No Changes\u001b[22m\u001b[39m to `C:\\Users\\user\\.julia\\environments\\v1.7\\Manifest.toml`\n"
     ]
    }
   ],
   "source": [
    "using Pkg\n",
    "\n",
    "# PackageCompiler.jl インストール\n",
    "Pkg.add(\"PackageCompiler\")"
   ]
  },
  {
   "cell_type": "code",
   "execution_count": 1,
   "metadata": {},
   "outputs": [
    {
     "name": "stdout",
     "output_type": "stream",
     "text": [
      "224.802117 seconds (19.42 M allocations: 1.021 GiB, 0.19% gc time, 2.52% compilation time)\n"
     ]
    },
    {
     "name": "stderr",
     "output_type": "stream",
     "text": [
      "┌ Info: PackageCompiler: Executing d:\\github\\julia_ml-tuto\\etc\\visualization\\makie\\MakieSysImage.jl => C:\\Users\\user\\AppData\\Local\\Temp\\jl_packagecompiler_X9Ez0P\\jl_3577.tmp\n",
      "└ @ PackageCompiler C:\\Users\\user\\.julia\\packages\\PackageCompiler\\X7R0D\\src\\PackageCompiler.jl:237\n",
      "┌ Info: PackageCompiler: Done\n",
      "└ @ PackageCompiler C:\\Users\\user\\.julia\\packages\\PackageCompiler\\X7R0D\\src\\PackageCompiler.jl:239\n",
      "- PackageCompiler: compiling incremental system image\n"
     ]
    }
   ],
   "source": [
    "using PackageCompiler\n",
    "\n",
    "# sysimage 化するコードの作成\n",
    "## ./MakieSysImage.jl\n",
    "# * GLMakie パッケージのみを sysimage 化しても良いのだが\n",
    "##  特にコンパイル時間が多くかかるのは図・軸の作成部分であるため\n",
    "##  図・軸の作成を行うコードを含めて sysimage 化した方が速くなる\n",
    "inputfile = \"./MakieSysImage.jl\"\n",
    "open(inputfile, \"w\") do fp\n",
    "    write(fp, \"\"\"\n",
    "using GLMakie\n",
    "\n",
    "fig = Figure()\n",
    "plt = fig[1, 1]\n",
    "ax = Axis(plt)\n",
    "    \"\"\")\n",
    "end\n",
    "\n",
    "# sysimage の出力先ディレクトリの作成\n",
    "## $HOME/.julia/sysimage/GLMakie.dylib\n",
    "outputdir = joinpath(homedir(), \".julia\", \"sysimage\")\n",
    "outputfile = joinpath(outputdir, \"GLMakie.dylib\")\n",
    "if !isdir(outputdir)\n",
    "    mkdir(outputdir)\n",
    "end\n",
    "\n",
    "# sysimage 作成\n",
    "## => 4分弱で完了\n",
    "@time create_sysimage(\n",
    "    [:GLMakie];\n",
    "    precompile_execution_file = inputfile,\n",
    "    sysimage_path = outputfile\n",
    ")"
   ]
  },
  {
   "cell_type": "markdown",
   "metadata": {},
   "source": [
    "## Jupyter Kernel with sysimage 作成\n",
    "\n",
    "Jupyter 上で作成した sysimage を使うえるようにするには、sysimage を読み込む Jupyter Kernel を別途作成する必要がある\n",
    "\n",
    "IJulia 環境においては `IJulia.installkernel` 関数で Jupyter Kernel を作成することができる"
   ]
  },
  {
   "cell_type": "code",
   "execution_count": 2,
   "metadata": {},
   "outputs": [
    {
     "name": "stderr",
     "output_type": "stream",
     "text": [
      "┌ Info: Installing Julia 1.7 with sysimage kernelspec in C:\\Users\\user\\AppData\\Roaming\\jupyter\\kernels\\julia-1.7-with-sysimage-1.7\n",
      "└ @ IJulia C:\\Users\\user\\.julia\\packages\\IJulia\\AQu2H\\deps\\kspec.jl:94\n"
     ]
    },
    {
     "data": {
      "text/plain": [
       "\"C:\\\\Users\\\\user\\\\AppData\\\\Roaming\\\\jupyter\\\\kernels\\\\julia-1.7-with-sysimage-1.7\""
      ]
     },
     "execution_count": 2,
     "metadata": {},
     "output_type": "execute_result"
    }
   ],
   "source": [
    "using IJulia\n",
    "\n",
    "# installkernel(kernel_name::String, kernel_option::String)\n",
    "## --sysimage オプション: 読み込む sysimage を絶対パスで指定\n",
    "installkernel(\"Julia 1.7 with sysimage\", \"--sysimage=$(outputfile)\")\n",
    "\n",
    "# => 以降 Julia 1.7 with sysimage カーネルを利用すれば GLMakie を高速起動できる"
   ]
  },
  {
   "cell_type": "code",
   "execution_count": 1,
   "metadata": {},
   "outputs": [
    {
     "name": "stdout",
     "output_type": "stream",
     "text": [
      "  0.002006 seconds (1.23 k allocations: 79.641 KiB, 84.70% compilation time)\n",
      "  1.799684 seconds (5.84 M allocations: 334.678 MiB, 4.26% gc time, 94.30% compilation time)\n"
     ]
    },
    {
     "data": {
      "image/png": "[encoded data removed]",
      "text/plain": [
       "Figure()"
      ]
     },
     "execution_count": 1,
     "metadata": {},
     "output_type": "execute_result"
    }
   ],
   "source": [
    "@time using GLMakie\n",
    "@time (() -> begin\n",
    "    fig = Figure(resolution=(300, 300))\n",
    "    plt = fig[1, 1]\n",
    "    ax = Axis(plt)\n",
    "\n",
    "    scatter!(plt, rand(10, 2))\n",
    "    fig\n",
    "end)()"
   ]
  },
  {
   "cell_type": "code",
   "execution_count": null,
   "metadata": {},
   "outputs": [],
   "source": []
  }
 ],
 "metadata": {
  "kernelspec": {
   "display_name": "Julia 1.7 with sysimage 1.7.2",
   "language": "julia",
   "name": "julia-1.7-with-sysimage-1.7"
  },
  "language_info": {
   "file_extension": ".jl",
   "mimetype": "application/julia",
   "name": "julia",
   "version": "1.7.2"
  },
  "orig_nbformat": 4
 },
 "nbformat": 4,
 "nbformat_minor": 2
}
