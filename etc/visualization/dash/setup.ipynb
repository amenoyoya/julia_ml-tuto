{
 "cells": [
  {
   "cell_type": "markdown",
   "metadata": {},
   "source": [
    "# Dash.jl\n",
    "\n",
    "- [Dash](https://dash.plotly.com)\n",
    "    - Plotly.js, React.js ベースのデータ可視化 Python フレームワーク\n",
    "    - 最近は [streamlit](https://streamlit.io/) に勢いが押され気味\n",
    "        - streamlit の方が、見た目がモダンでシンプルに書ける\n",
    "        - Dash は HTML を自分で書けるためレイアウトの柔軟性が高い\n",
    "- [Dash.jl](https://dash.plotly.com/julia)\n",
    "    - Dash の Julia ポート"
   ]
  },
  {
   "cell_type": "code",
   "execution_count": 1,
   "metadata": {},
   "outputs": [
    {
     "name": "stderr",
     "output_type": "stream",
     "text": [
      "\u001b[32m\u001b[1m    Updating\u001b[22m\u001b[39m `C:\\Users\\user\\.julia\\environments\\v1.7\\Project.toml`\n",
      " \u001b[90m [cd3eb016] \u001b[39m\u001b[91m- HTTP v0.9.17\u001b[39m\n",
      "\u001b[32m\u001b[1m  No Changes\u001b[22m\u001b[39m to `C:\\Users\\user\\.julia\\environments\\v1.7\\Manifest.toml`\n",
      "\u001b[32m\u001b[1m    Updating\u001b[22m\u001b[39m registry at `C:\\Users\\user\\.julia\\registries\\General.toml`\n",
      "\u001b[32m\u001b[1m   Resolving\u001b[22m\u001b[39m package versions...\n",
      "\u001b[32m\u001b[1m    Updating\u001b[22m\u001b[39m `C:\\Users\\user\\.julia\\environments\\v1.7\\Project.toml`\n",
      " \u001b[90m [cd3eb016] \u001b[39m\u001b[92m+ HTTP v0.9.17\u001b[39m\n",
      "\u001b[32m\u001b[1m  No Changes\u001b[22m\u001b[39m to `C:\\Users\\user\\.julia\\environments\\v1.7\\Manifest.toml`\n"
     ]
    }
   ],
   "source": [
    "using Pkg\n",
    "\n",
    "# Dash.jl は HTTP.jl (stable) に依存するため\n",
    "# HTTP.jl (develop) をインストールしている場合は再インストールする\n",
    "Pkg.rm(\"HTTP\")\n",
    "Pkg.add([\"HTTP\", \"Dash\"])"
   ]
  },
  {
   "cell_type": "code",
   "execution_count": null,
   "metadata": {},
   "outputs": [],
   "source": []
  }
 ],
 "metadata": {
  "kernelspec": {
   "display_name": "Julia 1.7.2",
   "language": "julia",
   "name": "julia-1.7"
  },
  "language_info": {
   "file_extension": ".jl",
   "mimetype": "application/julia",
   "name": "julia",
   "version": "1.7.2"
  },
  "orig_nbformat": 4
 },
 "nbformat": 4,
 "nbformat_minor": 2
}
