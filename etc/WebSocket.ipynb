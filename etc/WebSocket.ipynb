{
 "cells": [
  {
   "cell_type": "code",
   "execution_count": 1,
   "metadata": {},
   "outputs": [
    {
     "name": "stderr",
     "output_type": "stream",
     "text": [
      "\u001b[32m\u001b[1m    Updating\u001b[22m\u001b[39m registry at `C:\\Users\\user\\.julia\\registries\\General.toml`\n",
      "\u001b[32m\u001b[1m   Resolving\u001b[22m\u001b[39m package versions...\n",
      "\u001b[32m\u001b[1m  No Changes\u001b[22m\u001b[39m to `C:\\Users\\user\\.julia\\environments\\v1.7\\Project.toml`\n",
      "\u001b[32m\u001b[1m  No Changes\u001b[22m\u001b[39m to `C:\\Users\\user\\.julia\\environments\\v1.7\\Manifest.toml`\n",
      "\u001b[32m\u001b[1m    Updating\u001b[22m\u001b[39m git-repo `https://github.com/JuliaWeb/HTTP.jl.git`\n",
      "\u001b[32m\u001b[1m   Resolving\u001b[22m\u001b[39m package versions...\n",
      "\u001b[32m\u001b[1m  No Changes\u001b[22m\u001b[39m to `C:\\Users\\user\\.julia\\environments\\v1.7\\Project.toml`\n",
      "\u001b[32m\u001b[1m  No Changes\u001b[22m\u001b[39m to `C:\\Users\\user\\.julia\\environments\\v1.7\\Manifest.toml`\n"
     ]
    }
   ],
   "source": [
    "using Pkg\n",
    "\n",
    "# LogRoller.jl: ローテーション可能なロギングを可能にするパッケージ\n",
    "Pkg.add(\"LogRoller\")\n",
    "\n",
    "# HTTP.jl: 最新の master ブランチからインストール\n",
    "Pkg.add(PackageSpec(name=\"HTTP\", rev=\"master\"))"
   ]
  },
  {
   "cell_type": "code",
   "execution_count": 1,
   "metadata": {},
   "outputs": [
    {
     "data": {
      "text/plain": [
       "createWebSocketClient"
      ]
     },
     "execution_count": 1,
     "metadata": {},
     "output_type": "execute_result"
    }
   ],
   "source": [
    "using HTTP, LogRoller, Logging, Sockets\n",
    "\n",
    "\"\"\"\n",
    "Global Logger: RollingLogger\n",
    "- file name: \"./WebSocket.log\"\n",
    "- size limit: 1MB (1,000,000 bytes)\n",
    "- maintain rotated file count: 3\n",
    "- log level: Debug\n",
    "\"\"\"\n",
    "# Set global logger.\n",
    "global_logger(\n",
    "    RollingLogger(\"./WebSocket.log\", 1_000_000, 3, Logging.Debug)\n",
    ")\n",
    "\n",
    "\"\"\"\n",
    "    createWebSocketServer(; hostname::String = \"127.0.0.1\", port::UInt16 = UInt16(8081))\n",
    "        -> (server::IOServer, task::Task)\n",
    "\n",
    "Create WebSocket Server.\n",
    "\"\"\"\n",
    "createWebSocketServer(; hostname::String = \"127.0.0.1\", port::UInt16 = UInt16(8081)) = begin\n",
    "    server = Sockets.listen(Sockets.InetAddr(parse(IPAddr, hostname), port))\n",
    "    task = @async HTTP.WebSockets.listen(hostname, port; server = server) do ws\n",
    "        # タスク内のエラー処理は明示的に try-catch した方が良い\n",
    "        try\n",
    "            for msg in ws\n",
    "                HTTP.WebSockets.send(ws, msg)\n",
    "            end\n",
    "        catch e\n",
    "            @error \"WebSocketServer Error\" exception=(e, catch_backtrace())\n",
    "            rethrow() # プロセスを終了するために rethrow する\n",
    "        end\n",
    "    end\n",
    "    server, task\n",
    "end\n",
    "\n",
    "\"\"\"\n",
    "    createWebSocketClient(endpoint::String)\n",
    "        -> (task::Task, in_channel::Channel, out_channel::Channel)\n",
    "\n",
    "Create WebSocket Client.\n",
    "\n",
    "- channels:\n",
    "    - in_channel:\n",
    "        - type: `String`\n",
    "        - size: 1\n",
    "    - out_channel:\n",
    "        - type `Any`\n",
    "        - size: 1\n",
    "- events:\n",
    "    - in_channel: `exit`\n",
    "        - Terminate the websocket client.\n",
    "    - in_channel: `send:{any_string_data}`\n",
    "        - Send `any_string_data` to the websocket server.\n",
    "        - Response data will be written in out_channel: `Response: {any_string_data}`\n",
    "    - in_channel: `exec:{function_name}`\n",
    "        - Execute function to websocket stream: `function_name(ws::HTTP.Stream)`\n",
    "        - Function return value will be written in out_channel.\n",
    "\"\"\"\n",
    "createWebSocketClient(endpoint::String) = begin\n",
    "    c_in = Channel{String}(1)\n",
    "    c_out = Channel(1)\n",
    "    task = @async HTTP.WebSockets.open(endpoint) do ws\n",
    "        # タスク内のエラー処理は明示的に try-catch した方が良い\n",
    "        try\n",
    "            # WebSocket の疎通が続く限りループする\n",
    "            ## https://juliaweb.github.io/HTTP.jl/dev/reference/#HTTP.WebSockets.isclosed\n",
    "            while !HTTP.WebSockets.isclosed(ws)\n",
    "                # WebSocket PING 疎通確認\n",
    "                try\n",
    "                    HTTP.WebSockets.ping(ws)\n",
    "                catch\n",
    "                    break\n",
    "                end\n",
    "\n",
    "                command = take!(c_in) # wait until the in_channel is entered.\n",
    "                commands = string.(split(command, \":\", keepempty=false))\n",
    "\n",
    "                @debug commands\n",
    "\n",
    "                if commands[1] === \"exit\"\n",
    "                    @info \"Terminate websocket client...\"\n",
    "                    break\n",
    "                elseif commands[1] === \"send\"\n",
    "                    HTTP.WebSockets.send(ws, commands[2])\n",
    "                    response = HTTP.WebSockets.receive(ws)\n",
    "                    put!(c_out, string(\"Response: \", response))\n",
    "                elseif commands[1] === \"exec\"\n",
    "                    f = Symbol(commands[2])\n",
    "                    output = @eval $f($ws)\n",
    "                    @debug output\n",
    "                    put!(c_out, output)\n",
    "                end\n",
    "            end\n",
    "        catch e\n",
    "            @error \"WebSocketClient Error\" exception=(e, catch_backtrace())\n",
    "            showerror(stderr, e, catch_backtrace()) # コンソールにもエラー表示する\n",
    "            rethrow() # プロセスを終了するために rethrow する\n",
    "        end\n",
    "    end\n",
    "    task, c_in, c_out\n",
    "end"
   ]
  },
  {
   "cell_type": "code",
   "execution_count": 2,
   "metadata": {},
   "outputs": [
    {
     "data": {
      "text/plain": [
       "(Sockets.TCPServer(Base.Libc.WindowsRawSocket(0x0000000000000410) active), Task (runnable) @0x000000000de5e100)"
      ]
     },
     "execution_count": 2,
     "metadata": {},
     "output_type": "execute_result"
    }
   ],
   "source": [
    "server, server_task = createWebSocketServer()"
   ]
  },
  {
   "cell_type": "code",
   "execution_count": 3,
   "metadata": {},
   "outputs": [
    {
     "data": {
      "text/plain": [
       "(Task (runnable) @0x000000000f2b1180, Channel{String}(1), Channel{Any}(1))"
      ]
     },
     "execution_count": 3,
     "metadata": {},
     "output_type": "execute_result"
    }
   ],
   "source": [
    "client, c_in, c_out = createWebSocketClient(\"ws://127.0.0.1:8081\")"
   ]
  },
  {
   "cell_type": "code",
   "execution_count": 4,
   "metadata": {},
   "outputs": [
    {
     "data": {
      "text/plain": [
       "(false, false)"
      ]
     },
     "execution_count": 4,
     "metadata": {},
     "output_type": "execute_result"
    }
   ],
   "source": [
    "istaskdone(server_task), istaskdone(client)"
   ]
  },
  {
   "cell_type": "code",
   "execution_count": 5,
   "metadata": {},
   "outputs": [
    {
     "data": {
      "text/plain": [
       "\"send:Hello WebSocket!!\""
      ]
     },
     "execution_count": 5,
     "metadata": {},
     "output_type": "execute_result"
    }
   ],
   "source": [
    "# Send data (\"Hello WebSocket!!\") to the WebSocket client.\n",
    "put!(c_in, \"send:Hello WebSocket!!\")"
   ]
  },
  {
   "cell_type": "code",
   "execution_count": 6,
   "metadata": {},
   "outputs": [
    {
     "data": {
      "text/plain": [
       "\"Response: Hello WebSocket!!\""
      ]
     },
     "execution_count": 6,
     "metadata": {},
     "output_type": "execute_result"
    }
   ],
   "source": [
    "take!(c_out)"
   ]
  },
  {
   "cell_type": "code",
   "execution_count": 7,
   "metadata": {},
   "outputs": [
    {
     "data": {
      "text/plain": [
       "(true, false)"
      ]
     },
     "execution_count": 7,
     "metadata": {},
     "output_type": "execute_result"
    }
   ],
   "source": [
    "# Close WebSocket server.\n",
    "close(server)\n",
    "\n",
    "istaskdone(server_task), istaskdone(client)"
   ]
  },
  {
   "cell_type": "code",
   "execution_count": 8,
   "metadata": {},
   "outputs": [
    {
     "data": {
      "text/plain": [
       "\"send:Hello WebSocket!!\""
      ]
     },
     "execution_count": 8,
     "metadata": {},
     "output_type": "execute_result"
    }
   ],
   "source": [
    "# すでに閉じている WebSocket サーバにデータを送信した場合\n",
    "put!(c_in, \"send:Hello WebSocket!!\")"
   ]
  },
  {
   "cell_type": "code",
   "execution_count": 9,
   "metadata": {},
   "outputs": [
    {
     "data": {
      "text/plain": [
       "\"Response: Hello WebSocket!!\""
      ]
     },
     "execution_count": 9,
     "metadata": {},
     "output_type": "execute_result"
    }
   ],
   "source": [
    "take!(c_out)"
   ]
  },
  {
   "cell_type": "markdown",
   "metadata": {},
   "source": [
    "確認した感じ、WebSocket サーバが閉じても、クライアント側も同時に閉じるということはなさそう\n",
    "\n",
    "かつ、セッションが維持されていれば、通信も継続されるようである"
   ]
  },
  {
   "cell_type": "code",
   "execution_count": null,
   "metadata": {},
   "outputs": [],
   "source": []
  }
 ],
 "metadata": {
  "kernelspec": {
   "display_name": "Julia 1.7.2",
   "language": "julia",
   "name": "julia-1.7"
  },
  "language_info": {
   "file_extension": ".jl",
   "mimetype": "application/julia",
   "name": "julia",
   "version": "1.7.2"
  },
  "orig_nbformat": 4
 },
 "nbformat": 4,
 "nbformat_minor": 2
}
