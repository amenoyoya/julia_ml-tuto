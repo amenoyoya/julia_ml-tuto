{
 "cells": [
  {
   "cell_type": "code",
   "execution_count": 1,
   "metadata": {},
   "outputs": [
    {
     "name": "stderr",
     "output_type": "stream",
     "text": [
      "\u001b[32m\u001b[1m    Updating\u001b[22m\u001b[39m registry at `C:\\Users\\user\\.julia\\registries\\General.toml`\n",
      "\u001b[32m\u001b[1m   Resolving\u001b[22m\u001b[39m package versions...\n",
      "\u001b[32m\u001b[1m  No Changes\u001b[22m\u001b[39m to `C:\\Users\\user\\.julia\\environments\\v1.7\\Project.toml`\n",
      "\u001b[32m\u001b[1m  No Changes\u001b[22m\u001b[39m to `C:\\Users\\user\\.julia\\environments\\v1.7\\Manifest.toml`\n",
      "\u001b[32m\u001b[1m    Updating\u001b[22m\u001b[39m git-repo `https://github.com/JuliaWeb/HTTP.jl.git`\n",
      "\u001b[32m\u001b[1m   Resolving\u001b[22m\u001b[39m package versions...\n",
      "\u001b[32m\u001b[1m  No Changes\u001b[22m\u001b[39m to `C:\\Users\\user\\.julia\\environments\\v1.7\\Project.toml`\n",
      "\u001b[32m\u001b[1m  No Changes\u001b[22m\u001b[39m to `C:\\Users\\user\\.julia\\environments\\v1.7\\Manifest.toml`\n"
     ]
    }
   ],
   "source": [
    "using Pkg\n",
    "\n",
    "# LogRoller.jl: ローテーション可能なロギングを可能にするパッケージ\n",
    "Pkg.add(\"LogRoller\")\n",
    "\n",
    "# HTTP.jl: 最新の master ブランチからインストール\n",
    "Pkg.add(PackageSpec(name=\"HTTP\", rev=\"master\"))"
   ]
  },
  {
   "cell_type": "code",
   "execution_count": 1,
   "metadata": {},
   "outputs": [
    {
     "data": {
      "text/plain": [
       "createWebSocketClient"
      ]
     },
     "execution_count": 1,
     "metadata": {},
     "output_type": "execute_result"
    }
   ],
   "source": [
    "using HTTP, LogRoller, Logging, Sockets\n",
    "\n",
    "\"\"\"\n",
    "Global Logger: RollingLogger\n",
    "- file name: \"./WebSocket.log\"\n",
    "- size limit: 1MB (1,000,000 bytes)\n",
    "- maintain rotated file count: 3\n",
    "- log level: Debug\n",
    "\"\"\"\n",
    "# Set global logger.\n",
    "global_logger(\n",
    "    RollingLogger(\"./WebSocket.log\", 1_000_000, 3, Logging.Debug)\n",
    ")\n",
    "\n",
    "\"\"\"\n",
    "    createWebSocketServer(; hostname::String = \"127.0.0.1\", port::UInt16 = UInt16(8081))\n",
    "        -> (server::IOServer, task::Task)\n",
    "\n",
    "Create WebSocket Server.\n",
    "\"\"\"\n",
    "createWebSocketServer(; hostname::String = \"127.0.0.1\", port::UInt16 = UInt16(8081)) = begin\n",
    "    server = Sockets.listen(Sockets.InetAddr(parse(IPAddr, hostname), port))\n",
    "    task = @async HTTP.WebSockets.listen(hostname, port; server = server) do ws\n",
    "        # タスク内のエラー処理は明示的に try-catch した方が良い\n",
    "        try\n",
    "            for msg in ws\n",
    "                HTTP.WebSockets.send(ws, msg)\n",
    "            end\n",
    "        catch e\n",
    "            @error \"WebSocketServer Error\" exception=(e, catch_backtrace())\n",
    "            rethrow() # プロセスを終了するために rethrow する\n",
    "        end\n",
    "    end\n",
    "    server, task\n",
    "end\n",
    "\n",
    "\"\"\"\n",
    "    createWebSocketClient(endpoint::String)\n",
    "        -> (task::Task, in_channel::Channel, out_channel::Channel)\n",
    "\n",
    "Create WebSocket Client.\n",
    "\n",
    "- channels:\n",
    "    - in_channel:\n",
    "        - type: `String`\n",
    "        - size: 1\n",
    "    - out_channel:\n",
    "        - type `Any`\n",
    "        - size: 1\n",
    "- events:\n",
    "    - in_channel: `exit`\n",
    "        - Terminate the websocket client.\n",
    "    - in_channel: `send:{any_string_data}`\n",
    "        - Send `any_string_data` to the websocket server.\n",
    "        - Response data will be written in out_channel: `Response: {any_string_data}`\n",
    "    - in_channel: `exec:{function_name}`\n",
    "        - Execute function to websocket stream: `function_name(ws::HTTP.Stream)`\n",
    "        - Function return value will be written in out_channel.\n",
    "\"\"\"\n",
    "createWebSocketClient(endpoint::String) = begin\n",
    "    c_in = Channel{String}(1)\n",
    "    c_out = Channel(1)\n",
    "    task = @async HTTP.WebSockets.open(endpoint) do ws\n",
    "        # タスク内のエラー処理は明示的に try-catch した方が良い\n",
    "        try\n",
    "            # WebSocket の疎通が続く限りループする\n",
    "            ## https://juliaweb.github.io/HTTP.jl/dev/reference/#HTTP.WebSockets.isclosed\n",
    "            while !HTTP.WebSockets.isclosed(ws)\n",
    "                command = take!(c_in) # wait until the in_channel is entered.\n",
    "                commands = string.(split(command, \":\", keepempty=false))\n",
    "\n",
    "                @debug commands\n",
    "\n",
    "                if commands[1] === \"exit\"\n",
    "                    @info \"Terminate websocket client...\"\n",
    "                    break\n",
    "                elseif commands[1] === \"send\"\n",
    "                    HTTP.WebSockets.send(ws, commands[2])\n",
    "                    response = HTTP.WebSockets.receive(ws)\n",
    "                    put!(c_out, string(\"Response: \", response))\n",
    "                elseif commands[1] === \"exec\"\n",
    "                    f = Symbol(commands[2])\n",
    "                    output = @eval $f($ws)\n",
    "                    @debug output\n",
    "                    put!(c_out, output)\n",
    "                end\n",
    "            end\n",
    "        catch e\n",
    "            @error \"WebSocketClient Error\" exception=(e, catch_backtrace())\n",
    "            showerror(stderr, e, catch_backtrace()) # コンソールにもエラー表示する\n",
    "            rethrow() # プロセスを終了するために rethrow する\n",
    "        end\n",
    "    end\n",
    "    task, c_in, c_out\n",
    "end"
   ]
  },
  {
   "cell_type": "code",
   "execution_count": 2,
   "metadata": {},
   "outputs": [
    {
     "data": {
      "text/plain": [
       "(Sockets.TCPServer(Base.Libc.WindowsRawSocket(0x0000000000000410) active), Task (runnable) @0x000000000de5e100)"
      ]
     },
     "execution_count": 2,
     "metadata": {},
     "output_type": "execute_result"
    }
   ],
   "source": [
    "server, server_task = createWebSocketServer()"
   ]
  },
  {
   "cell_type": "code",
   "execution_count": 3,
   "metadata": {},
   "outputs": [
    {
     "data": {
      "text/plain": [
       "(Task (runnable) @0x000000000f2b1180, Channel{String}(1), Channel{Any}(1))"
      ]
     },
     "execution_count": 3,
     "metadata": {},
     "output_type": "execute_result"
    }
   ],
   "source": [
    "client, c_in, c_out = createWebSocketClient(\"ws://127.0.0.1:8081\")"
   ]
  },
  {
   "cell_type": "code",
   "execution_count": 4,
   "metadata": {},
   "outputs": [
    {
     "data": {
      "text/plain": [
       "(false, false)"
      ]
     },
     "execution_count": 4,
     "metadata": {},
     "output_type": "execute_result"
    }
   ],
   "source": [
    "istaskdone(server_task), istaskdone(client)"
   ]
  },
  {
   "cell_type": "code",
   "execution_count": 5,
   "metadata": {},
   "outputs": [
    {
     "data": {
      "text/plain": [
       "\"send:Hello WebSocket!!\""
      ]
     },
     "execution_count": 5,
     "metadata": {},
     "output_type": "execute_result"
    }
   ],
   "source": [
    "# Send data (\"Hello WebSocket!!\") to the WebSocket client.\n",
    "put!(c_in, \"send:Hello WebSocket!!\")"
   ]
  },
  {
   "cell_type": "code",
   "execution_count": 6,
   "metadata": {},
   "outputs": [
    {
     "data": {
      "text/plain": [
       "\"Response: Hello WebSocket!!\""
      ]
     },
     "execution_count": 6,
     "metadata": {},
     "output_type": "execute_result"
    }
   ],
   "source": [
    "take!(c_out)"
   ]
  },
  {
   "cell_type": "code",
   "execution_count": 7,
   "metadata": {},
   "outputs": [
    {
     "data": {
      "text/plain": [
       "(true, false)"
      ]
     },
     "execution_count": 7,
     "metadata": {},
     "output_type": "execute_result"
    }
   ],
   "source": [
    "# Close WebSocket server.\n",
    "close(server)\n",
    "\n",
    "istaskdone(server_task), istaskdone(client)"
   ]
  },
  {
   "cell_type": "code",
   "execution_count": 8,
   "metadata": {},
   "outputs": [
    {
     "data": {
      "text/plain": [
       "\"send:Hello WebSocket!!\""
      ]
     },
     "execution_count": 8,
     "metadata": {},
     "output_type": "execute_result"
    }
   ],
   "source": [
    "# すでに閉じている WebSocket サーバにデータを送信した場合\n",
    "put!(c_in, \"send:Hello WebSocket!!\")"
   ]
  },
  {
   "cell_type": "code",
   "execution_count": 9,
   "metadata": {},
   "outputs": [
    {
     "data": {
      "text/plain": [
       "\"Response: Hello WebSocket!!\""
      ]
     },
     "execution_count": 9,
     "metadata": {},
     "output_type": "execute_result"
    }
   ],
   "source": [
    "take!(c_out)"
   ]
  },
  {
   "cell_type": "markdown",
   "metadata": {},
   "source": [
    "確認した感じ、WebSocket サーバが閉じても、クライアント側も同時に閉じるということはなさそう\n",
    "\n",
    "そのため、クライアント側では定期的に Ping Pong 疎通確認をする必要がある"
   ]
  },
  {
   "cell_type": "code",
   "execution_count": 1,
   "metadata": {},
   "outputs": [
    {
     "data": {
      "text/plain": [
       "createWebSocketClient"
      ]
     },
     "execution_count": 1,
     "metadata": {},
     "output_type": "execute_result"
    }
   ],
   "source": [
    "using HTTP, LogRoller, Logging, Sockets\n",
    "\n",
    "\"\"\"\n",
    "    createWebSocketServer(; hostname::String = \"127.0.0.1\", port::UInt16 = UInt16(8081))\n",
    "        -> (server::IOServer, task::Task)\n",
    "\n",
    "Create WebSocket Server.\n",
    "\"\"\"\n",
    "createWebSocketServer(; hostname::String = \"127.0.0.1\", port::UInt16 = UInt16(8081)) = begin\n",
    "    server = Sockets.listen(Sockets.InetAddr(parse(IPAddr, hostname), port))\n",
    "    task = @async HTTP.WebSockets.listen(hostname, port; server = server) do ws\n",
    "        try\n",
    "            for msg in ws\n",
    "                HTTP.WebSockets.send(ws, msg)\n",
    "            end\n",
    "        catch e\n",
    "            @error \"WebSocketServer Error\" exception=(e, catch_backtrace())\n",
    "            rethrow() # プロセスを終了するために rethrow する\n",
    "        end\n",
    "    end\n",
    "    server, task\n",
    "end\n",
    "\n",
    "\"\"\"\n",
    "    createWebSocketClient(endpoint::String)\n",
    "        -> (task::Task, in_channel::Channel, out_channel::Channel)\n",
    "\n",
    "Create WebSocket Client.\n",
    "\n",
    "- channels:\n",
    "    - in_channel:\n",
    "        - type: `String`\n",
    "        - size: 1\n",
    "    - out_channel:\n",
    "        - type `Any`\n",
    "        - size: 1\n",
    "- events:\n",
    "    - in_channel: `exit`\n",
    "        - Terminate the websocket client.\n",
    "    - in_channel: `send:{any_string_data}`\n",
    "        - Send `any_string_data` to the websocket server.\n",
    "        - Response data will be written in out_channel: `Response: {any_string_data}`\n",
    "\"\"\"\n",
    "createWebSocketClient(endpoint::String) = begin\n",
    "    c_in = Channel{String}(1)\n",
    "    c_out = Channel(1)\n",
    "    task = @async HTTP.WebSockets.open(endpoint) do ws\n",
    "        # タスク内でサブタスクを作成したい場合は @sync ブロック内で行う\n",
    "        @sync begin\n",
    "            # メインタスク\n",
    "            maintask = @async try\n",
    "                while !HTTP.WebSockets.isclosed(ws)\n",
    "                    command = take!(c_in) # wait unitl command input\n",
    "                    commands = string.(split(command, \":\", keepempty=false))\n",
    "\n",
    "                    @debug commands\n",
    "\n",
    "                    if commands[1] === \"exit\"\n",
    "                        @info \"Terminate websocket client...\"\n",
    "                        break\n",
    "                    elseif commands[1] === \"send\"\n",
    "                        HTTP.WebSockets.send(ws, commands[2])\n",
    "                        response = HTTP.WebSockets.receive(ws)\n",
    "                        put!(c_out, string(\"Response: \", response))\n",
    "                    elseif commands[1] === \"exec\"\n",
    "                        f = Symbol(commands[2])\n",
    "                        output = @eval $f($ws)\n",
    "                        @debug output\n",
    "                        put!(c_out, output)\n",
    "                    end\n",
    "                end\n",
    "            catch e\n",
    "                @error \"WebSocketClient Error\" exception=(e, catch_backtrace())\n",
    "                showerror(stderr, e, catch_backtrace())\n",
    "                rethrow()\n",
    "            end\n",
    "\n",
    "            # Ping Pong 疎通確認タスク\n",
    "            pingtask = @async try\n",
    "                while !HTTP.WebSockets.isclosed(ws)\n",
    "                    HTTP.WebSockets.ping(ws)\n",
    "                    HTTP.WebSockets.pong(ws)\n",
    "                    sleep(1)\n",
    "                end\n",
    "            catch e\n",
    "                @error \"WebSocketClient Ping Error\" exception=(e, catch_backtrace())\n",
    "                showerror(stderr, e, catch_backtrace())\n",
    "                rethrow()\n",
    "            end\n",
    "        end\n",
    "    end\n",
    "    task, c_in, c_out\n",
    "end"
   ]
  },
  {
   "cell_type": "code",
   "execution_count": 2,
   "metadata": {},
   "outputs": [
    {
     "data": {
      "text/plain": [
       "(false, false)"
      ]
     },
     "execution_count": 2,
     "metadata": {},
     "output_type": "execute_result"
    }
   ],
   "source": [
    "server, server_task = createWebSocketServer()\n",
    "client, c_in, c_out = createWebSocketClient(\"ws://127.0.0.1:8081\")\n",
    "istaskdone(server_task), istaskdone(client)"
   ]
  },
  {
   "cell_type": "code",
   "execution_count": 3,
   "metadata": {},
   "outputs": [
    {
     "data": {
      "text/plain": [
       "\"Response: Hello WebSocket!!\""
      ]
     },
     "execution_count": 3,
     "metadata": {},
     "output_type": "execute_result"
    }
   ],
   "source": [
    "# Send data (\"Hello WebSocket!!\") to the WebSocket client.\n",
    "put!(c_in, \"send:Hello WebSocket!!\")\n",
    "take!(c_out)"
   ]
  },
  {
   "cell_type": "code",
   "execution_count": 4,
   "metadata": {},
   "outputs": [
    {
     "data": {
      "text/plain": [
       "(true, false)"
      ]
     },
     "execution_count": 4,
     "metadata": {},
     "output_type": "execute_result"
    }
   ],
   "source": [
    "# Close WebSocket server.\n",
    "close(server)\n",
    "\n",
    "sleep(0.01)\n",
    "\n",
    "istaskdone(server_task), istaskdone(client)"
   ]
  },
  {
   "cell_type": "code",
   "execution_count": 5,
   "metadata": {},
   "outputs": [
    {
     "name": "stderr",
     "output_type": "stream",
     "text": [
      "┌ Error: 2f3af80f-c6e2-4a51-818c-628eb580c335: error\n",
      "│   (e, catch_backtrace()) = (InterruptException(), Union{Ptr{Nothing}, Base.InterpreterIP}[Ptr{Nothing} @0x00000000106415c3, Ptr{Nothing} @0x00000000106417c7, Ptr{Nothing} @0x00000000103c971e, Ptr{Nothing} @0x00000000103c984a, Ptr{Nothing} @0x00000000109a3840, Ptr{Nothing} @0x00000000109adff4, Ptr{Nothing} @0x000000001cbdbe8a, Ptr{Nothing} @0x000000001cbe1e8b, Ptr{Nothing} @0x000000001cbe3e01, Ptr{Nothing} @0x000000001cbe4da9, Ptr{Nothing} @0x000000001cbe5445, Ptr{Nothing} @0x000000001cbe5c9f, Ptr{Nothing} @0x000000001cbe66a9, Ptr{Nothing} @0x000000001cbcca08, Ptr{Nothing} @0x000000001cbcda12, Ptr{Nothing} @0x000000001cbce451, Ptr{Nothing} @0x000000001cbcf35b, Ptr{Nothing} @0x000000001cbd00ef, Ptr{Nothing} @0x000000001cbd06ae, Ptr{Nothing} @0x000000001cbd0881, Ptr{Nothing} @0x000000001cbd08f4, Ptr{Nothing} @0x000000001cbb193d, Ptr{Nothing} @0x000000001cbb1ac8, Ptr{Nothing} @0x000000001cbacb2f, Ptr{Nothing} @0x000000001cbaf81a, Ptr{Nothing} @0x000000001cbafa69, Ptr{Nothing} @0x000000001cbafaf5, Ptr{Nothing} @0x000000001cb9ef76, Ptr{Nothing} @0x000000001cb9eff5, Ptr{Nothing} @0x000000001cb9d612, Ptr{Nothing} @0x000000001cb9d68c, Ptr{Nothing} @0x000000001cb9cbb0, Ptr{Nothing} @0x000000001cb9cce4, Ptr{Nothing} @0x000000001cb9cd65, Ptr{Nothing} @0x000000001cb9c093, Ptr{Nothing} @0x000000001cb9c25e, Ptr{Nothing} @0x000000001cb9c293, Ptr{Nothing} @0x0000000001f20c9f])\n",
      "└ @ HTTP.WebSockets C:\\Users\\user\\.julia\\packages\\HTTP\\GGNaX\\src\\WebSockets.jl:375\n"
     ]
    },
    {
     "data": {
      "text/plain": [
       "Task (runnable) @0x000000000f2ff840"
      ]
     },
     "execution_count": 5,
     "metadata": {},
     "output_type": "execute_result"
    }
   ],
   "source": [
    "# WebSocket Client タスク強制終了\n",
    "@async Base.throwto(client, InterruptException())"
   ]
  },
  {
   "cell_type": "code",
   "execution_count": 6,
   "metadata": {},
   "outputs": [
    {
     "name": "stderr",
     "output_type": "stream",
     "text": [
      "┌ Error: WebSocketServer Error\n",
      "│   exception = (HTTP.WebSockets.WebSocketError(HTTP.WebSockets.CloseFrameBody(1008, \"Unexpected client websocket error\")), Union{Ptr{Nothing}, Base.InterpreterIP}[Ptr{Nothing} @0x000000001cbde16a, Ptr{Nothing} @0x000000001cbdef66, Ptr{Nothing} @0x000000001cbdfddb, Ptr{Nothing} @0x000000001cbdfddb, Ptr{Nothing} @0x000000001cbdfddb, Ptr{Nothing} @0x000000001cbdfddb, Ptr{Nothing} @0x000000001cbdfddb, Ptr{Nothing} @0x000000001cbdfddb, Ptr{Nothing} @0x000000001cbf9188, Ptr{Nothing} @0x000000001cbf9438, Ptr{Nothing} @0x000000001cbfaa09, Ptr{Nothing} @0x000000001cbfcd23, Ptr{Nothing} @0x000000001cbfe127, Ptr{Nothing} @0x000000001cbf4969, Ptr{Nothing} @0x000000001cbf4d41, Ptr{Nothing} @0x000000001cbf4f0b, Ptr{Nothing} @0x000000001cbf3a7b, Ptr{Nothing} @0x000000001cbf485a, Ptr{Nothing} @0x0000000001f20c9f])\n",
      "└ @ Main In[1]:17\n",
      "┌ Error: 04af9b32-9c3c-41b0-924c-080a0b8f233b: Unexpected websocket server error\n",
      "│   (e, catch_backtrace()) = (HTTP.WebSockets.WebSocketError(HTTP.WebSockets.CloseFrameBody(1008, \"Unexpected client websocket error\")), Union{Ptr{Nothing}, Base.InterpreterIP}[Ptr{Nothing} @0x000000001cbde16a, Ptr{Nothing} @0x000000001cbdef66, Ptr{Nothing} @0x000000001cbdfddb, Ptr{Nothing} @0x000000001cbdfddb, Ptr{Nothing} @0x000000001cbdfddb, Ptr{Nothing} @0x000000001cbdfddb, Ptr{Nothing} @0x000000001cbdfddb, Ptr{Nothing} @0x000000001cbdfddb, Ptr{Nothing} @0x000000001cbf9188, Ptr{Nothing} @0x000000001cbf9438, Ptr{Nothing} @0x000000001cbfaa09, Ptr{Nothing} @0x000000001cbfcd23, Ptr{Nothing} @0x000000001cbfe127, Ptr{Nothing} @0x000000001cbf4969, Ptr{Nothing} @0x000000001cbf4d41, Ptr{Nothing} @0x000000001cbf4f0b, Ptr{Nothing} @0x000000001cbf3a7b, Ptr{Nothing} @0x000000001cbf485a, Ptr{Nothing} @0x0000000001f20c9f])\n",
      "└ @ HTTP.WebSockets C:\\Users\\user\\.julia\\packages\\HTTP\\GGNaX\\src\\WebSockets.jl:439\n"
     ]
    },
    {
     "data": {
      "text/plain": [
       "(true, true)"
      ]
     },
     "execution_count": 6,
     "metadata": {},
     "output_type": "execute_result"
    }
   ],
   "source": [
    "istaskdone(server_task), istaskdone(client)"
   ]
  },
  {
   "cell_type": "markdown",
   "metadata": {},
   "source": [
    "Ping Pong 疎通確認タスクを作成したが、上手く終了を検知できない\n",
    "\n",
    "そのため、定期的に WebSocket サーバに接続するタスクを別途作成するほうが確実かもしれない"
   ]
  },
  {
   "cell_type": "code",
   "execution_count": 1,
   "metadata": {},
   "outputs": [
    {
     "data": {
      "text/plain": [
       "createWebSocketMonitor"
      ]
     },
     "execution_count": 1,
     "metadata": {},
     "output_type": "execute_result"
    }
   ],
   "source": [
    "using HTTP, LogRoller, Logging, Sockets\n",
    "\n",
    "\"\"\"\n",
    "    createWebSocketServer(; hostname::String = \"127.0.0.1\", port::UInt16 = UInt16(8081))\n",
    "        -> (server::IOServer, task::Task)\n",
    "\n",
    "Create WebSocket Server.\n",
    "\"\"\"\n",
    "createWebSocketServer(; hostname::String = \"127.0.0.1\", port::UInt16 = UInt16(8081)) = begin\n",
    "    server = Sockets.listen(Sockets.InetAddr(parse(IPAddr, hostname), port))\n",
    "    task = @async HTTP.WebSockets.listen(hostname, port; server = server) do ws\n",
    "        try\n",
    "            for msg in ws\n",
    "                HTTP.WebSockets.send(ws, msg)\n",
    "            end\n",
    "        catch e\n",
    "            @error \"WebSocketServer Error\" exception=(e, catch_backtrace())\n",
    "            rethrow() # プロセスを終了するために rethrow する\n",
    "        end\n",
    "    end\n",
    "    server, task\n",
    "end\n",
    "\n",
    "\"\"\"\n",
    "    createWebSocketClient(endpoint::String)\n",
    "        -> (task::Task, in_channel::Channel, out_channel::Channel)\n",
    "\n",
    "Create WebSocket Client.\n",
    "\n",
    "- channels:\n",
    "    - in_channel:\n",
    "        - type: `String`\n",
    "        - size: 1\n",
    "    - out_channel:\n",
    "        - type `Any`\n",
    "        - size: 1\n",
    "- events:\n",
    "    - in_channel: `exit`\n",
    "        - Terminate the websocket client.\n",
    "    - in_channel: `send:{any_string_data}`\n",
    "        - Send `any_string_data` to the websocket server.\n",
    "        - Response data will be written in out_channel: `Response: {any_string_data}`\n",
    "\"\"\"\n",
    "createWebSocketClient(endpoint::String) = begin\n",
    "    c_in = Channel{String}(1)\n",
    "    c_out = Channel(1)\n",
    "    task = @async HTTP.WebSockets.open(endpoint) do ws\n",
    "        try\n",
    "            while !HTTP.WebSockets.isclosed(ws)\n",
    "                command = take!(c_in) # wait unitl command input\n",
    "                commands = string.(split(command, \":\", keepempty=false))\n",
    "\n",
    "                @debug commands\n",
    "\n",
    "                if commands[1] === \"exit\"\n",
    "                    @info \"Terminate websocket client...\"\n",
    "                    break\n",
    "                elseif commands[1] === \"send\"\n",
    "                    HTTP.WebSockets.send(ws, commands[2])\n",
    "                    response = HTTP.WebSockets.receive(ws)\n",
    "                    put!(c_out, string(\"Response: \", response))\n",
    "                elseif commands[1] === \"exec\"\n",
    "                    f = Symbol(commands[2])\n",
    "                    output = @eval $f($ws)\n",
    "                    @debug output\n",
    "                    put!(c_out, output)\n",
    "                end\n",
    "            end\n",
    "        catch e\n",
    "            @error \"WebSocketClient Error\" exception=(e, catch_backtrace())\n",
    "            showerror(stderr, e, catch_backtrace())\n",
    "            rethrow()\n",
    "        end\n",
    "    end\n",
    "    task, c_in, c_out\n",
    "end\n",
    "\n",
    "\"\"\"\n",
    "    createWebSocketMonitor(endpoint::String)\n",
    "        -> (task::Task, out_channel::Channel)\n",
    "\n",
    "Create task for monitoring WebSocket server.\n",
    "\n",
    "- channels:\n",
    "    - out_channel:\n",
    "        - type `Any`\n",
    "        - size: 1\n",
    "- events:\n",
    "    - When: The connection to endpoint is failed.\n",
    "        - Thrown error will be written in out_channel.\n",
    "\"\"\"\n",
    "createWebSocketMonitor(endpoint::String) = begin\n",
    "    c_out = Channel(1)\n",
    "    task = @async try\n",
    "        while true\n",
    "            sleep(1) # 毎秒実行\n",
    "            HTTP.WebSockets.open(endpoint) do ws\n",
    "                ping(ws)\n",
    "                pong(ws)\n",
    "            end\n",
    "        end\n",
    "    catch e\n",
    "        # エラーが発生したら out_channel に書き込み\n",
    "        push!(c_out, e)\n",
    "        rethrow()\n",
    "    end\n",
    "    task, c_out\n",
    "end"
   ]
  },
  {
   "cell_type": "code",
   "execution_count": 2,
   "metadata": {},
   "outputs": [
    {
     "data": {
      "text/plain": [
       "(false, false, false)"
      ]
     },
     "execution_count": 2,
     "metadata": {},
     "output_type": "execute_result"
    },
    {
     "name": "stderr",
     "output_type": "stream",
     "text": [
      "┌ Error: eb740fe1-3626-48d4-9c98-f22c4e02bcea: error\n",
      "│   (e, catch_backtrace()) = (UndefVarError(:ping), Union{Ptr{Nothing}, Base.InterpreterIP}[Ptr{Nothing} @0x0000000001d84d41, Ptr{Nothing} @0x0000000001e18d2f, Ptr{Nothing} @0x000000001cb4ae9f, Ptr{Nothing} @0x000000001cb4bcfc, Ptr{Nothing} @0x000000001cb4da4a, Ptr{Nothing} @0x000000001cb4e9f9, Ptr{Nothing} @0x000000001cb4f01e, Ptr{Nothing} @0x000000001cb4f855, Ptr{Nothing} @0x000000001cb50259, Ptr{Nothing} @0x000000001cb476d5, Ptr{Nothing} @0x000000001cb4831d, Ptr{Nothing} @0x000000001cb48cd3, Ptr{Nothing} @0x000000001cb49a05, Ptr{Nothing} @0x000000001cb4a665, Ptr{Nothing} @0x000000001cb4abe8, Ptr{Nothing} @0x000000001cb4ad98, Ptr{Nothing} @0x000000001cb4ae04, Ptr{Nothing} @0x000000001caf1d4a, Ptr{Nothing} @0x000000001cb445df, Ptr{Nothing} @0x000000001cb47133, Ptr{Nothing} @0x000000001cb47353, Ptr{Nothing} @0x000000001cb473d5, Ptr{Nothing} @0x000000001cb44121, Ptr{Nothing} @0x000000001cb441b5, Ptr{Nothing} @0x000000001cb43f2f, Ptr{Nothing} @0x000000001cb43fac, Ptr{Nothing} @0x000000001cadcfc0, Ptr{Nothing} @0x000000001cadd0f4, Ptr{Nothing} @0x000000001cadd175, Ptr{Nothing} @0x000000001cb30bdb, Ptr{Nothing} @0x000000001cb30dcc, Ptr{Nothing} @0x000000001cb30e53, Ptr{Nothing} @0x0000000001e20c9f])\n",
      "└ @ HTTP.WebSockets C:\\Users\\user\\.julia\\packages\\HTTP\\GGNaX\\src\\WebSockets.jl:375\n",
      "┌ Error: WebSocketServer Error\n",
      "│   exception = (HTTP.WebSockets.WebSocketError(HTTP.WebSockets.CloseFrameBody(1008, \"Unexpected client websocket error\")), Union{Ptr{Nothing}, Base.InterpreterIP}[Ptr{Nothing} @0x000000001cb1a46a, Ptr{Nothing} @0x000000001cb1b266, Ptr{Nothing} @0x000000001cb36348, Ptr{Nothing} @0x000000001cb3652d, Ptr{Nothing} @0x000000001cb38409, Ptr{Nothing} @0x000000001cb3c838, Ptr{Nothing} @0x000000001cb3dc47, Ptr{Nothing} @0x000000001cb34479, Ptr{Nothing} @0x000000001cb34851, Ptr{Nothing} @0x000000001cb34a1b, Ptr{Nothing} @0x000000001cb3358b, Ptr{Nothing} @0x000000001cb3436a, Ptr{Nothing} @0x0000000001e20c9f])\n",
      "└ @ Main In[1]:17\n",
      "┌ Error: fe28b01b-04e9-4cc2-a99c-e4c1b7177193: Unexpected websocket server error\n",
      "│   (e, catch_backtrace()) = (HTTP.WebSockets.WebSocketError(HTTP.WebSockets.CloseFrameBody(1008, \"Unexpected client websocket error\")), Union{Ptr{Nothing}, Base.InterpreterIP}[Ptr{Nothing} @0x000000001cb1a46a, Ptr{Nothing} @0x000000001cb1b266, Ptr{Nothing} @0x000000001cb36348, Ptr{Nothing} @0x000000001cb3652d, Ptr{Nothing} @0x000000001cb38409, Ptr{Nothing} @0x000000001cb3c838, Ptr{Nothing} @0x000000001cb3dc47, Ptr{Nothing} @0x000000001cb34479, Ptr{Nothing} @0x000000001cb34851, Ptr{Nothing} @0x000000001cb34a1b, Ptr{Nothing} @0x000000001cb3358b, Ptr{Nothing} @0x000000001cb3436a, Ptr{Nothing} @0x0000000001e20c9f])\n",
      "└ @ HTTP.WebSockets C:\\Users\\user\\.julia\\packages\\HTTP\\GGNaX\\src\\WebSockets.jl:439\n",
      "┌ Error: d0123eb3-d828-4476-b4eb-0ab519c75dbd: error\n",
      "│   (e, catch_backtrace()) = (UndefVarError(:ping), Union{Ptr{Nothing}, Base.InterpreterIP}[Ptr{Nothing} @0x0000000001d84d41, Ptr{Nothing} @0x0000000001e18d2f, Ptr{Nothing} @0x000000001cb4ae9f, Ptr{Nothing} @0x000000001cb4bcfc, Ptr{Nothing} @0x000000001cb4da4a, Ptr{Nothing} @0x000000001cb4e9f9, Ptr{Nothing} @0x000000001cb4f01e, Ptr{Nothing} @0x000000001cb4f855, Ptr{Nothing} @0x000000001cb50259, Ptr{Nothing} @0x000000001cb476d5, Ptr{Nothing} @0x000000001cb4831d, Ptr{Nothing} @0x000000001cb48cd3, Ptr{Nothing} @0x000000001cb49a05, Ptr{Nothing} @0x000000001cb4a665, Ptr{Nothing} @0x000000001cb4abe8, Ptr{Nothing} @0x000000001cb4ad98, Ptr{Nothing} @0x000000001cb4ae04, Ptr{Nothing} @0x000000001caf1d4a, Ptr{Nothing} @0x000000001cb445df, Ptr{Nothing} @0x000000001cb47133, Ptr{Nothing} @0x000000001cb47353, Ptr{Nothing} @0x000000001cb473d5, Ptr{Nothing} @0x000000001cb44121, Ptr{Nothing} @0x000000001cb441b5, Ptr{Nothing} @0x000000001cb43f2f, Ptr{Nothing} @0x000000001cb43fac, Ptr{Nothing} @0x000000001cadcfc0, Ptr{Nothing} @0x000000001cadd0f4, Ptr{Nothing} @0x000000001cadd175, Ptr{Nothing} @0x000000001cb30bdb, Ptr{Nothing} @0x000000001cb30dcc, Ptr{Nothing} @0x000000001cb30e53, Ptr{Nothing} @0x0000000001e20c9f])\n",
      "└ @ HTTP.WebSockets C:\\Users\\user\\.julia\\packages\\HTTP\\GGNaX\\src\\WebSockets.jl:375\n",
      "┌ Error: WebSocketServer Error\n",
      "│   exception = (HTTP.WebSockets.WebSocketError(HTTP.WebSockets.CloseFrameBody(1008, \"Unexpected client websocket error\")), Union{Ptr{Nothing}, Base.InterpreterIP}[Ptr{Nothing} @0x000000001cb1a46a, Ptr{Nothing} @0x000000001cb1b266, Ptr{Nothing} @0x000000001cb36348, Ptr{Nothing} @0x000000001cb3652d, Ptr{Nothing} @0x000000001cb38409, Ptr{Nothing} @0x000000001cb3c838, Ptr{Nothing} @0x000000001cb3dc47, Ptr{Nothing} @0x000000001cb34479, Ptr{Nothing} @0x000000001cb34851, Ptr{Nothing} @0x000000001cb34a1b, Ptr{Nothing} @0x000000001cb3358b, Ptr{Nothing} @0x000000001cb3436a, Ptr{Nothing} @0x0000000001e20c9f])\n",
      "└ @ Main In[1]:17\n",
      "┌ Error: c8245aa1-21da-4aa1-a132-76661cda0078: Unexpected websocket server error\n",
      "│   (e, catch_backtrace()) = (HTTP.WebSockets.WebSocketError(HTTP.WebSockets.CloseFrameBody(1008, \"Unexpected client websocket error\")), Union{Ptr{Nothing}, Base.InterpreterIP}[Ptr{Nothing} @0x000000001cb1a46a, Ptr{Nothing} @0x000000001cb1b266, Ptr{Nothing} @0x000000001cb36348, Ptr{Nothing} @0x000000001cb3652d, Ptr{Nothing} @0x000000001cb38409, Ptr{Nothing} @0x000000001cb3c838, Ptr{Nothing} @0x000000001cb3dc47, Ptr{Nothing} @0x000000001cb34479, Ptr{Nothing} @0x000000001cb34851, Ptr{Nothing} @0x000000001cb34a1b, Ptr{Nothing} @0x000000001cb3358b, Ptr{Nothing} @0x000000001cb3436a, Ptr{Nothing} @0x0000000001e20c9f])\n",
      "└ @ HTTP.WebSockets C:\\Users\\user\\.julia\\packages\\HTTP\\GGNaX\\src\\WebSockets.jl:439\n",
      "┌ Error: 28c3c685-1125-44bd-93a4-84acc7b1c4c7: error\n",
      "│   (e, catch_backtrace()) = (UndefVarError(:ping), Union{Ptr{Nothing}, Base.InterpreterIP}[Ptr{Nothing} @0x0000000001d84d41, Ptr{Nothing} @0x0000000001e18d2f, Ptr{Nothing} @0x000000001cb4ae9f, Ptr{Nothing} @0x000000001cb4bcfc, Ptr{Nothing} @0x000000001cb4da4a, Ptr{Nothing} @0x000000001cb4e9f9, Ptr{Nothing} @0x000000001cb4f01e, Ptr{Nothing} @0x000000001cb4f855, Ptr{Nothing} @0x000000001cb50259, Ptr{Nothing} @0x000000001cb476d5, Ptr{Nothing} @0x000000001cb4831d, Ptr{Nothing} @0x000000001cb48cd3, Ptr{Nothing} @0x000000001cb49a05, Ptr{Nothing} @0x000000001cb4a665, Ptr{Nothing} @0x000000001cb4abe8, Ptr{Nothing} @0x000000001cb4ad98, Ptr{Nothing} @0x000000001cb4ae04, Ptr{Nothing} @0x000000001caf1d4a, Ptr{Nothing} @0x000000001cb445df, Ptr{Nothing} @0x000000001cb47133, Ptr{Nothing} @0x000000001cb47353, Ptr{Nothing} @0x000000001cb473d5, Ptr{Nothing} @0x000000001cb44121, Ptr{Nothing} @0x000000001cb441b5, Ptr{Nothing} @0x000000001cb43f2f, Ptr{Nothing} @0x000000001cb43fac, Ptr{Nothing} @0x000000001cadcfc0, Ptr{Nothing} @0x000000001cadd0f4, Ptr{Nothing} @0x000000001cadd175, Ptr{Nothing} @0x000000001cb30bdb, Ptr{Nothing} @0x000000001cb30dcc, Ptr{Nothing} @0x000000001cb30e53, Ptr{Nothing} @0x0000000001e20c9f])\n",
      "└ @ HTTP.WebSockets C:\\Users\\user\\.julia\\packages\\HTTP\\GGNaX\\src\\WebSockets.jl:375\n",
      "┌ Error: WebSocketServer Error\n",
      "│   exception = (HTTP.WebSockets.WebSocketError(HTTP.WebSockets.CloseFrameBody(1008, \"Unexpected client websocket error\")), Union{Ptr{Nothing}, Base.InterpreterIP}[Ptr{Nothing} @0x000000001cb1a46a, Ptr{Nothing} @0x000000001cb1b266, Ptr{Nothing} @0x000000001cb36348, Ptr{Nothing} @0x000000001cb3652d, Ptr{Nothing} @0x000000001cb38409, Ptr{Nothing} @0x000000001cb3c838, Ptr{Nothing} @0x000000001cb3dc47, Ptr{Nothing} @0x000000001cb34479, Ptr{Nothing} @0x000000001cb34851, Ptr{Nothing} @0x000000001cb34a1b, Ptr{Nothing} @0x000000001cb3358b, Ptr{Nothing} @0x000000001cb3436a, Ptr{Nothing} @0x0000000001e20c9f])\n",
      "└ @ Main In[1]:17\n",
      "┌ Error: a4bc7212-7c65-4b8a-a7d3-cc5562c84de6: Unexpected websocket server error\n",
      "│   (e, catch_backtrace()) = (HTTP.WebSockets.WebSocketError(HTTP.WebSockets.CloseFrameBody(1008, \"Unexpected client websocket error\")), Union{Ptr{Nothing}, Base.InterpreterIP}[Ptr{Nothing} @0x000000001cb1a46a, Ptr{Nothing} @0x000000001cb1b266, Ptr{Nothing} @0x000000001cb36348, Ptr{Nothing} @0x000000001cb3652d, Ptr{Nothing} @0x000000001cb38409, Ptr{Nothing} @0x000000001cb3c838, Ptr{Nothing} @0x000000001cb3dc47, Ptr{Nothing} @0x000000001cb34479, Ptr{Nothing} @0x000000001cb34851, Ptr{Nothing} @0x000000001cb34a1b, Ptr{Nothing} @0x000000001cb3358b, Ptr{Nothing} @0x000000001cb3436a, Ptr{Nothing} @0x0000000001e20c9f])\n",
      "└ @ HTTP.WebSockets C:\\Users\\user\\.julia\\packages\\HTTP\\GGNaX\\src\\WebSockets.jl:439\n",
      "┌ Error: df595feb-af6c-4dee-b123-80d57b5d3670: error\n",
      "│   (e, catch_backtrace()) = (UndefVarError(:ping), Union{Ptr{Nothing}, Base.InterpreterIP}[Ptr{Nothing} @0x0000000001d84d41, Ptr{Nothing} @0x0000000001e18d2f, Ptr{Nothing} @0x000000001cb4ae9f, Ptr{Nothing} @0x000000001cb4bcfc, Ptr{Nothing} @0x000000001cb4da4a, Ptr{Nothing} @0x000000001cb4e9f9, Ptr{Nothing} @0x000000001cb4f01e, Ptr{Nothing} @0x000000001cb4f855, Ptr{Nothing} @0x000000001cb50259, Ptr{Nothing} @0x000000001cb476d5, Ptr{Nothing} @0x000000001cb4831d, Ptr{Nothing} @0x000000001cb48cd3, Ptr{Nothing} @0x000000001cb49a05, Ptr{Nothing} @0x000000001cb4a665, Ptr{Nothing} @0x000000001cb4abe8, Ptr{Nothing} @0x000000001cb4ad98, Ptr{Nothing} @0x000000001cb4ae04, Ptr{Nothing} @0x000000001caf1d4a, Ptr{Nothing} @0x000000001cb445df, Ptr{Nothing} @0x000000001cb47133, Ptr{Nothing} @0x000000001cb47353, Ptr{Nothing} @0x000000001cb473d5, Ptr{Nothing} @0x000000001cb44121, Ptr{Nothing} @0x000000001cb441b5, Ptr{Nothing} @0x000000001cb43f2f, Ptr{Nothing} @0x000000001cb43fac, Ptr{Nothing} @0x000000001cadcfc0, Ptr{Nothing} @0x000000001cadd0f4, Ptr{Nothing} @0x000000001cadd175, Ptr{Nothing} @0x000000001cb30bdb, Ptr{Nothing} @0x000000001cb30dcc, Ptr{Nothing} @0x000000001cb30e53, Ptr{Nothing} @0x0000000001e20c9f])\n",
      "└ @ HTTP.WebSockets C:\\Users\\user\\.julia\\packages\\HTTP\\GGNaX\\src\\WebSockets.jl:375\n",
      "┌ Error: WebSocketServer Error\n",
      "│   exception = (HTTP.WebSockets.WebSocketError(HTTP.WebSockets.CloseFrameBody(1008, \"Unexpected client websocket error\")), Union{Ptr{Nothing}, Base.InterpreterIP}[Ptr{Nothing} @0x000000001cb1a46a, Ptr{Nothing} @0x000000001cb1b266, Ptr{Nothing} @0x000000001cb36348, Ptr{Nothing} @0x000000001cb3652d, Ptr{Nothing} @0x000000001cb38409, Ptr{Nothing} @0x000000001cb3c838, Ptr{Nothing} @0x000000001cb3dc47, Ptr{Nothing} @0x000000001cb34479, Ptr{Nothing} @0x000000001cb34851, Ptr{Nothing} @0x000000001cb34a1b, Ptr{Nothing} @0x000000001cb3358b, Ptr{Nothing} @0x000000001cb3436a, Ptr{Nothing} @0x0000000001e20c9f])\n",
      "└ @ Main In[1]:17\n",
      "┌ Error: 3301d3b2-5423-44c8-b67e-29aa3833a3b0: Unexpected websocket server error\n",
      "│   (e, catch_backtrace()) = (HTTP.WebSockets.WebSocketError(HTTP.WebSockets.CloseFrameBody(1008, \"Unexpected client websocket error\")), Union{Ptr{Nothing}, Base.InterpreterIP}[Ptr{Nothing} @0x000000001cb1a46a, Ptr{Nothing} @0x000000001cb1b266, Ptr{Nothing} @0x000000001cb36348, Ptr{Nothing} @0x000000001cb3652d, Ptr{Nothing} @0x000000001cb38409, Ptr{Nothing} @0x000000001cb3c838, Ptr{Nothing} @0x000000001cb3dc47, Ptr{Nothing} @0x000000001cb34479, Ptr{Nothing} @0x000000001cb34851, Ptr{Nothing} @0x000000001cb34a1b, Ptr{Nothing} @0x000000001cb3358b, Ptr{Nothing} @0x000000001cb3436a, Ptr{Nothing} @0x0000000001e20c9f])\n",
      "└ @ HTTP.WebSockets C:\\Users\\user\\.julia\\packages\\HTTP\\GGNaX\\src\\WebSockets.jl:439\n",
      "┌ Error: 24a8e754-a8f7-46a6-802e-57b405565f8f: error\n",
      "│   (e, catch_backtrace()) = (UndefVarError(:ping), Union{Ptr{Nothing}, Base.InterpreterIP}[Ptr{Nothing} @0x0000000001d84d41, Ptr{Nothing} @0x0000000001e18d2f, Ptr{Nothing} @0x000000001cb4ae9f, Ptr{Nothing} @0x000000001cb4bcfc, Ptr{Nothing} @0x000000001cb4da4a, Ptr{Nothing} @0x000000001cb4e9f9, Ptr{Nothing} @0x000000001cb4f01e, Ptr{Nothing} @0x000000001cb4f855, Ptr{Nothing} @0x000000001cb50259, Ptr{Nothing} @0x000000001cb476d5, Ptr{Nothing} @0x000000001cb4831d, Ptr{Nothing} @0x000000001cb48cd3, Ptr{Nothing} @0x000000001cb49a05, Ptr{Nothing} @0x000000001cb4a665, Ptr{Nothing} @0x000000001cb4abe8, Ptr{Nothing} @0x000000001cb4ad98, Ptr{Nothing} @0x000000001cb4ae04, Ptr{Nothing} @0x000000001caf1d4a, Ptr{Nothing} @0x000000001cb445df, Ptr{Nothing} @0x000000001cb47133, Ptr{Nothing} @0x000000001cb47353, Ptr{Nothing} @0x000000001cb473d5, Ptr{Nothing} @0x000000001cb44121, Ptr{Nothing} @0x000000001cb441b5, Ptr{Nothing} @0x000000001cb43f2f, Ptr{Nothing} @0x000000001cb43fac, Ptr{Nothing} @0x000000001cadcfc0, Ptr{Nothing} @0x000000001cadd0f4, Ptr{Nothing} @0x000000001cadd175, Ptr{Nothing} @0x000000001cb30bdb, Ptr{Nothing} @0x000000001cb30dcc, Ptr{Nothing} @0x000000001cb30e53, Ptr{Nothing} @0x0000000001e20c9f])\n",
      "└ @ HTTP.WebSockets C:\\Users\\user\\.julia\\packages\\HTTP\\GGNaX\\src\\WebSockets.jl:375\n",
      "┌ Error: WebSocketServer Error\n",
      "│   exception = (HTTP.WebSockets.WebSocketError(HTTP.WebSockets.CloseFrameBody(1008, \"Unexpected client websocket error\")), Union{Ptr{Nothing}, Base.InterpreterIP}[Ptr{Nothing} @0x000000001cb1a46a, Ptr{Nothing} @0x000000001cb1b266, Ptr{Nothing} @0x000000001cb36348, Ptr{Nothing} @0x000000001cb3652d, Ptr{Nothing} @0x000000001cb38409, Ptr{Nothing} @0x000000001cb3c838, Ptr{Nothing} @0x000000001cb3dc47, Ptr{Nothing} @0x000000001cb34479, Ptr{Nothing} @0x000000001cb34851, Ptr{Nothing} @0x000000001cb34a1b, Ptr{Nothing} @0x000000001cb3358b, Ptr{Nothing} @0x000000001cb3436a, Ptr{Nothing} @0x0000000001e20c9f])\n",
      "└ @ Main In[1]:17\n",
      "┌ Error: 65616c5a-30ee-47e7-b59d-8d5ca183c493: Unexpected websocket server error\n",
      "│   (e, catch_backtrace()) = (HTTP.WebSockets.WebSocketError(HTTP.WebSockets.CloseFrameBody(1008, \"Unexpected client websocket error\")), Union{Ptr{Nothing}, Base.InterpreterIP}[Ptr{Nothing} @0x000000001cb1a46a, Ptr{Nothing} @0x000000001cb1b266, Ptr{Nothing} @0x000000001cb36348, Ptr{Nothing} @0x000000001cb3652d, Ptr{Nothing} @0x000000001cb38409, Ptr{Nothing} @0x000000001cb3c838, Ptr{Nothing} @0x000000001cb3dc47, Ptr{Nothing} @0x000000001cb34479, Ptr{Nothing} @0x000000001cb34851, Ptr{Nothing} @0x000000001cb34a1b, Ptr{Nothing} @0x000000001cb3358b, Ptr{Nothing} @0x000000001cb3436a, Ptr{Nothing} @0x0000000001e20c9f])\n",
      "└ @ HTTP.WebSockets C:\\Users\\user\\.julia\\packages\\HTTP\\GGNaX\\src\\WebSockets.jl:439\n",
      "┌ Error: a4b6385a-25dd-4ac0-aeeb-eca9ee3ee255: error\n",
      "│   (e, catch_backtrace()) = (UndefVarError(:ping), Union{Ptr{Nothing}, Base.InterpreterIP}[Ptr{Nothing} @0x0000000001d84d41, Ptr{Nothing} @0x0000000001e18d2f, Ptr{Nothing} @0x000000001cb4ae9f, Ptr{Nothing} @0x000000001cb4bcfc, Ptr{Nothing} @0x000000001cb4da4a, Ptr{Nothing} @0x000000001cb4e9f9, Ptr{Nothing} @0x000000001cb4f01e, Ptr{Nothing} @0x000000001cb4f855, Ptr{Nothing} @0x000000001cb50259, Ptr{Nothing} @0x000000001cb476d5, Ptr{Nothing} @0x000000001cb4831d, Ptr{Nothing} @0x000000001cb48cd3, Ptr{Nothing} @0x000000001cb49a05, Ptr{Nothing} @0x000000001cb4a665, Ptr{Nothing} @0x000000001cb4abe8, Ptr{Nothing} @0x000000001cb4ad98, Ptr{Nothing} @0x000000001cb4ae04, Ptr{Nothing} @0x000000001caf1d4a, Ptr{Nothing} @0x000000001cb445df, Ptr{Nothing} @0x000000001cb47133, Ptr{Nothing} @0x000000001cb47353, Ptr{Nothing} @0x000000001cb473d5, Ptr{Nothing} @0x000000001cb44121, Ptr{Nothing} @0x000000001cb441b5, Ptr{Nothing} @0x000000001cb43f2f, Ptr{Nothing} @0x000000001cb43fac, Ptr{Nothing} @0x000000001cadcfc0, Ptr{Nothing} @0x000000001cadd0f4, Ptr{Nothing} @0x000000001cadd175, Ptr{Nothing} @0x000000001cb30bdb, Ptr{Nothing} @0x000000001cb30dcc, Ptr{Nothing} @0x000000001cb30e53, Ptr{Nothing} @0x0000000001e20c9f])\n",
      "└ @ HTTP.WebSockets C:\\Users\\user\\.julia\\packages\\HTTP\\GGNaX\\src\\WebSockets.jl:375\n",
      "┌ Error: WebSocketServer Error\n",
      "│   exception = (HTTP.WebSockets.WebSocketError(HTTP.WebSockets.CloseFrameBody(1008, \"Unexpected client websocket error\")), Union{Ptr{Nothing}, Base.InterpreterIP}[Ptr{Nothing} @0x000000001cb1a46a, Ptr{Nothing} @0x000000001cb1b266, Ptr{Nothing} @0x000000001cb36348, Ptr{Nothing} @0x000000001cb3652d, Ptr{Nothing} @0x000000001cb38409, Ptr{Nothing} @0x000000001cb3c838, Ptr{Nothing} @0x000000001cb3dc47, Ptr{Nothing} @0x000000001cb34479, Ptr{Nothing} @0x000000001cb34851, Ptr{Nothing} @0x000000001cb34a1b, Ptr{Nothing} @0x000000001cb3358b, Ptr{Nothing} @0x000000001cb3436a, Ptr{Nothing} @0x0000000001e20c9f])\n",
      "└ @ Main In[1]:17\n",
      "┌ Error: f7fcaf20-12bf-4fe1-bec0-9a6951b64f8f: Unexpected websocket server error\n",
      "│   (e, catch_backtrace()) = (HTTP.WebSockets.WebSocketError(HTTP.WebSockets.CloseFrameBody(1008, \"Unexpected client websocket error\")), Union{Ptr{Nothing}, Base.InterpreterIP}[Ptr{Nothing} @0x000000001cb1a46a, Ptr{Nothing} @0x000000001cb1b266, Ptr{Nothing} @0x000000001cb36348, Ptr{Nothing} @0x000000001cb3652d, Ptr{Nothing} @0x000000001cb38409, Ptr{Nothing} @0x000000001cb3c838, Ptr{Nothing} @0x000000001cb3dc47, Ptr{Nothing} @0x000000001cb34479, Ptr{Nothing} @0x000000001cb34851, Ptr{Nothing} @0x000000001cb34a1b, Ptr{Nothing} @0x000000001cb3358b, Ptr{Nothing} @0x000000001cb3436a, Ptr{Nothing} @0x0000000001e20c9f])\n",
      "└ @ HTTP.WebSockets C:\\Users\\user\\.julia\\packages\\HTTP\\GGNaX\\src\\WebSockets.jl:439\n",
      "┌ Error: 8b26c4ef-80fb-4dc4-9ccb-21cef5a6d399: error\n",
      "│   (e, catch_backtrace()) = (UndefVarError(:ping), Union{Ptr{Nothing}, Base.InterpreterIP}[Ptr{Nothing} @0x0000000001d84d41, Ptr{Nothing} @0x0000000001e18d2f, Ptr{Nothing} @0x000000001cb4ae9f, Ptr{Nothing} @0x000000001cb4bcfc, Ptr{Nothing} @0x000000001cb4da4a, Ptr{Nothing} @0x000000001cb4e9f9, Ptr{Nothing} @0x000000001cb4f01e, Ptr{Nothing} @0x000000001cb4f855, Ptr{Nothing} @0x000000001cb50259, Ptr{Nothing} @0x000000001cb476d5, Ptr{Nothing} @0x000000001cb4831d, Ptr{Nothing} @0x000000001cb48cd3, Ptr{Nothing} @0x000000001cb49a05, Ptr{Nothing} @0x000000001cb4a665, Ptr{Nothing} @0x000000001cb4abe8, Ptr{Nothing} @0x000000001cb4ad98, Ptr{Nothing} @0x000000001cb4ae04, Ptr{Nothing} @0x000000001caf1d4a, Ptr{Nothing} @0x000000001cb445df, Ptr{Nothing} @0x000000001cb47133, Ptr{Nothing} @0x000000001cb47353, Ptr{Nothing} @0x000000001cb473d5, Ptr{Nothing} @0x000000001cb44121, Ptr{Nothing} @0x000000001cb441b5, Ptr{Nothing} @0x000000001cb43f2f, Ptr{Nothing} @0x000000001cb43fac, Ptr{Nothing} @0x000000001cadcfc0, Ptr{Nothing} @0x000000001cadd0f4, Ptr{Nothing} @0x000000001cadd175, Ptr{Nothing} @0x000000001cb30bdb, Ptr{Nothing} @0x000000001cb30dcc, Ptr{Nothing} @0x000000001cb30e53, Ptr{Nothing} @0x0000000001e20c9f])\n",
      "└ @ HTTP.WebSockets C:\\Users\\user\\.julia\\packages\\HTTP\\GGNaX\\src\\WebSockets.jl:375\n",
      "┌ Error: WebSocketServer Error\n",
      "│   exception = (HTTP.WebSockets.WebSocketError(HTTP.WebSockets.CloseFrameBody(1008, \"Unexpected client websocket error\")), Union{Ptr{Nothing}, Base.InterpreterIP}[Ptr{Nothing} @0x000000001cb1a46a, Ptr{Nothing} @0x000000001cb1b266, Ptr{Nothing} @0x000000001cb36348, Ptr{Nothing} @0x000000001cb3652d, Ptr{Nothing} @0x000000001cb38409, Ptr{Nothing} @0x000000001cb3c838, Ptr{Nothing} @0x000000001cb3dc47, Ptr{Nothing} @0x000000001cb34479, Ptr{Nothing} @0x000000001cb34851, Ptr{Nothing} @0x000000001cb34a1b, Ptr{Nothing} @0x000000001cb3358b, Ptr{Nothing} @0x000000001cb3436a, Ptr{Nothing} @0x0000000001e20c9f])\n",
      "└ @ Main In[1]:17\n",
      "┌ Error: e3a875fe-f27a-441f-8609-6d6c3d404505: Unexpected websocket server error\n",
      "│   (e, catch_backtrace()) = (HTTP.WebSockets.WebSocketError(HTTP.WebSockets.CloseFrameBody(1008, \"Unexpected client websocket error\")), Union{Ptr{Nothing}, Base.InterpreterIP}[Ptr{Nothing} @0x000000001cb1a46a, Ptr{Nothing} @0x000000001cb1b266, Ptr{Nothing} @0x000000001cb36348, Ptr{Nothing} @0x000000001cb3652d, Ptr{Nothing} @0x000000001cb38409, Ptr{Nothing} @0x000000001cb3c838, Ptr{Nothing} @0x000000001cb3dc47, Ptr{Nothing} @0x000000001cb34479, Ptr{Nothing} @0x000000001cb34851, Ptr{Nothing} @0x000000001cb34a1b, Ptr{Nothing} @0x000000001cb3358b, Ptr{Nothing} @0x000000001cb3436a, Ptr{Nothing} @0x0000000001e20c9f])\n",
      "└ @ HTTP.WebSockets C:\\Users\\user\\.julia\\packages\\HTTP\\GGNaX\\src\\WebSockets.jl:439\n",
      "┌ Error: 3bfa5223-6bc4-43bd-9fbe-b357a6f8ce96: error\n",
      "│   (e, catch_backtrace()) = (UndefVarError(:ping), Union{Ptr{Nothing}, Base.InterpreterIP}[Ptr{Nothing} @0x0000000001d84d41, Ptr{Nothing} @0x0000000001e18d2f, Ptr{Nothing} @0x000000001cb4ae9f, Ptr{Nothing} @0x000000001cb4bcfc, Ptr{Nothing} @0x000000001cb4da4a, Ptr{Nothing} @0x000000001cb4e9f9, Ptr{Nothing} @0x000000001cb4f01e, Ptr{Nothing} @0x000000001cb4f855, Ptr{Nothing} @0x000000001cb50259, Ptr{Nothing} @0x000000001cb476d5, Ptr{Nothing} @0x000000001cb4831d, Ptr{Nothing} @0x000000001cb48cd3, Ptr{Nothing} @0x000000001cb49a05, Ptr{Nothing} @0x000000001cb4a665, Ptr{Nothing} @0x000000001cb4abe8, Ptr{Nothing} @0x000000001cb4ad98, Ptr{Nothing} @0x000000001cb4ae04, Ptr{Nothing} @0x000000001caf1d4a, Ptr{Nothing} @0x000000001cb445df, Ptr{Nothing} @0x000000001cb47133, Ptr{Nothing} @0x000000001cb47353, Ptr{Nothing} @0x000000001cb473d5, Ptr{Nothing} @0x000000001cb44121, Ptr{Nothing} @0x000000001cb441b5, Ptr{Nothing} @0x000000001cb43f2f, Ptr{Nothing} @0x000000001cb43fac, Ptr{Nothing} @0x000000001cadcfc0, Ptr{Nothing} @0x000000001cadd0f4, Ptr{Nothing} @0x000000001cadd175, Ptr{Nothing} @0x000000001cb30bdb, Ptr{Nothing} @0x000000001cb30dcc, Ptr{Nothing} @0x000000001cb30e53, Ptr{Nothing} @0x0000000001e20c9f])\n",
      "└ @ HTTP.WebSockets C:\\Users\\user\\.julia\\packages\\HTTP\\GGNaX\\src\\WebSockets.jl:375\n",
      "┌ Error: WebSocketServer Error\n",
      "│   exception = (HTTP.WebSockets.WebSocketError(HTTP.WebSockets.CloseFrameBody(1008, \"Unexpected client websocket error\")), Union{Ptr{Nothing}, Base.InterpreterIP}[Ptr{Nothing} @0x000000001cb1a46a, Ptr{Nothing} @0x000000001cb1b266, Ptr{Nothing} @0x000000001cb36348, Ptr{Nothing} @0x000000001cb3652d, Ptr{Nothing} @0x000000001cb38409, Ptr{Nothing} @0x000000001cb3c838, Ptr{Nothing} @0x000000001cb3dc47, Ptr{Nothing} @0x000000001cb34479, Ptr{Nothing} @0x000000001cb34851, Ptr{Nothing} @0x000000001cb34a1b, Ptr{Nothing} @0x000000001cb3358b, Ptr{Nothing} @0x000000001cb3436a, Ptr{Nothing} @0x0000000001e20c9f])\n",
      "└ @ Main In[1]:17\n",
      "┌ Error: b668867e-9016-4bd7-aac4-be38b7fb8771: Unexpected websocket server error\n",
      "│   (e, catch_backtrace()) = (HTTP.WebSockets.WebSocketError(HTTP.WebSockets.CloseFrameBody(1008, \"Unexpected client websocket error\")), Union{Ptr{Nothing}, Base.InterpreterIP}[Ptr{Nothing} @0x000000001cb1a46a, Ptr{Nothing} @0x000000001cb1b266, Ptr{Nothing} @0x000000001cb36348, Ptr{Nothing} @0x000000001cb3652d, Ptr{Nothing} @0x000000001cb38409, Ptr{Nothing} @0x000000001cb3c838, Ptr{Nothing} @0x000000001cb3dc47, Ptr{Nothing} @0x000000001cb34479, Ptr{Nothing} @0x000000001cb34851, Ptr{Nothing} @0x000000001cb34a1b, Ptr{Nothing} @0x000000001cb3358b, Ptr{Nothing} @0x000000001cb3436a, Ptr{Nothing} @0x0000000001e20c9f])\n",
      "└ @ HTTP.WebSockets C:\\Users\\user\\.julia\\packages\\HTTP\\GGNaX\\src\\WebSockets.jl:439\n",
      "┌ Error: 411bf6e6-653e-4d79-b6ff-71616adb00ec: error\n",
      "│   (e, catch_backtrace()) = (UndefVarError(:ping), Union{Ptr{Nothing}, Base.InterpreterIP}[Ptr{Nothing} @0x0000000001d84d41, Ptr{Nothing} @0x0000000001e18d2f, Ptr{Nothing} @0x000000001cb4ae9f, Ptr{Nothing} @0x000000001cb4bcfc, Ptr{Nothing} @0x000000001cb4da4a, Ptr{Nothing} @0x000000001cb4e9f9, Ptr{Nothing} @0x000000001cb4f01e, Ptr{Nothing} @0x000000001cb4f855, Ptr{Nothing} @0x000000001cb50259, Ptr{Nothing} @0x000000001cb476d5, Ptr{Nothing} @0x000000001cb4831d, Ptr{Nothing} @0x000000001cb48cd3, Ptr{Nothing} @0x000000001cb49a05, Ptr{Nothing} @0x000000001cb4a665, Ptr{Nothing} @0x000000001cb4abe8, Ptr{Nothing} @0x000000001cb4ad98, Ptr{Nothing} @0x000000001cb4ae04, Ptr{Nothing} @0x000000001caf1d4a, Ptr{Nothing} @0x000000001cb445df, Ptr{Nothing} @0x000000001cb47133, Ptr{Nothing} @0x000000001cb47353, Ptr{Nothing} @0x000000001cb473d5, Ptr{Nothing} @0x000000001cb44121, Ptr{Nothing} @0x000000001cb441b5, Ptr{Nothing} @0x000000001cb43f2f, Ptr{Nothing} @0x000000001cb43fac, Ptr{Nothing} @0x000000001cadcfc0, Ptr{Nothing} @0x000000001cadd0f4, Ptr{Nothing} @0x000000001cadd175, Ptr{Nothing} @0x000000001cb30bdb, Ptr{Nothing} @0x000000001cb30dcc, Ptr{Nothing} @0x000000001cb30e53, Ptr{Nothing} @0x0000000001e20c9f])\n",
      "└ @ HTTP.WebSockets C:\\Users\\user\\.julia\\packages\\HTTP\\GGNaX\\src\\WebSockets.jl:375\n",
      "┌ Error: WebSocketServer Error\n",
      "│   exception = (HTTP.WebSockets.WebSocketError(HTTP.WebSockets.CloseFrameBody(1008, \"Unexpected client websocket error\")), Union{Ptr{Nothing}, Base.InterpreterIP}[Ptr{Nothing} @0x000000001cb1a46a, Ptr{Nothing} @0x000000001cb1b266, Ptr{Nothing} @0x000000001cb36348, Ptr{Nothing} @0x000000001cb3652d, Ptr{Nothing} @0x000000001cb38409, Ptr{Nothing} @0x000000001cb3c838, Ptr{Nothing} @0x000000001cb3dc47, Ptr{Nothing} @0x000000001cb34479, Ptr{Nothing} @0x000000001cb34851, Ptr{Nothing} @0x000000001cb34a1b, Ptr{Nothing} @0x000000001cb3358b, Ptr{Nothing} @0x000000001cb3436a, Ptr{Nothing} @0x0000000001e20c9f])\n",
      "└ @ Main In[1]:17\n",
      "┌ Error: eb07d683-a585-403d-b352-88c51c3acbef: Unexpected websocket server error\n",
      "│   (e, catch_backtrace()) = (HTTP.WebSockets.WebSocketError(HTTP.WebSockets.CloseFrameBody(1008, \"Unexpected client websocket error\")), Union{Ptr{Nothing}, Base.InterpreterIP}[Ptr{Nothing} @0x000000001cb1a46a, Ptr{Nothing} @0x000000001cb1b266, Ptr{Nothing} @0x000000001cb36348, Ptr{Nothing} @0x000000001cb3652d, Ptr{Nothing} @0x000000001cb38409, Ptr{Nothing} @0x000000001cb3c838, Ptr{Nothing} @0x000000001cb3dc47, Ptr{Nothing} @0x000000001cb34479, Ptr{Nothing} @0x000000001cb34851, Ptr{Nothing} @0x000000001cb34a1b, Ptr{Nothing} @0x000000001cb3358b, Ptr{Nothing} @0x000000001cb3436a, Ptr{Nothing} @0x0000000001e20c9f])\n",
      "└ @ HTTP.WebSockets C:\\Users\\user\\.julia\\packages\\HTTP\\GGNaX\\src\\WebSockets.jl:439\n",
      "┌ Error: c39f747a-1bda-4031-84bf-493ce9d7c6f5: error\n",
      "│   (e, catch_backtrace()) = (UndefVarError(:ping), Union{Ptr{Nothing}, Base.InterpreterIP}[Ptr{Nothing} @0x0000000001d84d41, Ptr{Nothing} @0x0000000001e18d2f, Ptr{Nothing} @0x000000001cb4ae9f, Ptr{Nothing} @0x000000001cb4bcfc, Ptr{Nothing} @0x000000001cb4da4a, Ptr{Nothing} @0x000000001cb4e9f9, Ptr{Nothing} @0x000000001cb4f01e, Ptr{Nothing} @0x000000001cb4f855, Ptr{Nothing} @0x000000001cb50259, Ptr{Nothing} @0x000000001cb476d5, Ptr{Nothing} @0x000000001cb4831d, Ptr{Nothing} @0x000000001cb48cd3, Ptr{Nothing} @0x000000001cb49a05, Ptr{Nothing} @0x000000001cb4a665, Ptr{Nothing} @0x000000001cb4abe8, Ptr{Nothing} @0x000000001cb4ad98, Ptr{Nothing} @0x000000001cb4ae04, Ptr{Nothing} @0x000000001caf1d4a, Ptr{Nothing} @0x000000001cb445df, Ptr{Nothing} @0x000000001cb47133, Ptr{Nothing} @0x000000001cb47353, Ptr{Nothing} @0x000000001cb473d5, Ptr{Nothing} @0x000000001cb44121, Ptr{Nothing} @0x000000001cb441b5, Ptr{Nothing} @0x000000001cb43f2f, Ptr{Nothing} @0x000000001cb43fac, Ptr{Nothing} @0x000000001cadcfc0, Ptr{Nothing} @0x000000001cadd0f4, Ptr{Nothing} @0x000000001cadd175, Ptr{Nothing} @0x000000001cb30bdb, Ptr{Nothing} @0x000000001cb30dcc, Ptr{Nothing} @0x000000001cb30e53, Ptr{Nothing} @0x0000000001e20c9f])\n",
      "└ @ HTTP.WebSockets C:\\Users\\user\\.julia\\packages\\HTTP\\GGNaX\\src\\WebSockets.jl:375\n",
      "┌ Error: WebSocketServer Error\n",
      "│   exception = (HTTP.WebSockets.WebSocketError(HTTP.WebSockets.CloseFrameBody(1008, \"Unexpected client websocket error\")), Union{Ptr{Nothing}, Base.InterpreterIP}[Ptr{Nothing} @0x000000001cb1a46a, Ptr{Nothing} @0x000000001cb1b266, Ptr{Nothing} @0x000000001cb36348, Ptr{Nothing} @0x000000001cb3652d, Ptr{Nothing} @0x000000001cb38409, Ptr{Nothing} @0x000000001cb3c838, Ptr{Nothing} @0x000000001cb3dc47, Ptr{Nothing} @0x000000001cb34479, Ptr{Nothing} @0x000000001cb34851, Ptr{Nothing} @0x000000001cb34a1b, Ptr{Nothing} @0x000000001cb3358b, Ptr{Nothing} @0x000000001cb3436a, Ptr{Nothing} @0x0000000001e20c9f])\n",
      "└ @ Main In[1]:17\n",
      "┌ Error: 455bbd21-6505-4828-9bee-066e8dfec098: Unexpected websocket server error\n",
      "│   (e, catch_backtrace()) = (HTTP.WebSockets.WebSocketError(HTTP.WebSockets.CloseFrameBody(1008, \"Unexpected client websocket error\")), Union{Ptr{Nothing}, Base.InterpreterIP}[Ptr{Nothing} @0x000000001cb1a46a, Ptr{Nothing} @0x000000001cb1b266, Ptr{Nothing} @0x000000001cb36348, Ptr{Nothing} @0x000000001cb3652d, Ptr{Nothing} @0x000000001cb38409, Ptr{Nothing} @0x000000001cb3c838, Ptr{Nothing} @0x000000001cb3dc47, Ptr{Nothing} @0x000000001cb34479, Ptr{Nothing} @0x000000001cb34851, Ptr{Nothing} @0x000000001cb34a1b, Ptr{Nothing} @0x000000001cb3358b, Ptr{Nothing} @0x000000001cb3436a, Ptr{Nothing} @0x0000000001e20c9f])\n",
      "└ @ HTTP.WebSockets C:\\Users\\user\\.julia\\packages\\HTTP\\GGNaX\\src\\WebSockets.jl:439\n",
      "┌ Error: c12625eb-33d9-415f-96b5-03503e5e40c3: error\n",
      "│   (e, catch_backtrace()) = (UndefVarError(:ping), Union{Ptr{Nothing}, Base.InterpreterIP}[Ptr{Nothing} @0x0000000001d84d41, Ptr{Nothing} @0x0000000001e18d2f, Ptr{Nothing} @0x000000001cb4ae9f, Ptr{Nothing} @0x000000001cb4bcfc, Ptr{Nothing} @0x000000001cb4da4a, Ptr{Nothing} @0x000000001cb4e9f9, Ptr{Nothing} @0x000000001cb4f01e, Ptr{Nothing} @0x000000001cb4f855, Ptr{Nothing} @0x000000001cb50259, Ptr{Nothing} @0x000000001cb476d5, Ptr{Nothing} @0x000000001cb4831d, Ptr{Nothing} @0x000000001cb48cd3, Ptr{Nothing} @0x000000001cb49a05, Ptr{Nothing} @0x000000001cb4a665, Ptr{Nothing} @0x000000001cb4abe8, Ptr{Nothing} @0x000000001cb4ad98, Ptr{Nothing} @0x000000001cb4ae04, Ptr{Nothing} @0x000000001caf1d4a, Ptr{Nothing} @0x000000001cb445df, Ptr{Nothing} @0x000000001cb47133, Ptr{Nothing} @0x000000001cb47353, Ptr{Nothing} @0x000000001cb473d5, Ptr{Nothing} @0x000000001cb44121, Ptr{Nothing} @0x000000001cb441b5, Ptr{Nothing} @0x000000001cb43f2f, Ptr{Nothing} @0x000000001cb43fac, Ptr{Nothing} @0x000000001cadcfc0, Ptr{Nothing} @0x000000001cadd0f4, Ptr{Nothing} @0x000000001cadd175, Ptr{Nothing} @0x000000001cb30bdb, Ptr{Nothing} @0x000000001cb30dcc, Ptr{Nothing} @0x000000001cb30e53, Ptr{Nothing} @0x0000000001e20c9f])\n",
      "└ @ HTTP.WebSockets C:\\Users\\user\\.julia\\packages\\HTTP\\GGNaX\\src\\WebSockets.jl:375\n",
      "┌ Error: WebSocketServer Error\n",
      "│   exception = (HTTP.WebSockets.WebSocketError(HTTP.WebSockets.CloseFrameBody(1008, \"Unexpected client websocket error\")), Union{Ptr{Nothing}, Base.InterpreterIP}[Ptr{Nothing} @0x000000001cb1a46a, Ptr{Nothing} @0x000000001cb1b266, Ptr{Nothing} @0x000000001cb36348, Ptr{Nothing} @0x000000001cb3652d, Ptr{Nothing} @0x000000001cb38409, Ptr{Nothing} @0x000000001cb3c838, Ptr{Nothing} @0x000000001cb3dc47, Ptr{Nothing} @0x000000001cb34479, Ptr{Nothing} @0x000000001cb34851, Ptr{Nothing} @0x000000001cb34a1b, Ptr{Nothing} @0x000000001cb3358b, Ptr{Nothing} @0x000000001cb3436a, Ptr{Nothing} @0x0000000001e20c9f])\n",
      "└ @ Main In[1]:17\n",
      "┌ Error: 32219b6a-4131-4c30-849c-33a2c4c80ddf: Unexpected websocket server error\n",
      "│   (e, catch_backtrace()) = (HTTP.WebSockets.WebSocketError(HTTP.WebSockets.CloseFrameBody(1008, \"Unexpected client websocket error\")), Union{Ptr{Nothing}, Base.InterpreterIP}[Ptr{Nothing} @0x000000001cb1a46a, Ptr{Nothing} @0x000000001cb1b266, Ptr{Nothing} @0x000000001cb36348, Ptr{Nothing} @0x000000001cb3652d, Ptr{Nothing} @0x000000001cb38409, Ptr{Nothing} @0x000000001cb3c838, Ptr{Nothing} @0x000000001cb3dc47, Ptr{Nothing} @0x000000001cb34479, Ptr{Nothing} @0x000000001cb34851, Ptr{Nothing} @0x000000001cb34a1b, Ptr{Nothing} @0x000000001cb3358b, Ptr{Nothing} @0x000000001cb3436a, Ptr{Nothing} @0x0000000001e20c9f])\n",
      "└ @ HTTP.WebSockets C:\\Users\\user\\.julia\\packages\\HTTP\\GGNaX\\src\\WebSockets.jl:439\n",
      "┌ Error: 51bec2bb-0e0a-4b4e-b130-13cb4b18aff7: error\n",
      "│   (e, catch_backtrace()) = (UndefVarError(:ping), Union{Ptr{Nothing}, Base.InterpreterIP}[Ptr{Nothing} @0x0000000001d84d41, Ptr{Nothing} @0x0000000001e18d2f, Ptr{Nothing} @0x000000001cb4ae9f, Ptr{Nothing} @0x000000001cb4bcfc, Ptr{Nothing} @0x000000001cb4da4a, Ptr{Nothing} @0x000000001cb4e9f9, Ptr{Nothing} @0x000000001cb4f01e, Ptr{Nothing} @0x000000001cb4f855, Ptr{Nothing} @0x000000001cb50259, Ptr{Nothing} @0x000000001cb476d5, Ptr{Nothing} @0x000000001cb4831d, Ptr{Nothing} @0x000000001cb48cd3, Ptr{Nothing} @0x000000001cb49a05, Ptr{Nothing} @0x000000001cb4a665, Ptr{Nothing} @0x000000001cb4abe8, Ptr{Nothing} @0x000000001cb4ad98, Ptr{Nothing} @0x000000001cb4ae04, Ptr{Nothing} @0x000000001caf1d4a, Ptr{Nothing} @0x000000001cb445df, Ptr{Nothing} @0x000000001cb47133, Ptr{Nothing} @0x000000001cb47353, Ptr{Nothing} @0x000000001cb473d5, Ptr{Nothing} @0x000000001cb44121, Ptr{Nothing} @0x000000001cb441b5, Ptr{Nothing} @0x000000001cb43f2f, Ptr{Nothing} @0x000000001cb43fac, Ptr{Nothing} @0x000000001cadcfc0, Ptr{Nothing} @0x000000001cadd0f4, Ptr{Nothing} @0x000000001cadd175, Ptr{Nothing} @0x000000001cb30bdb, Ptr{Nothing} @0x000000001cb30dcc, Ptr{Nothing} @0x000000001cb30e53, Ptr{Nothing} @0x0000000001e20c9f])\n",
      "└ @ HTTP.WebSockets C:\\Users\\user\\.julia\\packages\\HTTP\\GGNaX\\src\\WebSockets.jl:375\n",
      "┌ Error: WebSocketServer Error\n",
      "│   exception = (HTTP.WebSockets.WebSocketError(HTTP.WebSockets.CloseFrameBody(1008, \"Unexpected client websocket error\")), Union{Ptr{Nothing}, Base.InterpreterIP}[Ptr{Nothing} @0x000000001cb1a46a, Ptr{Nothing} @0x000000001cb1b266, Ptr{Nothing} @0x000000001cb36348, Ptr{Nothing} @0x000000001cb3652d, Ptr{Nothing} @0x000000001cb38409, Ptr{Nothing} @0x000000001cb3c838, Ptr{Nothing} @0x000000001cb3dc47, Ptr{Nothing} @0x000000001cb34479, Ptr{Nothing} @0x000000001cb34851, Ptr{Nothing} @0x000000001cb34a1b, Ptr{Nothing} @0x000000001cb3358b, Ptr{Nothing} @0x000000001cb3436a, Ptr{Nothing} @0x0000000001e20c9f])\n",
      "└ @ Main In[1]:17\n",
      "┌ Error: f4e515ae-571b-492d-885f-3aa2953d5a1d: Unexpected websocket server error\n",
      "│   (e, catch_backtrace()) = (HTTP.WebSockets.WebSocketError(HTTP.WebSockets.CloseFrameBody(1008, \"Unexpected client websocket error\")), Union{Ptr{Nothing}, Base.InterpreterIP}[Ptr{Nothing} @0x000000001cb1a46a, Ptr{Nothing} @0x000000001cb1b266, Ptr{Nothing} @0x000000001cb36348, Ptr{Nothing} @0x000000001cb3652d, Ptr{Nothing} @0x000000001cb38409, Ptr{Nothing} @0x000000001cb3c838, Ptr{Nothing} @0x000000001cb3dc47, Ptr{Nothing} @0x000000001cb34479, Ptr{Nothing} @0x000000001cb34851, Ptr{Nothing} @0x000000001cb34a1b, Ptr{Nothing} @0x000000001cb3358b, Ptr{Nothing} @0x000000001cb3436a, Ptr{Nothing} @0x0000000001e20c9f])\n",
      "└ @ HTTP.WebSockets C:\\Users\\user\\.julia\\packages\\HTTP\\GGNaX\\src\\WebSockets.jl:439\n",
      "┌ Error: e040f597-a5cb-4b1f-9f95-bcffe0665b3a: error\n",
      "│   (e, catch_backtrace()) = (UndefVarError(:ping), Union{Ptr{Nothing}, Base.InterpreterIP}[Ptr{Nothing} @0x0000000001d84d41, Ptr{Nothing} @0x0000000001e18d2f, Ptr{Nothing} @0x000000001cb4ae9f, Ptr{Nothing} @0x000000001cb4bcfc, Ptr{Nothing} @0x000000001cb4da4a, Ptr{Nothing} @0x000000001cb4e9f9, Ptr{Nothing} @0x000000001cb4f01e, Ptr{Nothing} @0x000000001cb4f855, Ptr{Nothing} @0x000000001cb50259, Ptr{Nothing} @0x000000001cb476d5, Ptr{Nothing} @0x000000001cb4831d, Ptr{Nothing} @0x000000001cb48cd3, Ptr{Nothing} @0x000000001cb49a05, Ptr{Nothing} @0x000000001cb4a665, Ptr{Nothing} @0x000000001cb4abe8, Ptr{Nothing} @0x000000001cb4ad98, Ptr{Nothing} @0x000000001cb4ae04, Ptr{Nothing} @0x000000001caf1d4a, Ptr{Nothing} @0x000000001cb445df, Ptr{Nothing} @0x000000001cb47133, Ptr{Nothing} @0x000000001cb47353, Ptr{Nothing} @0x000000001cb473d5, Ptr{Nothing} @0x000000001cb44121, Ptr{Nothing} @0x000000001cb441b5, Ptr{Nothing} @0x000000001cb43f2f, Ptr{Nothing} @0x000000001cb43fac, Ptr{Nothing} @0x000000001cadcfc0, Ptr{Nothing} @0x000000001cadd0f4, Ptr{Nothing} @0x000000001cadd175, Ptr{Nothing} @0x000000001cb30bdb, Ptr{Nothing} @0x000000001cb30dcc, Ptr{Nothing} @0x000000001cb30e53, Ptr{Nothing} @0x0000000001e20c9f])\n",
      "└ @ HTTP.WebSockets C:\\Users\\user\\.julia\\packages\\HTTP\\GGNaX\\src\\WebSockets.jl:375\n",
      "┌ Error: WebSocketServer Error\n",
      "│   exception = (HTTP.WebSockets.WebSocketError(HTTP.WebSockets.CloseFrameBody(1008, \"Unexpected client websocket error\")), Union{Ptr{Nothing}, Base.InterpreterIP}[Ptr{Nothing} @0x000000001cb1a46a, Ptr{Nothing} @0x000000001cb1b266, Ptr{Nothing} @0x000000001cb36348, Ptr{Nothing} @0x000000001cb3652d, Ptr{Nothing} @0x000000001cb38409, Ptr{Nothing} @0x000000001cb3c838, Ptr{Nothing} @0x000000001cb3dc47, Ptr{Nothing} @0x000000001cb34479, Ptr{Nothing} @0x000000001cb34851, Ptr{Nothing} @0x000000001cb34a1b, Ptr{Nothing} @0x000000001cb3358b, Ptr{Nothing} @0x000000001cb3436a, Ptr{Nothing} @0x0000000001e20c9f])\n",
      "└ @ Main In[1]:17\n",
      "┌ Error: 935c1473-8083-4c56-bd02-82ae4c3d0e54: Unexpected websocket server error\n",
      "│   (e, catch_backtrace()) = (HTTP.WebSockets.WebSocketError(HTTP.WebSockets.CloseFrameBody(1008, \"Unexpected client websocket error\")), Union{Ptr{Nothing}, Base.InterpreterIP}[Ptr{Nothing} @0x000000001cb1a46a, Ptr{Nothing} @0x000000001cb1b266, Ptr{Nothing} @0x000000001cb36348, Ptr{Nothing} @0x000000001cb3652d, Ptr{Nothing} @0x000000001cb38409, Ptr{Nothing} @0x000000001cb3c838, Ptr{Nothing} @0x000000001cb3dc47, Ptr{Nothing} @0x000000001cb34479, Ptr{Nothing} @0x000000001cb34851, Ptr{Nothing} @0x000000001cb34a1b, Ptr{Nothing} @0x000000001cb3358b, Ptr{Nothing} @0x000000001cb3436a, Ptr{Nothing} @0x0000000001e20c9f])\n",
      "└ @ HTTP.WebSockets C:\\Users\\user\\.julia\\packages\\HTTP\\GGNaX\\src\\WebSockets.jl:439\n",
      "┌ Error: 08b39758-c49f-4255-81ec-d7e5112e5412: error\n",
      "│   (e, catch_backtrace()) = (UndefVarError(:ping), Union{Ptr{Nothing}, Base.InterpreterIP}[Ptr{Nothing} @0x0000000001d84d41, Ptr{Nothing} @0x0000000001e18d2f, Ptr{Nothing} @0x000000001cb4ae9f, Ptr{Nothing} @0x000000001cb4bcfc, Ptr{Nothing} @0x000000001cb4da4a, Ptr{Nothing} @0x000000001cb4e9f9, Ptr{Nothing} @0x000000001cb4f01e, Ptr{Nothing} @0x000000001cb4f855, Ptr{Nothing} @0x000000001cb50259, Ptr{Nothing} @0x000000001cb476d5, Ptr{Nothing} @0x000000001cb4831d, Ptr{Nothing} @0x000000001cb48cd3, Ptr{Nothing} @0x000000001cb49a05, Ptr{Nothing} @0x000000001cb4a665, Ptr{Nothing} @0x000000001cb4abe8, Ptr{Nothing} @0x000000001cb4ad98, Ptr{Nothing} @0x000000001cb4ae04, Ptr{Nothing} @0x000000001caf1d4a, Ptr{Nothing} @0x000000001cb445df, Ptr{Nothing} @0x000000001cb47133, Ptr{Nothing} @0x000000001cb47353, Ptr{Nothing} @0x000000001cb473d5, Ptr{Nothing} @0x000000001cb44121, Ptr{Nothing} @0x000000001cb441b5, Ptr{Nothing} @0x000000001cb43f2f, Ptr{Nothing} @0x000000001cb43fac, Ptr{Nothing} @0x000000001cadcfc0, Ptr{Nothing} @0x000000001cadd0f4, Ptr{Nothing} @0x000000001cadd175, Ptr{Nothing} @0x000000001cb30bdb, Ptr{Nothing} @0x000000001cb30dcc, Ptr{Nothing} @0x000000001cb30e53, Ptr{Nothing} @0x0000000001e20c9f])\n",
      "└ @ HTTP.WebSockets C:\\Users\\user\\.julia\\packages\\HTTP\\GGNaX\\src\\WebSockets.jl:375\n",
      "┌ Error: WebSocketServer Error\n",
      "│   exception = (HTTP.WebSockets.WebSocketError(HTTP.WebSockets.CloseFrameBody(1008, \"Unexpected client websocket error\")), Union{Ptr{Nothing}, Base.InterpreterIP}[Ptr{Nothing} @0x000000001cb1a46a, Ptr{Nothing} @0x000000001cb1b266, Ptr{Nothing} @0x000000001cb36348, Ptr{Nothing} @0x000000001cb3652d, Ptr{Nothing} @0x000000001cb38409, Ptr{Nothing} @0x000000001cb3c838, Ptr{Nothing} @0x000000001cb3dc47, Ptr{Nothing} @0x000000001cb34479, Ptr{Nothing} @0x000000001cb34851, Ptr{Nothing} @0x000000001cb34a1b, Ptr{Nothing} @0x000000001cb3358b, Ptr{Nothing} @0x000000001cb3436a, Ptr{Nothing} @0x0000000001e20c9f])\n",
      "└ @ Main In[1]:17\n",
      "┌ Error: e76247cc-343a-4959-b364-010b1a46f025: Unexpected websocket server error\n",
      "│   (e, catch_backtrace()) = (HTTP.WebSockets.WebSocketError(HTTP.WebSockets.CloseFrameBody(1008, \"Unexpected client websocket error\")), Union{Ptr{Nothing}, Base.InterpreterIP}[Ptr{Nothing} @0x000000001cb1a46a, Ptr{Nothing} @0x000000001cb1b266, Ptr{Nothing} @0x000000001cb36348, Ptr{Nothing} @0x000000001cb3652d, Ptr{Nothing} @0x000000001cb38409, Ptr{Nothing} @0x000000001cb3c838, Ptr{Nothing} @0x000000001cb3dc47, Ptr{Nothing} @0x000000001cb34479, Ptr{Nothing} @0x000000001cb34851, Ptr{Nothing} @0x000000001cb34a1b, Ptr{Nothing} @0x000000001cb3358b, Ptr{Nothing} @0x000000001cb3436a, Ptr{Nothing} @0x0000000001e20c9f])\n",
      "└ @ HTTP.WebSockets C:\\Users\\user\\.julia\\packages\\HTTP\\GGNaX\\src\\WebSockets.jl:439\n",
      "┌ Error: a302fa0e-43df-43c7-b4f0-40721570cd6f: error\n",
      "│   (e, catch_backtrace()) = (UndefVarError(:ping), Union{Ptr{Nothing}, Base.InterpreterIP}[Ptr{Nothing} @0x0000000001d84d41, Ptr{Nothing} @0x0000000001e18d2f, Ptr{Nothing} @0x000000001cb4ae9f, Ptr{Nothing} @0x000000001cb4bcfc, Ptr{Nothing} @0x000000001cb4da4a, Ptr{Nothing} @0x000000001cb4e9f9, Ptr{Nothing} @0x000000001cb4f01e, Ptr{Nothing} @0x000000001cb4f855, Ptr{Nothing} @0x000000001cb50259, Ptr{Nothing} @0x000000001cb476d5, Ptr{Nothing} @0x000000001cb4831d, Ptr{Nothing} @0x000000001cb48cd3, Ptr{Nothing} @0x000000001cb49a05, Ptr{Nothing} @0x000000001cb4a665, Ptr{Nothing} @0x000000001cb4abe8, Ptr{Nothing} @0x000000001cb4ad98, Ptr{Nothing} @0x000000001cb4ae04, Ptr{Nothing} @0x000000001caf1d4a, Ptr{Nothing} @0x000000001cb445df, Ptr{Nothing} @0x000000001cb47133, Ptr{Nothing} @0x000000001cb47353, Ptr{Nothing} @0x000000001cb473d5, Ptr{Nothing} @0x000000001cb44121, Ptr{Nothing} @0x000000001cb441b5, Ptr{Nothing} @0x000000001cb43f2f, Ptr{Nothing} @0x000000001cb43fac, Ptr{Nothing} @0x000000001cadcfc0, Ptr{Nothing} @0x000000001cadd0f4, Ptr{Nothing} @0x000000001cadd175, Ptr{Nothing} @0x000000001cb30bdb, Ptr{Nothing} @0x000000001cb30dcc, Ptr{Nothing} @0x000000001cb30e53, Ptr{Nothing} @0x0000000001e20c9f])\n",
      "└ @ HTTP.WebSockets C:\\Users\\user\\.julia\\packages\\HTTP\\GGNaX\\src\\WebSockets.jl:375\n",
      "┌ Error: WebSocketServer Error\n",
      "│   exception = (HTTP.WebSockets.WebSocketError(HTTP.WebSockets.CloseFrameBody(1008, \"Unexpected client websocket error\")), Union{Ptr{Nothing}, Base.InterpreterIP}[Ptr{Nothing} @0x000000001cb1a46a, Ptr{Nothing} @0x000000001cb1b266, Ptr{Nothing} @0x000000001cb36348, Ptr{Nothing} @0x000000001cb3652d, Ptr{Nothing} @0x000000001cb38409, Ptr{Nothing} @0x000000001cb3c838, Ptr{Nothing} @0x000000001cb3dc47, Ptr{Nothing} @0x000000001cb34479, Ptr{Nothing} @0x000000001cb34851, Ptr{Nothing} @0x000000001cb34a1b, Ptr{Nothing} @0x000000001cb3358b, Ptr{Nothing} @0x000000001cb3436a, Ptr{Nothing} @0x0000000001e20c9f])\n",
      "└ @ Main In[1]:17\n",
      "┌ Error: b98e2b0d-2fec-4e4d-83e6-4340fff597f4: Unexpected websocket server error\n",
      "│   (e, catch_backtrace()) = (HTTP.WebSockets.WebSocketError(HTTP.WebSockets.CloseFrameBody(1008, \"Unexpected client websocket error\")), Union{Ptr{Nothing}, Base.InterpreterIP}[Ptr{Nothing} @0x000000001cb1a46a, Ptr{Nothing} @0x000000001cb1b266, Ptr{Nothing} @0x000000001cb36348, Ptr{Nothing} @0x000000001cb3652d, Ptr{Nothing} @0x000000001cb38409, Ptr{Nothing} @0x000000001cb3c838, Ptr{Nothing} @0x000000001cb3dc47, Ptr{Nothing} @0x000000001cb34479, Ptr{Nothing} @0x000000001cb34851, Ptr{Nothing} @0x000000001cb34a1b, Ptr{Nothing} @0x000000001cb3358b, Ptr{Nothing} @0x000000001cb3436a, Ptr{Nothing} @0x0000000001e20c9f])\n",
      "└ @ HTTP.WebSockets C:\\Users\\user\\.julia\\packages\\HTTP\\GGNaX\\src\\WebSockets.jl:439\n",
      "┌ Error: d0d74081-5409-49b8-bf74-454ea2ad2d59: error\n",
      "│   (e, catch_backtrace()) = (UndefVarError(:ping), Union{Ptr{Nothing}, Base.InterpreterIP}[Ptr{Nothing} @0x0000000001d84d41, Ptr{Nothing} @0x0000000001e18d2f, Ptr{Nothing} @0x000000001cb4ae9f, Ptr{Nothing} @0x000000001cb4bcfc, Ptr{Nothing} @0x000000001cb4da4a, Ptr{Nothing} @0x000000001cb4e9f9, Ptr{Nothing} @0x000000001cb4f01e, Ptr{Nothing} @0x000000001cb4f855, Ptr{Nothing} @0x000000001cb50259, Ptr{Nothing} @0x000000001cb476d5, Ptr{Nothing} @0x000000001cb4831d, Ptr{Nothing} @0x000000001cb48cd3, Ptr{Nothing} @0x000000001cb49a05, Ptr{Nothing} @0x000000001cb4a665, Ptr{Nothing} @0x000000001cb4abe8, Ptr{Nothing} @0x000000001cb4ad98, Ptr{Nothing} @0x000000001cb4ae04, Ptr{Nothing} @0x000000001caf1d4a, Ptr{Nothing} @0x000000001cb445df, Ptr{Nothing} @0x000000001cb47133, Ptr{Nothing} @0x000000001cb47353, Ptr{Nothing} @0x000000001cb473d5, Ptr{Nothing} @0x000000001cb44121, Ptr{Nothing} @0x000000001cb441b5, Ptr{Nothing} @0x000000001cb43f2f, Ptr{Nothing} @0x000000001cb43fac, Ptr{Nothing} @0x000000001cadcfc0, Ptr{Nothing} @0x000000001cadd0f4, Ptr{Nothing} @0x000000001cadd175, Ptr{Nothing} @0x000000001cb30bdb, Ptr{Nothing} @0x000000001cb30dcc, Ptr{Nothing} @0x000000001cb30e53, Ptr{Nothing} @0x0000000001e20c9f])\n",
      "└ @ HTTP.WebSockets C:\\Users\\user\\.julia\\packages\\HTTP\\GGNaX\\src\\WebSockets.jl:375\n",
      "┌ Error: WebSocketServer Error\n",
      "│   exception = (HTTP.WebSockets.WebSocketError(HTTP.WebSockets.CloseFrameBody(1008, \"Unexpected client websocket error\")), Union{Ptr{Nothing}, Base.InterpreterIP}[Ptr{Nothing} @0x000000001cb1a46a, Ptr{Nothing} @0x000000001cb1b266, Ptr{Nothing} @0x000000001cb36348, Ptr{Nothing} @0x000000001cb3652d, Ptr{Nothing} @0x000000001cb38409, Ptr{Nothing} @0x000000001cb3c838, Ptr{Nothing} @0x000000001cb3dc47, Ptr{Nothing} @0x000000001cb34479, Ptr{Nothing} @0x000000001cb34851, Ptr{Nothing} @0x000000001cb34a1b, Ptr{Nothing} @0x000000001cb3358b, Ptr{Nothing} @0x000000001cb3436a, Ptr{Nothing} @0x0000000001e20c9f])\n",
      "└ @ Main In[1]:17\n",
      "┌ Error: 331ce370-ac39-496b-b0c5-b6b54ec46b68: Unexpected websocket server error\n",
      "│   (e, catch_backtrace()) = (HTTP.WebSockets.WebSocketError(HTTP.WebSockets.CloseFrameBody(1008, \"Unexpected client websocket error\")), Union{Ptr{Nothing}, Base.InterpreterIP}[Ptr{Nothing} @0x000000001cb1a46a, Ptr{Nothing} @0x000000001cb1b266, Ptr{Nothing} @0x000000001cb36348, Ptr{Nothing} @0x000000001cb3652d, Ptr{Nothing} @0x000000001cb38409, Ptr{Nothing} @0x000000001cb3c838, Ptr{Nothing} @0x000000001cb3dc47, Ptr{Nothing} @0x000000001cb34479, Ptr{Nothing} @0x000000001cb34851, Ptr{Nothing} @0x000000001cb34a1b, Ptr{Nothing} @0x000000001cb3358b, Ptr{Nothing} @0x000000001cb3436a, Ptr{Nothing} @0x0000000001e20c9f])\n",
      "└ @ HTTP.WebSockets C:\\Users\\user\\.julia\\packages\\HTTP\\GGNaX\\src\\WebSockets.jl:439\n",
      "┌ Error: a4c7b255-f87a-4d29-bbaa-10374474e6d9: error\n",
      "│   (e, catch_backtrace()) = (UndefVarError(:ping), Union{Ptr{Nothing}, Base.InterpreterIP}[Ptr{Nothing} @0x0000000001d84d41, Ptr{Nothing} @0x0000000001e18d2f, Ptr{Nothing} @0x000000001cb4ae9f, Ptr{Nothing} @0x000000001cb4bcfc, Ptr{Nothing} @0x000000001cb4da4a, Ptr{Nothing} @0x000000001cb4e9f9, Ptr{Nothing} @0x000000001cb4f01e, Ptr{Nothing} @0x000000001cb4f855, Ptr{Nothing} @0x000000001cb50259, Ptr{Nothing} @0x000000001cb476d5, Ptr{Nothing} @0x000000001cb4831d, Ptr{Nothing} @0x000000001cb48cd3, Ptr{Nothing} @0x000000001cb49a05, Ptr{Nothing} @0x000000001cb4a665, Ptr{Nothing} @0x000000001cb4abe8, Ptr{Nothing} @0x000000001cb4ad98, Ptr{Nothing} @0x000000001cb4ae04, Ptr{Nothing} @0x000000001caf1d4a, Ptr{Nothing} @0x000000001cb445df, Ptr{Nothing} @0x000000001cb47133, Ptr{Nothing} @0x000000001cb47353, Ptr{Nothing} @0x000000001cb473d5, Ptr{Nothing} @0x000000001cb44121, Ptr{Nothing} @0x000000001cb441b5, Ptr{Nothing} @0x000000001cb43f2f, Ptr{Nothing} @0x000000001cb43fac, Ptr{Nothing} @0x000000001cadcfc0, Ptr{Nothing} @0x000000001cadd0f4, Ptr{Nothing} @0x000000001cadd175, Ptr{Nothing} @0x000000001cb30bdb, Ptr{Nothing} @0x000000001cb30dcc, Ptr{Nothing} @0x000000001cb30e53, Ptr{Nothing} @0x0000000001e20c9f])\n",
      "└ @ HTTP.WebSockets C:\\Users\\user\\.julia\\packages\\HTTP\\GGNaX\\src\\WebSockets.jl:375\n",
      "┌ Error: WebSocketServer Error\n",
      "│   exception = (HTTP.WebSockets.WebSocketError(HTTP.WebSockets.CloseFrameBody(1008, \"Unexpected client websocket error\")), Union{Ptr{Nothing}, Base.InterpreterIP}[Ptr{Nothing} @0x000000001cb1a46a, Ptr{Nothing} @0x000000001cb1b266, Ptr{Nothing} @0x000000001cb36348, Ptr{Nothing} @0x000000001cb3652d, Ptr{Nothing} @0x000000001cb38409, Ptr{Nothing} @0x000000001cb3c838, Ptr{Nothing} @0x000000001cb3dc47, Ptr{Nothing} @0x000000001cb34479, Ptr{Nothing} @0x000000001cb34851, Ptr{Nothing} @0x000000001cb34a1b, Ptr{Nothing} @0x000000001cb3358b, Ptr{Nothing} @0x000000001cb3436a, Ptr{Nothing} @0x0000000001e20c9f])\n",
      "└ @ Main In[1]:17\n",
      "┌ Error: 431b61cb-2a5a-4017-8cc6-f2cdff29bd54: Unexpected websocket server error\n",
      "│   (e, catch_backtrace()) = (HTTP.WebSockets.WebSocketError(HTTP.WebSockets.CloseFrameBody(1008, \"Unexpected client websocket error\")), Union{Ptr{Nothing}, Base.InterpreterIP}[Ptr{Nothing} @0x000000001cb1a46a, Ptr{Nothing} @0x000000001cb1b266, Ptr{Nothing} @0x000000001cb36348, Ptr{Nothing} @0x000000001cb3652d, Ptr{Nothing} @0x000000001cb38409, Ptr{Nothing} @0x000000001cb3c838, Ptr{Nothing} @0x000000001cb3dc47, Ptr{Nothing} @0x000000001cb34479, Ptr{Nothing} @0x000000001cb34851, Ptr{Nothing} @0x000000001cb34a1b, Ptr{Nothing} @0x000000001cb3358b, Ptr{Nothing} @0x000000001cb3436a, Ptr{Nothing} @0x0000000001e20c9f])\n",
      "└ @ HTTP.WebSockets C:\\Users\\user\\.julia\\packages\\HTTP\\GGNaX\\src\\WebSockets.jl:439\n",
      "┌ Error: 9dcf6f8d-dd4b-460a-ac7e-64f9c434a0f4: error\n",
      "│   (e, catch_backtrace()) = (UndefVarError(:ping), Union{Ptr{Nothing}, Base.InterpreterIP}[Ptr{Nothing} @0x0000000001d84d41, Ptr{Nothing} @0x0000000001e18d2f, Ptr{Nothing} @0x000000001cb4ae9f, Ptr{Nothing} @0x000000001cb4bcfc, Ptr{Nothing} @0x000000001cb4da4a, Ptr{Nothing} @0x000000001cb4e9f9, Ptr{Nothing} @0x000000001cb4f01e, Ptr{Nothing} @0x000000001cb4f855, Ptr{Nothing} @0x000000001cb50259, Ptr{Nothing} @0x000000001cb476d5, Ptr{Nothing} @0x000000001cb4831d, Ptr{Nothing} @0x000000001cb48cd3, Ptr{Nothing} @0x000000001cb49a05, Ptr{Nothing} @0x000000001cb4a665, Ptr{Nothing} @0x000000001cb4abe8, Ptr{Nothing} @0x000000001cb4ad98, Ptr{Nothing} @0x000000001cb4ae04, Ptr{Nothing} @0x000000001caf1d4a, Ptr{Nothing} @0x000000001cb445df, Ptr{Nothing} @0x000000001cb47133, Ptr{Nothing} @0x000000001cb47353, Ptr{Nothing} @0x000000001cb473d5, Ptr{Nothing} @0x000000001cb44121, Ptr{Nothing} @0x000000001cb441b5, Ptr{Nothing} @0x000000001cb43f2f, Ptr{Nothing} @0x000000001cb43fac, Ptr{Nothing} @0x000000001cadcfc0, Ptr{Nothing} @0x000000001cadd0f4, Ptr{Nothing} @0x000000001cadd175, Ptr{Nothing} @0x000000001cb30bdb, Ptr{Nothing} @0x000000001cb30dcc, Ptr{Nothing} @0x000000001cb30e53, Ptr{Nothing} @0x0000000001e20c9f])\n",
      "└ @ HTTP.WebSockets C:\\Users\\user\\.julia\\packages\\HTTP\\GGNaX\\src\\WebSockets.jl:375\n",
      "┌ Error: WebSocketServer Error\n",
      "│   exception = (HTTP.WebSockets.WebSocketError(HTTP.WebSockets.CloseFrameBody(1008, \"Unexpected client websocket error\")), Union{Ptr{Nothing}, Base.InterpreterIP}[Ptr{Nothing} @0x000000001cb1a46a, Ptr{Nothing} @0x000000001cb1b266, Ptr{Nothing} @0x000000001cb36348, Ptr{Nothing} @0x000000001cb3652d, Ptr{Nothing} @0x000000001cb38409, Ptr{Nothing} @0x000000001cb3c838, Ptr{Nothing} @0x000000001cb3dc47, Ptr{Nothing} @0x000000001cb34479, Ptr{Nothing} @0x000000001cb34851, Ptr{Nothing} @0x000000001cb34a1b, Ptr{Nothing} @0x000000001cb3358b, Ptr{Nothing} @0x000000001cb3436a, Ptr{Nothing} @0x0000000001e20c9f])\n",
      "└ @ Main In[1]:17\n",
      "┌ Error: 938edfff-757c-4518-9d0f-16d0a3086b24: Unexpected websocket server error\n",
      "│   (e, catch_backtrace()) = (HTTP.WebSockets.WebSocketError(HTTP.WebSockets.CloseFrameBody(1008, \"Unexpected client websocket error\")), Union{Ptr{Nothing}, Base.InterpreterIP}[Ptr{Nothing} @0x000000001cb1a46a, Ptr{Nothing} @0x000000001cb1b266, Ptr{Nothing} @0x000000001cb36348, Ptr{Nothing} @0x000000001cb3652d, Ptr{Nothing} @0x000000001cb38409, Ptr{Nothing} @0x000000001cb3c838, Ptr{Nothing} @0x000000001cb3dc47, Ptr{Nothing} @0x000000001cb34479, Ptr{Nothing} @0x000000001cb34851, Ptr{Nothing} @0x000000001cb34a1b, Ptr{Nothing} @0x000000001cb3358b, Ptr{Nothing} @0x000000001cb3436a, Ptr{Nothing} @0x0000000001e20c9f])\n",
      "└ @ HTTP.WebSockets C:\\Users\\user\\.julia\\packages\\HTTP\\GGNaX\\src\\WebSockets.jl:439\n",
      "┌ Error: 46271d74-52f2-41e4-b596-e7ae24ea8d25: error\n",
      "│   (e, catch_backtrace()) = (UndefVarError(:ping), Union{Ptr{Nothing}, Base.InterpreterIP}[Ptr{Nothing} @0x0000000001d84d41, Ptr{Nothing} @0x0000000001e18d2f, Ptr{Nothing} @0x000000001cb4ae9f, Ptr{Nothing} @0x000000001cb4bcfc, Ptr{Nothing} @0x000000001cb4da4a, Ptr{Nothing} @0x000000001cb4e9f9, Ptr{Nothing} @0x000000001cb4f01e, Ptr{Nothing} @0x000000001cb4f855, Ptr{Nothing} @0x000000001cb50259, Ptr{Nothing} @0x000000001cb476d5, Ptr{Nothing} @0x000000001cb4831d, Ptr{Nothing} @0x000000001cb48cd3, Ptr{Nothing} @0x000000001cb49a05, Ptr{Nothing} @0x000000001cb4a665, Ptr{Nothing} @0x000000001cb4abe8, Ptr{Nothing} @0x000000001cb4ad98, Ptr{Nothing} @0x000000001cb4ae04, Ptr{Nothing} @0x000000001caf1d4a, Ptr{Nothing} @0x000000001cb445df, Ptr{Nothing} @0x000000001cb47133, Ptr{Nothing} @0x000000001cb47353, Ptr{Nothing} @0x000000001cb473d5, Ptr{Nothing} @0x000000001cb44121, Ptr{Nothing} @0x000000001cb441b5, Ptr{Nothing} @0x000000001cb43f2f, Ptr{Nothing} @0x000000001cb43fac, Ptr{Nothing} @0x000000001cadcfc0, Ptr{Nothing} @0x000000001cadd0f4, Ptr{Nothing} @0x000000001cadd175, Ptr{Nothing} @0x000000001cb30bdb, Ptr{Nothing} @0x000000001cb30dcc, Ptr{Nothing} @0x000000001cb30e53, Ptr{Nothing} @0x0000000001e20c9f])\n",
      "└ @ HTTP.WebSockets C:\\Users\\user\\.julia\\packages\\HTTP\\GGNaX\\src\\WebSockets.jl:375\n",
      "┌ Error: WebSocketServer Error\n",
      "│   exception = (HTTP.WebSockets.WebSocketError(HTTP.WebSockets.CloseFrameBody(1008, \"Unexpected client websocket error\")), Union{Ptr{Nothing}, Base.InterpreterIP}[Ptr{Nothing} @0x000000001cb1a46a, Ptr{Nothing} @0x000000001cb1b266, Ptr{Nothing} @0x000000001cb36348, Ptr{Nothing} @0x000000001cb3652d, Ptr{Nothing} @0x000000001cb38409, Ptr{Nothing} @0x000000001cb3c838, Ptr{Nothing} @0x000000001cb3dc47, Ptr{Nothing} @0x000000001cb34479, Ptr{Nothing} @0x000000001cb34851, Ptr{Nothing} @0x000000001cb34a1b, Ptr{Nothing} @0x000000001cb3358b, Ptr{Nothing} @0x000000001cb3436a, Ptr{Nothing} @0x0000000001e20c9f])\n",
      "└ @ Main In[1]:17\n",
      "┌ Error: 7da3228a-9297-4fa4-8281-897704c46232: Unexpected websocket server error\n",
      "│   (e, catch_backtrace()) = (HTTP.WebSockets.WebSocketError(HTTP.WebSockets.CloseFrameBody(1008, \"Unexpected client websocket error\")), Union{Ptr{Nothing}, Base.InterpreterIP}[Ptr{Nothing} @0x000000001cb1a46a, Ptr{Nothing} @0x000000001cb1b266, Ptr{Nothing} @0x000000001cb36348, Ptr{Nothing} @0x000000001cb3652d, Ptr{Nothing} @0x000000001cb38409, Ptr{Nothing} @0x000000001cb3c838, Ptr{Nothing} @0x000000001cb3dc47, Ptr{Nothing} @0x000000001cb34479, Ptr{Nothing} @0x000000001cb34851, Ptr{Nothing} @0x000000001cb34a1b, Ptr{Nothing} @0x000000001cb3358b, Ptr{Nothing} @0x000000001cb3436a, Ptr{Nothing} @0x0000000001e20c9f])\n",
      "└ @ HTTP.WebSockets C:\\Users\\user\\.julia\\packages\\HTTP\\GGNaX\\src\\WebSockets.jl:439\n",
      "┌ Error: 586234a5-8881-49c5-9abd-d97b52225a43: error\n",
      "│   (e, catch_backtrace()) = (UndefVarError(:ping), Union{Ptr{Nothing}, Base.InterpreterIP}[Ptr{Nothing} @0x0000000001d84d41, Ptr{Nothing} @0x0000000001e18d2f, Ptr{Nothing} @0x000000001cb4ae9f, Ptr{Nothing} @0x000000001cb4bcfc, Ptr{Nothing} @0x000000001cb4da4a, Ptr{Nothing} @0x000000001cb4e9f9, Ptr{Nothing} @0x000000001cb4f01e, Ptr{Nothing} @0x000000001cb4f855, Ptr{Nothing} @0x000000001cb50259, Ptr{Nothing} @0x000000001cb476d5, Ptr{Nothing} @0x000000001cb4831d, Ptr{Nothing} @0x000000001cb48cd3, Ptr{Nothing} @0x000000001cb49a05, Ptr{Nothing} @0x000000001cb4a665, Ptr{Nothing} @0x000000001cb4abe8, Ptr{Nothing} @0x000000001cb4ad98, Ptr{Nothing} @0x000000001cb4ae04, Ptr{Nothing} @0x000000001caf1d4a, Ptr{Nothing} @0x000000001cb445df, Ptr{Nothing} @0x000000001cb47133, Ptr{Nothing} @0x000000001cb47353, Ptr{Nothing} @0x000000001cb473d5, Ptr{Nothing} @0x000000001cb44121, Ptr{Nothing} @0x000000001cb441b5, Ptr{Nothing} @0x000000001cb43f2f, Ptr{Nothing} @0x000000001cb43fac, Ptr{Nothing} @0x000000001cadcfc0, Ptr{Nothing} @0x000000001cadd0f4, Ptr{Nothing} @0x000000001cadd175, Ptr{Nothing} @0x000000001cb30bdb, Ptr{Nothing} @0x000000001cb30dcc, Ptr{Nothing} @0x000000001cb30e53, Ptr{Nothing} @0x0000000001e20c9f])\n",
      "└ @ HTTP.WebSockets C:\\Users\\user\\.julia\\packages\\HTTP\\GGNaX\\src\\WebSockets.jl:375\n",
      "┌ Error: WebSocketServer Error\n",
      "│   exception = (HTTP.WebSockets.WebSocketError(HTTP.WebSockets.CloseFrameBody(1008, \"Unexpected client websocket error\")), Union{Ptr{Nothing}, Base.InterpreterIP}[Ptr{Nothing} @0x000000001cb1a46a, Ptr{Nothing} @0x000000001cb1b266, Ptr{Nothing} @0x000000001cb36348, Ptr{Nothing} @0x000000001cb3652d, Ptr{Nothing} @0x000000001cb38409, Ptr{Nothing} @0x000000001cb3c838, Ptr{Nothing} @0x000000001cb3dc47, Ptr{Nothing} @0x000000001cb34479, Ptr{Nothing} @0x000000001cb34851, Ptr{Nothing} @0x000000001cb34a1b, Ptr{Nothing} @0x000000001cb3358b, Ptr{Nothing} @0x000000001cb3436a, Ptr{Nothing} @0x0000000001e20c9f])\n",
      "└ @ Main In[1]:17\n",
      "┌ Error: 01f05bd4-d1cd-4753-abe5-fc5599e578b4: Unexpected websocket server error\n",
      "│   (e, catch_backtrace()) = (HTTP.WebSockets.WebSocketError(HTTP.WebSockets.CloseFrameBody(1008, \"Unexpected client websocket error\")), Union{Ptr{Nothing}, Base.InterpreterIP}[Ptr{Nothing} @0x000000001cb1a46a, Ptr{Nothing} @0x000000001cb1b266, Ptr{Nothing} @0x000000001cb36348, Ptr{Nothing} @0x000000001cb3652d, Ptr{Nothing} @0x000000001cb38409, Ptr{Nothing} @0x000000001cb3c838, Ptr{Nothing} @0x000000001cb3dc47, Ptr{Nothing} @0x000000001cb34479, Ptr{Nothing} @0x000000001cb34851, Ptr{Nothing} @0x000000001cb34a1b, Ptr{Nothing} @0x000000001cb3358b, Ptr{Nothing} @0x000000001cb3436a, Ptr{Nothing} @0x0000000001e20c9f])\n",
      "└ @ HTTP.WebSockets C:\\Users\\user\\.julia\\packages\\HTTP\\GGNaX\\src\\WebSockets.jl:439\n",
      "┌ Error: d749d0d7-a3e3-4d18-9e70-bafc47b01cf1: error\n",
      "│   (e, catch_backtrace()) = (UndefVarError(:ping), Union{Ptr{Nothing}, Base.InterpreterIP}[Ptr{Nothing} @0x0000000001d84d41, Ptr{Nothing} @0x0000000001e18d2f, Ptr{Nothing} @0x000000001cb4ae9f, Ptr{Nothing} @0x000000001cb4bcfc, Ptr{Nothing} @0x000000001cb4da4a, Ptr{Nothing} @0x000000001cb4e9f9, Ptr{Nothing} @0x000000001cb4f01e, Ptr{Nothing} @0x000000001cb4f855, Ptr{Nothing} @0x000000001cb50259, Ptr{Nothing} @0x000000001cb476d5, Ptr{Nothing} @0x000000001cb4831d, Ptr{Nothing} @0x000000001cb48cd3, Ptr{Nothing} @0x000000001cb49a05, Ptr{Nothing} @0x000000001cb4a665, Ptr{Nothing} @0x000000001cb4abe8, Ptr{Nothing} @0x000000001cb4ad98, Ptr{Nothing} @0x000000001cb4ae04, Ptr{Nothing} @0x000000001caf1d4a, Ptr{Nothing} @0x000000001cb445df, Ptr{Nothing} @0x000000001cb47133, Ptr{Nothing} @0x000000001cb47353, Ptr{Nothing} @0x000000001cb473d5, Ptr{Nothing} @0x000000001cb44121, Ptr{Nothing} @0x000000001cb441b5, Ptr{Nothing} @0x000000001cb43f2f, Ptr{Nothing} @0x000000001cb43fac, Ptr{Nothing} @0x000000001cadcfc0, Ptr{Nothing} @0x000000001cadd0f4, Ptr{Nothing} @0x000000001cadd175, Ptr{Nothing} @0x000000001cb30bdb, Ptr{Nothing} @0x000000001cb30dcc, Ptr{Nothing} @0x000000001cb30e53, Ptr{Nothing} @0x0000000001e20c9f])\n",
      "└ @ HTTP.WebSockets C:\\Users\\user\\.julia\\packages\\HTTP\\GGNaX\\src\\WebSockets.jl:375\n",
      "┌ Error: WebSocketServer Error\n",
      "│   exception = (HTTP.WebSockets.WebSocketError(HTTP.WebSockets.CloseFrameBody(1008, \"Unexpected client websocket error\")), Union{Ptr{Nothing}, Base.InterpreterIP}[Ptr{Nothing} @0x000000001cb1a46a, Ptr{Nothing} @0x000000001cb1b266, Ptr{Nothing} @0x000000001cb36348, Ptr{Nothing} @0x000000001cb3652d, Ptr{Nothing} @0x000000001cb38409, Ptr{Nothing} @0x000000001cb3c838, Ptr{Nothing} @0x000000001cb3dc47, Ptr{Nothing} @0x000000001cb34479, Ptr{Nothing} @0x000000001cb34851, Ptr{Nothing} @0x000000001cb34a1b, Ptr{Nothing} @0x000000001cb3358b, Ptr{Nothing} @0x000000001cb3436a, Ptr{Nothing} @0x0000000001e20c9f])\n",
      "└ @ Main In[1]:17\n",
      "┌ Error: 02362148-cc6b-438d-9b36-1b3742140efb: Unexpected websocket server error\n",
      "│   (e, catch_backtrace()) = (HTTP.WebSockets.WebSocketError(HTTP.WebSockets.CloseFrameBody(1008, \"Unexpected client websocket error\")), Union{Ptr{Nothing}, Base.InterpreterIP}[Ptr{Nothing} @0x000000001cb1a46a, Ptr{Nothing} @0x000000001cb1b266, Ptr{Nothing} @0x000000001cb36348, Ptr{Nothing} @0x000000001cb3652d, Ptr{Nothing} @0x000000001cb38409, Ptr{Nothing} @0x000000001cb3c838, Ptr{Nothing} @0x000000001cb3dc47, Ptr{Nothing} @0x000000001cb34479, Ptr{Nothing} @0x000000001cb34851, Ptr{Nothing} @0x000000001cb34a1b, Ptr{Nothing} @0x000000001cb3358b, Ptr{Nothing} @0x000000001cb3436a, Ptr{Nothing} @0x0000000001e20c9f])\n",
      "└ @ HTTP.WebSockets C:\\Users\\user\\.julia\\packages\\HTTP\\GGNaX\\src\\WebSockets.jl:439\n",
      "┌ Error: ff7e7c37-5ae5-4fae-b784-7a41dfaf9b7e: error\n",
      "│   (e, catch_backtrace()) = (UndefVarError(:ping), Union{Ptr{Nothing}, Base.InterpreterIP}[Ptr{Nothing} @0x0000000001d84d41, Ptr{Nothing} @0x0000000001e18d2f, Ptr{Nothing} @0x000000001cb4ae9f, Ptr{Nothing} @0x000000001cb4bcfc, Ptr{Nothing} @0x000000001cb4da4a, Ptr{Nothing} @0x000000001cb4e9f9, Ptr{Nothing} @0x000000001cb4f01e, Ptr{Nothing} @0x000000001cb4f855, Ptr{Nothing} @0x000000001cb50259, Ptr{Nothing} @0x000000001cb476d5, Ptr{Nothing} @0x000000001cb4831d, Ptr{Nothing} @0x000000001cb48cd3, Ptr{Nothing} @0x000000001cb49a05, Ptr{Nothing} @0x000000001cb4a665, Ptr{Nothing} @0x000000001cb4abe8, Ptr{Nothing} @0x000000001cb4ad98, Ptr{Nothing} @0x000000001cb4ae04, Ptr{Nothing} @0x000000001caf1d4a, Ptr{Nothing} @0x000000001cb445df, Ptr{Nothing} @0x000000001cb47133, Ptr{Nothing} @0x000000001cb47353, Ptr{Nothing} @0x000000001cb473d5, Ptr{Nothing} @0x000000001cb44121, Ptr{Nothing} @0x000000001cb441b5, Ptr{Nothing} @0x000000001cb43f2f, Ptr{Nothing} @0x000000001cb43fac, Ptr{Nothing} @0x000000001cadcfc0, Ptr{Nothing} @0x000000001cadd0f4, Ptr{Nothing} @0x000000001cadd175, Ptr{Nothing} @0x000000001cb30bdb, Ptr{Nothing} @0x000000001cb30dcc, Ptr{Nothing} @0x000000001cb30e53, Ptr{Nothing} @0x0000000001e20c9f])\n",
      "└ @ HTTP.WebSockets C:\\Users\\user\\.julia\\packages\\HTTP\\GGNaX\\src\\WebSockets.jl:375\n",
      "┌ Error: WebSocketServer Error\n",
      "│   exception = (HTTP.WebSockets.WebSocketError(HTTP.WebSockets.CloseFrameBody(1008, \"Unexpected client websocket error\")), Union{Ptr{Nothing}, Base.InterpreterIP}[Ptr{Nothing} @0x000000001cb1a46a, Ptr{Nothing} @0x000000001cb1b266, Ptr{Nothing} @0x000000001cb36348, Ptr{Nothing} @0x000000001cb3652d, Ptr{Nothing} @0x000000001cb38409, Ptr{Nothing} @0x000000001cb3c838, Ptr{Nothing} @0x000000001cb3dc47, Ptr{Nothing} @0x000000001cb34479, Ptr{Nothing} @0x000000001cb34851, Ptr{Nothing} @0x000000001cb34a1b, Ptr{Nothing} @0x000000001cb3358b, Ptr{Nothing} @0x000000001cb3436a, Ptr{Nothing} @0x0000000001e20c9f])\n",
      "└ @ Main In[1]:17\n",
      "┌ Error: 5916f240-3a7a-4e56-9963-e85d3f43ba8e: Unexpected websocket server error\n",
      "│   (e, catch_backtrace()) = (HTTP.WebSockets.WebSocketError(HTTP.WebSockets.CloseFrameBody(1008, \"Unexpected client websocket error\")), Union{Ptr{Nothing}, Base.InterpreterIP}[Ptr{Nothing} @0x000000001cb1a46a, Ptr{Nothing} @0x000000001cb1b266, Ptr{Nothing} @0x000000001cb36348, Ptr{Nothing} @0x000000001cb3652d, Ptr{Nothing} @0x000000001cb38409, Ptr{Nothing} @0x000000001cb3c838, Ptr{Nothing} @0x000000001cb3dc47, Ptr{Nothing} @0x000000001cb34479, Ptr{Nothing} @0x000000001cb34851, Ptr{Nothing} @0x000000001cb34a1b, Ptr{Nothing} @0x000000001cb3358b, Ptr{Nothing} @0x000000001cb3436a, Ptr{Nothing} @0x0000000001e20c9f])\n",
      "└ @ HTTP.WebSockets C:\\Users\\user\\.julia\\packages\\HTTP\\GGNaX\\src\\WebSockets.jl:439\n",
      "┌ Error: 9c18cae9-5ba2-46fc-b2d2-0b619f3c337f: error\n",
      "│   (e, catch_backtrace()) = (UndefVarError(:ping), Union{Ptr{Nothing}, Base.InterpreterIP}[Ptr{Nothing} @0x0000000001d84d41, Ptr{Nothing} @0x0000000001e18d2f, Ptr{Nothing} @0x000000001cb4ae9f, Ptr{Nothing} @0x000000001cb4bcfc, Ptr{Nothing} @0x000000001cb4da4a, Ptr{Nothing} @0x000000001cb4e9f9, Ptr{Nothing} @0x000000001cb4f01e, Ptr{Nothing} @0x000000001cb4f855, Ptr{Nothing} @0x000000001cb50259, Ptr{Nothing} @0x000000001cb476d5, Ptr{Nothing} @0x000000001cb4831d, Ptr{Nothing} @0x000000001cb48cd3, Ptr{Nothing} @0x000000001cb49a05, Ptr{Nothing} @0x000000001cb4a665, Ptr{Nothing} @0x000000001cb4abe8, Ptr{Nothing} @0x000000001cb4ad98, Ptr{Nothing} @0x000000001cb4ae04, Ptr{Nothing} @0x000000001caf1d4a, Ptr{Nothing} @0x000000001cb445df, Ptr{Nothing} @0x000000001cb47133, Ptr{Nothing} @0x000000001cb47353, Ptr{Nothing} @0x000000001cb473d5, Ptr{Nothing} @0x000000001cb44121, Ptr{Nothing} @0x000000001cb441b5, Ptr{Nothing} @0x000000001cb43f2f, Ptr{Nothing} @0x000000001cb43fac, Ptr{Nothing} @0x000000001cadcfc0, Ptr{Nothing} @0x000000001cadd0f4, Ptr{Nothing} @0x000000001cadd175, Ptr{Nothing} @0x000000001cb30bdb, Ptr{Nothing} @0x000000001cb30dcc, Ptr{Nothing} @0x000000001cb30e53, Ptr{Nothing} @0x0000000001e20c9f])\n",
      "└ @ HTTP.WebSockets C:\\Users\\user\\.julia\\packages\\HTTP\\GGNaX\\src\\WebSockets.jl:375\n",
      "┌ Error: WebSocketServer Error\n",
      "│   exception = (HTTP.WebSockets.WebSocketError(HTTP.WebSockets.CloseFrameBody(1008, \"Unexpected client websocket error\")), Union{Ptr{Nothing}, Base.InterpreterIP}[Ptr{Nothing} @0x000000001cb1a46a, Ptr{Nothing} @0x000000001cb1b266, Ptr{Nothing} @0x000000001cb36348, Ptr{Nothing} @0x000000001cb3652d, Ptr{Nothing} @0x000000001cb38409, Ptr{Nothing} @0x000000001cb3c838, Ptr{Nothing} @0x000000001cb3dc47, Ptr{Nothing} @0x000000001cb34479, Ptr{Nothing} @0x000000001cb34851, Ptr{Nothing} @0x000000001cb34a1b, Ptr{Nothing} @0x000000001cb3358b, Ptr{Nothing} @0x000000001cb3436a, Ptr{Nothing} @0x0000000001e20c9f])\n",
      "└ @ Main In[1]:17\n",
      "┌ Error: 10ad681d-d927-4401-820a-198baa2e22f5: Unexpected websocket server error\n",
      "│   (e, catch_backtrace()) = (HTTP.WebSockets.WebSocketError(HTTP.WebSockets.CloseFrameBody(1008, \"Unexpected client websocket error\")), Union{Ptr{Nothing}, Base.InterpreterIP}[Ptr{Nothing} @0x000000001cb1a46a, Ptr{Nothing} @0x000000001cb1b266, Ptr{Nothing} @0x000000001cb36348, Ptr{Nothing} @0x000000001cb3652d, Ptr{Nothing} @0x000000001cb38409, Ptr{Nothing} @0x000000001cb3c838, Ptr{Nothing} @0x000000001cb3dc47, Ptr{Nothing} @0x000000001cb34479, Ptr{Nothing} @0x000000001cb34851, Ptr{Nothing} @0x000000001cb34a1b, Ptr{Nothing} @0x000000001cb3358b, Ptr{Nothing} @0x000000001cb3436a, Ptr{Nothing} @0x0000000001e20c9f])\n",
      "└ @ HTTP.WebSockets C:\\Users\\user\\.julia\\packages\\HTTP\\GGNaX\\src\\WebSockets.jl:439\n",
      "┌ Error: ddd41e2a-ec8a-4ed7-9fb5-4ed7273c27fb: error\n",
      "│   (e, catch_backtrace()) = (UndefVarError(:ping), Union{Ptr{Nothing}, Base.InterpreterIP}[Ptr{Nothing} @0x0000000001d84d41, Ptr{Nothing} @0x0000000001e18d2f, Ptr{Nothing} @0x000000001cb4ae9f, Ptr{Nothing} @0x000000001cb4bcfc, Ptr{Nothing} @0x000000001cb4da4a, Ptr{Nothing} @0x000000001cb4e9f9, Ptr{Nothing} @0x000000001cb4f01e, Ptr{Nothing} @0x000000001cb4f855, Ptr{Nothing} @0x000000001cb50259, Ptr{Nothing} @0x000000001cb476d5, Ptr{Nothing} @0x000000001cb4831d, Ptr{Nothing} @0x000000001cb48cd3, Ptr{Nothing} @0x000000001cb49a05, Ptr{Nothing} @0x000000001cb4a665, Ptr{Nothing} @0x000000001cb4abe8, Ptr{Nothing} @0x000000001cb4ad98, Ptr{Nothing} @0x000000001cb4ae04, Ptr{Nothing} @0x000000001caf1d4a, Ptr{Nothing} @0x000000001cb445df, Ptr{Nothing} @0x000000001cb47133, Ptr{Nothing} @0x000000001cb47353, Ptr{Nothing} @0x000000001cb473d5, Ptr{Nothing} @0x000000001cb44121, Ptr{Nothing} @0x000000001cb441b5, Ptr{Nothing} @0x000000001cb43f2f, Ptr{Nothing} @0x000000001cb43fac, Ptr{Nothing} @0x000000001cadcfc0, Ptr{Nothing} @0x000000001cadd0f4, Ptr{Nothing} @0x000000001cadd175, Ptr{Nothing} @0x000000001cb30bdb, Ptr{Nothing} @0x000000001cb30dcc, Ptr{Nothing} @0x000000001cb30e53, Ptr{Nothing} @0x0000000001e20c9f])\n",
      "└ @ HTTP.WebSockets C:\\Users\\user\\.julia\\packages\\HTTP\\GGNaX\\src\\WebSockets.jl:375\n",
      "┌ Error: WebSocketServer Error\n",
      "│   exception = (HTTP.WebSockets.WebSocketError(HTTP.WebSockets.CloseFrameBody(1008, \"Unexpected client websocket error\")), Union{Ptr{Nothing}, Base.InterpreterIP}[Ptr{Nothing} @0x000000001cb1a46a, Ptr{Nothing} @0x000000001cb1b266, Ptr{Nothing} @0x000000001cb36348, Ptr{Nothing} @0x000000001cb3652d, Ptr{Nothing} @0x000000001cb38409, Ptr{Nothing} @0x000000001cb3c838, Ptr{Nothing} @0x000000001cb3dc47, Ptr{Nothing} @0x000000001cb34479, Ptr{Nothing} @0x000000001cb34851, Ptr{Nothing} @0x000000001cb34a1b, Ptr{Nothing} @0x000000001cb3358b, Ptr{Nothing} @0x000000001cb3436a, Ptr{Nothing} @0x0000000001e20c9f])\n",
      "└ @ Main In[1]:17\n",
      "┌ Error: 3df24e17-7ea4-49a4-9489-3e1d2c22ebf2: Unexpected websocket server error\n",
      "│   (e, catch_backtrace()) = (HTTP.WebSockets.WebSocketError(HTTP.WebSockets.CloseFrameBody(1008, \"Unexpected client websocket error\")), Union{Ptr{Nothing}, Base.InterpreterIP}[Ptr{Nothing} @0x000000001cb1a46a, Ptr{Nothing} @0x000000001cb1b266, Ptr{Nothing} @0x000000001cb36348, Ptr{Nothing} @0x000000001cb3652d, Ptr{Nothing} @0x000000001cb38409, Ptr{Nothing} @0x000000001cb3c838, Ptr{Nothing} @0x000000001cb3dc47, Ptr{Nothing} @0x000000001cb34479, Ptr{Nothing} @0x000000001cb34851, Ptr{Nothing} @0x000000001cb34a1b, Ptr{Nothing} @0x000000001cb3358b, Ptr{Nothing} @0x000000001cb3436a, Ptr{Nothing} @0x0000000001e20c9f])\n",
      "└ @ HTTP.WebSockets C:\\Users\\user\\.julia\\packages\\HTTP\\GGNaX\\src\\WebSockets.jl:439\n",
      "┌ Error: 11ac410d-92ab-4aa7-8dfe-475a24108eac: error\n",
      "│   (e, catch_backtrace()) = (UndefVarError(:ping), Union{Ptr{Nothing}, Base.InterpreterIP}[Ptr{Nothing} @0x0000000001d84d41, Ptr{Nothing} @0x0000000001e18d2f, Ptr{Nothing} @0x000000001cb4ae9f, Ptr{Nothing} @0x000000001cb4bcfc, Ptr{Nothing} @0x000000001cb4da4a, Ptr{Nothing} @0x000000001cb4e9f9, Ptr{Nothing} @0x000000001cb4f01e, Ptr{Nothing} @0x000000001cb4f855, Ptr{Nothing} @0x000000001cb50259, Ptr{Nothing} @0x000000001cb476d5, Ptr{Nothing} @0x000000001cb4831d, Ptr{Nothing} @0x000000001cb48cd3, Ptr{Nothing} @0x000000001cb49a05, Ptr{Nothing} @0x000000001cb4a665, Ptr{Nothing} @0x000000001cb4abe8, Ptr{Nothing} @0x000000001cb4ad98, Ptr{Nothing} @0x000000001cb4ae04, Ptr{Nothing} @0x000000001caf1d4a, Ptr{Nothing} @0x000000001cb445df, Ptr{Nothing} @0x000000001cb47133, Ptr{Nothing} @0x000000001cb47353, Ptr{Nothing} @0x000000001cb473d5, Ptr{Nothing} @0x000000001cb44121, Ptr{Nothing} @0x000000001cb441b5, Ptr{Nothing} @0x000000001cb43f2f, Ptr{Nothing} @0x000000001cb43fac, Ptr{Nothing} @0x000000001cadcfc0, Ptr{Nothing} @0x000000001cadd0f4, Ptr{Nothing} @0x000000001cadd175, Ptr{Nothing} @0x000000001cb30bdb, Ptr{Nothing} @0x000000001cb30dcc, Ptr{Nothing} @0x000000001cb30e53, Ptr{Nothing} @0x0000000001e20c9f])\n",
      "└ @ HTTP.WebSockets C:\\Users\\user\\.julia\\packages\\HTTP\\GGNaX\\src\\WebSockets.jl:375\n",
      "┌ Error: WebSocketServer Error\n",
      "│   exception = (HTTP.WebSockets.WebSocketError(HTTP.WebSockets.CloseFrameBody(1008, \"Unexpected client websocket error\")), Union{Ptr{Nothing}, Base.InterpreterIP}[Ptr{Nothing} @0x000000001cb1a46a, Ptr{Nothing} @0x000000001cb1b266, Ptr{Nothing} @0x000000001cb36348, Ptr{Nothing} @0x000000001cb3652d, Ptr{Nothing} @0x000000001cb38409, Ptr{Nothing} @0x000000001cb3c838, Ptr{Nothing} @0x000000001cb3dc47, Ptr{Nothing} @0x000000001cb34479, Ptr{Nothing} @0x000000001cb34851, Ptr{Nothing} @0x000000001cb34a1b, Ptr{Nothing} @0x000000001cb3358b, Ptr{Nothing} @0x000000001cb3436a, Ptr{Nothing} @0x0000000001e20c9f])\n",
      "└ @ Main In[1]:17\n",
      "┌ Error: dcffbd1b-6a1f-4aec-8f04-fbcb7ddd0462: Unexpected websocket server error\n",
      "│   (e, catch_backtrace()) = (HTTP.WebSockets.WebSocketError(HTTP.WebSockets.CloseFrameBody(1008, \"Unexpected client websocket error\")), Union{Ptr{Nothing}, Base.InterpreterIP}[Ptr{Nothing} @0x000000001cb1a46a, Ptr{Nothing} @0x000000001cb1b266, Ptr{Nothing} @0x000000001cb36348, Ptr{Nothing} @0x000000001cb3652d, Ptr{Nothing} @0x000000001cb38409, Ptr{Nothing} @0x000000001cb3c838, Ptr{Nothing} @0x000000001cb3dc47, Ptr{Nothing} @0x000000001cb34479, Ptr{Nothing} @0x000000001cb34851, Ptr{Nothing} @0x000000001cb34a1b, Ptr{Nothing} @0x000000001cb3358b, Ptr{Nothing} @0x000000001cb3436a, Ptr{Nothing} @0x0000000001e20c9f])\n",
      "└ @ HTTP.WebSockets C:\\Users\\user\\.julia\\packages\\HTTP\\GGNaX\\src\\WebSockets.jl:439\n",
      "┌ Error: 1690166e-0d5a-41e0-a4db-93eea49d7188: error\n",
      "│   (e, catch_backtrace()) = (UndefVarError(:ping), Union{Ptr{Nothing}, Base.InterpreterIP}[Ptr{Nothing} @0x0000000001d84d41, Ptr{Nothing} @0x0000000001e18d2f, Ptr{Nothing} @0x000000001cb4ae9f, Ptr{Nothing} @0x000000001cb4bcfc, Ptr{Nothing} @0x000000001cb4da4a, Ptr{Nothing} @0x000000001cb4e9f9, Ptr{Nothing} @0x000000001cb4f01e, Ptr{Nothing} @0x000000001cb4f855, Ptr{Nothing} @0x000000001cb50259, Ptr{Nothing} @0x000000001cb476d5, Ptr{Nothing} @0x000000001cb4831d, Ptr{Nothing} @0x000000001cb48cd3, Ptr{Nothing} @0x000000001cb49a05, Ptr{Nothing} @0x000000001cb4a665, Ptr{Nothing} @0x000000001cb4abe8, Ptr{Nothing} @0x000000001cb4ad98, Ptr{Nothing} @0x000000001cb4ae04, Ptr{Nothing} @0x000000001caf1d4a, Ptr{Nothing} @0x000000001cb445df, Ptr{Nothing} @0x000000001cb47133, Ptr{Nothing} @0x000000001cb47353, Ptr{Nothing} @0x000000001cb473d5, Ptr{Nothing} @0x000000001cb44121, Ptr{Nothing} @0x000000001cb441b5, Ptr{Nothing} @0x000000001cb43f2f, Ptr{Nothing} @0x000000001cb43fac, Ptr{Nothing} @0x000000001cadcfc0, Ptr{Nothing} @0x000000001cadd0f4, Ptr{Nothing} @0x000000001cadd175, Ptr{Nothing} @0x000000001cb30bdb, Ptr{Nothing} @0x000000001cb30dcc, Ptr{Nothing} @0x000000001cb30e53, Ptr{Nothing} @0x0000000001e20c9f])\n",
      "└ @ HTTP.WebSockets C:\\Users\\user\\.julia\\packages\\HTTP\\GGNaX\\src\\WebSockets.jl:375\n",
      "┌ Error: WebSocketServer Error\n",
      "│   exception = (HTTP.WebSockets.WebSocketError(HTTP.WebSockets.CloseFrameBody(1008, \"Unexpected client websocket error\")), Union{Ptr{Nothing}, Base.InterpreterIP}[Ptr{Nothing} @0x000000001cb1a46a, Ptr{Nothing} @0x000000001cb1b266, Ptr{Nothing} @0x000000001cb36348, Ptr{Nothing} @0x000000001cb3652d, Ptr{Nothing} @0x000000001cb38409, Ptr{Nothing} @0x000000001cb3c838, Ptr{Nothing} @0x000000001cb3dc47, Ptr{Nothing} @0x000000001cb34479, Ptr{Nothing} @0x000000001cb34851, Ptr{Nothing} @0x000000001cb34a1b, Ptr{Nothing} @0x000000001cb3358b, Ptr{Nothing} @0x000000001cb3436a, Ptr{Nothing} @0x0000000001e20c9f])\n",
      "└ @ Main In[1]:17\n",
      "┌ Error: 70afab61-2efe-4fac-8ccd-bcac6bddac4d: Unexpected websocket server error\n",
      "│   (e, catch_backtrace()) = (HTTP.WebSockets.WebSocketError(HTTP.WebSockets.CloseFrameBody(1008, \"Unexpected client websocket error\")), Union{Ptr{Nothing}, Base.InterpreterIP}[Ptr{Nothing} @0x000000001cb1a46a, Ptr{Nothing} @0x000000001cb1b266, Ptr{Nothing} @0x000000001cb36348, Ptr{Nothing} @0x000000001cb3652d, Ptr{Nothing} @0x000000001cb38409, Ptr{Nothing} @0x000000001cb3c838, Ptr{Nothing} @0x000000001cb3dc47, Ptr{Nothing} @0x000000001cb34479, Ptr{Nothing} @0x000000001cb34851, Ptr{Nothing} @0x000000001cb34a1b, Ptr{Nothing} @0x000000001cb3358b, Ptr{Nothing} @0x000000001cb3436a, Ptr{Nothing} @0x0000000001e20c9f])\n",
      "└ @ HTTP.WebSockets C:\\Users\\user\\.julia\\packages\\HTTP\\GGNaX\\src\\WebSockets.jl:439\n",
      "┌ Error: fc00dd69-408c-4d0b-9f19-492c096ee50a: error\n",
      "│   (e, catch_backtrace()) = (UndefVarError(:ping), Union{Ptr{Nothing}, Base.InterpreterIP}[Ptr{Nothing} @0x0000000001d84d41, Ptr{Nothing} @0x0000000001e18d2f, Ptr{Nothing} @0x000000001cb4ae9f, Ptr{Nothing} @0x000000001cb4bcfc, Ptr{Nothing} @0x000000001cb4da4a, Ptr{Nothing} @0x000000001cb4e9f9, Ptr{Nothing} @0x000000001cb4f01e, Ptr{Nothing} @0x000000001cb4f855, Ptr{Nothing} @0x000000001cb50259, Ptr{Nothing} @0x000000001cb476d5, Ptr{Nothing} @0x000000001cb4831d, Ptr{Nothing} @0x000000001cb48cd3, Ptr{Nothing} @0x000000001cb49a05, Ptr{Nothing} @0x000000001cb4a665, Ptr{Nothing} @0x000000001cb4abe8, Ptr{Nothing} @0x000000001cb4ad98, Ptr{Nothing} @0x000000001cb4ae04, Ptr{Nothing} @0x000000001caf1d4a, Ptr{Nothing} @0x000000001cb445df, Ptr{Nothing} @0x000000001cb47133, Ptr{Nothing} @0x000000001cb47353, Ptr{Nothing} @0x000000001cb473d5, Ptr{Nothing} @0x000000001cb44121, Ptr{Nothing} @0x000000001cb441b5, Ptr{Nothing} @0x000000001cb43f2f, Ptr{Nothing} @0x000000001cb43fac, Ptr{Nothing} @0x000000001cadcfc0, Ptr{Nothing} @0x000000001cadd0f4, Ptr{Nothing} @0x000000001cadd175, Ptr{Nothing} @0x000000001cb30bdb, Ptr{Nothing} @0x000000001cb30dcc, Ptr{Nothing} @0x000000001cb30e53, Ptr{Nothing} @0x0000000001e20c9f])\n",
      "└ @ HTTP.WebSockets C:\\Users\\user\\.julia\\packages\\HTTP\\GGNaX\\src\\WebSockets.jl:375\n",
      "┌ Error: WebSocketServer Error\n",
      "│   exception = (HTTP.WebSockets.WebSocketError(HTTP.WebSockets.CloseFrameBody(1008, \"Unexpected client websocket error\")), Union{Ptr{Nothing}, Base.InterpreterIP}[Ptr{Nothing} @0x000000001cb1a46a, Ptr{Nothing} @0x000000001cb1b266, Ptr{Nothing} @0x000000001cb36348, Ptr{Nothing} @0x000000001cb3652d, Ptr{Nothing} @0x000000001cb38409, Ptr{Nothing} @0x000000001cb3c838, Ptr{Nothing} @0x000000001cb3dc47, Ptr{Nothing} @0x000000001cb34479, Ptr{Nothing} @0x000000001cb34851, Ptr{Nothing} @0x000000001cb34a1b, Ptr{Nothing} @0x000000001cb3358b, Ptr{Nothing} @0x000000001cb3436a, Ptr{Nothing} @0x0000000001e20c9f])\n",
      "└ @ Main In[1]:17\n",
      "┌ Error: 83e21f25-babe-4add-a287-9ca463f1060d: Unexpected websocket server error\n",
      "│   (e, catch_backtrace()) = (HTTP.WebSockets.WebSocketError(HTTP.WebSockets.CloseFrameBody(1008, \"Unexpected client websocket error\")), Union{Ptr{Nothing}, Base.InterpreterIP}[Ptr{Nothing} @0x000000001cb1a46a, Ptr{Nothing} @0x000000001cb1b266, Ptr{Nothing} @0x000000001cb36348, Ptr{Nothing} @0x000000001cb3652d, Ptr{Nothing} @0x000000001cb38409, Ptr{Nothing} @0x000000001cb3c838, Ptr{Nothing} @0x000000001cb3dc47, Ptr{Nothing} @0x000000001cb34479, Ptr{Nothing} @0x000000001cb34851, Ptr{Nothing} @0x000000001cb34a1b, Ptr{Nothing} @0x000000001cb3358b, Ptr{Nothing} @0x000000001cb3436a, Ptr{Nothing} @0x0000000001e20c9f])\n",
      "└ @ HTTP.WebSockets C:\\Users\\user\\.julia\\packages\\HTTP\\GGNaX\\src\\WebSockets.jl:439\n",
      "┌ Error: 06f5dcc5-f77f-4b0a-b9cc-69ec7c92c276: error\n",
      "│   (e, catch_backtrace()) = (UndefVarError(:ping), Union{Ptr{Nothing}, Base.InterpreterIP}[Ptr{Nothing} @0x0000000001d84d41, Ptr{Nothing} @0x0000000001e18d2f, Ptr{Nothing} @0x000000001cb4ae9f, Ptr{Nothing} @0x000000001cb4bcfc, Ptr{Nothing} @0x000000001cb4da4a, Ptr{Nothing} @0x000000001cb4e9f9, Ptr{Nothing} @0x000000001cb4f01e, Ptr{Nothing} @0x000000001cb4f855, Ptr{Nothing} @0x000000001cb50259, Ptr{Nothing} @0x000000001cb476d5, Ptr{Nothing} @0x000000001cb4831d, Ptr{Nothing} @0x000000001cb48cd3, Ptr{Nothing} @0x000000001cb49a05, Ptr{Nothing} @0x000000001cb4a665, Ptr{Nothing} @0x000000001cb4abe8, Ptr{Nothing} @0x000000001cb4ad98, Ptr{Nothing} @0x000000001cb4ae04, Ptr{Nothing} @0x000000001caf1d4a, Ptr{Nothing} @0x000000001cb445df, Ptr{Nothing} @0x000000001cb47133, Ptr{Nothing} @0x000000001cb47353, Ptr{Nothing} @0x000000001cb473d5, Ptr{Nothing} @0x000000001cb44121, Ptr{Nothing} @0x000000001cb441b5, Ptr{Nothing} @0x000000001cb43f2f, Ptr{Nothing} @0x000000001cb43fac, Ptr{Nothing} @0x000000001cadcfc0, Ptr{Nothing} @0x000000001cadd0f4, Ptr{Nothing} @0x000000001cadd175, Ptr{Nothing} @0x000000001cb30bdb, Ptr{Nothing} @0x000000001cb30dcc, Ptr{Nothing} @0x000000001cb30e53, Ptr{Nothing} @0x0000000001e20c9f])\n",
      "└ @ HTTP.WebSockets C:\\Users\\user\\.julia\\packages\\HTTP\\GGNaX\\src\\WebSockets.jl:375\n",
      "┌ Error: WebSocketServer Error\n",
      "│   exception = (HTTP.WebSockets.WebSocketError(HTTP.WebSockets.CloseFrameBody(1008, \"Unexpected client websocket error\")), Union{Ptr{Nothing}, Base.InterpreterIP}[Ptr{Nothing} @0x000000001cb1a46a, Ptr{Nothing} @0x000000001cb1b266, Ptr{Nothing} @0x000000001cb36348, Ptr{Nothing} @0x000000001cb3652d, Ptr{Nothing} @0x000000001cb38409, Ptr{Nothing} @0x000000001cb3c838, Ptr{Nothing} @0x000000001cb3dc47, Ptr{Nothing} @0x000000001cb34479, Ptr{Nothing} @0x000000001cb34851, Ptr{Nothing} @0x000000001cb34a1b, Ptr{Nothing} @0x000000001cb3358b, Ptr{Nothing} @0x000000001cb3436a, Ptr{Nothing} @0x0000000001e20c9f])\n",
      "└ @ Main In[1]:17\n",
      "┌ Error: 88a86a68-5e10-46e1-a57a-d074e33dc391: Unexpected websocket server error\n",
      "│   (e, catch_backtrace()) = (HTTP.WebSockets.WebSocketError(HTTP.WebSockets.CloseFrameBody(1008, \"Unexpected client websocket error\")), Union{Ptr{Nothing}, Base.InterpreterIP}[Ptr{Nothing} @0x000000001cb1a46a, Ptr{Nothing} @0x000000001cb1b266, Ptr{Nothing} @0x000000001cb36348, Ptr{Nothing} @0x000000001cb3652d, Ptr{Nothing} @0x000000001cb38409, Ptr{Nothing} @0x000000001cb3c838, Ptr{Nothing} @0x000000001cb3dc47, Ptr{Nothing} @0x000000001cb34479, Ptr{Nothing} @0x000000001cb34851, Ptr{Nothing} @0x000000001cb34a1b, Ptr{Nothing} @0x000000001cb3358b, Ptr{Nothing} @0x000000001cb3436a, Ptr{Nothing} @0x0000000001e20c9f])\n",
      "└ @ HTTP.WebSockets C:\\Users\\user\\.julia\\packages\\HTTP\\GGNaX\\src\\WebSockets.jl:439\n",
      "┌ Error: 0bc1db10-eefe-4d5c-9ec5-6c4d89ca7341: error\n",
      "│   (e, catch_backtrace()) = (UndefVarError(:ping), Union{Ptr{Nothing}, Base.InterpreterIP}[Ptr{Nothing} @0x0000000001d84d41, Ptr{Nothing} @0x0000000001e18d2f, Ptr{Nothing} @0x000000001cb4ae9f, Ptr{Nothing} @0x000000001cb4bcfc, Ptr{Nothing} @0x000000001cb4da4a, Ptr{Nothing} @0x000000001cb4e9f9, Ptr{Nothing} @0x000000001cb4f01e, Ptr{Nothing} @0x000000001cb4f855, Ptr{Nothing} @0x000000001cb50259, Ptr{Nothing} @0x000000001cb476d5, Ptr{Nothing} @0x000000001cb4831d, Ptr{Nothing} @0x000000001cb48cd3, Ptr{Nothing} @0x000000001cb49a05, Ptr{Nothing} @0x000000001cb4a665, Ptr{Nothing} @0x000000001cb4abe8, Ptr{Nothing} @0x000000001cb4ad98, Ptr{Nothing} @0x000000001cb4ae04, Ptr{Nothing} @0x000000001caf1d4a, Ptr{Nothing} @0x000000001cb445df, Ptr{Nothing} @0x000000001cb47133, Ptr{Nothing} @0x000000001cb47353, Ptr{Nothing} @0x000000001cb473d5, Ptr{Nothing} @0x000000001cb44121, Ptr{Nothing} @0x000000001cb441b5, Ptr{Nothing} @0x000000001cb43f2f, Ptr{Nothing} @0x000000001cb43fac, Ptr{Nothing} @0x000000001cadcfc0, Ptr{Nothing} @0x000000001cadd0f4, Ptr{Nothing} @0x000000001cadd175, Ptr{Nothing} @0x000000001cb30bdb, Ptr{Nothing} @0x000000001cb30dcc, Ptr{Nothing} @0x000000001cb30e53, Ptr{Nothing} @0x0000000001e20c9f])\n",
      "└ @ HTTP.WebSockets C:\\Users\\user\\.julia\\packages\\HTTP\\GGNaX\\src\\WebSockets.jl:375\n",
      "┌ Error: WebSocketServer Error\n",
      "│   exception = (HTTP.WebSockets.WebSocketError(HTTP.WebSockets.CloseFrameBody(1008, \"Unexpected client websocket error\")), Union{Ptr{Nothing}, Base.InterpreterIP}[Ptr{Nothing} @0x000000001cb1a46a, Ptr{Nothing} @0x000000001cb1b266, Ptr{Nothing} @0x000000001cb36348, Ptr{Nothing} @0x000000001cb3652d, Ptr{Nothing} @0x000000001cb38409, Ptr{Nothing} @0x000000001cb3c838, Ptr{Nothing} @0x000000001cb3dc47, Ptr{Nothing} @0x000000001cb34479, Ptr{Nothing} @0x000000001cb34851, Ptr{Nothing} @0x000000001cb34a1b, Ptr{Nothing} @0x000000001cb3358b, Ptr{Nothing} @0x000000001cb3436a, Ptr{Nothing} @0x0000000001e20c9f])\n",
      "└ @ Main In[1]:17\n",
      "┌ Error: 8bb38654-3906-42d8-928a-855940d16a1c: Unexpected websocket server error\n",
      "│   (e, catch_backtrace()) = (HTTP.WebSockets.WebSocketError(HTTP.WebSockets.CloseFrameBody(1008, \"Unexpected client websocket error\")), Union{Ptr{Nothing}, Base.InterpreterIP}[Ptr{Nothing} @0x000000001cb1a46a, Ptr{Nothing} @0x000000001cb1b266, Ptr{Nothing} @0x000000001cb36348, Ptr{Nothing} @0x000000001cb3652d, Ptr{Nothing} @0x000000001cb38409, Ptr{Nothing} @0x000000001cb3c838, Ptr{Nothing} @0x000000001cb3dc47, Ptr{Nothing} @0x000000001cb34479, Ptr{Nothing} @0x000000001cb34851, Ptr{Nothing} @0x000000001cb34a1b, Ptr{Nothing} @0x000000001cb3358b, Ptr{Nothing} @0x000000001cb3436a, Ptr{Nothing} @0x0000000001e20c9f])\n",
      "└ @ HTTP.WebSockets C:\\Users\\user\\.julia\\packages\\HTTP\\GGNaX\\src\\WebSockets.jl:439\n",
      "┌ Error: 592d3663-0109-4ffe-858b-ec34070be346: error\n",
      "│   (e, catch_backtrace()) = (UndefVarError(:ping), Union{Ptr{Nothing}, Base.InterpreterIP}[Ptr{Nothing} @0x0000000001d84d41, Ptr{Nothing} @0x0000000001e18d2f, Ptr{Nothing} @0x000000001cb4ae9f, Ptr{Nothing} @0x000000001cb4bcfc, Ptr{Nothing} @0x000000001cb4da4a, Ptr{Nothing} @0x000000001cb4e9f9, Ptr{Nothing} @0x000000001cb4f01e, Ptr{Nothing} @0x000000001cb4f855, Ptr{Nothing} @0x000000001cb50259, Ptr{Nothing} @0x000000001cb476d5, Ptr{Nothing} @0x000000001cb4831d, Ptr{Nothing} @0x000000001cb48cd3, Ptr{Nothing} @0x000000001cb49a05, Ptr{Nothing} @0x000000001cb4a665, Ptr{Nothing} @0x000000001cb4abe8, Ptr{Nothing} @0x000000001cb4ad98, Ptr{Nothing} @0x000000001cb4ae04, Ptr{Nothing} @0x000000001caf1d4a, Ptr{Nothing} @0x000000001cb445df, Ptr{Nothing} @0x000000001cb47133, Ptr{Nothing} @0x000000001cb47353, Ptr{Nothing} @0x000000001cb473d5, Ptr{Nothing} @0x000000001cb44121, Ptr{Nothing} @0x000000001cb441b5, Ptr{Nothing} @0x000000001cb43f2f, Ptr{Nothing} @0x000000001cb43fac, Ptr{Nothing} @0x000000001cadcfc0, Ptr{Nothing} @0x000000001cadd0f4, Ptr{Nothing} @0x000000001cadd175, Ptr{Nothing} @0x000000001cb30bdb, Ptr{Nothing} @0x000000001cb30dcc, Ptr{Nothing} @0x000000001cb30e53, Ptr{Nothing} @0x0000000001e20c9f])\n",
      "└ @ HTTP.WebSockets C:\\Users\\user\\.julia\\packages\\HTTP\\GGNaX\\src\\WebSockets.jl:375\n",
      "┌ Error: WebSocketServer Error\n",
      "│   exception = (HTTP.WebSockets.WebSocketError(HTTP.WebSockets.CloseFrameBody(1008, \"Unexpected client websocket error\")), Union{Ptr{Nothing}, Base.InterpreterIP}[Ptr{Nothing} @0x000000001cb1a46a, Ptr{Nothing} @0x000000001cb1b266, Ptr{Nothing} @0x000000001cb36348, Ptr{Nothing} @0x000000001cb3652d, Ptr{Nothing} @0x000000001cb38409, Ptr{Nothing} @0x000000001cb3c838, Ptr{Nothing} @0x000000001cb3dc47, Ptr{Nothing} @0x000000001cb34479, Ptr{Nothing} @0x000000001cb34851, Ptr{Nothing} @0x000000001cb34a1b, Ptr{Nothing} @0x000000001cb3358b, Ptr{Nothing} @0x000000001cb3436a, Ptr{Nothing} @0x0000000001e20c9f])\n",
      "└ @ Main In[1]:17\n",
      "┌ Error: 22661225-0b47-4886-b669-30da8d686769: Unexpected websocket server error\n",
      "│   (e, catch_backtrace()) = (HTTP.WebSockets.WebSocketError(HTTP.WebSockets.CloseFrameBody(1008, \"Unexpected client websocket error\")), Union{Ptr{Nothing}, Base.InterpreterIP}[Ptr{Nothing} @0x000000001cb1a46a, Ptr{Nothing} @0x000000001cb1b266, Ptr{Nothing} @0x000000001cb36348, Ptr{Nothing} @0x000000001cb3652d, Ptr{Nothing} @0x000000001cb38409, Ptr{Nothing} @0x000000001cb3c838, Ptr{Nothing} @0x000000001cb3dc47, Ptr{Nothing} @0x000000001cb34479, Ptr{Nothing} @0x000000001cb34851, Ptr{Nothing} @0x000000001cb34a1b, Ptr{Nothing} @0x000000001cb3358b, Ptr{Nothing} @0x000000001cb3436a, Ptr{Nothing} @0x0000000001e20c9f])\n",
      "└ @ HTTP.WebSockets C:\\Users\\user\\.julia\\packages\\HTTP\\GGNaX\\src\\WebSockets.jl:439\n",
      "┌ Error: 004ed40b-9403-49cc-b0af-5aeb61ebfebf: error\n",
      "│   (e, catch_backtrace()) = (UndefVarError(:ping), Union{Ptr{Nothing}, Base.InterpreterIP}[Ptr{Nothing} @0x0000000001d84d41, Ptr{Nothing} @0x0000000001e18d2f, Ptr{Nothing} @0x000000001cb4ae9f, Ptr{Nothing} @0x000000001cb4bcfc, Ptr{Nothing} @0x000000001cb4da4a, Ptr{Nothing} @0x000000001cb4e9f9, Ptr{Nothing} @0x000000001cb4f01e, Ptr{Nothing} @0x000000001cb4f855, Ptr{Nothing} @0x000000001cb50259, Ptr{Nothing} @0x000000001cb476d5, Ptr{Nothing} @0x000000001cb4831d, Ptr{Nothing} @0x000000001cb48cd3, Ptr{Nothing} @0x000000001cb49a05, Ptr{Nothing} @0x000000001cb4a665, Ptr{Nothing} @0x000000001cb4abe8, Ptr{Nothing} @0x000000001cb4ad98, Ptr{Nothing} @0x000000001cb4ae04, Ptr{Nothing} @0x000000001caf1d4a, Ptr{Nothing} @0x000000001cb445df, Ptr{Nothing} @0x000000001cb47133, Ptr{Nothing} @0x000000001cb47353, Ptr{Nothing} @0x000000001cb473d5, Ptr{Nothing} @0x000000001cb44121, Ptr{Nothing} @0x000000001cb441b5, Ptr{Nothing} @0x000000001cb43f2f, Ptr{Nothing} @0x000000001cb43fac, Ptr{Nothing} @0x000000001cadcfc0, Ptr{Nothing} @0x000000001cadd0f4, Ptr{Nothing} @0x000000001cadd175, Ptr{Nothing} @0x000000001cb30bdb, Ptr{Nothing} @0x000000001cb30dcc, Ptr{Nothing} @0x000000001cb30e53, Ptr{Nothing} @0x0000000001e20c9f])\n",
      "└ @ HTTP.WebSockets C:\\Users\\user\\.julia\\packages\\HTTP\\GGNaX\\src\\WebSockets.jl:375\n",
      "┌ Error: WebSocketServer Error\n",
      "│   exception = (HTTP.WebSockets.WebSocketError(HTTP.WebSockets.CloseFrameBody(1008, \"Unexpected client websocket error\")), Union{Ptr{Nothing}, Base.InterpreterIP}[Ptr{Nothing} @0x000000001cb1a46a, Ptr{Nothing} @0x000000001cb1b266, Ptr{Nothing} @0x000000001cb36348, Ptr{Nothing} @0x000000001cb3652d, Ptr{Nothing} @0x000000001cb38409, Ptr{Nothing} @0x000000001cb3c838, Ptr{Nothing} @0x000000001cb3dc47, Ptr{Nothing} @0x000000001cb34479, Ptr{Nothing} @0x000000001cb34851, Ptr{Nothing} @0x000000001cb34a1b, Ptr{Nothing} @0x000000001cb3358b, Ptr{Nothing} @0x000000001cb3436a, Ptr{Nothing} @0x0000000001e20c9f])\n",
      "└ @ Main In[1]:17\n",
      "┌ Error: 89db741a-5bc9-402d-8375-4062799f0ad1: Unexpected websocket server error\n",
      "│   (e, catch_backtrace()) = (HTTP.WebSockets.WebSocketError(HTTP.WebSockets.CloseFrameBody(1008, \"Unexpected client websocket error\")), Union{Ptr{Nothing}, Base.InterpreterIP}[Ptr{Nothing} @0x000000001cb1a46a, Ptr{Nothing} @0x000000001cb1b266, Ptr{Nothing} @0x000000001cb36348, Ptr{Nothing} @0x000000001cb3652d, Ptr{Nothing} @0x000000001cb38409, Ptr{Nothing} @0x000000001cb3c838, Ptr{Nothing} @0x000000001cb3dc47, Ptr{Nothing} @0x000000001cb34479, Ptr{Nothing} @0x000000001cb34851, Ptr{Nothing} @0x000000001cb34a1b, Ptr{Nothing} @0x000000001cb3358b, Ptr{Nothing} @0x000000001cb3436a, Ptr{Nothing} @0x0000000001e20c9f])\n",
      "└ @ HTTP.WebSockets C:\\Users\\user\\.julia\\packages\\HTTP\\GGNaX\\src\\WebSockets.jl:439\n",
      "┌ Error: 1b3f0cbf-3ada-4eb7-9f1e-b05138c20b04: error\n",
      "│   (e, catch_backtrace()) = (UndefVarError(:ping), Union{Ptr{Nothing}, Base.InterpreterIP}[Ptr{Nothing} @0x0000000001d84d41, Ptr{Nothing} @0x0000000001e18d2f, Ptr{Nothing} @0x000000001cb4ae9f, Ptr{Nothing} @0x000000001cb4bcfc, Ptr{Nothing} @0x000000001cb4da4a, Ptr{Nothing} @0x000000001cb4e9f9, Ptr{Nothing} @0x000000001cb4f01e, Ptr{Nothing} @0x000000001cb4f855, Ptr{Nothing} @0x000000001cb50259, Ptr{Nothing} @0x000000001cb476d5, Ptr{Nothing} @0x000000001cb4831d, Ptr{Nothing} @0x000000001cb48cd3, Ptr{Nothing} @0x000000001cb49a05, Ptr{Nothing} @0x000000001cb4a665, Ptr{Nothing} @0x000000001cb4abe8, Ptr{Nothing} @0x000000001cb4ad98, Ptr{Nothing} @0x000000001cb4ae04, Ptr{Nothing} @0x000000001caf1d4a, Ptr{Nothing} @0x000000001cb445df, Ptr{Nothing} @0x000000001cb47133, Ptr{Nothing} @0x000000001cb47353, Ptr{Nothing} @0x000000001cb473d5, Ptr{Nothing} @0x000000001cb44121, Ptr{Nothing} @0x000000001cb441b5, Ptr{Nothing} @0x000000001cb43f2f, Ptr{Nothing} @0x000000001cb43fac, Ptr{Nothing} @0x000000001cadcfc0, Ptr{Nothing} @0x000000001cadd0f4, Ptr{Nothing} @0x000000001cadd175, Ptr{Nothing} @0x000000001cb30bdb, Ptr{Nothing} @0x000000001cb30dcc, Ptr{Nothing} @0x000000001cb30e53, Ptr{Nothing} @0x0000000001e20c9f])\n",
      "└ @ HTTP.WebSockets C:\\Users\\user\\.julia\\packages\\HTTP\\GGNaX\\src\\WebSockets.jl:375\n",
      "┌ Error: WebSocketServer Error\n",
      "│   exception = (HTTP.WebSockets.WebSocketError(HTTP.WebSockets.CloseFrameBody(1008, \"Unexpected client websocket error\")), Union{Ptr{Nothing}, Base.InterpreterIP}[Ptr{Nothing} @0x000000001cb1a46a, Ptr{Nothing} @0x000000001cb1b266, Ptr{Nothing} @0x000000001cb36348, Ptr{Nothing} @0x000000001cb3652d, Ptr{Nothing} @0x000000001cb38409, Ptr{Nothing} @0x000000001cb3c838, Ptr{Nothing} @0x000000001cb3dc47, Ptr{Nothing} @0x000000001cb34479, Ptr{Nothing} @0x000000001cb34851, Ptr{Nothing} @0x000000001cb34a1b, Ptr{Nothing} @0x000000001cb3358b, Ptr{Nothing} @0x000000001cb3436a, Ptr{Nothing} @0x0000000001e20c9f])\n",
      "└ @ Main In[1]:17\n",
      "┌ Error: c66d9f8b-c306-4cf6-a839-3992fb607bdf: Unexpected websocket server error\n",
      "│   (e, catch_backtrace()) = (HTTP.WebSockets.WebSocketError(HTTP.WebSockets.CloseFrameBody(1008, \"Unexpected client websocket error\")), Union{Ptr{Nothing}, Base.InterpreterIP}[Ptr{Nothing} @0x000000001cb1a46a, Ptr{Nothing} @0x000000001cb1b266, Ptr{Nothing} @0x000000001cb36348, Ptr{Nothing} @0x000000001cb3652d, Ptr{Nothing} @0x000000001cb38409, Ptr{Nothing} @0x000000001cb3c838, Ptr{Nothing} @0x000000001cb3dc47, Ptr{Nothing} @0x000000001cb34479, Ptr{Nothing} @0x000000001cb34851, Ptr{Nothing} @0x000000001cb34a1b, Ptr{Nothing} @0x000000001cb3358b, Ptr{Nothing} @0x000000001cb3436a, Ptr{Nothing} @0x0000000001e20c9f])\n",
      "└ @ HTTP.WebSockets C:\\Users\\user\\.julia\\packages\\HTTP\\GGNaX\\src\\WebSockets.jl:439\n",
      "┌ Error: 61522bd5-e82e-49db-aa2a-5db54e165946: error\n",
      "│   (e, catch_backtrace()) = (UndefVarError(:ping), Union{Ptr{Nothing}, Base.InterpreterIP}[Ptr{Nothing} @0x0000000001d84d41, Ptr{Nothing} @0x0000000001e18d2f, Ptr{Nothing} @0x000000001cb4ae9f, Ptr{Nothing} @0x000000001cb4bcfc, Ptr{Nothing} @0x000000001cb4da4a, Ptr{Nothing} @0x000000001cb4e9f9, Ptr{Nothing} @0x000000001cb4f01e, Ptr{Nothing} @0x000000001cb4f855, Ptr{Nothing} @0x000000001cb50259, Ptr{Nothing} @0x000000001cb476d5, Ptr{Nothing} @0x000000001cb4831d, Ptr{Nothing} @0x000000001cb48cd3, Ptr{Nothing} @0x000000001cb49a05, Ptr{Nothing} @0x000000001cb4a665, Ptr{Nothing} @0x000000001cb4abe8, Ptr{Nothing} @0x000000001cb4ad98, Ptr{Nothing} @0x000000001cb4ae04, Ptr{Nothing} @0x000000001caf1d4a, Ptr{Nothing} @0x000000001cb445df, Ptr{Nothing} @0x000000001cb47133, Ptr{Nothing} @0x000000001cb47353, Ptr{Nothing} @0x000000001cb473d5, Ptr{Nothing} @0x000000001cb44121, Ptr{Nothing} @0x000000001cb441b5, Ptr{Nothing} @0x000000001cb43f2f, Ptr{Nothing} @0x000000001cb43fac, Ptr{Nothing} @0x000000001cadcfc0, Ptr{Nothing} @0x000000001cadd0f4, Ptr{Nothing} @0x000000001cadd175, Ptr{Nothing} @0x000000001cb30bdb, Ptr{Nothing} @0x000000001cb30dcc, Ptr{Nothing} @0x000000001cb30e53, Ptr{Nothing} @0x0000000001e20c9f])\n",
      "└ @ HTTP.WebSockets C:\\Users\\user\\.julia\\packages\\HTTP\\GGNaX\\src\\WebSockets.jl:375\n",
      "┌ Error: WebSocketServer Error\n",
      "│   exception = (HTTP.WebSockets.WebSocketError(HTTP.WebSockets.CloseFrameBody(1008, \"Unexpected client websocket error\")), Union{Ptr{Nothing}, Base.InterpreterIP}[Ptr{Nothing} @0x000000001cb1a46a, Ptr{Nothing} @0x000000001cb1b266, Ptr{Nothing} @0x000000001cb36348, Ptr{Nothing} @0x000000001cb3652d, Ptr{Nothing} @0x000000001cb38409, Ptr{Nothing} @0x000000001cb3c838, Ptr{Nothing} @0x000000001cb3dc47, Ptr{Nothing} @0x000000001cb34479, Ptr{Nothing} @0x000000001cb34851, Ptr{Nothing} @0x000000001cb34a1b, Ptr{Nothing} @0x000000001cb3358b, Ptr{Nothing} @0x000000001cb3436a, Ptr{Nothing} @0x0000000001e20c9f])\n",
      "└ @ Main In[1]:17\n",
      "┌ Error: 5567cc36-6707-429b-93a9-01d155e84d93: Unexpected websocket server error\n",
      "│   (e, catch_backtrace()) = (HTTP.WebSockets.WebSocketError(HTTP.WebSockets.CloseFrameBody(1008, \"Unexpected client websocket error\")), Union{Ptr{Nothing}, Base.InterpreterIP}[Ptr{Nothing} @0x000000001cb1a46a, Ptr{Nothing} @0x000000001cb1b266, Ptr{Nothing} @0x000000001cb36348, Ptr{Nothing} @0x000000001cb3652d, Ptr{Nothing} @0x000000001cb38409, Ptr{Nothing} @0x000000001cb3c838, Ptr{Nothing} @0x000000001cb3dc47, Ptr{Nothing} @0x000000001cb34479, Ptr{Nothing} @0x000000001cb34851, Ptr{Nothing} @0x000000001cb34a1b, Ptr{Nothing} @0x000000001cb3358b, Ptr{Nothing} @0x000000001cb3436a, Ptr{Nothing} @0x0000000001e20c9f])\n",
      "└ @ HTTP.WebSockets C:\\Users\\user\\.julia\\packages\\HTTP\\GGNaX\\src\\WebSockets.jl:439\n",
      "┌ Error: eba1cdd1-4770-48a6-8a4a-90604c489bb8: error\n",
      "│   (e, catch_backtrace()) = (UndefVarError(:ping), Union{Ptr{Nothing}, Base.InterpreterIP}[Ptr{Nothing} @0x0000000001d84d41, Ptr{Nothing} @0x0000000001e18d2f, Ptr{Nothing} @0x000000001cb4ae9f, Ptr{Nothing} @0x000000001cb4bcfc, Ptr{Nothing} @0x000000001cb4da4a, Ptr{Nothing} @0x000000001cb4e9f9, Ptr{Nothing} @0x000000001cb4f01e, Ptr{Nothing} @0x000000001cb4f855, Ptr{Nothing} @0x000000001cb50259, Ptr{Nothing} @0x000000001cb476d5, Ptr{Nothing} @0x000000001cb4831d, Ptr{Nothing} @0x000000001cb48cd3, Ptr{Nothing} @0x000000001cb49a05, Ptr{Nothing} @0x000000001cb4a665, Ptr{Nothing} @0x000000001cb4abe8, Ptr{Nothing} @0x000000001cb4ad98, Ptr{Nothing} @0x000000001cb4ae04, Ptr{Nothing} @0x000000001caf1d4a, Ptr{Nothing} @0x000000001cb445df, Ptr{Nothing} @0x000000001cb47133, Ptr{Nothing} @0x000000001cb47353, Ptr{Nothing} @0x000000001cb473d5, Ptr{Nothing} @0x000000001cb44121, Ptr{Nothing} @0x000000001cb441b5, Ptr{Nothing} @0x000000001cb43f2f, Ptr{Nothing} @0x000000001cb43fac, Ptr{Nothing} @0x000000001cadcfc0, Ptr{Nothing} @0x000000001cadd0f4, Ptr{Nothing} @0x000000001cadd175, Ptr{Nothing} @0x000000001cb30bdb, Ptr{Nothing} @0x000000001cb30dcc, Ptr{Nothing} @0x000000001cb30e53, Ptr{Nothing} @0x0000000001e20c9f])\n",
      "└ @ HTTP.WebSockets C:\\Users\\user\\.julia\\packages\\HTTP\\GGNaX\\src\\WebSockets.jl:375\n",
      "┌ Error: WebSocketServer Error\n",
      "│   exception = (HTTP.WebSockets.WebSocketError(HTTP.WebSockets.CloseFrameBody(1008, \"Unexpected client websocket error\")), Union{Ptr{Nothing}, Base.InterpreterIP}[Ptr{Nothing} @0x000000001cb1a46a, Ptr{Nothing} @0x000000001cb1b266, Ptr{Nothing} @0x000000001cb36348, Ptr{Nothing} @0x000000001cb3652d, Ptr{Nothing} @0x000000001cb38409, Ptr{Nothing} @0x000000001cb3c838, Ptr{Nothing} @0x000000001cb3dc47, Ptr{Nothing} @0x000000001cb34479, Ptr{Nothing} @0x000000001cb34851, Ptr{Nothing} @0x000000001cb34a1b, Ptr{Nothing} @0x000000001cb3358b, Ptr{Nothing} @0x000000001cb3436a, Ptr{Nothing} @0x0000000001e20c9f])\n",
      "└ @ Main In[1]:17\n",
      "┌ Error: ff389647-5339-4b85-b247-40a1a20b0065: Unexpected websocket server error\n",
      "│   (e, catch_backtrace()) = (HTTP.WebSockets.WebSocketError(HTTP.WebSockets.CloseFrameBody(1008, \"Unexpected client websocket error\")), Union{Ptr{Nothing}, Base.InterpreterIP}[Ptr{Nothing} @0x000000001cb1a46a, Ptr{Nothing} @0x000000001cb1b266, Ptr{Nothing} @0x000000001cb36348, Ptr{Nothing} @0x000000001cb3652d, Ptr{Nothing} @0x000000001cb38409, Ptr{Nothing} @0x000000001cb3c838, Ptr{Nothing} @0x000000001cb3dc47, Ptr{Nothing} @0x000000001cb34479, Ptr{Nothing} @0x000000001cb34851, Ptr{Nothing} @0x000000001cb34a1b, Ptr{Nothing} @0x000000001cb3358b, Ptr{Nothing} @0x000000001cb3436a, Ptr{Nothing} @0x0000000001e20c9f])\n",
      "└ @ HTTP.WebSockets C:\\Users\\user\\.julia\\packages\\HTTP\\GGNaX\\src\\WebSockets.jl:439\n",
      "┌ Error: 33f86a94-f512-42c9-a106-635480c7e67e: error\n",
      "│   (e, catch_backtrace()) = (UndefVarError(:ping), Union{Ptr{Nothing}, Base.InterpreterIP}[Ptr{Nothing} @0x0000000001d84d41, Ptr{Nothing} @0x0000000001e18d2f, Ptr{Nothing} @0x000000001cb4ae9f, Ptr{Nothing} @0x000000001cb4bcfc, Ptr{Nothing} @0x000000001cb4da4a, Ptr{Nothing} @0x000000001cb4e9f9, Ptr{Nothing} @0x000000001cb4f01e, Ptr{Nothing} @0x000000001cb4f855, Ptr{Nothing} @0x000000001cb50259, Ptr{Nothing} @0x000000001cb476d5, Ptr{Nothing} @0x000000001cb4831d, Ptr{Nothing} @0x000000001cb48cd3, Ptr{Nothing} @0x000000001cb49a05, Ptr{Nothing} @0x000000001cb4a665, Ptr{Nothing} @0x000000001cb4abe8, Ptr{Nothing} @0x000000001cb4ad98, Ptr{Nothing} @0x000000001cb4ae04, Ptr{Nothing} @0x000000001caf1d4a, Ptr{Nothing} @0x000000001cb445df, Ptr{Nothing} @0x000000001cb47133, Ptr{Nothing} @0x000000001cb47353, Ptr{Nothing} @0x000000001cb473d5, Ptr{Nothing} @0x000000001cb44121, Ptr{Nothing} @0x000000001cb441b5, Ptr{Nothing} @0x000000001cb43f2f, Ptr{Nothing} @0x000000001cb43fac, Ptr{Nothing} @0x000000001cadcfc0, Ptr{Nothing} @0x000000001cadd0f4, Ptr{Nothing} @0x000000001cadd175, Ptr{Nothing} @0x000000001cb30bdb, Ptr{Nothing} @0x000000001cb30dcc, Ptr{Nothing} @0x000000001cb30e53, Ptr{Nothing} @0x0000000001e20c9f])\n",
      "└ @ HTTP.WebSockets C:\\Users\\user\\.julia\\packages\\HTTP\\GGNaX\\src\\WebSockets.jl:375\n",
      "┌ Error: WebSocketServer Error\n",
      "│   exception = (HTTP.WebSockets.WebSocketError(HTTP.WebSockets.CloseFrameBody(1008, \"Unexpected client websocket error\")), Union{Ptr{Nothing}, Base.InterpreterIP}[Ptr{Nothing} @0x000000001cb1a46a, Ptr{Nothing} @0x000000001cb1b266, Ptr{Nothing} @0x000000001cb36348, Ptr{Nothing} @0x000000001cb3652d, Ptr{Nothing} @0x000000001cb38409, Ptr{Nothing} @0x000000001cb3c838, Ptr{Nothing} @0x000000001cb3dc47, Ptr{Nothing} @0x000000001cb34479, Ptr{Nothing} @0x000000001cb34851, Ptr{Nothing} @0x000000001cb34a1b, Ptr{Nothing} @0x000000001cb3358b, Ptr{Nothing} @0x000000001cb3436a, Ptr{Nothing} @0x0000000001e20c9f])\n",
      "└ @ Main In[1]:17\n",
      "┌ Error: 817a5224-cb07-4f4a-b3fe-292c3c596cb6: Unexpected websocket server error\n",
      "│   (e, catch_backtrace()) = (HTTP.WebSockets.WebSocketError(HTTP.WebSockets.CloseFrameBody(1008, \"Unexpected client websocket error\")), Union{Ptr{Nothing}, Base.InterpreterIP}[Ptr{Nothing} @0x000000001cb1a46a, Ptr{Nothing} @0x000000001cb1b266, Ptr{Nothing} @0x000000001cb36348, Ptr{Nothing} @0x000000001cb3652d, Ptr{Nothing} @0x000000001cb38409, Ptr{Nothing} @0x000000001cb3c838, Ptr{Nothing} @0x000000001cb3dc47, Ptr{Nothing} @0x000000001cb34479, Ptr{Nothing} @0x000000001cb34851, Ptr{Nothing} @0x000000001cb34a1b, Ptr{Nothing} @0x000000001cb3358b, Ptr{Nothing} @0x000000001cb3436a, Ptr{Nothing} @0x0000000001e20c9f])\n",
      "└ @ HTTP.WebSockets C:\\Users\\user\\.julia\\packages\\HTTP\\GGNaX\\src\\WebSockets.jl:439\n",
      "┌ Error: b1969490-982d-4abf-8d14-7e6f29065dae: error\n",
      "│   (e, catch_backtrace()) = (UndefVarError(:ping), Union{Ptr{Nothing}, Base.InterpreterIP}[Ptr{Nothing} @0x0000000001d84d41, Ptr{Nothing} @0x0000000001e18d2f, Ptr{Nothing} @0x000000001cb4ae9f, Ptr{Nothing} @0x000000001cb4bcfc, Ptr{Nothing} @0x000000001cb4da4a, Ptr{Nothing} @0x000000001cb4e9f9, Ptr{Nothing} @0x000000001cb4f01e, Ptr{Nothing} @0x000000001cb4f855, Ptr{Nothing} @0x000000001cb50259, Ptr{Nothing} @0x000000001cb476d5, Ptr{Nothing} @0x000000001cb4831d, Ptr{Nothing} @0x000000001cb48cd3, Ptr{Nothing} @0x000000001cb49a05, Ptr{Nothing} @0x000000001cb4a665, Ptr{Nothing} @0x000000001cb4abe8, Ptr{Nothing} @0x000000001cb4ad98, Ptr{Nothing} @0x000000001cb4ae04, Ptr{Nothing} @0x000000001caf1d4a, Ptr{Nothing} @0x000000001cb445df, Ptr{Nothing} @0x000000001cb47133, Ptr{Nothing} @0x000000001cb47353, Ptr{Nothing} @0x000000001cb473d5, Ptr{Nothing} @0x000000001cb44121, Ptr{Nothing} @0x000000001cb441b5, Ptr{Nothing} @0x000000001cb43f2f, Ptr{Nothing} @0x000000001cb43fac, Ptr{Nothing} @0x000000001cadcfc0, Ptr{Nothing} @0x000000001cadd0f4, Ptr{Nothing} @0x000000001cadd175, Ptr{Nothing} @0x000000001cb30bdb, Ptr{Nothing} @0x000000001cb30dcc, Ptr{Nothing} @0x000000001cb30e53, Ptr{Nothing} @0x0000000001e20c9f])\n",
      "└ @ HTTP.WebSockets C:\\Users\\user\\.julia\\packages\\HTTP\\GGNaX\\src\\WebSockets.jl:375\n",
      "┌ Error: WebSocketServer Error\n",
      "│   exception = (HTTP.WebSockets.WebSocketError(HTTP.WebSockets.CloseFrameBody(1008, \"Unexpected client websocket error\")), Union{Ptr{Nothing}, Base.InterpreterIP}[Ptr{Nothing} @0x000000001cb1a46a, Ptr{Nothing} @0x000000001cb1b266, Ptr{Nothing} @0x000000001cb36348, Ptr{Nothing} @0x000000001cb3652d, Ptr{Nothing} @0x000000001cb38409, Ptr{Nothing} @0x000000001cb3c838, Ptr{Nothing} @0x000000001cb3dc47, Ptr{Nothing} @0x000000001cb34479, Ptr{Nothing} @0x000000001cb34851, Ptr{Nothing} @0x000000001cb34a1b, Ptr{Nothing} @0x000000001cb3358b, Ptr{Nothing} @0x000000001cb3436a, Ptr{Nothing} @0x0000000001e20c9f])\n",
      "└ @ Main In[1]:17\n",
      "┌ Error: d857554b-f40b-4f04-9c4a-e6f1cec2fd1e: Unexpected websocket server error\n",
      "│   (e, catch_backtrace()) = (HTTP.WebSockets.WebSocketError(HTTP.WebSockets.CloseFrameBody(1008, \"Unexpected client websocket error\")), Union{Ptr{Nothing}, Base.InterpreterIP}[Ptr{Nothing} @0x000000001cb1a46a, Ptr{Nothing} @0x000000001cb1b266, Ptr{Nothing} @0x000000001cb36348, Ptr{Nothing} @0x000000001cb3652d, Ptr{Nothing} @0x000000001cb38409, Ptr{Nothing} @0x000000001cb3c838, Ptr{Nothing} @0x000000001cb3dc47, Ptr{Nothing} @0x000000001cb34479, Ptr{Nothing} @0x000000001cb34851, Ptr{Nothing} @0x000000001cb34a1b, Ptr{Nothing} @0x000000001cb3358b, Ptr{Nothing} @0x000000001cb3436a, Ptr{Nothing} @0x0000000001e20c9f])\n",
      "└ @ HTTP.WebSockets C:\\Users\\user\\.julia\\packages\\HTTP\\GGNaX\\src\\WebSockets.jl:439\n",
      "┌ Error: e752949c-c103-4418-bdaa-a3e49927f882: error\n",
      "│   (e, catch_backtrace()) = (UndefVarError(:ping), Union{Ptr{Nothing}, Base.InterpreterIP}[Ptr{Nothing} @0x0000000001d84d41, Ptr{Nothing} @0x0000000001e18d2f, Ptr{Nothing} @0x000000001cb4ae9f, Ptr{Nothing} @0x000000001cb4bcfc, Ptr{Nothing} @0x000000001cb4da4a, Ptr{Nothing} @0x000000001cb4e9f9, Ptr{Nothing} @0x000000001cb4f01e, Ptr{Nothing} @0x000000001cb4f855, Ptr{Nothing} @0x000000001cb50259, Ptr{Nothing} @0x000000001cb476d5, Ptr{Nothing} @0x000000001cb4831d, Ptr{Nothing} @0x000000001cb48cd3, Ptr{Nothing} @0x000000001cb49a05, Ptr{Nothing} @0x000000001cb4a665, Ptr{Nothing} @0x000000001cb4abe8, Ptr{Nothing} @0x000000001cb4ad98, Ptr{Nothing} @0x000000001cb4ae04, Ptr{Nothing} @0x000000001caf1d4a, Ptr{Nothing} @0x000000001cb445df, Ptr{Nothing} @0x000000001cb47133, Ptr{Nothing} @0x000000001cb47353, Ptr{Nothing} @0x000000001cb473d5, Ptr{Nothing} @0x000000001cb44121, Ptr{Nothing} @0x000000001cb441b5, Ptr{Nothing} @0x000000001cb43f2f, Ptr{Nothing} @0x000000001cb43fac, Ptr{Nothing} @0x000000001cadcfc0, Ptr{Nothing} @0x000000001cadd0f4, Ptr{Nothing} @0x000000001cadd175, Ptr{Nothing} @0x000000001cb30bdb, Ptr{Nothing} @0x000000001cb30dcc, Ptr{Nothing} @0x000000001cb30e53, Ptr{Nothing} @0x0000000001e20c9f])\n",
      "└ @ HTTP.WebSockets C:\\Users\\user\\.julia\\packages\\HTTP\\GGNaX\\src\\WebSockets.jl:375\n",
      "┌ Error: WebSocketServer Error\n",
      "│   exception = (HTTP.WebSockets.WebSocketError(HTTP.WebSockets.CloseFrameBody(1008, \"Unexpected client websocket error\")), Union{Ptr{Nothing}, Base.InterpreterIP}[Ptr{Nothing} @0x000000001cb1a46a, Ptr{Nothing} @0x000000001cb1b266, Ptr{Nothing} @0x000000001cb36348, Ptr{Nothing} @0x000000001cb3652d, Ptr{Nothing} @0x000000001cb38409, Ptr{Nothing} @0x000000001cb3c838, Ptr{Nothing} @0x000000001cb3dc47, Ptr{Nothing} @0x000000001cb34479, Ptr{Nothing} @0x000000001cb34851, Ptr{Nothing} @0x000000001cb34a1b, Ptr{Nothing} @0x000000001cb3358b, Ptr{Nothing} @0x000000001cb3436a, Ptr{Nothing} @0x0000000001e20c9f])\n",
      "└ @ Main In[1]:17\n",
      "┌ Error: 975fcf3a-776d-45e9-8cdf-385e140d7d6b: Unexpected websocket server error\n",
      "│   (e, catch_backtrace()) = (HTTP.WebSockets.WebSocketError(HTTP.WebSockets.CloseFrameBody(1008, \"Unexpected client websocket error\")), Union{Ptr{Nothing}, Base.InterpreterIP}[Ptr{Nothing} @0x000000001cb1a46a, Ptr{Nothing} @0x000000001cb1b266, Ptr{Nothing} @0x000000001cb36348, Ptr{Nothing} @0x000000001cb3652d, Ptr{Nothing} @0x000000001cb38409, Ptr{Nothing} @0x000000001cb3c838, Ptr{Nothing} @0x000000001cb3dc47, Ptr{Nothing} @0x000000001cb34479, Ptr{Nothing} @0x000000001cb34851, Ptr{Nothing} @0x000000001cb34a1b, Ptr{Nothing} @0x000000001cb3358b, Ptr{Nothing} @0x000000001cb3436a, Ptr{Nothing} @0x0000000001e20c9f])\n",
      "└ @ HTTP.WebSockets C:\\Users\\user\\.julia\\packages\\HTTP\\GGNaX\\src\\WebSockets.jl:439\n",
      "┌ Error: ed703400-4d7c-4334-8912-c05fc9733ebf: error\n",
      "│   (e, catch_backtrace()) = (UndefVarError(:ping), Union{Ptr{Nothing}, Base.InterpreterIP}[Ptr{Nothing} @0x0000000001d84d41, Ptr{Nothing} @0x0000000001e18d2f, Ptr{Nothing} @0x000000001cb4ae9f, Ptr{Nothing} @0x000000001cb4bcfc, Ptr{Nothing} @0x000000001cb4da4a, Ptr{Nothing} @0x000000001cb4e9f9, Ptr{Nothing} @0x000000001cb4f01e, Ptr{Nothing} @0x000000001cb4f855, Ptr{Nothing} @0x000000001cb50259, Ptr{Nothing} @0x000000001cb476d5, Ptr{Nothing} @0x000000001cb4831d, Ptr{Nothing} @0x000000001cb48cd3, Ptr{Nothing} @0x000000001cb49a05, Ptr{Nothing} @0x000000001cb4a665, Ptr{Nothing} @0x000000001cb4abe8, Ptr{Nothing} @0x000000001cb4ad98, Ptr{Nothing} @0x000000001cb4ae04, Ptr{Nothing} @0x000000001caf1d4a, Ptr{Nothing} @0x000000001cb445df, Ptr{Nothing} @0x000000001cb47133, Ptr{Nothing} @0x000000001cb47353, Ptr{Nothing} @0x000000001cb473d5, Ptr{Nothing} @0x000000001cb44121, Ptr{Nothing} @0x000000001cb441b5, Ptr{Nothing} @0x000000001cb43f2f, Ptr{Nothing} @0x000000001cb43fac, Ptr{Nothing} @0x000000001cadcfc0, Ptr{Nothing} @0x000000001cadd0f4, Ptr{Nothing} @0x000000001cadd175, Ptr{Nothing} @0x000000001cb30bdb, Ptr{Nothing} @0x000000001cb30dcc, Ptr{Nothing} @0x000000001cb30e53, Ptr{Nothing} @0x0000000001e20c9f])\n",
      "└ @ HTTP.WebSockets C:\\Users\\user\\.julia\\packages\\HTTP\\GGNaX\\src\\WebSockets.jl:375\n",
      "┌ Error: WebSocketServer Error\n",
      "│   exception = (HTTP.WebSockets.WebSocketError(HTTP.WebSockets.CloseFrameBody(1008, \"Unexpected client websocket error\")), Union{Ptr{Nothing}, Base.InterpreterIP}[Ptr{Nothing} @0x000000001cb1a46a, Ptr{Nothing} @0x000000001cb1b266, Ptr{Nothing} @0x000000001cb36348, Ptr{Nothing} @0x000000001cb3652d, Ptr{Nothing} @0x000000001cb38409, Ptr{Nothing} @0x000000001cb3c838, Ptr{Nothing} @0x000000001cb3dc47, Ptr{Nothing} @0x000000001cb34479, Ptr{Nothing} @0x000000001cb34851, Ptr{Nothing} @0x000000001cb34a1b, Ptr{Nothing} @0x000000001cb3358b, Ptr{Nothing} @0x000000001cb3436a, Ptr{Nothing} @0x0000000001e20c9f])\n",
      "└ @ Main In[1]:17\n",
      "┌ Error: 3ce603aa-158f-48c6-8b0e-842f7016c312: Unexpected websocket server error\n",
      "│   (e, catch_backtrace()) = (HTTP.WebSockets.WebSocketError(HTTP.WebSockets.CloseFrameBody(1008, \"Unexpected client websocket error\")), Union{Ptr{Nothing}, Base.InterpreterIP}[Ptr{Nothing} @0x000000001cb1a46a, Ptr{Nothing} @0x000000001cb1b266, Ptr{Nothing} @0x000000001cb36348, Ptr{Nothing} @0x000000001cb3652d, Ptr{Nothing} @0x000000001cb38409, Ptr{Nothing} @0x000000001cb3c838, Ptr{Nothing} @0x000000001cb3dc47, Ptr{Nothing} @0x000000001cb34479, Ptr{Nothing} @0x000000001cb34851, Ptr{Nothing} @0x000000001cb34a1b, Ptr{Nothing} @0x000000001cb3358b, Ptr{Nothing} @0x000000001cb3436a, Ptr{Nothing} @0x0000000001e20c9f])\n",
      "└ @ HTTP.WebSockets C:\\Users\\user\\.julia\\packages\\HTTP\\GGNaX\\src\\WebSockets.jl:439\n",
      "┌ Error: 43dbc9e4-e6de-4598-8fde-a05eec43693e: error\n",
      "│   (e, catch_backtrace()) = (UndefVarError(:ping), Union{Ptr{Nothing}, Base.InterpreterIP}[Ptr{Nothing} @0x0000000001d84d41, Ptr{Nothing} @0x0000000001e18d2f, Ptr{Nothing} @0x000000001cb4ae9f, Ptr{Nothing} @0x000000001cb4bcfc, Ptr{Nothing} @0x000000001cb4da4a, Ptr{Nothing} @0x000000001cb4e9f9, Ptr{Nothing} @0x000000001cb4f01e, Ptr{Nothing} @0x000000001cb4f855, Ptr{Nothing} @0x000000001cb50259, Ptr{Nothing} @0x000000001cb476d5, Ptr{Nothing} @0x000000001cb4831d, Ptr{Nothing} @0x000000001cb48cd3, Ptr{Nothing} @0x000000001cb49a05, Ptr{Nothing} @0x000000001cb4a665, Ptr{Nothing} @0x000000001cb4abe8, Ptr{Nothing} @0x000000001cb4ad98, Ptr{Nothing} @0x000000001cb4ae04, Ptr{Nothing} @0x000000001caf1d4a, Ptr{Nothing} @0x000000001cb445df, Ptr{Nothing} @0x000000001cb47133, Ptr{Nothing} @0x000000001cb47353, Ptr{Nothing} @0x000000001cb473d5, Ptr{Nothing} @0x000000001cb44121, Ptr{Nothing} @0x000000001cb441b5, Ptr{Nothing} @0x000000001cb43f2f, Ptr{Nothing} @0x000000001cb43fac, Ptr{Nothing} @0x000000001cadcfc0, Ptr{Nothing} @0x000000001cadd0f4, Ptr{Nothing} @0x000000001cadd175, Ptr{Nothing} @0x000000001cb30bdb, Ptr{Nothing} @0x000000001cb30dcc, Ptr{Nothing} @0x000000001cb30e53, Ptr{Nothing} @0x0000000001e20c9f])\n",
      "└ @ HTTP.WebSockets C:\\Users\\user\\.julia\\packages\\HTTP\\GGNaX\\src\\WebSockets.jl:375\n",
      "┌ Error: WebSocketServer Error\n",
      "│   exception = (HTTP.WebSockets.WebSocketError(HTTP.WebSockets.CloseFrameBody(1008, \"Unexpected client websocket error\")), Union{Ptr{Nothing}, Base.InterpreterIP}[Ptr{Nothing} @0x000000001cb1a46a, Ptr{Nothing} @0x000000001cb1b266, Ptr{Nothing} @0x000000001cb36348, Ptr{Nothing} @0x000000001cb3652d, Ptr{Nothing} @0x000000001cb38409, Ptr{Nothing} @0x000000001cb3c838, Ptr{Nothing} @0x000000001cb3dc47, Ptr{Nothing} @0x000000001cb34479, Ptr{Nothing} @0x000000001cb34851, Ptr{Nothing} @0x000000001cb34a1b, Ptr{Nothing} @0x000000001cb3358b, Ptr{Nothing} @0x000000001cb3436a, Ptr{Nothing} @0x0000000001e20c9f])\n",
      "└ @ Main In[1]:17\n",
      "┌ Error: 61c3c432-909d-427c-a458-58f2a49dc812: Unexpected websocket server error\n",
      "│   (e, catch_backtrace()) = (HTTP.WebSockets.WebSocketError(HTTP.WebSockets.CloseFrameBody(1008, \"Unexpected client websocket error\")), Union{Ptr{Nothing}, Base.InterpreterIP}[Ptr{Nothing} @0x000000001cb1a46a, Ptr{Nothing} @0x000000001cb1b266, Ptr{Nothing} @0x000000001cb36348, Ptr{Nothing} @0x000000001cb3652d, Ptr{Nothing} @0x000000001cb38409, Ptr{Nothing} @0x000000001cb3c838, Ptr{Nothing} @0x000000001cb3dc47, Ptr{Nothing} @0x000000001cb34479, Ptr{Nothing} @0x000000001cb34851, Ptr{Nothing} @0x000000001cb34a1b, Ptr{Nothing} @0x000000001cb3358b, Ptr{Nothing} @0x000000001cb3436a, Ptr{Nothing} @0x0000000001e20c9f])\n",
      "└ @ HTTP.WebSockets C:\\Users\\user\\.julia\\packages\\HTTP\\GGNaX\\src\\WebSockets.jl:439\n",
      "┌ Error: 7f9a37c3-6969-4536-8d2e-d0e32148c830: error\n",
      "│   (e, catch_backtrace()) = (UndefVarError(:ping), Union{Ptr{Nothing}, Base.InterpreterIP}[Ptr{Nothing} @0x0000000001d84d41, Ptr{Nothing} @0x0000000001e18d2f, Ptr{Nothing} @0x000000001cb4ae9f, Ptr{Nothing} @0x000000001cb4bcfc, Ptr{Nothing} @0x000000001cb4da4a, Ptr{Nothing} @0x000000001cb4e9f9, Ptr{Nothing} @0x000000001cb4f01e, Ptr{Nothing} @0x000000001cb4f855, Ptr{Nothing} @0x000000001cb50259, Ptr{Nothing} @0x000000001cb476d5, Ptr{Nothing} @0x000000001cb4831d, Ptr{Nothing} @0x000000001cb48cd3, Ptr{Nothing} @0x000000001cb49a05, Ptr{Nothing} @0x000000001cb4a665, Ptr{Nothing} @0x000000001cb4abe8, Ptr{Nothing} @0x000000001cb4ad98, Ptr{Nothing} @0x000000001cb4ae04, Ptr{Nothing} @0x000000001caf1d4a, Ptr{Nothing} @0x000000001cb445df, Ptr{Nothing} @0x000000001cb47133, Ptr{Nothing} @0x000000001cb47353, Ptr{Nothing} @0x000000001cb473d5, Ptr{Nothing} @0x000000001cb44121, Ptr{Nothing} @0x000000001cb441b5, Ptr{Nothing} @0x000000001cb43f2f, Ptr{Nothing} @0x000000001cb43fac, Ptr{Nothing} @0x000000001cadcfc0, Ptr{Nothing} @0x000000001cadd0f4, Ptr{Nothing} @0x000000001cadd175, Ptr{Nothing} @0x000000001cb30bdb, Ptr{Nothing} @0x000000001cb30dcc, Ptr{Nothing} @0x000000001cb30e53, Ptr{Nothing} @0x0000000001e20c9f])\n",
      "└ @ HTTP.WebSockets C:\\Users\\user\\.julia\\packages\\HTTP\\GGNaX\\src\\WebSockets.jl:375\n"
     ]
    }
   ],
   "source": [
    "server, server_task = createWebSocketServer()\n",
    "client, c_in, c_out = createWebSocketClient(\"ws://127.0.0.1:8081\")\n",
    "monitor, c_monitor = createWebSocketMonitor(\"ws://127.0.0.1:8081\")\n",
    "istaskdone(server_task), istaskdone(client), istaskdone(monitor)"
   ]
  },
  {
   "cell_type": "code",
   "execution_count": 3,
   "metadata": {},
   "outputs": [
    {
     "name": "stderr",
     "output_type": "stream",
     "text": [
      "┌ Error: WebSocketServer Error\n",
      "│   exception = (HTTP.WebSockets.WebSocketError(HTTP.WebSockets.CloseFrameBody(1008, \"Unexpected client websocket error\")), Union{Ptr{Nothing}, Base.InterpreterIP}[Ptr{Nothing} @0x000000001cb1a46a, Ptr{Nothing} @0x000000001cb1b266, Ptr{Nothing} @0x000000001cb36348, Ptr{Nothing} @0x000000001cb3652d, Ptr{Nothing} @0x000000001cb38409, Ptr{Nothing} @0x000000001cb3c838, Ptr{Nothing} @0x000000001cb3dc47, Ptr{Nothing} @0x000000001cb34479, Ptr{Nothing} @0x000000001cb34851, Ptr{Nothing} @0x000000001cb34a1b, Ptr{Nothing} @0x000000001cb3358b, Ptr{Nothing} @0x000000001cb3436a, Ptr{Nothing} @0x0000000001e20c9f])\n",
      "└ @ Main In[1]:17\n",
      "┌ Error: d6bcc231-085e-4fb9-9c67-dd258701aee4: Unexpected websocket server error\n",
      "│   (e, catch_backtrace()) = (HTTP.WebSockets.WebSocketError(HTTP.WebSockets.CloseFrameBody(1008, \"Unexpected client websocket error\")), Union{Ptr{Nothing}, Base.InterpreterIP}[Ptr{Nothing} @0x000000001cb1a46a, Ptr{Nothing} @0x000000001cb1b266, Ptr{Nothing} @0x000000001cb36348, Ptr{Nothing} @0x000000001cb3652d, Ptr{Nothing} @0x000000001cb38409, Ptr{Nothing} @0x000000001cb3c838, Ptr{Nothing} @0x000000001cb3dc47, Ptr{Nothing} @0x000000001cb34479, Ptr{Nothing} @0x000000001cb34851, Ptr{Nothing} @0x000000001cb34a1b, Ptr{Nothing} @0x000000001cb3358b, Ptr{Nothing} @0x000000001cb3436a, Ptr{Nothing} @0x0000000001e20c9f])\n",
      "└ @ HTTP.WebSockets C:\\Users\\user\\.julia\\packages\\HTTP\\GGNaX\\src\\WebSockets.jl:439\n",
      "┌ Error: f402db5a-f934-4ffb-b74c-a0426bb54fbd: error\n",
      "│   (e, catch_backtrace()) = (UndefVarError(:ping), Union{Ptr{Nothing}, Base.InterpreterIP}[Ptr{Nothing} @0x0000000001d84d41, Ptr{Nothing} @0x0000000001e18d2f, Ptr{Nothing} @0x000000001cb4ae9f, Ptr{Nothing} @0x000000001cb4bcfc, Ptr{Nothing} @0x000000001cb4da4a, Ptr{Nothing} @0x000000001cb4e9f9, Ptr{Nothing} @0x000000001cb4f01e, Ptr{Nothing} @0x000000001cb4f855, Ptr{Nothing} @0x000000001cb50259, Ptr{Nothing} @0x000000001cb476d5, Ptr{Nothing} @0x000000001cb4831d, Ptr{Nothing} @0x000000001cb48cd3, Ptr{Nothing} @0x000000001cb49a05, Ptr{Nothing} @0x000000001cb4a665, Ptr{Nothing} @0x000000001cb4abe8, Ptr{Nothing} @0x000000001cb4ad98, Ptr{Nothing} @0x000000001cb4ae04, Ptr{Nothing} @0x000000001caf1d4a, Ptr{Nothing} @0x000000001cb445df, Ptr{Nothing} @0x000000001cb47133, Ptr{Nothing} @0x000000001cb47353, Ptr{Nothing} @0x000000001cb473d5, Ptr{Nothing} @0x000000001cb44121, Ptr{Nothing} @0x000000001cb441b5, Ptr{Nothing} @0x000000001cb43f2f, Ptr{Nothing} @0x000000001cb43fac, Ptr{Nothing} @0x000000001cadcfc0, Ptr{Nothing} @0x000000001cadd0f4, Ptr{Nothing} @0x000000001cadd175, Ptr{Nothing} @0x000000001cb30bdb, Ptr{Nothing} @0x000000001cb30dcc, Ptr{Nothing} @0x000000001cb30e53, Ptr{Nothing} @0x0000000001e20c9f])\n",
      "└ @ HTTP.WebSockets C:\\Users\\user\\.julia\\packages\\HTTP\\GGNaX\\src\\WebSockets.jl:375\n",
      "┌ Error: WebSocketServer Error\n",
      "│   exception = (HTTP.WebSockets.WebSocketError(HTTP.WebSockets.CloseFrameBody(1008, \"Unexpected client websocket error\")), Union{Ptr{Nothing}, Base.InterpreterIP}[Ptr{Nothing} @0x000000001cb1a46a, Ptr{Nothing} @0x000000001cb1b266, Ptr{Nothing} @0x000000001cb36348, Ptr{Nothing} @0x000000001cb3652d, Ptr{Nothing} @0x000000001cb38409, Ptr{Nothing} @0x000000001cb3c838, Ptr{Nothing} @0x000000001cb3dc47, Ptr{Nothing} @0x000000001cb34479, Ptr{Nothing} @0x000000001cb34851, Ptr{Nothing} @0x000000001cb34a1b, Ptr{Nothing} @0x000000001cb3358b, Ptr{Nothing} @0x000000001cb3436a, Ptr{Nothing} @0x0000000001e20c9f])\n",
      "└ @ Main In[1]:17\n",
      "┌ Error: 47ea72a0-95fb-4f4b-8ba1-9033303230ae: Unexpected websocket server error\n",
      "│   (e, catch_backtrace()) = (HTTP.WebSockets.WebSocketError(HTTP.WebSockets.CloseFrameBody(1008, \"Unexpected client websocket error\")), Union{Ptr{Nothing}, Base.InterpreterIP}[Ptr{Nothing} @0x000000001cb1a46a, Ptr{Nothing} @0x000000001cb1b266, Ptr{Nothing} @0x000000001cb36348, Ptr{Nothing} @0x000000001cb3652d, Ptr{Nothing} @0x000000001cb38409, Ptr{Nothing} @0x000000001cb3c838, Ptr{Nothing} @0x000000001cb3dc47, Ptr{Nothing} @0x000000001cb34479, Ptr{Nothing} @0x000000001cb34851, Ptr{Nothing} @0x000000001cb34a1b, Ptr{Nothing} @0x000000001cb3358b, Ptr{Nothing} @0x000000001cb3436a, Ptr{Nothing} @0x0000000001e20c9f])\n",
      "└ @ HTTP.WebSockets C:\\Users\\user\\.julia\\packages\\HTTP\\GGNaX\\src\\WebSockets.jl:439\n"
     ]
    },
    {
     "data": {
      "text/plain": [
       "(true, false, true)"
      ]
     },
     "execution_count": 3,
     "metadata": {},
     "output_type": "execute_result"
    }
   ],
   "source": [
    "# Close WebSocket server.\n",
    "close(server)\n",
    "\n",
    "sleep(3)\n",
    "\n",
    "istaskdone(server_task), istaskdone(client), istaskdone(monitor)"
   ]
  },
  {
   "cell_type": "code",
   "execution_count": 5,
   "metadata": {},
   "outputs": [
    {
     "name": "stderr",
     "output_type": "stream",
     "text": [
      "┌ Error: WebSocketClient Error\n",
      "│   exception = (InterruptException(), Union{Ptr{Nothing}, Base.InterpreterIP}[Ptr{Nothing} @0x00000000105815c3, Ptr{Nothing} @0x00000000105817c7, Ptr{Nothing} @0x00000000105819d5, Ptr{Nothing} @0x000000001cb16eac, Ptr{Nothing} @0x000000001cb1cd01, Ptr{Nothing} @0x000000001cb21f2a, Ptr{Nothing} @0x000000001cb26bd1, Ptr{Nothing} @0x000000001cb27b79, Ptr{Nothing} @0x000000001cb28215, Ptr{Nothing} @0x000000001cb28a6f, Ptr{Nothing} @0x000000001cb29479, Ptr{Nothing} @0x000000001cb010c8, Ptr{Nothing} @0x000000001cb02742, Ptr{Nothing} @0x000000001cb037c1, Ptr{Nothing} @0x000000001cb0f74b, Ptr{Nothing} @0x000000001cb104df, Ptr{Nothing} @0x000000001cb10a9e, Ptr{Nothing} @0x000000001cb10c71, Ptr{Nothing} @0x000000001cb10ce4, Ptr{Nothing} @0x000000001caf1d4a, Ptr{Nothing} @0x000000001caf1ed8, Ptr{Nothing} @0x000000001caecc9f, Ptr{Nothing} @0x000000001caefc2a, Ptr{Nothing} @0x000000001caefe79, Ptr{Nothing} @0x000000001caeff05, Ptr{Nothing} @0x000000001cadf386, Ptr{Nothing} @0x000000001cadf405, Ptr{Nothing} @0x000000001cadda22, Ptr{Nothing} @0x000000001cadda9c, Ptr{Nothing} @0x000000001cadcfc0, Ptr{Nothing} @0x000000001cadd0f4, Ptr{Nothing} @0x000000001cadd175, Ptr{Nothing} @0x000000001cadc4a3, Ptr{Nothing} @0x000000001cadc66e, Ptr{Nothing} @0x000000001cadc6a3, Ptr{Nothing} @0x0000000001e20c9f])\n",
      "└ @ Main In[1]:70\n"
     ]
    },
    {
     "data": {
      "text/plain": [
       "Task (runnable) @0x000000000bc8d560"
      ]
     },
     "execution_count": 5,
     "metadata": {},
     "output_type": "execute_result"
    },
    {
     "name": "stderr",
     "output_type": "stream",
     "text": [
      "InterruptException:\n",
      "Stacktrace:\n",
      " "
     ]
    },
    {
     "name": "stderr",
     "output_type": "stream",
     "text": [
      " [1] \u001b[0m\u001b[1mtry_yieldto\u001b[22m\u001b[0m\u001b[1m(\u001b[22m\u001b[90mundo\u001b[39m::\u001b[0mtypeof(Base.ensure_rescheduled)\u001b[0m\u001b[1m)\u001b[22m\n",
      "\u001b[90m    @ \u001b[39m\u001b[90mBase\u001b[39m \u001b[90m.\\\u001b[39m\u001b[90m\u001b[4mtask.jl:777\u001b[24m\u001b[39m\n",
      "  [2] \u001b[0m\u001b[1mwait\u001b[22m\u001b[0m\u001b[1m(\u001b[22m\u001b[0m\u001b[1m)\u001b[22m\n",
      "\u001b[90m    @ \u001b[39m\u001b[90mBase\u001b[39m \u001b[90m.\\\u001b[39m\u001b[90m\u001b[4mtask.jl:837\u001b[24m\u001b[39m\n",
      "  [3] \u001b[0m\u001b[1mwait\u001b[22m\u001b[0m\u001b[1m(\u001b[22m\u001b[90mc\u001b[39m::\u001b[0mBase.GenericCondition\u001b[90m{ReentrantLock}\u001b[39m\u001b[0m\u001b[1m)\u001b[22m\n",
      "\u001b[90m    @ \u001b[39m\u001b[90mBase\u001b[39m \u001b[90m.\\\u001b[39m\u001b[90m\u001b[4mcondition.jl:123\u001b[24m\u001b[39m\n",
      "  [4] \u001b[0m\u001b[1mtake_buffered\u001b[22m\u001b[0m\u001b[1m(\u001b[22m\u001b[90mc\u001b[39m::\u001b[0mChannel\u001b[90m{String}\u001b[39m\u001b[0m\u001b[1m)\u001b[22m\n",
      "\u001b[90m    @ \u001b[39m\u001b[90mBase\u001b[39m \u001b[90m.\\\u001b[39m\u001b[90m\u001b[4mchannels.jl:389\u001b[24m\u001b[39m\n",
      "  [5] \u001b[0m\u001b[1mtake!\u001b[22m\n",
      "\u001b[90m    @ \u001b[39m\u001b[90m.\\\u001b[39m\u001b[90m\u001b[4mchannels.jl:383\u001b[24m\u001b[39m\u001b[90m [inlined]\u001b[39m\n",
      "  [6] \u001b[0m\u001b[1m(::var\"#7#9\"{Channel{Any}, Channel{String}})\u001b[22m\u001b[0m\u001b[1m(\u001b[22m\u001b[90mws\u001b[39m::\u001b[0mHTTP.WebSockets.WebSocket\u001b[0m\u001b[1m)\u001b[22m\n",
      "\u001b[90m    @ \u001b[39m\u001b[35mMain\u001b[39m \u001b[90m.\\\u001b[39m\u001b[90m\u001b[4mIn[1]:50\u001b[24m\u001b[39m\n",
      "  [7] \u001b[0m\u001b[1m(::HTTP.WebSockets.var\"#5#6\"{Bool, Int64, Int64, var\"#7#9\"{Channel{Any}, Channel{String}}, String})\u001b[22m\u001b[0m\u001b[1m(\u001b[22m\u001b[90mhttp\u001b[39m::\u001b[0mHTTP.Streams.Stream\u001b[90m{HTTP.Messages.Response, HTTP.ConnectionPool.Connection}\u001b[39m\u001b[0m\u001b[1m)\u001b[22m\n",
      "\u001b[90m    @ \u001b[39m\u001b[36mHTTP.WebSockets\u001b[39m \u001b[90mC:\\Users\\user\\.julia\\packages\\HTTP\\GGNaX\\src\\\u001b[39m\u001b[90m\u001b[4mWebSockets.jl:372\u001b[24m\u001b[39m\n",
      "  [8] \u001b[0m\u001b[1mmacro expansion\u001b[22m\n",
      "\u001b[90m    @ \u001b[39m\u001b[90mC:\\Users\\user\\.julia\\packages\\HTTP\\GGNaX\\src\\clientlayers\\\u001b[39m\u001b[90m\u001b[4mStreamRequest.jl:49\u001b[24m\u001b[39m\u001b[90m [inlined]\u001b[39m\n",
      "  [9] \u001b[0m\u001b[1mmacro expansion\u001b[22m\n",
      "\u001b[90m    @ \u001b[39m\u001b[90m.\\\u001b[39m\u001b[90m\u001b[4mtask.jl:399\u001b[24m\u001b[39m\u001b[90m [inlined]\u001b[39m\n",
      " [10] \u001b[0m\u001b[1mstreamlayer\u001b[22m\u001b[0m\u001b[1m(\u001b[22m\u001b[90mstream\u001b[39m::\u001b[0mHTTP.Streams.Stream\u001b[90m{HTTP.Messages.Response, HTTP.ConnectionPool.Connection}\u001b[39m; \u001b[90miofunction\u001b[39m::\u001b[0mHTTP.WebSockets.var\"#5#6\"\u001b[90m{Bool, Int64, Int64, var\"#7#9\"{Channel{Any}, Channel{String}}, String}\u001b[39m, \u001b[90mdecompress\u001b[39m::\u001b[0mBool, \u001b[90mkw\u001b[39m::\u001b[0mBase.Pairs\u001b[90m{Symbol, Bool, Tuple{Symbol}, NamedTuple{(:verbose,), Tuple{Bool}}}\u001b[39m\u001b[0m\u001b[1m)\u001b[22m\n",
      "\u001b[90m    @ \u001b[39m\u001b[36mHTTP.StreamRequest\u001b[39m \u001b[90mC:\\Users\\user\\.julia\\packages\\HTTP\\GGNaX\\src\\clientlayers\\\u001b[39m\u001b[90m\u001b[4mStreamRequest.jl:34\u001b[24m\u001b[39m\n",
      " [11] \u001b[0m\u001b[1m(::HTTP.ExceptionRequest.var\"#1#3\"{HTTP.ExceptionRequest.var\"#1#2#4\"{typeof(HTTP.StreamRequest.streamlayer)}})\u001b[22m\u001b[0m\u001b[1m(\u001b[22m\u001b[90mstream\u001b[39m::\u001b[0mHTTP.Streams.Stream\u001b[90m{HTTP.Messages.Response, HTTP.ConnectionPool.Connection}\u001b[39m; \u001b[90mstatus_exception\u001b[39m::\u001b[0mBool, \u001b[90mkw\u001b[39m::\u001b[0mBase.Pairs\u001b[90m{Symbol, Any, Tuple{Symbol, Symbol}, NamedTuple{(:iofunction, :verbose), Tuple{HTTP.WebSockets.var\"#5#6\"{Bool, Int64, Int64, var\"#7#9\"{Channel{Any}, Channel{String}}, String}, Bool}}}\u001b[39m\u001b[0m\u001b[1m)\u001b[22m\n",
      "\u001b[90m    @ \u001b[39m\u001b[36mHTTP.ExceptionRequest\u001b[39m \u001b[90mC:\\Users\\user\\.julia\\packages\\HTTP\\GGNaX\\src\\clientlayers\\\u001b[39m\u001b[90m\u001b[4mExceptionRequest.jl:14\u001b[24m\u001b[39m\n",
      " [12] \u001b[0m\u001b[1m(::HTTP.TimeoutRequest.var\"#1#4\"{HTTP.TimeoutRequest.var\"#1#2#5\"{HTTP.ExceptionRequest.var\"#1#3\"{HTTP.ExceptionRequest.var\"#1#2#4\"{typeof(HTTP.StreamRequest.streamlayer)}}}})\u001b[22m\u001b[0m\u001b[1m(\u001b[22m\u001b[90mstream\u001b[39m::\u001b[0mHTTP.Streams.Stream\u001b[90m{HTTP.Messages.Response, HTTP.ConnectionPool.Connection}\u001b[39m; \u001b[90mreadtimeout\u001b[39m::\u001b[0mInt64, \u001b[90mkw\u001b[39m::\u001b[0mBase.Pairs\u001b[90m{Symbol, Any, Tuple{Symbol, Symbol}, NamedTuple{(:iofunction, :verbose), Tuple{HTTP.WebSockets.var\"#5#6\"{Bool, Int64, Int64, var\"#7#9\"{Channel{Any}, Channel{String}}, String}, Bool}}}\u001b[39m\u001b[0m\u001b[1m)\u001b[22m\n",
      "\u001b[90m    @ \u001b[39m\u001b[36mHTTP.TimeoutRequest\u001b[39m \u001b[90mC:\\Users\\user\\.julia\\packages\\HTTP\\GGNaX\\src\\clientlayers\\\u001b[39m\u001b[90m\u001b[4mTimeoutRequest.jl:17\u001b[24m\u001b[39m\n",
      " [13] \u001b[0m\u001b[1m(::HTTP.ConnectionRequest.var\"#1#4\"{HTTP.ConnectionRequest.var\"#1#2#5\"{HTTP.TimeoutRequest.var\"#1#4\"{HTTP.TimeoutRequest.var\"#1#2#5\"{HTTP.ExceptionRequest.var\"#1#3\"{HTTP.ExceptionRequest.var\"#1#2#4\"{typeof(HTTP.StreamRequest.streamlayer)}}}}}})\u001b[22m\u001b[0m\u001b[1m(\u001b[22m\u001b[90mreq\u001b[39m::\u001b[0mHTTP.Messages.Request; \u001b[90mproxy\u001b[39m::\u001b[0mNothing, \u001b[90msocket_type\u001b[39m::\u001b[0mType, \u001b[90mkw\u001b[39m::\u001b[0mBase.Pairs\u001b[90m{Symbol, Any, Tuple{Symbol, Symbol}, NamedTuple{(:iofunction, :verbose), Tuple{HTTP.WebSockets.var\"#5#6\"{Bool, Int64, Int64, var\"#7#9\"{Channel{Any}, Channel{String}}, String}, Bool}}}\u001b[39m\u001b[0m\u001b[1m)\u001b[22m\n",
      "\u001b[90m    @ \u001b[39m\u001b[36mHTTP.ConnectionRequest\u001b[39m \u001b[90mC:\\Users\\user\\.julia\\packages\\HTTP\\GGNaX\\src\\clientlayers\\\u001b[39m\u001b[90m\u001b[4mConnectionRequest.jl:101\u001b[24m\u001b[39m\n",
      " [14] \u001b[0m\u001b[1m(::HTTP.CanonicalizeRequest.var\"#1#3\"{HTTP.CanonicalizeRequest.var\"#1#2#4\"{HTTP.ConnectionRequest.var\"#1#4\"{HTTP.ConnectionRequest.var\"#1#2#5\"{HTTP.TimeoutRequest.var\"#1#4\"{HTTP.TimeoutRequest.var\"#1#2#5\"{HTTP.ExceptionRequest.var\"#1#3\"{HTTP.ExceptionRequest.var\"#1#2#4\"{typeof(HTTP.StreamRequest.streamlayer)}}}}}}}})\u001b[22m\u001b[0m\u001b[1m(\u001b[22m\u001b[90mreq\u001b[39m::\u001b[0mHTTP.Messages.Request; \u001b[90mcanonicalize_headers\u001b[39m::\u001b[0mBool, \u001b[90mkw\u001b[39m::\u001b[0mBase.Pairs\u001b[90m{Symbol, Any, Tuple{Symbol, Symbol}, NamedTuple{(:iofunction, :verbose), Tuple{HTTP.WebSockets.var\"#5#6\"{Bool, Int64, Int64, var\"#7#9\"{Channel{Any}, Channel{String}}, String}, Bool}}}\u001b[39m\u001b[0m\u001b[1m)\u001b[22m\n",
      "\u001b[90m    @ \u001b[39m\u001b[36mHTTP.CanonicalizeRequest\u001b[39m \u001b[90mC:\\Users\\user\\.julia\\packages\\HTTP\\GGNaX\\src\\clientlayers\\\u001b[39m\u001b[90m\u001b[4mCanonicalizeRequest.jl:17\u001b[24m\u001b[39m\n",
      " [15] \u001b[0m\u001b[1m(::Base.var\"#76#78\"{Base.var\"#76#77#79\"{ExponentialBackOff, HTTP.RetryRequest.var\"#3#6\"{Int64, HTTP.Messages.Request, Base.RefValue{Int64}}, HTTP.CanonicalizeRequest.var\"#1#3\"{HTTP.CanonicalizeRequest.var\"#1#2#4\"{HTTP.ConnectionRequest.var\"#1#4\"{HTTP.ConnectionRequest.var\"#1#2#5\"{HTTP.TimeoutRequest.var\"#1#4\"{HTTP.TimeoutRequest.var\"#1#2#5\"{HTTP.ExceptionRequest.var\"#1#3\"{HTTP.ExceptionRequest.var\"#1#2#4\"{typeof(HTTP.StreamRequest.streamlayer)}}}}}}}}}})\u001b[22m\u001b[0m\u001b[1m(\u001b[22m\u001b[90margs\u001b[39m::\u001b[0mHTTP.Messages.Request; \u001b[90mkwargs\u001b[39m::\u001b[0mBase.Pairs\u001b[90m{Symbol, Any, Tuple{Symbol, Symbol}, NamedTuple{(:iofunction, :verbose), Tuple{HTTP.WebSockets.var\"#5#6\"{Bool, Int64, Int64, var\"#7#9\"{Channel{Any}, Channel{String}}, String}, Bool}}}\u001b[39m\u001b[0m\u001b[1m)\u001b[22m\n",
      "\u001b[90m    @ \u001b[39m\u001b[90mBase\u001b[39m \u001b[90m.\\\u001b[39m\u001b[90m\u001b[4merror.jl:294\u001b[24m\u001b[39m\n",
      " [16] \u001b[0m\u001b[1m(::HTTP.RetryRequest.var\"#1#4\"{HTTP.RetryRequest.var\"#1#2#5\"{HTTP.CanonicalizeRequest.var\"#1#3\"{HTTP.CanonicalizeRequest.var\"#1#2#4\"{HTTP.ConnectionRequest.var\"#1#4\"{HTTP.ConnectionRequest.var\"#1#2#5\"{HTTP.TimeoutRequest.var\"#1#4\"{HTTP.TimeoutRequest.var\"#1#2#5\"{HTTP.ExceptionRequest.var\"#1#3\"{HTTP.ExceptionRequest.var\"#1#2#4\"{typeof(HTTP.StreamRequest.streamlayer)}}}}}}}}}})\u001b[22m\u001b[0m\u001b[1m(\u001b[22m\u001b[90mreq\u001b[39m::\u001b[0mHTTP.Messages.Request; \u001b[90mretry\u001b[39m::\u001b[0mBool, \u001b[90mretries\u001b[39m::\u001b[0mInt64, \u001b[90mretry_non_idempotent\u001b[39m::\u001b[0mBool, \u001b[90mkw\u001b[39m::\u001b[0mBase.Pairs\u001b[90m{Symbol, Any, Tuple{Symbol, Symbol}, NamedTuple{(:iofunction, :verbose), Tuple{HTTP.WebSockets.var\"#5#6\"{Bool, Int64, Int64, var\"#7#9\"{Channel{Any}, Channel{String}}, String}, Bool}}}\u001b[39m\u001b[0m\u001b[1m)\u001b[22m\n",
      "\u001b[90m    @ \u001b[39m\u001b[36mHTTP.RetryRequest\u001b[39m \u001b[90mC:\\Users\\user\\.julia\\packages\\HTTP\\GGNaX\\src\\clientlayers\\\u001b[39m\u001b[90m\u001b[4mRetryRequest.jl:59\u001b[24m\u001b[39m\n",
      " [17] \u001b[0m\u001b[1m(::HTTP.CookieRequest.var\"#1#5\"{HTTP.CookieRequest.var\"#1#2#6\"{HTTP.RetryRequest.var\"#1#4\"{HTTP.RetryRequest.var\"#1#2#5\"{HTTP.CanonicalizeRequest.var\"#1#3\"{HTTP.CanonicalizeRequest.var\"#1#2#4\"{HTTP.ConnectionRequest.var\"#1#4\"{HTTP.ConnectionRequest.var\"#1#2#5\"{HTTP.TimeoutRequest.var\"#1#4\"{HTTP.TimeoutRequest.var\"#1#2#5\"{HTTP.ExceptionRequest.var\"#1#3\"{HTTP.ExceptionRequest.var\"#1#2#4\"{typeof(HTTP.StreamRequest.streamlayer)}}}}}}}}}}}})\u001b[22m\u001b[0m\u001b[1m(\u001b[22m\u001b[90mreq\u001b[39m::\u001b[0mHTTP.Messages.Request; \u001b[90mcookies\u001b[39m::\u001b[0mBool, \u001b[90mcookiejar\u001b[39m::\u001b[0mHTTP.Cookies.CookieJar, \u001b[90mkw\u001b[39m::\u001b[0mBase.Pairs\u001b[90m{Symbol, Any, Tuple{Symbol, Symbol}, NamedTuple{(:iofunction, :verbose), Tuple{HTTP.WebSockets.var\"#5#6\"{Bool, Int64, Int64, var\"#7#9\"{Channel{Any}, Channel{String}}, String}, Bool}}}\u001b[39m\u001b[0m\u001b[1m)\u001b[22m\n",
      "\u001b[90m    @ \u001b[39m\u001b[36mHTTP.CookieRequest\u001b[39m \u001b[90mC:\\Users\\user\\.julia\\packages\\HTTP\\GGNaX\\src\\clientlayers\\\u001b[39m\u001b[90m\u001b[4mCookieRequest.jl:42\u001b[24m\u001b[39m\n",
      " [18] \u001b[0m\u001b[1m(::HTTP.ContentTypeDetection.var\"#1#3\"{HTTP.ContentTypeDetection.var\"#1#2#4\"{HTTP.CookieRequest.var\"#1#5\"{HTTP.CookieRequest.var\"#1#2#6\"{HTTP.RetryRequest.var\"#1#4\"{HTTP.RetryRequest.var\"#1#2#5\"{HTTP.CanonicalizeRequest.var\"#1#3\"{HTTP.CanonicalizeRequest.var\"#1#2#4\"{HTTP.ConnectionRequest.var\"#1#4\"{HTTP.ConnectionRequest.var\"#1#2#5\"{HTTP.TimeoutRequest.var\"#1#4\"{HTTP.TimeoutRequest.var\"#1#2#5\"{HTTP.ExceptionRequest.var\"#1#3\"{HTTP.ExceptionRequest.var\"#1#2#4\"{typeof(HTTP.StreamRequest.streamlayer)}}}}}}}}}}}}}})\u001b[22m\u001b[0m\u001b[1m(\u001b[22m\u001b[90mreq\u001b[39m::\u001b[0mHTTP.Messages.Request; \u001b[90mdetect_content_type\u001b[39m::\u001b[0mBool, \u001b[90mkw\u001b[39m::\u001b[0mBase.Pairs\u001b[90m{Symbol, Any, Tuple{Symbol, Symbol}, NamedTuple{(:iofunction, :verbose), Tuple{HTTP.WebSockets.var\"#5#6\"{Bool, Int64, Int64, var\"#7#9\"{Channel{Any}, Channel{String}}, String}, Bool}}}\u001b[39m\u001b[0m\u001b[1m)\u001b[22m\n",
      "\u001b[90m    @ \u001b[39m\u001b[36mHTTP.ContentTypeDetection\u001b[39m \u001b[90mC:\\Users\\user\\.julia\\packages\\HTTP\\GGNaX\\src\\clientlayers\\\u001b[39m\u001b[90m\u001b[4mContentTypeRequest.jl:23\u001b[24m\u001b[39m\n",
      " [19] \u001b[0m\u001b[1m(::HTTP.BasicAuthRequest.var\"#1#3\"{HTTP.BasicAuthRequest.var\"#1#2#4\"{HTTP.ContentTypeDetection.var\"#1#3\"{HTTP.ContentTypeDetection.var\"#1#2#4\"{HTTP.CookieRequest.var\"#1#5\"{HTTP.CookieRequest.var\"#1#2#6\"{HTTP.RetryRequest.var\"#1#4\"{HTTP.RetryRequest.var\"#1#2#5\"{HTTP.CanonicalizeRequest.var\"#1#3\"{HTTP.CanonicalizeRequest.var\"#1#2#4\"{HTTP.ConnectionRequest.var\"#1#4\"{HTTP.ConnectionRequest.var\"#1#2#5\"{HTTP.TimeoutRequest.var\"#1#4\"{HTTP.TimeoutRequest.var\"#1#2#5\"{HTTP.ExceptionRequest.var\"#1#3\"{HTTP.ExceptionRequest.var\"#1#2#4\"{typeof(HTTP.StreamRequest.streamlayer)}}}}}}}}}}}}}}}})\u001b[22m\u001b[0m\u001b[1m(\u001b[22m\u001b[90mreq\u001b[39m::\u001b[0mHTTP.Messages.Request; \u001b[90mbasicauth\u001b[39m::\u001b[0mBool, \u001b[90mkw\u001b[39m::\u001b[0mBase.Pairs\u001b[90m{Symbol, Any, Tuple{Symbol, Symbol}, NamedTuple{(:iofunction, :verbose), Tuple{HTTP.WebSockets.var\"#5#6\"{Bool, Int64, Int64, var\"#7#9\"{Channel{Any}, Channel{String}}, String}, Bool}}}\u001b[39m\u001b[0m\u001b[1m)\u001b[22m\n",
      "\u001b[90m    @ \u001b[39m\u001b[36mHTTP.BasicAuthRequest\u001b[39m \u001b[90mC:\\Users\\user\\.julia\\packages\\HTTP\\GGNaX\\src\\clientlayers\\\u001b[39m\u001b[90m\u001b[4mBasicAuthRequest.jl:22\u001b[24m\u001b[39m\n",
      " [20] \u001b[0m\u001b[1m(::HTTP.DefaultHeadersRequest.var\"#1#3\"{HTTP.DefaultHeadersRequest.var\"#1#2#4\"{HTTP.BasicAuthRequest.var\"#1#3\"{HTTP.BasicAuthRequest.var\"#1#2#4\"{HTTP.ContentTypeDetection.var\"#1#3\"{HTTP.ContentTypeDetection.var\"#1#2#4\"{HTTP.CookieRequest.var\"#1#5\"{HTTP.CookieRequest.var\"#1#2#6\"{HTTP.RetryRequest.var\"#1#4\"{HTTP.RetryRequest.var\"#1#2#5\"{HTTP.CanonicalizeRequest.var\"#1#3\"{HTTP.CanonicalizeRequest.var\"#1#2#4\"{HTTP.ConnectionRequest.var\"#1#4\"{HTTP.ConnectionRequest.var\"#1#2#5\"{HTTP.TimeoutRequest.var\"#1#4\"{HTTP.TimeoutRequest.var\"#1#2#5\"{HTTP.ExceptionRequest.var\"#1#3\"{HTTP.ExceptionRequest.var\"#1#2#4\"{typeof(HTTP.StreamRequest.streamlayer)}}}}}}}}}}}}}}}}}})\u001b[22m"
     ]
    }
   ],
   "source": [
    "# モニタリング結果にエラーが格納されているか確認\n",
    "## エラーが格納されているのであれば client タスクを kill\n",
    "if !isempty(c_monitor.data)\n",
    "    @async Base.throwto(client, InterruptException())\n",
    "end"
   ]
  },
  {
   "cell_type": "code",
   "execution_count": 6,
   "metadata": {},
   "outputs": [
    {
     "name": "stderr",
     "output_type": "stream",
     "text": [
      "\u001b[0m\u001b[1m(\u001b[22m\u001b[90mreq\u001b[39m::\u001b[0mHTTP.Messages.Request; \u001b[90miofunction\u001b[39m::\u001b[0mFunction, \u001b[90mkw\u001b[39m::\u001b[0mBase.Pairs\u001b[90m{Symbol, Bool, Tuple{Symbol}, NamedTuple{(:verbose,), Tuple{Bool}}}\u001b[39m\u001b[0m\u001b[1m)\u001b[22m\n",
      "\u001b[90m    @ \u001b[39m\u001b[36mHTTP.DefaultHeadersRequest\u001b[39m \u001b[90mC:\\Users\\user\\.julia\\packages\\HTTP\\GGNaX\\src\\clientlayers\\\u001b[39m\u001b[90m\u001b[4mDefaultHeadersRequest.jl:42\u001b[24m\u001b[39m\n",
      " [21] \u001b[0m\u001b[1m(::HTTP.RedirectRequest.var\"#1#4\"{HTTP.RedirectRequest.var\"#1#2#5\"{HTTP.DefaultHeadersRequest.var\"#1#3\"{HTTP.DefaultHeadersRequest.var\"#1#2#4\"{HTTP.BasicAuthRequest.var\"#1#3\"{HTTP.BasicAuthRequest.var\"#1#2#4\"{HTTP.ContentTypeDetection.var\"#1#3\"{HTTP.ContentTypeDetection.var\"#1#2#4\"{HTTP.CookieRequest.var\"#1#5\"{HTTP.CookieRequest.var\"#1#2#6\"{HTTP.RetryRequest.var\"#1#4\"{HTTP.RetryRequest.var\"#1#2#5\"{HTTP.CanonicalizeRequest.var\"#1#3\"{HTTP.CanonicalizeRequest.var\"#1#2#4\"{HTTP.ConnectionRequest.var\"#1#4\"{HTTP.ConnectionRequest.var\"#1#2#5\"{HTTP.TimeoutRequest.var\"#1#4\"{HTTP.TimeoutRequest.var\"#1#2#5\"{HTTP.ExceptionRequest.var\"#1#3\"{HTTP.ExceptionRequest.var\"#1#2#4\"{typeof(HTTP.StreamRequest.streamlayer)}}}}}}}}}}}}}}}}}}}})\u001b[22m\u001b[0m\u001b[1m(\u001b[22m\u001b[90mreq\u001b[39m::\u001b[0mHTTP.Messages.Request; \u001b[90mredirect\u001b[39m::\u001b[0mBool, \u001b[90mredirect_limit\u001b[39m::\u001b[0mInt64, \u001b[90mredirect_method\u001b[39m::\u001b[0mNothing, \u001b[90mforwardheaders\u001b[39m::\u001b[0mBool, \u001b[90mresponse_stream\u001b[39m::\u001b[0mNothing, \u001b[90mkw\u001b[39m::\u001b[0mBase.Pairs\u001b[90m{Symbol, Any, Tuple{Symbol, Symbol}, NamedTuple{(:verbose, :iofunction), Tuple{Bool, HTTP.WebSockets.var\"#5#6\"{Bool, Int64, Int64, var\"#7#9\"{Channel{Any}, Channel{String}}, String}}}}\u001b[39m\u001b[0m\u001b[1m)\u001b[22m\n",
      "\u001b[90m    @ \u001b[39m\u001b[36mHTTP.RedirectRequest\u001b[39m \u001b[90mC:\\Users\\user\\.julia\\packages\\HTTP\\GGNaX\\src\\clientlayers\\\u001b[39m\u001b[90m\u001b[4mRedirectRequest.jl:25\u001b[24m\u001b[39m\n",
      " [22] \u001b[0m\u001b[1m#1#2\u001b[22m\n",
      "\u001b[90m    @ \u001b[39m\u001b[90mC:\\Users\\user\\.julia\\packages\\HTTP\\GGNaX\\src\\clientlayers\\\u001b[39m\u001b[90m\u001b[4mDebugRequest.jl:22\u001b[24m\u001b[39m\u001b[90m [inlined]\u001b[39m\n",
      " [23] \u001b[0m\u001b[1m(::HTTP.MessageRequest.var\"#1#3\"{HTTP.MessageRequest.var\"#1#2#4\"{HTTP.DebugRequest.var\"#1#4\"{HTTP.DebugRequest.var\"#1#2#5\"{HTTP.RedirectRequest.var\"#1#4\"{HTTP.RedirectRequest.var\"#1#2#5\"{HTTP.DefaultHeadersRequest.var\"#1#3\"{HTTP.DefaultHeadersRequest.var\"#1#2#4\"{HTTP.BasicAuthRequest.var\"#1#3\"{HTTP.BasicAuthRequest.var\"#1#2#4\"{HTTP.ContentTypeDetection.var\"#1#3\"{HTTP.ContentTypeDetection.var\"#1#2#4\"{HTTP.CookieRequest.var\"#1#5\"{HTTP.CookieRequest.var\"#1#2#6\"{HTTP.RetryRequest.var\"#1#4\"{HTTP.RetryRequest.var\"#1#2#5\"{HTTP.CanonicalizeRequest.var\"#1#3\"{HTTP.CanonicalizeRequest.var\"#1#2#4\"{HTTP.ConnectionRequest.var\"#1#4\"{HTTP.ConnectionRequest.var\"#1#2#5\"{HTTP.TimeoutRequest.var\"#1#4\"{HTTP.TimeoutRequest.var\"#1#2#5\"{HTTP.ExceptionRequest.var\"#1#3\"{HTTP.ExceptionRequest.var\"#1#2#4\"{typeof(HTTP.StreamRequest.streamlayer)}}}}}}}}}}}}}}}}}}}}}}}})\u001b[22m\u001b[0m\u001b[1m(\u001b[22m\u001b[90mmethod\u001b[39m::\u001b[0mString, \u001b[90murl\u001b[39m::\u001b[0mURIs.URI, \u001b[90mheaders\u001b[39m::\u001b[0mVector\u001b[90m{Pair{SubString{String}, SubString{String}}}\u001b[39m, \u001b[90mbody\u001b[39m::\u001b[0mNothing; \u001b[90mresponse_stream\u001b[39m::\u001b[0mNothing, \u001b[90mhttp_version\u001b[39m::\u001b[0mVersionNumber, \u001b[90mkw\u001b[39m::\u001b[0mBase.Pairs\u001b[90m{Symbol, Any, Tuple{Symbol, Symbol}, NamedTuple{(:iofunction, :verbose), Tuple{HTTP.WebSockets.var\"#5#6\"{Bool, Int64, Int64, var\"#7#9\"{Channel{Any}, Channel{String}}, String}, Bool}}}\u001b[39m\u001b[0m\u001b[1m)\u001b[22m\n",
      "\u001b[90m    @ \u001b[39m\u001b[36mHTTP.MessageRequest\u001b[39m \u001b[90mC:\\Users\\user\\.julia\\packages\\HTTP\\GGNaX\\src\\clientlayers\\\u001b[39m\u001b[90m\u001b[4mMessageRequest.jl:17\u001b[24m\u001b[39m\n",
      " [24] \u001b[0m\u001b[1mrequest\u001b[22m\u001b[0m\u001b[1m(\u001b[22m\u001b[90mstack\u001b[39m::\u001b[0mHTTP.MessageRequest.var\"#1#3\"\u001b[90m{HTTP.MessageRequest.var\"#1#2#4\"{HTTP.DebugRequest.var\"#1#4\"{HTTP.DebugRequest.var\"#1#2#5\"{HTTP.RedirectRequest.var\"#1#4\"{HTTP.RedirectRequest.var\"#1#2#5\"{HTTP.DefaultHeadersRequest.var\"#1#3\"{HTTP.DefaultHeadersRequest.var\"#1#2#4\"{HTTP.BasicAuthRequest.var\"#1#3\"{HTTP.BasicAuthRequest.var\"#1#2#4\"{HTTP.ContentTypeDetection.var\"#1#3\"{HTTP.ContentTypeDetection.var\"#1#2#4\"{HTTP.CookieRequest.var\"#1#5\"{HTTP.CookieRequest.var\"#1#2#6\"{HTTP.RetryRequest.var\"#1#4\"{HTTP.RetryRequest.var\"#1#2#5\"{HTTP.CanonicalizeRequest.var\"#1#3\"{HTTP.CanonicalizeRequest.var\"#1#2#4\"{HTTP.ConnectionRequest.var\"#1#4\"{HTTP.ConnectionRequest.var\"#1#2#5\"{HTTP.TimeoutRequest.var\"#1#4\"{HTTP.TimeoutRequest.var\"#1#2#5\"{HTTP.ExceptionRequest.var\"#1#3\"{HTTP.ExceptionRequest.var\"#1#2#4\"{typeof(HTTP.StreamRequest.streamlayer)}}}}}}}}}}}}}}}}}}}}}}}}\u001b[39m, \u001b[90mmethod\u001b[39m::\u001b[0mString, \u001b[90murl\u001b[39m::\u001b[0mString, \u001b[90mh\u001b[39m::\u001b[0mVector\u001b[90m{Pair{String, String}}\u001b[39m, \u001b[90mb\u001b[39m::\u001b[0mNothing, \u001b[90mq\u001b[39m::\u001b[0mNothing; \u001b[90mheaders\u001b[39m::\u001b[0mVector\u001b[90m{Pair{String, String}}\u001b[39m, \u001b[90mbody\u001b[39m::\u001b[0mNothing, \u001b[90mquery\u001b[39m::\u001b[0mNothing, \u001b[90mkw\u001b[39m::\u001b[0mBase.Pairs\u001b[90m{Symbol, Any, Tuple{Symbol, Symbol}, NamedTuple{(:iofunction, :verbose), Tuple{HTTP.WebSockets.var\"#5#6\"{Bool, Int64, Int64, var\"#7#9\"{Channel{Any}, Channel{String}}, String}, Bool}}}\u001b[39m\u001b[0m\u001b[1m)\u001b[22m\n",
      "\u001b[90m    @ \u001b[39m\u001b[36mHTTP\u001b[39m \u001b[90mC:\\Users\\user\\.julia\\packages\\HTTP\\GGNaX\\src\\\u001b[39m\u001b[90m\u001b[4mHTTP.jl:388\u001b[24m\u001b[39m\n",
      " [25] \u001b[0m\u001b[1m#request#16\u001b[22m\n",
      "\u001b[90m    @ \u001b[39m\u001b[90mC:\\Users\\user\\.julia\\packages\\HTTP\\GGNaX\\src\\\u001b[39m\u001b[90m\u001b[4mHTTP.jl:269\u001b[24m\u001b[39m\u001b[90m [inlined]\u001b[39m\n",
      " [26] \u001b[0m\u001b[1mopen\u001b[22m\u001b[0m\u001b[1m(\u001b[22m\u001b[90mf\u001b[39m::\u001b[0mFunction, \u001b[90mmethod\u001b[39m::\u001b[0mString, \u001b[90murl\u001b[39m::\u001b[0mString, \u001b[90mheaders\u001b[39m::\u001b[0mVector\u001b[90m{Pair{String, String}}\u001b[39m; \u001b[90mkw\u001b[39m::\u001b[0mBase.Pairs\u001b[90m{Symbol, Bool, Tuple{Symbol}, NamedTuple{(:verbose,), Tuple{Bool}}}\u001b[39m\u001b[0m\u001b[1m)\u001b[22m\n",
      "\u001b[90m    @ \u001b[39m\u001b[36mHTTP\u001b[39m \u001b[90mC:\\Users\\user\\.julia\\packages\\HTTP\\GGNaX\\src\\\u001b[39m\u001b[90m\u001b[4mHTTP.jl:481\u001b[24m\u001b[39m\n",
      " [27] \u001b[0m\u001b[1mopen\u001b[22m\u001b[0m\u001b[1m(\u001b[22m\u001b[90mf\u001b[39m::\u001b[0mvar\"#7#9\"\u001b[90m{Channel{Any}, Channel{String}}\u001b[39m, \u001b[90murl\u001b[39m::\u001b[0mString; \u001b[90msuppress_close_error\u001b[39m::\u001b[0mBool, \u001b[90mverbose\u001b[39m::\u001b[0mBool, \u001b[90mheaders\u001b[39m::\u001b[0mVector\u001b[90m{Any}\u001b[39m, \u001b[90mmaxframesize\u001b[39m::\u001b[0mInt64, \u001b[90mmaxfragmentation\u001b[39m::\u001b[0mInt64, \u001b[90mkw\u001b[39m::\u001b[0mBase.Pairs\u001b[90m{Symbol, Union{}, Tuple{}, NamedTuple{(), Tuple{}}}\u001b[39m\u001b[0m\u001b[1m)\u001b[22m\n",
      "\u001b[90m    @ \u001b[39m\u001b[36mHTTP.WebSockets\u001b[39m \u001b[90mC:\\Users\\user\\.julia\\packages\\HTTP\\GGNaX\\src\\\u001b[39m\u001b[90m\u001b[4mWebSockets.jl:357\u001b[24m\u001b[39m\n",
      " [28] \u001b[0m\u001b[1mopen\u001b[22m\n",
      "\u001b[90m    @ \u001b[39m\u001b[90mC:\\Users\\user\\.julia\\packages\\HTTP\\GGNaX\\src\\\u001b[39m\u001b[90m\u001b[4mWebSockets.jl:348\u001b[24m\u001b[39m\u001b[90m [inlined]\u001b[39m\n",
      " [29] \u001b[0m\u001b[1m(::var\"#6#8\"{String, Channel{Any}, Channel{String}})\u001b[22m\u001b[0m\u001b[1m(\u001b[22m\u001b[0m\u001b[1m)\u001b[22m\n",
      "\u001b[90m    @ \u001b[39m\u001b[35mMain\u001b[39m \u001b[90m.\\\u001b[39m\u001b[90m\u001b[4mtask.jl:423\u001b[24m\u001b[39m┌ Error: 55f5385c-670e-48e4-8618-315de46f4d60: error\n",
      "│   (e, catch_backtrace()) = (InterruptException(), Union{Ptr{Nothing}, Base.InterpreterIP}[Ptr{Nothing} @0x00000000105815c3, Ptr{Nothing} @0x00000000105817c7, Ptr{Nothing} @0x00000000105819d5, Ptr{Nothing} @0x000000001cb16eac, Ptr{Nothing} @0x000000001cb1cd01, Ptr{Nothing} @0x000000001cb21f2a, Ptr{Nothing} @0x000000001cb26bd1, Ptr{Nothing} @0x000000001cb27b79, Ptr{Nothing} @0x000000001cb28215, Ptr{Nothing} @0x000000001cb28a6f, Ptr{Nothing} @0x000000001cb29479, Ptr{Nothing} @0x000000001cb010c8, Ptr{Nothing} @0x000000001cb02742, Ptr{Nothing} @0x000000001cb037c1, Ptr{Nothing} @0x000000001cb0f74b, Ptr{Nothing} @0x000000001cb104df, Ptr{Nothing} @0x000000001cb10a9e, Ptr{Nothing} @0x000000001cb10c71, Ptr{Nothing} @0x000000001cb10ce4, Ptr{Nothing} @0x000000001caf1d4a, Ptr{Nothing} @0x000000001caf1ed8, Ptr{Nothing} @0x000000001caecc9f, Ptr{Nothing} @0x000000001caefc2a, Ptr{Nothing} @0x000000001caefe79, Ptr{Nothing} @0x000000001caeff05, Ptr{Nothing} @0x000000001cadf386, Ptr{Nothing} @0x000000001cadf405, Ptr{Nothing} @0x000000001cadda22, Ptr{Nothing} @0x000000001cadda9c, Ptr{Nothing} @0x000000001cadcfc0, Ptr{Nothing} @0x000000001cadd0f4, Ptr{Nothing} @0x000000001cadd175, Ptr{Nothing} @0x000000001cadc4a3, Ptr{Nothing} @0x000000001cadc66e, Ptr{Nothing} @0x000000001cadc6a3, Ptr{Nothing} @0x0000000001e20c9f])\n",
      "└ @ HTTP.WebSockets C:\\Users\\user\\.julia\\packages\\HTTP\\GGNaX\\src\\WebSockets.jl:375\n",
      "┌ Error: WebSocketServer Error\n",
      "│   exception = (HTTP.WebSockets.WebSocketError(HTTP.WebSockets.CloseFrameBody(1008, \"Unexpected client websocket error\")), Union{Ptr{Nothing}, Base.InterpreterIP}[Ptr{Nothing} @0x000000001cb1a46a, Ptr{Nothing} @0x000000001cb1b266, Ptr{Nothing} @0x000000001cb36348, Ptr{Nothing} @0x000000001cb3652d, Ptr{Nothing} @0x000000001cb38409, Ptr{Nothing} @0x000000001cb3c838, Ptr{Nothing} @0x000000001cb3dc47, Ptr{Nothing} @0x000000001cb34479, Ptr{Nothing} @0x000000001cb34851, Ptr{Nothing} @0x000000001cb34a1b, Ptr{Nothing} @0x000000001cb3358b, Ptr{Nothing} @0x000000001cb3436a, Ptr{Nothing} @0x0000000001e20c9f])\n",
      "└ @ Main In[1]:17\n",
      "┌ Error: 5165b76d-0ac0-4a97-8546-3b1d9a9c0ade: Unexpected websocket server error\n",
      "│   (e, catch_backtrace()) = (HTTP.WebSockets.WebSocketError(HTTP.WebSockets.CloseFrameBody(1008, \"Unexpected client websocket error\")), Union{Ptr{Nothing}, Base.InterpreterIP}[Ptr{Nothing} @0x000000001cb1a46a, Ptr{Nothing} @0x000000001cb1b266, Ptr{Nothing} @0x000000001cb36348, Ptr{Nothing} @0x000000001cb3652d, Ptr{Nothing} @0x000000001cb38409, Ptr{Nothing} @0x000000001cb3c838, Ptr{Nothing} @0x000000001cb3dc47, Ptr{Nothing} @0x000000001cb34479, Ptr{Nothing} @0x000000001cb34851, Ptr{Nothing} @0x000000001cb34a1b, Ptr{Nothing} @0x000000001cb3358b, Ptr{Nothing} @0x000000001cb3436a, Ptr{Nothing} @0x0000000001e20c9f])\n",
      "└ @ HTTP.WebSockets C:\\Users\\user\\.julia\\packages\\HTTP\\GGNaX\\src\\WebSockets.jl:439\n"
     ]
    },
    {
     "data": {
      "text/plain": [
       "(true, true, true)"
      ]
     },
     "execution_count": 6,
     "metadata": {},
     "output_type": "execute_result"
    }
   ],
   "source": [
    "istaskdone(server_task), istaskdone(client), istaskdone(monitor)"
   ]
  },
  {
   "cell_type": "code",
   "execution_count": null,
   "metadata": {},
   "outputs": [],
   "source": []
  }
 ],
 "metadata": {
  "kernelspec": {
   "display_name": "Julia 1.7.2",
   "language": "julia",
   "name": "julia-1.7"
  },
  "language_info": {
   "file_extension": ".jl",
   "mimetype": "application/julia",
   "name": "julia",
   "version": "1.7.2"
  },
  "orig_nbformat": 4
 },
 "nbformat": 4,
 "nbformat_minor": 2
}
