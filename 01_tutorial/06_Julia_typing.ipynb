{
 "cells": [
  {
   "cell_type": "markdown",
   "metadata": {},
   "source": [
    "<a href=\"https://colab.research.google.com/github/amenoyoya/julia_ml-tuto/blob/master/01_tutorial/06_Julia_typing.ipynb\">\n",
    "  <img src=\"https://colab.research.google.com/assets/colab-badge.svg\" alt=\"Open In Colab\"/>\n",
    "</a>\n",
    "\n",
    "Google Colaboratory で本notebookを開く場合は、以下の手順を実行すること\n",
    "\n",
    "1. 以下のコマンドを実行し、Julia 1.6.1 Kernel をインストール\n",
    "2. 「ランタイム」>「ランタイムのタイプを変更」から `Julia 1.6.1` を選択して保存\n",
    "3. ランタイムが一度切断され、再接続されると Julia 1.6.1 を実行可能になる\n",
    "    - Google Colaboratory は、セッションの有効時間に制限があるため、実行に時間のかかるコードがある場合は、ローカル環境で環境構築して実行する方が良い"
   ]
  },
  {
   "cell_type": "code",
   "execution_count": null,
   "metadata": {},
   "outputs": [],
   "source": [
    "!curl -sSL \"https://julialang-s3.julialang.org/bin/linux/x64/1.6/julia-1.6.1-linux-x86_64.tar.gz\" -o julia.tar.gz\n",
    "!tar -xzf julia.tar.gz -C /usr --strip-components 1\n",
    "!rm -rf julia.tar.gz*\n",
    "!julia -e 'using Pkg; pkg\"add IJulia\"'"
   ]
  },
  {
   "cell_type": "markdown",
   "metadata": {},
   "source": [
    "## 型\n",
    "\n",
    "Juliaの型システムは動的だが、静的型付システムの方式も一部取り入れている\n",
    "\n",
    "そのため、ある種の値に対しては、型を判定することができる（型推論）\n",
    "\n",
    "型を省略した時は値がどんな型であっても許されるが、型注釈を加えると、システムのパフォーマンスと堅牢性が向上する\n",
    "\n",
    "また、静的に型付けされることで、想定外の値が紛れ込む心配をしなくても良くなり、プログラムが非常に単純化される\n",
    "\n",
    "### Juliaの型システムの特徴\n",
    "- オブジェクトか非オブジェクトかという値の区別がない\n",
    "    - Juliaでは、すべての値は型を持つ真のオブジェクト\n",
    "    - Juliaの型は、すべてのノードが型として等しく第一級である、完全に連結した単一の型のグラフに属している\n",
    "- 値のとる型はただ一つであり、実行時に実際にとるものだけである\n",
    "    - これはオブジェクト指向言語では「実行時型」と呼ばる\n",
    "    - オブジェクト指向言語において多相型の静的コンパイルを行うときは、この型の違いは重要になる\n",
    "- 変数ではなく、値だけが型を持つ\n",
    "    - 変数は値に束縛された単なる名前である\n",
    "- 抽象型と具象型は両方とも、他の型によるパラメータ化が可能\n",
    "    - 型以外にも、シンボル、値でその型が `isbits()` で真となるもの、及びこれらのタプルなどによってパラメータ化が可能\n",
    "    - 参照や制限をする必要がない場合は、型パラメータは省略することができる\n",
    "\n",
    "### 型注釈\n",
    "以下のような形式で型注釈を行うことができる\n",
    "\n",
    "```julia\n",
    "<式, 変数> :: <型名>\n",
    "```\n",
    "\n",
    "型注釈を行うことで以下のようなメリットがある\n",
    "\n",
    "1. 型注釈によりコードが自己説明的になり、プログラムに想定される動作を確認できるようになる\n",
    "2. コンパイラが追加的な型情報を利用できるようなり、パフォーマンスが向上することがある"
   ]
  },
  {
   "cell_type": "code",
   "execution_count": 1,
   "metadata": {},
   "outputs": [
    {
     "data": {
      "text/plain": [
       "3"
      ]
     },
     "execution_count": 1,
     "metadata": {},
     "output_type": "execute_result"
    }
   ],
   "source": [
    "# 整数型の値を宣言\n",
    "(1 + 2) :: Int"
   ]
  },
  {
   "cell_type": "code",
   "execution_count": 2,
   "metadata": {},
   "outputs": [
    {
     "ename": "LoadError",
     "evalue": "TypeError: in typeassert, expected AbstractFloat, got a value of type Int64",
     "output_type": "error",
     "traceback": [
      "TypeError: in typeassert, expected AbstractFloat, got a value of type Int64",
      "",
      "Stacktrace:",
      " [1] top-level scope",
      "   @ In[2]:2",
      " [2] eval",
      "   @ .\\boot.jl:360 [inlined]",
      " [3] include_string(mapexpr::typeof(REPL.softscope), mod::Module, code::String, filename::String)",
      "   @ Base .\\loading.jl:1094"
     ]
    }
   ],
   "source": [
    "# 誤った型を宣言すると TypeError例外が投げられる\n",
    "(1 + 2) :: AbstractFloat"
   ]
  },
  {
   "cell_type": "code",
   "execution_count": 3,
   "metadata": {},
   "outputs": [
    {
     "name": "stdout",
     "output_type": "stream",
     "text": [
      "123\n"
     ]
    },
    {
     "ename": "LoadError",
     "evalue": "MethodError: no method matching add(::Float64, ::Float64)",
     "output_type": "error",
     "traceback": [
      "MethodError: no method matching add(::Float64, ::Float64)",
      "",
      "Stacktrace:",
      " [1] top-level scope",
      "   @ In[3]:10",
      " [2] eval",
      "   @ .\\boot.jl:360 [inlined]",
      " [3] include_string(mapexpr::typeof(REPL.softscope), mod::Module, code::String, filename::String)",
      "   @ Base .\\loading.jl:1094"
     ]
    }
   ],
   "source": [
    "# 型注釈を行うと、その型以外の値を代入することはできなくなる\n",
    "# -> 想定外の値が代入されることで発生するバグを避けることができる\n",
    "\n",
    "add(x::Int, y::Int) :: Int = x + y\n",
    "\n",
    "# 100 + 23 -> 123\n",
    "println(add(100, 23))\n",
    "\n",
    "# 整数以外の値を渡すとErrorになる\n",
    "println(add(3.14, 0.86))"
   ]
  },
  {
   "cell_type": "markdown",
   "metadata": {},
   "source": [
    "### 型システムまとめ\n",
    "Juliaの型システムをまとめると、以下のようになっている\n",
    "\n",
    "- 宣言型: `DataType`のインスタンス\n",
    "    - 抽象型: `abstract type`\n",
    "    - 原始型: `primitive type`\n",
    "    - 複合型: `struct`\n",
    "- 全合併型: `{T} where T`\n",
    "    - 合併型: `Union{}`\n",
    "    - パラメトリック型:\n",
    "        - パラメトリック抽象型\n",
    "        - パラメトリック原始型\n",
    "        - パラメトリック複合型\n",
    "    - タプル型: `Tuple{}`\n",
    "\n",
    "\n",
    "### 抽象型\n",
    "抽象型とは、その子孫となる具象型の集合である\n",
    "\n",
    "例えば `AbstractFloat` という抽象型は `Float16`, `Float32`, `Float64` という具象型の集合である\n",
    "\n",
    "これは以下のような型の階層を表現している\n",
    "\n",
    "```\n",
    "     AbstractFloat      ... AbstractType\n",
    "          |\n",
    "   ----------------\n",
    "   |      |       |\n",
    "Float16 Float32 Float64 ... PrimitiveType\n",
    "```\n",
    "\n",
    "#### 抽象型の宣言\n",
    "抽象型は以下のような形式で宣言される\n",
    "\n",
    "```julia\n",
    "# 親タイプのない抽象型\n",
    "abstract type 型名 end\n",
    "\n",
    "# 親タイプのある抽象型\n",
    "abstract type 型名 <: 親型名 end\n",
    "```\n",
    "\n",
    "Juliaの型システムにおいて、階層の最上位は `Any`型である\n",
    "\n",
    "そのため、親タイプの指定がない場合、その型は `Any`型の直下の子タイプになる\n",
    "\n",
    "逆に、階層の最下位は `Union{}`型であり、全ての型は `Union{}`型の親タイプとなる\n",
    "\n",
    "例えば、Juliaにおける数値型の階層は以下のようになっている\n",
    "\n",
    "```\n",
    "              Any\n",
    "               |\n",
    "             Number\n",
    "               |\n",
    "              Real\n",
    "               |\n",
    "       -----------------\n",
    "       |               |\n",
    "    Integer            |\n",
    "       |               |\n",
    "   ---------           |\n",
    "   |       |           |\n",
    "Signed  Unsigned  AbstractFloat\n",
    "   |       |           |\n",
    "Union{}  Union{}    Union{}\n",
    "```\n",
    "\n",
    "数値型は以下のように定義されている\n",
    "\n",
    "```julia\n",
    "abstract type Number end\n",
    "abstract type Real          <: Number  end\n",
    "abstract type AbstractFloat <: Real    end\n",
    "abstract type Integer       <: Real    end\n",
    "abstract type Signed        <: Integer end\n",
    "abstract type Unsigned      <: Integer end\n",
    "```"
   ]
  },
  {
   "cell_type": "code",
   "execution_count": 4,
   "metadata": {},
   "outputs": [
    {
     "data": {
      "text/plain": [
       "true"
      ]
     },
     "execution_count": 4,
     "metadata": {},
     "output_type": "execute_result"
    }
   ],
   "source": [
    "# <: 演算子は「is a sub type of」（〜の子タイプである）を意味する\n",
    "\n",
    "## Integer は Number の子タイプか -> true\n",
    "Integer <: Number"
   ]
  },
  {
   "cell_type": "code",
   "execution_count": 5,
   "metadata": {},
   "outputs": [
    {
     "data": {
      "text/plain": [
       "false"
      ]
     },
     "execution_count": 5,
     "metadata": {},
     "output_type": "execute_result"
    }
   ],
   "source": [
    "# Integer は AbstractFloat の子タイプか -> false\n",
    "Integer <: AbstractFloat"
   ]
  },
  {
   "cell_type": "markdown",
   "metadata": {},
   "source": [
    "### 原始型（プリミティブ型）\n",
    "原始型は、データが普通のビットで構成される具象型である\n",
    "\n",
    "典型的な原始型は、整数や浮動小数点である\n",
    "\n",
    "#### 原始型の宣言\n",
    "Juliaでは、以下のような形式で原始型を独自に宣言することが可能である\n",
    "\n",
    "```julia\n",
    "# 親タイプのない原始型（Any型の子タイプとなる）\n",
    "primitive type 型名 ビット数 end\n",
    "\n",
    "# 親タイプのある原始型\n",
    "primitive type 型名 <: 親型名 ビット数 end\n",
    "```\n",
    "\n",
    "また、Juliaにおける全ての原始型は、以下のようにJulia自身によって定義されている\n",
    "\n",
    "```julia\n",
    "primitive type Float16 <: AbstractFloat 16 end\n",
    "primitive type Float32 <: AbstractFloat 32 end\n",
    "primitive type Float64 <: AbstractFloat 64 end\n",
    "\n",
    "primitive type Bool    <: Integer 8 end\n",
    "primitive type Char 32 end\n",
    "\n",
    "primitive type Int8    <: Signed   8   end\n",
    "primitive type UInt8   <: Unsigned 8   end\n",
    "primitive type Int16   <: Signed   16  end\n",
    "primitive type UInt16  <: Unsigned 16  end\n",
    "primitive type Int32   <: Signed   32  end\n",
    "primitive type UInt32  <: Unsigned 32  end\n",
    "primitive type Int64   <: Signed   64  end\n",
    "primitive type UInt64  <: Unsigned 64  end\n",
    "primitive type Int128  <: Signed   128 end\n",
    "primitive type UInt128 <: Unsigned 128 end\n",
    "```\n",
    "\n",
    "抽象型、原始型を合わせて数値型の階層構造を見ると、以下のようになっている\n",
    "\n",
    "```\n",
    "                              Any\n",
    "                               |\n",
    "               ---------------------------------\n",
    "               |                               |\n",
    "             Number                            |\n",
    "               |                               |\n",
    "              Real                             |\n",
    "               |                               |\n",
    "       -----------------------------           |\n",
    "       |                           |           |\n",
    "    Integer                        |           |\n",
    "       |                           |           |\n",
    " ------------------                |           |\n",
    " |                |                |           |\n",
    " |          ------------           |           |\n",
    " |          |          |           |           |\n",
    " |       Signed      Unsigned  AbstractFloat   |\n",
    " |          |          |           |           |\n",
    "Union{}  Union{}     Union{}    Union{}      Union{}\n",
    " |          |_ Int8    |_ UInt8    |           |\n",
    " |          |_ Int16   |_ UInt16   |           |\n",
    " |          |_ Int32   |_ UInt32   |_ Float16  |\n",
    " |          |_ Int64   |_ UInt64   |_ Float32  |\n",
    " |_ Bool    |_ Int128  |_ UInt128  |_ Float64  |_ Char\n",
    "```"
   ]
  },
  {
   "cell_type": "markdown",
   "metadata": {},
   "source": [
    "### 複合型\n",
    "複合型は、名前付きフィールドの集合体であり、言語によっては、レコード、構造体、オブジェクトなどとも呼ばれる\n",
    "\n",
    "C++, Java, Python, Rubyなどの主流なオブジェクト指向言語では、複合型に名前付きの関数（メソッド）や変数（メンバ、フィールド）が関連付けられて「オブジェクト」と呼ばれる\n",
    "\n",
    "Juliaでは、全ての値がオブジェクトに関連付けられるが、関数は操作対象のオブジェクトに関連付けられない\n",
    "\n",
    "これは、各オブジェクトの\"内側\"にたくさんの名前付き関数を入れるよりも、メソッド群を編成して関数オブジェクトにする方が、言語設計上有益であるという思想に根ざしている\n",
    "\n",
    "- 主流なオブジェクト指向言語\n",
    "    ```\n",
    "    Object1       Object2\n",
    "      |_ Member1    |_ Member1\n",
    "      |_ Member2    |_ Member2\n",
    "      :    :        :    :\n",
    "      |_ Method1    |_ Method1\n",
    "      |_ Method2    |_ Method2\n",
    "      :    :        :    :\n",
    "    ```\n",
    "- Julia\n",
    "    ```\n",
    "    Object1      Object2     FunctionObject\n",
    "      |_ Field1    |_ Field1      |_ Method1\n",
    "      |_ Field2    |_ Field2      |_ Method2\n",
    "      :    :       :    :         :     :\n",
    "    ```\n",
    "\n",
    "#### 複合型の定義\n",
    "複合型は以下のような形式で定義できる\n",
    "\n",
    "```julia\n",
    "struct 型名\n",
    "    フィールド名1 # <- 型注釈のないフィールドは Any型になる\n",
    "    フィールド名2 :: 型名2\n",
    "end\n",
    "```"
   ]
  },
  {
   "cell_type": "code",
   "execution_count": 6,
   "metadata": {},
   "outputs": [
    {
     "data": {
      "text/plain": [
       "Human(\"Yoya\", 31)"
      ]
     },
     "execution_count": 6,
     "metadata": {},
     "output_type": "execute_result"
    }
   ],
   "source": [
    "# 複合型 Human型を定義\n",
    "struct Human\n",
    "    name::String\n",
    "    age::Int\n",
    "end\n",
    "\n",
    "# 複合型は関数のように呼び出し、型のインスタンスを新しく生成することができる\n",
    "## これをコンストラクタと呼ぶ\n",
    "human = Human(\"Yoya\", 31)"
   ]
  },
  {
   "cell_type": "code",
   "execution_count": 7,
   "metadata": {},
   "outputs": [
    {
     "data": {
      "text/plain": [
       "(:name, :age)"
      ]
     },
     "execution_count": 7,
     "metadata": {},
     "output_type": "execute_result"
    }
   ],
   "source": [
    "# fieldnames関数を用いて 複合型のフィールド名を列挙することができる\n",
    "## fieldnames関数は、複合型を引数に取るため\n",
    "## fieldnames(human) のように インスタンスを渡してもエラーになる\n",
    "fieldnames(Human)"
   ]
  },
  {
   "cell_type": "code",
   "execution_count": 8,
   "metadata": {},
   "outputs": [
    {
     "name": "stdout",
     "output_type": "stream",
     "text": [
      "Yoya\n",
      "31\n"
     ]
    }
   ],
   "source": [
    "# フィールドへアクセスするには instance.field 記法を使う\n",
    "## フィールドはシンボルとして定義されているため\n",
    "## instance[:field] と書けそうだが、この書き方はできない\n",
    "println(human.name)\n",
    "println(human.age)"
   ]
  },
  {
   "cell_type": "code",
   "execution_count": 9,
   "metadata": {},
   "outputs": [
    {
     "ename": "LoadError",
     "evalue": "setfield! immutable struct of type Human cannot be changed",
     "output_type": "error",
     "traceback": [
      "setfield! immutable struct of type Human cannot be changed",
      "",
      "Stacktrace:",
      " [1] setproperty!(x::Human, f::Symbol, v::Int64)",
      "   @ Base .\\Base.jl:34",
      " [2] top-level scope",
      "   @ In[9]:2",
      " [3] eval",
      "   @ .\\boot.jl:360 [inlined]",
      " [4] include_string(mapexpr::typeof(REPL.softscope), mod::Module, code::String, filename::String)",
      "   @ Base .\\loading.jl:1094"
     ]
    }
   ],
   "source": [
    "# 複合型オブジェクトは不変であり、生成後に値を変更することはできない\n",
    "human.age = 120"
   ]
  },
  {
   "cell_type": "code",
   "execution_count": 10,
   "metadata": {},
   "outputs": [
    {
     "name": "stdout",
     "output_type": "stream",
     "text": [
      "MutableHuman(\"Yoya\", 120)\n"
     ]
    }
   ],
   "source": [
    "# 可変複合型を定義する場合は、mutable struct を使う\n",
    "mutable struct MutableHuman\n",
    "    name::String\n",
    "    age::Int\n",
    "end\n",
    "\n",
    "human = MutableHuman(\"Yoya\", 31)\n",
    "\n",
    "human.age = 120\n",
    "println(human)"
   ]
  },
  {
   "cell_type": "markdown",
   "metadata": {},
   "source": [
    "### 宣言型\n",
    "抽象型、原始型、複合型には以下のような共通点がある\n",
    "\n",
    "- 明示的に宣言される\n",
    "- 名前がある\n",
    "- 親タイプが存在する\n",
    "- パラメータを持つことができる\n",
    "\n",
    "これらの特徴を持つ型は、**宣言型**と呼ばれ、内部的には `DataType`のインスタンスとして表現される\n",
    "\n",
    "システムにおけるあらゆる型は、`DataType`のインスタンスであるため、何らかの型のインスタンスである全ての値は、何らかの`DataType`のインスタンスであると言える"
   ]
  },
  {
   "cell_type": "code",
   "execution_count": 11,
   "metadata": {},
   "outputs": [
    {
     "data": {
      "text/plain": [
       "DataType"
      ]
     },
     "execution_count": 11,
     "metadata": {},
     "output_type": "execute_result"
    }
   ],
   "source": [
    "typeof(Int)"
   ]
  },
  {
   "cell_type": "markdown",
   "metadata": {},
   "source": [
    "### 合併型\n",
    "合併型は特殊な抽象型で、指定されたいずれかの型のインスタンスをオブジェクトとして含む\n",
    "\n",
    "例として、以下のようにして定義された合併型 `IntOrString` は、整数型もしくは文字列型の値のみを取り得る\n",
    "\n",
    "```julia\n",
    "# IntOrString合併型 = Int | AbstractString\n",
    "IntOrString = Union{Int, AbstractString}\n",
    "\n",
    "1 :: IntOrString # -> 1\n",
    "\"1\" :: IntOrString # -> \"1\"\n",
    "1.0 :: IntOrString # -> Error\n",
    "```\n",
    "\n",
    "\n",
    "### パラメトリック型\n",
    "パラメトリック型は、パラメータをもつ型であり、パラメータに指定された型の組み合わせの分だけ新しい型の一族を導入することができる\n",
    "\n",
    "これにより、型の汎用性を無制限に上げることができる\n",
    "\n",
    "#### パラメトリック複合型\n",
    "パラメトリック型の例として、一番わかり易いのはパラメトリック複合型である\n",
    "\n",
    "以下は、任意の型 `T` のフィールド x, y を持つ複合型 `Point` を定義している\n",
    "\n",
    "```julia\n",
    "struct Point{T}\n",
    "    x::T\n",
    "    y::T\n",
    "end\n",
    "```\n",
    "\n",
    "上記の `Point` 型は、それ単体では型としてインスタンス化することはできず、型パラメータを指定する必要がある\n",
    "\n",
    "例えば、Int型の x, y フィールドを持つ Point型を定義したい場合は、`Point{Int}`のように記述する\n",
    "\n",
    "このようにすることで、異なる型をフィールドに持つ複合型を好きなように定義することが可能となる\n",
    "\n",
    "#### パラメトリック抽象型\n",
    "複合型同様、抽象型にもパラメータを付与することができる\n",
    "\n",
    "```julia\n",
    "abstract type 型名 {型パラメータ名} end\n",
    "```\n",
    "\n",
    "パラメトリック抽象型には、インスタンスが型`T`のみの特殊な抽象型である **シングルトン型** というものがある\n",
    "\n",
    "これは `Type{T}` によって定義される\n",
    "\n",
    "```julia\n",
    "# Float64シングルトン型は Float64型のみをインスタンスとして持つ\n",
    "\n",
    "## Float64型は Float64シングルトン型のインスタンスか -> true\n",
    "isa(Float64, Type{Floa64})\n",
    "\n",
    "## Real型は Float64シングルトン型のインスタンスか -> false\n",
    "isa(Real, Type{Floa64})\n",
    "```\n",
    "\n",
    "#### パラメトリック原始型\n",
    "同様に、原始型にもパラメータを付与することができる\n",
    "\n",
    "```julia\n",
    "# 32-bit system:\n",
    "primitive type Ptr{T} 32 end\n",
    "\n",
    "# 64-bit system:\n",
    "primitive type Ptr{T} 64 end\n",
    "```\n",
    "\n",
    "\n",
    "### タプル型\n",
    "タプル型は、関数の引数部分のみを抜き出した型である\n",
    "\n",
    "その特徴は、順序と型が対応しているということである\n",
    "\n",
    "そのため、タプル型は、複数パラメータを持つパラメトリック複合型によく似ている\n",
    "\n",
    "例えば、2要素のタプル型は、以下のようなパラメトリック複合型に似ている\n",
    "\n",
    "```julia\n",
    "struct Tuple2{A, B}\n",
    "    a::A\n",
    "    b::B\n",
    "end\n",
    "```\n",
    "\n",
    "ただし、タプル型とパラメトリック複合型には明確な違いが3つある\n",
    "\n",
    "1. タプル型は任意の数のパラメータを持つことができる\n",
    "2. タプル型は、そのパラメータと共変である\n",
    "    - 例えば Int型は Any型の子タイプであるため、Any型と共変（置き換え可能）である\n",
    "    - タプル型 `Tuple{Int}` は、Int型の親タイプである Any型をパラメータに持つ `Tuple{Any}` と共変（置き換え可能）である\n",
    "    - 一方で、パラメトリック複合型 `Point{Int}` は、`Point{Any}` に置き換えることができない（不変である）\n",
    "3. タプル型にはフィールド名がなく、インデックスによってのみアクセスできる\n",
    "\n",
    "タプル型は、タプルの値が宣言された時点で、新しいタプル型が生成される"
   ]
  },
  {
   "cell_type": "code",
   "execution_count": 12,
   "metadata": {},
   "outputs": [
    {
     "data": {
      "text/plain": [
       "Tuple{Int64, String, Float64}"
      ]
     },
     "execution_count": 12,
     "metadata": {},
     "output_type": "execute_result"
    }
   ],
   "source": [
    "# 以下のタプル値が宣言されたタイミングで\n",
    "## Tuple{Int64,String,Float64} 型が新たに生成される\n",
    "\n",
    "tuple = (1, \"foo\", 3.14)\n",
    "typeof(tuple)"
   ]
  },
  {
   "cell_type": "code",
   "execution_count": 13,
   "metadata": {},
   "outputs": [
    {
     "name": "stdout",
     "output_type": "stream",
     "text": [
      "パラメトリック複合型\n",
      "false\n",
      "true\n",
      "false\n",
      "\n",
      "シングルトン型\n",
      "false\n",
      "true\n",
      "\n",
      "タプル型\n",
      "true\n",
      "false\n"
     ]
    }
   ],
   "source": [
    "# -- パラメトリック複合型は不変 --\n",
    "struct Point{T}\n",
    "    x::T\n",
    "    y::T\n",
    "end\n",
    "\n",
    "println(\"パラメトリック複合型\")\n",
    "\n",
    "# Int <: Real -> true だが\n",
    "## Point{Int} <: Point{Real} -> false\n",
    "println(Point{Int} <: Point{Real})\n",
    "\n",
    "# Point{Int} のインスタンスの型のみが唯一 Point{Int} の子タイプである\n",
    "println(typeof(Point(10, 20)) <: Point{Int})\n",
    "\n",
    "# Point{Int} のインスタンスは、Point{Real} のインスタンスではない\n",
    "println(isa(Point(10, 20), Point{Real}))\n",
    "\n",
    "\n",
    "# -- シングルトン型も不変 --\n",
    "println(\"\\nシングルトン型\")\n",
    "\n",
    "# Type{Int}シングルトン型 のインスタンスは Int型のみ\n",
    "## パラメトリック複合型と異なり\n",
    "## Type{Int}シングルトン型は、Int型の親タイプではない\n",
    "println(Int <: Type{Int}) # -> false\n",
    "println(isa(Int, Type{Int})) # -> true\n",
    "\n",
    "\n",
    "# -- Tuple型はパラメータと共変 --\n",
    "println(\"\\nタプル型\")\n",
    "\n",
    "# Int <: Real -> true より\n",
    "## Tuple{Int} <: Tuple{Real} -> true\n",
    "println(Tuple{Int} <: Tuple{Real})\n",
    "\n",
    "# Int <: AbstractString -> false より\n",
    "## Tuple{Int, Int} <: Tuple{Real, AbstractString} -> false\n",
    "println(Tuple{Int, Int} <: Tuple{Real, AbstractString})"
   ]
  },
  {
   "cell_type": "markdown",
   "metadata": {},
   "source": [
    "#### 可変引数タプル型\n",
    "タプル型の最後のパラメータは、特殊な可変引数型 `Vararg{}` として任意の数の皇族の要素を示すことができる\n",
    "\n",
    "`Vararg{T}`は、0個以上の型`T`に対応する"
   ]
  },
  {
   "cell_type": "code",
   "execution_count": 14,
   "metadata": {},
   "outputs": [
    {
     "data": {
      "text/plain": [
       "Tuple{AbstractString, Vararg{Int64, N} where N}"
      ]
     },
     "execution_count": 14,
     "metadata": {},
     "output_type": "execute_result"
    }
   ],
   "source": [
    "# 文字列型の後ろに任意の数のInt型が続くタプル型\n",
    "vatuple = Tuple{AbstractString, Vararg{Int}}"
   ]
  },
  {
   "cell_type": "code",
   "execution_count": 15,
   "metadata": {},
   "outputs": [
    {
     "name": "stdout",
     "output_type": "stream",
     "text": [
      "false\n",
      "true\n",
      "true\n",
      "false\n"
     ]
    }
   ],
   "source": [
    "# 文字列のみのタプル -> false\n",
    "println(isa((\"1\"), vatuple))\n",
    "\n",
    "# 文字列の後ろに0個のInt値がある -> true\n",
    "println(isa((\"1\", ), vatuple))\n",
    "\n",
    "# 文字列の後ろに2個のInt値がある -> true\n",
    "println(isa((\"1\", 1, 2), vatuple))\n",
    "\n",
    "# 文字列の後ろに1個のFloat64値がある -> false\n",
    "println(isa((\"1\", 3.14), vatuple))"
   ]
  },
  {
   "cell_type": "markdown",
   "metadata": {},
   "source": [
    "### 全合併型\n",
    "`Ptr{T}` のようなパラメトリック型は、全てのインスタンス型（`Ptr{Int64}` など）の親タイプのように振る舞う\n",
    "\n",
    "しかし、`Ptr`自体は、参照するデータの種類がわからなければ、その型を記憶操作に使用することができない\n",
    "\n",
    "これを実現するために、パラメトリック型のような型は、あるパラメータを全ての値に対して繰り返し合併した型を表現する\n",
    "\n",
    "そのため、このような型を **全合併型** と呼ぶ\n",
    "\n",
    "#### 全合併型の型宣言\n",
    "全合併型であることを明示するためには `where` キーワードを使う\n",
    "\n",
    "```julia\n",
    "# -- 例 --\n",
    "\n",
    "# パラメトリック複合型\n",
    "## パラメータ T をフィールド x, y に対して繰り返し合併する\n",
    "struct Point{T} where T\n",
    "    x::T\n",
    "    y::T\n",
    "end\n",
    "\n",
    "# パラメトリック抽象型\n",
    "## パラメータ T, N を型に対してネストして繰り返し合併する\n",
    "abstract type Array{T, N} where T where N end\n",
    "```"
   ]
  },
  {
   "cell_type": "code",
   "execution_count": 16,
   "metadata": {},
   "outputs": [
    {
     "name": "stdout",
     "output_type": "stream",
     "text": [
      "Array{Float64, N} where N\n",
      "Matrix{T} where T\n"
     ]
    }
   ],
   "source": [
    "# -- 部分インスタンス化 --\n",
    "\n",
    "# 複数パラメータはネストして繰り返し合併されるため、部分的に適用することが可能\n",
    "## -> A{B, C} と A{B}{C} は等価\n",
    "\n",
    "# 例: N次元のFloat64型配列\n",
    "## -> Array{Float64, N} where N と等価\n",
    "const FloatArray = Array{Float64}\n",
    "println(FloatArray)\n",
    "\n",
    "# 例: 全ての2次元の配列\n",
    "## ※ Julia 1.6 においては Array{T,2} (2次元配列) = Matrix{T} である\n",
    "const Array2D = Array{T, 2} where T\n",
    "println(Array2D)"
   ]
  },
  {
   "cell_type": "markdown",
   "metadata": {},
   "source": [
    "## 型パターンマッチング\n",
    "\n",
    "型で縛ることにより、例外処理を減らし、コードをシンプルに保つことができる\n",
    "\n",
    "以下、値による分岐と、型による分岐を対比し、型パターンマッチングの強力さを体感する\n",
    "\n",
    "```julia\n",
    "# --- 値による分岐 ---\n",
    "## 性別により出力する挨拶を変更する\n",
    "hello(name::String, sex::String=\"male\") = begin\n",
    "    if sex === \"male\"\n",
    "        # 性別が男性の場合\n",
    "        println(\"吾輩は\" * name * \"である\")\n",
    "    elseif sex === \"female\"\n",
    "        # 性別が女性の場合\n",
    "        println(\"私は\" * name * \"です\")\n",
    "    else\n",
    "        # 想定されていない値 = 例外\n",
    "        println(\"性別は male か female を指定してください\")\n",
    "    end\n",
    "end\n",
    "\n",
    "## 上記 hello関数は文字列ならなんでも受け入れるため 想定外の問題が起こりうる\n",
    "## 例えば、性別として「男性」を指定するつもりで\"man\"を渡したりする可能性がある\n",
    "### \"吾輩はJohnである\" と出力されることを期待\n",
    "hello(\"John\", \"man\")\n",
    "\n",
    "### -> 実際には \"性別は male か female を指定してください\" と出力される\n",
    "\n",
    "\n",
    "# --- 型による分岐 ---\n",
    "## 性別を表現する複合型を定義する\n",
    "struct Male\n",
    "    name::String\n",
    "end\n",
    "\n",
    "struct Female\n",
    "    name::String\n",
    "end\n",
    "\n",
    "## 男性の場合の挨拶\n",
    "hello(person::Male) = println(\"吾輩は\" * person.name * \"である\")\n",
    "\n",
    "## 女性の場合の挨拶\n",
    "hello(person::Female) = println(\"私は\" * person.name * \"です\")\n",
    "\n",
    "## 上記 hello関数は Male か Female しか受け入れないため 想定外の問題は起こり得ない\n",
    "### -> コンパイルエラーで止まってくれる\n",
    "```\n",
    "\n",
    "### Matchパッケージ\n",
    "型パターンマッチングを行うのに有用なパッケージとして`Match`パッケージがある\n",
    "\n",
    "#### インストール\n",
    "インストールは、以下のいずれかの方法で行う\n",
    "\n",
    "- REPLのパッケージモードで `add Match` コマンドを叩く\n",
    "- コマンドラインで `julia -e 'using Pkg; Pkg.add(\"Match\")'` を実行\n",
    "\n",
    "#### 使い方\n",
    "```julia\n",
    "@match 変数 begin\n",
    "    パターン1 => マッチング1\n",
    "    パターン2 => マッチング2\n",
    "    # ...\n",
    "end\n",
    "```"
   ]
  },
  {
   "cell_type": "code",
   "execution_count": 17,
   "metadata": {},
   "outputs": [
    {
     "name": "stdout",
     "output_type": "stream",
     "text": [
      "    \u001b[36m\u001b[1mFetching:\u001b[22m\u001b[39m [========================================>]  100.0 %[36m\u001b[1mFetching:\u001b[22m\u001b[39m [===========>                             ]  25.8 %>         ]  76.8 %\r"
     ]
    },
    {
     "data": {
      "text/plain": [
       "hello (generic function with 1 method)"
      ]
     },
     "execution_count": 17,
     "metadata": {},
     "output_type": "execute_result"
    }
   ],
   "source": [
    "# Pkgパッケージを使って Matchパッケージをインストールする\n",
    "using Pkg\n",
    "Pkg.add(\"Match\")\n",
    "\n",
    "# Matchパッケージを使う\n",
    "using Match\n",
    "\n",
    "# 性別表現の抽象型定義\n",
    "abstract type Male end\n",
    "abstract type Female end\n",
    "\n",
    "# 型パターンマッチングを行うためシングルトンの合併型を定義\n",
    "const Sex = Union{Type{Male}, Type{Female}}\n",
    "\n",
    "# 性別により出力する挨拶を変更する関数\n",
    "hello(name::String, sex::Sex) = begin\n",
    "    @match sex begin\n",
    "        m::Type{Male}   => println(\"吾輩は$(name)である\")\n",
    "        f::Type{Female} => println(\"私は$(name)です\")\n",
    "    end\n",
    "end"
   ]
  },
  {
   "cell_type": "code",
   "execution_count": 18,
   "metadata": {},
   "outputs": [
    {
     "name": "stdout",
     "output_type": "stream",
     "text": [
      "吾輩は一郎である\n",
      "私は花子です\n"
     ]
    }
   ],
   "source": [
    "# hello関数のsexは Male or Female のみ受け付ける\n",
    "hello(\"一郎\", Male)\n",
    "hello(\"花子\", Female)"
   ]
  },
  {
   "cell_type": "code",
   "execution_count": 19,
   "metadata": {},
   "outputs": [
    {
     "ename": "LoadError",
     "evalue": "MethodError: no method matching hello(::String, ::String)\n\u001b[0mClosest candidates are:\n\u001b[0m  hello(::String, \u001b[91m::Union{Type{Female}, Type{Male}}\u001b[39m) at In[17]:16",
     "output_type": "error",
     "traceback": [
      "MethodError: no method matching hello(::String, ::String)\n\u001b[0mClosest candidates are:\n\u001b[0m  hello(::String, \u001b[91m::Union{Type{Female}, Type{Male}}\u001b[39m) at In[17]:16",
      "",
      "Stacktrace:",
      " [1] top-level scope",
      "   @ In[19]:2",
      " [2] eval",
      "   @ .\\boot.jl:360 [inlined]",
      " [3] include_string(mapexpr::typeof(REPL.softscope), mod::Module, code::String, filename::String)",
      "   @ Base .\\loading.jl:1094"
     ]
    }
   ],
   "source": [
    "# 想定外の値が渡されればコンパイル時点でエラーになる\n",
    "hello(\"John\", \"Male\")"
   ]
  },
  {
   "cell_type": "code",
   "execution_count": 20,
   "metadata": {},
   "outputs": [
    {
     "ename": "LoadError",
     "evalue": "MethodError: no method matching hello(::String, ::Type{Union{Type{Female}, Type{Male}}})\n\u001b[0mClosest candidates are:\n\u001b[0m  hello(::String, \u001b[91m::Union{Type{Female}, Type{Male}}\u001b[39m) at In[17]:16",
     "output_type": "error",
     "traceback": [
      "MethodError: no method matching hello(::String, ::Type{Union{Type{Female}, Type{Male}}})\n\u001b[0mClosest candidates are:\n\u001b[0m  hello(::String, \u001b[91m::Union{Type{Female}, Type{Male}}\u001b[39m) at In[17]:16",
      "",
      "Stacktrace:",
      " [1] top-level scope",
      "   @ In[20]:2",
      " [2] eval",
      "   @ .\\boot.jl:360 [inlined]",
      " [3] include_string(mapexpr::typeof(REPL.softscope), mod::Module, code::String, filename::String)",
      "   @ Base .\\loading.jl:1094"
     ]
    }
   ],
   "source": [
    "# 合併型そのものを渡されてもコンパイルエラーになる\n",
    "hello(\"存在X\", Sex)"
   ]
  },
  {
   "cell_type": "markdown",
   "metadata": {},
   "source": [
    "## 関数のオーバーロード\n",
    "\n",
    "Juliaにおいては、同名の関数であっても、引数にとる値が異なれば別の関数として定義することが出来る\n",
    "\n",
    "これを **関数のオーバーロード** と呼ぶ"
   ]
  },
  {
   "cell_type": "code",
   "execution_count": 2,
   "metadata": {},
   "outputs": [
    {
     "name": "stdout",
     "output_type": "stream",
     "text": [
      "hello_doubled\n",
      "246\n"
     ]
    }
   ],
   "source": [
    "# 文字列に \"_doubled\" を追加する関数\n",
    "function double(str::AbstractString)\n",
    "    str * \"_doubled\"\n",
    "end\n",
    "\n",
    "# 数値を2倍にする関数\n",
    "function double(num::Number)\n",
    "    num * 2\n",
    "end\n",
    "\n",
    "# 同名の関数（double）であっても異なる挙動をとる\n",
    "println(double(\"hello\")) # => \"hello_doubled\"\n",
    "println(double(123)) # => 246"
   ]
  },
  {
   "cell_type": "markdown",
   "metadata": {},
   "source": [
    "### 演算子のオーバーロード\n",
    "[03_julia_function.ipynb](./03_julia_function.ipynb) で記したように、Juliaにおいては、`&&` や `||` のような短絡評価演算子以外は、全て関数として定義されている\n",
    "\n",
    "```julia\n",
    "# 中置記法関数としての `+`\n",
    "println(1 + 2 + 3) # -> 6\n",
    "\n",
    "# `+` は、通常の関数と同じ呼び出し方もできる\n",
    "println(+(1, 2, 3)) # -> 6\n",
    "```\n",
    "\n",
    "したがって、通常の関数と同様にオーバーロードすることができる\n",
    "\n",
    "ただし、オーバーロード時は `モジュール名.:演算子` という形式で関数名を定義する必要がある\n",
    "\n",
    "例えば `+` 演算子は `Base` モジュールで定義されている関数であるため、以下のように定義する"
   ]
  },
  {
   "cell_type": "code",
   "execution_count": 3,
   "metadata": {},
   "outputs": [
    {
     "data": {
      "text/plain": [
       "Point(3, 5)"
      ]
     },
     "execution_count": 3,
     "metadata": {},
     "output_type": "execute_result"
    }
   ],
   "source": [
    "using Base # Baseモジュールは最初から使用可能なため、本当は明示的に using する必要はない\n",
    "\n",
    "# Point 可変複合型\n",
    "mutable struct Point\n",
    "    x::Number\n",
    "    y::Number\n",
    "end\n",
    "\n",
    "# Point型に対して `+` 演算子をオーバーロード\n",
    "function Base.:+(a::Point, b::Point)\n",
    "    Point(a.x + b.x, a.y + b.y)\n",
    "end\n",
    "\n",
    "a = Point(1, 2)\n",
    "b = Point(2, 3)\n",
    "a + b"
   ]
  },
  {
   "cell_type": "code",
   "execution_count": 5,
   "metadata": {},
   "outputs": [
    {
     "data": {
      "text/plain": [
       "Point(2, 1)"
      ]
     },
     "execution_count": 5,
     "metadata": {},
     "output_type": "execute_result"
    }
   ],
   "source": [
    "# 転置演算子 `'` は LinearAlgebraモジュールで adjoint 関数として定義されているため、以下のように記述する\n",
    "using LinearAlgebra\n",
    "\n",
    "function LinearAlgebra.:adjoint(a::Point)\n",
    "    Point(a.y, a.x)\n",
    "end\n",
    "\n",
    "a'"
   ]
  },
  {
   "cell_type": "markdown",
   "metadata": {},
   "source": [
    "### オブジェクト指向風プログラミング\n",
    "Juliaは、基本的に関数型言語であり、オブジェクト指向言語ではない\n",
    "\n",
    "しかし、可変複合型と関数オーバーロードにより、より柔軟なオブジェクト指向風の記述が可能となっている"
   ]
  },
  {
   "cell_type": "code",
   "execution_count": 7,
   "metadata": {},
   "outputs": [
    {
     "name": "stdout",
     "output_type": "stream",
     "text": [
      "I'm Hero\n",
      "Player\n",
      "  name: String \"Hero\"\n",
      "  hp: Int64 90\n",
      "  atk: Int64 15\n",
      "  def: Int64 10\n",
      "Player\n",
      "  name: String \"Monster\"\n",
      "  hp: Int64 45\n",
      "  atk: Int64 20\n",
      "  def: Int64 10\n"
     ]
    }
   ],
   "source": [
    "# Player 可変複合型\n",
    "mutable struct Player\n",
    "    name::AbstractString\n",
    "    hp::Integer  # HP\n",
    "    atk::Integer # 攻撃力\n",
    "    def::Integer # 防御力\n",
    "end\n",
    "\n",
    "# Playerコンストラクタ\n",
    "## 複合体名と同名の関数を定義（関数オーバーロード）することでコンストラクタを代替\n",
    "function Player(name; hp = 100, atk = 10, def = 10)\n",
    "    Player(name, hp, atk, def)\n",
    "end\n",
    "\n",
    "# `*` 演算子オーバーロード\n",
    "## Player同士の攻撃力と防御力の差から各々のHPを減じる\n",
    "function Base.:*(a::Player, b::Player)\n",
    "    (\n",
    "        Player(a.name; hp = a.hp - (b.atk - a.def < 0 ? 0 : b.atk - a.def), atk = a.atk, def = a.def),\n",
    "        Player(b.name; hp = b.hp - (a.atk - b.def < 0 ? 0 : a.atk - b.def), atk = b.atk, def = b.def)\n",
    "    )\n",
    "end\n",
    "\n",
    "# Player同士の戦闘実行関数\n",
    "## Juliaでは慣例的に、副作用のある関数には `!` をつける\n",
    "function battle!(a::Player, b::Player)\n",
    "    (new_a, new_b) = a * b\n",
    "    a.hp = new_a.hp\n",
    "    b.hp = new_b.hp\n",
    "    (a, b)\n",
    "end\n",
    "\n",
    "# `()` call演算子オーバーロード\n",
    "## 自身の name を表示\n",
    "function (self::Player)(append_message = \"\")\n",
    "    println(append_message, self.name)\n",
    "end\n",
    "\n",
    "# ----------\n",
    "\n",
    "player = Player(\"Hero\"; atk = 15)\n",
    "enemy = Player(\"Monster\"; hp = 50, atk = 20)\n",
    "\n",
    "player(\"I'm \") # => \"I'm Hero\"\n",
    "\n",
    "battle!(player, enemy)\n",
    "dump(player)\n",
    "dump(enemy)"
   ]
  },
  {
   "cell_type": "markdown",
   "metadata": {},
   "source": [
    "#### 内部コンストラクタメソッド\n",
    "上記のように、複合体と同名の関数をオーバーライドしてコンストラクタを定義する方法を **外部コンストラクタメソッド** と呼ぶ\n",
    "\n",
    "外部コンストラクタメソッドはオブジェクトの構築をより簡単にする（複合体の全フィールドを毎回指定しなくて良いようにする）が、**不変条件の強制**と、**自己参照的なオブジェクトの構築**には対応できない\n",
    "\n",
    "この二つの問題の解決には **内部コンストラクタメソッド** を使うことになる\n",
    "\n",
    "内部コンストラクタメソッドは基本的に外部コンストラクタメソッドと同様だが、以下の二つの違いがある\n",
    "\n",
    "- 型宣言と同じブロックで定義される\n",
    "- ローカルに定義される特殊な関数 `new` へのアクセスを持つ\n",
    "    - `new` は内部コンストラクタメソッドが属するブロックで定義される型のインスタンスを生成する\n",
    "\n",
    "例として、「一つ目の数が二つ目の数以下である」という制約を持つ実数の組を保持する型は次のように宣言できる\n",
    "\n",
    "```julia\n",
    "struct OrderedPair\n",
    "    x::Real\n",
    "    y::Real\n",
    "    \n",
    "    # 内部コンストラクタメソッド\n",
    "    function OrderedPair(x, y)\n",
    "        x > y ? error(\"out of order\") : new(x,y)\n",
    "    end\n",
    "end\n",
    "```\n",
    "\n",
    "こうして定義される `OrderedPair` 型のオブジェクトは、`x <= y` の制約条件を満たすときにだけ構築できる"
   ]
  },
  {
   "cell_type": "code",
   "execution_count": 12,
   "metadata": {},
   "outputs": [
    {
     "name": "stdout",
     "output_type": "stream",
     "text": [
      "OrderedPair\n",
      "  x: Int64 1\n",
      "  y: Int64 2\n"
     ]
    },
    {
     "ename": "LoadError",
     "evalue": "out of order",
     "output_type": "error",
     "traceback": [
      "out of order",
      "",
      "Stacktrace:",
      " [1] error(s::String)",
      "   @ Base ./error.jl:33",
      " [2] OrderedPair(x::Int64, y::Int64)",
      "   @ Main ./In[12]:7",
      " [3] top-level scope",
      "   @ In[12]:16",
      " [4] eval",
      "   @ ./boot.jl:360 [inlined]",
      " [5] include_string(mapexpr::typeof(REPL.softscope), mod::Module, code::String, filename::String)",
      "   @ Base ./loading.jl:1094"
     ]
    }
   ],
   "source": [
    "struct OrderedPair\n",
    "    x::Real\n",
    "    y::Real\n",
    "    \n",
    "    # 内部コンストラクタメソッド\n",
    "    function OrderedPair(x, y)\n",
    "        x > y ? error(\"out of order\") : new(x,y)\n",
    "    end\n",
    "end\n",
    "\n",
    "# 生成可能な OrderedPair\n",
    "pair1 = OrderedPair(1, 2)\n",
    "dump(pair1)\n",
    "\n",
    "# 生成不可能な OrderedPair\n",
    "pair2 = OrderedPair(2, 1)\n",
    "dump(pair2)"
   ]
  },
  {
   "cell_type": "markdown",
   "metadata": {},
   "source": [
    "ただし、上記の型が `mutable` として宣言されていれば、フィールドの値を直接変更してこの不変条件を破ることができる\n",
    "\n",
    "しかしながら、オブジェクトの内部情報をいじるのは招かれざる操作であり、行うべきではない（他のオブジェクト指向言語では `private` 宣言等でフィールドへのアクセスを禁止し隠蔽することが出来るが、現状の Julia ではサポートされていない）\n",
    "\n",
    "また、外部コンストラクタメソッドは後から追加可能だが、内部コンストラクタメソッドを後から追加する方法はない\n",
    "\n",
    "外部コンストラクタメソッドは他のコンストラクタメソッドを呼ぶことでしかオブジェクトを構築できないため、オブジェクトの構築では必ずどこかで内部コンストラクタメソッドが呼ばれることになる\n",
    "\n",
    "これにより、被宣言型の任意のオブジェクトが型の定義と共に提供される内部コンストラクタメソッドで構築されることが保証され、型の不変条件をある程度強制できるようになる、という仕組みである\n",
    "\n",
    "なお、**内部コンストラクタメソッドが一つでも定義されると、デフォルトのコンストラクタメソッドは提供されなくなる**ため注意"
   ]
  },
  {
   "cell_type": "code",
   "execution_count": null,
   "metadata": {},
   "outputs": [],
   "source": []
  }
 ],
 "metadata": {
  "kernelspec": {
   "display_name": "Julia 1.6.1",
   "language": "julia",
   "name": "julia-1.6"
  },
  "language_info": {
   "file_extension": ".jl",
   "mimetype": "application/julia",
   "name": "julia",
   "version": "1.6.1"
  }
 },
 "nbformat": 4,
 "nbformat_minor": 4
}
