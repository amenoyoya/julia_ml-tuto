{
 "cells": [
  {
   "cell_type": "markdown",
   "metadata": {},
   "source": [
    "# 実践プログラミング: Identiconの生成\n",
    "\n",
    "## Images.jl パッケージ\n",
    "\n",
    "Julia には画像処理パッケージとして Images.jl がある\n",
    "\n",
    "まずは、これをインストールして使ってみる"
   ]
  },
  {
   "cell_type": "code",
   "execution_count": 1,
   "metadata": {
    "scrolled": true,
    "tags": []
   },
   "outputs": [
    {
     "name": "stdout",
     "output_type": "stream",
     "text": [
      "\u001b[32m\u001b[1m    Updating\u001b[22m\u001b[39m registry at `~/.julia/registries/General`\n",
      "\u001b[32m\u001b[1m   Resolving\u001b[22m\u001b[39m package versions...\n",
      "\u001b[32m\u001b[1m  No Changes\u001b[22m\u001b[39m to `~/github/julia_ml-tuto/Project.toml`\n",
      "\u001b[32m\u001b[1m  No Changes\u001b[22m\u001b[39m to `~/github/julia_ml-tuto/Manifest.toml`\n",
      "\u001b[32m\u001b[1m   Resolving\u001b[22m\u001b[39m package versions...\n",
      "\u001b[32m\u001b[1m  No Changes\u001b[22m\u001b[39m to `~/github/julia_ml-tuto/Project.toml`\n",
      "\u001b[32m\u001b[1m  No Changes\u001b[22m\u001b[39m to `~/github/julia_ml-tuto/Manifest.toml`\n"
     ]
    }
   ],
   "source": [
    "using Pkg\n",
    "\n",
    "# パッケージインストール時のメッセージ出力先を stdout (Jupyter Cell) に変更\n",
    "Pkg.DEFAULT_IO[] = stdout\n",
    "\n",
    "# Images.jl, ImageMagick.jl パッケージインストール\n",
    "Pkg.add(\"Images\")\n",
    "Pkg.add(\"ImageMagick\")"
   ]
  },
  {
   "cell_type": "code",
   "execution_count": 2,
   "metadata": {},
   "outputs": [
    {
     "data": {
      "image/svg+xml": [
       "<?xml version=\"1.0\" encoding=\"UTF-8\"?>\n",
       "<!DOCTYPE svg PUBLIC \"-//W3C//DTD SVG 1.1//EN\"\n",
       " \"http://www.w3.org/Graphics/SVG/1.1/DTD/svg11.dtd\">\n",
       "<svg xmlns=\"http://www.w3.org/2000/svg\" version=\"1.1\"\n",
       "     width=\"25mm\" height=\"25mm\" viewBox=\"0 0 1 1\">\n",
       "    <rect width=\"1\" height=\"1\" fill=\"#000000\" stroke=\"none\"/>\n",
       "</svg>\n"
      ],
      "text/plain": [
       "Gray{Float64}(0.0)"
      ]
     },
     "execution_count": 2,
     "metadata": {},
     "output_type": "execute_result"
    }
   ],
   "source": [
    "using Images\n",
    "\n",
    "Gray(0.0) # black"
   ]
  },
  {
   "cell_type": "code",
   "execution_count": 3,
   "metadata": {},
   "outputs": [
    {
     "data": {
      "image/svg+xml": [
       "<?xml version=\"1.0\" encoding=\"UTF-8\"?>\n",
       "<!DOCTYPE svg PUBLIC \"-//W3C//DTD SVG 1.1//EN\"\n",
       " \"http://www.w3.org/Graphics/SVG/1.1/DTD/svg11.dtd\">\n",
       "<svg xmlns=\"http://www.w3.org/2000/svg\" version=\"1.1\"\n",
       "     width=\"25mm\" height=\"25mm\" viewBox=\"0 0 1 1\">\n",
       "    <rect width=\"1\" height=\"1\" fill=\"#0000FF\" stroke=\"none\"/>\n",
       "</svg>\n"
      ],
      "text/plain": [
       "RGB{Float64}(0.0,0.0,1.0)"
      ]
     },
     "execution_count": 3,
     "metadata": {},
     "output_type": "execute_result"
    }
   ],
   "source": [
    "RGB(0.0, 0.0, 1.0) # blue"
   ]
  },
  {
   "cell_type": "code",
   "execution_count": 4,
   "metadata": {
    "scrolled": true,
    "tags": []
   },
   "outputs": [
    {
     "data": {
      "image/png": "[encoded data removed]",
      "text/plain": [
       "2×2 Array{RGB{Float64},2} with eltype RGB{Float64}:\n",
       " RGB{Float64}(0.870531,0.939281,0.389833)  …  RGB{Float64}(0.205463,0.983953,0.620312)\n",
       " RGB{Float64}(0.837998,0.779781,0.666609)     RGB{Float64}(0.676656,0.214119,0.0354856)"
      ]
     },
     "execution_count": 4,
     "metadata": {},
     "output_type": "execute_result"
    }
   ],
   "source": [
    "# Images, ImageMagickパッケージを使っている場合、Vector{RGB{Float64}}はRGBピクセルを表示する\n",
    "img_rgb = rand(RGB, 2, 2)"
   ]
  },
  {
   "cell_type": "code",
   "execution_count": 5,
   "metadata": {},
   "outputs": [
    {
     "name": "stdout",
     "output_type": "stream",
     "text": [
      "RGB{Float64}[RGB{Float64}(0.8705312249552608,0.9392807117526314,0.3898327653899909) RGB{Float64}(0.20546251032559049,0.983952742325525,0.6203124861433165); RGB{Float64}(0.8379977141117236,0.7797811557579499,0.6666087403658305) RGB{Float64}(0.6766564027360429,0.21411864315113238,0.035485618891520465)]\n"
     ]
    }
   ],
   "source": [
    "println(img_rgb)"
   ]
  },
  {
   "cell_type": "markdown",
   "metadata": {},
   "source": [
    "## Identiconの生成\n",
    "\n",
    "参考: [GitHubのIdenticonの生成と取得](https://qiita.com/pira/items/dd4057ef499154968f69#%E3%83%97%E3%83%AD%E3%83%95%E3%82%A3%E3%83%BC%E3%83%AB%E7%94%BB%E5%83%8F%E3%81%AE%E6%88%BB%E3%81%97%E6%96%B9)\n",
    "\n",
    "### Identiconとは\n",
    "GitHubアカウントを作成したときにプロフィール画像になってるドット絵アイコン\n",
    "\n",
    "自分のIdenticonは `https://github.com/identicons/<username>.png` から確認できる\n",
    "\n",
    "![amenoyoya.png](https://github.com/identicons/amenoyoya.png)\n",
    "\n",
    "### Identiconの生成方法\n",
    "GitHubのBlogにIdenticonの生成に関する記事があるようである\n",
    "\n",
    "[Identicons!](https://github.com/blog/1586-identicons) - The GitHub Blog\n",
    "\n",
    "記事によると、Identiconは5x5のピクセルで、ユーザーIDのハッシュ値を元に以下のように生成されているそうである\n",
    "\n",
    "- ハッシュ値が偶数か奇数かで各ピクセルのon/offを決定してパターンを生成\n",
    "- Identiconの色も同様にハッシュ値に依存して決定している\n",
    "    - これによって多数のユニークなIdenticonsを保証している\n",
    "\n",
    "### Identiconを生成\n",
    "\n",
    "#### ハッシュ値の生成\n",
    "ユーザーIDをMD5に変換する\n",
    "\n",
    "なお、GitHubのユーザ名からユーザIDを取得するには、[Find GitHub User ID](https://caius.github.io/github_id/) を使うと良い\n",
    "\n",
    "ユーザーIDをMD5に変換すると、128bit（16進数で32桁）のハッシュ値が得られる\n",
    "\n",
    "ex) 46098475 -> da9701f509fd65331303f9382088b168\n",
    "\n",
    "#### パターンの決定\n",
    "パターンは以下のように、5x5のピクセルから成る\n",
    "\n",
    "![identicon00.png](./img/identicon00.png)\n",
    "\n",
    "ハッシュ値の前から15文字を使って以下のようにパターンを決定する\n",
    "\n",
    "- ハッシュ値が偶数ならピクセルをON，奇数ならピクセルをOFFにする\n",
    "- 順番は真ん中の列の上から下、その右の列の上から下、最後に右端の列の上から下の順とする\n",
    "\n",
    "ex) da9701f509fd65331303f9382088b168 -> da9701f509fd653\n",
    "\n",
    "![identicon01.png](./img/identicon01.png)\n",
    "\n",
    "以下のように、真ん中の列を中心に線対称に折り返す\n",
    "\n",
    "![identicon02.png](./img/identicon02.png)\n",
    "\n",
    "これでパターンが完成する\n",
    "\n",
    "#### 色の決定\n",
    "ハッシュ値の最後の7文字を使って色を決定する\n",
    "\n",
    "色はHSL色空間で表現されており、色相3文字、彩度2文字、輝度2文字で決定する\n",
    "\n",
    "ex) da9701f509fd65331303f9382088b168 -> 088b168 -> 色相: 088, 彩度: b1, 輝度: 68\n",
    "\n",
    "各16進数を10進数に変換して各パラメータを決定する\n",
    "\n",
    "色相は0から360の範囲であるため、0(0x000)〜4095(0xfff)を0〜360の範囲に変換する\n",
    "\n",
    "同様に、彩度と輝度は、0(0x00)〜255(0xff)を0から100の範囲に変換する\n",
    "\n",
    "GitHubでは0〜255を0〜20の範囲に変換して、それぞれ65, 75から減算した値を使用している\n",
    "\n",
    "$$ \\begin{array}{ll}\n",
    "    色相: (cbc)_{10} \\times \\frac{360}{4095} &= 3260 \\times \\frac{360}{4095} \\\\\n",
    "                                             &= 287 \\\\\n",
    "    彩度: 65−(db)_{10} \\times \\frac{20}{255} &= 65−219 \\times \\frac{20}{255} \\\\\n",
    "                                             &= 48 \\\\\n",
    "    輝度: 75−(ac)_{10} \\times \\frac{20}{255} &= 75−172 \\times \\frac{20}{255}\n",
    "\\end{array} $$\n",
    "\n",
    "最後にHSL色空間からRGBへ変換し、Identiconの完成となる"
   ]
  },
  {
   "cell_type": "code",
   "execution_count": 6,
   "metadata": {},
   "outputs": [
    {
     "name": "stdout",
     "output_type": "stream",
     "text": [
      "\u001b[32m\u001b[1m   Resolving\u001b[22m\u001b[39m package versions...\n",
      "\u001b[32m\u001b[1m  No Changes\u001b[22m\u001b[39m to `~/github/julia_ml-tuto/Project.toml`\n",
      "\u001b[32m\u001b[1m  No Changes\u001b[22m\u001b[39m to `~/github/julia_ml-tuto/Manifest.toml`\n"
     ]
    }
   ],
   "source": [
    "# ハッシュ、暗号化ラッパーパッケージ Nettle.jl インストール\n",
    "Pkg.add(\"Nettle\");"
   ]
  },
  {
   "cell_type": "code",
   "execution_count": 7,
   "metadata": {},
   "outputs": [
    {
     "data": {
      "text/plain": [
       "\"da9701f509fd65331303f9382088b168\""
      ]
     },
     "execution_count": 7,
     "metadata": {},
     "output_type": "execute_result"
    }
   ],
   "source": [
    "using Nettle\n",
    "\n",
    "# GitHubユーザID\n",
    "myid = \"46098475\"\n",
    "\n",
    "# md5ハッシュ値算出\n",
    "md5 = hexdigest(\"md5\", myid)"
   ]
  },
  {
   "cell_type": "code",
   "execution_count": 8,
   "metadata": {},
   "outputs": [
    {
     "data": {
      "text/plain": [
       "15-element Vector{Int64}:\n",
       " 13\n",
       " 10\n",
       "  9\n",
       "  7\n",
       "  0\n",
       "  1\n",
       " 15\n",
       "  5\n",
       "  0\n",
       "  9\n",
       " 15\n",
       " 13\n",
       "  6\n",
       "  5\n",
       "  3"
      ]
     },
     "execution_count": 8,
     "metadata": {},
     "output_type": "execute_result"
    }
   ],
   "source": [
    "# ハッシュ値の前から15文字を16進数→10進数に変換\n",
    "pat = [parse(Int, hash; base=16) for hash in md5[1:15]]"
   ]
  },
  {
   "cell_type": "code",
   "execution_count": 9,
   "metadata": {},
   "outputs": [
    {
     "data": {
      "text/plain": [
       "5×3 Matrix{Int64}:\n",
       " 13   1  15\n",
       " 10  15  13\n",
       "  9   5   6\n",
       "  7   0   5\n",
       "  0   9   3"
      ]
     },
     "execution_count": 9,
     "metadata": {},
     "output_type": "execute_result"
    }
   ],
   "source": [
    "# 5 x 3 Array{Int,2} に変形\n",
    "pat = reshape(pat, 5, 3)"
   ]
  },
  {
   "cell_type": "code",
   "execution_count": 10,
   "metadata": {},
   "outputs": [
    {
     "data": {
      "text/plain": [
       "5×3 Matrix{Int64}:\n",
       " 1  1  1\n",
       " 0  1  1\n",
       " 1  1  0\n",
       " 1  0  1\n",
       " 0  1  1"
      ]
     },
     "execution_count": 10,
     "metadata": {},
     "output_type": "execute_result"
    }
   ],
   "source": [
    "# ハッシュ値を偶数・奇数に変換: 0をONとする\n",
    "pat = pat .% 2"
   ]
  },
  {
   "cell_type": "code",
   "execution_count": 11,
   "metadata": {},
   "outputs": [
    {
     "data": {
      "text/plain": [
       "5×5 Matrix{Int64}:\n",
       " 1  1  1  1  1\n",
       " 1  1  0  1  1\n",
       " 0  1  1  1  0\n",
       " 1  0  1  0  1\n",
       " 1  1  0  1  1"
      ]
     },
     "execution_count": 11,
     "metadata": {},
     "output_type": "execute_result"
    }
   ],
   "source": [
    "# 行列を線対称にする\n",
    "## 水平結合: pat[3..2列目]のパターン + patのパターン\n",
    "pat = hcat(pat[:, 3:-1:2], pat)"
   ]
  },
  {
   "cell_type": "code",
   "execution_count": 12,
   "metadata": {},
   "outputs": [
    {
     "data": {
      "text/plain": [
       "136"
      ]
     },
     "execution_count": 12,
     "metadata": {},
     "output_type": "execute_result"
    }
   ],
   "source": [
    "\"\"\"\n",
    "色相の算出\n",
    "\"\"\"\n",
    "# ハッシュ値の後ろから7文字目の部分から3文字分を取得し、16進数→10進数に変換\n",
    "hue = md5[end-6:end-4]\n",
    "hue = parse(Int, hue; base=16)"
   ]
  },
  {
   "cell_type": "code",
   "execution_count": 13,
   "metadata": {},
   "outputs": [
    {
     "data": {
      "text/plain": [
       "11.956043956043956"
      ]
     },
     "execution_count": 13,
     "metadata": {},
     "output_type": "execute_result"
    }
   ],
   "source": [
    "# 色相 = (md[-7..-5])_10 * 360 / 4095\n",
    "hue = hue * 360 / 4095"
   ]
  },
  {
   "cell_type": "code",
   "execution_count": 14,
   "metadata": {},
   "outputs": [
    {
     "data": {
      "text/plain": [
       "51.11764705882353"
      ]
     },
     "execution_count": 14,
     "metadata": {},
     "output_type": "execute_result"
    }
   ],
   "source": [
    "# 彩度 = 65 - (md[-4..-3])_10 * 20 / 255\n",
    "saturation = 65 - parse(Int, md5[end-3:end-2]; base=16) * 20 / 255"
   ]
  },
  {
   "cell_type": "code",
   "execution_count": 15,
   "metadata": {},
   "outputs": [
    {
     "data": {
      "text/plain": [
       "66.84313725490196"
      ]
     },
     "execution_count": 15,
     "metadata": {},
     "output_type": "execute_result"
    }
   ],
   "source": [
    "# 輝度 = 75 - (md[-2..-1])_10 * 20 / 255\n",
    "luminance = 75 - parse(Int, md5[end-1:end]; base=16) * 20 / 255"
   ]
  },
  {
   "cell_type": "code",
   "execution_count": 16,
   "metadata": {},
   "outputs": [
    {
     "data": {
      "text/plain": [
       "hsv2rgb (generic function with 1 method)"
      ]
     },
     "execution_count": 16,
     "metadata": {},
     "output_type": "execute_result"
    }
   ],
   "source": [
    "# HSV→RGB変換関数\n",
    "## 色相, 彩度, 輝度 -> (R, G, B)::Tuple{Int,Int,Int}\n",
    "hsv2rgb(hue::Number, sat::Number, lum::Number)::Tuple{Int,Int,Int} = begin\n",
    "    max, min = if lum < 50\n",
    "        # 輝度が50未満の場合\n",
    "        2.55 * (lum + lum * (sat/100)),\n",
    "        2.55 * (lum - lum * (sat/100))\n",
    "    else\n",
    "        # 輝度が50以上の場合\n",
    "        2.55 * (lum + (100-lum) * (sat/100)),\n",
    "        2.55 * (lum - (100-lum) * (sat/100))\n",
    "    end\n",
    "    \n",
    "    # 色相ごとにRGB計算を分岐\n",
    "    r, g, b = if hue < 60\n",
    "        max, (hue/60) * (max-min) + min, min\n",
    "    elseif 60 <= hue < 120\n",
    "        ((120-hue)/60) * (max-min) + min, max, min\n",
    "    elseif 120 <= hue < 179\n",
    "        min, max, ((hue-120)/60) * (max-min) + min\n",
    "    elseif 180 <= hue < 240\n",
    "        min, ((240-hue)/60) * (max-min) + min, max\n",
    "    elseif 240 <= hue < 300\n",
    "        ((hue-240)/60) * (max-min) + min, min, max\n",
    "    else\n",
    "        max, min, ((360-hue)/60) * (max-min) + min\n",
    "    end\n",
    "    (Int(floor(r)), Int(floor(g)), Int(floor(b)))\n",
    "end"
   ]
  },
  {
   "cell_type": "code",
   "execution_count": 17,
   "metadata": {},
   "outputs": [
    {
     "data": {
      "text/plain": [
       "(213, 144, 127)"
      ]
     },
     "execution_count": 17,
     "metadata": {},
     "output_type": "execute_result"
    }
   ],
   "source": [
    "color = hsv2rgb(hue, saturation, luminance)"
   ]
  },
  {
   "cell_type": "code",
   "execution_count": 18,
   "metadata": {
    "scrolled": true,
    "tags": []
   },
   "outputs": [
    {
     "data": {
      "image/png": "[encoded data removed]",
      "text/plain": [
       "5×5 Array{RGB,2} with eltype RGB:\n",
       " RGB{Float64}(1.0,1.0,1.0)                 …  RGB{Float64}(1.0,1.0,1.0)\n",
       " RGB{Float64}(1.0,1.0,1.0)                    RGB{Float64}(1.0,1.0,1.0)\n",
       " RGB{Float64}(0.835294,0.564706,0.498039)     RGB{Float64}(0.835294,0.564706,0.498039)\n",
       " RGB{Float64}(1.0,1.0,1.0)                    RGB{Float64}(1.0,1.0,1.0)\n",
       " RGB{Float64}(1.0,1.0,1.0)                    RGB{Float64}(1.0,1.0,1.0)"
      ]
     },
     "execution_count": 18,
     "metadata": {},
     "output_type": "execute_result"
    }
   ],
   "source": [
    "# 作成したパターンのうち、0の部分を着色する\n",
    "image = zeros(RGB, size(pat)[1], size(pat)[2])\n",
    "\n",
    "for y in 1:size(pat)[1], x in 1:size(pat)[2]\n",
    "    image[y, x] = pat[y, x] == 0 ? RGB(color[1]/255, color[2]/255, color[3]/255) : RGB(1.0, 1.0, 1.0)\n",
    "end\n",
    "\n",
    "image"
   ]
  },
  {
   "cell_type": "code",
   "execution_count": 19,
   "metadata": {},
   "outputs": [
    {
     "data": {
      "text/plain": [
       "make_identicon (generic function with 1 method)"
      ]
     },
     "execution_count": 19,
     "metadata": {},
     "output_type": "execute_result"
    }
   ],
   "source": [
    "\"\"\"\n",
    "完成形\n",
    "\"\"\"\n",
    "\n",
    "using Nettle\n",
    "using Images\n",
    "\n",
    "# idからIdenticon生成\n",
    "make_identicon(id::String) = begin\n",
    "    md5 = hexdigest(\"md5\", id)\n",
    "    pat = [parse(Int, hash; base=16) for hash in md5[1:15]]\n",
    "    pat = reshape(pat .% 2, 5, 3)\n",
    "    pat = hcat(pat[:, 3:-1:2], pat)\n",
    "    hue = parse(Int, md5[end-6:end-4]; base=16) * 360 / 4095\n",
    "    sat = 65 - parse(Int, md5[end-3:end-2]; base=16) * 20 / 255\n",
    "    lum = 75 - parse(Int, md5[end-1:end]; base=16) * 20 / 255\n",
    "    \n",
    "    max, min = if lum < 50\n",
    "        2.55 * (lum + lum * (sat/100)),\n",
    "        2.55 * (lum - lum * (sat/100))\n",
    "    else\n",
    "        2.55 * (lum + (100-lum) * (sat/100)),\n",
    "        2.55 * (lum - (100-lum) * (sat/100))\n",
    "    end\n",
    "    \n",
    "    r, g, b = if hue < 60\n",
    "        max, (hue/60) * (max-min) + min, min\n",
    "    elseif 60 <= hue < 120\n",
    "        ((120-hue)/60) * (max-min) + min, max, min\n",
    "    elseif 120 <= hue < 179\n",
    "        min, max, ((hue-120)/60) * (max-min) + min\n",
    "    elseif 180 <= hue < 240\n",
    "        min, ((240-hue)/60) * (max-min) + min, max\n",
    "    elseif 240 <= hue < 300\n",
    "        ((hue-240)/60) * (max-min) + min, min, max\n",
    "    else\n",
    "        max, min, ((360-hue)/60) * (max-min) + min\n",
    "    end\n",
    "    \n",
    "    image = zeros(RGB, size(pat)[1], size(pat)[2])\n",
    "    for y in 1:size(pat)[1], x in 1:size(pat)[2]\n",
    "        image[y, x] = pat[y, x] == 0 ? RGB(r/255, g/255, b/255) : RGB(1.0, 1.0, 1.0)\n",
    "    end\n",
    "    image\n",
    "end"
   ]
  },
  {
   "cell_type": "code",
   "execution_count": 20,
   "metadata": {
    "scrolled": true,
    "tags": []
   },
   "outputs": [
    {
     "data": {
      "image/png": "[encoded data removed]",
      "text/plain": [
       "5×5 Array{RGB,2} with eltype RGB:\n",
       " RGB{Float64}(1.0,1.0,1.0)                 …  RGB{Float64}(1.0,1.0,1.0)\n",
       " RGB{Float64}(1.0,1.0,1.0)                    RGB{Float64}(1.0,1.0,1.0)\n",
       " RGB{Float64}(0.837921,0.566489,0.498941)     RGB{Float64}(0.837921,0.566489,0.498941)\n",
       " RGB{Float64}(1.0,1.0,1.0)                    RGB{Float64}(1.0,1.0,1.0)\n",
       " RGB{Float64}(1.0,1.0,1.0)                    RGB{Float64}(1.0,1.0,1.0)"
      ]
     },
     "execution_count": 20,
     "metadata": {},
     "output_type": "execute_result"
    }
   ],
   "source": [
    "make_identicon(\"46098475\")"
   ]
  },
  {
   "cell_type": "code",
   "execution_count": 21,
   "metadata": {
    "scrolled": true,
    "tags": []
   },
   "outputs": [
    {
     "data": {
      "image/png": "[encoded data removed]",
      "text/plain": [
       "5×5 Array{RGB,2} with eltype RGB:\n",
       " RGB{Float64}(1.0,1.0,1.0)                 …  RGB{Float64}(1.0,1.0,1.0)\n",
       " RGB{Float64}(1.0,1.0,1.0)                    RGB{Float64}(1.0,1.0,1.0)\n",
       " RGB{Float64}(1.0,1.0,1.0)                    RGB{Float64}(1.0,1.0,1.0)\n",
       " RGB{Float64}(1.0,1.0,1.0)                    RGB{Float64}(1.0,1.0,1.0)\n",
       " RGB{Float64}(0.716912,0.431024,0.799172)     RGB{Float64}(0.716912,0.431024,0.799172)"
      ]
     },
     "execution_count": 21,
     "metadata": {},
     "output_type": "execute_result"
    }
   ],
   "source": [
    "# 参考サイトのユーザID\n",
    "## 同一の画像が生成されるか確認\n",
    "make_identicon(\"19229051\")"
   ]
  },
  {
   "cell_type": "code",
   "execution_count": 22,
   "metadata": {
    "scrolled": true,
    "tags": []
   },
   "outputs": [
    {
     "data": {
      "image/png": "[encoded data removed]",
      "text/plain": [
       "5×5 Array{RGB,2} with eltype RGB:\n",
       " RGB{Float64}(0.803072,0.58958,0.398889)  …  RGB{Float64}(0.803072,0.58958,0.398889)\n",
       " RGB{Float64}(1.0,1.0,1.0)                   RGB{Float64}(1.0,1.0,1.0)\n",
       " RGB{Float64}(1.0,1.0,1.0)                   RGB{Float64}(1.0,1.0,1.0)\n",
       " RGB{Float64}(0.803072,0.58958,0.398889)     RGB{Float64}(0.803072,0.58958,0.398889)\n",
       " RGB{Float64}(0.803072,0.58958,0.398889)     RGB{Float64}(0.803072,0.58958,0.398889)"
      ]
     },
     "execution_count": 22,
     "metadata": {},
     "output_type": "execute_result"
    }
   ],
   "source": [
    "make_identicon(\"amenoyoya\")"
   ]
  },
  {
   "cell_type": "code",
   "execution_count": 23,
   "metadata": {
    "scrolled": true,
    "tags": []
   },
   "outputs": [
    {
     "data": {
      "image/png": "[encoded data removed]",
      "text/plain": [
       "5×5 Array{RGB{Float64},2} with eltype RGB{Float64}:\n",
       " RGB{Float64}(1.0,1.0,0.398889)            …  RGB{Float64}(1.0,1.0,0.398889)\n",
       " RGB{Float64}(1.0,1.0,1.0)                    RGB{Float64}(1.0,1.0,1.0)\n",
       " RGB{Float64}(0.837921,0.566489,0.498941)     RGB{Float64}(0.837921,0.566489,0.498941)\n",
       " RGB{Float64}(1.0,1.0,0.398889)               RGB{Float64}(1.0,1.0,0.398889)\n",
       " RGB{Float64}(1.0,1.0,0.398889)               RGB{Float64}(1.0,1.0,0.398889)"
      ]
     },
     "execution_count": 23,
     "metadata": {},
     "output_type": "execute_result"
    }
   ],
   "source": [
    "idimg = make_identicon(\"46098475\")\n",
    "nameimg = make_identicon(\"amenoyoya\")\n",
    "\n",
    "overlay(a::Float64, b::Float64)::Float64 =\n",
    "    a < 0.5 ? a * b : 2 * (a + b - a * b) - 1.0\n",
    "\n",
    "overlay(a::RGB{Float64}, b::RGB{Float64})::RGB{Float64} = RGB(\n",
    "    overlay(a.r, b.r), overlay(a.g, b.g), overlay(a.b, b.b)\n",
    ")\n",
    "\n",
    "blend(a::RGB{Float64}, b::RGB{Float64})::RGB{Float64} = RGB(a.r * b.r, a.g * b.g, a.b * b.b)\n",
    "\n",
    "overlay.(nameimg, idimg) |> a -> blend.(a, idimg)"
   ]
  },
  {
   "cell_type": "markdown",
   "metadata": {},
   "source": [
    "# ドット絵変換処理\n",
    "\n",
    "## ドット化\n",
    "\n",
    "基本的に縮小すれば（低解像度化すれば）ドット絵っぽくはなる\n",
    "\n",
    "## 減色\n",
    "\n",
    "### k-means法\n",
    "k-means法は、以下のような処理を、代表色が変化しなくなるまで繰り返す減色方法である\n",
    "\n",
    "1. ランダムにN個の代表色を選択する\n",
    "2. 画像のそれぞれのピクセルについて、一番近い代表色を選んで、全ピクセルをN個のグループに分割する\n",
    "    - 色の近さは $(R_1 - R_2)^2 + (G_1 - G_2)^2 + (B_1 - B_2)^2$ という、3次元ベクトル空間上の距離で計算することができる\n",
    "3. それぞれのグループの平均色（R, G, Bそれぞれの平均値を取った色）を新たな代表色とする\n",
    "4. 新しい代表色を用いて、再度 2. の処理を行う"
   ]
  },
  {
   "cell_type": "code",
   "execution_count": 24,
   "metadata": {},
   "outputs": [
    {
     "data": {
      "image/png": "[encoded data removed]",
      "text/plain": [
       "500×500 Array{RGBA{N0f8},2} with eltype RGBA{N0f8}:\n",
       " RGBA{N0f8}(0.0,0.0,0.0,0.0)  …  RGBA{N0f8}(0.0,0.0,0.0,0.0)\n",
       " RGBA{N0f8}(0.0,0.0,0.0,0.0)     RGBA{N0f8}(0.0,0.0,0.0,0.0)\n",
       " RGBA{N0f8}(0.0,0.0,0.0,0.0)     RGBA{N0f8}(0.0,0.0,0.0,0.0)\n",
       " RGBA{N0f8}(0.0,0.0,0.0,0.0)     RGBA{N0f8}(0.0,0.0,0.0,0.0)\n",
       " RGBA{N0f8}(0.0,0.0,0.0,0.0)     RGBA{N0f8}(0.0,0.0,0.0,0.0)\n",
       " RGBA{N0f8}(0.0,0.0,0.0,0.0)  …  RGBA{N0f8}(0.0,0.0,0.0,0.0)\n",
       " RGBA{N0f8}(0.0,0.0,0.0,0.0)     RGBA{N0f8}(0.0,0.0,0.0,0.0)\n",
       " RGBA{N0f8}(0.0,0.0,0.0,0.0)     RGBA{N0f8}(0.0,0.0,0.0,0.0)\n",
       " RGBA{N0f8}(0.0,0.0,0.0,0.0)     RGBA{N0f8}(0.0,0.0,0.0,0.0)\n",
       " RGBA{N0f8}(0.0,0.0,0.0,0.0)     RGBA{N0f8}(0.0,0.0,0.0,0.0)\n",
       " RGBA{N0f8}(0.0,0.0,0.0,0.0)  …  RGBA{N0f8}(0.0,0.0,0.0,0.0)\n",
       " RGBA{N0f8}(0.0,0.0,0.0,0.0)     RGBA{N0f8}(0.0,0.0,0.0,0.0)\n",
       " RGBA{N0f8}(0.0,0.0,0.0,0.0)     RGBA{N0f8}(0.0,0.0,0.0,0.0)\n",
       " ⋮                            ⋱  \n",
       " RGBA{N0f8}(0.0,0.0,0.0,0.0)     RGBA{N0f8}(0.0,0.0,0.0,0.0)\n",
       " RGBA{N0f8}(0.0,0.0,0.0,0.0)     RGBA{N0f8}(0.0,0.0,0.0,0.0)\n",
       " RGBA{N0f8}(0.0,0.0,0.0,0.0)  …  RGBA{N0f8}(0.0,0.0,0.0,0.0)\n",
       " RGBA{N0f8}(0.0,0.0,0.0,0.0)     RGBA{N0f8}(0.0,0.0,0.0,0.0)\n",
       " RGBA{N0f8}(0.0,0.0,0.0,0.0)     RGBA{N0f8}(0.0,0.0,0.0,0.0)\n",
       " RGBA{N0f8}(0.0,0.0,0.0,0.0)     RGBA{N0f8}(0.0,0.0,0.0,0.0)\n",
       " RGBA{N0f8}(0.0,0.0,0.0,0.0)     RGBA{N0f8}(0.0,0.0,0.0,0.0)\n",
       " RGBA{N0f8}(0.0,0.0,0.0,0.0)  …  RGBA{N0f8}(0.0,0.0,0.0,0.0)\n",
       " RGBA{N0f8}(0.0,0.0,0.0,0.0)     RGBA{N0f8}(0.0,0.0,0.0,0.0)\n",
       " RGBA{N0f8}(0.0,0.0,0.0,0.0)     RGBA{N0f8}(0.0,0.0,0.0,0.0)\n",
       " RGBA{N0f8}(0.0,0.0,0.0,0.0)     RGBA{N0f8}(0.0,0.0,0.0,0.0)\n",
       " RGBA{N0f8}(0.0,0.0,0.0,0.0)     RGBA{N0f8}(0.0,0.0,0.0,0.0)"
      ]
     },
     "metadata": {},
     "output_type": "display_data"
    },
    {
     "data": {
      "text/plain": [
       "(500, 500)"
      ]
     },
     "execution_count": 24,
     "metadata": {},
     "output_type": "execute_result"
    }
   ],
   "source": [
    "using Images\n",
    "\n",
    "img = load(\"./img/mono_20191110_face.png\") # => Array{RGBA{N08f}}\n",
    "display(img) # Images.jl パッケージを使っている場合 Array{RGBA{}} 形式の配列は画像として表示される\n",
    "w, h = size(img)"
   ]
  },
  {
   "cell_type": "code",
   "execution_count": 25,
   "metadata": {
    "scrolled": true,
    "tags": []
   },
   "outputs": [
    {
     "data": {
      "image/png": "[encoded data removed]",
      "text/plain": [
       "48×48 Array{RGBA{N0f8},2} with eltype RGBA{N0f8}:\n",
       " RGBA{N0f8}(0.0,0.0,0.0,0.0)  …  RGBA{N0f8}(0.0,0.0,0.0,0.0)\n",
       " RGBA{N0f8}(0.0,0.0,0.0,0.0)     RGBA{N0f8}(0.0,0.0,0.0,0.0)\n",
       " RGBA{N0f8}(0.0,0.0,0.0,0.0)     RGBA{N0f8}(0.0,0.0,0.0,0.0)\n",
       " RGBA{N0f8}(0.0,0.0,0.0,0.0)     RGBA{N0f8}(0.0,0.0,0.0,0.0)\n",
       " RGBA{N0f8}(0.0,0.0,0.0,0.0)     RGBA{N0f8}(0.0,0.0,0.0,0.0)\n",
       " RGBA{N0f8}(0.0,0.0,0.0,0.0)  …  RGBA{N0f8}(0.0,0.0,0.0,0.0)\n",
       " RGBA{N0f8}(0.0,0.0,0.0,0.0)     RGBA{N0f8}(0.0,0.0,0.0,0.0)\n",
       " RGBA{N0f8}(0.0,0.0,0.0,0.0)     RGBA{N0f8}(0.0,0.0,0.0,0.0)\n",
       " RGBA{N0f8}(0.0,0.0,0.0,0.0)     RGBA{N0f8}(0.0,0.0,0.0,0.0)\n",
       " RGBA{N0f8}(0.0,0.0,0.0,0.0)     RGBA{N0f8}(0.0,0.0,0.0,0.0)\n",
       " RGBA{N0f8}(0.0,0.0,0.0,0.0)  …  RGBA{N0f8}(0.0,0.0,0.0,0.0)\n",
       " RGBA{N0f8}(0.0,0.0,0.0,0.0)     RGBA{N0f8}(0.0,0.0,0.0,0.0)\n",
       " RGBA{N0f8}(0.0,0.0,0.0,0.0)     RGBA{N0f8}(0.0,0.0,0.0,0.0)\n",
       " ⋮                            ⋱  \n",
       " RGBA{N0f8}(0.0,0.0,0.0,0.0)     RGBA{N0f8}(0.0,0.0,0.0,0.0)\n",
       " RGBA{N0f8}(0.0,0.0,0.0,0.0)     RGBA{N0f8}(0.0,0.0,0.0,0.0)\n",
       " RGBA{N0f8}(0.0,0.0,0.0,0.0)     RGBA{N0f8}(0.0,0.0,0.0,0.0)\n",
       " RGBA{N0f8}(0.0,0.0,0.0,0.0)     RGBA{N0f8}(0.0,0.0,0.0,0.0)\n",
       " RGBA{N0f8}(0.0,0.0,0.0,0.0)  …  RGBA{N0f8}(0.0,0.0,0.0,0.0)\n",
       " RGBA{N0f8}(0.0,0.0,0.0,0.0)     RGBA{N0f8}(0.0,0.0,0.0,0.0)\n",
       " RGBA{N0f8}(0.0,0.0,0.0,0.0)     RGBA{N0f8}(0.0,0.0,0.0,0.0)\n",
       " RGBA{N0f8}(0.0,0.0,0.0,0.0)     RGBA{N0f8}(0.0,0.0,0.0,0.0)\n",
       " RGBA{N0f8}(0.0,0.0,0.0,0.0)     RGBA{N0f8}(0.0,0.0,0.0,0.0)\n",
       " RGBA{N0f8}(0.0,0.0,0.0,0.0)  …  RGBA{N0f8}(0.0,0.0,0.0,0.0)\n",
       " RGBA{N0f8}(0.0,0.0,0.0,0.0)     RGBA{N0f8}(0.0,0.0,0.0,0.0)\n",
       " RGBA{N0f8}(0.0,0.0,0.0,0.0)     RGBA{N0f8}(0.0,0.0,0.0,0.0)"
      ]
     },
     "metadata": {},
     "output_type": "display_data"
    },
    {
     "name": "stdout",
     "output_type": "stream",
     "text": [
      "Array{RGBA{N0f8}}((48, 48))\n",
      "  1: RGBA{N0f8}\n",
      "    r: N0f8\n",
      "      i: UInt8 0x00\n",
      "    g: N0f8\n",
      "      i: UInt8 0x00\n",
      "    b: N0f8\n",
      "      i: UInt8 0x00\n",
      "    alpha: N0f8\n",
      "      i: UInt8 0x00\n",
      "  2: RGBA{N0f8}\n",
      "    r: N0f8\n",
      "      i: UInt8 0x00\n",
      "    g: N0f8\n",
      "      i: UInt8 0x00\n",
      "    b: N0f8\n",
      "      i: UInt8 0x00\n",
      "    alpha: N0f8\n",
      "      i: UInt8 0x00\n",
      "  3: RGBA{N0f8}\n",
      "    r: N0f8\n",
      "      i: UInt8 0x00\n",
      "    g: N0f8\n",
      "      i: UInt8 0x00\n",
      "    b: N0f8\n",
      "      i: UInt8 0x00\n",
      "    alpha: N0f8\n",
      "      i: UInt8 0x00\n",
      "  4: RGBA{N0f8}\n",
      "    r: N0f8\n",
      "      i: UInt8 0x00\n",
      "    g: N0f8\n",
      "      i: UInt8 0x00\n",
      "    b: N0f8\n",
      "      i: UInt8 0x00\n",
      "    alpha: N0f8\n",
      "      i: UInt8 0x00\n",
      "  5: RGBA{N0f8}\n",
      "    r: N0f8\n",
      "      i: UInt8 0x00\n",
      "    g: N0f8\n",
      "      i: UInt8 0x00\n",
      "    b: N0f8\n",
      "      i: UInt8 0x00\n",
      "    alpha: N0f8\n",
      "      i: UInt8 0x00\n",
      "  ...\n",
      "  2300: RGBA{N0f8}\n",
      "    r: N0f8\n",
      "      i: UInt8 0x00\n",
      "    g: N0f8\n",
      "      i: UInt8 0x00\n",
      "    b: N0f8\n",
      "      i: UInt8 0x00\n",
      "    alpha: N0f8\n",
      "      i: UInt8 0x00\n",
      "  2301: RGBA{N0f8}\n",
      "    r: N0f8\n",
      "      i: UInt8 0x00\n",
      "    g: N0f8\n",
      "      i: UInt8 0x00\n",
      "    b: N0f8\n",
      "      i: UInt8 0x00\n",
      "    alpha: N0f8\n",
      "      i: UInt8 0x00\n",
      "  2302: RGBA{N0f8}\n",
      "    r: N0f8\n",
      "      i: UInt8 0x00\n",
      "    g: N0f8\n",
      "      i: UInt8 0x00\n",
      "    b: N0f8\n",
      "      i: UInt8 0x00\n",
      "    alpha: N0f8\n",
      "      i: UInt8 0x00\n",
      "  2303: RGBA{N0f8}\n",
      "    r: N0f8\n",
      "      i: UInt8 0x00\n",
      "    g: N0f8\n",
      "      i: UInt8 0x00\n",
      "    b: N0f8\n",
      "      i: UInt8 0x00\n",
      "    alpha: N0f8\n",
      "      i: UInt8 0x00\n",
      "  2304: RGBA{N0f8}\n",
      "    r: N0f8\n",
      "      i: UInt8 0x00\n",
      "    g: N0f8\n",
      "      i: UInt8 0x00\n",
      "    b: N0f8\n",
      "      i: UInt8 0x00\n",
      "    alpha: N0f8\n",
      "      i: UInt8 0x00\n"
     ]
    }
   ],
   "source": [
    "\"\"\"\n",
    "48 x 48 ビット絵に変換する\n",
    "\"\"\"\n",
    "# 48 x 48 に縮小\n",
    "dot = imresize(img, (48, 48))\n",
    "display(dot)\n",
    "dump(dot)"
   ]
  },
  {
   "cell_type": "code",
   "execution_count": 26,
   "metadata": {},
   "outputs": [
    {
     "data": {
      "text/plain": [
       "48×48 Matrix{Int64}:\n",
       " 1  1  1  1  1   1   1   1  1  1   1  1  …    1    1  1  1  1  1  1  1  1  1\n",
       " 1  1  1  1  1   1   1   1  1  1   1  1       1    1  1  1  1  1  1  1  1  1\n",
       " 1  1  1  1  1   1   1   1  1  1   1  1       1    1  1  1  1  1  1  1  1  1\n",
       " 1  1  1  1  1   1   1   1  1  1   1  1       1    1  1  1  1  1  1  1  1  1\n",
       " 1  1  1  1  1   1   1   1  1  1   1  1       1    1  1  1  1  1  1  1  1  1\n",
       " 1  1  1  1  1   1   1   1  1  1  21  3  …    1    1  1  1  1  1  1  1  1  1\n",
       " 1  1  1  1  1   1   1  15  3  5   5  5       1    1  1  1  1  1  1  1  1  1\n",
       " 1  1  1  1  1   1  12   5  5  3  22  1       1    1  1  1  1  1  1  1  1  1\n",
       " 1  1  1  1  1  10   5   3  1  1   1  1       1    1  1  1  1  1  1  1  1  1\n",
       " 1  1  1  1  1   5   3   1  1  1   1  1       1    1  1  1  1  1  1  1  1  1\n",
       " 1  1  1  1  3   3   1   1  1  1   1  1  …    1    1  1  1  1  1  1  1  1  1\n",
       " 1  1  1  1  5   1   1   1  1  1   1  1       1    1  1  1  1  1  1  1  1  1\n",
       " 1  1  1  2  3   1   1   1  1  1   1  1       1    1  1  1  1  1  1  1  1  1\n",
       " ⋮               ⋮                 ⋮     ⋱            ⋮              ⋮     \n",
       " 1  1  1  1  1   1   1   1  1  1   1  1       1    1  1  1  1  1  1  1  1  1\n",
       " 1  1  1  1  1   1   1   1  1  1   1  1       1    1  1  1  1  1  1  1  1  1\n",
       " 1  1  1  1  1   1   1   1  1  1   1  1       1    1  1  1  1  1  1  1  1  1\n",
       " 1  1  1  1  1   1   1   1  1  1   1  1       1    1  1  1  1  1  1  1  1  1\n",
       " 1  1  1  1  1   1   1   1  1  1   1  1  …    1    1  1  1  1  1  1  1  1  1\n",
       " 1  1  1  1  1   1   1   1  1  1   1  1       1    1  1  1  1  1  1  1  1  1\n",
       " 1  1  1  1  1   1   1   1  1  1   1  1       1    1  1  1  1  1  1  1  1  1\n",
       " 1  1  1  1  1   1   1   1  1  1   1  1       1    1  1  1  1  1  1  1  1  1\n",
       " 1  1  1  1  1   1   1   1  1  1   1  1       1    1  1  1  1  1  1  1  1  1\n",
       " 1  1  1  1  1   1   1   1  1  1   1  1  …  153    1  1  1  1  1  1  1  1  1\n",
       " 1  1  1  1  1   1   1   1  1  1   1  1       3    1  1  1  1  1  1  1  1  1\n",
       " 1  1  1  1  1   1   1   1  1  1   1  1       5  154  1  1  1  1  1  1  1  1"
      ]
     },
     "execution_count": 26,
     "metadata": {},
     "output_type": "execute_result"
    }
   ],
   "source": [
    "map = fill(0, 48, 48)\n",
    "pallet = []\n",
    "\n",
    "# ドット絵をマッピング\n",
    "for y in 1:size(dot, 1)\n",
    "    for x in 1:size(dot, 2)\n",
    "        indexes = findall(pallet .== dot[x, y])\n",
    "        map[x, y] = if length(indexes) === 0\n",
    "            push!(pallet, dot[x, y])\n",
    "            length(pallet)\n",
    "        else\n",
    "            indexes[1]\n",
    "        end\n",
    "    end\n",
    "end\n",
    "\n",
    "map"
   ]
  },
  {
   "cell_type": "code",
   "execution_count": 27,
   "metadata": {},
   "outputs": [
    {
     "data": {
      "text/plain": [
       "154-element Vector{Any}:\n",
       " RGBA{N0f8}(0.0,0.0,0.0,0.0)\n",
       " RGBA{N0f8}(0.38,0.38,0.38,0.765)\n",
       " RGBA{N0f8}(0.4,0.4,0.4,1.0)\n",
       " RGBA{N0f8}(0.4,0.4,0.4,0.992)\n",
       " RGBA{N0f8}(0.247,0.247,0.247,1.0)\n",
       " RGBA{N0f8}(0.333,0.333,0.333,0.62)\n",
       " RGBA{N0f8}(0.255,0.255,0.255,0.188)\n",
       " RGBA{N0f8}(0.4,0.4,0.4,0.722)\n",
       " RGBA{N0f8}(0.259,0.259,0.259,1.0)\n",
       " RGBA{N0f8}(0.4,0.4,0.4,0.863)\n",
       " RGBA{N0f8}(0.169,0.169,0.169,0.129)\n",
       " RGBA{N0f8}(0.4,0.4,0.4,0.847)\n",
       " RGBA{N0f8}(0.271,0.271,0.271,1.0)\n",
       " ⋮\n",
       " RGBA{N0f8}(0.4,0.4,0.4,0.431)\n",
       " RGBA{N0f8}(0.357,0.357,0.357,1.0)\n",
       " RGBA{N0f8}(0.282,0.282,0.282,1.0)\n",
       " RGBA{N0f8}(0.388,0.388,0.388,0.875)\n",
       " RGBA{N0f8}(0.075,0.075,0.075,0.024)\n",
       " RGBA{N0f8}(0.361,0.361,0.361,1.0)\n",
       " RGBA{N0f8}(0.18,0.18,0.18,0.306)\n",
       " RGBA{N0f8}(0.404,0.404,0.404,0.596)\n",
       " RGBA{N0f8}(0.184,0.184,0.184,0.459)\n",
       " RGBA{N0f8}(0.188,0.188,0.188,0.106)\n",
       " RGBA{N0f8}(0.082,0.082,0.082,0.067)\n",
       " RGBA{N0f8}(0.392,0.392,0.392,0.384)"
      ]
     },
     "execution_count": 27,
     "metadata": {},
     "output_type": "execute_result"
    }
   ],
   "source": [
    "pallet"
   ]
  },
  {
   "cell_type": "markdown",
   "metadata": {},
   "source": [
    "上記のように 154色あるので、16色になるまで k-means法で減色する"
   ]
  },
  {
   "cell_type": "code",
   "execution_count": 28,
   "metadata": {},
   "outputs": [
    {
     "data": {
      "text/plain": [
       "154-element Vector{Vector{N0f8}}:\n",
       " [0.0N0f8, 0.0N0f8, 0.0N0f8, 0.0N0f8]\n",
       " [0.38N0f8, 0.38N0f8, 0.38N0f8, 0.765N0f8]\n",
       " [0.4N0f8, 0.4N0f8, 0.4N0f8, 1.0N0f8]\n",
       " [0.4N0f8, 0.4N0f8, 0.4N0f8, 0.992N0f8]\n",
       " [0.247N0f8, 0.247N0f8, 0.247N0f8, 1.0N0f8]\n",
       " [0.333N0f8, 0.333N0f8, 0.333N0f8, 0.62N0f8]\n",
       " [0.255N0f8, 0.255N0f8, 0.255N0f8, 0.188N0f8]\n",
       " [0.4N0f8, 0.4N0f8, 0.4N0f8, 0.722N0f8]\n",
       " [0.259N0f8, 0.259N0f8, 0.259N0f8, 1.0N0f8]\n",
       " [0.4N0f8, 0.4N0f8, 0.4N0f8, 0.863N0f8]\n",
       " [0.169N0f8, 0.169N0f8, 0.169N0f8, 0.129N0f8]\n",
       " [0.4N0f8, 0.4N0f8, 0.4N0f8, 0.847N0f8]\n",
       " [0.271N0f8, 0.271N0f8, 0.271N0f8, 1.0N0f8]\n",
       " ⋮\n",
       " [0.4N0f8, 0.4N0f8, 0.4N0f8, 0.431N0f8]\n",
       " [0.357N0f8, 0.357N0f8, 0.357N0f8, 1.0N0f8]\n",
       " [0.282N0f8, 0.282N0f8, 0.282N0f8, 1.0N0f8]\n",
       " [0.388N0f8, 0.388N0f8, 0.388N0f8, 0.875N0f8]\n",
       " [0.075N0f8, 0.075N0f8, 0.075N0f8, 0.024N0f8]\n",
       " [0.361N0f8, 0.361N0f8, 0.361N0f8, 1.0N0f8]\n",
       " [0.18N0f8, 0.18N0f8, 0.18N0f8, 0.306N0f8]\n",
       " [0.404N0f8, 0.404N0f8, 0.404N0f8, 0.596N0f8]\n",
       " [0.184N0f8, 0.184N0f8, 0.184N0f8, 0.459N0f8]\n",
       " [0.188N0f8, 0.188N0f8, 0.188N0f8, 0.106N0f8]\n",
       " [0.082N0f8, 0.082N0f8, 0.082N0f8, 0.067N0f8]\n",
       " [0.392N0f8, 0.392N0f8, 0.392N0f8, 0.384N0f8]"
      ]
     },
     "execution_count": 28,
     "metadata": {},
     "output_type": "execute_result"
    }
   ],
   "source": [
    "# まず 154-Vector{RGBA{}} を 154-Vector{4-Vector{Float32}} に変換\n",
    "img_data = [[rgba.r, rgba.b, rgba.g, rgba.alpha] for rgba in pallet]"
   ]
  },
  {
   "cell_type": "code",
   "execution_count": 29,
   "metadata": {},
   "outputs": [
    {
     "name": "stderr",
     "output_type": "stream",
     "text": [
      "WARNING: using LinearAlgebra.dot in module Main conflicts with an existing identifier.\n"
     ]
    },
    {
     "data": {
      "text/plain": [
       "154-element Vector{Int64}:\n",
       "  9\n",
       " 16\n",
       "  3\n",
       " 11\n",
       " 16\n",
       " 14\n",
       "  4\n",
       "  5\n",
       " 14\n",
       "  8\n",
       "  9\n",
       " 11\n",
       " 10\n",
       "  ⋮\n",
       "  1\n",
       " 13\n",
       " 15\n",
       "  3\n",
       " 10\n",
       "  1\n",
       "  2\n",
       "  7\n",
       "  8\n",
       " 13\n",
       " 15\n",
       " 15"
      ]
     },
     "execution_count": 29,
     "metadata": {},
     "output_type": "execute_result"
    }
   ],
   "source": [
    "using Statistics # mean, max, min 等の統計関連標準パッケージ\n",
    "using LinearAlgebra # 行列演算関連の標準パッケージ\n",
    "\n",
    "# 154色の画像を16色に減色\n",
    "## => 154個のクラスタを16個のクラスタに分類\n",
    "n_clusters = 16\n",
    "\n",
    "# 画像データを n_clusters 数の所属クラスタにランダムに振る\n",
    "clusters = rand(1:n_clusters, size(img_data))"
   ]
  },
  {
   "cell_type": "code",
   "execution_count": 30,
   "metadata": {},
   "outputs": [
    {
     "data": {
      "text/plain": [
       "4×10 Array{N0f8,2} with eltype N0f8:\n",
       " 0.267  0.055  0.376  0.047  0.341  0.392  0.4    0.525  0.4    0.361\n",
       " 0.267  0.055  0.376  0.047  0.341  0.392  0.4    0.525  0.4    0.361\n",
       " 0.267  0.055  0.376  0.047  0.341  0.392  0.4    0.525  0.4    0.361\n",
       " 1.0    0.016  1.0    0.031  1.0    1.0    0.706  1.0    0.431  1.0"
      ]
     },
     "execution_count": 30,
     "metadata": {},
     "output_type": "execute_result"
    }
   ],
   "source": [
    "# -- 各クラスタごとの中心点（代表色）の計算\n",
    "\n",
    "# index: 1 に所属する画素を取得し行列に変換\n",
    "## n-Vector{4-Vector{Float32}} => 4 x n - Matrix{Float32}\n",
    "hcat(img_data[clusters .== 1]...)"
   ]
  },
  {
   "cell_type": "code",
   "execution_count": 31,
   "metadata": {},
   "outputs": [
    {
     "data": {
      "text/plain": [
       "4×1 Array{N0f8,2} with eltype N0f8:\n",
       " 0.318N0f8\n",
       " 0.318N0f8\n",
       " 0.318N0f8\n",
       " 0.718N0f8"
      ]
     },
     "execution_count": 31,
     "metadata": {},
     "output_type": "execute_result"
    }
   ],
   "source": [
    "# index: 1 に所属する画素の RGBA ごとの平均値を計算: 行ごとの平均値を取得\n",
    "## 平均値を計算する際に Float32 に変換されてしまうため N0F8 型に戻す\n",
    "n0f8.(mean(hcat(img_data[clusters .== 1]...); dims=2))"
   ]
  },
  {
   "cell_type": "code",
   "execution_count": 32,
   "metadata": {},
   "outputs": [
    {
     "data": {
      "text/plain": [
       "16-element Vector{Vector{N0f8}}:\n",
       " [0.318N0f8, 0.318N0f8, 0.318N0f8, 0.718N0f8]\n",
       " [0.404N0f8, 0.404N0f8, 0.404N0f8, 0.78N0f8]\n",
       " [0.4N0f8, 0.404N0f8, 0.4N0f8, 0.937N0f8]\n",
       " [0.49N0f8, 0.439N0f8, 0.451N0f8, 0.878N0f8]\n",
       " [0.635N0f8, 0.533N0f8, 0.557N0f8, 0.875N0f8]\n",
       " [0.486N0f8, 0.494N0f8, 0.49N0f8, 0.929N0f8]\n",
       " [0.263N0f8, 0.263N0f8, 0.263N0f8, 0.388N0f8]\n",
       " [0.6N0f8, 0.553N0f8, 0.561N0f8, 0.914N0f8]\n",
       " [0.502N0f8, 0.502N0f8, 0.502N0f8, 0.702N0f8]\n",
       " [0.525N0f8, 0.49N0f8, 0.486N0f8, 0.902N0f8]\n",
       " [0.416N0f8, 0.4N0f8, 0.4N0f8, 0.812N0f8]\n",
       " [0.384N0f8, 0.384N0f8, 0.384N0f8, 0.718N0f8]\n",
       " [0.592N0f8, 0.518N0f8, 0.537N0f8, 0.82N0f8]\n",
       " [0.412N0f8, 0.416N0f8, 0.412N0f8, 0.918N0f8]\n",
       " [0.337N0f8, 0.333N0f8, 0.333N0f8, 0.624N0f8]\n",
       " [0.643N0f8, 0.667N0f8, 0.647N0f8, 0.973N0f8]"
      ]
     },
     "execution_count": 32,
     "metadata": {},
     "output_type": "execute_result"
    }
   ],
   "source": [
    "# 各クラスタごとの中心点（代表色＝画素ごとの平均値）の計算\n",
    "centroids = [vcat(n0f8.(mean(hcat(img_data[clusters .== n]...); dims=2))...) for n = 1:n_clusters]"
   ]
  },
  {
   "cell_type": "code",
   "execution_count": 33,
   "metadata": {},
   "outputs": [
    {
     "ename": "LoadError",
     "evalue": "MethodError: no method matching zero(::Type{Any})\n\u001b[0mClosest candidates are:\n\u001b[0m  zero(::Type{Union{Missing, T}}) where T at missing.jl:105\n\u001b[0m  zero(\u001b[91m::Union{Type{P}, P}\u001b[39m) where P<:Dates.Period at /buildworker/worker/package_linux64/build/usr/share/julia/stdlib/v1.6/Dates/src/periods.jl:53\n\u001b[0m  zero(\u001b[91m::FixedPoint\u001b[39m) at /home/user/.julia/packages/FixedPointNumbers/HAGk2/src/FixedPointNumbers.jl:222\n\u001b[0m  ...",
     "output_type": "error",
     "traceback": [
      "MethodError: no method matching zero(::Type{Any})\n\u001b[0mClosest candidates are:\n\u001b[0m  zero(::Type{Union{Missing, T}}) where T at missing.jl:105\n\u001b[0m  zero(\u001b[91m::Union{Type{P}, P}\u001b[39m) where P<:Dates.Period at /buildworker/worker/package_linux64/build/usr/share/julia/stdlib/v1.6/Dates/src/periods.jl:53\n\u001b[0m  zero(\u001b[91m::FixedPoint\u001b[39m) at /home/user/.julia/packages/FixedPointNumbers/HAGk2/src/FixedPointNumbers.jl:222\n\u001b[0m  ...",
      "",
      "Stacktrace:",
      "  [1] zero(#unused#::Type{Any})",
      "    @ Base ./missing.jl:106",
      "  [2] reduce_empty(#unused#::typeof(+), #unused#::Type{Any})",
      "    @ Base ./reduce.jl:311",
      "  [3] reduce_empty(#unused#::typeof(Base.add_sum), #unused#::Type{Any})",
      "    @ Base ./reduce.jl:320",
      "  [4] mapreduce_empty(#unused#::typeof(identity), op::Function, T::Type)",
      "    @ Base ./reduce.jl:343",
      "  [5] reduce_empty(op::Base.MappingRF{typeof(identity), typeof(Base.add_sum)}, #unused#::Type{Any})",
      "    @ Base ./reduce.jl:329",
      "  [6] reduce_empty_iter",
      "    @ ./reduce.jl:355 [inlined]",
      "  [7] mapreduce_empty_iter(f::Function, op::Function, itr::Vector{Any}, ItrEltype::Base.HasEltype)",
      "    @ Base ./reduce.jl:351",
      "  [8] _mapreduce(f::typeof(identity), op::typeof(Base.add_sum), #unused#::IndexLinear, A::Vector{Any})",
      "    @ Base ./reduce.jl:400",
      "  [9] _mapreduce_dim",
      "    @ ./reducedim.jl:318 [inlined]",
      " [10] #mapreduce#672",
      "    @ ./reducedim.jl:310 [inlined]",
      " [11] mapreduce",
      "    @ ./reducedim.jl:310 [inlined]",
      " [12] #_sum#682",
      "    @ ./reducedim.jl:878 [inlined]",
      " [13] _sum",
      "    @ ./reducedim.jl:878 [inlined]",
      " [14] #sum#680",
      "    @ ./reducedim.jl:874 [inlined]",
      " [15] sum",
      "    @ ./reducedim.jl:874 [inlined]",
      " [16] _reducedim_init(f::typeof(identity), op::typeof(Base.add_sum), fv::typeof(zero), fop::typeof(sum), A::Vector{Any}, region::Int64)",
      "    @ Base ./reducedim.jl:121",
      " [17] reducedim_init(f::Function, op::typeof(Base.add_sum), A::Vector{Any}, region::Int64)",
      "    @ Base ./reducedim.jl:109",
      " [18] _mapreduce_dim(f::Function, op::Function, #unused#::Base._InitialValue, A::Vector{Any}, dims::Int64)",
      "    @ Base ./reducedim.jl:324",
      " [19] #mapreduce#672",
      "    @ ./reducedim.jl:310 [inlined]",
      " [20] #_sum#702",
      "    @ ./reducedim.jl:900 [inlined]",
      " [21] _sum",
      "    @ ./reducedim.jl:900 [inlined]",
      " [22] #sum#680",
      "    @ ./reducedim.jl:874 [inlined]",
      " [23] _mean(f::typeof(identity), A::Vector{Any}, dims::Int64)",
      "    @ Statistics /buildworker/worker/package_linux64/build/usr/share/julia/stdlib/v1.6/Statistics/src/Statistics.jl:170",
      " [24] #mean#2",
      "    @ /buildworker/worker/package_linux64/build/usr/share/julia/stdlib/v1.6/Statistics/src/Statistics.jl:164 [inlined]",
      " [25] top-level scope",
      "    @ In[33]:3",
      " [26] eval",
      "    @ ./boot.jl:360 [inlined]",
      " [27] include_string(mapexpr::typeof(REPL.softscope), mod::Module, code::String, filename::String)",
      "    @ Base ./loading.jl:1094"
     ]
    }
   ],
   "source": [
    "# 上記コードは、所属されているデータが一つもないクラスタもありえる\n",
    "clusters = fill(1, 154) # 例えばすべてのデータが 1 のクラスタに所属している場合\n",
    "n0f8.(mean(hcat(img_data[clusters .== 2]...); dims=2)) # 2 のクラスタに所属している画素データの平均値が求められない"
   ]
  },
  {
   "cell_type": "code",
   "execution_count": 34,
   "metadata": {},
   "outputs": [
    {
     "data": {
      "text/plain": [
       "4×1 Array{N0f8,2} with eltype N0f8:\n",
       " 0.082N0f8\n",
       " 0.082N0f8\n",
       " 0.082N0f8\n",
       " 0.102N0f8"
      ]
     },
     "execution_count": 34,
     "metadata": {},
     "output_type": "execute_result"
    }
   ],
   "source": [
    "# 上記の問題を解決するためには、欠損クラスタでは任意画素を代表値とすれば良い\n",
    "let vec = img_data[clusters .== 2]\n",
    "    if length(vec) === 0\n",
    "        hcat([img_data[rand(1:size(img_data)[1])]...])\n",
    "    else\n",
    "        n0f8.(mean(hcat(vec...); dims=2))\n",
    "    end\n",
    "end"
   ]
  },
  {
   "cell_type": "code",
   "execution_count": 35,
   "metadata": {},
   "outputs": [
    {
     "data": {
      "text/plain": [
       "16-element Vector{Matrix{N0f8}}:\n",
       " [0.482N0f8; 0.459N0f8; 0.463N0f8; 0.835N0f8]\n",
       " [0.169N0f8; 0.169N0f8; 0.169N0f8; 0.129N0f8]\n",
       " [0.412N0f8; 0.416N0f8; 0.416N0f8; 1.0N0f8]\n",
       " [0.325N0f8; 0.325N0f8; 0.325N0f8; 1.0N0f8]\n",
       " [0.4N0f8; 0.4N0f8; 0.4N0f8; 0.91N0f8]\n",
       " [0.455N0f8; 0.506N0f8; 0.482N0f8; 1.0N0f8]\n",
       " [0.988N0f8; 0.996N0f8; 0.992N0f8; 1.0N0f8]\n",
       " [0.38N0f8; 0.38N0f8; 0.38N0f8; 1.0N0f8]\n",
       " [0.4N0f8; 0.4N0f8; 0.4N0f8; 0.992N0f8]\n",
       " [0.404N0f8; 0.404N0f8; 0.404N0f8; 1.0N0f8]\n",
       " [0.412N0f8; 0.416N0f8; 0.416N0f8; 1.0N0f8]\n",
       " [0.278N0f8; 0.282N0f8; 0.282N0f8; 1.0N0f8]\n",
       " [0.11N0f8; 0.11N0f8; 0.11N0f8; 0.02N0f8]\n",
       " [0.808N0f8; 0.792N0f8; 0.792N0f8; 1.0N0f8]\n",
       " [0.522N0f8; 0.522N0f8; 0.522N0f8; 1.0N0f8]\n",
       " [0.506N0f8; 0.502N0f8; 0.502N0f8; 1.0N0f8]"
      ]
     },
     "execution_count": 35,
     "metadata": {},
     "output_type": "execute_result"
    }
   ],
   "source": [
    "# 各クラスタごとの中心点（代表色＝画素ごとの平均値）の計算（改善版）\n",
    "centroids = [\n",
    "    vcat(\n",
    "        let vec = img_data[clusters .== n]\n",
    "            if length(vec) === 0\n",
    "                hcat([img_data[rand(1:size(img_data)[1])]...])\n",
    "            else\n",
    "                n0f8.(mean(hcat(vec...); dims=2))\n",
    "            end\n",
    "        end\n",
    "    ) for n = 1:n_clusters\n",
    "]"
   ]
  },
  {
   "cell_type": "code",
   "execution_count": 36,
   "metadata": {
    "scrolled": true,
    "tags": []
   },
   "outputs": [
    {
     "data": {
      "text/plain": [
       "16-element Vector{Float64}:\n",
       " 0.8901960784313726\n",
       " 2.8588235294117643\n",
       " 1.0392156862745097\n",
       " 1.3764705882352941\n",
       " 1.1019607843137254\n",
       " 0.8196078431372549\n",
       " 0.0\n",
       " 1.1647058823529413\n",
       " 1.0941176470588234\n",
       " 1.0823529411764705\n",
       " 1.0392156862745097\n",
       " 1.5686274509803924\n",
       " 3.3686274509803926\n",
       " 0.12549019607843137\n",
       " 0.6941176470588235\n",
       " 0.7490196078431373"
      ]
     },
     "execution_count": 36,
     "metadata": {},
     "output_type": "execute_result"
    }
   ],
   "source": [
    "# img_data[1] (RGBA::4-Vector{Float32}) が 16個のクラスタのどこに近いか確認\n",
    "## (R_1 - R_2)^2 + (G_1 - G_2)^2 + (B_1 - B_2)^2 を各代表色ごとに計算\n",
    "[sum((img_data[1] - c).^2) for c in centroids]"
   ]
  },
  {
   "cell_type": "code",
   "execution_count": 37,
   "metadata": {},
   "outputs": [
    {
     "data": {
      "text/plain": [
       "(0.0, 7)"
      ]
     },
     "execution_count": 37,
     "metadata": {},
     "output_type": "execute_result"
    }
   ],
   "source": [
    "# (R_1 - R_2)^2 + (G_1 - G_2)^2 + (B_1 - B_2)^2 が最小の index が所属するクラスタになる\n",
    "value, index = findmin([sum((img_data[1] - c).^2) for c in centroids])"
   ]
  },
  {
   "cell_type": "code",
   "execution_count": 38,
   "metadata": {},
   "outputs": [
    {
     "data": {
      "text/plain": [
       "154-element Vector{Int64}:\n",
       "  7\n",
       "  2\n",
       "  8\n",
       "  9\n",
       "  7\n",
       "  2\n",
       "  2\n",
       "  2\n",
       "  7\n",
       "  2\n",
       "  2\n",
       "  2\n",
       "  7\n",
       "  ⋮\n",
       "  8\n",
       "  4\n",
       " 12\n",
       "  2\n",
       "  7\n",
       "  4\n",
       "  2\n",
       "  8\n",
       "  2\n",
       " 13\n",
       "  7\n",
       "  8"
      ]
     },
     "execution_count": 38,
     "metadata": {},
     "output_type": "execute_result"
    }
   ],
   "source": [
    "# img_data[1:154] に対して、それぞれの画素が 16個のクラスタ（代表色）のどこに所属するか決める\n",
    "new_clusters = Vector{Int}(undef, size(img_data)[1])\n",
    "for i = 1:size(img_data)[1]\n",
    "    _, index = findmin([sum((img_data[i] - c).^2) for c in centroids])\n",
    "    new_clusters[i] = index\n",
    "end\n",
    "\n",
    "new_clusters"
   ]
  },
  {
   "cell_type": "code",
   "execution_count": 39,
   "metadata": {},
   "outputs": [
    {
     "data": {
      "text/plain": [
       "([13, 6, 3, 3, 13, 6, 13, 7, 13, 9  …  13, 6, 13, 6, 13, 2, 13, 13, 13, 6], Matrix{N0f8}[[0.404N0f8; 0.404N0f8; 0.404N0f8; 0.745N0f8], [0.404N0f8; 0.404N0f8; 0.404N0f8; 0.596N0f8], [0.392N0f8; 0.392N0f8; 0.392N0f8; 0.925N0f8], [0.361N0f8; 0.361N0f8; 0.361N0f8; 0.898N0f8], [0.933N0f8; 0.302N0f8; 0.49N0f8; 1.0N0f8], [0.325N0f8; 0.325N0f8; 0.325N0f8; 1.0N0f8], [0.4N0f8; 0.4N0f8; 0.4N0f8; 0.714N0f8], [0.4N0f8; 0.404N0f8; 0.4N0f8; 0.875N0f8], [0.4N0f8; 0.4N0f8; 0.4N0f8; 0.725N0f8], [0.784N0f8; 0.784N0f8; 0.769N0f8; 1.0N0f8], [0.427N0f8; 0.396N0f8; 0.404N0f8; 0.698N0f8], [0.459N0f8; 0.455N0f8; 0.451N0f8; 1.0N0f8], [0.914N0f8; 0.788N0f8; 0.792N0f8; 1.0N0f8], [0.514N0f8; 0.518N0f8; 0.518N0f8; 1.0N0f8], [0.655N0f8; 0.671N0f8; 0.647N0f8; 1.0N0f8], [0.584N0f8; 0.58N0f8; 0.58N0f8; 1.0N0f8]])"
      ]
     },
     "execution_count": 39,
     "metadata": {},
     "output_type": "execute_result"
    }
   ],
   "source": [
    "\"\"\"\n",
    "k-meansによる分類\n",
    "    kmeans(data::Vector{}, n_clasters::Int; max_iter::Int = 1000)\n",
    "        -> ::Tuple{clusters :: size(data)[1]-Vector{Int}, centroids :: 4 x n_clusters-Matrix{Float32}\n",
    "\"\"\"\n",
    "kmeans = (data, n_clusters; max_iter = 1000) -> begin\n",
    "    # 画像データを n_clusters 数の所属クラスタにランダムに振る\n",
    "    clusters = rand(1:n_clusters, size(data))\n",
    "    \n",
    "    # 各クラスたごとの中心点（代表色）\n",
    "    centroids = []\n",
    "    \n",
    "    for i = 1:max_iter\n",
    "        # 各クラスタごとの中心点（代表色＝画素ごとの平均値）の計算\n",
    "        centroids = [\n",
    "            vcat(\n",
    "                let vec = img_data[clusters .== n]\n",
    "                    if length(vec) === 0\n",
    "                        hcat([img_data[rand(1:size(img_data)[1])]...]) # 欠損クラスタではランダムな画素を中心点とする\n",
    "                    else\n",
    "                        n0f8.(mean(hcat(vec...); dims=2)) # 該当クラスタに所属している画素の平均値を計算\n",
    "                    end\n",
    "                end\n",
    "            ) for n = 1:n_clusters\n",
    "        ]\n",
    "\n",
    "        # data[1:end] それぞれの値が n_clusters 個のクラスタ（代表色）のどこに所属するか決める\n",
    "        new_clusters = Vector{Int}(undef, size(data)[1])\n",
    "        for i = 1:size(data)[1]\n",
    "            distances = [sum((data[i] - c).^2) for c in centroids]\n",
    "            _, index = findmin(distances)\n",
    "            new_clusters[i] = index\n",
    "        end\n",
    "\n",
    "        # 収束判定（クラスタの所属が変化しなくなった時点で終了）\n",
    "        if all(clusters .== new_clusters)\n",
    "            break\n",
    "        end\n",
    "\n",
    "        clusters = new_clusters\n",
    "    end\n",
    "    # 所属クラスタと中心点（代表色）を返す\n",
    "    return (clusters, centroids)\n",
    "end\n",
    "\n",
    "# 154色の画像を16色に減色（154個のクラスタを16個のクラスタに分類）\n",
    "clusters, centroids = kmeans(img_data, 16)"
   ]
  },
  {
   "cell_type": "code",
   "execution_count": 40,
   "metadata": {},
   "outputs": [
    {
     "data": {
      "text/plain": [
       "1-element Vector{Int64}:\n",
       " 1"
      ]
     },
     "execution_count": 40,
     "metadata": {},
     "output_type": "execute_result"
    }
   ],
   "source": [
    "# -- 元絵の (1, 1) 画素を 154カテゴリ（154色）=> 16カテゴリ（16色）に変換 \n",
    "\n",
    "# 元絵の (1, 1) 画素を 154カテゴリ（154色）のどれに所属するか判定\n",
    "findall(data -> data[1] == dot[1, 1].r && data[2] == dot[1, 1].g && data[3] == dot[1, 1].b && data[4] == dot[1, 1].alpha, img_data)"
   ]
  },
  {
   "cell_type": "code",
   "execution_count": 41,
   "metadata": {},
   "outputs": [
    {
     "data": {
      "text/plain": [
       "4×1 Array{N0f8,2} with eltype N0f8:\n",
       " 0.914N0f8\n",
       " 0.788N0f8\n",
       " 0.792N0f8\n",
       " 1.0N0f8"
      ]
     },
     "execution_count": 41,
     "metadata": {},
     "output_type": "execute_result"
    }
   ],
   "source": [
    "# 元絵の (1, 1) 画素を 154カテゴリ => 16カテゴリにマッピングし、該当の色（代表色）を取得\n",
    "index = clusters[\n",
    "    findall(data -> data[1] == dot[1, 1].r && data[2] == dot[1, 1].g && data[3] == dot[1, 1].b && data[4] == dot[1, 1].alpha, img_data)\n",
    "]\n",
    "color = centroids[index][1]"
   ]
  },
  {
   "cell_type": "code",
   "execution_count": 42,
   "metadata": {},
   "outputs": [
    {
     "data": {
      "image/png": "[encoded data removed]",
      "text/plain": [
       "48×48 Array{RGBA{Float32},2} with eltype RGBA{Float32}:\n",
       " RGBA{Float32}(0.913725,0.788235,0.792157,1.0)  …  RGBA{Float32}(0.913725,0.788235,0.792157,1.0)\n",
       " RGBA{Float32}(0.913725,0.788235,0.792157,1.0)     RGBA{Float32}(0.913725,0.788235,0.792157,1.0)\n",
       " RGBA{Float32}(0.913725,0.788235,0.792157,1.0)     RGBA{Float32}(0.913725,0.788235,0.792157,1.0)\n",
       " RGBA{Float32}(0.913725,0.788235,0.792157,1.0)     RGBA{Float32}(0.913725,0.788235,0.792157,1.0)\n",
       " RGBA{Float32}(0.913725,0.788235,0.792157,1.0)     RGBA{Float32}(0.913725,0.788235,0.792157,1.0)\n",
       " RGBA{Float32}(0.913725,0.788235,0.792157,1.0)  …  RGBA{Float32}(0.913725,0.788235,0.792157,1.0)\n",
       " RGBA{Float32}(0.913725,0.788235,0.792157,1.0)     RGBA{Float32}(0.913725,0.788235,0.792157,1.0)\n",
       " RGBA{Float32}(0.913725,0.788235,0.792157,1.0)     RGBA{Float32}(0.913725,0.788235,0.792157,1.0)\n",
       " RGBA{Float32}(0.913725,0.788235,0.792157,1.0)     RGBA{Float32}(0.913725,0.788235,0.792157,1.0)\n",
       " RGBA{Float32}(0.913725,0.788235,0.792157,1.0)     RGBA{Float32}(0.913725,0.788235,0.792157,1.0)\n",
       " RGBA{Float32}(0.913725,0.788235,0.792157,1.0)  …  RGBA{Float32}(0.913725,0.788235,0.792157,1.0)\n",
       " RGBA{Float32}(0.913725,0.788235,0.792157,1.0)     RGBA{Float32}(0.913725,0.788235,0.792157,1.0)\n",
       " RGBA{Float32}(0.913725,0.788235,0.792157,1.0)     RGBA{Float32}(0.913725,0.788235,0.792157,1.0)\n",
       " ⋮                                              ⋱  \n",
       " RGBA{Float32}(0.913725,0.788235,0.792157,1.0)     RGBA{Float32}(0.913725,0.788235,0.792157,1.0)\n",
       " RGBA{Float32}(0.913725,0.788235,0.792157,1.0)     RGBA{Float32}(0.913725,0.788235,0.792157,1.0)\n",
       " RGBA{Float32}(0.913725,0.788235,0.792157,1.0)     RGBA{Float32}(0.913725,0.788235,0.792157,1.0)\n",
       " RGBA{Float32}(0.913725,0.788235,0.792157,1.0)     RGBA{Float32}(0.913725,0.788235,0.792157,1.0)\n",
       " RGBA{Float32}(0.913725,0.788235,0.792157,1.0)  …  RGBA{Float32}(0.913725,0.788235,0.792157,1.0)\n",
       " RGBA{Float32}(0.913725,0.788235,0.792157,1.0)     RGBA{Float32}(0.913725,0.788235,0.792157,1.0)\n",
       " RGBA{Float32}(0.913725,0.788235,0.792157,1.0)     RGBA{Float32}(0.913725,0.788235,0.792157,1.0)\n",
       " RGBA{Float32}(0.913725,0.788235,0.792157,1.0)     RGBA{Float32}(0.913725,0.788235,0.792157,1.0)\n",
       " RGBA{Float32}(0.913725,0.788235,0.792157,1.0)     RGBA{Float32}(0.913725,0.788235,0.792157,1.0)\n",
       " RGBA{Float32}(0.913725,0.788235,0.792157,1.0)  …  RGBA{Float32}(0.913725,0.788235,0.792157,1.0)\n",
       " RGBA{Float32}(0.913725,0.788235,0.792157,1.0)     RGBA{Float32}(0.913725,0.788235,0.792157,1.0)\n",
       " RGBA{Float32}(0.913725,0.788235,0.792157,1.0)     RGBA{Float32}(0.913725,0.788235,0.792157,1.0)"
      ]
     },
     "metadata": {},
     "output_type": "display_data"
    }
   ],
   "source": [
    "# 元絵の画像データを16色に減色した状態に変換\n",
    "sub_img_data = zeros(RGBA{Float32}, size(dot, 1), size(dot, 2))\n",
    "\n",
    "for y in 1:size(dot, 1)\n",
    "    for x in 1:size(dot, 2)\n",
    "        index = clusters[\n",
    "            findall(data -> data[1] == dot[1, 1].r && data[2] == dot[1, 1].g && data[3] == dot[1, 1].b && data[4] == dot[1, 1].alpha, img_data)\n",
    "        ]\n",
    "        color = centroids[index][1]\n",
    "        sub_img_data[y, x] = RGBA(color[1], color[2], color[3], color[4])\n",
    "    end\n",
    "end\n",
    "\n",
    "display(sub_img_data)"
   ]
  },
  {
   "cell_type": "markdown",
   "metadata": {},
   "source": [
    "上記の通り、真っ白な画像になってしまい、上手く k-means 法による減色ができていない"
   ]
  },
  {
   "cell_type": "code",
   "execution_count": null,
   "metadata": {},
   "outputs": [],
   "source": []
  }
 ],
 "metadata": {
  "kernelspec": {
   "display_name": "Julia 1.6.1",
   "language": "julia",
   "name": "julia-1.6"
  },
  "language_info": {
   "file_extension": ".jl",
   "mimetype": "application/julia",
   "name": "julia",
   "version": "1.6.1"
  }
 },
 "nbformat": 4,
 "nbformat_minor": 4
}
