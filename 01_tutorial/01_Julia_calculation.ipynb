{
 "cells": [
  {
   "cell_type": "markdown",
   "metadata": {},
   "source": [
    "# Julia入門\n",
    "\n",
    "## 変数\n",
    "\n",
    "- **変数**\n",
    "    - Juliaにおける変数は、値に紐づく名前を示す\n",
    "    - 計算によって得た値などを保存しておくために使用する"
   ]
  },
  {
   "cell_type": "code",
   "execution_count": 1,
   "metadata": {},
   "outputs": [
    {
     "data": {
      "text/plain": [
       "10"
      ]
     },
     "execution_count": 1,
     "metadata": {},
     "output_type": "execute_result"
    }
   ],
   "source": [
    "# 変数 x に 値 10 を保存しておく\n",
    "x = 10"
   ]
  },
  {
   "cell_type": "code",
   "execution_count": 2,
   "metadata": {},
   "outputs": [
    {
     "data": {
      "text/plain": [
       "11"
      ]
     },
     "execution_count": 2,
     "metadata": {},
     "output_type": "execute_result"
    }
   ],
   "source": [
    "# 変数 x に 1 を足す\n",
    "x + 1"
   ]
  },
  {
   "cell_type": "code",
   "execution_count": 3,
   "metadata": {},
   "outputs": [
    {
     "data": {
      "text/plain": [
       "\"Hello!\""
      ]
     },
     "execution_count": 3,
     "metadata": {},
     "output_type": "execute_result"
    }
   ],
   "source": [
    "# 変数には別の型を入れ直すこともできる\n",
    "## 現在、変数 x には 数値 10 が入っているが、文字列 \"Hello!\" を入れ直すことが可能\n",
    "x = \"Hello!\""
   ]
  },
  {
   "cell_type": "markdown",
   "metadata": {},
   "source": [
    "### 使用可能な変数名\n",
    "\n",
    "- アルファベット（a-z, A-Z）\n",
    "- 数字（0-9）\n",
    "- `_`, `!`, ...等の記号\n",
    "- Unicode文字\n",
    "\n",
    "ただし、ビルトインステートメントの名前（`if`, `else`, ...等）を変数名として使用することはできない\n",
    "\n",
    "また、`+`, `-` 等の演算子記号も変数名として定義されてはいるが、再割り当てを行うことはできない"
   ]
  },
  {
   "cell_type": "code",
   "execution_count": 4,
   "metadata": {},
   "outputs": [
    {
     "ename": "LoadError",
     "evalue": "syntax: unexpected \"else\"",
     "output_type": "error",
     "traceback": [
      "syntax: unexpected \"else\"",
      "",
      "Stacktrace:",
      " [1] top-level scope",
      "   @ In[4]:1",
      " [2] eval",
      "   @ .\\boot.jl:360 [inlined]",
      " [3] include_string(mapexpr::typeof(REPL.softscope), mod::Module, code::String, filename::String)",
      "   @ Base .\\loading.jl:1094"
     ]
    }
   ],
   "source": [
    "else = 3.14"
   ]
  },
  {
   "cell_type": "code",
   "execution_count": 5,
   "metadata": {},
   "outputs": [
    {
     "ename": "LoadError",
     "evalue": "syntax: unexpected \"=\"",
     "output_type": "error",
     "traceback": [
      "syntax: unexpected \"=\"",
      "",
      "Stacktrace:",
      " [1] top-level scope",
      "   @ In[5]:1",
      " [2] eval",
      "   @ .\\boot.jl:360 [inlined]",
      " [3] include_string(mapexpr::typeof(REPL.softscope), mod::Module, code::String, filename::String)",
      "   @ Base .\\loading.jl:1094"
     ]
    }
   ],
   "source": [
    "try = \"No\""
   ]
  },
  {
   "cell_type": "code",
   "execution_count": 6,
   "metadata": {},
   "outputs": [
    {
     "ename": "LoadError",
     "evalue": "cannot assign a value to variable Base.+ from module Main",
     "output_type": "error",
     "traceback": [
      "cannot assign a value to variable Base.+ from module Main",
      "",
      "Stacktrace:",
      " [1] top-level scope",
      "   @ In[6]:1",
      " [2] eval",
      "   @ .\\boot.jl:360 [inlined]",
      " [3] include_string(mapexpr::typeof(REPL.softscope), mod::Module, code::String, filename::String)",
      "   @ Base .\\loading.jl:1094"
     ]
    }
   ],
   "source": [
    "(+) = function (a, b)\n",
    "    return a - b\n",
    "end"
   ]
  },
  {
   "cell_type": "markdown",
   "metadata": {},
   "source": [
    "## 数値\n",
    "\n",
    "### 数値プリミティブ型\n",
    "- **数値**\n",
    "    - 整数と浮動小数点があり、演算処理の基本的要素となっている\n",
    "    - コード内では、整数（1, 2, ...）は即値、浮動小数点（1.0, 1.1, ...）は数値リテラルと呼ばれる\n",
    "        - 即値と数値リテラルを合わせて数値プリミティブと呼ぶ\n",
    " \n",
    "#### 整数型\n",
    "型      | 符号の有無 | バイト数 | 最小値   | 最大値\n",
    ":--     |    :--     |   :--    |   :--    |   :--\n",
    "Int8    |     o      |     8    |   -2^7   |   2^7 - 1\n",
    "UInt8   |     x      |     8    |      0   |   2^8 - 1\n",
    "Int16   |     o      |    16    |  -2^15   |  2^15 - 1\n",
    "UInt16  |     x      |    16    |      0   |  2^16 - 1\n",
    "Int32   |     o      |    32    |  -2^31   |  2^31 - 1\n",
    "UInt32  |     x      |    32    |      0   |  2^32 - 1\n",
    "Int64   |     o      |    64    |  -2^63   |  2^63 - 1\n",
    "UInt64  |     x      |    64    |      0   |  2^64 - 1\n",
    "Int128  |     o      |   128    | -2^127   | 2^127 - 1\n",
    "UInt128 |\t  x      |   128    |      0   | 2^128 - 1\n",
    "Bool    |   N/A      |     8    | false(0) |  true(1)\n",
    "\n",
    "#### 浮動小数点\n",
    "型      |  精度  | バイト数 　　　　\n",
    ":--     |  :--   |  :--\n",
    "Float16 |  half\t |   16\n",
    "Float32 | single |   32\n",
    "Float64 | double |   64\n",
    "\n",
    "#### 特殊な浮動小数点値\n",
    "Float16 | Float32 | Float64 |    名称    |  概要\n",
    ":--     |  :--    |  :--    |    :--     |  :--\n",
    " Inf16  |  Inf32  |  Inf    | 正の無限大 | 全ての有限の浮動小数点値よりも大きい値\n",
    "-Inf16  | -Inf32  | -Inf    | 負の無限大 | 全ての有限の浮動小数点数値よりも小さい値\n",
    " NaN16  |  NaN32  |  NaN    |   非数値   | 浮動小数点値以外の値"
   ]
  },
  {
   "cell_type": "code",
   "execution_count": 7,
   "metadata": {},
   "outputs": [
    {
     "data": {
      "text/plain": [
       "Int64"
      ]
     },
     "execution_count": 7,
     "metadata": {},
     "output_type": "execute_result"
    }
   ],
   "source": [
    "# Systemが32bitか64bitか確認\n",
    "## -> Int32: 32bit, Int64: 64bit\n",
    "typeof(1)"
   ]
  },
  {
   "cell_type": "code",
   "execution_count": 8,
   "metadata": {},
   "outputs": [
    {
     "data": {
      "text/plain": [
       "64"
      ]
     },
     "execution_count": 8,
     "metadata": {},
     "output_type": "execute_result"
    }
   ],
   "source": [
    "# 内部変数 Sys.WORD_SIZE でも　System bit を判別できる\n",
    "Sys.WORD_SIZE"
   ]
  },
  {
   "cell_type": "code",
   "execution_count": 9,
   "metadata": {},
   "outputs": [
    {
     "name": "stdout",
     "output_type": "stream",
     "text": [
      "Int64\n",
      "UInt8\n",
      "UInt16\n",
      "2\n",
      "8\n"
     ]
    }
   ],
   "source": [
    "# 整数型いろいろ\n",
    "println(typeof(3000000000))\n",
    "println(typeof(0xff)) # 16進数 ff -> 10進数 255\n",
    "println(typeof(0x123)) # 16進数 123 -> 10進数 291\n",
    "\n",
    "# 2進数 10 -> 10進数 2\n",
    "println(0b10)\n",
    "\n",
    "# 8進数 10 -> 10進数 8\n",
    "println(0o10)"
   ]
  },
  {
   "cell_type": "code",
   "execution_count": 10,
   "metadata": {},
   "outputs": [
    {
     "name": "stdout",
     "output_type": "stream",
     "text": [
      "   Int8: 最小値=-128, 最大値=127\n",
      "  Int16: 最小値=-32768, 最大値=32767\n",
      "  Int32: 最小値=-2147483648, 最大値=2147483647\n",
      "  Int64: 最小値=-9223372036854775808, 最大値=9223372036854775807\n",
      " Int128: 最小値=-170141183460469231731687303715884105728, 最大値=170141183460469231731687303715884105727\n",
      "  UInt8: 最小値=0, 最大値=255\n",
      " UInt16: 最小値=0, 最大値=65535\n",
      " UInt32: 最小値=0, 最大値=4294967295\n",
      " UInt64: 最小値=0, 最大値=18446744073709551615\n",
      "UInt128: 最小値=0, 最大値=340282366920938463463374607431768211455\n"
     ]
    }
   ],
   "source": [
    "# 数値プリミティブ型の最小値、最大値を取得\n",
    "for T in [Int8, Int16, Int32, Int64, Int128, UInt8, UInt16, UInt32, UInt64, UInt128]\n",
    "    println(\"$(lpad(T, 7)): 最小値=$(typemin(T)), 最大値=$(typemax(T))\")\n",
    "end"
   ]
  },
  {
   "cell_type": "code",
   "execution_count": 11,
   "metadata": {},
   "outputs": [
    {
     "data": {
      "text/plain": [
       "(10000, 5.0e-9, 0xdeadbeef, 0xb2)"
      ]
     },
     "execution_count": 11,
     "metadata": {},
     "output_type": "execute_result"
    }
   ],
   "source": [
    "# アンダースコアは桁区切り文字として使用可能\n",
    "10_000, 0.000_000_005, 0xdead_beef, 0b1011_0010"
   ]
  },
  {
   "cell_type": "code",
   "execution_count": 12,
   "metadata": {},
   "outputs": [
    {
     "name": "stdout",
     "output_type": "stream",
     "text": [
      "true\n",
      "0000000000000000000000000000000000000000000000000000000000000000\n",
      "1000000000000000000000000000000000000000000000000000000000000000\n"
     ]
    }
   ],
   "source": [
    "# 浮動小数点には +0.0 と -0.0 がある\n",
    "## 2つは同一の値だが、異なるバイナリ表現をもつ（最上位ビットで正負を表現）\n",
    "println(+0.0 == -0.0)\n",
    "println(bitstring(+0.0))\n",
    "println(bitstring(-0.0))"
   ]
  },
  {
   "cell_type": "code",
   "execution_count": 13,
   "metadata": {},
   "outputs": [
    {
     "name": "stdout",
     "output_type": "stream",
     "text": [
      "0.0\n",
      "Inf\n",
      "-Inf\n",
      "NaN\n",
      "NaN"
     ]
    }
   ],
   "source": [
    "# 1÷無限 -> 0\n",
    "println(1 / Inf)\n",
    "\n",
    "# 1÷0 -> 無限\n",
    "println(1 / 0)\n",
    "\n",
    "# -5÷0 -> -無限\n",
    "println(-5 / 0)\n",
    "\n",
    "# 0÷0 -> 計算できない\n",
    "println(0 / 0)\n",
    "\n",
    "# 無限÷無限 -> 計算できない\n",
    "print(Inf / Inf)"
   ]
  },
  {
   "cell_type": "markdown",
   "metadata": {},
   "source": [
    "### 計算機イプシロン\n",
    "\n",
    "- **計算機イプシロン**\n",
    "    - 1より大きい最小の数と1との差のこと\n",
    "    - 実数の差は無限に小さいため、計算機では正確に表現できない\n",
    "        - -> 計算機で表現可能な最小の浮動小数点間の距離を計算機イプシロンとして表現する\n",
    "    - Juliaにおける計算機イプシロンは `eps` 関数で取得可能\n",
    "        - 32bit浮動小数点の計算機イプシロン: 2.0^-23 = 1.1920929e-7\n",
    "        - 64bit浮動小数点の計算機イプシロン: 2.0^-52 = 2.220446049250313e-16"
   ]
  },
  {
   "cell_type": "code",
   "execution_count": 14,
   "metadata": {},
   "outputs": [
    {
     "name": "stdout",
     "output_type": "stream",
     "text": [
      "1.1920929e-7\n",
      "2.220446049250313e-16\n"
     ]
    }
   ],
   "source": [
    "# Float32の計算機イプシロン\n",
    "println(eps(Float32))\n",
    "\n",
    "# Float64の計算機イプシロン\n",
    "println(eps(Float64))"
   ]
  },
  {
   "cell_type": "code",
   "execution_count": 15,
   "metadata": {},
   "outputs": [
    {
     "name": "stdout",
     "output_type": "stream",
     "text": [
      "1.2500001\n",
      "1.2499999\n"
     ]
    }
   ],
   "source": [
    "x = 1.25f0\n",
    "\n",
    "# 1.25より大きい最小の値を取得 -> 1.2500001\n",
    "println(nextfloat(x))\n",
    "\n",
    "# 1.25より小さい最大の値を取得 -> 1.2499999\n",
    "println(prevfloat(x))"
   ]
  },
  {
   "cell_type": "markdown",
   "metadata": {},
   "source": [
    "### 数値リテラル\n",
    "\n",
    "Juliaでは変数を使った乗算などを、より一般的な数式表現で記述することができる\n",
    "\n",
    "```julia\n",
    "1.5 * x^2 - 0.5 * x + 1\n",
    "==\n",
    "1.5x^2 - .5x + 1\n",
    "```"
   ]
  },
  {
   "cell_type": "code",
   "execution_count": 16,
   "metadata": {},
   "outputs": [
    {
     "data": {
      "text/plain": [
       "13.0"
      ]
     },
     "execution_count": 16,
     "metadata": {},
     "output_type": "execute_result"
    }
   ],
   "source": [
    "x = 3\n",
    "\n",
    "1.5 * x^2 - 0.5 * x + 1"
   ]
  },
  {
   "cell_type": "code",
   "execution_count": 17,
   "metadata": {},
   "outputs": [
    {
     "data": {
      "text/plain": [
       "13.0"
      ]
     },
     "execution_count": 17,
     "metadata": {},
     "output_type": "execute_result"
    }
   ],
   "source": [
    "1.5x^2 - .5x + 1"
   ]
  },
  {
   "cell_type": "code",
   "execution_count": 18,
   "metadata": {},
   "outputs": [
    {
     "data": {
      "text/plain": [
       "3"
      ]
     },
     "execution_count": 18,
     "metadata": {},
     "output_type": "execute_result"
    }
   ],
   "source": [
    "2(x - 1)^2 - 3(x - 1) + 1"
   ]
  },
  {
   "cell_type": "code",
   "execution_count": 19,
   "metadata": {},
   "outputs": [
    {
     "ename": "LoadError",
     "evalue": "MethodError: objects of type Int64 are not callable",
     "output_type": "error",
     "traceback": [
      "MethodError: objects of type Int64 are not callable",
      "",
      "Stacktrace:",
      " [1] top-level scope",
      "   @ In[19]:3",
      " [2] eval",
      "   @ .\\boot.jl:360 [inlined]",
      " [3] include_string(mapexpr::typeof(REPL.softscope), mod::Module, code::String, filename::String)",
      "   @ Base .\\loading.jl:1094"
     ]
    }
   ],
   "source": [
    "# ただし、乗算を示すためにカッコの前に変数やカッコ式を置くことはできない\n",
    "## <- カッコが後ろにある式は 関数 と解釈されるため\n",
    "x(x-1)(x+1)"
   ]
  },
  {
   "cell_type": "markdown",
   "metadata": {},
   "source": [
    "## 演算子\n",
    "\n",
    "### 算術演算子\n",
    "以下の算術演算子は全ての数値プリミティブ型でサポートされている\n",
    "\n",
    "式      |    名称    |   概要\n",
    ":--     |    :--     |   :--\n",
    "`+x`    | 単一項加法 | 恒等作用素\n",
    "`-x`    | 単一項減法 | 値を逆数と関連付ける\n",
    "`x + y` | 二項加法   | 加法を実施\n",
    "`x - y` | 二項減法   | 減法を実施\n",
    "`x * y` | 乗法       | 乗法を実施\n",
    "`x / y` | 除法       | 除法を実施 (`÷`でもOK)\n",
    "`x \\ y` | 逆数除法   | `y / x` と同等\n",
    "`x ^ y` | 累乗       | xをy分だけ掛ける\n",
    "`x % y` | 余り       | `rem(x,y)` と同等\n",
    "\n",
    "`Bool(@ref)`型の否定形についても同様\n",
    "\n",
    "式       | 名称   | 概要\n",
    ":--      | :--    | :--\n",
    "`!x`     | 否定形 | `true`を`false`に, `false`を`true`に変換する\n",
    "`x && y` |  AND   | x と y が両方`true`の場合に`true`として評価される\n",
    "`x｜｜y` |  OR    | x と y のいずれかが`true`の場合に`true`として評価される\n",
    "\n",
    "\n",
    "### ビット演算子\n",
    "以下のビット演算子は全ての数値プリミティブ型でサポートされている\n",
    "\n",
    "式        |    名称\n",
    ":--       |    :--\n",
    "`~x`      | ビット単位の否定\n",
    "`x & y`   | ビット単位の論理積\n",
    "`x｜y`    | ビット単位の論理和\n",
    "`x ⊻ y`   | ビット単位の排他的論理和（`xor`関数でもOK）\n",
    "`x >>> y` | 論理右桁送り\n",
    "`x >> y`  | 算術右桁送り\n",
    "`x << y`  | 論理/算術左桁送り\n",
    "\n",
    "### 更新演算子\n",
    "更新演算子: 変数の値を更新する演算子\n",
    "\n",
    "`<変数名> <演算子>'=' <値>` は `<変数名> '=' <変数名> <演算子> <値>` と等価\n",
    "\n",
    "更新機能を持つ演算子は以下の通り\n",
    "\n",
    "```\n",
    "+=  -=  *=  ÷=  /=  \\=  %=  ^=  &=  |=  ⊻=  >>>=  >>=  <<=\n",
    "```"
   ]
  },
  {
   "cell_type": "code",
   "execution_count": 20,
   "metadata": {},
   "outputs": [
    {
     "name": "stdout",
     "output_type": "stream",
     "text": [
      "6\n",
      "1\n"
     ]
    }
   ],
   "source": [
    "# (1 + 2) * 3 * 4 / 6 \n",
    "println((1 + 2) * 3 * 2^2 ÷ 6)\n",
    "\n",
    "# 余り\n",
    "## 9 % 2 = 1\n",
    "println(rem(9, 2))"
   ]
  },
  {
   "cell_type": "code",
   "execution_count": 21,
   "metadata": {},
   "outputs": [
    {
     "name": "stdout",
     "output_type": "stream",
     "text": [
      "[0, 0, 0, 1]\n",
      "[0, 1, 1, 1]\n",
      "[0, 1, 1, 0]\n"
     ]
    }
   ],
   "source": [
    "# ビット演算\n",
    "## AND: 1 & 1 のみ 1, それ以外は 0\n",
    "println([0 & 0, 0 & 1, 1 & 0, 1 & 1])\n",
    "\n",
    "## OR: 0 | 0 のみ 0, それ以外は 1\n",
    "println([0 | 0, 0 | 1, 1 | 0, 1 | 1])\n",
    "\n",
    "## XOR: 0と1の組み合わせのときのみ 1, 同一の組み合わせなら 0\n",
    "println([0 ⊻ 0, xor(0, 1), 1 ⊻ 0, xor(1, 1)])"
   ]
  },
  {
   "cell_type": "code",
   "execution_count": 22,
   "metadata": {},
   "outputs": [
    {
     "name": "stdout",
     "output_type": "stream",
     "text": [
      "1\n",
      "UInt8\n",
      "2\n",
      "Int64\n"
     ]
    }
   ],
   "source": [
    "# 更新機能を使うと変数の型が変わることがある\n",
    "\n",
    "# x = 1: UInt8\n",
    "x = 0x01\n",
    "println(x)\n",
    "println(typeof(x))\n",
    "\n",
    "# x = x * 2 = 2: Int64\n",
    "x *= 2\n",
    "println(x)\n",
    "println(typeof(x))"
   ]
  },
  {
   "cell_type": "code",
   "execution_count": 23,
   "metadata": {},
   "outputs": [
    {
     "data": {
      "text/plain": [
       "3-element Vector{Int64}:\n",
       "  1\n",
       "  8\n",
       " 27"
      ]
     },
     "execution_count": 23,
     "metadata": {},
     "output_type": "execute_result"
    }
   ],
   "source": [
    "# ドット演算子: ベクトル計算\n",
    "## 配列など、数値の固まりに対してドット演算子と算術演算子を適用すると\n",
    "## 固まりの各数値に対して算術演算を行うことができる\n",
    "\n",
    "# [1^3, 2^3, 3^3] = [1, 8, 27]\n",
    "[1, 2, 3] .^ 3"
   ]
  },
  {
   "cell_type": "markdown",
   "metadata": {},
   "source": [
    "### 比較演算子\n",
    "以下の比較演算子は全ての数値プリミティブ型でサポートされている\n",
    "\n",
    "演算子     |  名称\n",
    ":--        |  :--\n",
    "`==`       | 等しい\n",
    "`!=`, `≠` | 等しくない\n",
    "`<`        | より小さい\n",
    "`<=`, `≤` | より大きい\n",
    "`>`        | 以下\n",
    "`>=`, `≥` | 以上\n",
    "\n",
    "ハッシュ値の比較など、特別な値を比較するには比較演算子を使うことができないため、以下のような関数を使う\n",
    "\n",
    "関数            |   検証内容\n",
    ":--             |   :--\n",
    "`isequal(x, y)` | x および y は一致するか\n",
    "`isfinite(x)`   | x は有限数であるか\n",
    "`isinf(x)`      | x は無限であるか\n",
    "`isnan(x)`      | x は数字以外であるか"
   ]
  },
  {
   "cell_type": "code",
   "execution_count": 24,
   "metadata": {},
   "outputs": [
    {
     "name": "stdout",
     "output_type": "stream",
     "text": [
      "false\n",
      "true\n",
      "true\n",
      "true\n",
      "false\n",
      "false\n"
     ]
    }
   ],
   "source": [
    "println(1 == 2) # false\n",
    "println(1 != 2) # true\n",
    "println(1 == 1.0) # true\n",
    "println(-1 <= -1) # true\n",
    "println(-1 <= -2) # false\n",
    "println(3 < 0.5) # false"
   ]
  },
  {
   "cell_type": "code",
   "execution_count": 25,
   "metadata": {},
   "outputs": [
    {
     "name": "stdout",
     "output_type": "stream",
     "text": [
      "true\n",
      "false\n",
      "true\n"
     ]
    }
   ],
   "source": [
    "println(isequal(NaN, NaN)) # true\n",
    "println([1 NaN] == [1 NaN]) # false: 配列の比較を演算子で行うことはできない\n",
    "println(isequal([1 NaN], [1 NaN])) # true"
   ]
  },
  {
   "cell_type": "code",
   "execution_count": 26,
   "metadata": {},
   "outputs": [
    {
     "name": "stdout",
     "output_type": "stream",
     "text": [
      "true\n",
      "false\n"
     ]
    }
   ],
   "source": [
    "# 符号付き0を区別する際も isequal を使う\n",
    "println(-0.0 == 0.0) # true\n",
    "println(isequal(-0.0, 0.0)) # false"
   ]
  },
  {
   "cell_type": "code",
   "execution_count": 27,
   "metadata": {},
   "outputs": [
    {
     "data": {
      "text/plain": [
       "true"
      ]
     },
     "execution_count": 27,
     "metadata": {},
     "output_type": "execute_result"
    }
   ],
   "source": [
    "# 連続した比較を行うこともできる\n",
    "1 < 2 <= 3 > 2.5"
   ]
  },
  {
   "cell_type": "markdown",
   "metadata": {},
   "source": [
    "### 演算子の優先順位\n",
    "演算子の優先順位は高いものから順に以下のようになっている\n",
    "\n",
    "式           |                         演算子                         | 優先順位\n",
    ":--          |                         :--                            | :--\n",
    "構文         | `::` を伴う `.`                                        | 高い\n",
    "累乗         | `^`                                                    |\n",
    "分数         | `//`                                                   |\n",
    "乗法         | `* / % & \\`                                            |\n",
    "ビットシフト | `<< >> >>>`                                            |\n",
    "加法         | `+ - ｜ ⊻`                                            |\n",
    "構文         | `｜>`を伴う `: ..`                                     |\n",
    "比較         | `> < >= <= == === != !== <:`                           |\n",
    "制御フロー\t| `｜` および `?` を伴う `&&`                            |\n",
    "割り当て     |`= += -= *= /= //= \\= ^= ÷= %= ｜= &= ⊻= <<= >>= >>>=`| 低い"
   ]
  },
  {
   "cell_type": "markdown",
   "metadata": {},
   "source": [
    "### 数値処理関数\n",
    "\n",
    "#### 数値変換\n",
    "- `T(x)`, `convert(T, x)`:\n",
    "    - `x`を`T`型の値に変換する\n",
    "    - `T`が浮動小数点型の場合、変換の結果は最も近い表現可能な値になる\n",
    "    - `T`が整数型の場合、`x`が`T`で表現できない際は`InexactError`が発生する\n",
    "- `x % T`:\n",
    "    - 整数`x`を法とする `2^n` (`n`は`T`のビット数)に一致する整数型`T`の値に変換する\n",
    "\n",
    "#### 端数処理関数\n",
    "関数          |                 概要                 | 戻り値の型\n",
    ":--           |                 :--                  | :--\n",
    "`round(x)`    | x を最も近い整数になるよう丸めを行う | `typeof(x)`\n",
    "`round(T, x)` | x を最も近い整数になるよう丸めを行う | `T`\n",
    "`floor(x)`    | x を -Inf に向かって丸めを行う       | `typeof(x)`\n",
    "`floor(T, x)` | x を -Inf に向かって丸めを行う       | `T`\n",
    "`ceil(x)`     | x を +Inf に向かって丸めを行う       | `typeof(x)`\n",
    "`ceil(T, x)`  | x を +Inf に向かって丸めを行う       | `T`\n",
    "`trunc(x)`    | x を0に向かって丸めを行う            | `typeof(x)`\n",
    "`trunc(T, x)` | x を0に向かって丸めを行う            | `T`\n",
    "\n",
    "#### 除算関数\n",
    "関数        |   概要\n",
    ":--         |   :--\n",
    "`div(x,y)`  | 0に向かって丸めを行う除算\n",
    "`fld(x,y)`  | 床関数のように -Inf に向かって丸めを行う除算\n",
    "`cld(x,y)`  | 天井関数のように +Inf に向かって丸めを行う除算\n",
    "`rem(x,y)`  | 余り; `x == div(x,y)*y + rem(x,y)` を満たす; 記号は x と一致\n",
    "`mod(x,y)`  | 剰余演算; `x == fld(x,y)*y + mod(x,y)` を満たす; 記号は y と一致\n",
    "`mod1(x,y)` | オフセットが1の`mod()`\n",
    "\n",
    "#### 符号と絶対値関数\n",
    "関数            | 概要\n",
    ":--             | :--\n",
    "`abs(x)`        | 絶対値 x の正の値\n",
    "`abs2(x)`       | 絶対値 x の2乗\n",
    "`sign(x)`       | x の符号を示し、 -1、 0、 または +1を返す\n",
    "`signbit(x)`    | 符号ビットがオン（true）またはオフ（false）であるかを示す\n",
    "`copysign(x,y)` | 絶対値 x と符号 y を持つ値\n",
    "`flipsign(x,y)` | 絶対値 x と符号 x*y を持つ値\n",
    "\n",
    "#### 累乗、対数、根\n",
    "関数             | 概要\n",
    ":--              | :--\n",
    "`sqrt(x)`, `√x` | x の平方根\n",
    "`cbrt(x)`, `∛x`  | x の立方根\n",
    "`hypot(x,y)`     | 長さ x および y をその他の辺に持つ直角三角形の斜辺\n",
    "`exp(x)`         | x における自然指数関数\n",
    "`expm1(x)`       | 0に近い x の正確な `exp(x)-1` の結果\n",
    "`ldexp(x,n)`     | n の整数値に対して効率的に計算された `x*2^n`\n",
    "`log(x)`         | x の自然対数\n",
    "`log(b,x)`       | b を底とした x の対数\n",
    "`log2(x)`        | 2を底とした x の対数\n",
    "`log10(x)`       | 10を底とした x の対数\n",
    "`log1p(x)`       | 0に近い x の正確な `log(1+x)` の結果\n",
    "`exponent(x)`    | x の2進指数\n",
    "`significand(x)` | 浮動小数点数 x の2進仮数\n",
    "\n",
    "#### 三角関数と双曲線関数\n",
    "以下はラジアン単位の引数をとる三角関数、双曲線関数\n",
    "\n",
    "```\n",
    "sin    cos    tan    cot    sec    csc\n",
    "sinh   cosh   tanh   coth   sech   csch\n",
    "asin   acos   atan   acot   asec   acsc\n",
    "asinh  acosh  atanh  acoth  asech  acsch\n",
    "sinc   cosc   atan2\n",
    "```\n",
    "\n",
    "ラジアンではなく角度で三角関数を計算するためには、 `d`を関数の末尾に付与する\n",
    "\n",
    "```\n",
    "sind   cosd   tand   cotd   secd   cscd\n",
    "asind  acosd  atand  acotd  asecd  acscd\n",
    "```\n",
    "\n",
    "#### 特殊な関数\n",
    "関数         |    概要\n",
    ":--          |    :--\n",
    "`gamma(x)`   | x における ガンマ関数\n",
    "`lgamma(x)`  | 大きな値 x における `log(gamma(x))`\n",
    "`lfact(x)`   | 大きな値 x における `log(factorial(x))`\n",
    "`beta(x,y)`  | x, y における ベータ関数\n",
    "`lbeta(x,y)` | 大きな値 x または y における正確な `log(beta(x,y))`"
   ]
  },
  {
   "cell_type": "code",
   "execution_count": 28,
   "metadata": {},
   "outputs": [
    {
     "name": "stdout",
     "output_type": "stream",
     "text": [
      "Int64 => String\n"
     ]
    }
   ],
   "source": [
    "# 数値を文字列に変換\n",
    "println(typeof(100), \" => \", typeof(string(100)))"
   ]
  },
  {
   "cell_type": "code",
   "execution_count": 29,
   "metadata": {},
   "outputs": [
    {
     "ename": "LoadError",
     "evalue": "InexactError: Int64(3.1415)",
     "output_type": "error",
     "traceback": [
      "InexactError: Int64(3.1415)",
      "",
      "Stacktrace:",
      " [1] Int64",
      "   @ .\\float.jl:723 [inlined]",
      " [2] convert(#unused#::Type{Int64}, x::Float64)",
      "   @ Base .\\number.jl:7",
      " [3] top-level scope",
      "   @ In[29]:3",
      " [4] eval",
      "   @ .\\boot.jl:360 [inlined]",
      " [5] include_string(mapexpr::typeof(REPL.softscope), mod::Module, code::String, filename::String)",
      "   @ Base .\\loading.jl:1094"
     ]
    }
   ],
   "source": [
    "# 浮動小数点を整数に変換\n",
    "# => 整数型で表現できない場合、エラーが発生する\n",
    "println(convert(Int, 3.1415))"
   ]
  },
  {
   "cell_type": "code",
   "execution_count": 30,
   "metadata": {},
   "outputs": [
    {
     "name": "stdout",
     "output_type": "stream",
     "text": [
      "1.0\n"
     ]
    }
   ],
   "source": [
    "# sin(θ)^2 + cos(θ)^2 = 1\n",
    "println(sin(10)^2 + cos(10)^2)"
   ]
  },
  {
   "cell_type": "code",
   "execution_count": 31,
   "metadata": {},
   "outputs": [
    {
     "name": "stdout",
     "output_type": "stream",
     "text": [
      "[1, 2, 3, 4, 5]\n"
     ]
    }
   ],
   "source": [
    "# ドット演算子（ベクトル計算）は数値処理関数に対しても適用可能\n",
    "\n",
    "# abs.([-1, -2, 3, 4, -5]) => [abs(-1), abs(-2), abs(3), abs(4), abs(-5)]\n",
    "println(abs.([-1, -2, 3, 4, -5]))"
   ]
  },
  {
   "cell_type": "code",
   "execution_count": null,
   "metadata": {},
   "outputs": [],
   "source": []
  }
 ],
 "metadata": {
  "kernelspec": {
   "display_name": "Julia 1.6.1",
   "language": "julia",
   "name": "julia-1.6"
  },
  "language_info": {
   "file_extension": ".jl",
   "mimetype": "application/julia",
   "name": "julia",
   "version": "1.6.1"
  }
 },
 "nbformat": 4,
 "nbformat_minor": 4
}
