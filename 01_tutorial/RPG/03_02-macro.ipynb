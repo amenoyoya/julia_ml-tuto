{
 "cells": [
  {
   "cell_type": "markdown",
   "metadata": {},
   "source": [
    "# Julia言語で入門するプログラミング（おまけ）\n",
    "\n",
    "## 構造体の再定義\n",
    "\n",
    "Julia には無名構造体の構文が存在しないため、構造体を定義した場合、その構造体名は固定シンボルとなり、再定義ができない\n",
    "\n",
    "もし無名構造体を定義可能なのであれば、以下のような形で、変数に無名構造体を束縛することで構造体の再定義のようなことが実現可能だった\n",
    "\n",
    "```julia\n",
    "# もし無名構造体を宣言できるなら・・・\n",
    "キャラクター = struct\n",
    "    HP::Int\n",
    "end\n",
    "\n",
    "# 変数に無名構造体を束縛すれば良いだけなので、構造体の再定義のようなことが実現可能\n",
    "キャラクター = struct\n",
    "    名前::String\n",
    "    HP::Int\n",
    "end\n",
    "```\n",
    "\n",
    "しかし、実際には無名構造体の宣言ができないため、上記のような書き方はできない\n",
    "\n",
    "前回は、構造体の再定義を行うために、module を使ったトリックを使った\n",
    "\n",
    "module は再定義可能（同名の module を定義した場合、古い module は上書きされる）のため、module ごと置換して構造体の再定義を行ってしまおうというアイディアである\n",
    "\n",
    "```julia\n",
    "# RPG モジュールの中で キャラクター 構造体を定義\n",
    "module RPG\n",
    "    struct キャラクター\n",
    "        HP::Int\n",
    "    end\n",
    "end\n",
    "\n",
    "# RPG モジュールを再定義\n",
    "## => 前に定義していた RPG モジュールは消える\n",
    "## => RPG モジュール内の キャラクター 構造体を再定義可能\n",
    "module RPG\n",
    "    struct キャラクター\n",
    "        名前::String\n",
    "        HP::Int\n",
    "    end\n",
    "end\n",
    "```\n",
    "\n",
    "しかし、これは module の本来の使い方ではないし、module 内に使いまわししたい関数や変数が存在した場合、取り回ししづらい\n",
    "\n",
    "（module の再定義を行った場合、module 内の定義はすべて消えてしまうため、使いまわししたい関数や変数は一度別の変数に退避して、再定義した module 内に import しなおさなければならない）\n",
    "\n",
    "そこで今回は、別のアイディアとして「適当な名前の構造体を一時定義して、使いたい名前の変数に束縛する」という形で、構造体の再定義を実現してみる"
   ]
  },
  {
   "cell_type": "code",
   "execution_count": 2,
   "metadata": {},
   "outputs": [
    {
     "name": "stdout",
     "output_type": "stream",
     "text": [
      "_キャラクター構造体1\n",
      "  HP: Int64 10\n"
     ]
    }
   ],
   "source": [
    "# 適当な名前で構造体を定義\n",
    "struct _キャラクター構造体1\n",
    "    HP::Int\n",
    "end\n",
    "\n",
    "# 定義した _キャラクター構造体1 を キャラクター 変数に束縛\n",
    "キャラクター = _キャラクター構造体1\n",
    "\n",
    "# キャラクター 変数は構造体として利用可能\n",
    "勇者 = キャラクター(10)\n",
    "dump(勇者)"
   ]
  },
  {
   "cell_type": "code",
   "execution_count": 3,
   "metadata": {},
   "outputs": [
    {
     "name": "stdout",
     "output_type": "stream",
     "text": [
      "_キャラクター構造体2\n",
      "  名前: String \"勇者\"\n",
      "  HP: Int64 10\n"
     ]
    }
   ],
   "source": [
    "# 別の適当な名前で構造体を定義\n",
    "struct _キャラクター構造体2\n",
    "    名前::String\n",
    "    HP::Int\n",
    "end\n",
    "\n",
    "# 定義した _キャラクター構造体2 を キャラクター 変数に束縛\n",
    "キャラクター = _キャラクター構造体2\n",
    "\n",
    "# => これで キャラクター 構造体を再定義したような形になる\n",
    "\n",
    "勇者 = キャラクター(\"勇者\", 10)\n",
    "dump(勇者)"
   ]
  },
  {
   "cell_type": "markdown",
   "metadata": {},
   "source": [
    "## メタプログラミング\n",
    "\n",
    "上記のような書き方で構造体の再定義を行う場合、「適当な名前で構造体を定義する」という操作は、できれば Julia 自身にやってもらい自分で記述しなくても良いようにしたい\n",
    "\n",
    "こういった場合のために、Julia には **メタプログラミング** のための構文が用意されている\n",
    "\n",
    "すなわち「Julia が実行可能なコードを Julia 自身に生成させる」ための仕組みである\n",
    "\n",
    "### Julia がコードを実行する仕組み\n",
    "Julia に関わらず、すべてのプログラミング言語において、コードは文字列として表現される\n",
    "\n",
    "この文字列が解析されて抽象構文木（AST）に分解され、さらにそれがコンピュータの命令文として解釈され、コードが実行される\n",
    "\n",
    "この「文字列を AST に分解する」ための仕組みとして、Julia には `Meta.parse` 関数が提供されている"
   ]
  },
  {
   "cell_type": "code",
   "execution_count": 4,
   "metadata": {},
   "outputs": [
    {
     "name": "stdout",
     "output_type": "stream",
     "text": [
      "Expr\n",
      "  head: Symbol =\n",
      "  args: Array{Any}((2,))\n",
      "    1: Symbol a\n",
      "    2: Expr\n",
      "      head: Symbol call\n",
      "      args: Array{Any}((3,))\n",
      "        1: Symbol +\n",
      "        2: Int64 1\n",
      "        3: Int64 10\n"
     ]
    }
   ],
   "source": [
    "# コード: `a = 1 + 10`\n",
    "code = \"a = 1 + 10\"\n",
    "\n",
    "# コード => AST に分解\n",
    "## Julia では AST は `Expr` オブジェクトとして定義されている\n",
    "ast = Meta.parse(code)\n",
    "dump(ast)"
   ]
  },
  {
   "cell_type": "markdown",
   "metadata": {},
   "source": [
    "上記のように、コードの文字列はまず AST (`Expr` オブジェクト) に分解される\n",
    "\n",
    "さらにこれを「コンピュータの命令文として解釈する」（＝コードを実行する）ための仕組みとして、Julia には `eval` 関数が提供されている"
   ]
  },
  {
   "cell_type": "code",
   "execution_count": 5,
   "metadata": {},
   "outputs": [
    {
     "data": {
      "text/plain": [
       "11"
      ]
     },
     "execution_count": 5,
     "metadata": {},
     "output_type": "execute_result"
    }
   ],
   "source": [
    "# AST を解釈して実行する\n",
    "## => a = 1 + 10 が実行される\n",
    "eval(ast)"
   ]
  },
  {
   "cell_type": "code",
   "execution_count": 6,
   "metadata": {},
   "outputs": [
    {
     "data": {
      "text/plain": [
       "11"
      ]
     },
     "execution_count": 6,
     "metadata": {},
     "output_type": "execute_result"
    }
   ],
   "source": [
    "# a = 1 + 10 が実行されたため、変数 a が生成されて、その値として 1 + 10 = 11 が束縛されている\n",
    "a"
   ]
  },
  {
   "cell_type": "markdown",
   "metadata": {},
   "source": [
    "### マクロ\n",
    "上記のような流れでコードの分解・実行が行われるわけだが、この一連の流れをまとめて定義するための仕組みとして **マクロ** 機能がある\n",
    "\n",
    "マクロは、AST を作成する関数のようなものであり、以下のような形で定義する\n",
    "\n",
    "```julia\n",
    "macro マクロ名(マクロに渡す引数...)\n",
    "    # AST 作成 = Expr オブジェクトの構築\n",
    "    # 構築した Expr オブジェクトを返す\n",
    "end\n",
    "```\n",
    "\n",
    "これを使うと、「適当な名前で構造体を定義する」という操作（AST の作成）を実現することができる\n",
    "\n",
    "「適当な名前」を生成するための関数として `gensym` 関数があるため、これを使うと以下のように書ける"
   ]
  },
  {
   "cell_type": "code",
   "execution_count": 12,
   "metadata": {},
   "outputs": [],
   "source": [
    "macro structure()\n",
    "    # 適当な名前を生成\n",
    "    一時的な構造体の名前 = gensym()\n",
    "\n",
    "    # 構造体定義の Expr オブジェクトを返す\n",
    "    :(\n",
    "        struct $一時的な構造体の名前\n",
    "            HP::Int\n",
    "        end\n",
    "    )\n",
    "end\n",
    "\n",
    "# マクロ呼び出しは `@マクロ名` で行う\n",
    "## => マクロが構築した Expr オブジェクトに対して eval 関数が呼び出されて実行される\n",
    "@structure\n",
    "\n",
    "#=> 分かりにくいが、以下のような構造体宣言が実行されている\n",
    "\n",
    "# ※ Julia においてすべての「名前」は var\"##XXX\" という形で管理されており、XXX には任意の番号が振られている\n",
    "struct var\"##XXX\"\n",
    "    HP::Int\n",
    "end \n",
    "\n",
    "=#"
   ]
  },
  {
   "cell_type": "markdown",
   "metadata": {},
   "source": [
    "なお、Expr オブジェクト内で変数を参照したい場合は `$変数名` と記述する（**引用**）\n",
    "\n",
    "これは、文字列に変数を埋め込む場合と同じ感覚で考えておいて概ね問題ない\n",
    "\n",
    "#### 複数の式を構築する\n",
    "上記で「適当な名前で構造体を定義する」ことは実現できた\n",
    "\n",
    "しかし、今回行いたいことは「適当な名前で構造体を定義して、変数に束縛する」という操作である\n",
    "\n",
    "すなわち、2つの式を1つの式にまとめる必要がある\n",
    "\n",
    "これを実現する前に、`Expr` の構造を知っておく必要がある\n",
    "\n",
    "`Expr` は `head::Symbol` と `args::Array{Any}` の2つの部分で構成されており、`head` 部分はその式の種類を表している\n",
    "\n",
    "例えば、`a = 1` という式の場合の `head` は `=` というシンボルになり、`function f(x) x + 1 end` という式の場合の `head` は `function` というシンボルになる\n",
    "\n",
    "複数の式をまとめる役割をもつ式としては、`block` や `toplevel` などがあり、これらの種類の Expr オブジェクトを使うことで、複数の式をまとめることができる\n",
    "\n",
    "今回の場合、「変数に束縛する」際の変数はトップレベル変数（実行したスコープ内で参照可能な変数）であって欲しいため、`toplevel` 式を使うことになる"
   ]
  },
  {
   "cell_type": "code",
   "execution_count": 14,
   "metadata": {},
   "outputs": [
    {
     "data": {
      "text/plain": [
       "var\"##295\""
      ]
     },
     "execution_count": 14,
     "metadata": {},
     "output_type": "execute_result"
    }
   ],
   "source": [
    "\"\"\"\n",
    "以下のようなコードを生成・実行するマクロ\n",
    "\n",
    "```\n",
    "struct var\"##XXX\"\n",
    "    HP::Int\n",
    "end\n",
    "\n",
    "キャラクター = var\"##XXX\"\n",
    "```\n",
    "\"\"\"\n",
    "macro structure()\n",
    "    一時的な構造体の名前 = gensym()\n",
    "\n",
    "    Expr(:toplevel,\n",
    "        :(\n",
    "            struct $一時的な構造体の名前\n",
    "                HP::Int\n",
    "            end\n",
    "        ),\n",
    "        :(\n",
    "            キャラクター = $一時的な構造体の名前\n",
    "        )\n",
    "    ) |> eval # トップレベルコードとして実行したい場合は、その場で即座に eval を実行する必要がある\n",
    "end\n",
    "\n",
    "# コード生成・実行\n",
    "@structure\n",
    "\n",
    "# => キャラクター 変数に struct var\"##XXX\" が束縛されているはず\n",
    "キャラクター"
   ]
  },
  {
   "cell_type": "code",
   "execution_count": 15,
   "metadata": {},
   "outputs": [
    {
     "name": "stdout",
     "output_type": "stream",
     "text": [
      "var\"##295\"\n",
      "  HP: Int64 100\n"
     ]
    }
   ],
   "source": [
    "キャラクター(100) |> dump"
   ]
  },
  {
   "cell_type": "markdown",
   "metadata": {},
   "source": [
    "#### マクロ引数\n",
    "今のままでは、変数名や構造体の構造等が固定されていて、いまいち使えない\n",
    "\n",
    "そのため、マクロに引数に変数名や構造体の構造等を渡せるように変更する\n",
    "\n",
    "今回は、以下のような形でマクロを実行できるように設計する\n",
    "\n",
    "```julia\n",
    "\"\"\"\n",
    "マクロ実行時の引数は通常の関数と同じように @マクロ(引数1, 引数2, ...) という形でも書けるが、スペース区切りで書くこともできる\n",
    "以下の書き方の場合は\n",
    "\n",
    "@structure(構造体を束縛する変数名, begin\n",
    "    名前::String\n",
    "    HP::Int\n",
    "    攻撃力::Int\n",
    "    防御力::Int\n",
    "end)\n",
    "\n",
    "と書いているのと同等\n",
    "\"\"\"\n",
    "\n",
    "@structure 構造体を束縛する変数名 begin\n",
    "    # 構造体の構造\n",
    "    名前::String\n",
    "    HP::Int\n",
    "    攻撃力::Int\n",
    "    防御力::Int\n",
    "end\n",
    "\n",
    "\"\"\"\n",
    "=> 上記マクロの実行結果が、以下のコードの実行結果と同一になるようにする\n",
    "\n",
    "struct var\"##XXX\"\n",
    "    名前::String\n",
    "    HP::Int\n",
    "    攻撃力::Int\n",
    "    防御力::Int\n",
    "end\n",
    "\n",
    "構造体を束縛する変数名 = var\"##XXX\"\n",
    "\"\"\"\n",
    "```"
   ]
  },
  {
   "cell_type": "code",
   "execution_count": 8,
   "metadata": {},
   "outputs": [
    {
     "name": "stdout",
     "output_type": "stream",
     "text": [
      "var\"##298\" <: Any\n",
      "  名前::String\n",
      "  HP::Int64\n",
      "  攻撃力::Int64\n",
      "  防御力::Int64\n"
     ]
    }
   ],
   "source": [
    "macro structure(構造体を束縛する変数名, 構造体定義)\n",
    "    一時的な構造体の名前 = gensym()\n",
    "\n",
    "    Expr(:toplevel,\n",
    "        # 構造体定義の式は Expr(:struct, is_mutable::Bool, 構造体名::Symbol, 内部構造::Expr) で定義される\n",
    "        # 構造体内部構造の式は Expr(:block, 内部構造式::Array{Expr}) で定義される\n",
    "        # 引数.構造体定義は begin ... end 式を想定しているため Expr(:block, Array{Expr}(...))\n",
    "        ## => 構造体内部構造の式として 引数.構造体定義 をそのまま渡せば構造体定義できる\n",
    "        Expr(:struct, false, 一時的な構造体の名前, 構造体定義),\n",
    "\n",
    "        # 構造体を束縛する変数名 に 一時的な構造体 として定義した構造体を束縛する式\n",
    "        :(\n",
    "            $構造体を束縛する変数名 = $一時的な構造体の名前\n",
    "        )\n",
    "    ) |> eval # トップレベルコードとしてその場で即座に eval を実行\n",
    "end\n",
    "\n",
    "# キャラクター 変数に構造体定義を束縛\n",
    "@structure キャラクター begin\n",
    "    名前::String\n",
    "    HP::Int\n",
    "    攻撃力::Int\n",
    "    防御力::Int\n",
    "end\n",
    "\n",
    "#=> キャラクター 変数に\n",
    "    struct var\"##XXX\"\n",
    "        名前::String\n",
    "        HP::Int\n",
    "        攻撃力::Int\n",
    "        防御力::Int\n",
    "    end\n",
    "が束縛されているはず\n",
    "=#\n",
    "dump(キャラクター)"
   ]
  },
  {
   "cell_type": "code",
   "execution_count": 9,
   "metadata": {},
   "outputs": [
    {
     "name": "stdout",
     "output_type": "stream",
     "text": [
      "var\"##298\"\n",
      "  名前: String \"勇者\"\n",
      "  HP: Int64 30\n",
      "  攻撃力: Int64 20\n",
      "  防御力: Int64 10\n"
     ]
    }
   ],
   "source": [
    "キャラクター(\"勇者\", 30, 20, 10) |> dump"
   ]
  },
  {
   "cell_type": "markdown",
   "metadata": {},
   "source": [
    "## デフォルトパラメータ付き構造体\n",
    "\n",
    "ここまでで一通り、再定義可能な構造体を宣言するマクロは出来上がった\n",
    "\n",
    "ここからは、さらに一歩進んでマクロの完成度を上げていく\n",
    "\n",
    "Julia の構造体は、基本的に宣言時点ではメンバ変数に値を設定することはできない\n",
    "\n",
    "しかし、`Base.@kwdef` マクロを利用すると、以下のようにメンバ変数のデフォルト値を設定することができる\n",
    "\n",
    "```julia\n",
    "Base.@kwdef struct キャラクター\n",
    "    名前::String = \"勇者\"\n",
    "    HP::Int = 30\n",
    "    攻撃力::Int = 10\n",
    "    防御力::Int = 10\n",
    "end\n",
    "\n",
    "キャラクター()\n",
    "\n",
    "#=> struct キャラクター\n",
    "  名前: String \"勇者\"\n",
    "  HP: Int64 30\n",
    "  攻撃力: Int64 10\n",
    "  防御力: Int64 10\n",
    "=#\n",
    "```\n",
    "\n",
    "ここまで作ってきた `@structure` マクロを、このデフォルトパラメータ付き構造体の宣言に対応させてみる\n",
    "\n",
    "まずは、デフォルトパラメータ付き構造体の宣言式の Expr オブジェクトの構造を確認する"
   ]
  },
  {
   "cell_type": "code",
   "execution_count": 11,
   "metadata": {},
   "outputs": [
    {
     "name": "stdout",
     "output_type": "stream",
     "text": [
      "Expr\n",
      "  head: Symbol macrocall\n",
      "  args: Array{Any}((3,))\n",
      "    1: Expr\n",
      "      head: Symbol .\n",
      "      args: Array{Any}((2,))\n",
      "        1: Symbol Base\n",
      "        2: QuoteNode\n",
      "          value: Symbol @kwdef\n",
      "    2: LineNumberNode\n",
      "      line: Int64 2\n",
      "      file: Symbol In[11]\n",
      "    3: Expr\n",
      "      head: Symbol struct\n",
      "      args: Array{Any}((3,))\n",
      "        1: Bool false\n",
      "        2: Symbol キャラクター\n",
      "        3: Expr\n",
      "          head: Symbol block\n",
      "          args: Array{Any}((2,))\n",
      "            1: LineNumberNode\n",
      "              line: Int64 3\n",
      "              file: Symbol In[11]\n",
      "            2: Expr\n",
      "              head: Symbol =\n",
      "              args: Array{Any}((2,))\n",
      "                1: Expr\n",
      "                2: String \"勇者\"\n"
     ]
    }
   ],
   "source": [
    ":(\n",
    "    Base.@kwdef struct キャラクター\n",
    "        名前::String = \"勇者\"\n",
    "    end\n",
    ") |> dump"
   ]
  },
  {
   "cell_type": "markdown",
   "metadata": {},
   "source": [
    "上記の通り、なかなか複雑な Expr オブジェクトになっている\n",
    "\n",
    "こういった場合は、Expr オブジェクトを直接記述することに固執せず、プログラムコードの文字列から `Meta.parse` 関数を通して Expr オブジェクトを作ることを考えたほうがシンプルに書ける\n",
    "\n",
    "ただし、`Meta.parse` 関数が分解できるのは1つの式のみであるため、複数の式を記述したい場合は `;` で区切って一行で書く必要がある\n",
    "\n",
    "また、`gensym()` で生成した任意シンボルは、文字列化すると `var\"##XXX\"` ではなく、シンボルID `##XXX` の形に変換されることに注意する"
   ]
  },
  {
   "cell_type": "code",
   "execution_count": 1,
   "metadata": {},
   "outputs": [
    {
     "data": {
      "text/plain": [
       ":($(Expr(:toplevel, :(\u001b[90m#= none:1 =#\u001b[39m Base.@kwdef struct var\"##291\"\n",
       "          \u001b[90m#= none:1 =#\u001b[39m\n",
       "          HP::Int = 100\n",
       "      end), :(キャラクター = var\"##291\"))))"
      ]
     },
     "execution_count": 1,
     "metadata": {},
     "output_type": "execute_result"
    }
   ],
   "source": [
    "#=\n",
    "```\n",
    "Base.@kwdef struct var\"##XXX\"\n",
    "    HP::Int = 100\n",
    "end\n",
    "\n",
    "キャラクター = var\"##XXX\"\n",
    "```\n",
    "\n",
    "のようなコードの Expr オブジェクトを生成したい場合\n",
    "=#\n",
    "sym = gensym()\n",
    "Meta.parse(\"Base.@kwdef struct var\\\"$sym\\\" HP::Int = 100 end; キャラクター = var\\\"$sym\\\"\")"
   ]
  },
  {
   "cell_type": "code",
   "execution_count": 2,
   "metadata": {},
   "outputs": [
    {
     "name": "stdout",
     "output_type": "stream",
     "text": [
      "var\"##292\"\n",
      "  名前: String \"勇者\"\n",
      "  HP: Int64 30\n",
      "  攻撃力: Int64 20\n",
      "  防御力: Int64 10\n"
     ]
    }
   ],
   "source": [
    "\"\"\"\n",
    "再定義可能なデフォルトパラメータ付き構造体を定義するマクロ\n",
    "\n",
    "```\n",
    "@structure キャラクター begin\n",
    "    名前::String = \"勇者\"\n",
    "    HP::Int = 100\n",
    "end\n",
    "\n",
    "#=> 以下のコードに展開されて実行される\n",
    "Base.@kwdef struct var\"##XXX\"\n",
    "    名前::String = \"勇者\"\n",
    "    HP::Int = 100\n",
    "end\n",
    "キャラクター = var\"##XXX\"\n",
    "=#\n",
    "```\n",
    "\"\"\"\n",
    "macro structure(構造体を束縛する変数名, 構造体定義)\n",
    "    一時的な構造体の名前 = \"var\\\"$(gensym())\\\"\"\n",
    "\n",
    "    # 引数.構造体定義 は begin ... end ブロック式が渡されることを想定\n",
    "    ## => ブロック内部の式を `;` 区切りのプログラムコード文字列に変換\n",
    "    構造体内部コード = join(構造体定義.args, \";\")\n",
    "\n",
    "    # プログラムコード文字列から Expr 生成\n",
    "    Meta.parse(\n",
    "        \"Base.@kwdef struct $一時的な構造体の名前 $構造体内部コード end; $構造体を束縛する変数名 = $一時的な構造体の名前\"\n",
    "    ) |> eval # トップレベルコードとしてその場で即座に eval を実行\n",
    "end\n",
    "\n",
    "# キャラクター 変数に構造体定義を束縛\n",
    "@structure キャラクター begin\n",
    "    名前::String = \"勇者\"\n",
    "    HP::Int = 30\n",
    "    攻撃力::Int = 20\n",
    "    防御力::Int = 10\n",
    "end\n",
    "\n",
    "キャラクター() |> dump"
   ]
  },
  {
   "cell_type": "markdown",
   "metadata": {},
   "source": [
    "### マクロ引数を構造体宣言式に変更\n",
    "最後に、可変構造体 (mutable struct) も普通の構造体 (struct) も同じように書けるようにマクロ定義を思い切って変えてしまう\n",
    "\n",
    "すなわち、マクロ呼び出しを以下のように書けるようにしたい\n",
    "\n",
    "```julia\n",
    "# 再定義可能な struct\n",
    "@restruct struct キャラクター\n",
    "    HP::Int = 100\n",
    "end\n",
    "\n",
    "#=> 以下のように展開される\n",
    "Base.@kwdef struct var\"##XXX\"\n",
    "    HP::Int = 100\n",
    "end\n",
    "キャラクター = var\"##XXX\"\n",
    "=#\n",
    "\n",
    "\n",
    "# 再定義可能な mutable struct\n",
    "@restruct mutable struct キャラクター\n",
    "    HP::Int = 100\n",
    "end\n",
    "\n",
    "#=> 以下のように展開される\n",
    "Base.@kwdef mutable struct var\"##XXX\"\n",
    "    HP::Int = 100\n",
    "end\n",
    "キャラクター = var\"##XXX\"\n",
    "=#\n",
    "```\n",
    "\n",
    "これを実現するためには、マクロの引数を構造体宣言式にした上で、その式を分解 => 再構築する必要がある\n",
    "\n",
    "改めて、構造体宣言式の Expr オブジェクトの中身を確認しておく"
   ]
  },
  {
   "cell_type": "code",
   "execution_count": 6,
   "metadata": {},
   "outputs": [
    {
     "name": "stdout",
     "output_type": "stream",
     "text": [
      "Expr\n",
      "  head: Symbol struct\n",
      "  args: Array{Any}((3,))\n",
      "    1: Bool false\n",
      "    2: Symbol キャラクター\n",
      "    3: Expr\n",
      "      head: Symbol block\n",
      "      args: Array{Any}((2,))\n",
      "        1: LineNumberNode\n",
      "          line: Int64 1\n",
      "          file: Symbol In[6]\n",
      "        2: Expr\n",
      "          head: Symbol =\n",
      "          args: Array{Any}((2,))\n",
      "            1: Expr\n",
      "              head: Symbol ::\n",
      "              args: Array{Any}((2,))\n",
      "                1: Symbol HP\n",
      "                2: Symbol Int\n",
      "            2: Int64 100\n"
     ]
    }
   ],
   "source": [
    ":(struct キャラクター HP::Int = 100 end) |> dump"
   ]
  },
  {
   "cell_type": "code",
   "execution_count": 7,
   "metadata": {},
   "outputs": [
    {
     "name": "stdout",
     "output_type": "stream",
     "text": [
      "Expr\n",
      "  head: Symbol struct\n",
      "  args: Array{Any}((3,))\n",
      "    1: Bool true\n",
      "    2: Symbol キャラクター\n",
      "    3: Expr\n",
      "      head: Symbol block\n",
      "      args: Array{Any}((2,))\n",
      "        1: LineNumberNode\n",
      "          line: Int64 1\n",
      "          file: Symbol In[7]\n",
      "        2: Expr\n",
      "          head: Symbol =\n",
      "          args: Array{Any}((2,))\n",
      "            1: Expr\n",
      "              head: Symbol ::\n",
      "              args: Array{Any}((2,))\n",
      "                1: Symbol HP\n",
      "                2: Symbol Int\n",
      "            2: Int64 100\n"
     ]
    }
   ],
   "source": [
    ":(mutable struct キャラクター HP::Int = 100 end) |> dump"
   ]
  },
  {
   "cell_type": "markdown",
   "metadata": {},
   "source": [
    "すなわち、マクロ引数に渡されてくる構造体宣言式は\n",
    "\n",
    "```julia\n",
    "Expr(:struct, is_mutable::Bool, 構造体名::Symbol, 構造体内部構造::Expr)\n",
    "```\n",
    "\n",
    "である\n",
    "\n",
    "これをうまく分解して、求めるプログラムコードに変換すれば良い"
   ]
  },
  {
   "cell_type": "code",
   "execution_count": 10,
   "metadata": {},
   "outputs": [
    {
     "name": "stdout",
     "output_type": "stream",
     "text": [
      "var\"##295\"\n",
      "  名前: String \"勇者\"\n",
      "  HP: Int64 30\n",
      "  攻撃力: Int64 20\n",
      "  防御力: Int64 10\n"
     ]
    }
   ],
   "source": [
    "\"\"\"\n",
    "再定義可能なデフォルトパラメータ付き構造体を定義するマクロ\n",
    "\n",
    "```\n",
    "@restruct mutable struct キャラクター\n",
    "    名前::String = \"勇者\"\n",
    "    HP::Int = 100\n",
    "end\n",
    "\n",
    "#=> 以下のコードに展開されて実行される\n",
    "Base.@kwdef mutable struct var\"##XXX\"\n",
    "    名前::String = \"勇者\"\n",
    "    HP::Int = 100\n",
    "end\n",
    "キャラクター = var\"##XXX\"\n",
    "=#\n",
    "```\n",
    "\"\"\"\n",
    "macro restruct(構造体宣言式)\n",
    "    一時的な構造体の名前 = \"var\\\"$(gensym())\\\"\"\n",
    "\n",
    "    #= 引数.構造体宣言式.args\n",
    "        [1]: is_mutable::Bool\n",
    "        [2]: 構造体名::Symbol\n",
    "        [3]: 構造体内部構造::Expr\n",
    "            構造体内部構造.args\n",
    "                [...]: 内部構造式の配列\n",
    "    =#\n",
    "    mutable = 構造体宣言式.args[1] ? \"mutable\" : \"\"\n",
    "    構造体を束縛する変数名 = 構造体宣言式.args[2]\n",
    "    構造体内部コード = join(構造体宣言式.args[3].args, \";\")\n",
    "\n",
    "    Meta.parse(\n",
    "        \"Base.@kwdef $mutable struct $一時的な構造体の名前 $構造体内部コード end; $構造体を束縛する変数名 = $一時的な構造体の名前\"\n",
    "    ) |> eval # トップレベルコードとしてその場で即座に eval を実行\n",
    "end\n",
    "\n",
    "# キャラクター 変数に可変構造体定義を束縛\n",
    "@restruct mutable struct キャラクター\n",
    "    名前::String = \"勇者\"\n",
    "    HP::Int = 30\n",
    "    攻撃力::Int = 20\n",
    "    防御力::Int = 10\n",
    "end\n",
    "\n",
    "勇者 = キャラクター()\n",
    "dump(勇者)"
   ]
  },
  {
   "cell_type": "code",
   "execution_count": 11,
   "metadata": {},
   "outputs": [
    {
     "name": "stdout",
     "output_type": "stream",
     "text": [
      "var\"##295\"\n",
      "  名前: String \"プレイヤー\"\n",
      "  HP: Int64 100\n",
      "  攻撃力: Int64 25\n",
      "  防御力: Int64 15\n"
     ]
    }
   ],
   "source": [
    "# 可変構造体になっているはずなため、メンバ変数を再代入可能か確認\n",
    "勇者.名前 = \"プレイヤー\"\n",
    "勇者.HP = 100\n",
    "勇者.攻撃力 = 25\n",
    "勇者.防御力 = 15\n",
    "\n",
    "dump(勇者)"
   ]
  },
  {
   "cell_type": "markdown",
   "metadata": {},
   "source": [
    "これで、再定義可能な構造体の宣言が楽に行えるようになった"
   ]
  },
  {
   "cell_type": "code",
   "execution_count": null,
   "metadata": {},
   "outputs": [],
   "source": []
  }
 ],
 "metadata": {
  "kernelspec": {
   "display_name": "Julia 1.7 with sysimage 1.7.2",
   "language": "julia",
   "name": "julia-1.7-with-sysimage-1.7"
  },
  "language_info": {
   "file_extension": ".jl",
   "mimetype": "application/julia",
   "name": "julia",
   "version": "1.7.2"
  },
  "orig_nbformat": 4
 },
 "nbformat": 4,
 "nbformat_minor": 2
}
