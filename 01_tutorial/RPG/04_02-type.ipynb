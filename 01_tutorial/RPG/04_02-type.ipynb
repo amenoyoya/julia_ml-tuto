{
 "cells": [
  {
   "cell_type": "markdown",
   "metadata": {},
   "source": [
    "# Julia言語で入門するプログラミング\n",
    "\n",
    "[Julia言語で入門するプログラミング](https://muuumin.net/julia-intro-prog/)\n",
    "\n",
    "## ディスパッチによる処理分岐\n",
    "\n",
    "前回のプログラムでは、プレイヤーかモンスターかによって行動選択の処理を条件分岐で分けていた\n",
    "\n",
    "以下の部分である\n",
    "\n",
    "```julia\n",
    "function 行動!(攻撃者::キャラクター, 防御者::キャラクター; io::IO = stdout)\n",
    "    if 攻撃者.isプレイヤー\n",
    "        # プレイヤーキャラクターの場合は行動入力\n",
    "        コマンドID = Base.prompt(\"[1]攻撃 [2]大振り\")\n",
    "        攻撃処理!(攻撃者, 防御者, 行動コマンド[コマンドID]; io)\n",
    "    else\n",
    "        攻撃処理!(攻撃者, 防御者, :攻撃; io)\n",
    "    end\n",
    "end\n",
    "```\n",
    "\n",
    "このような条件分岐による処理分岐は、条件の種類が増える度に条件分岐を追記していかなければならないため、あまりメンテナンス性が良くない"
   ]
  },
  {
   "cell_type": "markdown",
   "metadata": {},
   "source": [
    "これを解決するための機能として、Julia には **多重ディスパッチ** という非常に強力な仕組みが備わっている\n",
    "\n",
    "ディスパッチとは、関数に渡される引数の型によって、同名の関数から適切な関数に自動で振り分ける仕組みである\n",
    "\n",
    "分かりやすい例でいうと、Julia には `*` という演算子があるが、これは以下のような関数として定義されている\n",
    "\n",
    "```julia\n",
    "# 整数同士の乗算: 乗算処理\n",
    "(*)(a::Int, b::Int) = a * b\n",
    "\n",
    "# 文字列同士の乗算: 結合処理\n",
    "(*)(a::String, b::String) = string(a, b)\n",
    "```\n",
    "\n",
    "上記のように同名の関数が複数存在する場合、Julia は関数に渡された引数の型を調べて、自動的に適切な関数を実行する\n",
    "\n",
    "```julia\n",
    "# (*)(2::Int, 3::Int) -> a * b が実行される\n",
    "2 * 3 # => 6\n",
    "\n",
    "# (*)(\"Hello\"::String, \"World\"::String) -> string(a, b) が実行される\n",
    "\"Hello\" * \"World\" # => \"HelloWorld\"\n",
    "\n",
    "# (*)(\"Hello\"::String, 10::Int) の関数は定義されていない\n",
    "\"Hello\" * 10 # => 例外発生\n",
    "```"
   ]
  },
  {
   "cell_type": "markdown",
   "metadata": {},
   "source": [
    "この機能を使って、プレイヤー｜モンスターの行動選択処理の分岐を記述してみる\n",
    "\n",
    "ディスパッチ機能を使うには、異なる処理には異なる型を関連付ける必要があるため、プレイヤーとモンスターの構造体をそれぞれ分けて定義する"
   ]
  },
  {
   "cell_type": "code",
   "execution_count": 1,
   "metadata": {},
   "outputs": [
    {
     "data": {
      "text/plain": [
       "var\"##292\""
      ]
     },
     "execution_count": 1,
     "metadata": {},
     "output_type": "execute_result"
    }
   ],
   "source": [
    "\"再定義可能な構造体を定義するマクロ\"\n",
    "macro restruct(構造体宣言式)\n",
    "    一時的な構造体の名前 = \"var\\\"$(gensym())\\\"\"\n",
    "    mutable = 構造体宣言式.args[1] ? \"mutable\" : \"\"\n",
    "    構造体を束縛する変数名 = 構造体宣言式.args[2]\n",
    "    構造体内部コード = join(構造体宣言式.args[3].args, \";\")\n",
    "\n",
    "    Meta.parse(\n",
    "        \"Base.@kwdef $mutable struct $一時的な構造体の名前 $構造体内部コード end; $構造体を束縛する変数名 = $一時的な構造体の名前\"\n",
    "    ) |> eval # トップレベルコードとしてその場で即座に eval を実行\n",
    "end\n",
    "\n",
    "\"\"\"\n",
    "キャラクター構造体をプレイヤー構造体とモンスター構造体に分ける\n",
    "\"\"\"\n",
    "# プレイヤー構造体\n",
    "@restruct mutable struct Player\n",
    "    名前::String = \"勇者\"\n",
    "    HP::Int = 30\n",
    "    攻撃力::Int = 10\n",
    "    防御力::Int = 10\n",
    "end\n",
    "\n",
    "# モンスター構造体\n",
    "@restruct mutable struct Monster\n",
    "    名前::String = \"モンスター\"\n",
    "    HP::Int = 30\n",
    "    攻撃力::Int = 10\n",
    "    防御力::Int = 10\n",
    "end"
   ]
  },
  {
   "cell_type": "markdown",
   "metadata": {},
   "source": [
    "構造体を分けて定義したら、それぞれの構造体に紐づく行動選択処理をそれぞれ定義し、ディスパッチによる分岐をできるようにする"
   ]
  },
  {
   "cell_type": "code",
   "execution_count": 2,
   "metadata": {},
   "outputs": [
    {
     "data": {
      "text/plain": [
       "行動選択"
      ]
     },
     "execution_count": 2,
     "metadata": {},
     "output_type": "execute_result"
    }
   ],
   "source": [
    "\"コマンドシンボル対応表\"\n",
    "行動コマンド = Dict(\n",
    "    \"1\" => :攻撃,\n",
    "    \"2\" => :大振り\n",
    ")\n",
    "\n",
    "\"\"\"\n",
    "    行動選択(::Player) -> 行動シンボル::Symbol\n",
    "\n",
    "行動選択処理 for Player\n",
    "* 定義されていないコマンドを入力した場合は例外発生\n",
    "\"\"\"\n",
    "行動選択(::Player) = begin\n",
    "    # 標準入力による行動選択\n",
    "    コマンドID = Base.prompt(\"[1]攻撃 [2]大振り\")\n",
    "    行動コマンド[コマンドID]\n",
    "end\n",
    "\n",
    "\"\"\"\n",
    "    行動選択(::Monster) -> 行動シンボル::Symbol\n",
    "\n",
    "行動選択処理 for Monster\n",
    "* 常に :攻撃 が選択される\n",
    "\"\"\"\n",
    "行動選択(::Monster) = :攻撃"
   ]
  },
  {
   "cell_type": "code",
   "execution_count": 3,
   "metadata": {},
   "outputs": [
    {
     "data": {
      "text/plain": [
       ":大振り"
      ]
     },
     "execution_count": 3,
     "metadata": {},
     "output_type": "execute_result"
    }
   ],
   "source": [
    "# プレイヤーに対する行動選択\n",
    "## => 標準入力で入力されたコマンドに応じて行動が選択される\n",
    "勇者 = Player()\n",
    "行動選択(勇者)"
   ]
  },
  {
   "cell_type": "code",
   "execution_count": 4,
   "metadata": {},
   "outputs": [
    {
     "data": {
      "text/plain": [
       ":攻撃"
      ]
     },
     "execution_count": 4,
     "metadata": {},
     "output_type": "execute_result"
    }
   ],
   "source": [
    "# モンスターに対する行動選択\n",
    "## => 常に :攻撃 が選択される\n",
    "モンスター = Monster()\n",
    "行動選択(モンスター)"
   ]
  },
  {
   "cell_type": "markdown",
   "metadata": {},
   "source": [
    "上記の通り、条件分岐を用いずに処理を分けることが出来た\n",
    "\n",
    "現状では、キャラクターの種類が2種類しかいないためあまりシンプルになった気はしないかもしれないが、今後キャラクターの種類がどんどん増えていった場合、単純に型定義と型に紐づく関数をどんどん量産していくだけで良いため、非常に柔軟性の高いコードになっている"
   ]
  },
  {
   "cell_type": "markdown",
   "metadata": {},
   "source": [
    "## Holy Traits\n",
    "\n",
    "さて、キャラクターをプレイヤーとモンスターに分けたことで一つ問題が発生している\n",
    "\n",
    "それは、プレイヤーとモンスターに共通する処理が書けなくなっていることである\n",
    "\n",
    "例えば、どちらが先に攻撃するかを決定する `先行後攻決定(勇者::キャラクター, モンスター::キャラクター)` 関数などは、プレイヤーとモンスターが同一の型であることが前提となっている\n",
    "\n",
    "```julia\n",
    "先行後攻決定(勇者::キャラクター, モンスター::キャラクター) = if rand() < 0.5\n",
    "        [(勇者, モンスター), (モンスター, 勇者)]\n",
    "    else\n",
    "        [(モンスター, 勇者), (勇者, モンスター)]\n",
    "    end\n",
    "```\n",
    "\n",
    "こういった関数の場合、それぞれの型について同じ関数を全部定義していくのはあまり現実的ではない\n",
    "\n",
    "（現状では、プレイヤーとモンスターしかいないが、今後キャラクターが追加される度に、`先行後攻決定` 関数をコピペしなければならなくなる）"
   ]
  },
  {
   "cell_type": "markdown",
   "metadata": {},
   "source": [
    "これを解決するための手法として、Tim Holy 氏が提案した [Traits パターン](https://github.com/JuliaLang/julia/issues/2345#issuecomment-54537633) がある\n",
    "\n",
    "Holy 氏が提案したため、Holy Traits パターンと呼ばれるこの手法は非常にシンプルで、共通処理に対する型をさらに別途定義するというものである\n",
    "\n",
    "このような共通処理用の型を **Trait** と呼ぶ\n",
    "\n",
    "今回の場合だと、`キャラクター` 構造体を Trait として 定義すれば良い"
   ]
  },
  {
   "cell_type": "code",
   "execution_count": 5,
   "metadata": {},
   "outputs": [
    {
     "data": {
      "text/plain": [
       "先行後攻決定"
      ]
     },
     "execution_count": 5,
     "metadata": {},
     "output_type": "execute_result"
    }
   ],
   "source": [
    "# 中身のないキャラクター構造体を Trait として定義\n",
    "## 共通処理関数のディスパッチのためだけに型定義\n",
    "@restruct struct キャラクター end\n",
    "\n",
    "# 共通処理関数を キャラクター Trait に対して定義\n",
    "\"\"\"\n",
    "    先行後攻決定(勇者::キャラクター, モンスター::キャラクター)\n",
    "        -> [(攻撃者::キャラクター, 防御者::キャラクター), (攻撃者::キャラクター, 防御者::キャラクター)]\n",
    "\n",
    "先攻後攻をランダムに決定する\n",
    "\"\"\"\n",
    "先行後攻決定(勇者::キャラクター, モンスター::キャラクター) = if rand() < 0.5\n",
    "    [(勇者, モンスター), (モンスター, 勇者)]\n",
    "else\n",
    "    [(モンスター, 勇者), (勇者, モンスター)]\n",
    "end"
   ]
  },
  {
   "cell_type": "markdown",
   "metadata": {},
   "source": [
    "Trait と Trait に対するディスパッチ関数を定義したら、共通処理関数に渡したい型を対象の Trait 型に変換する関数を定義すれば良い\n",
    "\n",
    "今回の場合だと、`Player` 構造体と `Monster` 構造体それぞれを `キャラクター` 構造体に変換する関数を定義すれば良い\n",
    "\n",
    "それぞれの型に対して変換関数を書いても良いが、`Player` と `Monster` を包括する `Union` 型を引数にするとシンプルに書ける"
   ]
  },
  {
   "cell_type": "code",
   "execution_count": 6,
   "metadata": {},
   "outputs": [
    {
     "data": {
      "text/plain": [
       "toキャラクター"
      ]
     },
     "execution_count": 6,
     "metadata": {},
     "output_type": "execute_result"
    }
   ],
   "source": [
    "\"Player, Monster => キャラクター Trait 変換関数\"\n",
    "toキャラクター(::Union{Player, Monster}) = キャラクター()"
   ]
  },
  {
   "cell_type": "code",
   "execution_count": 7,
   "metadata": {},
   "outputs": [
    {
     "data": {
      "text/plain": [
       "2-element Vector{Tuple{var\"##293\", var\"##293\"}}:\n",
       " (var\"##293\"(), var\"##293\"())\n",
       " (var\"##293\"(), var\"##293\"())"
      ]
     },
     "execution_count": 7,
     "metadata": {},
     "output_type": "execute_result"
    }
   ],
   "source": [
    "# 共通処理関数に渡したい場合は、対象の Trait 型に変換して渡せば良い\n",
    "先行後攻決定(toキャラクター(勇者), toキャラクター(モンスター))"
   ]
  },
  {
   "cell_type": "markdown",
   "metadata": {},
   "source": [
    "### Trait 型から派生型への変換\n",
    "現状の Trait 型（キャラクター）と 派生型（Player, Monster）の関係を再掲すると、以下のように並列関係になっている\n",
    "\n",
    "```julia\n",
    "# キャラクター Trait\n",
    "struct キャラクター end\n",
    "\n",
    "# Player 構造体\n",
    "struct Player\n",
    "    名前::String\n",
    "    HP::Int\n",
    "    攻撃力::Int\n",
    "    防御力::Int\n",
    "end\n",
    "\n",
    "# Monster 構造体\n",
    "struct Monster\n",
    "    名前::String\n",
    "    HP::Int\n",
    "    攻撃力::Int\n",
    "    防御力::Int\n",
    "end\n",
    "\n",
    "\"\"\"\n",
    "# 型階層\n",
    "\n",
    "- キャラクター\n",
    "- Player\n",
    "- Monster\n",
    "\"\"\"\n",
    "```\n",
    "\n",
    "実はこの型関係には問題がある\n",
    "\n",
    "`先行後攻決定` 関数で `キャラクター` Trait のタプル配列を取得した後、`行動選択` 関数に渡す際、`キャラクター` Trait から `Player` or `Monster` 型に変換する手段がないのである\n",
    "\n",
    "```julia\n",
    "勇者 = Player(\"勇者\", 30, 10, 10)\n",
    "モンスター = Monster(\"モンスター\", 30, 10, 10)\n",
    "\n",
    "[\n",
    "    (攻撃者1::キャラクター, 防御者1::キャラクター),\n",
    "    (攻撃者2::キャラクター, 防御者2::キャラクター)\n",
    "] = 先行後攻決定(\n",
    "    toキャラクター(勇者) # Player => キャラクター への型変換\n",
    "    toキャラクター(モンスター) # Monster => キャラクター への型変換\n",
    ")\n",
    "\n",
    "行動選択(\n",
    "    # 攻撃者1::キャラクター の元の型が Player なのか Monster なのか分からない\n",
    "    # => 変換できない\n",
    "    toPlayer(攻撃者1)? or toMonster(攻撃者1)?\n",
    ")\n",
    "```"
   ]
  },
  {
   "cell_type": "markdown",
   "metadata": {},
   "source": [
    "### 抽象型と型階層\n",
    "上記の問題を解決するために、キャラクター Trait を **抽象型** に格上げし、Player と Monster は、キャラクター抽象型の継承型として定義する\n",
    "\n",
    "```julia\n",
    "abstract type キャラクター end\n",
    "\n",
    "mutable struct Player <: キャラクター\n",
    "    名前::String\n",
    "    HP::Int\n",
    "    攻撃力::Int\n",
    "    防御力::Int\n",
    "end\n",
    "\n",
    "mutable struct Monster <: キャラクター\n",
    "    名前::String\n",
    "    HP::Int\n",
    "    攻撃力::Int\n",
    "    防御力::Int\n",
    "end\n",
    "\n",
    "\"\"\"\n",
    "# 型階層\n",
    "\n",
    "キャラクター\n",
    " |_ Player\n",
    " |_ Monster\n",
    "\"\"\"\n",
    "```\n",
    "\n",
    "抽象型とは `abstract type` で宣言される型で、他の型の親として設定することができる（継承することができる）\n",
    "\n",
    "ただし、中にフィールドデータを持ったり、インスタンス化したりすることはできない\n",
    "\n",
    "一方、`struct` 等の型は具象型と呼ばれ、フィールドデータを持ったりインスタンス化することはできるが、他の型の親として設定することはできない（継承することが出来ない）\n",
    "\n",
    "さて、このような親子関係を作ることによって何が変わったかというと、引数として `::キャラクター` 型を渡す共通関数に対して、`Player` や `Monster` のインスタンスを渡せるようになるのである\n",
    "\n",
    "これにより `Player` or `Monster` => `キャラクター` への型変換が不要になり、同時に `キャラクター` => `Player` or `Monster` への型復元も不要になるのである"
   ]
  },
  {
   "cell_type": "code",
   "execution_count": 8,
   "metadata": {},
   "outputs": [
    {
     "data": {
      "text/plain": [
       "行動選択"
      ]
     },
     "execution_count": 8,
     "metadata": {},
     "output_type": "execute_result"
    }
   ],
   "source": [
    "\"再定義可能な構造体を定義するマクロ（型継承対応版）\"\n",
    "macro restruct(構造体宣言式)\n",
    "    一時的な構造体の名前 = \"var\\\"$(gensym())\\\"\"\n",
    "    mutable = 構造体宣言式.args[1] ? \"mutable\" : \"\"\n",
    "    構造体を束縛する変数名, 継承式 = if typeof(構造体宣言式.args[2]) === Expr\n",
    "        (構造体宣言式.args[2].args[1], \"<: $(構造体宣言式.args[2].args[2])\")\n",
    "    else\n",
    "        (構造体宣言式.args[2], \"\")\n",
    "    end\n",
    "    構造体内部コード = join(構造体宣言式.args[3].args, \";\")\n",
    "\n",
    "    Meta.parse(\n",
    "        \"Base.@kwdef $mutable struct $一時的な構造体の名前 $継承式 $構造体内部コード end; $構造体を束縛する変数名 = $一時的な構造体の名前\"\n",
    "    ) |> eval # トップレベルコードとしてその場で即座に eval を実行\n",
    "end\n",
    "\n",
    "\"再定義可能な型を定義するマクロ\"\n",
    "macro retype(型宣言式)\n",
    "    一時的な型の名前 = \"var\\\"$(gensym())\\\"\"\n",
    "    型を束縛する変数名 = 型宣言式.args[1]\n",
    "\n",
    "    Meta.parse(\n",
    "        \"abstract type $一時的な型の名前 end; $型を束縛する変数名 = $一時的な型の名前\"\n",
    "    ) |> eval # トップレベルコードとしてその場で即座に eval を実行\n",
    "end\n",
    "\n",
    "# キャラクター Trait (抽象型)\n",
    "@retype abstract type キャラクター end\n",
    "\n",
    "# プレイヤー構造体 <: キャラクター\n",
    "@restruct mutable struct Player <: キャラクター\n",
    "    名前::String = \"勇者\"\n",
    "    HP::Int = 30\n",
    "    攻撃力::Int = 10\n",
    "    防御力::Int = 10\n",
    "end\n",
    "\n",
    "# モンスター構造体 <: キャラクター\n",
    "@restruct mutable struct Monster <: キャラクター\n",
    "    名前::String = \"モンスター\"\n",
    "    HP::Int = 30\n",
    "    攻撃力::Int = 10\n",
    "    防御力::Int = 10\n",
    "end\n",
    "\n",
    "\"\"\"\n",
    "    先行後攻決定(勇者::キャラクター, モンスター::キャラクター)\n",
    "        -> [(攻撃者::キャラクター, 防御者::キャラクター), (攻撃者::キャラクター, 防御者::キャラクター)]\n",
    "\n",
    "先攻後攻をランダムに決定する\n",
    "\"\"\"\n",
    "先行後攻決定(勇者::キャラクター, モンスター::キャラクター) = if rand() < 0.5\n",
    "    [(勇者, モンスター), (モンスター, 勇者)]\n",
    "else\n",
    "    [(モンスター, 勇者), (勇者, モンスター)]\n",
    "end\n",
    "\n",
    "\"コマンドシンボル対応表\"\n",
    "行動コマンド = Dict(\n",
    "    \"1\" => :攻撃,\n",
    "    \"2\" => :大振り\n",
    ")\n",
    "\n",
    "\"\"\"\n",
    "    行動選択(::Player) -> 行動シンボル::Symbol\n",
    "\n",
    "行動選択処理 for Player\n",
    "* 定義されていないコマンドを入力した場合は例外発生\n",
    "\"\"\"\n",
    "行動選択(::Player) = begin\n",
    "    # 標準入力による行動選択\n",
    "    コマンドID = Base.prompt(\"[1]攻撃 [2]大振り\")\n",
    "    行動コマンド[コマンドID]\n",
    "end\n",
    "\n",
    "\"\"\"\n",
    "    行動選択(::Monster) -> 行動シンボル::Symbol\n",
    "\n",
    "行動選択処理 for Monster\n",
    "* 常に :攻撃 が選択される\n",
    "\"\"\"\n",
    "行動選択(::Monster) = :攻撃"
   ]
  },
  {
   "cell_type": "code",
   "execution_count": 9,
   "metadata": {},
   "outputs": [
    {
     "data": {
      "text/plain": [
       "2-element Vector{Tuple{var\"##294\", var\"##294\"}}:\n",
       " (var\"##295\"(\"勇者\", 30, 10, 10), var\"##296\"(\"モンスター\", 30, 10, 10))\n",
       " (var\"##296\"(\"モンスター\", 30, 10, 10), var\"##295\"(\"勇者\", 30, 10, 10))"
      ]
     },
     "execution_count": 9,
     "metadata": {},
     "output_type": "execute_result"
    }
   ],
   "source": [
    "勇者 = Player()\n",
    "モンスター = Monster()\n",
    "\n",
    "# 先攻後攻をランダムに決定\n",
    "## 勇者::Player <: キャラクター, モンスター::Monster <: キャラクター のため\n",
    "## 先行後攻決定(::キャラクター, ::キャラクター) 関数にそのまま渡すことができる\n",
    "攻撃順 = 先行後攻決定(勇者, モンスター)"
   ]
  },
  {
   "cell_type": "code",
   "execution_count": 10,
   "metadata": {},
   "outputs": [
    {
     "name": "stdout",
     "output_type": "stream",
     "text": [
      "勇者 の 大振り ！\n",
      "モンスター の 攻撃 ！\n"
     ]
    }
   ],
   "source": [
    "# 行動順に行動選択\n",
    "for (攻撃者, 防御者) in 攻撃順\n",
    "    行動 = 行動選択(攻撃者)\n",
    "    println(\"$(攻撃者.名前) の $行動 ！\")\n",
    "end"
   ]
  },
  {
   "cell_type": "markdown",
   "metadata": {},
   "source": [
    "### パラメトリック型\n",
    "抽象型 (abstract type) は、型階層構造を構築するために強力で便利な仕組みである\n",
    "\n",
    "一方、内部にフィールドデータ（メンバ変数）を持つことができないという制約がある\n",
    "\n",
    "上記の場合では、`キャラクター` 抽象型にフィールドデータは持てないため、`Player`, `Monster` 構造体それぞれにフィールドデータを持たせていた\n",
    "\n",
    "しかし、`Player` も `Monster` も持たせたいフィールドデータは同一であるため、本当は `キャラクター` 構造体に共通するフィールドデータを持たせたいのである\n",
    "\n",
    "```julia\n",
    "# キャラクター構造体に共通のフィールドデータを持たせたい\n",
    "mutable struct キャラクター\n",
    "    名前::String\n",
    "    HP::Int\n",
    "    攻撃力::Int\n",
    "    防御力::Int\n",
    "end\n",
    "\n",
    "# この場合 キャラクター は抽象型でないので以下のように書くことは出来ないが、\n",
    "# 本当はこのような型の関係性を構築したい\n",
    "struct Player <: キャラクター end\n",
    "struct Monster <: キャラクター end\n",
    "\n",
    "行動選択(::Player) = プレイヤー用の行動選択関数()\n",
    "行動選択(::Monster) = モンスター用の行動選択関数()\n",
    "```\n",
    "\n",
    "これを Holy Traits パターンで実現するためには、`キャラクター` 型のオブジェクトを `Player` or `Monster` 型に変換するための戦略が必要である\n",
    "\n",
    "すなわち、「`キャラクター` 構造体に `Player`, `Monster` 型のいずれの型に属するかの情報を内包できれば良い」のである\n",
    "\n",
    "これを実現するための仕組みとして **パラメトリック型** が存在する\n",
    "\n",
    "パラメトリック型は基本的に以下のような形で宣言する\n",
    "\n",
    "```julia\n",
    "# 任意の型 T に関する `キャラクター` パラメトリック型\n",
    "mutable struct キャラクター{T}\n",
    "    名前::String\n",
    "    HP::Int\n",
    "    攻撃力::Int\n",
    "    防御力::Int\n",
    "end\n",
    "```\n",
    "\n",
    "この仕組みを使うことで、`キャラクター` 型を `Player` or `Monster` 型に変換できるようになる"
   ]
  },
  {
   "cell_type": "code",
   "execution_count": 11,
   "metadata": {},
   "outputs": [
    {
     "data": {
      "text/plain": [
       "to_player_or_monster (generic function with 1 method)"
      ]
     },
     "execution_count": 11,
     "metadata": {},
     "output_type": "execute_result"
    }
   ],
   "source": [
    "\"再定義可能な構造体を定義するマクロ（パラメトリック型対応版）\"\n",
    "macro restruct(構造体宣言式)\n",
    "    一時的な構造体の名前 = \"var\\\"$(gensym())\\\"\"\n",
    "    mutable = 構造体宣言式.args[1] ? \"mutable\" : \"\"\n",
    "    構造体を束縛する変数名, 型付随情報 = if typeof(構造体宣言式.args[2]) === Expr\n",
    "        if 構造体宣言式.args[2].head === :curly\n",
    "            (構造体宣言式.args[2].args[1], \"{$(構造体宣言式.args[2].args[2])}\")\n",
    "        else\n",
    "            (構造体宣言式.args[2].args[1], \"<: $(構造体宣言式.args[2].args[2])\")\n",
    "        end\n",
    "    else\n",
    "        (構造体宣言式.args[2], \"\")\n",
    "    end\n",
    "    構造体内部コード = join(構造体宣言式.args[3].args, \";\")\n",
    "\n",
    "    Meta.parse(\n",
    "        \"Base.@kwdef $mutable struct $(一時的な構造体の名前)$(型付随情報) $構造体内部コード end; $構造体を束縛する変数名 = $一時的な構造体の名前\"\n",
    "    ) |> eval # トップレベルコードとしてその場で即座に eval を実行\n",
    "end\n",
    "\n",
    "# 任意型 T に関する `キャラクター` 構造体\n",
    "@restruct mutable struct キャラクター{T}\n",
    "    名前::String\n",
    "    HP::Int\n",
    "    攻撃力::Int\n",
    "    防御力::Int\n",
    "end\n",
    "\n",
    "# 行動選択の振る舞いを変えるための Player Trait\n",
    "@restruct struct Player end\n",
    "\n",
    "# 行動選択の振る舞いを変えるための Monster Trait\n",
    "@restruct struct Monster end\n",
    "\n",
    "\"キャラクター構造体を Player or Monster 型に変換する関数\"\n",
    "# where 型制約により キャラクター{Player} or キャラクター{Monster} のみ変換可能とする\n",
    "to_player_or_monster(::キャラクター{T}) where T <: Union{Player, Monster} = T()"
   ]
  },
  {
   "cell_type": "code",
   "execution_count": 12,
   "metadata": {},
   "outputs": [
    {
     "data": {
      "text/plain": [
       "var\"##298\"()"
      ]
     },
     "execution_count": 12,
     "metadata": {},
     "output_type": "execute_result"
    }
   ],
   "source": [
    "to_player_or_monster(キャラクター{Player}(\"勇者\", 30, 10, 10))"
   ]
  },
  {
   "cell_type": "code",
   "execution_count": 13,
   "metadata": {},
   "outputs": [
    {
     "data": {
      "text/plain": [
       "var\"##299\"()"
      ]
     },
     "execution_count": 13,
     "metadata": {},
     "output_type": "execute_result"
    }
   ],
   "source": [
    "to_player_or_monster(キャラクター{Monster}(\"モンスター\", 30, 10, 10))"
   ]
  },
  {
   "cell_type": "code",
   "execution_count": 14,
   "metadata": {},
   "outputs": [
    {
     "ename": "LoadError",
     "evalue": "MethodError: no method matching to_player_or_monster(::var\"##297\"{Int64})\n\u001b[0mClosest candidates are:\n\u001b[0m  to_player_or_monster(\u001b[91m::var\"##297\"{T}\u001b[39m) where T<:Union{var\"##298\", var\"##299\"} at In[11]:37",
     "output_type": "error",
     "traceback": [
      "MethodError: no method matching to_player_or_monster(::var\"##297\"{Int64})\n\u001b[0mClosest candidates are:\n\u001b[0m  to_player_or_monster(\u001b[91m::var\"##297\"{T}\u001b[39m) where T<:Union{var\"##298\", var\"##299\"} at In[11]:37",
      "",
      "Stacktrace:",
      " [1] top-level scope",
      "   @ In[14]:2",
      " [2] eval",
      "   @ .\\boot.jl:373 [inlined]",
      " [3] include_string(mapexpr::typeof(REPL.softscope), mod::Module, code::String, filename::String)",
      "   @ Base .\\loading.jl:1196"
     ]
    }
   ],
   "source": [
    "# Player or Monster 以外の型に関するキャラクター型は変換不可\n",
    "to_player_or_monster(キャラクター{Int}(\"Integer\", 30, 10, 10))"
   ]
  },
  {
   "cell_type": "markdown",
   "metadata": {},
   "source": [
    "パラメトリック型を使った Holy Traits パターンにより、フィールドデータの共通化と、型による処理分岐を両方実現することができる\n",
    "\n",
    "一通りの定義を以下にまとめてみる"
   ]
  },
  {
   "cell_type": "code",
   "execution_count": 20,
   "metadata": {},
   "outputs": [
    {
     "data": {
      "text/plain": [
       "行動選択"
      ]
     },
     "execution_count": 20,
     "metadata": {},
     "output_type": "execute_result"
    }
   ],
   "source": [
    "# 任意型 T に関する `キャラクター` 構造体\n",
    "@restruct mutable struct キャラクター{T}\n",
    "    名前::String\n",
    "    HP::Int\n",
    "    攻撃力::Int\n",
    "    防御力::Int\n",
    "end\n",
    "\n",
    "# 行動選択の振る舞いを変えるための Player Trait\n",
    "@restruct struct Player end\n",
    "\n",
    "# 行動選択の振る舞いを変えるための Monster Trait\n",
    "@restruct struct Monster end\n",
    "\n",
    "\"キャラクター構造体を Player or Monster 型に変換する関数\"\n",
    "# where 型制約により キャラクター{Player} or キャラクター{Monster} のみ変換可能とする\n",
    "to_player_or_monster(::キャラクター{T}) where T <: Union{Player, Monster} = T()\n",
    "\n",
    "\"\"\"\n",
    "    先行後攻決定(勇者::キャラクター{T}, モンスター::キャラクター{T})\n",
    "        -> [(攻撃者::キャラクター{T}, 防御者::キャラクター{T}), (攻撃者::キャラクター{T}, 防御者::キャラクター{T})]\n",
    "\n",
    "先攻後攻をランダムに決定する\n",
    "* キャラクター構造体は任意の型 P, M に関する構造体\n",
    "* 勇者とモンスターは異なる型 (Player, Monster) に関するキャラクターになるはずなので\n",
    "  パラメトリック型のパラメーター変数も異なる変数名にしておく\n",
    "\"\"\"\n",
    "先行後攻決定(勇者::キャラクター{P}, モンスター::キャラクター{M}) where P where M =\n",
    "    if rand() < 0.5\n",
    "        [(勇者, モンスター), (モンスター, 勇者)]\n",
    "    else\n",
    "        [(モンスター, 勇者), (勇者, モンスター)]\n",
    "    end\n",
    "\n",
    "\"コマンドシンボル対応表\"\n",
    "行動コマンド = Dict(\n",
    "    \"1\" => :攻撃,\n",
    "    \"2\" => :大振り\n",
    ")\n",
    "\n",
    "\"\"\"\n",
    "    行動選択(::Player) -> 行動シンボル::Symbol\n",
    "\n",
    "行動選択処理 for Player\n",
    "* 定義されていないコマンドを入力した場合は例外発生\n",
    "\"\"\"\n",
    "行動選択(::Player) = begin\n",
    "    # 標準入力による行動選択\n",
    "    コマンドID = Base.prompt(\"[1]攻撃 [2]大振り\")\n",
    "    行動コマンド[コマンドID]\n",
    "end\n",
    "\n",
    "\"\"\"\n",
    "    行動選択(::Monster) -> 行動シンボル::Symbol\n",
    "\n",
    "行動選択処理 for Monster\n",
    "* 常に :攻撃 が選択される\n",
    "\"\"\"\n",
    "行動選択(::Monster) = :攻撃"
   ]
  },
  {
   "cell_type": "code",
   "execution_count": 21,
   "metadata": {},
   "outputs": [
    {
     "data": {
      "text/plain": [
       "2-element Vector{Tuple{var\"##312\", var\"##312\"}}:\n",
       " (var\"##312\"{var\"##314\"}(\"モンスター\", 30, 10, 10), var\"##312\"{var\"##313\"}(\"勇者\", 30, 10, 10))\n",
       " (var\"##312\"{var\"##313\"}(\"勇者\", 30, 10, 10), var\"##312\"{var\"##314\"}(\"モンスター\", 30, 10, 10))"
      ]
     },
     "execution_count": 21,
     "metadata": {},
     "output_type": "execute_result"
    }
   ],
   "source": [
    "勇者 = キャラクター{Player}(\"勇者\", 30, 10, 10)\n",
    "モンスター = キャラクター{Monster}(\"モンスター\", 30, 10, 10)\n",
    "\n",
    "# 先攻後攻をランダムに決定\n",
    "## 勇者::キャラクター{Player}, モンスター::キャラクター{Monster} を引数に渡された時点で\n",
    "## 先行後攻決定(::キャラクター{Player}, ::キャラクター{Monster}) 関数が生成されて実行される\n",
    "攻撃順 = 先行後攻決定(勇者, モンスター)"
   ]
  },
  {
   "cell_type": "code",
   "execution_count": 22,
   "metadata": {},
   "outputs": [
    {
     "name": "stdout",
     "output_type": "stream",
     "text": [
      "モンスター の 攻撃 ！\n",
      "勇者 の 大振り ！\n"
     ]
    }
   ],
   "source": [
    "# 行動順に行動選択\n",
    "for (攻撃者, 防御者) in 攻撃順\n",
    "    # 行動選択関数の実行を to_player_or_monster 関数を介して行う\n",
    "    行動 = 行動選択(to_player_or_monster(攻撃者))\n",
    "    println(\"$(攻撃者.名前) の $行動 ！\")\n",
    "end"
   ]
  },
  {
   "cell_type": "markdown",
   "metadata": {},
   "source": [
    "## まとめ\n",
    "\n",
    "今回の型システムに関する話をまとめてコードに起こし、テストを実行する\n",
    "\n",
    "テストコードは基本的に [前回のもの](./04_01/RPG/test/runtests.jl) をそのまま流用する\n",
    "\n",
    "ただし、プレイヤーの行動選択処理である `行動入力処理()` は `行動選択処理(::プレイヤー)` に、モンスターの行動選択処理である `行動選択処理()` は `行動選択処理(::モンスター)` に変更する\n",
    "\n",
    "これにより、行動選択処理を共通化することができるのである"
   ]
  },
  {
   "cell_type": "code",
   "execution_count": 24,
   "metadata": {},
   "outputs": [
    {
     "name": "stderr",
     "output_type": "stream",
     "text": [
      "\u001b[32m\u001b[1m  Generating\u001b[22m\u001b[39m  project RPG:\n",
      "    ./04_02/RPG\\Project.toml\n",
      "    ./04_02/RPG\\src/RPG.jl\n",
      "\u001b[32m\u001b[1m  Activating\u001b[22m\u001b[39m project at `d:\\github\\julia_ml-tuto\\01_tutorial\\RPG\\04_02\\RPG`\n",
      "\u001b[32m\u001b[1m    Updating\u001b[22m\u001b[39m registry at `C:\\Users\\user\\.julia\\registries\\General.toml`\n",
      "\u001b[32m\u001b[1m   Resolving\u001b[22m\u001b[39m package versions...\n",
      "\u001b[32m\u001b[1m    Updating\u001b[22m\u001b[39m `D:\\github\\julia_ml-tuto\\01_tutorial\\RPG\\04_02\\RPG\\Project.toml`\n",
      " \u001b[90m [8dfed614] \u001b[39m\u001b[92m+ Test\u001b[39m\n",
      "\u001b[32m\u001b[1m    Updating\u001b[22m\u001b[39m `D:\\github\\julia_ml-tuto\\01_tutorial\\RPG\\04_02\\RPG\\Manifest.toml`\n",
      " \u001b[90m [2a0f44e3] \u001b[39m\u001b[92m+ Base64\u001b[39m\n",
      " \u001b[90m [b77e0a4c] \u001b[39m\u001b[92m+ InteractiveUtils\u001b[39m\n",
      " \u001b[90m [56ddb016] \u001b[39m\u001b[92m+ Logging\u001b[39m\n",
      " \u001b[90m [d6f4376e] \u001b[39m\u001b[92m+ Markdown\u001b[39m\n",
      " \u001b[90m [9a3f8284] \u001b[39m\u001b[92m+ Random\u001b[39m\n",
      " \u001b[90m [ea8e919c] \u001b[39m\u001b[92m+ SHA\u001b[39m\n",
      " \u001b[90m [9e88b42a] \u001b[39m\u001b[92m+ Serialization\u001b[39m\n",
      " \u001b[90m [8dfed614] \u001b[39m\u001b[92m+ Test\u001b[39m\n",
      "\u001b[32m\u001b[1mPrecompiling\u001b[22m\u001b[39m project...\n",
      "\u001b[32m  ✓ \u001b[39mRPG\n",
      "  1 dependency successfully precompiled in 1 seconds\n"
     ]
    }
   ],
   "source": [
    "using Pkg\n",
    "\n",
    "if !isdir(\"./04_02\")\n",
    "    Pkg.generate(\"./04_02/RPG\")\n",
    "end\n",
    "\n",
    "Pkg.activate(\"./04_02/RPG\")\n",
    "Pkg.add(\"Test\")"
   ]
  },
  {
   "cell_type": "code",
   "execution_count": 26,
   "metadata": {},
   "outputs": [
    {
     "name": "stdout",
     "output_type": "stream",
     "text": [
      "\u001b[0m\u001b[1mTest Summary: | \u001b[22m\u001b[32m\u001b[1mPass  \u001b[22m\u001b[39m\u001b[36m\u001b[1mTotal\u001b[22m\u001b[39m\n",
      "戦闘開始処理  | \u001b[32m   1  \u001b[39m\u001b[36m    1\u001b[39m\n",
      "\u001b[0m\u001b[1mTest Summary: | \u001b[22m\u001b[32m\u001b[1mPass  \u001b[22m\u001b[39m\u001b[36m\u001b[1mTotal\u001b[22m\u001b[39m\n",
      "戦闘終了処理  | \u001b[32m   3  \u001b[39m\u001b[36m    3\u001b[39m\n",
      "\u001b[0m\u001b[1mTest Summary: | \u001b[22m\u001b[32m\u001b[1mPass  \u001b[22m\u001b[39m\u001b[36m\u001b[1mTotal\u001b[22m\u001b[39m\n",
      "先行後攻決定処理 | \u001b[32m   2  \u001b[39m\u001b[36m    2\u001b[39m\n",
      "\u001b[0m\u001b[1mTest Summary:   | \u001b[22m\u001b[32m\u001b[1mPass  \u001b[22m\u001b[39m\u001b[36m\u001b[1mTotal\u001b[22m\u001b[39m\n",
      "行動選択処理(::プレイヤー) | \u001b[32m   3  \u001b[39m\u001b[36m    3\u001b[39m\n",
      "\u001b[0m\u001b[1mTest Summary:   | \u001b[22m\u001b[32m\u001b[1mPass  \u001b[22m\u001b[39m\u001b[36m\u001b[1mTotal\u001b[22m\u001b[39m\n",
      "行動選択処理(::モンスター) | \u001b[32m   1  \u001b[39m\u001b[36m    1\u001b[39m\n",
      "\u001b[0m\u001b[1mTest Summary: | \u001b[22m\u001b[32m\u001b[1mPass  \u001b[22m\u001b[39m\u001b[36m\u001b[1mTotal\u001b[22m\u001b[39m\n",
      "行動メッセージ処理 | \u001b[32m   1  \u001b[39m\u001b[36m    1\u001b[39m\n",
      "\u001b[0m\u001b[1mTest Summary: | \u001b[22m\u001b[32m\u001b[1mPass  \u001b[22m\u001b[39m\u001b[36m\u001b[1mTotal\u001b[22m\u001b[39m\n",
      "ダメージメッセージ処理 | \u001b[32m   2  \u001b[39m\u001b[36m    2\u001b[39m\n",
      "\u001b[0m\u001b[1mTest Summary: | \u001b[22m\u001b[32m\u001b[1mPass  \u001b[22m\u001b[39m\u001b[36m\u001b[1mTotal\u001b[22m\u001b[39m\n",
      "攻撃ダメージ計算処理 | \u001b[32m   8  \u001b[39m\u001b[36m    8\u001b[39m\n",
      "\u001b[0m\u001b[1mTest Summary: | \u001b[22m\u001b[32m\u001b[1mPass  \u001b[22m\u001b[39m\u001b[36m\u001b[1mTotal\u001b[22m\u001b[39m\n",
      "ダメージ処理! | \u001b[32m   5  \u001b[39m\u001b[36m    5\u001b[39m\n",
      "\u001b[0m\u001b[1mTest Summary: | \u001b[22m\u001b[32m\u001b[1mPass  \u001b[22m\u001b[39m\u001b[36m\u001b[1mTotal\u001b[22m\u001b[39m\n",
      "大振り攻撃処理! | \u001b[32m   4  \u001b[39m\u001b[36m    4\u001b[39m\n"
     ]
    },
    {
     "name": "stderr",
     "output_type": "stream",
     "text": [
      "\u001b[32m\u001b[1m     Testing\u001b[22m\u001b[39m RPG\n",
      "\u001b[32m\u001b[1m      Status\u001b[22m\u001b[39m `C:\\Users\\user\\AppData\\Local\\Temp\\jl_m5vbSy\\Project.toml`\n",
      " \u001b[90m [67bf64dc] \u001b[39mRPG v0.1.0 `D:\\github\\julia_ml-tuto\\01_tutorial\\RPG\\04_02\\RPG`\n",
      " \u001b[90m [8dfed614] \u001b[39mTest `@stdlib/Test`\n",
      "\u001b[32m\u001b[1m      Status\u001b[22m\u001b[39m `C:\\Users\\user\\AppData\\Local\\Temp\\jl_m5vbSy\\Manifest.toml`\n",
      " \u001b[90m [67bf64dc] \u001b[39mRPG v0.1.0 `D:\\github\\julia_ml-tuto\\01_tutorial\\RPG\\04_02\\RPG`\n",
      " \u001b[90m [2a0f44e3] \u001b[39mBase64 `@stdlib/Base64`\n",
      " \u001b[90m [b77e0a4c] \u001b[39mInteractiveUtils `@stdlib/InteractiveUtils`\n",
      " \u001b[90m [56ddb016] \u001b[39mLogging `@stdlib/Logging`\n",
      " \u001b[90m [d6f4376e] \u001b[39mMarkdown `@stdlib/Markdown`\n",
      " \u001b[90m [9a3f8284] \u001b[39mRandom `@stdlib/Random`\n",
      " \u001b[90m [ea8e919c] \u001b[39mSHA `@stdlib/SHA`\n",
      " \u001b[90m [9e88b42a] \u001b[39mSerialization `@stdlib/Serialization`\n",
      " \u001b[90m [8dfed614] \u001b[39mTest `@stdlib/Test`\n",
      "\u001b[32m\u001b[1m     Testing\u001b[22m\u001b[39m Running tests...\n",
      "\u001b[32m\u001b[1m     Testing\u001b[22m\u001b[39m RPG tests passed \n"
     ]
    }
   ],
   "source": [
    "# 自動テスト実行\n",
    "Pkg.test()"
   ]
  },
  {
   "cell_type": "code",
   "execution_count": null,
   "metadata": {},
   "outputs": [],
   "source": []
  }
 ],
 "metadata": {
  "kernelspec": {
   "display_name": "Julia 1.7 with sysimage 1.7.2",
   "language": "julia",
   "name": "julia-1.7-with-sysimage-1.7"
  },
  "language_info": {
   "file_extension": ".jl",
   "mimetype": "application/julia",
   "name": "julia",
   "version": "1.7.2"
  },
  "orig_nbformat": 4
 },
 "nbformat": 4,
 "nbformat_minor": 2
}
