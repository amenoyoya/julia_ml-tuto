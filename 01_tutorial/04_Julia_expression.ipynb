{
 "cells": [
  {
   "cell_type": "markdown",
   "metadata": {},
   "source": [
    "## 制御構文\n",
    "\n",
    "Juliaには以下の6つの制御構文がある\n",
    "\n",
    "1. 複合式\n",
    "    - `begin ... end`\n",
    "    - `(...; ...; ...)`\n",
    "2. 条件評価\n",
    "    - `if ... elseif ... else ... end`\n",
    "    - 三項演算子: `... ? ... : ...`\n",
    "3. 短絡評価\n",
    "    - `&&`, `||`, 比較演算子 の連鎖\n",
    "4. 繰り返し評価\n",
    "    - `while ... end`\n",
    "    - `for ... end`\n",
    "5. 例外処理\n",
    "    - `try ... catch ... finally ... end`\n",
    "    - `error()`, `throw()`\n",
    "6. タスク（コルーチン）\n",
    "    - `yieldto()`"
   ]
  },
  {
   "cell_type": "markdown",
   "metadata": {},
   "source": [
    "### 複合式\n",
    "複数の部分式を手続き的に評価していき、最後の式の値を戻り値とする式"
   ]
  },
  {
   "cell_type": "code",
   "execution_count": 1,
   "metadata": {},
   "outputs": [
    {
     "data": {
      "text/plain": [
       "3"
      ]
     },
     "execution_count": 1,
     "metadata": {},
     "output_type": "execute_result"
    }
   ],
   "source": [
    "# beginブロックによる複合式\n",
    "z = begin\n",
    "    x = 1\n",
    "    y = 2\n",
    "    x + y\n",
    "end"
   ]
  },
  {
   "cell_type": "code",
   "execution_count": 2,
   "metadata": {},
   "outputs": [
    {
     "data": {
      "text/plain": [
       "3"
      ]
     },
     "execution_count": 2,
     "metadata": {},
     "output_type": "execute_result"
    }
   ],
   "source": [
    "# (;)連鎖構文による複合式\n",
    "z = (x = 1; y = 2; x + y)"
   ]
  },
  {
   "cell_type": "markdown",
   "metadata": {},
   "source": [
    "### 条件評価\n",
    "条件評価では、与えられたブール式の値に応じて、特定のコードのみを実行することが可能\n",
    "\n",
    "条件により評価される式が分岐するため、これを **条件分岐** と呼ぶ"
   ]
  },
  {
   "cell_type": "code",
   "execution_count": 3,
   "metadata": {},
   "outputs": [
    {
     "name": "stdout",
     "output_type": "stream",
     "text": [
      "1 is less than 2\n",
      "1 is larger than 0\n",
      "1 is equal to 1\n"
     ]
    }
   ],
   "source": [
    "# 2つの引数 x, y をとり、メッセージ文字列を返す関数\n",
    "## 返される文字列は以下の条件で分岐する\n",
    "### x < y -> \"$x is less than $y\"\n",
    "### x > y -> \"$x is larger than $y\"\n",
    "### 上記以外(x == y) -> \"$x is equal to $y\"\n",
    "test(x, y) = begin\n",
    "    if x < y\n",
    "        \"$x is less than $y\"\n",
    "    elseif x > y\n",
    "        \"$x is larger than $y\"\n",
    "    else\n",
    "        \"$x is equal to $y\"\n",
    "    end\n",
    "end\n",
    "\n",
    "# 動作確認\n",
    "println(test(1, 2)) # -> \"1 is less than 2\"\n",
    "println(test(1, 0)) # -> \"1 is larger than 0\"\n",
    "println(test(1, 1)) # -> \"1 is equal to 1\""
   ]
  },
  {
   "cell_type": "code",
   "execution_count": 4,
   "metadata": {},
   "outputs": [
    {
     "name": "stdout",
     "output_type": "stream",
     "text": [
      "1 is less than 2\n",
      "1 is larger than 0\n",
      "1 is equal to 1\n"
     ]
    }
   ],
   "source": [
    "# ifブロックの変数スコープは、ローカルスコープではない\n",
    "# -> ifブロック内で定義した変数を ifブロックの後ろで使用することが可能\n",
    "\n",
    "printTest(x, y) = begin\n",
    "    if x < y\n",
    "        rel = \"less than\"\n",
    "    elseif x > y\n",
    "        rel = \"larger than\"\n",
    "    else\n",
    "        rel = \"equal to\"\n",
    "    end\n",
    "    println(\"$x is $rel $y\")\n",
    "end\n",
    "\n",
    "printTest(1, 2)\n",
    "printTest(1, 0)\n",
    "printTest(1, 1)"
   ]
  },
  {
   "cell_type": "markdown",
   "metadata": {},
   "source": [
    "#### 三項演算子\n",
    "三項演算子は以下のような形式で記述される\n",
    "\n",
    "```julia\n",
    "a ? b : c\n",
    "```\n",
    "\n",
    "上記の式は、`a`が`true`の場合に`b`を評価し、`false`なら`c`を評価する"
   ]
  },
  {
   "cell_type": "code",
   "execution_count": 5,
   "metadata": {},
   "outputs": [
    {
     "name": "stdout",
     "output_type": "stream",
     "text": [
      "未成年\n"
     ]
    }
   ],
   "source": [
    "age = 13\n",
    "\n",
    "# ageが18未満なら \"未成年\", 18以上なら \"青年\" を出力\n",
    "println(age < 18 ? \"未成年\" : \"成人\")"
   ]
  },
  {
   "cell_type": "markdown",
   "metadata": {},
   "source": [
    "### 短絡評価\n",
    "短絡評価とは `&&` や `||` で連結されたブール式の評価のことである\n",
    "\n",
    "このとき、評価されるのは式全体のブール値のブール値を決定する最小限のものだけなので、以下のような評価がなされる\n",
    "\n",
    "- `a && b`という式で、bが評価されるのは、aが`true`の場合のみ\n",
    "    - aが`false`であれば、その時点でこの式は`false`であることが決定されるため\n",
    "- `a || b`という式で、bが評価されるのは、aが`false`の場合のみ\n",
    "    - aが`true`であれば、その時点でこの式は`true`であることが決定されるため\n",
    "\n",
    "`&&`, `||` はともに、右から結合されるが、優先順位は `&&` > `||` である"
   ]
  },
  {
   "cell_type": "code",
   "execution_count": 6,
   "metadata": {},
   "outputs": [
    {
     "name": "stdout",
     "output_type": "stream",
     "text": [
      "120\n",
      "1\n"
     ]
    },
    {
     "ename": "LoadError",
     "evalue": "階乗を計算する場合は正の整数を指定してください",
     "output_type": "error",
     "traceback": [
      "階乗を計算する場合は正の整数を指定してください",
      "",
      "Stacktrace:",
      " [1] error(s::String)",
      "   @ Base .\\error.jl:33",
      " [2] fact(n::Int64)",
      "   @ Main .\\In[6]:11",
      " [3] top-level scope",
      "   @ In[6]:24",
      " [4] eval",
      "   @ .\\boot.jl:360 [inlined]",
      " [5] include_string(mapexpr::typeof(REPL.softscope), mod::Module, code::String, filename::String)",
      "   @ Base .\\loading.jl:1094"
     ]
    }
   ],
   "source": [
    "# Juliaでは条件評価(ifブロック)の代わりに短絡評価が頻繁に利用される\n",
    "## 条件評価: if <条件式> <実行文> end   if ! <条件式> <実行文> end\n",
    "## -> 短絡評価: <条件式> && <実行文>   <条件式> || <実行文>\n",
    "\n",
    "# Int型の引数 n の階乗を返す関数\n",
    "## 以下のように条件分岐しながら計算\n",
    "### n < 0 -> Error\n",
    "### n == 0 -> 1\n",
    "### 上記以外 -> n * self(n - 1)\n",
    "fact(n::Int) = begin\n",
    "    n < 0 && error(\"階乗を計算する場合は正の整数を指定してください\")\n",
    "    n == 0 && return 1\n",
    "    n * fact(n - 1)\n",
    "end\n",
    "\n",
    "# 動作確認\n",
    "## 5! = 5 * 4 * 3 * 2 * 1 -> 120\n",
    "println(fact(5))\n",
    "\n",
    "## 0! -> 1\n",
    "println(fact(1))\n",
    "\n",
    "## -5! -> Error\n",
    "println(fact(-5))"
   ]
  },
  {
   "cell_type": "markdown",
   "metadata": {},
   "source": [
    "### 繰り返し評価\n",
    "式を繰り返し評価する制御構造は以下の2つがある\n",
    "\n",
    "1. `while`ブロック\n",
    "    ```julia\n",
    "    # 条件式の評価結果が true である限り繰り返し実行する\n",
    "    while <条件式>\n",
    "        <実行式>\n",
    "    end\n",
    "    ```\n",
    "2. `for`ブロック\n",
    "    ```julia\n",
    "    # <イテレータ式>を順に実行する\n",
    "    for <イテレータ式>\n",
    "        <実行式>\n",
    "    end\n",
    "    ```"
   ]
  },
  {
   "cell_type": "code",
   "execution_count": 7,
   "metadata": {},
   "outputs": [
    {
     "name": "stdout",
     "output_type": "stream",
     "text": [
      "1\n",
      "2\n",
      "3\n",
      "4\n",
      "5\n"
     ]
    }
   ],
   "source": [
    "i = 1\n",
    "\n",
    "# 変数 i が 5 以下である限り実行する\n",
    "while i <= 5\n",
    "    println(i)\n",
    "    i += 1\n",
    "end"
   ]
  },
  {
   "cell_type": "code",
   "execution_count": 8,
   "metadata": {},
   "outputs": [
    {
     "name": "stdout",
     "output_type": "stream",
     "text": [
      "1\n",
      "2\n",
      "3\n",
      "4\n",
      "5\n"
     ]
    }
   ],
   "source": [
    "# forブロック イテレータ式\n",
    "## <変数> = <開始値> : <終了値>\n",
    "\n",
    "# 変数 i に 1〜5 を順に適用して実行\n",
    "for i = 1:5\n",
    "    println(i)\n",
    "end\n",
    "\n",
    "# forブロックでは、変数はローカルスコープである\n",
    "# -> ブロックの後ろでforブロックの変数を使うことはできない"
   ]
  },
  {
   "cell_type": "code",
   "execution_count": 9,
   "metadata": {},
   "outputs": [
    {
     "name": "stdout",
     "output_type": "stream",
     "text": [
      "1\n",
      "4\n",
      "0\n"
     ]
    }
   ],
   "source": [
    "# forブロック イテレータ式\n",
    "## <変数> in <配列>\n",
    "## <変数> ∈ <配列>\n",
    "\n",
    "# 変数 i に [1, 4, 0] の各要素を順に適用して実行\n",
    "## for i ∈ [1, 4, 0] でも可\n",
    "for i in [1, 4, 0]\n",
    "    println(i)\n",
    "end"
   ]
  },
  {
   "cell_type": "code",
   "execution_count": 10,
   "metadata": {},
   "outputs": [
    {
     "name": "stdout",
     "output_type": "stream",
     "text": [
      "1\n",
      "2\n",
      "3\n",
      "4\n",
      "5\n"
     ]
    }
   ],
   "source": [
    "# ループの途中で評価を終了する場合は break\n",
    "for i = 1:1000 # 1〜1000 まで実行\n",
    "    println(i)\n",
    "    i >= 5 && break # i が 5以上になったらループ終了\n",
    "end"
   ]
  },
  {
   "cell_type": "code",
   "execution_count": 11,
   "metadata": {},
   "outputs": [
    {
     "name": "stdout",
     "output_type": "stream",
     "text": [
      "3\n",
      "6\n",
      "9\n"
     ]
    }
   ],
   "source": [
    "# 次の繰り返しにすぐに移りたい場合は continue\n",
    "\n",
    "# 1〜10のうち3の倍数である数値のみ出力する\n",
    "for i = 1:10\n",
    "    i % 3 != 0 && continue # i が 3の倍数でないならスキップ\n",
    "    println(i)\n",
    "end"
   ]
  },
  {
   "cell_type": "code",
   "execution_count": 12,
   "metadata": {},
   "outputs": [
    {
     "name": "stdout",
     "output_type": "stream",
     "text": [
      "ネストした複数のforブロック\n",
      "(1, 3)\n",
      "(1, 4)\n",
      "(2, 3)\n",
      "(2, 4)\n",
      "\n",
      "イテラブル型の直積\n",
      "(1, 3)\n",
      "(1, 4)\n",
      "(2, 3)\n",
      "(2, 4)\n"
     ]
    }
   ],
   "source": [
    "# 複数のネストしているforブロックは結合できる\n",
    "# -> イテラブル型の直積に対するループに変換することができる\n",
    "\n",
    "# 1〜2 それぞれに対して 3〜4 のループ評価する場合\n",
    "\n",
    "println(\"ネストした複数のforブロック\")\n",
    "for i = 1:2\n",
    "    for j = 3:4\n",
    "        println((i, j))\n",
    "    end\n",
    "end\n",
    "\n",
    "println(\"\\nイテラブル型の直積\")\n",
    "for i = 1:2, j = 3:4\n",
    "    println((i,j))\n",
    "end"
   ]
  },
  {
   "cell_type": "markdown",
   "metadata": {},
   "source": [
    "### 例外処理\n",
    "予想外の状態が発生した場合、関数の実行を途中で終了し、例外が起こったことを知らせる必要がある\n",
    "\n",
    "例外が起こった際の対応は、プログラマに委ねられるため、本来例外が発生するようなプログラムは作成するべきではない\n",
    "\n",
    "しかし、プログラムの使用者が想定外の操作をしたり、ハードウェア的なハプニングが起こったりすることを完全に防ぐことはできないため、ほとんどの言語には例外機構が備わっている\n",
    "\n",
    "#### Julia標準の例外\n",
    "- ArgumentError\n",
    "- BoundsError\n",
    "- CompositeException\n",
    "- DivideError\n",
    "- DomainError\n",
    "- EOFError\n",
    "- ErrorException\n",
    "- InexactError\n",
    "- InitError\n",
    "- InterruptException\n",
    "- InvalidStateException\n",
    "- KeyError\n",
    "- LoadError\n",
    "- OutOfMemoryError\n",
    "- ReadOnlyMemoryError\n",
    "- RemoteException\n",
    "- MethodError\n",
    "- OverflowError\n",
    "- ParseError\n",
    "- SystemError\n",
    "- TypeError\n",
    "- UndefRefError\n",
    "- UndefVarError\n",
    "- UnicodeError\n",
    "\n",
    "#### 独自の例外の定義\n",
    "Julia標準の例外以外に自分で例外を作成することもできる\n",
    "\n",
    "例外の定義は以下のような式で行う\n",
    "\n",
    "```julia\n",
    "struct 例外名 <: Exception\n",
    "    <定義>\n",
    "end\n",
    "```"
   ]
  },
  {
   "cell_type": "code",
   "execution_count": 13,
   "metadata": {},
   "outputs": [
    {
     "name": "stdout",
     "output_type": "stream",
     "text": [
      "1\n"
     ]
    },
    {
     "ename": "LoadError",
     "evalue": "DomainError with -1:\n",
     "output_type": "error",
     "traceback": [
      "DomainError with -1:\n",
      "",
      "Stacktrace:",
      " [1] f(x::Int64)",
      "   @ Main .\\In[13]:5",
      " [2] top-level scope",
      "   @ In[13]:9",
      " [3] eval",
      "   @ .\\boot.jl:360 [inlined]",
      " [4] include_string(mapexpr::typeof(REPL.softscope), mod::Module, code::String, filename::String)",
      "   @ Base .\\loading.jl:1094"
     ]
    }
   ],
   "source": [
    "# 例外は throw関数を使って意図的に発生させることができる\n",
    "\n",
    "# 引数が正の場合は、それを出力する関数\n",
    "## 負の場合は、DomainErrorを投げる\n",
    "f(x) = x >= 0 ? println(x) : throw(DomainError(x))\n",
    "\n",
    "# 動作確認\n",
    "f(1)\n",
    "f(-1)"
   ]
  },
  {
   "cell_type": "code",
   "execution_count": 14,
   "metadata": {},
   "outputs": [
    {
     "name": "stdout",
     "output_type": "stream",
     "text": [
      "1\n"
     ]
    },
    {
     "ename": "LoadError",
     "evalue": "正の値を指定してください",
     "output_type": "error",
     "traceback": [
      "正の値を指定してください",
      "",
      "Stacktrace:",
      " [1] error(s::String)",
      "   @ Base .\\error.jl:33",
      " [2] f(x::Int64)",
      "   @ Main .\\In[14]:5",
      " [3] top-level scope",
      "   @ In[14]:9",
      " [4] eval",
      "   @ .\\boot.jl:360 [inlined]",
      " [5] include_string(mapexpr::typeof(REPL.softscope), mod::Module, code::String, filename::String)",
      "   @ Base .\\loading.jl:1094"
     ]
    }
   ],
   "source": [
    "# error関数を使えば、ErrorExceptionを生成し、通常の制御の流れを中断することができる\n",
    "\n",
    "# 引数が正の場合は、それを出力する関数\n",
    "## 負の場合は、エラーメッセージを出力してプログラム停止\n",
    "f(x) = x >= 0 ? println(x) : error(\"正の値を指定してください\")\n",
    "\n",
    "# 動作確認\n",
    "f(1)\n",
    "f(-1)\n",
    "\n",
    "# 例外が発生すると以降の処理は実行されない\n",
    "f(3)"
   ]
  },
  {
   "cell_type": "code",
   "execution_count": 15,
   "metadata": {},
   "outputs": [
    {
     "name": "stdout",
     "output_type": "stream",
     "text": [
      "2\n",
      "2\n"
     ]
    },
    {
     "name": "stderr",
     "output_type": "stream",
     "text": [
      "┌ Info: Hi\n",
      "└ @ Main In[15]:6\n",
      "┌ Warning: Hi\n",
      "└ @ Main In[15]:10\n"
     ]
    },
    {
     "ename": "LoadError",
     "evalue": "Hi",
     "output_type": "error",
     "traceback": [
      "Hi",
      "",
      "Stacktrace:",
      " [1] error(s::String)",
      "   @ Base .\\error.jl:33",
      " [2] top-level scope",
      "   @ In[15]:14",
      " [3] eval",
      "   @ .\\boot.jl:360 [inlined]",
      " [4] include_string(mapexpr::typeof(REPL.softscope), mod::Module, code::String, filename::String)",
      "   @ Base .\\loading.jl:1094"
     ]
    }
   ],
   "source": [
    "# 例外的な状況ではないが、警告や情報を標準エラー出力に出力したい場合\n",
    "## @info, @warn マクロが使える\n",
    "## -> 例外を投げないため実行が中断されない\n",
    "\n",
    "# 情報メッセージを出力 -> 処理継続\n",
    "@info \"Hi\"\n",
    "println(1 + 1)\n",
    "\n",
    "# 警告メッセージを出力 -> 処理継続\n",
    "@warn \"Hi\"\n",
    "println(1 + 1)\n",
    "\n",
    "# エラーメッセージを出力 -> 処理停止\n",
    "error(\"Hi\")\n",
    "println(1 + 1) # <- 実行されない"
   ]
  },
  {
   "cell_type": "code",
   "execution_count": 16,
   "metadata": {},
   "outputs": [
    {
     "name": "stdout",
     "output_type": "stream",
     "text": [
      "2\n"
     ]
    },
    {
     "name": "stderr",
     "output_type": "stream",
     "text": [
      "┌ Error: Hi\n",
      "└ @ Main In[16]:2\n"
     ]
    }
   ],
   "source": [
    "# なお @error マクロはエラーメッセージを出力するが、処理は継続する\n",
    "@error \"Hi\"\n",
    "println(1 + 1)"
   ]
  },
  {
   "cell_type": "markdown",
   "metadata": {},
   "source": [
    "#### try / catch 文\n",
    "`try`, `catch`文により、例外を検査することができる\n",
    "\n",
    "```julia\n",
    "try\n",
    "    <例外が起こり得る処理>\n",
    "catch [例外変数]\n",
    "    <例外が起こった場合の処理>\n",
    "end\n",
    "```\n",
    "\n",
    "#### finally 節\n",
    "try / catch 文に `finally`節を追加することができる\n",
    "\n",
    "`finally`節で記述された処理は、例外発生の有無に関わらず実行される\n",
    "\n",
    "そのため、プログラムの終了時に行うべきクリーンアップ処理（ファイルを閉じるなど）は `finally`節に記述する"
   ]
  },
  {
   "cell_type": "code",
   "execution_count": 17,
   "metadata": {},
   "outputs": [
    {
     "name": "stdout",
     "output_type": "stream",
     "text": [
      ".ipynb_checkpoints/\n",
      "\n"
     ]
    },
    {
     "ename": "LoadError",
     "evalue": ".gitignore は 存在しないファイルです",
     "output_type": "error",
     "traceback": [
      ".gitignore は 存在しないファイルです",
      "",
      "Stacktrace:",
      " [1] error(s::String)",
      "   @ Base .\\error.jl:33",
      " [2] fopen(callback::var\"#3#4\", filename::String, mode::String)",
      "   @ Main .\\In[17]:9",
      " [3] fopen(callback::Function, filename::String)",
      "   @ Main .\\In[17]:5",
      " [4] top-level scope",
      "   @ In[17]:25",
      " [5] eval",
      "   @ .\\boot.jl:360 [inlined]",
      " [6] include_string(mapexpr::typeof(REPL.softscope), mod::Module, code::String, filename::String)",
      "   @ Base .\\loading.jl:1094"
     ]
    }
   ],
   "source": [
    "# ファイルを開いて処理を行った後、ファイルを閉じる関数\n",
    "fopen(callback, filename, mode=\"r\") = begin\n",
    "    # try / catch 文で定義される変数はローカルスコープであるため\n",
    "    # ブロック以降も使いたい変数はここで宣言しておく\n",
    "    io = nothing\n",
    "    try\n",
    "        io = open(filename, mode)\n",
    "    catch\n",
    "        error(\"$filename は 存在しないファイルです\")\n",
    "    end\n",
    "    \n",
    "    try\n",
    "        callback(io)\n",
    "    finally # ファイルを閉じる処理は必ず行う\n",
    "        close(io)\n",
    "    end\n",
    "end\n",
    "\n",
    "# ../.gitignore を読み込んで 内容を出力する\n",
    "fopen(\"../.gitignore\") do io\n",
    "    println(read(io, String))\n",
    "end\n",
    "\n",
    "# 存在しないファイルを読み込もうとした場合\n",
    "fopen(\".gitignore\") do io\n",
    "    println(read(io, String))\n",
    "end"
   ]
  },
  {
   "cell_type": "code",
   "execution_count": null,
   "metadata": {},
   "outputs": [],
   "source": []
  }
 ],
 "metadata": {
  "kernelspec": {
   "display_name": "Julia 1.6.1",
   "language": "julia",
   "name": "julia-1.6"
  },
  "language_info": {
   "file_extension": ".jl",
   "mimetype": "application/julia",
   "name": "julia",
   "version": "1.6.1"
  }
 },
 "nbformat": 4,
 "nbformat_minor": 4
}
