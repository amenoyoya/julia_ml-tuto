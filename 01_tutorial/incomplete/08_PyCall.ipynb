{
 "cells": [
  {
   "cell_type": "markdown",
   "metadata": {},
   "source": [
    "## PyCall\n",
    "\n",
    "JuliaからPythonパッケージを利用するための仕組み\n",
    "\n",
    "### Setup\n",
    "\n",
    "#### Environment\n",
    "- OS: Ubuntu 18.04 LTS\n",
    "- Python: `3.7.3` (Miniconda `4.7.10`)\n",
    "    - Jupyter Notebook: `6.0.0`\n",
    "\n",
    "#### Installation\n",
    "少し古い情報を漁ると、REPLで `Pkg.add(\"PyCall\")` というコマンドを叩くと書いてあるが、Julia 1.0以降では、pkgモードでパッケージの追加を行う\n",
    "\n",
    "```bash\n",
    "# Julia REPL起動\n",
    "$ julia\n",
    "\n",
    "julia> # `]` と打って、pkgモードに移行\n",
    "\n",
    "# PyCallインストール\n",
    "(v1.1) pkg> add PyCall\n",
    "```"
   ]
  },
  {
   "cell_type": "code",
   "execution_count": 1,
   "metadata": {},
   "outputs": [
    {
     "name": "stderr",
     "output_type": "stream",
     "text": [
      "┌ Info: Precompiling PyCall [438e738f-606a-5dbb-bf0a-cddfbfd45ab0]\n",
      "└ @ Base loading.jl:1273\n"
     ]
    },
    {
     "data": {
      "text/plain": [
       "v\"3.7.6\""
      ]
     },
     "execution_count": 1,
     "metadata": {},
     "output_type": "execute_result"
    }
   ],
   "source": [
    "# PyCallパッケージを使う\n",
    "using PyCall\n",
    "\n",
    "# Pythonバージョン確認\n",
    "PyCall.pyversion"
   ]
  },
  {
   "cell_type": "code",
   "execution_count": 2,
   "metadata": {},
   "outputs": [
    {
     "data": {
      "text/plain": [
       "\"/usr/local/bin/python3\""
      ]
     },
     "execution_count": 2,
     "metadata": {},
     "output_type": "execute_result"
    }
   ],
   "source": [
    "# Pythonのパスを確認\n",
    "PyCall.pyprogramname"
   ]
  },
  {
   "cell_type": "code",
   "execution_count": 3,
   "metadata": {},
   "outputs": [
    {
     "data": {
      "text/plain": [
       "\"/usr/local/lib/libpython3.7m.so.1.0\""
      ]
     },
     "execution_count": 3,
     "metadata": {},
     "output_type": "execute_result"
    }
   ],
   "source": [
    "# Pythonライブラリのパスを確認\n",
    "PyCall.libpython"
   ]
  },
  {
   "cell_type": "markdown",
   "metadata": {},
   "source": [
    "### PyCall経由でPyTorchを使う\n",
    "\n",
    "- **PyTorch**\n",
    "    - Python用のDeepLearningフレームワーク\n",
    "    - Define-by-Run（ニューラルネットワークを定義しながら実行できる）"
   ]
  },
  {
   "cell_type": "code",
   "execution_count": 4,
   "metadata": {},
   "outputs": [
    {
     "data": {
      "text/plain": [
       "PyObject <module 'torch.nn.functional' from '/usr/local/lib/python3.7/site-packages/torch/nn/functional.py'>"
      ]
     },
     "execution_count": 4,
     "metadata": {},
     "output_type": "execute_result"
    }
   ],
   "source": [
    "# @pyimport torch\n",
    "torch = pyimport(\"torch\")\n",
    "Variable = torch.autograd.Variable\n",
    "nn = torch.nn\n",
    "F = nn.functional"
   ]
  },
  {
   "cell_type": "code",
   "execution_count": 5,
   "metadata": {},
   "outputs": [
    {
     "data": {
      "text/plain": [
       "PyObject <class 'Net'>"
      ]
     },
     "execution_count": 5,
     "metadata": {},
     "output_type": "execute_result"
    }
   ],
   "source": [
    "@pydef mutable struct Net <: nn.Module\n",
    "\n",
    "    __init__(self) = begin\n",
    "        pybuiltin(:super)(Net, self).__init__()\n",
    "        self.conv1 = nn.Conv2d(1, 6, 5)\n",
    "        self.conv2 = nn.Conv2d(6, 16, 5)\n",
    "        self.fc1 = nn.Linear(16 * 5 * 5, 120)\n",
    "        self.fc2 = nn.Linear(120, 84)\n",
    "        self.fc3 = nn.Linear(84, 10)\n",
    "    end\n",
    "\n",
    "    forward(self, x) = begin\n",
    "        # Max pooling over a (2, 2) window\n",
    "        x =  F.max_pool2d(F.relu(self.conv1(x)), (2, 2))\n",
    "        # If the size is a square you can only specify a single number\n",
    "        x = F.max_pool2d(F.relu(self.conv2(x)), 2)\n",
    "        x = x.view(-1, self.num_flat_features(x))\n",
    "        x = F.relu(self.fc1(x))\n",
    "        x = F.relu(self.fc2(x))\n",
    "        x = self.fc3(x)\n",
    "    end\n",
    "\n",
    "    num_flat_features(self, x) = begin\n",
    "        size = x.size()[2:end]  # all dimensions except the batch dimension\n",
    "        num_features = 1\n",
    "        for s in size\n",
    "            num_features *= s\n",
    "        end\n",
    "        return num_features\n",
    "    end\n",
    "\n",
    "end"
   ]
  },
  {
   "cell_type": "code",
   "execution_count": 6,
   "metadata": {},
   "outputs": [
    {
     "name": "stdout",
     "output_type": "stream",
     "text": [
      "PyObject Net(\n",
      "  (conv1): Conv2d(1, 6, kernel_size=(5, 5), stride=(1, 1))\n",
      "  (conv2): Conv2d(6, 16, kernel_size=(5, 5), stride=(1, 1))\n",
      "  (fc1): Linear(in_features=400, out_features=120, bias=True)\n",
      "  (fc2): Linear(in_features=120, out_features=84, bias=True)\n",
      "  (fc3): Linear(in_features=84, out_features=10, bias=True)\n",
      ")\n",
      "10\n",
      "(6, 1, 5, 5)\n",
      "PyObject tensor([[-0.1100, -0.0749, -0.0433, -0.1204,  0.0254,  0.0469,  0.0304,  0.1249,\n",
      "          0.1398,  0.0417]], grad_fn=<AddmmBackward>)\n"
     ]
    }
   ],
   "source": [
    "net = Net()\n",
    "println(net)\n",
    "\n",
    "params = pybuiltin(:list)(net.parameters())\n",
    "println(length(params))\n",
    "println(params[1].size())  # conv1's .weight\n",
    "\n",
    "input = Variable(torch.randn(1, 1, 32, 32))\n",
    "out = net(input)\n",
    "println(out)"
   ]
  },
  {
   "cell_type": "code",
   "execution_count": 7,
   "metadata": {},
   "outputs": [
    {
     "name": "stdout",
     "output_type": "stream",
     "text": [
      "PyObject tensor(38.0227, grad_fn=<MseLossBackward>)\n"
     ]
    }
   ],
   "source": [
    "output = net(input)\n",
    "target = Variable(torch.arange(1.0, 11.0))  # a dummy target, for example: PyObject tensor(Array{Float})\n",
    "criterion = nn.MSELoss()\n",
    "\n",
    "loss = criterion(output, target)\n",
    "println(loss)"
   ]
  },
  {
   "cell_type": "code",
   "execution_count": 8,
   "metadata": {},
   "outputs": [
    {
     "name": "stdout",
     "output_type": "stream",
     "text": [
      "conv1.bias.grad before backward\n",
      "nothing\n",
      "conv1.bias.grad after backward\n",
      "PyObject tensor([-0.0782, -0.0058, -0.1399, -0.0218, -0.0251,  0.0102])\n"
     ]
    }
   ],
   "source": [
    "net.zero_grad()     # zeroes the gradient buffers of all parameters\n",
    "\n",
    "println(\"conv1.bias.grad before backward\")\n",
    "println(net.conv1.bias.grad === nothing ? \"nothing\" : net.conv1.bias.grad)\n",
    "\n",
    "loss.backward()\n",
    "\n",
    "println(\"conv1.bias.grad after backward\")\n",
    "println(net.conv1.bias.grad === nothing ? \"nothing\" : net.conv1.bias.grad)\n",
    "\n",
    "optim = torch.optim\n",
    "\n",
    "# create your optimizer\n",
    "optimizer = optim.SGD(net.parameters(), lr=0.01)\n",
    "\n",
    "# in your training loop:\n",
    "optimizer.zero_grad()   # zero the gradient buffers\n",
    "output = net(input)\n",
    "loss = criterion(output, target)\n",
    "loss.backward()\n",
    "optimizer.step()"
   ]
  },
  {
   "cell_type": "code",
   "execution_count": null,
   "metadata": {},
   "outputs": [],
   "source": []
  }
 ],
 "metadata": {
  "kernelspec": {
   "display_name": "Julia 1.3.1",
   "language": "julia",
   "name": "julia-1.3"
  },
  "language_info": {
   "file_extension": ".jl",
   "mimetype": "application/julia",
   "name": "julia",
   "version": "1.3.1"
  }
 },
 "nbformat": 4,
 "nbformat_minor": 2
}
