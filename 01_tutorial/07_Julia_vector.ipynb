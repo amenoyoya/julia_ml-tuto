{
 "cells": [
  {
   "cell_type": "markdown",
   "metadata": {},
   "source": [
    "<a href=\"https://colab.research.google.com/github/amenoyoya/julia_ml-tuto/blob/master/01_tutorial/07_Julia_vector.ipynb\">\n",
    "  <img src=\"https://colab.research.google.com/assets/colab-badge.svg\" alt=\"Open In Colab\"/>\n",
    "</a>\n",
    "\n",
    "Google Colaboratory で本notebookを開く場合は、以下の手順を実行すること\n",
    "\n",
    "1. 以下のコマンドを実行し、Julia 1.6.1 Kernel をインストール\n",
    "2. 「ランタイム」>「ランタイムのタイプを変更」から `Julia 1.6.1` を選択して保存\n",
    "3. ランタイムが一度切断され、再接続されると Julia 1.6.1 を実行可能になる\n",
    "    - Google Colaboratory は、セッションの有効時間に制限があるため、実行に時間のかかるコードがある場合は、ローカル環境で環境構築して実行する方が良い"
   ]
  },
  {
   "cell_type": "code",
   "execution_count": null,
   "metadata": {},
   "outputs": [],
   "source": [
    "!curl -sSL \"https://julialang-s3.julialang.org/bin/linux/x64/1.6/julia-1.6.1-linux-x86_64.tar.gz\" -o julia.tar.gz\n",
    "!tar -xzf julia.tar.gz -C /usr --strip-components 1\n",
    "!rm -rf julia.tar.gz*\n",
    "!julia -e 'using Pkg; pkg\"add IJulia\"'"
   ]
  },
  {
   "cell_type": "markdown",
   "metadata": {},
   "source": [
    "# Juliaにおける配列・行列関連操作まとめ\n",
    "\n",
    "## 配列\n",
    "\n",
    "### 一次元配列\n",
    "Juliaにおいて、配列とは一次元配列であり、`[要素, 要素, ...]` のように `,` 区切りで表現される\n",
    "\n",
    "なお、一次元配列とは列ベクトルを表しているため注意が必要（Julia以外の大抵の言語では、一次元配列は行ベクトルとなっている）"
   ]
  },
  {
   "cell_type": "code",
   "execution_count": 1,
   "metadata": {},
   "outputs": [
    {
     "data": {
      "text/plain": [
       "3-element Vector{Int64}:\n",
       " 1\n",
       " 3\n",
       " 4"
      ]
     },
     "execution_count": 1,
     "metadata": {},
     "output_type": "execute_result"
    }
   ],
   "source": [
    "[1, 3, 4]"
   ]
  },
  {
   "cell_type": "markdown",
   "metadata": {},
   "source": [
    "### 固定長配列の作成\n",
    "固定長配列の作成方法は以下のようにいくつか用意されている\n",
    "\n",
    "- Vector型のコンストラクタ: `Vector{型}(undef, 要素数)`\n",
    "    - 要素数分、任意の値で埋めた配列が生成される\n",
    "- zeros: `zeros([型,] 要素数)`\n",
    "    - 要素数分 0 で埋めた配列が生成される\n",
    "- ones: `ones([型,] 要素数)`\n",
    "    - 要素数分 1 で埋めた配列が生成される\n",
    "- fill: `fill(要素, 要素数)`\n",
    "    - 要素数分、指定要素で埋めた配列が生成される"
   ]
  },
  {
   "cell_type": "code",
   "execution_count": 2,
   "metadata": {},
   "outputs": [
    {
     "name": "stdout",
     "output_type": "stream",
     "text": [
      "a: Vector{Float64} [5.0e-324, 0.0, 6.89896358286034e-310]\n",
      "z: Vector{Float64} [0.0, 0.0]\n",
      "o: Vector{Float64} [1.0, 1.0, 1.0, 1.0]\n",
      "f: Vector{Float64} [1.23, 1.23, 1.23, 1.23, 1.23]\n"
     ]
    }
   ],
   "source": [
    "a = Array{Float64, 1}(undef, 3)\n",
    "println(\"a: $(typeof(a)) $(a)\")\n",
    "\n",
    "z = zeros(2)\n",
    "println(\"z: $(typeof(z)) $(z)\")\n",
    "\n",
    "o = ones(4)\n",
    "println(\"o: $(typeof(o)) $(o)\")\n",
    "\n",
    "f = fill(1.23, 5)\n",
    "println(\"f: $(typeof(f)) $(f)\")"
   ]
  },
  {
   "cell_type": "code",
   "execution_count": 3,
   "metadata": {},
   "outputs": [
    {
     "name": "stdout",
     "output_type": "stream",
     "text": [
      "a: Vector{Int64} [1, 2, 3]\n",
      "b: Vector{Int64} [1, 3, 5]\n",
      "c: Vector{Int64} [1, 3, 5]\n",
      "d: Vector{Int64} [1, 3, 5]\n",
      "e: Vector{String} [\"1\", \"2\", \"Fizz\", \"4\", \"Buzz\", \"Fizz\", \"7\", \"8\", \"Fizz\", \"Buzz\", \"11\", \"Fizz\", \"13\", \"14\", \"Fizz Buzz\"]\n"
     ]
    }
   ],
   "source": [
    "\"\"\"\n",
    "連番、等差数列の作成\n",
    "\"\"\"\n",
    "# start:end\n",
    "a = Vector{Int}(1:3) # = Array{Int,1}(1:3)\n",
    "println(\"a: $(typeof(a)) $(a)\")\n",
    "\n",
    "# start:step:end\n",
    "b = Vector(1:2:5)\n",
    "println(\"b: $(typeof(b)) $(b)\")\n",
    "\n",
    "# リスト表記も可能（末尾の ; を忘れないように）\n",
    "c = [1:2:5;]\n",
    "println(\"c: $(typeof(c)) $(c)\")\n",
    "\n",
    "# collect関数\n",
    "d = collect(1:2:5)\n",
    "println(\"d: $(typeof(d)) $(d)\")\n",
    "\n",
    "# リスト内包表記\n",
    "e = [\n",
    "    if v % 15 === 0\n",
    "        \"Fizz Buzz\"\n",
    "    elseif v % 5 === 0\n",
    "        \"Buzz\"\n",
    "    elseif v % 3 === 0\n",
    "        \"Fizz\"\n",
    "    else\n",
    "        string(v)\n",
    "    end\n",
    "    for v in 1:15]\n",
    "println(\"e: $(typeof(e)) $(e)\")"
   ]
  },
  {
   "cell_type": "markdown",
   "metadata": {},
   "source": [
    "## 行列\n",
    "\n",
    "### 二次元配列\n",
    "一次元以上の配列もまた、一次元配列と同様の方法で作成できる\n",
    "\n",
    "ただし、各要素（列）は空白で区切り、行を追加するなら `;` または 改行 を使う\n",
    "\n",
    "なお、バージョン 1.6.1 時点で、多次元配列は `Array` 型ではなく `Matrix` 型として定義されている"
   ]
  },
  {
   "cell_type": "code",
   "execution_count": 4,
   "metadata": {},
   "outputs": [
    {
     "name": "stdout",
     "output_type": "stream",
     "text": [
      "a: 1×3 Matrix{Int64} [1 3 4]\n",
      "a: 3×1 Vector{Int64} [1, 3, 4]\n",
      "b: 2×3 Matrix{Int64} [1 2 3; 4 5 6]\n",
      "c: 2×3 Matrix{Int64} [1 2 3; 4 5 6]\n"
     ]
    }
   ],
   "source": [
    "a = [1 3 4]\n",
    "println(\"a: $(size(a,1))×$(size(a,2)) $(typeof(a)) $(a)\")\n",
    "\n",
    "b = [1; 3; 4]\n",
    "println(\"a: $(size(b,1))×$(size(b,2)) $(typeof(b)) $(b)\")\n",
    "\n",
    "c = [1 2 3; 4 5 6]\n",
    "println(\"b: $(size(c,1))×$(size(c,2)) $(typeof(c)) $(c)\")\n",
    "\n",
    "d = [1 2 3\n",
    "    4 5 6]\n",
    "println(\"c: $(size(d,1))×$(size(d,2)) $(typeof(d)) $(d)\")"
   ]
  },
  {
   "cell_type": "code",
   "execution_count": 5,
   "metadata": {},
   "outputs": [
    {
     "name": "stdout",
     "output_type": "stream",
     "text": [
      "a: 3×1 Vector{Int64} [1, 2, 3]\n",
      "b: 3×1 Matrix{Int64} [1; 2; 3]\n",
      "c: 3×2 Matrix{Int64} [1 4; 2 5; 3 6]\n",
      "d: 3×2 Matrix{Int64} [1 4; 2 5; 3 6]\n"
     ]
    }
   ],
   "source": [
    "\"\"\"\n",
    "ベクトル（一次元配列）から行列（二次元配列）に変換\n",
    "\"\"\"\n",
    "# 一次元配列 [1, 2, 3]\n",
    "a = Vector(1:3)\n",
    "println(\"a: $(size(a,1))×$(size(a,2)) $(typeof(a)) $(a)\")\n",
    "\n",
    "# 軸追加による行列化\n",
    "## 3x1-Vector => 3x1-Matrix に変換される\n",
    "b = a[:, :]\n",
    "println(\"b: $(size(b,1))×$(size(b,2)) $(typeof(b)) $(b)\")\n",
    "\n",
    "# 列を追加することによる行列化\n",
    "c = [a Vector(4:6)]\n",
    "println(\"c: $(size(c,1))×$(size(c,2)) $(typeof(c)) $(c)\")\n",
    "\n",
    "## 列の追加＝水平結合のため hcat でも可\n",
    "d = hcat(a, Vector(4:6))\n",
    "println(\"d: $(size(d,1))×$(size(d,2)) $(typeof(d)) $(d)\")"
   ]
  },
  {
   "cell_type": "markdown",
   "metadata": {},
   "source": [
    "## 要素アクセス\n",
    "\n",
    "N次元配列（テンソル）へのアクセスは以下のように添字で行う\n",
    "\n",
    "```\n",
    "tensor[1次元目のindex, 2次元目のindex, ..., N次元目のindex]\n",
    "```\n",
    "\n",
    "なお特殊な添字として `end` は、配列の最後の要素を示す"
   ]
  },
  {
   "cell_type": "code",
   "execution_count": 6,
   "metadata": {},
   "outputs": [
    {
     "name": "stdout",
     "output_type": "stream",
     "text": [
      "a[2]: 3\n",
      "a[end]: 5\n",
      "b[2,3]: 6\n",
      "b[1, 2:3]: [2, 3]\n",
      "b[:, 3]: [3, 6]\n"
     ]
    }
   ],
   "source": [
    "a = [1:2:5;] # => [1, 3, 5]\n",
    "\n",
    "# 2(列目)の要素にアクセス\n",
    "println(\"a[2]: $(a[2])\")\n",
    "\n",
    "# 最後の要素にアクセス\n",
    "println(\"a[end]: $(a[end])\")\n",
    "\n",
    "b = [1 2 3; 4 5 6]\n",
    "\n",
    "# 2行目, 3列目 の要素にアクセス\n",
    "println(\"b[2,3]: $(b[2,3])\")\n",
    "\n",
    "# 1行目の2〜3列目の要素にアクセス\n",
    "println(\"b[1, 2:3]: $(b[1, 2:3])\")\n",
    "\n",
    "# 3列目のすべての要素にアクセス\n",
    "println(\"b[:, 3]: $(b[:, 3])\")"
   ]
  },
  {
   "cell_type": "code",
   "execution_count": 7,
   "metadata": {},
   "outputs": [
    {
     "name": "stdout",
     "output_type": "stream",
     "text": [
      "even: [4, 10]\n",
      "indexes: [1, 3]\n",
      "odd: [1, 7]\n"
     ]
    }
   ],
   "source": [
    "\"\"\"\n",
    "要素検索\n",
    "\"\"\"\n",
    "# [1, 4, 7, 10]\n",
    "a = [1:3:10;]\n",
    "\n",
    "# 特定条件の要素を検索することができる\n",
    "## 各演算子は、ドット(.)演算子を使い、テンソルの各要素に対する演算に変換する必要がある\n",
    "even = a[a .% 2 .=== 0] # 偶数のみ検索\n",
    "println(\"even: $(even)\")\n",
    "\n",
    "# 特定条件の要素のindexは、findall で検索することができる\n",
    "indexes = findall(a .% 2 .=== 1) # 奇数の要素のindexを取得\n",
    "println(\"indexes: $(indexes)\")\n",
    "\n",
    "# index配列を添字にしても要素を取得できる\n",
    "odd = a[indexes]\n",
    "println(\"odd: $(odd)\")"
   ]
  },
  {
   "cell_type": "markdown",
   "metadata": {},
   "source": [
    "## ベクトルの変形\n",
    "\n",
    "### 次元変形\n",
    "次元変形は、次元数の合計を変更せずに各次元数を変更することである\n",
    "\n",
    "次元変形には、`reshape`関数を使う\n",
    "\n",
    "これにより、例えば、1×6の行列を2×3の行列に変形することができる"
   ]
  },
  {
   "cell_type": "code",
   "execution_count": 8,
   "metadata": {},
   "outputs": [
    {
     "name": "stdout",
     "output_type": "stream",
     "text": [
      "a: 1×6 Matrix{Int64} [1 2 3 4 5 6]\n",
      "b: 2×3 Matrix{Int64} [1 3 5; 2 4 6]\n"
     ]
    }
   ],
   "source": [
    "# 1x6 Matrix{Int64}\n",
    "a = [1 2 3 4 5 6]\n",
    "println(\"a: $(size(a,1))×$(size(a,2)) $(typeof(a)) $(a)\")\n",
    "\n",
    "# 1x6 => 2x3 に次元変形\n",
    "b = reshape(a, 2, 3)\n",
    "println(\"b: $(size(b,1))×$(size(b,2)) $(typeof(b)) $(b)\")"
   ]
  },
  {
   "cell_type": "markdown",
   "metadata": {},
   "source": [
    "### 転置行列\n",
    "行列の行と列を入れ替えた行列を転置行列と呼ぶ\n",
    "\n",
    "転置行列は、`'`演算子もしくは`transpose`関数で求めることができる"
   ]
  },
  {
   "cell_type": "code",
   "execution_count": 9,
   "metadata": {},
   "outputs": [
    {
     "data": {
      "text/plain": [
       "3×3 adjoint(::Matrix{Int64}) with eltype Int64:\n",
       " 1  4  7\n",
       " 2  5  8\n",
       " 3  6  9"
      ]
     },
     "execution_count": 9,
     "metadata": {},
     "output_type": "execute_result"
    }
   ],
   "source": [
    "a = [1 2 3; 4 5 6; 7 8 9]\n",
    "\n",
    "# 転置行列: transpose(a) でも可\n",
    "a'"
   ]
  },
  {
   "cell_type": "markdown",
   "metadata": {},
   "source": [
    "### 入れ子配列の行列化\n",
    "C言語等、テンソルを `Array{Array{Type, 1}, 1}` のような入れ子配列で表す言語に慣れていると、Juliaの行列がよくわからなくなることが多い\n",
    "\n",
    "そのような時は、一旦入れ子配列にした後で行列化するという操作が必要になる\n",
    "\n",
    "この操作は、基本的には、水平全結合（`hcat(vec...)`）もしくは垂直全結合（`vcat(vec...)`）を使えば実現できる"
   ]
  },
  {
   "cell_type": "code",
   "execution_count": 10,
   "metadata": {},
   "outputs": [
    {
     "name": "stdout",
     "output_type": "stream",
     "text": [
      "Array{Vector{Int64}}((2,))\n",
      "  1: Array{Int64}((3,)) [1, 2, 3]\n",
      "  2: Array{Int64}((3,)) [4, 5, 6]\n",
      "v: 6×1 Vector{Int64} [1, 2, 3, 4, 5, 6]\n",
      "h: 3×2 Matrix{Int64} [1 4; 2 5; 3 6]\n",
      "v: 2×3 Matrix{Int64} [1 3 5; 2 4 6]\n",
      "h: 2×3 LinearAlgebra.Transpose{Int64, Matrix{Int64}} [1 2 3; 4 5 6]\n"
     ]
    }
   ],
   "source": [
    "# 2-Array{3-Array{Int64}}\n",
    "a = [\n",
    "    [1, 2, 3],\n",
    "    [4, 5, 6],\n",
    "]\n",
    "dump(a)\n",
    "\n",
    "# 6x1-Vector{Int64} にしたい場合: vcat\n",
    "v = vcat(a...)\n",
    "println(\"v: $(size(v,1))×$(size(v,2)) $(typeof(v)) $(v)\")\n",
    "\n",
    "# 3x2-Matrix{Int64} にしたい場合: hcat\n",
    "h = hcat(a...)\n",
    "println(\"h: $(size(h,1))×$(size(h,2)) $(typeof(h)) $(h)\")\n",
    "\n",
    "# 2x3-Matrix{Int64} にしたい場合\n",
    "## vcat |> reshape\n",
    "v = reshape(vcat(a...), 2, 3)\n",
    "println(\"v: $(size(v,1))×$(size(v,2)) $(typeof(v)) $(v)\")\n",
    "\n",
    "## 水平結合後、転置行列を求める\n",
    "h = hcat(a...) |> transpose\n",
    "println(\"h: $(size(h,1))×$(size(h,2)) $(typeof(h)) $(h)\")"
   ]
  },
  {
   "cell_type": "markdown",
   "metadata": {},
   "source": [
    "## 行列の内積\n",
    "\n",
    "行列の内積は `tensorA * tensorB` で表され、行列の各要素の乗算である `tensorA .* tensorB` とは明確に区別される\n",
    "\n",
    "内積は、被乗数Aの列と乗数Bの行が同サイズである必要があるが、各要素の乗算では、被乗数Aと乗数Bの行・列ともに同サイズである必要がある\n",
    "\n",
    "例えば、2×3行列A`(1 2 3; 4 5 6)` と 3×1行列B`(9; 8; 7)` は内積を計算することはできるが、各要素の乗算を行うことはできない"
   ]
  },
  {
   "cell_type": "code",
   "execution_count": 11,
   "metadata": {},
   "outputs": [
    {
     "data": {
      "text/plain": [
       "2-element Vector{Int64}:\n",
       "  46\n",
       " 118"
      ]
     },
     "execution_count": 11,
     "metadata": {},
     "output_type": "execute_result"
    }
   ],
   "source": [
    "A = [1 2 3; 4 5 6]\n",
    "B = [9; 8; 7]\n",
    "\n",
    "# 内積: [1*9 + 2*8 + 3*7; 4*9 + 5*8 + 6*7]\n",
    "A * B"
   ]
  },
  {
   "cell_type": "code",
   "execution_count": 12,
   "metadata": {},
   "outputs": [
    {
     "data": {
      "text/plain": [
       "2×2 Matrix{Int64}:\n",
       "  5  12\n",
       " 21  32"
      ]
     },
     "execution_count": 12,
     "metadata": {},
     "output_type": "execute_result"
    }
   ],
   "source": [
    "A = [1 2; 3 4]\n",
    "B = [5 6; 7 8]\n",
    "\n",
    "# 各要素の乗算: [1*5 2*6; 3*7 4*8]\n",
    "A .* B"
   ]
  },
  {
   "cell_type": "code",
   "execution_count": null,
   "metadata": {},
   "outputs": [],
   "source": []
  }
 ],
 "metadata": {
  "kernelspec": {
   "display_name": "Julia 1.6.1",
   "language": "julia",
   "name": "julia-1.6"
  },
  "language_info": {
   "file_extension": ".jl",
   "mimetype": "application/julia",
   "name": "julia",
   "version": "1.6.1"
  }
 },
 "nbformat": 4,
 "nbformat_minor": 4
}
