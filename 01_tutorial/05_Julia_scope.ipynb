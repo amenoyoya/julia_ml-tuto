{
 "cells": [
  {
   "cell_type": "markdown",
   "metadata": {},
   "source": [
    "<a href=\"https://colab.research.google.com/github/amenoyoya/julia_ml-tuto/blob/master/01_tutorial/05_Julia_scope.ipynb\">\n",
    "  <img src=\"https://colab.research.google.com/assets/colab-badge.svg\" alt=\"Open In Colab\"/>\n",
    "</a>\n",
    "\n",
    "Google Colaboratory で本notebookを開く場合は、以下の手順を実行すること\n",
    "\n",
    "1. 以下のコマンドを実行し、Julia 1.6.1 Kernel をインストール\n",
    "2. 「ランタイム」>「ランタイムのタイプを変更」から `Julia 1.6.1` を選択して保存\n",
    "3. ランタイムが一度切断され、再接続されると Julia 1.6.1 を実行可能になる\n",
    "    - Google Colaboratory は、セッションの有効時間に制限があるため、実行に時間のかかるコードがある場合は、ローカル環境で環境構築して実行する方が良い"
   ]
  },
  {
   "cell_type": "code",
   "execution_count": null,
   "metadata": {},
   "outputs": [],
   "source": [
    "!curl -sSL \"https://julialang-s3.julialang.org/bin/linux/x64/1.6/julia-1.6.1-linux-x86_64.tar.gz\" -o julia.tar.gz\n",
    "!tar -xzf julia.tar.gz -C /usr --strip-components 1\n",
    "!rm -rf julia.tar.gz*\n",
    "!julia -e 'using Pkg; pkg\"add IJulia\"'"
   ]
  },
  {
   "cell_type": "markdown",
   "metadata": {},
   "source": [
    "## 変数のスコープ\n",
    "\n",
    "変数のスコープとは、変数を参照できるコードの範囲のこと（**スコープブロック**）\n",
    "\n",
    "変数のスコープは、変数の名前が衝突するのを避けるのに役立つ\n",
    "\n",
    "同じ変数名が、いつ同じものを参照し、いつそうではないかを決める規則は **スコープ規則** と呼ばれる\n",
    "\n",
    "### スコープブロック\n",
    "\n",
    "スコープ名             | スコープを採用している ブロック／構成要素\n",
    ":--                    | :--\n",
    "グローバルスコープ     | `module`, `baremodule`, 対話セッション (REPL)\n",
    "ソフトローカルスコープ | `for`, `while`, 内包表記, `try-catch-finally`, `let`\n",
    "ハードローカルスコープ | 関数 (通常構文、 無名関数 、 `do`ブロック), `struct`, `macro`\n",
    "\n",
    "#### スコープブロックを導入しないブロック\n",
    "- `begin`ブロック\n",
    "- `if`ブロック"
   ]
  },
  {
   "cell_type": "code",
   "execution_count": 1,
   "metadata": {},
   "outputs": [
    {
     "data": {
      "text/plain": [
       "Main.Bar"
      ]
     },
     "execution_count": 1,
     "metadata": {},
     "output_type": "execute_result"
    }
   ],
   "source": [
    "# Barモジュール定義（import .Bar で使えるようになるブロック）\n",
    "module Bar\n",
    "    x = 1 # この x は Bar.x で参照可能な変数\n",
    "    foo() = x # foo関数は x を返す（この x は Bar.x を参照）\n",
    "end"
   ]
  },
  {
   "cell_type": "code",
   "execution_count": 2,
   "metadata": {},
   "outputs": [
    {
     "data": {
      "text/plain": [
       "1"
      ]
     },
     "execution_count": 2,
     "metadata": {},
     "output_type": "execute_result"
    }
   ],
   "source": [
    "# カレントディレクトリで定義された Bar モジュールを import\n",
    "import .Bar\n",
    "\n",
    "x = -1 # この x はグローバルな x（Bar.x とは無関係）\n",
    "\n",
    "# Barモジュール内にある foo() 関数\n",
    "## -> Barモジュール内の x が返る -> 1\n",
    "Bar.foo()"
   ]
  },
  {
   "cell_type": "markdown",
   "metadata": {},
   "source": [
    "### グローバルスコープ\n",
    "各モジュールは、他のモジュールと分離した新しいグローバルスコープを導入する\n",
    "\n",
    "変数の束縛が変更されるのは、モジュール内のグローバルスコープのみで、モジュール外では変更されない"
   ]
  },
  {
   "cell_type": "code",
   "execution_count": 3,
   "metadata": {},
   "outputs": [
    {
     "name": "stdout",
     "output_type": "stream",
     "text": [
      "2\n",
      "1\n"
     ]
    }
   ],
   "source": [
    "module A\n",
    "    a = 1 # global a in module A\n",
    "end\n",
    "\n",
    "module B\n",
    "    # module C in module B\n",
    "    module C\n",
    "        c = 2 # global c in module C\n",
    "    end\n",
    "    \n",
    "    # モジュールB内で定義されたモジュールC内の変数にアクセスできる\n",
    "    b = C.c # global b in module B\n",
    "\n",
    "    # モジュールAは モジュールBの外で定義されているため、アクセスできない\n",
    "    ## d = A.a\n",
    "\n",
    "    # 一つの上の空間で定義されている モジュールAをimport\n",
    "    import ..A\n",
    "    d = A.a\n",
    "end\n",
    "\n",
    "# モジュールBはこの空間内で定義されているためアクセスできる\n",
    "println(B.b)\n",
    "println(B.d)"
   ]
  },
  {
   "cell_type": "markdown",
   "metadata": {},
   "source": [
    "上記のモジュールは以下のような階層構造になっている\n",
    "\n",
    "```\n",
    "       Main\n",
    "         |\n",
    "    -----------\n",
    "    |         |\n",
    "module A  module B\n",
    "    |         |_ module C\n",
    "    |         |      |_ c = 2\n",
    "    |         |_ b = C.c ___:\n",
    "    |         |_ import ..A (../module A)\n",
    "    |_ a = 1  |_ d = A.a _:\n",
    "           :___________:\n",
    "```"
   ]
  },
  {
   "cell_type": "markdown",
   "metadata": {},
   "source": [
    "### ローカルスコープ\n",
    "`begin`, `if`ブロック等を除くほとんどのコードブロックは、新しいローカルスコールを導入する\n",
    "\n",
    "通常、ローカルスコールは、親スコープの全ての変数を受け継いでいる\n",
    "\n",
    "しかし、ローカルスコープにはハードとソフトの2つの派生型があり、どの変数が受け継がれるか、わずかに規則が異なる\n",
    "\n",
    "いずれにしても、**ローカルスコープ内で新たに導入された変数は、その親スコープに逆伝播されることはない**"
   ]
  },
  {
   "cell_type": "code",
   "execution_count": 4,
   "metadata": {},
   "outputs": [
    {
     "ename": "LoadError",
     "evalue": "UndefVarError: z not defined",
     "output_type": "error",
     "traceback": [
      "UndefVarError: z not defined",
      "",
      "Stacktrace:",
      " [1] top-level scope",
      "   @ :0",
      " [2] eval",
      "   @ .\\boot.jl:360 [inlined]",
      " [3] include_string(mapexpr::typeof(REPL.softscope), mod::Module, code::String, filename::String)",
      "   @ Base .\\loading.jl:1094"
     ]
    }
   ],
   "source": [
    "for i = 1:10\n",
    "    z = i # forブロック内で導入されたローカル変数 z\n",
    "end\n",
    "\n",
    "# forブロック内のローカル変数 z にアクセスすることはできない\n",
    "z"
   ]
  },
  {
   "cell_type": "markdown",
   "metadata": {},
   "source": [
    "#### ソフトローカルスコープ\n",
    "変数の読み取りに関しては、基本的に全ての変数は親スコープから受け継がれる\n",
    "\n",
    "ソフトローカルスコープは `for`, `while`, 内包表記, `try-catch-finally`, `let` ブロックに導入されており、親スコープの変数に対して読み取り・書き込みの両方を行うことができる\n",
    "\n",
    "---\n",
    "\n",
    "#### Julia 1.5 以降の注意\n",
    "Julia 1.5 以降、上記のような挙動は分かりにくいため廃止された\n",
    "\n",
    "そのため、親スコープの変数に対する読み取り・書き込みを行いたい場合は、明示的に `global` キーワードを用いる必要がある\n",
    "\n",
    "ただし、読み取りのみであれば、引き続き親スコープの変数情報が引き継がれる"
   ]
  },
  {
   "cell_type": "code",
   "execution_count": 5,
   "metadata": {},
   "outputs": [
    {
     "name": "stdout",
     "output_type": "stream",
     "text": [
      "2\n"
     ]
    },
    {
     "data": {
      "text/plain": [
       "0"
      ]
     },
     "execution_count": 5,
     "metadata": {},
     "output_type": "execute_result"
    }
   ],
   "source": [
    "# グローバル変数 x, y\n",
    "x, y = 0, 1\n",
    "\n",
    "# letブロック\n",
    "let\n",
    "    # 親スコープの変数 x, y の値を読み取る\n",
    "    ## x = 0, y = 1\n",
    "    ## x <- y + 1 = 1 + 1 = 2\n",
    "    x = y + 1\n",
    "    println(x)\n",
    "end\n",
    "\n",
    "# ソフトローカルスコープは廃止されたため、letブロック内で行われた変更は、グローバル変数には影響しない\n",
    "x # -> 0 のまま"
   ]
  },
  {
   "cell_type": "code",
   "execution_count": 6,
   "metadata": {},
   "outputs": [
    {
     "name": "stdout",
     "output_type": "stream",
     "text": [
      "2\n"
     ]
    },
    {
     "data": {
      "text/plain": [
       "2"
      ]
     },
     "execution_count": 6,
     "metadata": {},
     "output_type": "execute_result"
    }
   ],
   "source": [
    "# グローバル変数 x, y\n",
    "x, y = 0, 1\n",
    "\n",
    "# letブロック\n",
    "let\n",
    "    # 親スコープの変数 x に対して書き込みを行いたい場合は global キーワードを用いる\n",
    "    global x = y + 1\n",
    "    println(x)\n",
    "end\n",
    "\n",
    "# グローバル変数に変更が反映されている\n",
    "x # -> 2"
   ]
  },
  {
   "cell_type": "code",
   "execution_count": 7,
   "metadata": {},
   "outputs": [
    {
     "name": "stdout",
     "output_type": "stream",
     "text": [
      "1001\n"
     ]
    },
    {
     "data": {
      "text/plain": [
       "(0, 1)"
      ]
     },
     "execution_count": 7,
     "metadata": {},
     "output_type": "execute_result"
    }
   ],
   "source": [
    "# グローバル変数 x, y\n",
    "x, y = 0, 1\n",
    "\n",
    "# letブロック\n",
    "let\n",
    "    # localキーワード\n",
    "    ## ブロック内でのみ使用可能なローカル変数として宣言できる\n",
    "    local y = 1000\n",
    "    local x = y + 1 # -> 1000 + 1 = 1001\n",
    "    println(x) # -> 1001\n",
    "end\n",
    "\n",
    "# local変数の変更はglobal変数には関係ない\n",
    "x, y # -> 0, 1"
   ]
  },
  {
   "cell_type": "code",
   "execution_count": 8,
   "metadata": {},
   "outputs": [
    {
     "name": "stdout",
     "output_type": "stream",
     "text": [
      "0\n",
      "0\n",
      "0\n"
     ]
    }
   ],
   "source": [
    "# 変数を割り当てるブロックの挙動\n",
    "\n",
    "# -- letブロック --\n",
    "n = 0\n",
    "\n",
    "let n = 100 # ローカル変数を割り当てる\n",
    "    n += 1 # -> n = 100 + 1 = 101\n",
    "end\n",
    "\n",
    "# 親スコープの n には影響がない -> 0\n",
    "println(n)\n",
    "\n",
    "\n",
    "# -- forブロック --\n",
    "i = 0\n",
    "\n",
    "for i = 1:3 # ローカル変数を割り当てる\n",
    "end\n",
    "\n",
    "# 親スコープの i には影響がない -> 0\n",
    "println(i)\n",
    "\n",
    "\n",
    "# -- 内包表記 --\n",
    "x = 0\n",
    "\n",
    "# ローカル変数を割り当てる\n",
    "[x for x = 1:3] # -> [1, 2, 3]\n",
    "\n",
    "# 親スコープの x には影響がない -> 0\n",
    "println(x)"
   ]
  },
  {
   "cell_type": "markdown",
   "metadata": {},
   "source": [
    "#### ハードローカルスコープ\n",
    "ハードローカルスコープは、関数定義、タイプ定義(`struct`ブロック)、およびマクロ定義によって導入される\n",
    "\n",
    "ハードローカルスコープでは、親スコープの変数に対して**読取だけが受け継がれる**\n",
    "\n",
    "---\n",
    "\n",
    "#### Julia 1.5 以降の注意点\n",
    "先述の通り、Julia 1.5 以降は、全てハードローカルスコープとなる"
   ]
  },
  {
   "cell_type": "code",
   "execution_count": 9,
   "metadata": {},
   "outputs": [
    {
     "name": "stdout",
     "output_type": "stream",
     "text": [
      "4\n",
      "1\n"
     ]
    }
   ],
   "source": [
    "x, y = 1, 2\n",
    "\n",
    "function foo()\n",
    "    x = 2 # 親スコープの変数に書込できないため、local変数 x が作られる\n",
    "    return x + y # local x + global y -> 2 + 2 -> 4\n",
    "end\n",
    "\n",
    "println(foo()) # -> 4\n",
    "println(x) # -> global x -> 1"
   ]
  },
  {
   "cell_type": "markdown",
   "metadata": {},
   "source": [
    "## 定数\n",
    "\n",
    "特定の変数に不変の値を与えたい場合、`const`キーワードを使い、定数を作ることができる\n",
    "\n",
    "定数への代入は一度きりであるが、配列などの可変なオブジェクトに変数を束縛した場合に、そのオブジェクトが不変になるわけではないことに注意する"
   ]
  },
  {
   "cell_type": "code",
   "execution_count": 10,
   "metadata": {},
   "outputs": [
    {
     "ename": "LoadError",
     "evalue": "invalid redefinition of constant PI",
     "output_type": "error",
     "traceback": [
      "invalid redefinition of constant PI",
      "",
      "Stacktrace:",
      " [1] top-level scope",
      "   @ In[10]:5",
      " [2] eval",
      "   @ .\\boot.jl:360 [inlined]",
      " [3] include_string(mapexpr::typeof(REPL.softscope), mod::Module, code::String, filename::String)",
      "   @ Base .\\loading.jl:1094"
     ]
    }
   ],
   "source": [
    "# 定数 PI = 3.14 定義\n",
    "const PI = 3.14\n",
    "\n",
    "# PI に別の値を再代入することはできない\n",
    "PI = \"円周率\""
   ]
  },
  {
   "cell_type": "code",
   "execution_count": 11,
   "metadata": {},
   "outputs": [
    {
     "data": {
      "text/plain": [
       "3-element Vector{Int64}:\n",
       " 10\n",
       " 20\n",
       " 30"
      ]
     },
     "execution_count": 11,
     "metadata": {},
     "output_type": "execute_result"
    }
   ],
   "source": [
    "# 定数 VEC = [1, 2, 3] 定義\n",
    "const VEC = [1, 2, 3]\n",
    "\n",
    "# ARY に別の値を再代入することはできない\n",
    "## ARY = [3, 4, 5] -> Error\n",
    "\n",
    "# ARY の配列の要素を変更できないわけではない\n",
    "VEC[1] = 10 ## Juliaの添字は 1 から始まる\n",
    "VEC[2] = 20\n",
    "VEC[3] = 30\n",
    "\n",
    "VEC"
   ]
  },
  {
   "cell_type": "code",
   "execution_count": null,
   "metadata": {},
   "outputs": [],
   "source": []
  }
 ],
 "metadata": {
  "kernelspec": {
   "display_name": "Julia 1.6.1",
   "language": "julia",
   "name": "julia-1.6"
  },
  "language_info": {
   "file_extension": ".jl",
   "mimetype": "application/julia",
   "name": "julia",
   "version": "1.6.1"
  }
 },
 "nbformat": 4,
 "nbformat_minor": 4
}
