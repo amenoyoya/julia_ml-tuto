{
 "cells": [
  {
   "cell_type": "markdown",
   "id": "e86c68d0-640d-417c-b8c7-7437bfbcdd29",
   "metadata": {},
   "source": [
    "<a href=\"https://colab.research.google.com/github/amenoyoya/julia_ml-tuto/blob/master/01_tutorial/08_metaprogramming.ipynb\">\n",
    "  <img src=\"https://colab.research.google.com/assets/colab-badge.svg\" alt=\"Open In Colab\"/>\n",
    "</a>\n",
    "\n",
    "Google Colaboratory で本notebookを開く場合は、以下の手順を実行すること\n",
    "\n",
    "1. 以下のコマンドを実行し、Julia 1.6.1 Kernel をインストール\n",
    "2. 「ランタイム」>「ランタイムのタイプを変更」から `Julia 1.6.1` を選択して保存\n",
    "3. ランタイムが一度切断され、再接続されると Julia 1.6.1 を実行可能になる\n",
    "    - Google Colaboratory は、セッションの有効時間に制限があるため、実行に時間のかかるコードがある場合は、ローカル環境で環境構築して実行する方が良い"
   ]
  },
  {
   "cell_type": "code",
   "execution_count": null,
   "id": "390284fa-8247-4d89-bb0f-fe847df92e3b",
   "metadata": {},
   "outputs": [],
   "source": [
    "!curl -sSL \"https://julialang-s3.julialang.org/bin/linux/x64/1.6/julia-1.6.1-linux-x86_64.tar.gz\" -o julia.tar.gz\n",
    "!tar -xzf julia.tar.gz -C /usr --strip-components 1\n",
    "!rm -rf julia.tar.gz*\n",
    "!julia -e 'using Pkg; pkg\"add IJulia\"'"
   ]
  },
  {
   "cell_type": "markdown",
   "id": "4e913c8b-aed4-4a18-90b7-7d455a8c5654",
   "metadata": {},
   "source": [
    "## メタプラグラミング\n",
    "\n",
    "Juliaは、Lispのような強力なメタプログラミングをサポートしている\n",
    "\n",
    "Lispと同様に、Juliaは自身のコードを言語自体のデータ構造として表すことができる\n",
    "\n",
    "Juliaコードは言語内から作成・操作可能なオブジェクトとして表されるため、プログラムが独自のコードを変換・生成することができる\n",
    "\n",
    "これにより、追加のビルド手順なしで高度なコード生成が可能になり、抽象構文木（AST）レベルで動作する真の Lisp スタイルマクロが記述できるようになっている（対照的に、CやC++のようなプリプロセッサマクロシステムは、実際の解析や解釈が行われる前にテキストの操作と置換を実行する）"
   ]
  },
  {
   "cell_type": "code",
   "execution_count": 1,
   "id": "63b7bb63-3510-43de-b645-72d16a0f9e8d",
   "metadata": {},
   "outputs": [
    {
     "data": {
      "text/plain": [
       ":(1 + 1)"
      ]
     },
     "execution_count": 1,
     "metadata": {},
     "output_type": "execute_result"
    }
   ],
   "source": [
    "# すべてJuliaコードは文字列として表現される\n",
    "prog = \"1 + 1\"\n",
    "\n",
    "# Juliaコードはコンパイラにより、式（Expr）オブジェクトに解析される\n",
    "ex1 = Meta.parse(prog)"
   ]
  },
  {
   "cell_type": "code",
   "execution_count": 2,
   "id": "e07cb24a-06b2-4441-887d-e9b4e1f94c8e",
   "metadata": {},
   "outputs": [
    {
     "data": {
      "text/plain": [
       "Expr"
      ]
     },
     "execution_count": 2,
     "metadata": {},
     "output_type": "execute_result"
    }
   ],
   "source": [
    "typeof(ex1)"
   ]
  },
  {
   "cell_type": "markdown",
   "id": "04a154b7-054f-4c03-a5ea-c6ae0264d5c2",
   "metadata": {},
   "source": [
    "### Exprオブジェクト\n",
    "`Expr`オブジェクトは、以下の2つの部分から構成されている\n",
    "\n",
    "- `head`:\n",
    "    - 式の種類を表す `Sysmbol` 型\n",
    "- `args`:\n",
    "    - 式の引数として渡される記号、リテラル値、または他の式が `Vector` 型で格納されている\n",
    "\n",
    "ここで重要な点は、**Juliaコード（`Expr`）が言語自体からアクセス可能なデータ構造として内部的に表現されていること**である"
   ]
  },
  {
   "cell_type": "code",
   "execution_count": 3,
   "id": "97d0e992-3b83-44b5-be76-7aecf98fc8be",
   "metadata": {},
   "outputs": [
    {
     "data": {
      "text/plain": [
       ":call"
      ]
     },
     "execution_count": 3,
     "metadata": {},
     "output_type": "execute_result"
    }
   ],
   "source": [
    "ex1.head"
   ]
  },
  {
   "cell_type": "code",
   "execution_count": 4,
   "id": "95ee12dd-c44b-48ec-abf4-139b865d64d0",
   "metadata": {},
   "outputs": [
    {
     "data": {
      "text/plain": [
       "3-element Vector{Any}:\n",
       "  :+\n",
       " 1\n",
       " 1"
      ]
     },
     "execution_count": 4,
     "metadata": {},
     "output_type": "execute_result"
    }
   ],
   "source": [
    "ex1.args"
   ]
  },
  {
   "cell_type": "code",
   "execution_count": 5,
   "id": "80427bdc-3543-4a85-a411-15dc264e4c0f",
   "metadata": {},
   "outputs": [
    {
     "data": {
      "text/plain": [
       ":(1 + 1)"
      ]
     },
     "execution_count": 5,
     "metadata": {},
     "output_type": "execute_result"
    }
   ],
   "source": [
    "# 式はポーランド記法で直接構築することも可能\n",
    "ex2 = Expr(:call, :+, 1, 1)"
   ]
  },
  {
   "cell_type": "code",
   "execution_count": 6,
   "id": "c906575a-c0e3-4fb2-b54f-ca0823283e28",
   "metadata": {},
   "outputs": [
    {
     "data": {
      "text/plain": [
       "true"
      ]
     },
     "execution_count": 6,
     "metadata": {},
     "output_type": "execute_result"
    }
   ],
   "source": [
    "ex1 == ex2"
   ]
  },
  {
   "cell_type": "code",
   "execution_count": 7,
   "id": "061494c8-151d-4f84-9cfd-0fd17682ba6d",
   "metadata": {},
   "outputs": [
    {
     "name": "stdout",
     "output_type": "stream",
     "text": [
      "Expr\n",
      "  head: Symbol call\n",
      "  args: Array{Any}((3,))\n",
      "    1: Symbol +\n",
      "    2: Int64 1\n",
      "    3: Int64 1\n"
     ]
    }
   ],
   "source": [
    "# dump関数を使うと、Exprオブジェクトをインデントと注釈付きで表示可能\n",
    "dump(ex2)"
   ]
  },
  {
   "cell_type": "code",
   "execution_count": 8,
   "id": "c65bb1d5-8619-460d-9124-6fda01d97ede",
   "metadata": {},
   "outputs": [
    {
     "name": "stdout",
     "output_type": "stream",
     "text": [
      "(:call, :/, (:call, :+, 4, 4), 2)"
     ]
    }
   ],
   "source": [
    "# Exprオブジェクトはネスト可能\n",
    "ex3 = Meta.parse(\"(4 + 4) / 2\")\n",
    "\n",
    "# Meta.show_sexpr関数を使うと、ExprオブジェクトをS式形式（逆ポーランド記法）で表示可能\n",
    "Meta.show_sexpr(ex3)"
   ]
  },
  {
   "cell_type": "markdown",
   "id": "872f5900-d17f-432b-8d1c-a5dbca11d1fe",
   "metadata": {},
   "source": [
    "### 記号\n",
    "`:`記号は、Julia上で2つの意味がある\n",
    "\n",
    "一つは、`Symbol`型オブジェクトを生成するためのビルディングブロックである\n",
    "\n",
    "```julia\n",
    "s1 = :foo # => :foo\n",
    "typeof(s1) # => Symbol\n",
    "\n",
    "s2 = Symbol(\"foo\") # => :foo\n",
    "s1 == s2 # => true\n",
    "\n",
    "s3 = Symbol(:s2, \"_\", \"sym\") # => :foo_sym\n",
    "```\n",
    "\n",
    "2つ目は、明示的な`Expr`コンストラクタを使用せずに式オブジェクトを作成するための構文である\n",
    "\n",
    "これは **引用** と呼ばれる\n",
    "\n",
    "```julia\n",
    "ex = :(a + b * c + 1) # => :(a + b * c + 1)\n",
    "typeof(ex) # => Expr\n",
    "```"
   ]
  },
  {
   "cell_type": "code",
   "execution_count": 9,
   "id": "d035f3f2-763d-4df3-b7a7-eadd6efce229",
   "metadata": {},
   "outputs": [
    {
     "name": "stdout",
     "output_type": "stream",
     "text": [
      "Expr\n",
      "  head: Symbol call\n",
      "  args: Array{Any}((4,))\n",
      "    1: Symbol +\n",
      "    2: Symbol a\n",
      "    3: Expr\n",
      "      head: Symbol call\n",
      "      args: Array{Any}((3,))\n",
      "        1: Symbol *\n",
      "        2: Symbol b\n",
      "        3: Symbol c\n",
      "    4: Int64 1\n"
     ]
    }
   ],
   "source": [
    "ex = :(a + b * c + 1)\n",
    "dump(ex)"
   ]
  },
  {
   "cell_type": "code",
   "execution_count": 10,
   "id": "766da331-c4f5-4556-b047-9e0e99f2adcb",
   "metadata": {},
   "outputs": [
    {
     "data": {
      "text/plain": [
       "quote\n",
       "    #= In[10]:3 =#\n",
       "    x = 1\n",
       "    #= In[10]:4 =#\n",
       "    y = 2\n",
       "    #= In[10]:5 =#\n",
       "    x + y\n",
       "end"
      ]
     },
     "execution_count": 10,
     "metadata": {},
     "output_type": "execute_result"
    }
   ],
   "source": [
    "# 複数の式を引用するためには quote ... end コードブロックを利用する\n",
    "ex = quote\n",
    "    x = 1\n",
    "    y = 2\n",
    "    x + y\n",
    "end"
   ]
  },
  {
   "cell_type": "code",
   "execution_count": 11,
   "id": "96a3f5b8-1132-41f7-a512-78913e8a7fb0",
   "metadata": {},
   "outputs": [
    {
     "name": "stdout",
     "output_type": "stream",
     "text": [
      "Expr\n",
      "  head: Symbol block\n",
      "  args: Array{Any}((6,))\n",
      "    1: LineNumberNode\n",
      "      line: Int64 3\n",
      "      file: Symbol In[10]\n",
      "    2: Expr\n",
      "      head: Symbol =\n",
      "      args: Array{Any}((2,))\n",
      "        1: Symbol x\n",
      "        2: Int64 1\n",
      "    3: LineNumberNode\n",
      "      line: Int64 4\n",
      "      file: Symbol In[10]\n",
      "    4: Expr\n",
      "      head: Symbol =\n",
      "      args: Array{Any}((2,))\n",
      "        1: Symbol y\n",
      "        2: Int64 2\n",
      "    5: LineNumberNode\n",
      "      line: Int64 5\n",
      "      file: Symbol In[10]\n",
      "    6: Expr\n",
      "      head: Symbol call\n",
      "      args: Array{Any}((3,))\n",
      "        1: Symbol +\n",
      "        2: Symbol x\n",
      "        3: Symbol y\n"
     ]
    }
   ],
   "source": [
    "dump(ex)"
   ]
  },
  {
   "cell_type": "markdown",
   "id": "57065d8e-3812-43cf-8b03-bee8aae96caf",
   "metadata": {},
   "source": [
    "### 補間\n",
    "`Expr`オブジェクトの直接生成は強力だが、変数を使いたい場合もある\n",
    "\n",
    "こういった場合、Juliaではリテラルまたは式を引用符で囲まれた式に挿入することが出来る\n",
    "\n",
    "これを **補間** と呼び、`$`接頭辞を用いて記述する"
   ]
  },
  {
   "cell_type": "code",
   "execution_count": 12,
   "id": "a1c9d08a-3e20-473f-8a5a-257338af8bc9",
   "metadata": {},
   "outputs": [
    {
     "data": {
      "text/plain": [
       ":(1 + b)"
      ]
     },
     "execution_count": 12,
     "metadata": {},
     "output_type": "execute_result"
    }
   ],
   "source": [
    "a = 1\n",
    "ex = :($a + b)"
   ]
  },
  {
   "cell_type": "code",
   "execution_count": 13,
   "id": "e3a77005-3374-4dec-a104-48403c9671af",
   "metadata": {},
   "outputs": [
    {
     "data": {
      "text/plain": [
       ":(a in (1, 2, 3))"
      ]
     },
     "execution_count": 13,
     "metadata": {},
     "output_type": "execute_result"
    }
   ],
   "source": [
    "ex = :(a in $:((1, 2, 3)))"
   ]
  },
  {
   "cell_type": "markdown",
   "id": "8d6a9f47-a572-451d-8647-c2612a526cea",
   "metadata": {},
   "source": [
    "### スプレッド補間\n",
    "`$`補間構文では、囲んでいる式に一つの式しか挿入できない\n",
    "\n",
    "しかし、場合によっては配列形式の式を引数にする必要があるかもしれない\n",
    "\n",
    "こういった場合は、スプレッド構文（`変数...`）を用いて `$(xs...)` という形式で記述することが出来る"
   ]
  },
  {
   "cell_type": "code",
   "execution_count": 14,
   "id": "61f045f1-12b3-4e55-9191-c4e511b69a9b",
   "metadata": {},
   "outputs": [
    {
     "data": {
      "text/plain": [
       ":(f(1, x, y, z))"
      ]
     },
     "execution_count": 14,
     "metadata": {},
     "output_type": "execute_result"
    }
   ],
   "source": [
    "args = [:x, :y, :z]\n",
    ":(f(1, $(args...)))"
   ]
  },
  {
   "cell_type": "markdown",
   "id": "5e3f82a0-2af8-4469-9b2d-faa6714d967d",
   "metadata": {},
   "source": [
    "### 式の評価\n",
    "`Expr`オブジェクトは、`eval`関数により評価（実行）される\n",
    "\n",
    "このとき、`eval`関数実行スコープ内の状態（変数）を変更する副作用を生じる可能性があることに注意"
   ]
  },
  {
   "cell_type": "code",
   "execution_count": 15,
   "id": "4a3eb8db-c7dc-4b16-bc8f-48f1f5359c46",
   "metadata": {},
   "outputs": [
    {
     "name": "stdout",
     "output_type": "stream",
     "text": [
      "123\n",
      "1\n"
     ]
    }
   ],
   "source": [
    "x = 123\n",
    "println(x) # => 123\n",
    "\n",
    "ex = :(x = 1)\n",
    "eval(ex) # => `x = 1` 式が評価され、グローバルスコープの x の値が変更される\n",
    "\n",
    "println(x) # => 1"
   ]
  },
  {
   "cell_type": "markdown",
   "id": "8e1e727e-1dac-4ed9-b7a8-8f44ad3886cc",
   "metadata": {},
   "source": [
    "### マクロ\n",
    "マクロは、生成されたコードをプログラムの最終的な本文に含める方法を提供する\n",
    "\n",
    "マクロは引数のタプルを返された式にマップし、結果の式は `eval` 呼び出しを必要とせずに直接コンパイルされる\n",
    "\n",
    "マクロ引数には、式、リテラル値、および記号を含めることができるが、これらは、マクロ内においては `Symbol` として扱われることに注意"
   ]
  },
  {
   "cell_type": "code",
   "execution_count": 16,
   "id": "3a01eb83-cb32-4b08-8506-490bde47b58c",
   "metadata": {},
   "outputs": [
    {
     "data": {
      "text/plain": [
       "@sayhello (macro with 1 method)"
      ]
     },
     "execution_count": 16,
     "metadata": {},
     "output_type": "execute_result"
    }
   ],
   "source": [
    "# マクロ定義は macro ... end ブロックで行う\n",
    "## マクロが返す Expr オブジェクトは、マクロ呼び出し時に直接コンパイルされて実行される\n",
    "macro sayhello()\n",
    "    return :( println(\"Hello, macro!!\") )\n",
    "end"
   ]
  },
  {
   "cell_type": "code",
   "execution_count": 17,
   "id": "c19c283e-dfdc-4dcb-ab67-3b91de9e05c6",
   "metadata": {},
   "outputs": [
    {
     "name": "stdout",
     "output_type": "stream",
     "text": [
      "Hello, macro!!\n"
     ]
    }
   ],
   "source": [
    "# マクロ実行は `@` 接頭辞をつけることで行われる\n",
    "## マクロが返す Expr オブジェクトが即時 eval される\n",
    "@sayhello"
   ]
  },
  {
   "cell_type": "code",
   "execution_count": 18,
   "id": "f54e1f32-2cc4-4b84-8d18-92494239aab0",
   "metadata": {},
   "outputs": [
    {
     "name": "stdout",
     "output_type": "stream",
     "text": [
      "Hello, world...Hello, world!!!\n",
      "Hello, julia...Hello, jula!!!\n"
     ]
    }
   ],
   "source": [
    "# 引数付きのマクロ\n",
    "macro sayhello(name, lf=true)\n",
    "    return :(\n",
    "        if $lf === true\n",
    "            println(\"Hello, \", $name)\n",
    "        else\n",
    "            print(\"Hello, \", $name)\n",
    "        end\n",
    "    )\n",
    "end\n",
    "\n",
    "# マクロは通常の関数のように呼び出すことが可能\n",
    "@sayhello(\"world...\", false)\n",
    "@sayhello(\"world!!!\")\n",
    "\n",
    "# マクロ引数はスペース区切りで指定することも可能\n",
    "@sayhello \"julia...\" false\n",
    "@sayhello \"jula!!!\""
   ]
  },
  {
   "cell_type": "code",
   "execution_count": 19,
   "id": "686459ab-3bbc-4879-9da6-25edeada365f",
   "metadata": {},
   "outputs": [
    {
     "data": {
      "text/plain": [
       ":(if false === true\n",
       "      #= In[18]:5 =#\n",
       "      Main.println(\"Hello, \", \"julia\")\n",
       "  else\n",
       "      #= In[18]:7 =#\n",
       "      Main.print(\"Hello, \", \"julia\")\n",
       "  end)"
      ]
     },
     "execution_count": 19,
     "metadata": {},
     "output_type": "execute_result"
    }
   ],
   "source": [
    "# macroexpandマクロを使うと、後続のマクロが返すExprオブジェクトを確認することができる\n",
    "@macroexpand @sayhello(\"julia\", false)"
   ]
  },
  {
   "cell_type": "code",
   "execution_count": 20,
   "id": "eb01aae5-b514-418e-b693-4c2051f1c8cb",
   "metadata": {},
   "outputs": [
    {
     "name": "stdout",
     "output_type": "stream",
     "text": [
      ":(1 + 1)"
     ]
    },
    {
     "data": {
      "text/plain": [
       "2"
      ]
     },
     "execution_count": 20,
     "metadata": {},
     "output_type": "execute_result"
    }
   ],
   "source": [
    "# マクロ引数を確認したい場合は println, show, display, dump 等の関数をマクロ内で呼び出すと良い\n",
    "macro showarg(a)\n",
    "    show(a)\n",
    "    :($a)\n",
    "end\n",
    "\n",
    "@showarg(1 + 1)"
   ]
  },
  {
   "cell_type": "code",
   "execution_count": 21,
   "id": "147db891-6aed-4570-b6fa-45ea12f5fd05",
   "metadata": {},
   "outputs": [
    {
     "name": "stdout",
     "output_type": "stream",
     "text": [
      "LineNumberNode\n",
      "  line: Int64 9\n",
      "  file: Symbol In[21]\n",
      "Module Main\n"
     ]
    }
   ],
   "source": [
    "# マクロ内では特殊変数 __source__, __module__ を利用可能\n",
    "## __source__: マクロ呼び出しが行われたパーサ位置情報\n",
    "## __module__: マクロ呼び出しが行われたモジュール情報\n",
    "macro info()\n",
    "    dump(__source__) # => LineNumberNode(line::Int64 = 行, file::Symbol = スクリプトファイル)\n",
    "    dump(__module__) # => Main\n",
    "end\n",
    "\n",
    "@info"
   ]
  },
  {
   "cell_type": "markdown",
   "id": "c9198198-7121-428a-a41b-6dfc4906d119",
   "metadata": {},
   "source": [
    "### 高度なマクロの構築\n",
    "マクロの内部で定義されたローカル変数は、マクロ呼び出し元の環境には影響を与えない（通常関数のローカル変数と同様の挙動をする）\n",
    "\n",
    "マクロ内ローカル変数を引用したい場合は、戻り値の `Expr` オブジェクト内で補間する（`$`接頭辞をつける）必要がある\n",
    "\n",
    "これはつまり、マクロ内ローカル変数は `Symbol` 型オブジェクトであることを意味している\n",
    "\n",
    "#### 例題\n",
    "引数に指定された変数に `_sym` をつけた変数をグローバルスコープに生成し、0 で初期化するマクロを実装する\n",
    "\n",
    "ただし、引数は複数指定可能とする\n",
    "\n",
    "```julia\n",
    "# 例)\n",
    "@zeros(x, y, z)\n",
    "\n",
    "\"\"\"\n",
    " ↓\n",
    "x_sym = 0\n",
    "y_sym = 0\n",
    "z_sym = 0\n",
    "\"\"\"\n",
    "```"
   ]
  },
  {
   "cell_type": "code",
   "execution_count": 22,
   "id": "1073da34-8bf2-4f0b-bf22-27e3ae4a7d9a",
   "metadata": {},
   "outputs": [
    {
     "name": "stdout",
     "output_type": "stream",
     "text": [
      "Tuple{Symbol, Symbol, Symbol}\n",
      "  1: Symbol x\n",
      "  2: Symbol y\n",
      "  3: Symbol z\n"
     ]
    }
   ],
   "source": [
    "# マクロ引数にキーワード引数は使えないが、可変引数は使うことができる\n",
    "macro zeros(vars...)\n",
    "    dump(vars)\n",
    "end\n",
    "\n",
    "@zeros(x, y, z)"
   ]
  },
  {
   "cell_type": "code",
   "execution_count": 23,
   "id": "e90a37e5-a19d-464e-8de7-02c4c0196e8a",
   "metadata": {},
   "outputs": [
    {
     "name": "stdout",
     "output_type": "stream",
     "text": [
      "Array{Symbol}((3,))\n",
      "  1: Symbol x_sym\n",
      "  2: Symbol y_sym\n",
      "  3: Symbol z_sym\n"
     ]
    }
   ],
   "source": [
    "macro zeros(vars...)\n",
    "    # 変数名（引数+\"_sym\"）配列を生成\n",
    "    names = [Symbol(var, \"_sym\") for var in vars]\n",
    "    dump(names)\n",
    "end\n",
    "\n",
    "@zeros(x, y, z)"
   ]
  },
  {
   "cell_type": "code",
   "execution_count": 24,
   "id": "c3b9a6db-e942-45f7-95f9-7baa687c95a1",
   "metadata": {},
   "outputs": [
    {
     "data": {
      "text/plain": [
       ":($(Expr(:toplevel, :(global x_sym = 0), :(global y_sym = 0), :(global z_sym = 0))))"
      ]
     },
     "execution_count": 24,
     "metadata": {},
     "output_type": "execute_result"
    }
   ],
   "source": [
    "macro zeros(vars...)\n",
    "    # 変数名（引数+\"_sym\"）配列を生成\n",
    "    names = [Symbol(var, \"_sym\") for var in vars]\n",
    "    \n",
    "    # `変数名 = 0` の式を `;` で連結して一つの Expr に変換\n",
    "    ## グローバルスコープに新規変数を宣言することになるため global キーワードをつけること\n",
    "    exps = [\"global $(name) = 0\" for name in names]\n",
    "    return Meta.parse(join(exps, \";\"))\n",
    "end\n",
    "\n",
    "@macroexpand @zeros(x, y, z)"
   ]
  },
  {
   "cell_type": "code",
   "execution_count": 25,
   "id": "a77ce646-0107-4635-9421-46f5bd588155",
   "metadata": {},
   "outputs": [
    {
     "name": "stdout",
     "output_type": "stream",
     "text": [
      "0, 0, 0\n"
     ]
    }
   ],
   "source": [
    "@zeros(x, y, z)\n",
    "println(x_sym, \", \", y_sym, \", \", z_sym) # => 0, 0, 0"
   ]
  },
  {
   "cell_type": "markdown",
   "id": "87fee6e8-1c0c-4f52-b9b7-23e36000b68f",
   "metadata": {},
   "source": [
    "#### デコレータの実装\n",
    "マクロ機能を使って、Python風のデコレータ（指定された関数を修飾して再定義する機能）を実装する"
   ]
  },
  {
   "cell_type": "code",
   "execution_count": 26,
   "id": "ca1023da-f8a3-46c8-84a5-af8f59d90771",
   "metadata": {},
   "outputs": [
    {
     "name": "stdout",
     "output_type": "stream",
     "text": [
      "Expr\n",
      "  head: Symbol function\n",
      "  args: Array{Any}((2,))\n",
      "    1: Expr\n",
      "      head: Symbol call\n",
      "      args: Array{Any}((2,))\n",
      "        1: Symbol hello\n",
      "        2: Symbol str\n",
      "    2: Expr\n",
      "      head: Symbol block\n",
      "      args: Array{Any}((3,))\n",
      "        1: LineNumberNode\n",
      "          line: Int64 27\n",
      "          file: Symbol In[26]\n",
      "        2: LineNumberNode\n",
      "          line: Int64 28\n",
      "          file: Symbol In[26]\n",
      "        3: Expr\n",
      "          head: Symbol call\n",
      "          args: Array{Any}((3,))\n",
      "            1: Symbol println\n",
      "            2: String \"Hello, \"\n",
      "            3: Symbol str\n",
      "Symbol hello\n"
     ]
    }
   ],
   "source": [
    "macro log_calls(func)\n",
    "    \"\"\"\n",
    "    func に function を指定した場合: Expr(\n",
    "        head::Symbol = function,\n",
    "        args::Array{Any}(\n",
    "            [1] = Expr(\n",
    "                head::Symbol = call,\n",
    "                args::Array{Any}(\n",
    "                    [1] = 関数名,\n",
    "                    [2...] = 関数の引数\n",
    "                )\n",
    "            ),\n",
    "            [2] = Expr(\n",
    "                head::Symbol = block,\n",
    "                args::Array{Any}\n",
    "            )\n",
    "        )\n",
    "    )\n",
    "    \"\"\"\n",
    "    # 渡されてきた関数名を取得\n",
    "    name = func.args[1].args[1]\n",
    "    \n",
    "    dump(func)\n",
    "    dump(name)\n",
    "end\n",
    "\n",
    "@log_calls function hello(str)\n",
    "    println(\"Hello, \", str)\n",
    "end"
   ]
  },
  {
   "cell_type": "code",
   "execution_count": 27,
   "id": "61d11385-befc-4c38-8b81-894004a69a76",
   "metadata": {},
   "outputs": [
    {
     "name": "stdout",
     "output_type": "stream",
     "text": [
      "Symbol hello\n",
      "Symbol ##257\n",
      "Expr\n",
      "  head: Symbol function\n",
      "  args: Array{Any}((2,))\n",
      "    1: Expr\n",
      "      head: Symbol call\n",
      "      args: Array{Any}((2,))\n",
      "        1: Symbol ##257\n",
      "        2: Symbol str\n",
      "    2: Expr\n",
      "      head: Symbol block\n",
      "      args: Array{Any}((3,))\n",
      "        1: LineNumberNode\n",
      "          line: Int64 16\n",
      "          file: Symbol In[27]\n",
      "        2: LineNumberNode\n",
      "          line: Int64 17\n",
      "          file: Symbol In[27]\n",
      "        3: Expr\n",
      "          head: Symbol call\n",
      "          args: Array{Any}((3,))\n",
      "            1: Symbol println\n",
      "            2: String \"Hello, \"\n",
      "            3: Symbol str\n"
     ]
    }
   ],
   "source": [
    "macro log_calls(func)\n",
    "    # 渡されてきた関数名を取得\n",
    "    name = func.args[1].args[1]\n",
    "    \n",
    "    # 他の変数名と衝突しない任意変数名を生成\n",
    "    hiddenname = gensym()\n",
    "    \n",
    "    # 渡されてきた元の関数名を hiddenname で置換\n",
    "    func.args[1].args[1] = hiddenname\n",
    "    \n",
    "    dump(name)\n",
    "    dump(hiddenname)\n",
    "    dump(func)\n",
    "end\n",
    "\n",
    "@log_calls function hello(str)\n",
    "    println(\"Hello, \", str)\n",
    "end"
   ]
  },
  {
   "cell_type": "code",
   "execution_count": 28,
   "id": "54d4737c-9b76-41d7-b9a3-06405b0aab88",
   "metadata": {},
   "outputs": [
    {
     "data": {
      "text/plain": [
       "quote\n",
       "    #= In[28]:19 =#\n",
       "    function var\"#75###258\"(var\"#77#str\")\n",
       "        #= In[28]:27 =#\n",
       "        #= In[28]:28 =#\n",
       "        Main.println(\"Hello, \", var\"#77#str\")\n",
       "    end\n",
       "    #= In[28]:23 =#\n",
       "    var\"#76#hello\" = (var\"#_decorator#8\"{Symbol}(:hello))(var\"#75###258\")\n",
       "end"
      ]
     },
     "execution_count": 28,
     "metadata": {},
     "output_type": "execute_result"
    }
   ],
   "source": [
    "macro log_calls(func)\n",
    "    # 渡されてきた関数名を取得\n",
    "    name = func.args[1].args[1]\n",
    "    \n",
    "    # 他の変数名と衝突しない任意変数名で元の関数名を置換\n",
    "    hiddenname = gensym()\n",
    "    func.args[1].args[1] = hiddenname\n",
    "    \n",
    "    # 修飾した関数を定義\n",
    "    ## 関数呼び出し前後で info レベルロギング\n",
    "    _decorator(f) = (args...) -> begin\n",
    "        Base.@info \"calling $(name)\"\n",
    "        f(args...)\n",
    "        Base.@info \"called $(name)\"\n",
    "    end\n",
    "    \n",
    "    quote\n",
    "        # 元の関数定義を別名で再定義\n",
    "        $func\n",
    "        \n",
    "        # 元の関数名: 修飾された関数として再定義\n",
    "        ## `$name = ...` では `var\"#インデックス#hello\" = ...` という形式で展開されてしまう\n",
    "        $name = $_decorator($hiddenname)\n",
    "    end\n",
    "end\n",
    "\n",
    "@macroexpand @log_calls function hello(str)\n",
    "    println(\"Hello, \", str)\n",
    "end"
   ]
  },
  {
   "cell_type": "code",
   "execution_count": 29,
   "id": "a4333de5-df74-4fba-803a-371b8b8ba07b",
   "metadata": {},
   "outputs": [
    {
     "data": {
      "text/plain": [
       "quote\n",
       "    #= In[29]:19 =#\n",
       "    function var\"#124###259\"(var\"#125#str\")\n",
       "        #= In[29]:27 =#\n",
       "        #= In[29]:28 =#\n",
       "        Main.println(\"Hello, \", var\"#125#str\")\n",
       "    end\n",
       "    #= In[29]:23 =#\n",
       "    hello = (var\"#_decorator#11\"{Symbol}(:hello))(var\"#124###259\")\n",
       "end"
      ]
     },
     "execution_count": 29,
     "metadata": {},
     "output_type": "execute_result"
    }
   ],
   "source": [
    "macro log_calls(func)\n",
    "    # 渡されてきた関数名を取得\n",
    "    name = func.args[1].args[1]\n",
    "    \n",
    "    # 他の変数名と衝突しない任意変数名で元の関数名を置換\n",
    "    hiddenname = gensym()\n",
    "    func.args[1].args[1] = hiddenname\n",
    "    \n",
    "    # 修飾した関数を定義\n",
    "    ## 関数呼び出し前後で info レベルロギング\n",
    "    _decorator(f) = (args...) -> begin\n",
    "        Base.@info \"calling $(name)\"\n",
    "        f(args...)\n",
    "        Base.@info \"called $(name)\"\n",
    "    end\n",
    "    \n",
    "    quote\n",
    "        # 元の関数定義を別名で再定義\n",
    "        $func\n",
    "        \n",
    "        # 元の関数名: 修飾された関数として再定義\n",
    "        ## `hello = ...` という形式で展開されて欲しいため `$(esc(name)) = ...` という形式で記述する\n",
    "        $(esc(name)) = $_decorator($hiddenname)\n",
    "    end\n",
    "end\n",
    "\n",
    "@macroexpand @log_calls function hello(str)\n",
    "    println(\"Hello, \", str)\n",
    "end"
   ]
  },
  {
   "cell_type": "code",
   "execution_count": 30,
   "id": "def027a0-9dc1-4ea4-bbf8-8c8e90266cc7",
   "metadata": {},
   "outputs": [
    {
     "name": "stdout",
     "output_type": "stream",
     "text": [
      "Hello, World!!!\n"
     ]
    },
    {
     "name": "stderr",
     "output_type": "stream",
     "text": [
      "┌ Info: calling hello\n",
      "└ @ Main In[29]:12\n",
      "┌ Info: called hello\n",
      "└ @ Main In[29]:14\n"
     ]
    }
   ],
   "source": [
    "@log_calls function hello(str)\n",
    "    println(\"Hello, \", str)\n",
    "end\n",
    "\n",
    "hello(\"World!!!\")"
   ]
  },
  {
   "cell_type": "code",
   "execution_count": 31,
   "id": "d8237444-e047-45ab-8e4d-5cd9d0cdd4fc",
   "metadata": {},
   "outputs": [
    {
     "data": {
      "text/plain": [
       "quote\n",
       "    #= In[31]:26 =#\n",
       "    function var\"#179###261\"(var\"#180#str\"::Main.AbstractString)\n",
       "        #= In[31]:34 =#\n",
       "        #= In[31]:35 =#\n",
       "        Main.println(\"Hello, \", var\"#180#str\")\n",
       "    end\n",
       "    #= In[31]:30 =#\n",
       "    hello = (var\"#_decorator#14\"(Core.Box(:hello)))(var\"#179###261\")\n",
       "end"
      ]
     },
     "execution_count": 31,
     "metadata": {},
     "output_type": "execute_result"
    }
   ],
   "source": [
    "\"\"\"\n",
    "型アノテーション付き関数への対応\n",
    "\"\"\"\n",
    "macro log_calls(func)\n",
    "    name = func.args[1].args[1]\n",
    "    hiddenname = gensym() # 元の関数名を置換する任意変数名\n",
    "    \n",
    "    # 元の関数名を hiddenname で置換\n",
    "    if typeof(name) == Expr # 型アノテーション付き関数に対応\n",
    "        name = name.args[1]\n",
    "        func.args[1].args[1].args[1] = hiddenname\n",
    "    else\n",
    "        func.args[1].args[1] = hiddenname\n",
    "    end\n",
    "    \n",
    "    # 修飾した関数を定義\n",
    "    ## 関数呼び出し前後で info レベルロギング\n",
    "    _decorator(f) = (args...) -> begin\n",
    "        Base.@info \"calling $(name)\"\n",
    "        f(args...)\n",
    "        Base.@info \"called $(name)\"\n",
    "    end\n",
    "    \n",
    "    quote\n",
    "        # 元の関数定義を別名で再定義\n",
    "        $func\n",
    "        \n",
    "        # 元の関数名: 修飾された関数として再定義\n",
    "        ## `hello = ...` という形式で展開されて欲しいため `$(esc(name)) = ...` という形式で記述する\n",
    "        $(esc(name)) = $_decorator($hiddenname)\n",
    "    end\n",
    "end\n",
    "\n",
    "@macroexpand @log_calls function hello(str::AbstractString)\n",
    "    println(\"Hello, \", str)\n",
    "end"
   ]
  },
  {
   "cell_type": "code",
   "execution_count": 32,
   "id": "00c79e6a-81ed-44cb-b4d7-29fae22be406",
   "metadata": {},
   "outputs": [
    {
     "name": "stdout",
     "output_type": "stream",
     "text": [
      "Hello, World!!!\n"
     ]
    },
    {
     "name": "stderr",
     "output_type": "stream",
     "text": [
      "┌ Info: calling hello\n",
      "└ @ Main In[31]:19\n",
      "┌ Info: called hello\n",
      "└ @ Main In[31]:21\n"
     ]
    }
   ],
   "source": [
    "@log_calls function hello(str::AbstractString)\n",
    "    println(\"Hello, \", str)\n",
    "end\n",
    "\n",
    "hello(\"World!!!\")"
   ]
  },
  {
   "cell_type": "code",
   "execution_count": null,
   "id": "a457dfc7-4f28-4599-8cec-ea39770e055f",
   "metadata": {},
   "outputs": [],
   "source": []
  }
 ],
 "metadata": {
  "kernelspec": {
   "display_name": "Julia 1.6.1",
   "language": "julia",
   "name": "julia-1.6"
  },
  "language_info": {
   "file_extension": ".jl",
   "mimetype": "application/julia",
   "name": "julia",
   "version": "1.6.1"
  }
 },
 "nbformat": 4,
 "nbformat_minor": 5
}
