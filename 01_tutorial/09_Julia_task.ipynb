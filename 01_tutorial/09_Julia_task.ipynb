{
 "cells": [
  {
   "cell_type": "markdown",
   "metadata": {},
   "source": [
    "<a href=\"https://colab.research.google.com/github/amenoyoya/julia_ml-tuto/blob/master/01_tutorial/09_Julia_task.ipynb\">\n",
    "  <img src=\"https://colab.research.google.com/assets/colab-badge.svg\" alt=\"Open In Colab\"/>\n",
    "</a>\n",
    "\n",
    "Google Colaboratory で本notebookを開く場合は、以下の手順を実行すること\n",
    "\n",
    "1. 以下のコマンドを実行し、Julia 1.6.1 Kernel をインストール\n",
    "2. 「ランタイム」>「ランタイムのタイプを変更」から `Julia 1.6.1` を選択して保存\n",
    "3. ランタイムが一度切断され、再接続されると Julia 1.6.1 を実行可能になる\n",
    "    - Google Colaboratory は、セッションの有効時間に制限があるため、実行に時間のかかるコードがある場合は、ローカル環境で環境構築して実行する方が良い"
   ]
  },
  {
   "cell_type": "code",
   "execution_count": null,
   "metadata": {},
   "outputs": [],
   "source": [
    "!curl -sSL \"https://julialang-s3.julialang.org/bin/linux/x64/1.6/julia-1.6.1-linux-x86_64.tar.gz\" -o julia.tar.gz\n",
    "!tar -xzf julia.tar.gz -C /usr --strip-components 1\n",
    "!rm -rf julia.tar.gz*\n",
    "!julia -e 'using Pkg; pkg\"add IJulia\"'"
   ]
  },
  {
   "cell_type": "markdown",
   "metadata": {},
   "source": [
    "# 非同期プログラミング\n",
    "\n",
    "プログラムが外界とやり取りをするとき、プログラムの処理を前もって予測できない順序で実行しなければならないことがある\n",
    "\n",
    "例えば、プログラムの途中でファイルをダウンロードする場合、ダウンロード操作を開始し、完了するのを待ちながら他の処理を行い、ファイルが利用可能になったらそれを使う処理を行いたいはずである\n",
    "\n",
    "この種のシナリオをカバーするのが **非同期 (asynchronous) プログラミング** である\n",
    "\n",
    "非同期プログラミングに対応するために、Julia は **タスク** を提供する\n",
    "\n",
    "計算処理の一部分 (実際のコードでは関数) を Task として切り出すと、その部分の実行を途中で中断して他のタスクに切り替えられるようになる\n",
    "\n",
    "中断した Task は後から再開でき、それをさらに中断することも可能である\n",
    "\n",
    "一見するとタスクは通常の関数呼び出しに似ているが、重要な違いが二つある\n",
    "\n",
    "1. タスクの切り替えは空間を一切使用しないので、タスクをいくら切り替えてもコールスタックは消費されない\n",
    "2. 呼び出し側に制御を戻すには実行を終えるしかない通常の関数呼び出しとは対称的に、タスクの切り替えは任意のタイミングで行うことができる\n",
    "\n",
    "## 基本的なタスク演算\n",
    "\n",
    "Task はこれから実行される計算処理の一単位を指すハンドルと考えることができ、作成-開始-実行-終了というライフサイクルを持つ"
   ]
  },
  {
   "cell_type": "code",
   "execution_count": 1,
   "metadata": {},
   "outputs": [
    {
     "data": {
      "text/plain": [
       "task"
      ]
     },
     "execution_count": 1,
     "metadata": {},
     "output_type": "execute_result"
    }
   ],
   "source": [
    "\"\"\"\n",
    "    Task(() -> begin\n",
    "        sleep(5)\n",
    "        println(\"done\")\n",
    "    end)\n",
    "\n",
    "5秒間何もせずに待機してから \"done\" を出力するタスク\n",
    "\"\"\"\n",
    "task = @task begin\n",
    "    sleep(5)\n",
    "    println(\"done\")\n",
    "end"
   ]
  },
  {
   "cell_type": "code",
   "execution_count": 2,
   "metadata": {},
   "outputs": [
    {
     "data": {
      "text/plain": [
       "Task (runnable) @0x000000000bc507d0"
      ]
     },
     "execution_count": 2,
     "metadata": {},
     "output_type": "execute_result"
    }
   ],
   "source": [
    "# Task は schedule 関数を呼び出すことで実行キューに追加され、実行可能な状態になる\n",
    "schedule(task)"
   ]
  },
  {
   "cell_type": "code",
   "execution_count": 3,
   "metadata": {},
   "outputs": [
    {
     "name": "stdout",
     "output_type": "stream",
     "text": [
      "done\n"
     ]
    }
   ],
   "source": [
    "# wait 関数でタスク呼び出しを待機することで、タスクが実行される\n",
    "wait(task)"
   ]
  },
  {
   "cell_type": "code",
   "execution_count": 7,
   "metadata": {},
   "outputs": [
    {
     "name": "stdout",
     "output_type": "stream",
     "text": [
      "done\n"
     ]
    }
   ],
   "source": [
    "\"\"\"\n",
    "タスクの作成とスケジューリングは同時に行われることが多いため @async マクロが提供されている\n",
    "\n",
    "```julia\n",
    "@async x === schedule(@task x) === schedule(Task(() -> x))\n",
    "```\n",
    "\"\"\"\n",
    "# 5秒後に \"done\" を出力\n",
    "task = @async begin\n",
    "    sleep(5)\n",
    "    println(\"done\")\n",
    "end\n",
    "wait(task)"
   ]
  },
  {
   "cell_type": "markdown",
   "metadata": {},
   "source": [
    "## チャンネルを使った通信\n",
    "\n",
    "一部の問題では行うべきジョブの間で「呼び出し元」と「呼び出し先」が明らかでないために、関数の呼び出しでは必要になる処理を自然に定式化できない\n",
    "\n",
    "こういった問題の例として「生産者-消費者問題」がある\n",
    "\n",
    "- 生産者-消費者問題:\n",
    "    - 消費者はものを得るために、生産者に申請を行う\n",
    "    - 生産者は消費者からの申請に応じて、ものを生成して返す\n",
    "    - ただし、生産者には生成すべきものがあり過ぎて、ものを返す準備が整っていない可能性がある\n",
    "\n",
    "この問題を解決するために、Julia は `Channel` という機構を提供している\n",
    "\n",
    "- **Channel**:\n",
    "    - 待機可能な先入先出のキューで、複数のタスクの読み書きが可能\n",
    "\n",
    "この仕組みを利用して「生産者-消費者問題」を解決する\n",
    "\n",
    "- 生産者タスクを定義して `put!` を呼び出すと値を生産する\n",
    "    - 値を消費するには、生産者を新しいタスクで実行するようにスケジュールする必要がある\n",
    "    - 引数が1個の関数を引数として受けとる特殊な Channel コンストラクタを使用して、チャネルに接続されたタスクを実行することができる\n",
    "- これにより `take!` を使って、チャネルオブジェクトから繰り返し値を取得可能\n",
    "    - `take!` が消費者に相当する"
   ]
  },
  {
   "cell_type": "code",
   "execution_count": 8,
   "metadata": {},
   "outputs": [
    {
     "data": {
      "text/plain": [
       "\"start\""
      ]
     },
     "execution_count": 8,
     "metadata": {},
     "output_type": "execute_result"
    }
   ],
   "source": [
    "\"\"\"\n",
    "    Channel(channel::Channel -> ...)\n",
    "\n",
    "- 生産者タスク: Channel を通じて以下の値を連続的に生産する\n",
    "    1. \"start\"\n",
    "    2. 2\n",
    "    3. 4\n",
    "    4. 6\n",
    "    5. 8\n",
    "    6. \"stop\"\n",
    "\"\"\"\n",
    "producer = Channel(channel::Channel -> begin\n",
    "    put!(channel, \"start\")\n",
    "    for n = 1:4\n",
    "        put!(channel, 2n)\n",
    "    end\n",
    "    put!(channel, \"stop\")\n",
    "end)\n",
    "\n",
    "# 最初の take! で \"start\" が取得できる\n",
    "take!(producer)"
   ]
  },
  {
   "cell_type": "code",
   "execution_count": 9,
   "metadata": {},
   "outputs": [
    {
     "name": "stdout",
     "output_type": "stream",
     "text": [
      "2\n",
      "4\n",
      "6\n",
      "8\n",
      "stop\n"
     ]
    }
   ],
   "source": [
    "# その後 take! を呼び出すたびに 2, 4, 6, 8, \"stop\" が取り出される\n",
    "for i = 1:5\n",
    "    take!(producer) |> println\n",
    "end"
   ]
  },
  {
   "cell_type": "code",
   "execution_count": 10,
   "metadata": {},
   "outputs": [
    {
     "ename": "LoadError",
     "evalue": "InvalidStateException(\"Channel is closed.\", :closed)",
     "output_type": "error",
     "traceback": [
      "InvalidStateException(\"Channel is closed.\", :closed)",
      "",
      "Stacktrace:",
      " [1] check_channel_state",
      "   @ .\\channels.jl:170 [inlined]",
      " [2] take_unbuffered(c::Channel{Any})",
      "   @ Base .\\channels.jl:403",
      " [3] take!(c::Channel{Any})",
      "   @ Base .\\channels.jl:383",
      " [4] top-level scope",
      "   @ In[10]:1",
      " [5] eval",
      "   @ .\\boot.jl:373 [inlined]",
      " [6] include_string(mapexpr::typeof(REPL.softscope), mod::Module, code::String, filename::String)",
      "   @ Base .\\loading.jl:1196"
     ]
    }
   ],
   "source": [
    "# これ以上生産 (put!) されている値がなければ、消費 (take!) できなくなる\n",
    "take!(producer)"
   ]
  },
  {
   "cell_type": "code",
   "execution_count": 11,
   "metadata": {},
   "outputs": [
    {
     "data": {
      "text/plain": [
       "false"
      ]
     },
     "execution_count": 11,
     "metadata": {},
     "output_type": "execute_result"
    }
   ],
   "source": [
    "# チャンネルが閉じられているかどうかは isopen 関数で判定可能\n",
    "## isopen(channelTask) === false なら、それ以上 put!, take! できない\n",
    "isopen(producer)"
   ]
  },
  {
   "cell_type": "markdown",
   "metadata": {},
   "source": [
    "### 双方向チャンネル\n",
    "チャンネルは書き込み口と読み込み口を持つパイプと考えることができる\n",
    "\n",
    "- `put!` を呼び出して行うチャンネルへの書き込みは、異なるタスクに属する複数の書き込み手から一つのチャンネルに対して並列に行うことができる\n",
    "- `take!` を呼び出して行うチャンネルからの読み込みは、異なるタスクに属する複数の読み込み手から一つのチャンネルに対して並列に行うことができる\n",
    "\n",
    "```julia\n",
    "# チャンネル c1 と c2 を作成する。\n",
    "c1 = Channel(32)\n",
    "c2 = Channel(32)\n",
    "\n",
    "# 関数 foo: c1 からデータを読み込む → 処理を行う → c2 に結果を書き込む\n",
    "function foo()\n",
    "    while true\n",
    "        data = take!(c1)\n",
    "        [...]               # データを処理する。\n",
    "        put!(c2, result)    # 結果を書き込む。\n",
    "    end\n",
    "end\n",
    "\n",
    "# 実行を並行にするために、foo を実行するタスクを n 個作成・スケジュールする\n",
    "for _ in 1:n\n",
    "    @async foo()\n",
    "end\n",
    "```\n",
    "\n",
    "- チャンネルはコンストラクタ `Channel{T}(sz)` で作成する\n",
    "    - このチャンネルは `T` 型の値だけを保持でき、型を指定しないと任意の型のオブジェクトを保持するチャンネルが作成される\n",
    "    - `sz` は任意の時点でチャンネルが保持できる最大の要素数を表す\n",
    "        - 例えば `Channel(32)` は任意の型のオブジェクトを 32 個まで同時に保持できるチャンネルを作成し、`Channel{MyType}(64)` は MyType 型のオブジェクトを 64 個まで同時に保持できるチャンネルを作成する\n",
    "        - 指定しない場合 or 0 を指定した場合 は無制限になる\n",
    "- Channel が空だと、読み込み (`take!` の呼び出し) は、データが利用可能になるまでブロックされる\n",
    "- Channel が満杯だと、書き込み (`put!` の呼び出し) は、空間が空くまでブロックされる\n",
    "- `isready` を使うとチャンネルにオブジェクトが存在するかどうかを確認できる\n",
    "- `wait` を使うとオブジェクトが利用可能になるまで待機できる\n",
    "- Channel は最初開いている\n",
    "    - これは `take!` と `put!` を使って自由にデータを読み書きできることを意味する\n",
    "    - `put!` はチャンネルにデータを追加する\n",
    "        - `Channel.sz_max` を超える数のデータは追加できないため、追加可能になるまでプログラムがブロックされる\n",
    "    - `take!` はチャンネルからデータを取り出し、取り出したデータはチャンネルから削除される\n",
    "        - また `take!` で取得可能なデータがない場合は、取得可能になるまでプログラムがブロックされる\n",
    "- `close` を使うと Channel と閉じることができ、閉じられた Channel に対する `put!`, `take!` は失敗する"
   ]
  },
  {
   "cell_type": "code",
   "execution_count": 1,
   "metadata": {},
   "outputs": [
    {
     "data": {
      "text/plain": [
       "Task (runnable) @0x000000000bef07d0"
      ]
     },
     "execution_count": 1,
     "metadata": {},
     "output_type": "execute_result"
    }
   ],
   "source": [
    "# String型の値を1つ保持可能なチャンネル\n",
    "c_in = Channel{String}(1)\n",
    "\n",
    "# 任意の値を1つ保持可能なチャンネル\n",
    "c_out = Channel(1)\n",
    "\n",
    "# チャンネルに保持されているデータが一杯かどうか判定する関数\n",
    "isfull(c::Channel) = c.sz_max === 0 ? false : length(c.data) >= c.sz_max\n",
    "\n",
    "# 非同期に実行されるループ処理: c_in, c_out チャンネルを通してデータのやり取りが可能\n",
    "task = @async begin\n",
    "    while true\n",
    "        # take!() によるプログラムの停止を避けたい場合は、チャンネルにデータが登録されているか確認した方が良い\n",
    "        # command = isempty(c_in.data) ? nothing : take!(c_in)\n",
    "        command = isempty(c_in) ? nothing : take!(c_in)\n",
    "\n",
    "        if command === \"exit\"\n",
    "            break\n",
    "        elseif command === \"print\"\n",
    "            println(\"Hello\")\n",
    "            flush(stdout)\n",
    "        elseif command !== nothing\n",
    "            # put!() によるプログラムの停止を避けたい場合は、チャンネルに空きがあるか確認した方が良い\n",
    "            if !isfull(c_out)\n",
    "                put!(c_out, \"get command: $command\")\n",
    "            end\n",
    "        end\n",
    "\n",
    "        # take!, put! によるプログラムブロックがない場合、Task 作成時にフリーズを起こすため、必ず sleep を入れる\n",
    "        sleep(0.1)\n",
    "    end\n",
    "end"
   ]
  },
  {
   "cell_type": "code",
   "execution_count": 2,
   "metadata": {},
   "outputs": [
    {
     "data": {
      "text/plain": [
       "\"print\""
      ]
     },
     "execution_count": 2,
     "metadata": {},
     "output_type": "execute_result"
    },
    {
     "name": "stdout",
     "output_type": "stream",
     "text": [
      "Hello\n"
     ]
    }
   ],
   "source": [
    "# c_in チャンネルに \"print\" データを送信\n",
    "## => println(\"Hello\") が非同期で実行される\n",
    "put!(c_in, \"print\")"
   ]
  },
  {
   "cell_type": "code",
   "execution_count": 3,
   "metadata": {},
   "outputs": [
    {
     "data": {
      "text/plain": [
       "\"get command: unknown\""
      ]
     },
     "execution_count": 3,
     "metadata": {},
     "output_type": "execute_result"
    }
   ],
   "source": [
    "# c_in チャンネルに \"unknown\" データを送信\n",
    "## => c_out チャンネルに \"get command: unknown\" 文字列データが格納される\n",
    "put!(c_in, \"unknown\")\n",
    "\n",
    "# c_out チャンネルからデータを取り出す\n",
    "take!(c_out)"
   ]
  },
  {
   "cell_type": "code",
   "execution_count": 4,
   "metadata": {},
   "outputs": [
    {
     "name": "stdout",
     "output_type": "stream",
     "text": [
      "current task: Task (runnable) @0x000000000e8b9d20\n",
      "is task started: true\n",
      "is task done: false\n"
     ]
    }
   ],
   "source": [
    "\"\"\"\n",
    "タスクの状態取得\n",
    "\n",
    "- current_task() ::Task : 現在実行中のタスクに対する参照を取得\n",
    "- istaskstarted(::Task) ::Boolean : タスクが開始されているか判定\n",
    "- istaskdone(::Task) ::Boolean : タスクが完了されているか判定\n",
    "\"\"\"\n",
    "\n",
    "println(\"current task: $(current_task())\")\n",
    "println(\"is task started: $(istaskstarted(task))\")\n",
    "println(\"is task done: $(istaskdone(task))\")"
   ]
  },
  {
   "cell_type": "code",
   "execution_count": 5,
   "metadata": {},
   "outputs": [
    {
     "data": {
      "text/plain": [
       "true"
      ]
     },
     "execution_count": 5,
     "metadata": {},
     "output_type": "execute_result"
    }
   ],
   "source": [
    "# c_in チャンネルに \"exit\" データを送信\n",
    "## => タスクは終了するはず\n",
    "put!(c_in, \"exit\")\n",
    "\n",
    "# タスク終了までタイムラグがある可能性があるため 0.5 秒待機\n",
    "sleep(0.5)\n",
    "\n",
    "# タスクは終了しているはずのため istaskdone => true\n",
    "istaskdone(task)"
   ]
  },
  {
   "cell_type": "markdown",
   "metadata": {},
   "source": [
    "## タスクのエラー処理\n",
    "\n",
    "タスクは並列実行されるため、エラーが発生しても分からないことが多い\n",
    "\n",
    "そのため、ログファイルにエラーログを書き込むようにすると良い\n",
    "\n",
    "Julia デフォルトの `SimpleLogger(io::IOStream)` を使っても良いが、ログファイルのローテーション機能が使える `LogRoller.jl` パッケージが便利である"
   ]
  },
  {
   "cell_type": "code",
   "execution_count": 1,
   "metadata": {},
   "outputs": [
    {
     "name": "stderr",
     "output_type": "stream",
     "text": [
      "\u001b[32m\u001b[1m    Updating\u001b[22m\u001b[39m registry at `C:\\Users\\user\\.julia\\registries\\General.toml`\n",
      "\u001b[32m\u001b[1m   Resolving\u001b[22m\u001b[39m package versions...\n",
      "\u001b[32m\u001b[1m  No Changes\u001b[22m\u001b[39m to `C:\\Users\\user\\.julia\\environments\\v1.7\\Project.toml`\n",
      "\u001b[32m\u001b[1m  No Changes\u001b[22m\u001b[39m to `C:\\Users\\user\\.julia\\environments\\v1.7\\Manifest.toml`\n"
     ]
    }
   ],
   "source": [
    "using Pkg\n",
    "Pkg.add(\"LogRoller\")"
   ]
  },
  {
   "cell_type": "code",
   "execution_count": 5,
   "metadata": {},
   "outputs": [
    {
     "data": {
      "text/plain": [
       "Base.CoreLogging.SimpleLogger(IJulia.IJuliaStdio{Base.PipeEndpoint}(IOContext(Base.PipeEndpoint(Base.Libc.WindowsRawSocket(0x00000000000003e8) open, 0 bytes waiting))), Info, Dict{Any, Int64}())"
      ]
     },
     "execution_count": 5,
     "metadata": {},
     "output_type": "execute_result"
    }
   ],
   "source": [
    "using Logging, LogRoller\n",
    "\n",
    "\"\"\"\n",
    "グローバルロガー: RollingLogger\n",
    "- ファイル名: \"./error.log\"\n",
    "- ファイル上限サイズ: 1MB (1,000,000 bytes) ※このサイズを超えるとローテーションされる\n",
    "- バックアップするローテーション数: 3\n",
    "- ログレベル: Error\n",
    "\"\"\"\n",
    "# global_logger(::Logger): グローバルロガーを設定する\n",
    "global_logger(\n",
    "    RollingLogger(\"./error.log\", 1_000_000, 3, Logging.Error)\n",
    ")"
   ]
  },
  {
   "cell_type": "markdown",
   "metadata": {},
   "source": [
    "タスクのエラー処理は基本的に以下のような形で記述しておけば問題ない\n",
    "\n",
    "```julia\n",
    "task = @async try\n",
    "    # some process.\n",
    "catch err\n",
    "    # @error マクロの第2引数に `exception=(err, catch_backtrace())`\n",
    "    #   を指定するとエラーメッセージをすべてログに残すことができる\n",
    "    @error \"Error occurred\" exception=(err, catch_backtrace())\n",
    "\n",
    "    # rethrow() で現在のエラーを再度投げてプロセスを終了させる\n",
    "    rethrow()\n",
    "end\n",
    "```"
   ]
  },
  {
   "cell_type": "code",
   "execution_count": 7,
   "metadata": {},
   "outputs": [
    {
     "data": {
      "text/plain": [
       "Task (failed) @0x000000000b37b650\n",
       "UndefVarError: printxyz not defined\n",
       "Stacktrace:\n",
       " [1] \u001b[0m\u001b[1mmacro expansion\u001b[22m\n",
       "\u001b[90m   @ \u001b[39m\u001b[90m.\\\u001b[39m\u001b[90m\u001b[4mIn[7]:4\u001b[24m\u001b[39m\u001b[90m [inlined]\u001b[39m\n",
       " [2] \u001b[0m\u001b[1m(::var\"#1#2\")\u001b[22m\u001b[0m\u001b[1m(\u001b[22m\u001b[0m\u001b[1m)\u001b[22m\n",
       "\u001b[90m   @ \u001b[39m\u001b[35mMain\u001b[39m \u001b[90m.\\\u001b[39m\u001b[90m\u001b[4mtask.jl:423\u001b[24m\u001b[39m"
      ]
     },
     "execution_count": 7,
     "metadata": {},
     "output_type": "execute_result"
    }
   ],
   "source": [
    "# エラーが発生するタスク\n",
    "task = @async try\n",
    "    for i = 1:10\n",
    "        printxyz(i) # <= error: undef function\n",
    "        sleep(10)\n",
    "    end\n",
    "catch err\n",
    "    @error \"Error:\" exception=(err, catch_backtrace())\n",
    "    rethrow()\n",
    "end"
   ]
  },
  {
   "cell_type": "code",
   "execution_count": 8,
   "metadata": {},
   "outputs": [
    {
     "data": {
      "text/plain": [
       "true"
      ]
     },
     "execution_count": 8,
     "metadata": {},
     "output_type": "execute_result"
    }
   ],
   "source": [
    "istaskdone(task)"
   ]
  },
  {
   "cell_type": "code",
   "execution_count": null,
   "metadata": {},
   "outputs": [],
   "source": []
  }
 ],
 "metadata": {
  "kernelspec": {
   "display_name": "Julia 1.7.2",
   "language": "julia",
   "name": "julia-1.7"
  },
  "language_info": {
   "file_extension": ".jl",
   "mimetype": "application/julia",
   "name": "julia",
   "version": "1.7.2"
  }
 },
 "nbformat": 4,
 "nbformat_minor": 2
}
