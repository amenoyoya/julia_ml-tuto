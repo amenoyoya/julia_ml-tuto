{
 "cells": [
  {
   "cell_type": "markdown",
   "metadata": {},
   "source": [
    "# Julia入門\n",
    "\n",
    "## 複素数と有理数\n",
    "\n",
    "### 複素数\n",
    "グローバル定数`im`は`√-1`を示す\n",
    "\n",
    "複素数を使って全ての標準的な算術処理が可能"
   ]
  },
  {
   "cell_type": "code",
   "execution_count": 1,
   "metadata": {},
   "outputs": [
    {
     "name": "stdout",
     "output_type": "stream",
     "text": [
      "1 + 2im\n",
      "8 + 1im\n",
      "-3 - 4im\n"
     ]
    }
   ],
   "source": [
    "println(1 + 2im)\n",
    "println((1 + 2im) * (2 - 3im))\n",
    "println((-1 + 2im)^2)"
   ]
  },
  {
   "cell_type": "code",
   "execution_count": 2,
   "metadata": {},
   "outputs": [
    {
     "name": "stdout",
     "output_type": "stream",
     "text": [
      "1\n",
      "2\n",
      "1 - 2im\n",
      "2.23606797749979\n",
      "5\n",
      "1.1071487177940904\n"
     ]
    }
   ],
   "source": [
    "z = 1 + 2im\n",
    "\n",
    "# 実数部を取得 -> 1\n",
    "println(real(z))\n",
    "\n",
    "# 複素数部を取得 -> 2\n",
    "println(imag(z))\n",
    "\n",
    "# 複素共役を取得 -> 1 - 2im\n",
    "println(conj(z))\n",
    "\n",
    "# 絶対値を取得\n",
    "## |(1 + 2im)| = √(1 + 2im)^2 = √5 = 2.236...\n",
    "println(abs(z))\n",
    "\n",
    "# 絶対値の二乗を取得 -> 5\n",
    "println(abs2(z))\n",
    "\n",
    "# 位相角をラジアンで取得 -> 1.107...\n",
    "println(angle(z))"
   ]
  },
  {
   "cell_type": "markdown",
   "metadata": {},
   "source": [
    "### 有理数\n",
    "\n",
    "Juliaには、整数の正確な比率を表すために有理数型がある\n",
    "\n",
    "有理数は`//`演算子で構成される\n",
    "\n",
    "例えば、`2/3`を浮動小数点で表すと`0.666...`となるため、これに3を掛けると`1.999...`という計算結果を得る（2にならない）\n",
    "\n",
    "一方で、有理数型`2//3`に3を掛けると正確に`2`という計算結果を得ることができる"
   ]
  },
  {
   "cell_type": "code",
   "execution_count": 3,
   "metadata": {},
   "outputs": [
    {
     "name": "stdout",
     "output_type": "stream",
     "text": [
      "0.6666666666666666\n",
      "2.0\n",
      "2//3\n",
      "2//1\n"
     ]
    }
   ],
   "source": [
    "f = 2 / 3\n",
    "println(f) # -> 0.666...\n",
    "println(f * 3) # -> 1.999... ~ 2.0\n",
    "\n",
    "r = 2 // 3\n",
    "println(r) # -> 2//3\n",
    "println(r * 3) # -> 2//1"
   ]
  },
  {
   "cell_type": "code",
   "execution_count": 4,
   "metadata": {},
   "outputs": [
    {
     "name": "stdout",
     "output_type": "stream",
     "text": [
      "2//3\n",
      "true\n",
      "2\n",
      "3\n"
     ]
    }
   ],
   "source": [
    "# 有理数は約分されて保持される\n",
    "println(6 // 9) # -> 2//3\n",
    "println(-4 // -12 == 1 // 3) # -> 1//3 == 1//3 -> true\n",
    "\n",
    "# 分子を得る\n",
    "println(numerator(2//3)) # -> 2\n",
    "\n",
    "# 分母を得る\n",
    "println(denominator(2//3)) # -> 3"
   ]
  },
  {
   "cell_type": "markdown",
   "metadata": {},
   "source": [
    "## 文字列\n",
    "\n",
    "- **文字列**\n",
    "    - 文字列は有限の記号の連続を意味する\n",
    "    - Juliaにおける文字列を扱うビルトインの型は`String`型\n",
    "        - UTF-8エンコーディング下で全てのUnicode文字列を使える\n",
    "    - 全ての文字列型は抽象型`AbstractString`のサブタイプ\n",
    "    - Juliaは1文字を表す`Char`型が存在する\n",
    "    - Javaと同様に文字列は変更不可能\n",
    "        - 異なる文字列の値を作成したい場合は、他の文字列の一部から新しく作成する\n",
    "    - 概念的には、文字列はインデックスから文字への部分的な関数である\n",
    "        - `AbstractString: Int64 -> Char`\n",
    "\n",
    "### 文字\n",
    "1文字を表す`Char`値は、シングルクオテーションで表す\n",
    "\n",
    "これは特殊なリテラル表現と算術演算を持つ32ビットのプリミティブ型であり、数値はUnicodeコードポイントとして解釈される"
   ]
  },
  {
   "cell_type": "code",
   "execution_count": 5,
   "metadata": {},
   "outputs": [
    {
     "data": {
      "text/plain": [
       "'x': ASCII/Unicode U+0078 (category Ll: Letter, lowercase)"
      ]
     },
     "execution_count": 5,
     "metadata": {},
     "output_type": "execute_result"
    }
   ],
   "source": [
    "'x'"
   ]
  },
  {
   "cell_type": "code",
   "execution_count": 6,
   "metadata": {},
   "outputs": [
    {
     "data": {
      "text/plain": [
       "Char"
      ]
     },
     "execution_count": 6,
     "metadata": {},
     "output_type": "execute_result"
    }
   ],
   "source": [
    "typeof(ans)"
   ]
  },
  {
   "cell_type": "code",
   "execution_count": 7,
   "metadata": {},
   "outputs": [
    {
     "data": {
      "text/plain": [
       "120"
      ]
     },
     "execution_count": 7,
     "metadata": {},
     "output_type": "execute_result"
    }
   ],
   "source": [
    "# Charを整数値（コードポイント）に変換する\n",
    "Int('x') # 0x0078 -> 120"
   ]
  },
  {
   "cell_type": "code",
   "execution_count": 8,
   "metadata": {},
   "outputs": [
    {
     "data": {
      "text/plain": [
       "'x': ASCII/Unicode U+0078 (category Ll: Letter, lowercase)"
      ]
     },
     "execution_count": 8,
     "metadata": {},
     "output_type": "execute_result"
    }
   ],
   "source": [
    "# 整数値から文字に変換する\n",
    "Char(0x0078)"
   ]
  },
  {
   "cell_type": "code",
   "execution_count": 9,
   "metadata": {},
   "outputs": [
    {
     "data": {
      "text/plain": [
       "'\\U110000': Unicode U+110000 (category In: Invalid, too high)"
      ]
     },
     "execution_count": 9,
     "metadata": {},
     "output_type": "execute_result"
    }
   ],
   "source": [
    "Char(0x110000)"
   ]
  },
  {
   "cell_type": "code",
   "execution_count": 10,
   "metadata": {},
   "outputs": [
    {
     "data": {
      "text/plain": [
       "false"
      ]
     },
     "execution_count": 10,
     "metadata": {},
     "output_type": "execute_result"
    }
   ],
   "source": [
    "# 有効なUnicodeコードポイントか確認\n",
    "isvalid(Char, 0x1100000)"
   ]
  },
  {
   "cell_type": "code",
   "execution_count": 11,
   "metadata": {},
   "outputs": [
    {
     "name": "stdout",
     "output_type": "stream",
     "text": [
      "true\n",
      "23\n",
      "B\n"
     ]
    }
   ],
   "source": [
    "# Charの演算\n",
    "\n",
    "## 比較\n",
    "println('A' < 'a') # -> true\n",
    "\n",
    "## 算術演算\n",
    "println('x' - 'a') # -> 23\n",
    "println('A' + 1) # -> 'B'"
   ]
  },
  {
   "cell_type": "markdown",
   "metadata": {},
   "source": [
    "### 文字列\n",
    "文字列リテラルはダブルクオーテーションまたは3つのダブルクオーテーションで表す\n",
    "\n",
    "文字列から文字を抽出する場合は`String[index]`という形式で、インデックスを添える\n",
    "\n",
    "ただし、Juliaでは**インデックスは1から始まる**（配列なども同様）"
   ]
  },
  {
   "cell_type": "code",
   "execution_count": 12,
   "metadata": {},
   "outputs": [
    {
     "name": "stdout",
     "output_type": "stream",
     "text": [
      "Hello, world.\n",
      "\n",
      "Hello, world.\n",
      "This is \"heredoc\".\n",
      "Contains \"quote\" characters\n"
     ]
    }
   ],
   "source": [
    "str = \"Hello, world.\\n\"\n",
    "println(str)\n",
    "\n",
    "# ヒアドキュメント\n",
    "doc = \"\"\"Hello, world.\n",
    "This is \"heredoc\".\n",
    "Contains \"quote\" characters\"\"\"\n",
    "\n",
    "println(doc)"
   ]
  },
  {
   "cell_type": "code",
   "execution_count": 13,
   "metadata": {},
   "outputs": [
    {
     "name": "stdout",
     "output_type": "stream",
     "text": [
      "H\n",
      "\n",
      "\n",
      ".\n"
     ]
    }
   ],
   "source": [
    "# 文字列の先頭文字を取得\n",
    "println(str[1]) # -> 'H'\n",
    "\n",
    "# 文字列の最後の文字を取得\n",
    "println(str[end]) # -> '\\n'\n",
    "\n",
    "# 文字列の最後から2番めの文字を取得\n",
    "println(str[end-1]) # -> '.'"
   ]
  },
  {
   "cell_type": "code",
   "execution_count": 14,
   "metadata": {},
   "outputs": [
    {
     "data": {
      "text/plain": [
       "\"lo, wo\""
      ]
     },
     "execution_count": 14,
     "metadata": {},
     "output_type": "execute_result"
    }
   ],
   "source": [
    "# 4〜9文字目の文字列を抽出\n",
    "str[4:9]"
   ]
  },
  {
   "cell_type": "markdown",
   "metadata": {},
   "source": [
    "### 文字列の連結\n",
    "文字列を連結する場合は`string(...)` もしくは`*`演算子を使用する\n",
    "\n",
    "#### 補完\n",
    "文字列内で `$変数名` を使うことで 変数埋め込みすることもできる"
   ]
  },
  {
   "cell_type": "code",
   "execution_count": 15,
   "metadata": {},
   "outputs": [
    {
     "name": "stdout",
     "output_type": "stream",
     "text": [
      "Hello, world.\n",
      "Hello, world.\n",
      "Hello, world.\n"
     ]
    }
   ],
   "source": [
    "greet = \"Hello\"\n",
    "whom = \"world\"\n",
    "\n",
    "# Hello, world.\n",
    "println(string(greet, \", \", whom, \".\"))\n",
    "println(greet * \", \" * whom * \".\")\n",
    "println(\"$(greet), $whom.\")"
   ]
  },
  {
   "cell_type": "code",
   "execution_count": 16,
   "metadata": {},
   "outputs": [
    {
     "data": {
      "text/plain": [
       "\"1 + 2 = 3\""
      ]
     },
     "execution_count": 16,
     "metadata": {},
     "output_type": "execute_result"
    }
   ],
   "source": [
    "# 任意の式を文字列に保管することができる\n",
    "\"1 + 2 = $(1 + 2)\""
   ]
  },
  {
   "cell_type": "code",
   "execution_count": 17,
   "metadata": {},
   "outputs": [
    {
     "name": "stdout",
     "output_type": "stream",
     "text": [
      "I have $100 in my account.\n",
      "I have $100 in my account.\n"
     ]
    }
   ],
   "source": [
    "# $そのものを表現する場合\n",
    "\n",
    "## エスケープ\n",
    "println(\"I have \\$100 in my account.\")\n",
    "\n",
    "## raw文字列\n",
    "println(raw\"I have $100 in my account.\")"
   ]
  },
  {
   "cell_type": "markdown",
   "metadata": {},
   "source": [
    "### 文字列処理\n",
    "\n",
    "#### 比較演算\n",
    "文字列は標準比較演算子で比較できる\n",
    "\n",
    "```\n",
    "<  >  <=  >=  == !=\n",
    "```\n",
    "\n",
    "#### 関数\n",
    "- `search(String, Char, Int64=1) -> Int64`\n",
    "    - 文字列内にある指定文字のインデックスを検索（最初に見つかったインデックス）\n",
    "    - 文字が見つからなかった場合は 0 が返る\n",
    "    - 三番目の引数に検索開始する文字列のオフセットを指定できる\n",
    "- `contains(String, String) -> Bool`\n",
    "    - 1番目の文字列に2番目の文字列が含まれるか判定\n",
    "- `endof(String) -> Int64`\n",
    "    - 文字列に添えられる最大の（バイト）インデックスを取得\n",
    "- `length(String) -> Int64`\n",
    "    - 文字列の文字数を取得\n",
    "- `next(String, Int64) -> Char, Int64`\n",
    "    - 文字列の指定（バイト）インデックス以降で有効な文字とインデックスを取得\n",
    "- `ind2chr(String, Int64) -> Int64`\n",
    "    - 文字列の先頭から指定（バイト）インデックスまでの文字数を取得\n",
    "- `chr2ind(String, Int64) -> Int64`\n",
    "    - 文字列の指定番目の文字が格納されている（バイト）インデックスを取得"
   ]
  },
  {
   "cell_type": "markdown",
   "metadata": {},
   "source": [
    "### 正規表現\n",
    "Juliaでは、`r\"...\"`で正規表現パターンを表現する\n",
    "\n",
    "正規表現は`Regex`型として定義される\n",
    "\n",
    "正規表現型は閉じクオートの後ろにフラグ `i`, `m`, `s`, `x` を付与して、正規表現の挙動に変更を加えることができる\n",
    "\n",
    "- `i`:\n",
    "    - 大文字・小文字を区別しないパターンマッチングを行う\n",
    "- `m`:\n",
    "    - 文字列を複数行として扱う\n",
    "    - `^`, `$` が全ての行の先頭と行末にマッチするようになる\n",
    "- `s`:\n",
    "    - 文字列を一行として扱う\n",
    "    - `.`が改行などにもマッチするようになる\n",
    "- `x`:\n",
    "    - 正規表現パーサにバックスラッシュ付きもしくは文字列クラス内の空白を除いた大部分の空白を無視させる\n",
    "\n",
    "#### 正規表現関数\n",
    "- `ismatch(Regex, String) -> Bool`\n",
    "    - 正規表現が文字列に一致するか判定\n",
    "- `match(Regex, String, Int64=1) -> RegexMatch`\n",
    "    - 正規表現が文字列にどのように一致するかを取得\n",
    "    - 一致がない場合は`nothing`が返る\n",
    "    - 3番目の引数に検索開始オフセットを指定できる\n",
    "    - `RegexMatch`オブジェクトから以下の情報を取得できる\n",
    "        - `RegexMatch.match: String`\n",
    "            - 一致した部分文字列\n",
    "        - `RegexMatch.captures: Array{String, 1}`\n",
    "            - キャプチャされた部分文字列の配列\n",
    "        - `RegexMatch.offset: Int64`\n",
    "            - 一致が始まるオフセット\n",
    "        - `RegexMatch.offsets: Array{Int64, 1}`\n",
    "            - ベクトルとしてキャプチャされた部分文字列のオフセットの配列"
   ]
  },
  {
   "cell_type": "code",
   "execution_count": 18,
   "metadata": {},
   "outputs": [
    {
     "data": {
      "text/plain": [
       "Regex"
      ]
     },
     "execution_count": 18,
     "metadata": {},
     "output_type": "execute_result"
    }
   ],
   "source": [
    "pattern = r\"(a|b)(c)?(d)\"\n",
    "typeof(pattern)"
   ]
  },
  {
   "cell_type": "code",
   "execution_count": 19,
   "metadata": {},
   "outputs": [
    {
     "data": {
      "text/plain": [
       "RegexMatch(\"acd\", 1=\"a\", 2=\"c\", 3=\"d\")"
      ]
     },
     "execution_count": 19,
     "metadata": {},
     "output_type": "execute_result"
    }
   ],
   "source": [
    "m = match(pattern, \"acd\")"
   ]
  },
  {
   "cell_type": "code",
   "execution_count": 20,
   "metadata": {},
   "outputs": [
    {
     "name": "stdout",
     "output_type": "stream",
     "text": [
      "acd\n",
      "1\n",
      "Union{Nothing, SubString{String}}[\"a\", \"c\", \"d\"]\n",
      "[1, 2, 3]\n"
     ]
    }
   ],
   "source": [
    "println(m.match)\n",
    "println(m.offset)\n",
    "println(m.captures)\n",
    "println(m.offsets)"
   ]
  },
  {
   "cell_type": "code",
   "execution_count": 21,
   "metadata": {},
   "outputs": [
    {
     "data": {
      "text/plain": [
       "RegexMatch(\"angry,\\nBad world\")"
      ]
     },
     "execution_count": 21,
     "metadata": {},
     "output_type": "execute_result"
    }
   ],
   "source": [
    "# 大文字小文字無視, 複数行マッチング\n",
    "## 以下のような文字列にマッチ\n",
    "### \"a\" or \"A\" から始まる\n",
    "### その後ろのどこか（途中改行可）に \"b\" or \"B\" が含まれる\n",
    "### 行末が \"d\" or \"D\" で終わる\n",
    "pattern = r\"a+.*b+.*d$\"ism\n",
    "\n",
    "target = \"\"\"\n",
    "Goodbye,\n",
    "Oh,\n",
    "angry,\n",
    "Bad world\n",
    "\"\"\"\n",
    "\n",
    "match(pattern, target)"
   ]
  },
  {
   "cell_type": "markdown",
   "metadata": {},
   "source": [
    "### 文字列置換\n",
    "`replace`関数を使い、文字列を置換できる\n",
    "\n",
    "```julia\n",
    "replace(置換対象文字列::String, 置換パターン::Pair{Pattern, Replaced}; count::Integer=typemax(Int))\n",
    "```\n",
    "\n",
    "`Pair` 型は2つの値をセットで保持する型で、以下のような書き方ができる\n",
    "\n",
    "```julia\n",
    "# 通常のPairコンストラクタ\n",
    "Pair(\"a\", \"A\")\n",
    "## -> \"a\" => \"A\"\n",
    "\n",
    "# 簡易記法で `値1 => 値2` という書き方もできる\n",
    "(\"val\" => 123)\n",
    "## -> \"val\" => 123\n",
    "```\n",
    "\n",
    "上記のような `Pair` 型で `置換前のパターン => 置換後の文字列` を指定することで文字列の置換ができる\n",
    "\n",
    "```julia\n",
    "# 全ての\"a\"を\"A\"に置換\n",
    "replace(\"apple banana\", Pair(\"a\", \"A\"))\n",
    "## -> \"Apple bAnAnA\"\n",
    "\n",
    "# \"a\"を1つだけ\"A\"に置換\n",
    "replace(\"apple banana\", \"a\" => \"A\"; count=1)\n",
    "## -> \"Apple banana\"\n",
    "\n",
    "# 正規表現による置換\n",
    "## Replacedには関数を渡すことが可能\n",
    "replace(\"apple banana\", Pair(r\"\\s([a-z])\", uppercase))\n",
    "## -> \"apple Banana\"\n",
    "\n",
    "# Replaced: special substring\n",
    "## s\"\\n\" で n番目のキャプチャを表現できる (n::Int)\n",
    "replace(\"AppleBanana\", r\"([A-Z])\" => s\"_\\1\")\n",
    "## -> \"_Apple_Banana\"\n",
    "```"
   ]
  },
  {
   "cell_type": "code",
   "execution_count": 22,
   "metadata": {},
   "outputs": [
    {
     "name": "stdout",
     "output_type": "stream",
     "text": [
      "SnakeCase\n",
      "_snake_case\n",
      "snake_case\n"
     ]
    }
   ],
   "source": [
    "# CamelCase を snake_case に変換する\n",
    "snakecase = replace(\"CamelCase\", Pair(\"Camel\", \"Snake\")) # -> \"SnakeCase\"\n",
    "println(snakecase)\n",
    "\n",
    "snakecase = replace(snakecase, r\"([A-Z])\" => c -> \"_\" * lowercase(c)) # -> \"_snake_case\"\n",
    "println(snakecase)\n",
    "\n",
    "snakecase = replace(snakecase, r\"^_\" => s\"\") # -> \"snake_cake\"\n",
    "println(snakecase)"
   ]
  },
  {
   "cell_type": "markdown",
   "metadata": {},
   "source": [
    "## シンボル\n",
    "\n",
    "Juliaには `:symbol` で表現される `Symbol`型が存在する\n",
    "\n",
    "これは、メタプログラミングにおける変数を表すもので、自身のコードをプログラムで操作することができる\n",
    "\n",
    "`:(...)` もしくは `quote ... end` でコードラップすることで、そのコード自身を表現するデータ構造が生成される"
   ]
  },
  {
   "cell_type": "code",
   "execution_count": 23,
   "metadata": {},
   "outputs": [
    {
     "name": "stdout",
     "output_type": "stream",
     "text": [
      "foo\n",
      "Symbol\n"
     ]
    }
   ],
   "source": [
    "println(:foo) # -> foo\n",
    "println(typeof(:foo)) # -> Symbol"
   ]
  },
  {
   "cell_type": "code",
   "execution_count": 24,
   "metadata": {},
   "outputs": [
    {
     "data": {
      "text/plain": [
       "Base.dump"
      ]
     },
     "execution_count": 24,
     "metadata": {},
     "output_type": "execute_result"
    }
   ],
   "source": [
    "# (x + 1) という式をデータ構造として保持する\n",
    "fx = :(x + 1)\n",
    "\n",
    "# コードラップされた式の型 -> Expr\n",
    "typeof(fx)\n",
    "\n",
    "# データ構造を詳細表示\n",
    "\"\"\"\n",
    "Expr: (x + 1)\n",
    "    - 数値 1 をスタック\n",
    "        - Stack: [1]\n",
    "    - シンボル x をスタック\n",
    "        - 例えば x が 数値 10 を保持する変数であれば、10がスタック\n",
    "        - Stack: [10, 1]\n",
    "    - シンボル + をスタック\n",
    "        - 例えば + が 2つの数値を引数として 合計値を返す関数であれば\n",
    "            - スタックから2つの値を取り出す\n",
    "                - 10, 1 <- Stack: []\n",
    "            - 合計値をスタック: 10 + 1 = 11\n",
    "                - Stack: [11]\n",
    "\"\"\"\n",
    "dump(fx)"
   ]
  },
  {
   "cell_type": "markdown",
   "metadata": {},
   "source": [
    "### 連想配列\n",
    "他の言語には、特定の名前のキーに値が関連づいている連想配列というものがある\n",
    "\n",
    "- 例: Python\n",
    "    ```python\n",
    "    human = {\n",
    "        \"name\": \"Tom\", # 名前 = \"Tom\"\n",
    "        \"sex\": \"Male\", # 性別 = 男性\n",
    "        \"age\": 20      # 年齢 = 20 歳\n",
    "    }\n",
    "    \n",
    "    # 年齢を取得 -> 20\n",
    "    human[\"age\"]\n",
    "    ```\n",
    "- Julia\n",
    "    ```julia\n",
    "    human = Dict(\n",
    "        \"name\" => \"Tom\", # 名前 = \"Tom\"\n",
    "        \"sex\" => \"Male\", # 性別 = 男性\n",
    "        \"age\" => 20      # 年齢 = 20 歳\n",
    "    )\n",
    "    \n",
    "    # 年齢を取得 -> 20\n",
    "    human[\"age\"]\n",
    "    ```\n",
    "\n",
    "これは要するに `Pair` 型の配列（`Vector` 型）であるため、`Vector{Pair{T,N}}` とほぼ同じ構造をしている\n",
    "\n",
    "```julia\n",
    "Dict(Pair(\"name\", \"Tom\"), \"sex\" => \"Male\")\n",
    "## => Dict{String, String} with 2 entries:\n",
    "##     \"name\" => \"Tom\"\n",
    "##     \"sex\" => \"Male\"\n",
    "\n",
    "[Pair(\"name\", \"Tom\"), \"sex\" => \"Male\"]\n",
    "## => 2-element Vector{Pair{String, String}}:\n",
    "##     \"name\" => \"Tom\"\n",
    "##     \"sex\" => \"Male\"\n",
    "```\n",
    "\n",
    "\n",
    "他の言語では、キーは 文字列 or 数値 で表現するしかなかったが、Juliaではシンボルで表現することもできる"
   ]
  },
  {
   "cell_type": "code",
   "execution_count": 25,
   "metadata": {},
   "outputs": [
    {
     "name": "stdout",
     "output_type": "stream",
     "text": [
      "Dict{Symbol, Any}(:sex => :Male, :age => 20, :name => \"Tom\")\n",
      "20\n"
     ]
    }
   ],
   "source": [
    "# human連想配列定義\n",
    "human = Dict(:name => \"Tom\", :sex => :Male, :age => 20)\n",
    "println(human)\n",
    "\n",
    "# humanの `age`シンボルキーを取得 -> 20\n",
    "println(human[:age])"
   ]
  },
  {
   "cell_type": "code",
   "execution_count": 26,
   "metadata": {},
   "outputs": [
    {
     "data": {
      "text/plain": [
       "RegexMatch(\"12:45\", hour=\"12\", minute=\"45\")"
      ]
     },
     "execution_count": 26,
     "metadata": {},
     "output_type": "execute_result"
    }
   ],
   "source": [
    "# 正規表現でグループ名をつけてキャプチャした際\n",
    "## グループ名はシンボルとして定義される\n",
    "## -> そのシンボルキーにキャプチャされた文字列が紐付けられる\n",
    "m = match(r\"(?<hour>\\d+):(?<minute>\\d+)\", \"12:45\")"
   ]
  },
  {
   "cell_type": "code",
   "execution_count": 27,
   "metadata": {},
   "outputs": [
    {
     "name": "stdout",
     "output_type": "stream",
     "text": [
      "12\n",
      "45\n"
     ]
    }
   ],
   "source": [
    "println(m[:hour])\n",
    "println(m[:minute])"
   ]
  },
  {
   "cell_type": "code",
   "execution_count": null,
   "metadata": {},
   "outputs": [],
   "source": []
  }
 ],
 "metadata": {
  "kernelspec": {
   "display_name": "Julia 1.6.1",
   "language": "julia",
   "name": "julia-1.6"
  },
  "language_info": {
   "file_extension": ".jl",
   "mimetype": "application/julia",
   "name": "julia",
   "version": "1.6.1"
  }
 },
 "nbformat": 4,
 "nbformat_minor": 4
}
