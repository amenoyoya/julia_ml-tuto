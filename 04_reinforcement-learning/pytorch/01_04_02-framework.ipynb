{
 "cells": [
  {
   "cell_type": "markdown",
   "metadata": {},
   "source": [
    "# つくりながら学ぶ！深層強化学習 PyTorchによる実践プログラミング\n",
    "\n",
    "## 迷路問題"
   ]
  },
  {
   "cell_type": "code",
   "execution_count": 2,
   "metadata": {},
   "outputs": [
    {
     "name": "stderr",
     "output_type": "stream",
     "text": [
      "\u001b[32m\u001b[1m  Activating\u001b[22m\u001b[39m project at `c:\\Users\\user\\github\\julia_ml-tuto\\04_reinforcement-learning\\pytorch\\SimpleRL`\n"
     ]
    }
   ],
   "source": [
    "using Revise, Pkg\n",
    "using NaNStatistics, Distributions\n",
    "\n",
    "Pkg.activate(\"./SimpleRL\")"
   ]
  },
  {
   "cell_type": "code",
   "execution_count": null,
   "metadata": {},
   "outputs": [],
   "source": [
    "using SimpleRL\n",
    "\n",
    "include(\"./inc/retype.jl\")\n",
    "\n",
    "# 勾配降下法モデル\n",
    "@restruct struct PolicyGradient{Env}\n",
    "    env::Env\n",
    "end\n",
    "\n",
    "\"\"\"\n",
    "    update_theta(theta_n::Matrix, pi_n::Matrix, state_action_history::Vector{Tuple}) = theta_next::Matrix\n",
    "\n",
    "方策勾配法による方策パラメータの更新関数\n",
    "\"\"\"\n",
    "update_theta(env::SimpleRL.RLEnv, policy::SimpleRL.RLPolicy, recorder::SimpleRL.RLRecorder) = begin\n",
    "    # 学習率 η: とりあえず 0.1 で試す\n",
    "    eta = 0.1\n",
    "    \n",
    "    # ゴールまでの総ステップ数: ゴール地点のステップは除外\n",
    "    T = length(state_action_history) - 1\n",
    "\n",
    "    # Δθ の計算\n",
    "    delta_theta = [\n",
    "        isnan(theta_n[i, j]) ? NaN : (\n",
    "            begin\n",
    "                # 状態 = s_i である記録を取得\n",
    "                SA_i = filter(SA -> SA[1] === i, state_action_history)\n",
    "\n",
    "                # 状態 = s_i で 行動 = a_j をとった記録を取得\n",
    "                SA_ij = filter(SA -> SA[1] === i && SA[2] === j, state_action_history)\n",
    "\n",
    "                # N(s_i, a), N(s_i, a_j)\n",
    "                N_i = length(SA_i)\n",
    "                N_ij = length(SA_ij)\n",
    "\n",
    "                # Δθ\n",
    "                (N_ij + pi_n[i, j] * N_i) / T\n",
    "            end\n",
    "        )\n",
    "        for i = 1:size(theta_n, 1), j = 1:size(theta_n, 2)\n",
    "    ]\n",
    "\n",
    "    # 更新されたθ\n",
    "    theta_next = theta_n .+ eta .* delta_theta\n",
    "    theta_next\n",
    "end"
   ]
  }
 ],
 "metadata": {
  "kernelspec": {
   "display_name": "Julia 1.7 with sysimage 1.7.3",
   "language": "julia",
   "name": "julia-1.7-with-sysimage-1.7"
  },
  "language_info": {
   "file_extension": ".jl",
   "mimetype": "application/julia",
   "name": "julia",
   "version": "1.7.3"
  },
  "orig_nbformat": 4
 },
 "nbformat": 4,
 "nbformat_minor": 2
}
