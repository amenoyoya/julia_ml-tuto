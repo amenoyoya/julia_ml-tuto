{
 "cells": [
  {
   "cell_type": "markdown",
   "metadata": {},
   "source": [
    "# CartPole 問題\n",
    "\n",
    "- **CartPole**:\n",
    "    - [OpenAI Gym](https://gym.openai.com/) が提供しているゲーム環境の一つで [倒立振子](https://ja.wikipedia.org/wiki/%E5%80%92%E7%AB%8B%E6%8C%AF%E5%AD%90) に関するゲーム\n",
    "    - 台車の上に回転軸が固定された棒を立て、台車を左右に動かすことによって棒が倒れないように制御する問題\n",
    "\n",
    "## Resources\n",
    "\n",
    "- [倒立振子](http://maicommon.ciao.jp/ss/phisic/RevPend/index.htm)\n",
    "- [RLEnv.CartPole](https://github.com/JuliaReinforcementLearning/ReinforcementLearning.jl/blob/master/src/ReinforcementLearningEnvironments/src/environments/examples/CartPoleEnv.jl)\n",
    "- [CartPole Plots](https://github.com/JuliaReinforcementLearning/ReinforcementLearning.jl/issues/246#issuecomment-846903183)"
   ]
  },
  {
   "cell_type": "code",
   "execution_count": 84,
   "metadata": {},
   "outputs": [
    {
     "data": {
      "text/plain": [
       "step! (generic function with 1 method)"
      ]
     },
     "execution_count": 84,
     "metadata": {},
     "output_type": "execute_result"
    }
   ],
   "source": [
    "# CartPole 環境\n",
    "Base.@kwdef mutable struct CartPoleEnv\n",
    "    cart_pos::Number = 0.0   # 台車位置: -2.4 ~ +2.4\n",
    "    cart_acc::Number = 0.0   # 台車加速度: -Inf ~ +Inf\n",
    "    pole_theta::Number = 0.0 # 棒の角度θ: (-41.8° ~ +41.8°) * 2π / 180\n",
    "    pole_acc::Number = 0.0   # 棒の先端の加速度: -Inf ~ +Inf\n",
    "    step::Int = 0            # ステップ数: 0 ~ +Inf (=報酬)\n",
    "\n",
    "    # 環境変数（固定値）\n",
    "    params = (\n",
    "        gravity = 9.8,                           # 重力加速度\n",
    "        cart_mass = 1.0,                         # 台車の重さ\n",
    "        pole_mass = 0.1,                         # 棒の重さ\n",
    "        pole_center_length = 0.5,                # 棒の半分の長さ\n",
    "        force = 10.0,                            # 台車を動かす際の運動量\n",
    "        dt = 0.02,                               # 時間変化量: 0.02 => 50ステップで1秒\n",
    "        pole_theta_threshold = 12.0 * 2pi / 180, # ゲーム終了条件となる棒の角度のしきい値θ: ±12° * 2π / 180\n",
    "        cart_pos_threshold = 2.4,                # ゲーム終了条件となる台車位置のしきい値: ±2.4\n",
    "        max_steps = 200,                         # ゲーム終了条件となる最大ステップ数: 200\n",
    "    )\n",
    "end\n",
    "\n",
    "# CartPole 行動\n",
    "cartpole_action = (\n",
    "    Val(-1), # 台車を左に押す\n",
    "    Val(0),  # 台車を押さない\n",
    "    Val(+1), # 台車を右に押す\n",
    ")\n",
    "\n",
    "# CartPole 終了条件\n",
    "is_terminated(env::CartPoleEnv) =\n",
    "    abs(env.pole_theta) > env.params.pole_theta_threshold ||\n",
    "    abs(env.cart_pos) > env.params.cart_pos_threshold ||\n",
    "    env.step > env.params.max_steps\n",
    "\n",
    "value(::Val{T}) where T = T\n",
    "\n",
    "# CartPole 1ステップでの物理演算\n",
    "# `action::Union{Val{-1}, Val{0}, Val{+1}}`: 台車を動かす方向\n",
    "step!(env::CartPoleEnv, action::Union{Val{-1}, Val{0}, Val{+1}}) = begin\n",
    "    env.step += 1\n",
    "    force = value(action) * env.params.force\n",
    "    costheta = cos(env.pole_theta)\n",
    "    sintheta = sin(env.pole_theta)\n",
    "    totalmass = env.params.cart_mass + env.params.pole_mass\n",
    "    polemasslength = env.params.pole_mass * env.params.pole_center_length\n",
    "    tmp = (force + polemasslength * env.pole_theta^2 * sintheta) / totalmass\n",
    "    thetaacc =\n",
    "        (env.params.gravity * sintheta - costheta * tmp) / (\n",
    "            env.params.pole_center_length *\n",
    "            (4 / 3 - env.params.pole_mass * costheta^2 / totalmass)\n",
    "        )\n",
    "    xacc = tmp - polemasslength * thetaacc * costheta / totalmass\n",
    "    env.cart_pos += env.params.dt * env.cart_pos\n",
    "    env.cart_acc += env.params.dt * xacc\n",
    "    env.pole_theta += env.params.dt * env.pole_theta\n",
    "    env.pole_acc += env.params.dt * env.pole_acc\n",
    "    nothing\n",
    "end"
   ]
  },
  {
   "cell_type": "code",
   "execution_count": 1,
   "metadata": {},
   "outputs": [
    {
     "data": {
      "image/png": "[encoded data removed]",
      "text/plain": [
       "Scene (400px, 400px):\n",
       "  2 Plots:\n",
       "    ├ Lines{Tuple{Vector{Point{2, Float32}}}}\n",
       "    └ Lines{Tuple{Vector{Point{2, Float32}}}}\n",
       "  0 Child Scenes"
      ]
     },
     "execution_count": 1,
     "metadata": {},
     "output_type": "execute_result"
    }
   ],
   "source": [
    "\"\"\"\n",
    "Makie.jl による CartPole 描画\n",
    "\"\"\"\n",
    "\n",
    "using GLMakie\n",
    "\n",
    "scene = Scene(resolution = (400, 400))\n",
    "\n",
    "# 棒\n",
    "lines!(\n",
    "    scene,\n",
    "    [0, 0],\n",
    "    [0.8, -0.8],\n",
    "    color = :brown,\n",
    "    linewidth = 10\n",
    ")\n",
    "\n",
    "# 台車\n",
    "lines!(\n",
    "    scene,\n",
    "    [-0.2, 0.2],\n",
    "    [-0.8, -0.8],\n",
    "    color = :green,\n",
    "    linewidth = 20\n",
    ")\n",
    "\n",
    "scene"
   ]
  },
  {
   "cell_type": "code",
   "execution_count": 56,
   "metadata": {},
   "outputs": [
    {
     "data": {
      "image/png": "[encoded data removed]",
      "text/plain": [
       "Scene (400px, 400px):\n",
       "  3 Plots:\n",
       "    ├ Lines{Tuple{Vector{Point{2, Float32}}}}\n",
       "    ├ Lines{Tuple{Vector{Point{2, Float32}}}}\n",
       "    └ MakieCore.Text{Tuple{String}}\n",
       "  0 Child Scenes"
      ]
     },
     "execution_count": 56,
     "metadata": {},
     "output_type": "execute_result"
    }
   ],
   "source": [
    "\"\"\"\n",
    "台車位置が -2.4 になった場合の CartPole 描画\n",
    "\"\"\"\n",
    "\n",
    "scene = Scene(resolution = (400, 400))\n",
    "pos = -2.4 * 0.1 # ×0.1: グラフ内描画位置調整変数\n",
    "\n",
    "# 棒\n",
    "lines!(\n",
    "    scene,\n",
    "    [0, pos],\n",
    "    [0.8, -0.8],\n",
    "    color = :brown,\n",
    "    linewidth = 10\n",
    ")\n",
    "\n",
    "# 台車\n",
    "lines!(\n",
    "    scene,\n",
    "    [pos - 0.2, pos + 0.2],\n",
    "    [-0.8, -0.8],\n",
    "    color = :green,\n",
    "    linewidth = 20\n",
    ")\n",
    "\n",
    "# 運動量ベクトル\n",
    "text!(\n",
    "    scene,\n",
    "    \"←\",\n",
    "    position = (pos - 0.4, -0.8 - 0.1),\n",
    "    color = :blue,\n",
    "    textsize = 40\n",
    ")\n",
    "\n",
    "scene"
   ]
  },
  {
   "cell_type": "code",
   "execution_count": 70,
   "metadata": {},
   "outputs": [
    {
     "data": {
      "text/plain": [
       "plot (generic function with 1 method)"
      ]
     },
     "execution_count": 70,
     "metadata": {},
     "output_type": "execute_result"
    }
   ],
   "source": [
    "plot(env::CartPoleEnv, action::Union{Val{-1}, Val{0}, Val{+1}}) = begin\n",
    "    scene = Scene(resolution = (400, 400))\n",
    "    pos = env.cart_pos * 0.1 # ×0.1: グラフ内描画位置調整変数\n",
    "\n",
    "    # 棒\n",
    "    lines!(\n",
    "        scene,\n",
    "        [0, pos],\n",
    "        [0.8, -0.8],\n",
    "        color = :brown,\n",
    "        linewidth = 10\n",
    "    )\n",
    "\n",
    "    # 台車\n",
    "    lines!(\n",
    "        scene,\n",
    "        [pos - 0.2, pos + 0.2],\n",
    "        [-0.8, -0.8],\n",
    "        color = :green,\n",
    "        linewidth = 20\n",
    "    )\n",
    "\n",
    "    # 運動量ベクトル\n",
    "    a = value(action)\n",
    "    if a !== 0\n",
    "        text!(\n",
    "            scene,\n",
    "            a === -1 ? \"←\" : \"→\",\n",
    "            position = (pos + 0.4a, -0.8 - 0.1),\n",
    "            color = :blue,\n",
    "            textsize = 40\n",
    "        )\n",
    "    end\n",
    "\n",
    "    scene\n",
    "end"
   ]
  },
  {
   "cell_type": "code",
   "execution_count": 71,
   "metadata": {},
   "outputs": [
    {
     "data": {
      "image/png": "[encoded data removed]",
      "text/plain": [
       "Scene (400px, 400px):\n",
       "  3 Plots:\n",
       "    ├ Lines{Tuple{Vector{Point{2, Float32}}}}\n",
       "    ├ Lines{Tuple{Vector{Point{2, Float32}}}}\n",
       "    └ MakieCore.Text{Tuple{String}}\n",
       "  0 Child Scenes"
      ]
     },
     "execution_count": 71,
     "metadata": {},
     "output_type": "execute_result"
    }
   ],
   "source": [
    "env = CartPoleEnv()\n",
    "\n",
    "step!(env, Val(1))\n",
    "plot(env, Val(1))"
   ]
  },
  {
   "cell_type": "code",
   "execution_count": 101,
   "metadata": {},
   "outputs": [
    {
     "data": {
      "text/plain": [
       "3-element Vector{AbstractPlot}:\n",
       " Lines{Tuple{Vector{Point{2, Float32}}}}\n",
       " Lines{Tuple{Vector{Point{2, Float32}}}}\n",
       " MakieCore.Text{Tuple{String}}"
      ]
     },
     "execution_count": 101,
     "metadata": {},
     "output_type": "execute_result"
    }
   ],
   "source": [
    "plot(env, Val(1)).plots"
   ]
  },
  {
   "cell_type": "code",
   "execution_count": 119,
   "metadata": {},
   "outputs": [
    {
     "data": {
      "image/png": "[encoded data removed]",
      "text/plain": [
       "Scene (400px, 400px):\n",
       "  0 Plots\n",
       "  1 Child Scene:\n",
       "    └ Scene (400px, 400px)"
      ]
     },
     "execution_count": 119,
     "metadata": {},
     "output_type": "execute_result"
    }
   ],
   "source": [
    "env = CartPoleEnv()\n",
    "\n",
    "scene = Scene(resolution = (400, 400))\n",
    "recordscene = Observable(plot(env, Val(0)))\n",
    "push!(scene.children, recordscene[])\n",
    "\n",
    "record(scene, \"04-cartpole-test.gif\", framerate = 30) do io\n",
    "    while !is_terminated(env)\n",
    "        action = rand((Val(-1), Val(+1)))\n",
    "        step!(env, action)\n",
    "        recordscene[] = plot(env, action)\n",
    "        scene.children[1] = recordscene[]\n",
    "        recordframe!(io)\n",
    "    end\n",
    "end\n",
    "\n",
    "scene"
   ]
  },
  {
   "cell_type": "code",
   "execution_count": null,
   "metadata": {},
   "outputs": [],
   "source": []
  }
 ],
 "metadata": {
  "kernelspec": {
   "display_name": "Julia 1.7.2",
   "language": "julia",
   "name": "julia-1.7"
  },
  "language_info": {
   "file_extension": ".jl",
   "mimetype": "application/julia",
   "name": "julia",
   "version": "1.7.2"
  },
  "orig_nbformat": 4
 },
 "nbformat": 4,
 "nbformat_minor": 2
}
