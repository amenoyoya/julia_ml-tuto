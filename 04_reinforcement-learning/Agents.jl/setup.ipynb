{
 "cells": [
  {
   "cell_type": "code",
   "execution_count": 2,
   "metadata": {},
   "outputs": [
    {
     "name": "stderr",
     "output_type": "stream",
     "text": [
      "\u001b[32m\u001b[1m    Updating\u001b[22m\u001b[39m `C:\\Users\\user\\.julia\\environments\\v1.7\\Project.toml`\n",
      " \u001b[90m [13f3f980] \u001b[39m\u001b[91m- CairoMakie v0.7.5\u001b[39m\n",
      "\u001b[32m\u001b[1m    Updating\u001b[22m\u001b[39m `C:\\Users\\user\\.julia\\environments\\v1.7\\Manifest.toml`\n",
      " \u001b[90m [159f3aea] \u001b[39m\u001b[91m- Cairo v1.0.5\u001b[39m\n",
      " \u001b[90m [13f3f980] \u001b[39m\u001b[91m- CairoMakie v0.7.5\u001b[39m\n",
      " \u001b[90m [36c8627f] \u001b[39m\u001b[91m- Pango_jll v1.50.3+0\u001b[39m\n",
      "┌ Info: We haven't cleaned this depot up for a bit, running Pkg.gc()...\n",
      "└ @ Pkg C:\\buildbot\\worker\\package_win64\\build\\usr\\share\\julia\\stdlib\\v1.7\\Pkg\\src\\Pkg.jl:639\n",
      "\u001b[32m\u001b[1m      Active\u001b[22m\u001b[39m manifest files: 7 found\n",
      "\u001b[32m\u001b[1m      Active\u001b[22m\u001b[39m artifact files: 126 found\n",
      "\u001b[32m\u001b[1m      Active\u001b[22m\u001b[39m scratchspaces: 15 found\n",
      "\u001b[32m\u001b[1m     Deleted\u001b[22m\u001b[39m 108 package installations (86.555 MiB)\n",
      "\u001b[32m\u001b[1m     Deleted\u001b[22m\u001b[39m 3 repos (4.563 MiB)\n",
      "\u001b[32m\u001b[1m   Resolving\u001b[22m\u001b[39m package versions...\n",
      "\u001b[32m\u001b[1m   Installed\u001b[22m\u001b[39m ShaderAbstractions ─ v0.2.9\n",
      "\u001b[32m\u001b[1m   Installed\u001b[22m\u001b[39m GLFW ─────────────── v3.4.1\n",
      "\u001b[32m\u001b[1m   Installed\u001b[22m\u001b[39m ModernGL ─────────── v1.1.4\n",
      "\u001b[32m\u001b[1m   Installed\u001b[22m\u001b[39m GLMakie ──────────── v0.5.5\n",
      "\u001b[32m\u001b[1m   Installed\u001b[22m\u001b[39m MeshIO ───────────── v0.4.10\n",
      "\u001b[32m\u001b[1m    Updating\u001b[22m\u001b[39m `C:\\Users\\user\\.julia\\environments\\v1.7\\Project.toml`\n",
      " \u001b[90m [e9467ef8] \u001b[39m\u001b[92m+ GLMakie v0.5.5\u001b[39m\n",
      "\u001b[32m\u001b[1m    Updating\u001b[22m\u001b[39m `C:\\Users\\user\\.julia\\environments\\v1.7\\Manifest.toml`\n",
      " \u001b[90m [f7f18e0c] \u001b[39m\u001b[92m+ GLFW v3.4.1\u001b[39m\n",
      " \u001b[90m [e9467ef8] \u001b[39m\u001b[92m+ GLMakie v0.5.5\u001b[39m\n",
      " \u001b[90m [7269a6da] \u001b[39m\u001b[92m+ MeshIO v0.4.10\u001b[39m\n",
      " \u001b[90m [66fc600b] \u001b[39m\u001b[92m+ ModernGL v1.1.4\u001b[39m\n",
      " \u001b[90m [65257c39] \u001b[39m\u001b[92m+ ShaderAbstractions v0.2.9\u001b[39m\n",
      "\u001b[32m\u001b[1m    Building\u001b[22m\u001b[39m ModernGL → `C:\\Users\\user\\.julia\\scratchspaces\\44cfe95a-1eb2-52ea-b672-e2afdf69b78f\\344f8896e55541e30d5ccffcbf747c98ad57ca47\\build.log`\n",
      "\u001b[32m\u001b[1mPrecompiling\u001b[22m\u001b[39m project...\n",
      "\u001b[32m  ✓ \u001b[39m\u001b[90mModernGL\u001b[39m\n",
      "\u001b[32m  ✓ \u001b[39m\u001b[90mShaderAbstractions\u001b[39m\n",
      "\u001b[32m  ✓ \u001b[39m\u001b[90mGLFW\u001b[39m\n",
      "\u001b[32m  ✓ \u001b[39m\u001b[90mMeshIO\u001b[39m\n",
      "\u001b[32m  ✓ \u001b[39mGLMakie\n",
      "  5 dependencies successfully precompiled in 38 seconds (294 already precompiled, 1 skipped during auto due to previous errors)\n"
     ]
    }
   ],
   "source": [
    "using Pkg\n",
    "\n",
    "Pkg.add([\n",
    "    \"Agents\",\n",
    "    \"InteractiveDynamics\",\n",
    "    \"GLMakie\"\n",
    "])"
   ]
  },
  {
   "cell_type": "code",
   "execution_count": null,
   "metadata": {},
   "outputs": [],
   "source": []
  }
 ],
 "metadata": {
  "kernelspec": {
   "display_name": "Julia 1.7.2",
   "language": "julia",
   "name": "julia-1.7"
  },
  "language_info": {
   "file_extension": ".jl",
   "mimetype": "application/julia",
   "name": "julia",
   "version": "1.7.2"
  },
  "orig_nbformat": 4
 },
 "nbformat": 4,
 "nbformat_minor": 2
}
