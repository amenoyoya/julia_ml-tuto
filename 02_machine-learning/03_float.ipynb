{
 "cells": [
  {
   "cell_type": "markdown",
   "id": "10936b78-c3f7-4837-961b-adfad3b6ea93",
   "metadata": {},
   "source": [
    "# Juliaによる数値計算\n",
    "\n",
    "## 浮動小数点の演算\n",
    "\n",
    "- **浮動小数点**:\n",
    "    - 小数をコンピュータ上で表現するための数\n",
    "    - 固定長の仮数部と指数部をビット2進数により表現する\n",
    "    - 2進数で表現するため、ほとんどの小数は無限小数となり、有限のリソースで計算を行うコンピュータ上では誤差が生じる\n",
    "\n",
    "簡単な例として、0.001 を 1000 個加算してみると以下のようになる"
   ]
  },
  {
   "cell_type": "code",
   "execution_count": 1,
   "id": "66b8533d-1cd3-495b-8a19-d279efe08601",
   "metadata": {},
   "outputs": [
    {
     "name": "stdout",
     "output_type": "stream",
     "text": [
      "1.0000000000000007\n"
     ]
    }
   ],
   "source": [
    "a = 0\n",
    "\n",
    "for i = 1:1000\n",
    "    a += 0.001\n",
    "end\n",
    "\n",
    "println(a)"
   ]
  },
  {
   "cell_type": "markdown",
   "id": "ec9b6216-366d-4f9a-8984-e90ab17766bf",
   "metadata": {},
   "source": [
    "数学的には 0.001 を 1000 個加算すれば 1 になるはずだが、上記のように $7.0\\times10^{-16}$ の誤差が生じてしまっている\n",
    "\n",
    "これが2進数表現で小数を表現する場合に生じてしまう誤差であり、**計算機イプシロン** と呼ばれる\n",
    "\n",
    "Julia において、計算機イプシロンは `eps` 関数を用いて取得することが出来る"
   ]
  },
  {
   "cell_type": "code",
   "execution_count": 2,
   "id": "dc7e3b92-3260-4bcd-91eb-25668b40572e",
   "metadata": {},
   "outputs": [
    {
     "data": {
      "text/plain": [
       "2.220446049250313e-16"
      ]
     },
     "execution_count": 2,
     "metadata": {},
     "output_type": "execute_result"
    }
   ],
   "source": [
    "# Float64型浮動小数点における計算機イプシロン\n",
    "eps(Float64)"
   ]
  },
  {
   "cell_type": "markdown",
   "id": "236adf2a-2496-48fa-9b8f-cf4cbe429b7c",
   "metadata": {},
   "source": [
    "上記のように浮動小数点では誤差が生じるが、その誤差は非常に小さく、実用上は近似計算してしまって問題ないことがほとんどである\n",
    "\n",
    "しかしながら、このような内部表現による誤差があることは、常に意識しておかなければ予想外の問題が発生しうるため注意が必要である\n",
    "\n",
    "ここではまず、条件分岐に関する注意点を示す\n",
    "\n",
    "浮動小数点に関する条件式では数値誤差を十分に考慮しなければならず、特に数値比較で `==` のような完全一致比較を行うのは悪手であることが多い"
   ]
  },
  {
   "cell_type": "code",
   "execution_count": 3,
   "id": "727b9d9f-a801-4578-b919-db423a3c5b54",
   "metadata": {},
   "outputs": [
    {
     "name": "stdout",
     "output_type": "stream",
     "text": [
      "0\n",
      "0.1\n",
      "0.2\n",
      "0.30000000000000004\n",
      "0.4\n",
      "0.5\n",
      "0.6\n",
      "0.7\n",
      "0.7999999999999999\n",
      "0.8999999999999999\n",
      "0.9999999999999999\n",
      "1.0999999999999999\n",
      "1.2\n",
      "1.3\n",
      "1.4000000000000001\n",
      "1.5000000000000002\n",
      "1.6000000000000003\n",
      "1.7000000000000004\n",
      "1.8000000000000005\n",
      "1.9000000000000006\n"
     ]
    }
   ],
   "source": [
    "s = 0\n",
    "# s を 0.0 から 0.1 ずつ加算していく\n",
    "for i = 1:20\n",
    "    # s が 1.0 になったら終了\n",
    "    ## => 浮動小数点の内部表現により s が正確に 1.0 になることはないため、この条件式は永遠に true にならない\n",
    "    if s == 1.0\n",
    "        break\n",
    "    end\n",
    "    println(s)\n",
    "    s += 0.1\n",
    "end"
   ]
  },
  {
   "cell_type": "markdown",
   "id": "fc696f4b-cf62-41ef-b023-1cfaa7c11704",
   "metadata": {},
   "source": [
    "上記のように、浮動小数点の比較に `==` や `!=` のような完全一致演算子を用いるのは意図と異なる結果になることが多い\n",
    "\n",
    "こういった場合には、十分に小さな正の数を用意して、誤差がその数値以内になるかどうかをチェックするという手法がよく用いられる\n",
    "\n",
    "例えば、Juliaにおいては概ね17桁程度の精度の浮動小数点を扱う事ができるため、$10^{-10}$ のような十分に小さな値を設定して数値比較を行えば、意図通りの結果が得られるはずである"
   ]
  },
  {
   "cell_type": "code",
   "execution_count": 4,
   "id": "e63eb0d1-258c-46f5-a5a9-ff5728fdacc1",
   "metadata": {},
   "outputs": [
    {
     "name": "stdout",
     "output_type": "stream",
     "text": [
      "0\n",
      "0.1\n",
      "0.2\n",
      "0.30000000000000004\n",
      "0.4\n",
      "0.5\n",
      "0.6\n",
      "0.7\n",
      "0.7999999999999999\n",
      "0.8999999999999999\n"
     ]
    }
   ],
   "source": [
    "# 十分に小さな正の値\n",
    "## ϵ: \\epsilon <Tab>\n",
    "ϵ = 1e-10\n",
    "\n",
    "s = 0\n",
    "\n",
    "# s を 0.0 から 0.1 ずつ加算していく\n",
    "for i = 1:20\n",
    "    # s が 1.0（付近）になったら終了したい\n",
    "    ## => |s-1.0| が ϵ より小さくなったら終了\n",
    "    if abs(s - 1.0) < ϵ\n",
    "        break\n",
    "    end\n",
    "    println(s)\n",
    "    s += 0.1\n",
    "end"
   ]
  },
  {
   "cell_type": "markdown",
   "id": "2d7c3ba2-0bad-4810-a91c-679c8f6a82dc",
   "metadata": {},
   "source": [
    "上記では $\\epsilon$ を $10^{-10}$ と設定したが、この値をどのようにして決めるのが良いのかは、解く問題によるため一概には言えない\n",
    "\n",
    "理論的に値が決められることもあれば、実験的にうまくいく値を採用することもある\n",
    "\n",
    "### 演算による桁落ち\n",
    "\n",
    "次に2次方程式の解を求める関数を考えてみる\n",
    "\n",
    "2次方程式 $ax^2 + bx + c = 0 \\quad (a\\neq0)$ の解は\n",
    "\n",
    "$$\n",
    "x = \\frac{-b\\pm\\sqrt{b^2 - 4ac}}{2a}\n",
    "$$\n",
    "\n",
    "で与えられる\n",
    "\n",
    "これを計算する関数を定義してみる\n",
    "\n",
    "\n",
    "ここでは話を簡単にするため、解が実数になる場合、つまり $b^2-4ac \\geq 0$ の場合のみを考えることにする"
   ]
  },
  {
   "cell_type": "code",
   "execution_count": 5,
   "id": "ed1223a4-6c3e-4cbe-802a-dab2bc578dd9",
   "metadata": {},
   "outputs": [
    {
     "data": {
      "text/plain": [
       "(-2.0, -3.0)"
      ]
     },
     "execution_count": 5,
     "metadata": {},
     "output_type": "execute_result"
    }
   ],
   "source": [
    "# 2次方程式の解を求める関数\n",
    "qeq(a, b, c) = begin\n",
    "    d = sqrt(b^2 - 4*a*c)\n",
    "    # 2つの解をTupleで返す\n",
    "    ((-b + d) / 2a, (-b - d) / 2a)\n",
    "end\n",
    "\n",
    "\"\"\"\n",
    "test: x^2 + 5x + 6 = 0\n",
    "    a = 1\n",
    "    b = 5\n",
    "    c = 6\n",
    "\"\"\"\n",
    "# answer: (x + 2)(x + 3) = 0 より\n",
    "## x = -2, -3 になるはず\n",
    "qeq(1, 5, 6)"
   ]
  },
  {
   "cell_type": "markdown",
   "id": "d01e832a-6b50-4784-8d0f-8e04e6279597",
   "metadata": {},
   "source": [
    "上記の通り、理論値通り正確に計算できた\n",
    "\n",
    "続いて、2次方程式 $x^2 + 1.000000001x + 0.000000001 = 0$ について考えてみる"
   ]
  },
  {
   "cell_type": "code",
   "execution_count": 6,
   "id": "c65cae10-1bf5-4bb2-b33d-750d5fa3cabe",
   "metadata": {},
   "outputs": [
    {
     "data": {
      "text/plain": [
       "(-1.0000000272292198e-9, -1.0)"
      ]
     },
     "execution_count": 6,
     "metadata": {},
     "output_type": "execute_result"
    }
   ],
   "source": [
    "\"\"\"\n",
    "test: x^2 + 1.000000001x + 0.000000001 = 0\n",
    "    a = 1\n",
    "    b = 1.000000001\n",
    "    c = 0.000000001\n",
    "\"\"\"\n",
    "# answer: (x + 1)(x + 0.000000001) = 0 より\n",
    "## x = -1, -0.000000001 になるはず\n",
    "qeq(1, 1.000000001, 0.000000001)"
   ]
  },
  {
   "cell_type": "markdown",
   "id": "c0ec9077-e904-4c67-9bb2-c1a0b245aaa6",
   "metadata": {},
   "source": [
    "上記の通り、理論値と異なる値が算出された\n",
    "\n",
    "これは浮動小数点の **桁落ち** と呼ばれる現象により、誤差が生じているためである\n",
    "\n",
    "今回の場合、分子の $-b + \\sqrt{b^2 - 4ac}$ が 0 に非常に近いため、桁落ちが生じている\n",
    "\n",
    "実際に $\\sqrt{b^2 - 4ac}$ を計算してみると以下のようになる"
   ]
  },
  {
   "cell_type": "code",
   "execution_count": 7,
   "id": "1a844a41-4ea4-4d55-a420-0a181427652e",
   "metadata": {},
   "outputs": [
    {
     "data": {
      "text/plain": [
       "0.999999999"
      ]
     },
     "execution_count": 7,
     "metadata": {},
     "output_type": "execute_result"
    }
   ],
   "source": [
    "sqrt(1.000000001^2 - 4 * 1 * 0.000000001)"
   ]
  },
  {
   "cell_type": "markdown",
   "id": "044dbc4f-5605-40b1-a4af-73ffc1f10f5a",
   "metadata": {},
   "source": [
    "上記の結果と $-b = -1.000000001$ を加算すると、小数点第8位までは消えてしまう\n",
    "\n",
    "つまり、もともとは約17桁まで信用できた数字が、9桁分までの数字が消えてしまうことにより、信用できる桁数が残り8桁になってしまうということである\n",
    "\n",
    "これが桁落ちと呼ばれる現象である"
   ]
  },
  {
   "cell_type": "code",
   "execution_count": 8,
   "id": "41795cea-5475-420b-b3aa-ecf02737ebb8",
   "metadata": {},
   "outputs": [
    {
     "data": {
      "text/plain": [
       "-2.0000000544584395e-9"
      ]
     },
     "execution_count": 8,
     "metadata": {},
     "output_type": "execute_result"
    }
   ],
   "source": [
    "-1.000000001 + sqrt(1.000000001^2 - 4 * 1 * 0.000000001)"
   ]
  },
  {
   "cell_type": "markdown",
   "id": "53ef7fb1-466c-4162-bd09-c3e612a169a8",
   "metadata": {},
   "source": [
    "このように、絶対値の近い減算処理では有効桁数を大きく失う可能性があるため危険である\n",
    "\n",
    "#### 桁落ちの回避方法\n",
    "桁落ちを回避するためには、絶対値が近い数値同士の減算処理が発生しそうな計算を回避できるように、数式を同値な式で置き換えれば良い\n",
    "\n",
    "上記2次方程式の場合、$\\sqrt{}$ の計算結果は必ず正になるはずであるため、絶対値の近い数値同士の減算処理が発生する可能性は $b$ の符号によって分けて考える必要がある\n",
    "\n",
    "$b\\geq0$ のときは、分子の $\\pm$ が $+$ のときに、近い数値同士の減算処理が発生しうる\n",
    "\n",
    "逆に $b\\gt0$ のときは、分子の $\\pm$ が $-$ のときに、近い数値同士の減算処理が発生しうる\n",
    "\n",
    "これらをまとめて表現するために符号関数 $\\rm{sign}(x)$ という関数を導入する\n",
    "\n",
    "$$\n",
    "\\rm{sign}(x) = \\left\\{\n",
    "\\begin{align}\n",
    "-1\\quad&(x\\lt0) \\\\\n",
    "0\\quad&(x=0) \\\\\n",
    "1\\quad&(x\\gt0) \\\\\n",
    "\\end{align}\n",
    "\\right.\n",
    "$$\n",
    "\n",
    "符号関数を用いて、直接計算しても問題ない（絶対値の近い減算処理が**発生しない**）式を考えると、以下のように表される\n",
    "\n",
    "$$\n",
    "\\frac{-b-\\rm{sgin}(b)\\sqrt{b^2 - 4ac}}{2a}\n",
    "$$\n",
    "\n",
    "次に直接計算すると問題のある（絶対値の近い減算処理が発生しうる）方の解を計算する方法を考える\n",
    "\n",
    "ここで、2次方程式 $ax^2 + bx + c = 0$ の解を $\\alpha, \\beta$ と置くと、次の式が成り立つことが知られている\n",
    "\n",
    "$$\n",
    "\\alpha\\beta = \\frac{c}{a}\n",
    "$$\n",
    "\n",
    "このことは、以下のように実際に計算してみるとすぐに分かる\n",
    "\n",
    "$$\n",
    "\\begin{align}\n",
    "\\alpha\\beta &= \\frac{-b + \\sqrt{b^2 - 4ac}}{2a}\\times\\frac{-b - \\sqrt{b^2 - 4ac}}{2a} \\\\\n",
    "&= \\frac{(-b)^2 - (\\sqrt{b^2 - 4ac})^2}{4a^2} \\\\\n",
    "&= \\frac{b^2 - (b^2 - 4ac)}{4a^2} \\\\\n",
    "&= \\frac{c}{a}\n",
    "\\end{align}\n",
    "$$\n",
    "\n",
    "上記を利用することで、直接計算に問題のある方の解 $\\beta$ を、直接計算しても問題ない方の解 $\\alpha$ で表すことが出来るようになる\n",
    "\n",
    "つまり、\n",
    "\n",
    "$$\n",
    "\\begin{align}\n",
    "\\alpha &= \\frac{-b - \\rm{sign}(b)\\sqrt{b^2 - 4ac}}{2a} \\\\\n",
    "\\beta &= \\frac{c}{a\\alpha}\n",
    "\\end{align}\n",
    "$$\n",
    "\n",
    "という形で計算すれば桁落ちを回避できるはずである"
   ]
  },
  {
   "cell_type": "code",
   "execution_count": 9,
   "id": "deda1612-7e1b-49dd-8082-dd56cafcb277",
   "metadata": {},
   "outputs": [
    {
     "data": {
      "text/plain": [
       "(-1.0, -1.0e-9)"
      ]
     },
     "execution_count": 9,
     "metadata": {},
     "output_type": "execute_result"
    }
   ],
   "source": [
    "# 2次方程式の解を求める関数（桁落ち回避版）\n",
    "qeq(a, b, c) = begin\n",
    "    # Julia には sign 関数は事前定義されているためそれを利用\n",
    "    alpha = (-b - sign(b) * sqrt(b^2 - 4*a*c)) / 2a\n",
    "    beta = c / (a * alpha)\n",
    "    (alpha, beta)\n",
    "end\n",
    "\n",
    "# test: x^2 + 1.000000001x + 0.000000001 = 0\n",
    "qeq(1, 1.000000001, 0.000000001)"
   ]
  },
  {
   "cell_type": "markdown",
   "id": "c6c0517a-6af3-455e-b984-aa8abeb5a0b3",
   "metadata": {},
   "source": [
    "上記の通り、前回よりも正確な値を計算することが出来た\n",
    "\n",
    "このように、誤差を比較的小さく抑えられる方法を **数値的に安定な解法** と呼ぶ\n",
    "\n",
    "### 数値範囲の考慮\n",
    "次に、ソフトプラス関数と呼ばれる次のような関数を考える\n",
    "\n",
    "$$\n",
    "\\rm{softplus}(x) = \\ln(1+e^x)\n",
    "$$\n",
    "\n",
    "この関数は $x$ が十分に大きい場合、$\\rm{softplus}(x) \\approx x$ で近似される\n",
    "\n",
    "実際 $e^x$ は $x$ が大きくなると急激に大きくなるため、$1 + e^x \\approx e^x$ と近似できるようになり、$\\rm{softplus}(x) \\approx \\ln e^x = x$ となる\n",
    "\n",
    "まずは、この関数を定義そのままで記述してみる"
   ]
  },
  {
   "cell_type": "code",
   "execution_count": 10,
   "id": "550f9e3c-4572-4869-9e3c-0b45eb18cd20",
   "metadata": {},
   "outputs": [
    {
     "name": "stdout",
     "output_type": "stream",
     "text": [
      "0.31326168751822286\n",
      "0.6931471805599453\n",
      "Inf\n"
     ]
    }
   ],
   "source": [
    "softplus(x) = log(1 + exp(x))\n",
    "    \n",
    "# test\n",
    "softplus(-1) |> println\n",
    "softplus(0) |> println\n",
    "softplus(1000) |> println"
   ]
  },
  {
   "cell_type": "markdown",
   "id": "eac8bdbb-bfb8-4efe-866c-11058b86a5cb",
   "metadata": {},
   "source": [
    "上記のように $x=-1$ と $x=0$ のときは順調に計算出来ていたが、$x=1000$ のときは `Inf`（無限大）となってしまった\n",
    "\n",
    "これは、Julia で扱える浮動小数点の範囲を超えて大きな値になったことを意味する\n",
    "\n",
    "しかしながら、前述の考察によると $\\rm{softplus}(1000) \\approx 1000$ になるはずであるため、浮動小数点型で十分に計算できる範囲のように思われる\n",
    "\n",
    "それでも `Inf` になってしまうのは、`exp(1000)` の計算時点で浮動小数点型の範囲を超えてしまうためである"
   ]
  },
  {
   "cell_type": "code",
   "execution_count": 11,
   "id": "f39999fd-9443-4b96-944c-58e2cbaa707a",
   "metadata": {},
   "outputs": [
    {
     "data": {
      "text/plain": [
       "Inf"
      ]
     },
     "execution_count": 11,
     "metadata": {},
     "output_type": "execute_result"
    }
   ],
   "source": [
    "exp(1000)"
   ]
  },
  {
   "cell_type": "markdown",
   "id": "217d38dc-33ae-4ba0-98c0-940e4b8cb7ac",
   "metadata": {},
   "source": [
    "ここでの問題は、数学的に考えれば計算結果はさほど大きくない（Julia の浮動小数点型として十分に取り扱い可能）にも関わらず、計算過程で `Inf` が発生してその後の計算も全て `Inf` になってしまうという点である\n",
    "\n",
    "この問題を克服するには、元の式を同値な式に変形し、計算過程で `Inf` が発生しないようにすることである\n",
    "\n",
    "試しに以下のように式変形してみる\n",
    "\n",
    "$$\n",
    "\\begin{align}\n",
    "\\ln(1 + e^x) &= \\ln\\{e^x(x^{-x} + 1)\\} \\\\\n",
    "&= \\ln{e^x} + \\ln(e^{-x} + 1) \\\\\n",
    "&= x + \\ln(e^{-x} + 1)\n",
    "\\end{align}\n",
    "$$\n",
    "\n",
    "上記のように変形すれば、$x$ が十分に大きくなると $e^{-x}\\right0$ となるため `Inf` が発生する問題は回避できる\n",
    "\n",
    "しかし、今度は $x$ が十分に小さくなる場合に $e^{-x}\\right\\inf$ となってしまい、この場合は元の式の方が良かったことになる\n",
    "\n",
    "したがって、どこかの $x$ を境目にして2つの式を分けるのが良さそうである\n",
    "\n",
    "ここでは $x=0$ を境目にして、以下のように式変形してみる\n",
    "\n",
    "$$\n",
    "\\begin{align}\n",
    "\\rm{softplus}(x) &= \\left\\{\n",
    "\\begin{array}{cc}\n",
    "\\ln(1 + e^x) & (x\\lt0) \\\\\n",
    "x + \\ln(1 + e^{-x}) & (x\\geq0)\n",
    "\\end{array}\n",
    "\\right. \\\\\n",
    "&= \\max(0,x) + \\ln(1 + e^{-|x|})\n",
    "\\end{align}\n",
    "$$\n",
    "\n",
    "ここで $\\max(a,b)$ とは $a$, $b$ の内の大きい方を返す関数である\n",
    "\n",
    "上式に従って、`softplus` 関数を修正してみる"
   ]
  },
  {
   "cell_type": "code",
   "execution_count": 12,
   "id": "2b05cd2f-1ead-4a5d-9d46-db729ebb45fe",
   "metadata": {},
   "outputs": [
    {
     "name": "stdout",
     "output_type": "stream",
     "text": [
      "0.31326168751822286\n",
      "0.6931471805599453\n",
      "1000.0\n",
      "0.0\n"
     ]
    }
   ],
   "source": [
    "softplus(x) = max(0, x) + log(1 + exp(-abs(x)))\n",
    "\n",
    "# test\n",
    "softplus(-1) |> println\n",
    "softplus(0) |> println\n",
    "softplus(1000) |> println\n",
    "softplus(-1000) |> println"
   ]
  },
  {
   "cell_type": "markdown",
   "id": "735b6484-a9bb-4404-85f5-5bbda2542693",
   "metadata": {},
   "source": [
    "上記の通り、今度は $x=1000$ の場合も $x=-1000$ の場合も問題なく計算できている\n",
    "\n",
    "以上、コンピュータによる数値計算で気をつけるべき点を、例を挙げながら見てきたが、ポイントをまとめると以下のようになる\n",
    "\n",
    "- 原則として、浮動小数点型の比較には `==` や `!=` のような完全一致演算子を用いない\n",
    "    - 十分な小さな正の数を設定して、「比較対象との差がその数値以内になる」という条件式を用いる方法がよく採用される\n",
    "- 数値が近いものの減算処理は、桁落ち現象により有効桁数が失われるため注意\n",
    "    - 数値が近いものの減算処理が入らないように、同値な式に変形して計算する\n",
    "- 計算過程で `Inf` や `-Inf` が生じてしまう計算に注意\n",
    "    - 浮動小数点型で扱える範囲の数値しか現れないように式変形して計算する"
   ]
  },
  {
   "cell_type": "code",
   "execution_count": null,
   "id": "d6512fda-218e-4a06-bea6-692693683979",
   "metadata": {},
   "outputs": [],
   "source": []
  }
 ],
 "metadata": {
  "kernelspec": {
   "display_name": "Julia 1.6.1",
   "language": "julia",
   "name": "julia-1.6"
  },
  "language_info": {
   "file_extension": ".jl",
   "mimetype": "application/julia",
   "name": "julia",
   "version": "1.6.1"
  }
 },
 "nbformat": 4,
 "nbformat_minor": 5
}
