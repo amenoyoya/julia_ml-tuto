{
 "cells": [
  {
   "cell_type": "markdown",
   "id": "bf36412d-e502-4162-8a89-532cf4c1eca9",
   "metadata": {},
   "source": [
    "# Juliaによる数値計算\n",
    "\n",
    "## 基本的な数学関数"
   ]
  },
  {
   "cell_type": "code",
   "execution_count": 1,
   "id": "14c4e778-38cc-4272-978f-6265fed8e653",
   "metadata": {},
   "outputs": [
    {
     "name": "stdout",
     "output_type": "stream",
     "text": [
      "7.38905609893065\n",
      "1\n",
      "1.2246467991473532e-16\n",
      "1.7320508075688772\n"
     ]
    }
   ],
   "source": [
    "# e^2\n",
    "exp(2) |> println\n",
    "\n",
    "# ln(e)\n",
    "## 自然対数e: exp(1) or ℯ (\\euler + <tab>)\n",
    "log(ℯ) |> println\n",
    "\n",
    "# sin(π): 数学的には 0 になるが、浮動小数点の誤差により 0 に近い値が返る\n",
    "## 円周率π: \\pi + <tab>\n",
    "sin(π) |> println\n",
    "\n",
    "# √3\n",
    "sqrt(3) |> println"
   ]
  },
  {
   "cell_type": "markdown",
   "id": "e3d3fee7-af70-4fa9-abbd-13db973c2617",
   "metadata": {},
   "source": [
    "## Julia の配列・行列\n",
    "\n",
    "Julia の配列はデフォルトで縦ベクトルとして定義されている\n",
    "\n",
    "配列はリストのように要素を並べたものだが、すべての要素の型は同じでなければならない\n",
    "\n",
    "また、一般的なプログラミング言語と異なり、Julia では配列の先頭要素は添字 1 でアクセスする（一般的なプログラミング言語では、配列要素は 0 から始まる）"
   ]
  },
  {
   "cell_type": "code",
   "execution_count": 2,
   "id": "db87b846-9b6e-4836-b925-ec9dd4984724",
   "metadata": {},
   "outputs": [
    {
     "data": {
      "text/plain": [
       "5-element Vector{Int64}:\n",
       " 2\n",
       " 3\n",
       " 5\n",
       " 7\n",
       " 8"
      ]
     },
     "metadata": {},
     "output_type": "display_data"
    },
    {
     "name": "stdout",
     "output_type": "stream",
     "text": [
      "2\n",
      "[3, 5]\n",
      "7\n"
     ]
    }
   ],
   "source": [
    "# 配列定義\n",
    "a = [2, 3, 5, 7, 8]\n",
    "display(a)\n",
    "\n",
    "# 先頭要素: a[1] = 2\n",
    "println(a[1])\n",
    "\n",
    "# インデックス 2～3 の要素: [3, 5]\n",
    "println(a[2:3])\n",
    "\n",
    "# 最後から一つ前の要素: a[5-1] = a[4] = 7\n",
    "println(a[end-1])"
   ]
  },
  {
   "cell_type": "code",
   "execution_count": 3,
   "id": "9e983078-1605-4208-bb39-3acb552d8679",
   "metadata": {},
   "outputs": [
    {
     "data": {
      "text/plain": [
       "5-element Vector{Int64}:\n",
       " 1\n",
       " 2\n",
       " 3\n",
       " 4\n",
       " 5"
      ]
     },
     "execution_count": 3,
     "metadata": {},
     "output_type": "execute_result"
    }
   ],
   "source": [
    "# UnitRange による数列\n",
    "## 1～5の等差数列の配列を作成\n",
    "b = Vector(1:5)"
   ]
  },
  {
   "cell_type": "code",
   "execution_count": 4,
   "id": "f40f14ff-5845-435d-a093-3bf250bccb34",
   "metadata": {},
   "outputs": [
    {
     "data": {
      "text/plain": [
       "6-element Vector{Float64}:\n",
       " 1.0\n",
       " 1.2\n",
       " 1.4\n",
       " 1.6\n",
       " 1.8\n",
       " 2.0"
      ]
     },
     "execution_count": 4,
     "metadata": {},
     "output_type": "execute_result"
    }
   ],
   "source": [
    "# UnitRange: start:step:end\n",
    "## 1.0～2.0, 等差0.2 の数列の配列を作成\n",
    "c = Vector(1.0:0.2:2.0)"
   ]
  },
  {
   "cell_type": "code",
   "execution_count": 5,
   "id": "3299bf97-5667-49de-8ff7-7110d46ba6d3",
   "metadata": {},
   "outputs": [
    {
     "data": {
      "text/plain": [
       "Vector{Int64} (alias for Array{Int64, 1})"
      ]
     },
     "execution_count": 5,
     "metadata": {},
     "output_type": "execute_result"
    }
   ],
   "source": [
    "# 型の確認\n",
    "typeof(a)"
   ]
  },
  {
   "cell_type": "code",
   "execution_count": 6,
   "id": "32be1bb7-1a11-4531-a00b-79b06d03a861",
   "metadata": {},
   "outputs": [
    {
     "data": {
      "text/plain": [
       "3-element Vector{Float64}:\n",
       " 1.0\n",
       " 2.0\n",
       " 3.0"
      ]
     },
     "execution_count": 6,
     "metadata": {},
     "output_type": "execute_result"
    }
   ],
   "source": [
    "# 配列作成時に要素の型を指定\n",
    "d = Vector{Float64}([1, 2, 3])"
   ]
  },
  {
   "cell_type": "markdown",
   "id": "f47cd72b-8f58-4ac5-ab69-66174eee2fa8",
   "metadata": {},
   "source": [
    "その他、Julia の配列・行列関連操作については [01_tutorial/07_Julia_vector.ipynb](../01_tutorial/07_Julia_vector.ipynb) を参照\n",
    "\n",
    "### 配列の基本計算\n",
    "Julia では、配列・行列に対して集計計算を行うための関数が豊富に用意されている"
   ]
  },
  {
   "cell_type": "code",
   "execution_count": 7,
   "id": "937fa6b2-6bf7-4c00-809e-1ada5df61376",
   "metadata": {},
   "outputs": [
    {
     "data": {
      "text/plain": [
       "5-element Vector{Float64}:\n",
       " 1.0\n",
       " 2.0\n",
       " 3.0\n",
       " 4.0\n",
       " 5.0"
      ]
     },
     "metadata": {},
     "output_type": "display_data"
    },
    {
     "name": "stdout",
     "output_type": "stream",
     "text": [
      "15.0\n",
      "5.0\n",
      "1.0\n"
     ]
    }
   ],
   "source": [
    "a = Vector(1.0:5.0)\n",
    "display(a)\n",
    "\n",
    "# 合計値算出: 1.0 + 2.0 + ... + 5.0\n",
    "sum(a) |> println\n",
    "\n",
    "# 最大値算出: 0.5\n",
    "maximum(a) |> println\n",
    "\n",
    "# 最小値算出: 1.0\n",
    "minimum(a) |> println"
   ]
  },
  {
   "cell_type": "code",
   "execution_count": 8,
   "id": "056d898c-f11f-4729-850e-2220649ae4fa",
   "metadata": {},
   "outputs": [
    {
     "name": "stdout",
     "output_type": "stream",
     "text": [
      "3.0\n",
      "1.5811388300841898\n"
     ]
    }
   ],
   "source": [
    "# Statistics 標準パッケージを使えば、平均値や標準偏差などの記述統計用関数を使うことが出来る\n",
    "using Statistics\n",
    "\n",
    "# 平均\n",
    "mean(a) |> println\n",
    "\n",
    "# 標準偏差: デフォルトでは不偏標準偏差を計算する\n",
    "std(a) |> println"
   ]
  },
  {
   "cell_type": "code",
   "execution_count": 9,
   "id": "7bbfdc80-0962-4846-9325-299367eeede3",
   "metadata": {},
   "outputs": [
    {
     "data": {
      "text/plain": [
       "3×3 Matrix{Float64}:\n",
       " 0.0  1.0  2.0\n",
       " 3.0  4.0  5.0\n",
       " 6.0  7.0  8.0"
      ]
     },
     "metadata": {},
     "output_type": "display_data"
    },
    {
     "name": "stdout",
     "output_type": "stream",
     "text": [
      "36.0\n",
      "8.0\n",
      "0.0\n",
      "4.0\n"
     ]
    }
   ],
   "source": [
    "# 2次元行列の場合\n",
    "b = [\n",
    "    0. 1. 2.;\n",
    "    3. 4. 5.;\n",
    "    6. 7. 8.\n",
    "]\n",
    "display(b)\n",
    "\n",
    "# 合計値算出: 0.0 + 1.0 + ... + 8.0\n",
    "sum(b) |> println\n",
    "\n",
    "# 最大値算出: 8.0\n",
    "maximum(b) |> println\n",
    "\n",
    "# 最小値算出: 0.0\n",
    "minimum(b) |> println\n",
    "\n",
    "# 平均: 4.0\n",
    "mean(b) |> println"
   ]
  },
  {
   "cell_type": "code",
   "execution_count": 10,
   "id": "0d600957-7f3a-486b-87ed-79d57ddd10ed",
   "metadata": {},
   "outputs": [
    {
     "data": {
      "text/plain": [
       "1×3 Matrix{Float64}:\n",
       " 9.0  12.0  15.0"
      ]
     },
     "metadata": {},
     "output_type": "display_data"
    },
    {
     "data": {
      "text/plain": [
       "3×1 Matrix{Float64}:\n",
       "  3.0\n",
       " 12.0\n",
       " 21.0"
      ]
     },
     "metadata": {},
     "output_type": "display_data"
    }
   ],
   "source": [
    "\"\"\"\n",
    "行列演算の場合、次元を指定して演算の方向を決めることが出来る\n",
    "\"\"\"\n",
    "\n",
    "# 列方向で合計値算出: [(0.0 + 3.0 + 6.0) (1.0 + 4.0 + 7.0) (2.0 + 5.0 + 8.0)]\n",
    "sum(b; dims=1) |> display\n",
    "\n",
    "# 行方向で合計値算出: [(0.0 + 1.0 + 2.0); (3.0 + 4.0 + 5.0); (6.0 + 7.0 + 8.0)]\n",
    "sum(b; dims=2) |> display"
   ]
  },
  {
   "cell_type": "code",
   "execution_count": 11,
   "id": "dbb75920-8dd0-4909-beed-0b86b9441d88",
   "metadata": {},
   "outputs": [
    {
     "data": {
      "text/plain": [
       "5-element Vector{Float64}:\n",
       " 3.0\n",
       " 4.0\n",
       " 5.0\n",
       " 6.0\n",
       " 7.0"
      ]
     },
     "metadata": {},
     "output_type": "display_data"
    },
    {
     "data": {
      "text/plain": [
       "5-element Vector{Float64}:\n",
       "   20.085536923187668\n",
       "   54.598150033144236\n",
       "  148.4131591025766\n",
       "  403.4287934927351\n",
       " 1096.6331584284585"
      ]
     },
     "metadata": {},
     "output_type": "display_data"
    },
    {
     "data": {
      "text/plain": [
       "5-element Vector{Float64}:\n",
       "  9.0\n",
       " 12.0\n",
       " 15.0\n",
       " 18.0\n",
       " 21.0"
      ]
     },
     "metadata": {},
     "output_type": "display_data"
    },
    {
     "data": {
      "text/plain": [
       "5-element BitVector:\n",
       " 0\n",
       " 0\n",
       " 1\n",
       " 1\n",
       " 1"
      ]
     },
     "metadata": {},
     "output_type": "display_data"
    }
   ],
   "source": [
    "\"\"\"\n",
    "Julia で一要素に対して適用される関数を、配列・行列に対して適用する場合は '.'(ドット演算子)を用いる\n",
    "\"\"\"\n",
    "\n",
    "a = Vector{Float64}(3:7)\n",
    "display(a)\n",
    "\n",
    "# 配列 a の全要素に exp 適用\n",
    "exp.(a) |> display\n",
    "\n",
    "# 配列 a の全要素に 3 を乗算\n",
    "a .* 3 |> display\n",
    "\n",
    "# 配列 a の全要素に対して > 4 の条件式を適用\n",
    "(a .> 4) |> display"
   ]
  },
  {
   "cell_type": "code",
   "execution_count": 12,
   "id": "44b18edc-ce03-4553-89a3-7562cea4508d",
   "metadata": {},
   "outputs": [
    {
     "data": {
      "text/plain": [
       "3-element Vector{Float64}:\n",
       " 5.0\n",
       " 6.0\n",
       " 7.0"
      ]
     },
     "metadata": {},
     "output_type": "display_data"
    },
    {
     "data": {
      "text/plain": [
       "2-element Vector{Float64}:\n",
       " 4.0\n",
       " 6.0"
      ]
     },
     "metadata": {},
     "output_type": "display_data"
    }
   ],
   "source": [
    "\"\"\"\n",
    "配列・行列のフィルタリング\n",
    "\"\"\"\n",
    "# 条件式を各要素に適用した結果の BitVector を利用することで配列のフィルタリングを行うことができる\n",
    "## a_i > 4 である要素をフィルタリング\n",
    "a[a .> 4] |> display\n",
    "\n",
    "# filter 関数を用いることで複雑なフィルタリングが可能\n",
    "## a_i が偶数である要素をフィルタリング\n",
    "filter(a_i -> a_i % 2. === 0., a) |> display"
   ]
  },
  {
   "cell_type": "code",
   "execution_count": 13,
   "id": "14ac40b7-8159-4b96-8e29-2f88c3f5810b",
   "metadata": {},
   "outputs": [
    {
     "data": {
      "text/plain": [
       "3-element Vector{Int64}:\n",
       " 3\n",
       " 4\n",
       " 5"
      ]
     },
     "metadata": {},
     "output_type": "display_data"
    },
    {
     "data": {
      "text/plain": [
       "2-element Vector{Int64}:\n",
       " 2\n",
       " 4"
      ]
     },
     "metadata": {},
     "output_type": "display_data"
    },
    {
     "data": {
      "text/plain": [
       "3-element Vector{Float64}:\n",
       " 5.0\n",
       " 6.0\n",
       " 7.0"
      ]
     },
     "metadata": {},
     "output_type": "display_data"
    }
   ],
   "source": [
    "# findall 関数を使うと、条件を満たす要素の index を取得できる\n",
    "\n",
    "# a_i > 4 である要素の index を取得\n",
    "findall(a .> 4) |> display\n",
    "\n",
    "# a_i が偶数である要素の index を取得\n",
    "findall(a_i -> a_i % 2. === 0., a) |> display\n",
    "\n",
    "# a_i > 4 である要素の index を取得し、その index の要素を a から抽出\n",
    "## a[a .> 4] と同値\n",
    "a[findall(a .> 4)] |> display"
   ]
  },
  {
   "cell_type": "code",
   "execution_count": 14,
   "id": "32879ff1-a842-4f0a-a638-ec367797a0ea",
   "metadata": {},
   "outputs": [
    {
     "data": {
      "text/plain": [
       "4-element Vector{Int64}:\n",
       " 0\n",
       " 1\n",
       " 2\n",
       " 3"
      ]
     },
     "metadata": {},
     "output_type": "display_data"
    },
    {
     "data": {
      "text/plain": [
       "4-element Vector{Int64}:\n",
       " 3\n",
       " 4\n",
       " 5\n",
       " 6"
      ]
     },
     "metadata": {},
     "output_type": "display_data"
    },
    {
     "data": {
      "text/plain": [
       "4-element Vector{Int64}:\n",
       " 3\n",
       " 5\n",
       " 7\n",
       " 9"
      ]
     },
     "metadata": {},
     "output_type": "display_data"
    },
    {
     "data": {
      "text/plain": [
       "4-element Vector{Int64}:\n",
       " -3\n",
       " -3\n",
       " -3\n",
       " -3"
      ]
     },
     "metadata": {},
     "output_type": "display_data"
    },
    {
     "data": {
      "text/plain": [
       "4-element Vector{Int64}:\n",
       "  0\n",
       "  4\n",
       " 10\n",
       " 18"
      ]
     },
     "metadata": {},
     "output_type": "display_data"
    },
    {
     "data": {
      "text/plain": [
       "32"
      ]
     },
     "metadata": {},
     "output_type": "display_data"
    },
    {
     "data": {
      "text/plain": [
       "32"
      ]
     },
     "metadata": {},
     "output_type": "display_data"
    }
   ],
   "source": [
    "\"\"\"\n",
    "配列同士の演算\n",
    "\"\"\"\n",
    "# 内積関数 dot を使うには LinearAlgebra 標準パッケージを呼び出す\n",
    "using LinearAlgebra\n",
    "\n",
    "u = collect(0:3)\n",
    "v = collect(3:6)\n",
    "display(u)\n",
    "display(v)\n",
    "\n",
    "# 配列同士の加算\n",
    "u + v |> display\n",
    "\n",
    "# 配列同士の減算\n",
    "u - v |> display\n",
    "\n",
    "# 配列同士の乗算: 定義されていないため、各要素同士の乗算とする\n",
    "u .* v |> display\n",
    "\n",
    "# 内積\n",
    "dot(u, v) |> display\n",
    "\n",
    "# 配列同士の乗算を行い、合計値を算出\n",
    "## これがすなわち内積となる\n",
    "u .* v |> sum |> display"
   ]
  },
  {
   "cell_type": "markdown",
   "id": "829c3eba-85d4-4bba-9a0b-7bb913e543d3",
   "metadata": {},
   "source": [
    "## 疎行列\n",
    "\n",
    "機械学習においては、ほとんどの要素が 0 であるような行列を扱うことがよくある\n",
    "\n",
    "このような行列を **疎行列** と呼ぶ\n",
    "\n",
    "疎行列は通常の2次元配列を用いて計算を行うと（0 の演算ばかりになるため）計算効率もメモリ効率も悪いため、Julia では疎行列専用の型 `SparseMatrixCSC` が用意されている\n",
    "\n",
    "なお、疎行列に対して通常の行列のことを密行列と呼ぶこともある\n",
    "\n",
    "疎行列と密行列は、抽象的な数学のレベルでは同じものであるが、実際にコンピュータ上で計算を行う際には、状況に応じて疎行列専用のデータ型を用いると便利なことがある"
   ]
  },
  {
   "cell_type": "code",
   "execution_count": 15,
   "id": "e16b2b55-a50c-4ef6-974d-a6eb5b2beb70",
   "metadata": {},
   "outputs": [
    {
     "data": {
      "text/plain": [
       "4×5 SparseMatrixCSC{Float64, Int64} with 0 stored entries:\n",
       "  ⋅    ⋅    ⋅    ⋅    ⋅ \n",
       "  ⋅    ⋅    ⋅    ⋅    ⋅ \n",
       "  ⋅    ⋅    ⋅    ⋅    ⋅ \n",
       "  ⋅    ⋅    ⋅    ⋅    ⋅ "
      ]
     },
     "execution_count": 15,
     "metadata": {},
     "output_type": "execute_result"
    }
   ],
   "source": [
    "# 疎行列のデータ型や関連操作は SparseArrays 標準パッケージにまとめられている\n",
    "## 公式リファレンス: https://docs.julialang.org/en/v1/stdlib/SparseArrays/\n",
    "using SparseArrays\n",
    "\n",
    "# 全要素が 0 の 4×5-疎行列を作成\n",
    "a = spzeros(4, 5)"
   ]
  },
  {
   "cell_type": "code",
   "execution_count": 16,
   "id": "8650aa34-6720-4d12-9144-a4dd149e6757",
   "metadata": {},
   "outputs": [
    {
     "data": {
      "text/plain": [
       "4×5 SparseMatrixCSC{Float64, Int64} with 4 stored entries:\n",
       "  ⋅   1.0   ⋅   2.0   ⋅ \n",
       "  ⋅    ⋅    ⋅    ⋅    ⋅ \n",
       "  ⋅    ⋅   3.0   ⋅    ⋅ \n",
       "  ⋅    ⋅    ⋅    ⋅   4.0"
      ]
     },
     "metadata": {},
     "output_type": "display_data"
    }
   ],
   "source": [
    "# 疎行列の各要素を更新\n",
    "a[1, 2] = 1\n",
    "a[1, 4] = 2\n",
    "a[3, 3] = 3\n",
    "a[4, 5] = 4\n",
    "display(a)"
   ]
  },
  {
   "cell_type": "code",
   "execution_count": 17,
   "id": "aee1e79d-75df-4c21-bca0-b2f2cdb7bb2c",
   "metadata": {},
   "outputs": [
    {
     "data": {
      "text/plain": [
       "4×5 Matrix{Float64}:\n",
       " 0.0  1.0  0.0  2.0  0.0\n",
       " 0.0  0.0  0.0  0.0  0.0\n",
       " 0.0  0.0  3.0  0.0  0.0\n",
       " 0.0  0.0  0.0  0.0  4.0"
      ]
     },
     "execution_count": 17,
     "metadata": {},
     "output_type": "execute_result"
    }
   ],
   "source": [
    "# 疎行列を蜜行列（Matrix型）に変換\n",
    "Matrix(a)"
   ]
  },
  {
   "cell_type": "code",
   "execution_count": 18,
   "id": "a3295f61-d571-40e6-9787-a1b2f1c22bbd",
   "metadata": {},
   "outputs": [
    {
     "data": {
      "text/plain": [
       "5×4 SparseMatrixCSC{Float64, Int64} with 4 stored entries:\n",
       "  ⋅    ⋅   1.0   ⋅ \n",
       "  ⋅    ⋅   2.0   ⋅ \n",
       "  ⋅    ⋅    ⋅   3.0\n",
       "  ⋅    ⋅    ⋅   4.0\n",
       "  ⋅    ⋅    ⋅    ⋅ "
      ]
     },
     "execution_count": 18,
     "metadata": {},
     "output_type": "execute_result"
    }
   ],
   "source": [
    "# 密行列（Matrix型）から疎行列型のデータを生成\n",
    "b = sparse([0 0 1. 0; 0 0 2. 0; 0 0 0 3.; 0 0 0 4.; 0 0 0 0])"
   ]
  },
  {
   "cell_type": "code",
   "execution_count": 19,
   "id": "4667d955-78ff-4ab6-81b0-6bc80a362406",
   "metadata": {},
   "outputs": [
    {
     "data": {
      "text/plain": [
       "4×4 SparseMatrixCSC{Float64, Int64} with 3 stored entries:\n",
       "  ⋅    ⋅   2.0  8.0\n",
       "  ⋅    ⋅    ⋅    ⋅ \n",
       "  ⋅    ⋅    ⋅   9.0\n",
       "  ⋅    ⋅    ⋅    ⋅ "
      ]
     },
     "execution_count": 19,
     "metadata": {},
     "output_type": "execute_result"
    }
   ],
   "source": [
    "# 疎行列同士の内積\n",
    "## Julia において数学的な意味での行列の内積は * 演算子で計算可能\n",
    "### 数学的な意味での行列の内積: (m×n)行列 × (n×k)行列 の内積\n",
    "c = a * b"
   ]
  },
  {
   "cell_type": "markdown",
   "id": "9587db56-91c8-472d-a4be-0cfe2db6dfa9",
   "metadata": {},
   "source": [
    "## Julia による線形代数\n",
    "\n",
    "Julia における転置行列は `transpose` 関数、もしくは `'` (`LinearAlgebra.Adjoint`) 演算子により求めることができる\n",
    "\n",
    "なお `'` は、正確にはエルミート行列を求める演算子であり、複素行列の場合は共役転置行列になるため注意が必要である"
   ]
  },
  {
   "cell_type": "code",
   "execution_count": 20,
   "id": "ceb02051-0820-498f-abc0-e7d74d0ac246",
   "metadata": {},
   "outputs": [
    {
     "data": {
      "text/plain": [
       "3×3 transpose(::Matrix{Int64}) with eltype Int64:\n",
       " 3  1   0\n",
       " 1  2  -1\n",
       " 1  1   1"
      ]
     },
     "metadata": {},
     "output_type": "display_data"
    },
    {
     "data": {
      "text/plain": [
       "3×3 adjoint(::Matrix{Int64}) with eltype Int64:\n",
       " 3  1   0\n",
       " 1  2  -1\n",
       " 1  1   1"
      ]
     },
     "metadata": {},
     "output_type": "display_data"
    }
   ],
   "source": [
    "a = [\n",
    "    3 1 1;\n",
    "    1 2 1;\n",
    "    0 -1 1\n",
    "]\n",
    "transpose(a) |> display\n",
    "a' |> display"
   ]
  },
  {
   "cell_type": "markdown",
   "id": "5c2d4b20-b7a6-4aa8-9a67-386f019f4daa",
   "metadata": {},
   "source": [
    "また、逆行列を求めたい場合は `inv` 関数を用いる\n",
    "\n",
    "なお、`inv` 関数は内部的に [01-02_matrix.ipynb](./01-02_matrix.ipynb) で紹介したガウスの消去法を用いて逆行列を求めているため、計算効率としては実はあまり良くない"
   ]
  },
  {
   "cell_type": "code",
   "execution_count": 21,
   "id": "8fb55ef0-97b5-4846-bbf8-0b918d6f44cb",
   "metadata": {},
   "outputs": [
    {
     "data": {
      "text/plain": [
       "3×3 Matrix{Float64}:\n",
       "  0.428571  -0.285714  -0.142857\n",
       " -0.142857   0.428571  -0.285714\n",
       " -0.142857   0.428571   0.714286"
      ]
     },
     "execution_count": 21,
     "metadata": {},
     "output_type": "execute_result"
    }
   ],
   "source": [
    "inv(a)"
   ]
  },
  {
   "cell_type": "markdown",
   "id": "e0d6618e-5d50-45d0-b68d-4c0c57d26099",
   "metadata": {},
   "source": [
    "ここで、次の連立方程式を数値的に求めることを考える\n",
    "\n",
    "$$\n",
    "\\begin{align}\n",
    "3x + y + z &= 1 \\\\\n",
    "x + 2y + z &= 2 \\\\\n",
    "-y + z &= 3\n",
    "\\end{align}\n",
    "$$\n",
    "\n",
    "この方程式を行列式で表すと、\n",
    "\n",
    "$$\n",
    "\\begin{pmatrix}\n",
    "3 & 1 & 1 \\\\\n",
    "1 & 2 & 1 \\\\\n",
    "0 & -1 & 1\n",
    "\\end{pmatrix}\n",
    "\\begin{pmatrix}\n",
    "x \\\\ y \\\\ z\n",
    "\\end{pmatrix}\n",
    "=\n",
    "\\begin{pmatrix}\n",
    "1 \\\\ 2 \\\\ 3\n",
    "\\end{pmatrix}\n",
    "$$\n",
    "\n",
    "となり、$\\boldsymbol A = \\begin{pmatrix}3 & 1 & 1 \\\\ 1 & 2 & 1 \\\\ 0 & -1 & 1\\end{pmatrix}$ は正則行列であるため、この逆行列 $\\boldsymbol A^{-1}$ を用いて、以下のように解くことが出来る\n",
    "\n",
    "$$\n",
    "\\begin{align}\n",
    "\\begin{pmatrix}\n",
    "3 & 1 & 1 \\\\\n",
    "1 & 2 & 1 \\\\\n",
    "0 & -1 & 1\n",
    "\\end{pmatrix}^{-1}\n",
    "\\begin{pmatrix}\n",
    "3 & 1 & 1 \\\\\n",
    "1 & 2 & 1 \\\\\n",
    "0 & -1 & 1\n",
    "\\end{pmatrix}\n",
    "\\begin{pmatrix}\n",
    "x \\\\ y \\\\ z\n",
    "\\end{pmatrix}\n",
    "&=\n",
    "\\begin{pmatrix}\n",
    "3 & 1 & 1 \\\\\n",
    "1 & 2 & 1 \\\\\n",
    "0 & -1 & 1\n",
    "\\end{pmatrix}^{-1}\n",
    "\\begin{pmatrix}\n",
    "1 \\\\ 2 \\\\ 3\n",
    "\\end{pmatrix} \\\\\n",
    "\\begin{pmatrix}\n",
    "x \\\\ y \\\\ z\n",
    "\\end{pmatrix}\n",
    "&=\n",
    "\\begin{pmatrix}\n",
    "  0.428571 & -0.285714 & -0.142857 \\\\\n",
    " -0.142857 &  0.428571 & -0.285714 \\\\\n",
    " -0.142857 &  0.428571 &  0.714286\n",
    "\\end{pmatrix}\n",
    "\\begin{pmatrix}\n",
    "1 \\\\ 2 \\\\ 3\n",
    "\\end{pmatrix} \\\\\n",
    "&\\approx\n",
    "\\begin{pmatrix}\n",
    "-0.571429 \\\\ -0.142857 \\\\ 2.857143\n",
    "\\end{pmatrix}\n",
    "\\end{align}\n",
    "$$"
   ]
  },
  {
   "cell_type": "code",
   "execution_count": 22,
   "id": "b290198a-4822-4110-aa56-dbe1eadac7ee",
   "metadata": {},
   "outputs": [
    {
     "data": {
      "text/plain": [
       "3-element Vector{Float64}:\n",
       " -0.5714285714285714\n",
       " -0.14285714285714302\n",
       "  2.8571428571428568"
      ]
     },
     "execution_count": 22,
     "metadata": {},
     "output_type": "execute_result"
    }
   ],
   "source": [
    "inv([3. 1. 1.; 1. 2. 1.; 0. -1. 1.]) * [1.; 2.; 3.]"
   ]
  },
  {
   "cell_type": "markdown",
   "id": "4c3ebbcb-3a4f-40f4-9110-7dd0a46171cd",
   "metadata": {},
   "source": [
    "前述の通り、逆行列を求める計算は効率が良いとは言えない\n",
    "\n",
    "そのため、連立方程式の解を数値的に求める場合は、**LU分解** というアルゴリズムを使うことが多い\n",
    "\n",
    "LU分解とは与えられた$n$次正方行列を、置換行列 $\\boldsymbol P$、対角成分が 1 の下三角行列 $\\boldsymbol L$、上三角行列 $\\boldsymbol U$ を使って\n",
    "\n",
    "$$\n",
    "\\boldsymbol A = \\boldsymbol P \\boldsymbol L \\boldsymbol U\n",
    "$$\n",
    "\n",
    "と表すことである\n",
    "\n",
    "- 置換行列:\n",
    "    - 各行に 1 である成分がちょうど1つだけあり、ほかは全部 0 であるような行列\n",
    "- 下三角行列:\n",
    "    - 対角成分より右上がすべて 0 である行列\n",
    "- 上三角行列:\n",
    "    - 対角成分より左下がすべて 0 である行列\n",
    "\n",
    "$\\boldsymbol L$ は対角成分が全て 1 であるという条件もあったため、$\\boldsymbol L$ と $\\boldsymbol U$ は次のように表される\n",
    "\n",
    "$$\n",
    "\\boldsymbol L = \\begin{pmatrix}1&&&& \\\\ *&1&&& \\\\ *&*&1&& \\\\ \\vdots&\\vdots&\\vdots&\\ddots& \\\\ *&*&*&\\cdots&1\\end{pmatrix},\n",
    "\\boldsymbol U = \\begin{pmatrix}*&*&*&*&* \\\\ &*&*&*&* \\\\ &&\\ddots&\\vdots&\\vdots \\\\ &&&*&* \\\\ &&&&*\\end{pmatrix}\n",
    "$$\n",
    "\n",
    "ただし、ここで $*$ は任意の値を表す\n",
    "\n",
    "このような $\\boldsymbol P$, $\\boldsymbol L$, $\\boldsymbol U$ を係数に持つ連立方程式は高速に解けることが分かっている\n",
    "\n",
    "もともと解きたかったのは、方程式 $\\boldsymbol A \\boldsymbol x = \\boldsymbol b$ だったため、\n",
    "\n",
    "$$\n",
    "\\boldsymbol P \\boldsymbol L \\boldsymbol U \\boldsymbol x = \\boldsymbol b\n",
    "$$\n",
    "\n",
    "を満たす $\\boldsymbol x$ を求めれば良いことになる\n",
    "\n",
    "これを求めるには、次の方程式の解を逐次求めていけば良い\n",
    "\n",
    "$$\n",
    "\\begin{align}\n",
    "\\boldsymbol P \\boldsymbol z &= \\boldsymbol b \\\\\n",
    "\\boldsymbol L \\boldsymbol y &= \\boldsymbol z \\\\\n",
    "\\boldsymbol U \\boldsymbol x &= \\boldsymbol y\n",
    "\\end{align}\n",
    "$$\n",
    "\n",
    "上記のようにして求められた $\\boldsymbol x$ は、元の方程式の解となる\n",
    "\n",
    "このそれぞれの方程式は効率的に解くことができ、その計算量は、$n$次正方行列とベクトルの積を計算する計算量とほぼ同じとなる\n",
    "\n",
    "また、LU分解のための（$\\boldsymbol P$, $\\boldsymbol L$, $\\boldsymbol U$ を求めるための）計算量は $\\boldsymbol A^{-1}$ を求める計算量より少ないため、最終的に逆行列を使って計算するよりも効率が良いということになる"
   ]
  },
  {
   "cell_type": "code",
   "execution_count": 23,
   "id": "bcceb007-8c38-4d12-988f-0fc512b8aa6b",
   "metadata": {},
   "outputs": [
    {
     "name": "stdout",
     "output_type": "stream",
     "text": [
      "LU: [3.0 1.0 1.0; 0.3333333333333333 1.6666666666666667 0.6666666666666667; 0.0 -0.6 1.4]\n",
      "[-0.5714285714285714, -0.14285714285714302, 2.857142857142857]\n"
     ]
    }
   ],
   "source": [
    "# LU分解関数\n",
    "function lu_parse(xs::Matrix{Float64})\n",
    "    n = size(xs, 1)\n",
    "    zs = copy(xs)\n",
    "    for i = 1 : n\n",
    "        for j = i + 1 : n\n",
    "            temp = zs[j, i] / zs[i, i]\n",
    "            for k = i + 1 : n\n",
    "                zs[j, k] -= temp * zs[i, k]\n",
    "            end\n",
    "            zs[j, i] = temp\n",
    "        end\n",
    "    end\n",
    "    return zs\n",
    "end\n",
    "\n",
    "# LU分解された結果から方程式を解く関数\n",
    "function lu_solve(xs::Matrix{Float64}, ys::Vector{Float64})\n",
    "    n = size(xs, 1)\n",
    "    zs = copy(ys)\n",
    "    # 前進代入\n",
    "    for i = 2 : n, j = 1 : i - 1\n",
    "        zs[i] -= xs[i, j] * zs[j]\n",
    "    end\n",
    "    # 後退代入\n",
    "    for i = n : -1 : 1\n",
    "       for j = i + 1 : n\n",
    "           zs[i] -= xs[i, j] * zs[j]\n",
    "       end\n",
    "       zs[i] /= xs[i, i]\n",
    "    end\n",
    "    return zs\n",
    "end\n",
    "\n",
    "# 方程式係数行列\n",
    "A = [3. 1. 1.; 1. 2. 1.; 0. -1. 1.]\n",
    "\n",
    "# 方程式定数ベクトル（右辺値）\n",
    "b = [1.; 2.; 3.]\n",
    "\n",
    "# LU分解\n",
    "xs = lu_parse(A)\n",
    "println(\"LU: \", xs)\n",
    "\n",
    "# 方程式を解く\n",
    "lu_solve(xs, b) |> println"
   ]
  },
  {
   "cell_type": "markdown",
   "id": "066fc31f-6a9d-4166-98a9-4bb0fc0b2cef",
   "metadata": {},
   "source": [
    "## 乱数\n",
    "\n",
    "Julia では `Random` 標準パッケージにて乱数関連のモジュールが提供されており、内部的には、高品質な乱数を高速に生成可能なメルセンヌ・ツイスタ アルゴリズムが使われている"
   ]
  },
  {
   "cell_type": "code",
   "execution_count": 24,
   "id": "76d5bc0e-b396-40f6-8001-5cf8a8069bcb",
   "metadata": {},
   "outputs": [
    {
     "data": {
      "text/plain": [
       "0.3336167314392904"
      ]
     },
     "execution_count": 24,
     "metadata": {},
     "output_type": "execute_result"
    }
   ],
   "source": [
    "using Random\n",
    "\n",
    "# 0～1 の浮動小数点数を返す\n",
    "rand()"
   ]
  },
  {
   "cell_type": "code",
   "execution_count": 25,
   "id": "92d86428-2d4a-494e-8bf8-0c5bd34acc6a",
   "metadata": {},
   "outputs": [
    {
     "data": {
      "text/plain": [
       "3×2 Matrix{Float64}:\n",
       " 0.339792  0.62715\n",
       " 0.99464   0.494605\n",
       " 0.176197  0.902242"
      ]
     },
     "execution_count": 25,
     "metadata": {},
     "output_type": "execute_result"
    }
   ],
   "source": [
    "# 3x2 次元行列の形式で 0～1 の浮動小数点数を返す\n",
    "rand(3, 2)"
   ]
  },
  {
   "cell_type": "code",
   "execution_count": 26,
   "id": "ecafeea2-827a-4ad9-86a3-e96687e9f336",
   "metadata": {},
   "outputs": [
    {
     "data": {
      "text/plain": [
       "3"
      ]
     },
     "execution_count": 26,
     "metadata": {},
     "output_type": "execute_result"
    }
   ],
   "source": [
    "# 1～4 の範囲の整数を返す\n",
    "rand(1:4)"
   ]
  },
  {
   "cell_type": "code",
   "execution_count": 27,
   "id": "adfb6ab0-1623-4d01-b5b6-22797226b947",
   "metadata": {},
   "outputs": [
    {
     "data": {
      "text/plain": [
       "2×3 Matrix{Int64}:\n",
       " 1  1  2\n",
       " 1  0  1"
      ]
     },
     "execution_count": 27,
     "metadata": {},
     "output_type": "execute_result"
    }
   ],
   "source": [
    "# 2x3 次元行列の形式で 0～4 の範囲の整数を返す\n",
    "rand(0:4, 2, 3)"
   ]
  },
  {
   "cell_type": "markdown",
   "id": "b054ef27-1b03-449b-b451-c4fec1f4265f",
   "metadata": {},
   "source": [
    "機械学習アルゴリズムでは、内部的に乱数を使うものがある\n",
    "\n",
    "乱数を使うためある程度偶然により決まるのは仕方ないが、一方で同じデータに対しては同じ結果を返して欲しいということもよくある\n",
    "\n",
    "そのような場合は乱数の種（シード）の設定を利用することになる\n",
    "\n",
    "ここでわかり易い例として、サイコロを n 回振って出た目の和を返す関数を考える"
   ]
  },
  {
   "cell_type": "code",
   "execution_count": 28,
   "id": "b77a17b6-2db3-414e-a638-d964b794352b",
   "metadata": {},
   "outputs": [
    {
     "name": "stdout",
     "output_type": "stream",
     "text": [
      "35\n",
      "44\n",
      "39\n"
     ]
    }
   ],
   "source": [
    "throw_dice(n::Int) = rand(1:6, n) |> sum\n",
    "\n",
    "# 10回サイコロを振って出た目の和を計算\n",
    "throw_dice(10) |> println\n",
    "throw_dice(10) |> println\n",
    "throw_dice(10) |> println"
   ]
  },
  {
   "cell_type": "markdown",
   "id": "83bb303f-da68-494b-aedb-059f09b593eb",
   "metadata": {},
   "source": [
    "上記のように、関数を呼び出すたびに結果が変わる\n",
    "\n",
    "ここでは非常に単純な例を示しているが、もしこの関数 `throw_dice` が機械学習のアルゴリズムだとした場合、同じ引数（この場合 `n=10`）に対しては同じ結果を返してほしい場合がある\n",
    "\n",
    "コンピュータの中で得られる乱数は擬似乱数と呼ばれるもので、これはある規則に基づく数列であるにも関わらず十分にランダムに見えるような工夫を施された数列である\n",
    "\n",
    "その数列発生装置を初期化して最初から乱数を得ることができ、そうすることで何度でも同じ数列（乱数列）を繰り返すことが出来る\n",
    "\n",
    "乱数列もいくつか選択肢があり、どの乱数列を選ぶかにあたるのが乱数の種（シード）と呼ばれるものである\n",
    "\n",
    "乱数の種は通常整数値で与えられるが、同じ値で初期化すれば同じ乱数列が得られることが保証されている"
   ]
  },
  {
   "cell_type": "code",
   "execution_count": 29,
   "id": "0849fd9b-a887-4855-a498-1f80f8f3f385",
   "metadata": {},
   "outputs": [
    {
     "name": "stdout",
     "output_type": "stream",
     "text": [
      "37\n",
      "37\n",
      "37\n"
     ]
    }
   ],
   "source": [
    "# 乱数の種に 10 を指定\n",
    "## ※ Juliaにおいては、グローバルな状態に影響を与えるような関数には慣例的に ! をつける\n",
    "Random.seed!(10)\n",
    "\n",
    "# 10回サイコロを振って出た目の和を計算\n",
    "throw_dice(10) |> println\n",
    "\n",
    "# サイコロを振る前に毎回乱数の種を 10 に初期化して throw_dice 関数を呼び出す\n",
    "Random.seed!(10)\n",
    "throw_dice(10) |> println\n",
    "\n",
    "Random.seed!(10)\n",
    "throw_dice(10) |> println"
   ]
  },
  {
   "cell_type": "markdown",
   "id": "ac09a5b8-bed9-4caa-9840-da716d5a3460",
   "metadata": {},
   "source": [
    "上記のように、毎回同じ結果が返ってくることがわかる\n",
    "\n",
    "このように `Random.seed!` 関数を使うことで乱数列を再現することが出来るため、それを利用して結果が再現するように `throw_dice` 関数を書き換えてみる"
   ]
  },
  {
   "cell_type": "code",
   "execution_count": 30,
   "id": "09c9a8d6-14f1-4bcd-8a64-7f6e46c4bea8",
   "metadata": {},
   "outputs": [
    {
     "name": "stdout",
     "output_type": "stream",
     "text": [
      "37\n",
      "37\n",
      "37\n"
     ]
    }
   ],
   "source": [
    "throw_dice(n::Int; random_seed::Int = 10) = begin\n",
    "    Random.seed!(random_seed)\n",
    "    rand(1:6, n) |> sum\n",
    "end\n",
    "\n",
    "# 10回サイコロを振って出た目の和を計算\n",
    "throw_dice(10) |> println\n",
    "throw_dice(10) |> println\n",
    "throw_dice(10) |> println"
   ]
  },
  {
   "cell_type": "markdown",
   "id": "5b05e0d1-4723-401c-a130-df320085f8ab",
   "metadata": {},
   "source": [
    "乱数を使うアルゴリズムが1つだけで、それを一度呼び出すだけであればこれで特に問題ないが、状況はもっと複雑なことが多い\n",
    "\n",
    "例えば、機械学習のアルゴリズムが2種類あり、それらを少しずつ呼び出しながら最終的な結果を得るようなケースを考えてみる\n",
    "\n",
    "こういった場合、乱数列はグローバルに1つだけ持つのでは都合が悪く、アルゴリズムの数だけ別々に乱数列を持つ方が都合が良い\n",
    "\n",
    "それを実現するために Julia では `Random.MersenneTwister` 構造体が定義されており、`Random.rand` 関数の第1引数に渡すことで `Random.MersenneTwister` 構造体ごとに保有している異なる乱数列を参照・操作することが出来る"
   ]
  },
  {
   "cell_type": "code",
   "execution_count": 31,
   "id": "2bd9f997-f993-4aed-b304-043b42d721da",
   "metadata": {},
   "outputs": [
    {
     "data": {
      "text/plain": [
       "throw! (generic function with 1 method)"
      ]
     },
     "execution_count": 31,
     "metadata": {},
     "output_type": "execute_result"
    }
   ],
   "source": [
    "mutable struct Dice\n",
    "    rnd::MersenneTwister # 乱数列\n",
    "    sum::Int # 合計値\n",
    "end\n",
    "\n",
    "# Diceコンストラクタ: 以下の条件でインスタンス生成\n",
    "## rnd = MersenneTwister(0): 乱数の種 0 で初期化された乱数列\n",
    "## sum = 0\n",
    "Dice() = Dice(MersenneTwister(0), 0)\n",
    "\n",
    "# サイコロを振って、合計値に加算する\n",
    "## Dice.rnd, Dice.sum 変数に影響を与えるため、関数名に ! をつけておくのが良い（慣例的に）\n",
    "throw!(dice::Dice) = begin\n",
    "    n = rand(dice.rnd, 1:6) # Dice構造体ごとに保有している rnd 変数（乱数列）を参照して 1～6 の乱数を生成\n",
    "    dice.sum += n # 合計値に加算\n",
    "end"
   ]
  },
  {
   "cell_type": "code",
   "execution_count": 32,
   "id": "3576b81b-02da-46f5-8496-24ee9a053d2e",
   "metadata": {},
   "outputs": [
    {
     "name": "stdout",
     "output_type": "stream",
     "text": [
      "37\n",
      "37\n"
     ]
    }
   ],
   "source": [
    "\"\"\"\n",
    "2つのサイコロを生成して同じ数だけ振れば、同じ結果になるはず\n",
    "それを確かめる\n",
    "\"\"\"\n",
    "\n",
    "# サイコロ1\n",
    "dice1 = Dice()\n",
    "\n",
    "# サイコロ2\n",
    "dice2 = Dice()\n",
    "\n",
    "# サイコロ1、2ともに10回ずつ振る\n",
    "for i in 1:10\n",
    "    throw!(dice1)\n",
    "    throw!(dice2)\n",
    "end\n",
    "\n",
    "# サイコロ1、2それぞれの合計値を確認\n",
    "println(dice1.sum)\n",
    "println(dice2.sum)"
   ]
  },
  {
   "cell_type": "code",
   "execution_count": null,
   "id": "5020117d-0890-472c-a2c8-279e2981d96f",
   "metadata": {},
   "outputs": [],
   "source": []
  }
 ],
 "metadata": {
  "kernelspec": {
   "display_name": "Julia 1.6.1",
   "language": "julia",
   "name": "julia-1.6"
  },
  "language_info": {
   "file_extension": ".jl",
   "mimetype": "application/julia",
   "name": "julia",
   "version": "1.6.1"
  }
 },
 "nbformat": 4,
 "nbformat_minor": 5
}
