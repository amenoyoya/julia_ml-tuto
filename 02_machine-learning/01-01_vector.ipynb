{
 "cells": [
  {
   "cell_type": "markdown",
   "id": "5a7b6876-bf32-48fb-9fb1-b934f06c81a6",
   "metadata": {},
   "source": [
    "# 線形代数\n",
    "\n",
    "## ベクトル\n",
    "\n",
    "以下のように括弧の中に数を縦に配置したものを **ベクトル** と呼ぶ\n",
    "\n",
    "$$\n",
    "\\left(\\begin{array}{c} 5 \\\\ 7 \\\\ 9 \\end{array}\\right)\n",
    "$$\n",
    "\n",
    "ベクトルは $\\vec{x}$ や $\\vec{x}$ (太字斜体) などの表記で表される\n",
    "\n",
    "ベクトルは数字を縦に並べたものだが、$ (5, 7, 9)^T $ のように **転置演算子** ($^T$) をつけた行ベクトルで表すこともある（大抵は紙面の都合でスペースを使いたくない時）\n",
    "\n",
    "$$\n",
    "\\left(\\begin{array}{c} 1 \\\\ 2 \\\\ 3 \\end{array}\\right) = (1, 2, 3)^T\n",
    "$$\n",
    "\n",
    "ベクトル内部に配置された各数を **成分** と呼び、それぞれの成分を上から順に第1成分、第2成分、... と呼ぶ\n",
    "\n",
    "また、特別なベクトルとしてすべての成分が 0 である **ゼロベクトル** が以下のように定義されている\n",
    "\n",
    "$$\n",
    "\\vec{0} = \\left(\\begin{array}{c} 0 \\\\ 0 \\\\ \\vdots \\\\ 0 \\end{array}\\right)\n",
    "$$\n",
    "\n",
    "### ベクトルの次元\n",
    "- **次元**:\n",
    "    - ベクトルの成分の個数のこと\n",
    "    - $d$ 次元ベクトルの実数集合を $\\mathbb{R}^d$ と表現する\n",
    "\n",
    "例えば、\n",
    "\n",
    "$$\n",
    "\\vec{u} = \\left(\\begin{array}{c} 2 \\\\ 3 \\end{array}\\right), \\vec{v} = \\left(\\begin{array}{c} 4 \\\\ 5 \\\\ 6 \\\\ 7 \\end{array}\\right)\n",
    "$$\n",
    "\n",
    "のとき、$\\vec{u}$ は2次元ベクトルであり、$\\vec{v}$ は4次元ベクトルである\n",
    "\n",
    "### ベクトルの計算\n",
    "ベクトルの和は、要素ごとの加算で定義される\n",
    "\n",
    "$$\n",
    "\\vec{u} = \\left(\\begin{array}{c} u_1 \\\\ u_2 \\\\ \\vdots \\\\ u_d \\end{array}\\right)\n",
    "\\quad\n",
    "\\vec{v} = \\left(\\begin{array}{c} v_1 \\\\ v_2 \\\\ \\vdots \\\\ v_d \\end{array}\\right) \\\\\n",
    "\\vec{u} + \\vec{v} = \\left(\\begin{array}{c} u_1 + v_1 \\\\ u_2 + v_2 \\\\ \\vdots \\\\ u_d + v_d \\end{array}\\right)\n",
    "$$\n",
    "\n",
    "ベクトルの和が定義されるのは、和を取ろうとしているベクトルの次元が等しい場合に限られる\n",
    "\n",
    "ベクトルと対比して、通常の数（実数など）を **スカラー** と呼ぶことがある\n",
    "\n",
    "ここで、ベクトルのスカラー倍は、各成分にスカラーを掛けたものと定義される\n",
    "\n",
    "$$\n",
    "k\\vec{v} = \\left(\\begin{array}{c} kv_1 \\\\ kv_2 \\\\ \\vdots \\\\ kv_d \\end{array}\\right) \\quad (k\\in{\\mathbb{R}})\n",
    "$$\n",
    "\n",
    "特に $k = 0$ のときは、任意ベクトル $\\vec{v}$ について、次のようになる\n",
    "\n",
    "$$\n",
    "0\\vec{v} = \\vec{0}\n",
    "$$\n",
    "\n",
    "次に $k = -1$ の場合を考えると、\n",
    "\n",
    "$$\n",
    "(-1)\\cdot{\\vec{v}} = -\\vec{v} = \\left(\\begin{array}{c} -v_1 \\\\ -v_2 \\\\ \\vdots \\\\ -v_d \\end{array}\\right)\n",
    "$$\n",
    "\n",
    "となり、これはベクトルの符号反転となる\n",
    "\n",
    "これにより、ベクトルの差は以下のように定義される\n",
    "\n",
    "$$\n",
    "\\vec{u} - \\vec{v} = \\vec{u} + (-\\vec{v}) = \\left(\\begin{array}{c} u_1 - v_1 \\\\ u_2 - v_2 \\\\ \\vdots \\\\ u_d - v_d \\end{array}\\right)\n",
    "$$\n",
    "\n",
    "あるベクトルに対してそのスカラー倍であるベクトルを考えた時、それらのベクトルは **平行** であると呼ぶ\n",
    "\n",
    "つまり $\\vec{v} = k\\vec{u}$ のとき、$\\vec{u}$ と $\\vec{v}$ は平行である\n",
    "\n",
    "### 交換法則・結合法則・分配法則\n",
    "ベクトルにも次のような交換法則・結合法則・分配法則が成り立つ\n",
    "\n",
    "$$\n",
    "\\begin{align}\n",
    "\\vec{u} + \\vec{v} &= \\vec{v} + \\vec{u} \\\\\n",
    "(\\vec{u} + \\vec{v}) + \\vec{w} &= \\vec{u} + (\\vec{v} + \\vec{w}) \\\\\n",
    "k(\\vec{u} + \\vec{v}) &= k\\vec{u} + k\\vec{v} \\\\\n",
    "(k + l)\\vec{v} &= k\\vec{v} + l\\vec{v}\n",
    "\\end{align}\n",
    "$$\n",
    "\n",
    "また、ゼロベクトルの性質について以下が成り立つ\n",
    "\n",
    "$$\n",
    "\\begin{align}\n",
    "\\vec{0} + \\vec{v} &= \\vec{v} \\\\\n",
    "\\vec{0} - \\vec{v} &= -\\vec{v} \\\\\n",
    "0\\vec{v} &= \\vec{0}\n",
    "\\end{align}\n",
    "$$\n",
    "\n",
    "### ノルム\n",
    "- **ノルム**:\n",
    "    - ベクトルの大きさを表す量\n",
    "    - ノルムの定義はいくつか考えられるが、ここではL1ノルムとL2ノルムのみ考える\n",
    "        - L1ノルム: $|\\vec{v}|_1 = |v_1| + |v_2| + \\dots + |v_d| \\quad (|x|:\\ xの絶対値)$\n",
    "        - L2ノルム: $\\|\\vec{v}\\| = \\sqrt{v_1^2 + v_2^2 + \\dots + v_d^2}$\n",
    "\n",
    "本稿では、特に断りなくベクトルのノルムというときはL2ノルムを指すこととする\n",
    "\n",
    "また、ベクトルの大きさ（長さ）というときもL2ノルムを指すこととする\n",
    "\n",
    "ベクトルのスカラー倍のノルムについては以下の式が成り立つ\n",
    "\n",
    "$$\n",
    "\\begin{align}\n",
    "|k\\vec{v}|_1 &= |k||\\vec{v}|_1 \\\\\n",
    "\\|k\\vec{v}\\| &= |k|\\|\\vec{v}\\|\n",
    "\\end{align}\n",
    "$$\n",
    "\n",
    "ノルムが1であるベクトルを特に **単位ベクトル** と呼び、$\\hat{a}$ で表す"
   ]
  },
  {
   "cell_type": "markdown",
   "id": "32fced3e-1005-4292-85e4-4ec801ac5fae",
   "metadata": {},
   "source": [
    "#### 演習\n",
    "次のような3つのベクトルについて、\n",
    "\n",
    "$$\n",
    "\\vec{u} = \\begin{pmatrix}1\\\\2\\\\-2\\end{pmatrix},\\ \\vec{v} = \\begin{pmatrix}3\\\\5\\\\7\\end{pmatrix},\\ \\vec{w} = \\begin{pmatrix}1\\\\-1\\\\2\\end{pmatrix}\n",
    "$$\n",
    "\n",
    "以下を求めよ\n",
    "\n",
    "1. $\\vec{u} + \\vec{v}$\n",
    "2. $\\vec{u} - \\vec{v}$\n",
    "3. $3\\vec{u}$\n",
    "4. $2\\vec{v} + 3\\vec{w}$\n",
    "5. $|\\vec{u}|_1$\n",
    "6. $\\|\\vec{u}\\|$"
   ]
  },
  {
   "cell_type": "markdown",
   "id": "80dc0409-63a4-45a8-ba83-60afc93a5975",
   "metadata": {},
   "source": [
    "##### 解\n",
    "$$\n",
    "\\begin{align}\n",
    "&1. \\quad \\vec{u} + \\vec{v} = \\begin{pmatrix}1+3\\\\2+5\\\\-2+7\\end{pmatrix} = \\begin{pmatrix}4\\\\7\\\\5\\end{pmatrix} \\\\\n",
    "&2. \\quad \\vec{u} - \\vec{v} = \\begin{pmatrix}1-3\\\\2-5\\\\-2-7\\end{pmatrix} = \\begin{pmatrix}-2\\\\-3\\\\-9\\end{pmatrix} \\\\\n",
    "&3. \\quad 3\\vec{u} = \\begin{pmatrix}3\\times{1}\\\\3\\times{2}\\\\3\\times(-2)\\end{pmatrix} = \\begin{pmatrix}3\\\\6\\\\-6\\end{pmatrix} \\\\\n",
    "&4. \\quad 2\\vec{v} + 3\\vec{w} = \\begin{pmatrix}2\\times{3} + 3\\times{1} \\\\ 2\\times{5} + 3\\times(-1) \\\\ 2\\times{7} + 3\\times{2}\\end{pmatrix} = \\begin{pmatrix}9\\\\7\\\\20\\end{pmatrix} \\\\\n",
    "&5. \\quad |\\vec{u}|_1 = |1| + |2| + |-2| = 5 \\\\\n",
    "&6. \\quad \\|\\vec{u}\\| = \\sqrt{1^2 + 2^2 + (-2)^2} = 3 \\\\\n",
    "\\end{align}\n",
    "$$"
   ]
  },
  {
   "cell_type": "code",
   "execution_count": 1,
   "id": "d9925dd4-7804-48dd-97f9-50c6e89c86fb",
   "metadata": {},
   "outputs": [
    {
     "data": {
      "text/plain": [
       "3-element Vector{Int64}:\n",
       "  1\n",
       "  2\n",
       " -2"
      ]
     },
     "metadata": {},
     "output_type": "display_data"
    },
    {
     "data": {
      "text/plain": [
       "3-element Vector{Int64}:\n",
       " 3\n",
       " 5\n",
       " 7"
      ]
     },
     "metadata": {},
     "output_type": "display_data"
    },
    {
     "data": {
      "text/plain": [
       "3-element Vector{Int64}:\n",
       "  1\n",
       " -1\n",
       "  2"
      ]
     },
     "metadata": {},
     "output_type": "display_data"
    }
   ],
   "source": [
    "# ベクトル u, v, w\n",
    "u = [1, 2, -2]; display(u)\n",
    "v = [3, 5, 7]; display(v)\n",
    "w = [1, -1, 2]; display(w)"
   ]
  },
  {
   "cell_type": "code",
   "execution_count": 2,
   "id": "3797c574-e7b4-4d7d-8f4d-aa636b46fdd3",
   "metadata": {},
   "outputs": [
    {
     "data": {
      "text/plain": [
       "3-element Vector{Int64}:\n",
       " 4\n",
       " 7\n",
       " 5"
      ]
     },
     "execution_count": 2,
     "metadata": {},
     "output_type": "execute_result"
    }
   ],
   "source": [
    "u + v # => [4, 7, 5]"
   ]
  },
  {
   "cell_type": "code",
   "execution_count": 3,
   "id": "cc649144-2a35-4cb4-8f65-826d949f9a5a",
   "metadata": {},
   "outputs": [
    {
     "data": {
      "text/plain": [
       "3-element Vector{Int64}:\n",
       " -2\n",
       " -3\n",
       " -9"
      ]
     },
     "execution_count": 3,
     "metadata": {},
     "output_type": "execute_result"
    }
   ],
   "source": [
    "u - v # => [-2, -3, -9]"
   ]
  },
  {
   "cell_type": "code",
   "execution_count": 4,
   "id": "ced60fe1-673c-4650-a83f-19e8ea1188db",
   "metadata": {},
   "outputs": [
    {
     "data": {
      "text/plain": [
       "3-element Vector{Int64}:\n",
       "  3\n",
       "  6\n",
       " -6"
      ]
     },
     "execution_count": 4,
     "metadata": {},
     "output_type": "execute_result"
    }
   ],
   "source": [
    "3u # => [3, 6, -6]"
   ]
  },
  {
   "cell_type": "code",
   "execution_count": 5,
   "id": "4912e932-69c2-467e-a92d-96c9d20f0aa5",
   "metadata": {},
   "outputs": [
    {
     "data": {
      "text/plain": [
       "3-element Vector{Int64}:\n",
       "  9\n",
       "  7\n",
       " 20"
      ]
     },
     "execution_count": 5,
     "metadata": {},
     "output_type": "execute_result"
    }
   ],
   "source": [
    "2v + 3w # => [6, 10, 14] + [3, -3, 6] = [9, 7, 20]"
   ]
  },
  {
   "cell_type": "code",
   "execution_count": 6,
   "id": "949984e7-b363-4c71-bf21-c65f7d437192",
   "metadata": {},
   "outputs": [
    {
     "data": {
      "text/plain": [
       "5"
      ]
     },
     "execution_count": 6,
     "metadata": {},
     "output_type": "execute_result"
    }
   ],
   "source": [
    "# L1ノルム: 各成分の絶対値を計算し、合計を算出\n",
    "## Juliaでベクトルの各成分に対して関数適用する際は dot 演算子を用いる\n",
    "abs.(u) |> sum"
   ]
  },
  {
   "cell_type": "code",
   "execution_count": 7,
   "id": "b7078129-86c9-4417-bf33-3c29e2d76cf0",
   "metadata": {},
   "outputs": [
    {
     "data": {
      "text/plain": [
       "3.0"
      ]
     },
     "execution_count": 7,
     "metadata": {},
     "output_type": "execute_result"
    }
   ],
   "source": [
    "# L2ノルム: 各成分の2乗を計算し、合計の平方根を算出\n",
    "u.^2 |> sum |> sqrt"
   ]
  },
  {
   "cell_type": "code",
   "execution_count": 8,
   "id": "52ed7a52-cd36-4445-b8c7-1bb3dbff5f4f",
   "metadata": {},
   "outputs": [
    {
     "data": {
      "text/plain": [
       "3.0"
      ]
     },
     "execution_count": 8,
     "metadata": {},
     "output_type": "execute_result"
    }
   ],
   "source": [
    "# L2ノルム: LinearAlgebra.norm 関数でも算出可能\n",
    "using LinearAlgebra\n",
    "\n",
    "norm(u)"
   ]
  },
  {
   "cell_type": "markdown",
   "id": "b70ddcaa-111e-49a7-9db7-d6e4c1a3f389",
   "metadata": {},
   "source": [
    "### ベクトルの内積\n",
    "ベクトル $\\vec{u} = (u_1, \\dots, u_d)^T$, $\\vec{v} = (v_1, \\dots, v_d)^T$ の **内積** は以下のように定義される\n",
    "\n",
    "$$\n",
    "\\vec{u}\\cdot{\\vec{v}} = \\vec{u}^T \\vec{v} = u_1 v_1 + u_2 v_2 + \\dots + u_d v_d\n",
    "$$\n",
    "\n",
    "ここで、内積はベクトルではなくスカラー値になることに注意\n",
    "\n",
    "内積には次の性質がある\n",
    "\n",
    "$$\n",
    "\\begin{align}\n",
    "\\vec{0}^T\\vec{u} &= 0 \\\\\n",
    "\\vec{u}^T\\vec{v} &= \\vec{v}^T\\vec{u} \\\\\n",
    "(\\vec{u} + \\vec{v})^T\\vec{w} &= \\vec{u}^T\\vec{w} + \\vec{v}^T\\vec{w} \\\\\n",
    "(k\\vec{u})^T\\vec{v} &= k(\\vec{u}^T\\vec{v}) \\\\\n",
    "\\vec{v}^T\\vec{v} &= \\|\\vec{v}\\|^2\n",
    "\\end{align}\n",
    "$$"
   ]
  },
  {
   "cell_type": "markdown",
   "id": "6adca5ef-b7da-4be5-9b28-773b71de6b36",
   "metadata": {},
   "source": [
    "#### 演習\n",
    "$$\n",
    "\\begin{align}\n",
    "&1. \\quad \\vec{u} = \\begin{pmatrix}1\\\\3\\\\5\\end{pmatrix},\\ \\vec{v} = \\begin{pmatrix}2\\\\-1\\\\1\\end{pmatrix}\\ のとき、\\vec{u}^T\\vec{v}を求めよ \\\\\n",
    "\\\\\n",
    "&2. \\quad \\vec{u}, \\vec{v} \\in \\mathbb{R}^d について、次の式が成り立つことを証明せよ \\\\\n",
    "& \\quad\\quad \\|\\vec{u} + \\vec{v}\\|^2 + \\|\\vec{u} - \\vec{v}\\|^2 = 2(\\|\\vec{u}\\|^2 + \\|\\vec{v}\\|^2)\n",
    "\\end{align}\n",
    "$$"
   ]
  },
  {
   "cell_type": "markdown",
   "id": "c80e01fa-cf17-4699-9642-4d768ad4a30f",
   "metadata": {},
   "source": [
    "##### 解\n",
    "![01_practice02a.drawio.png](./img/01_practice02a.drawio.png)"
   ]
  },
  {
   "cell_type": "code",
   "execution_count": 9,
   "id": "389bfd6e-359b-4df4-b913-3e9a96b69d82",
   "metadata": {},
   "outputs": [
    {
     "data": {
      "text/plain": [
       "4"
      ]
     },
     "execution_count": 9,
     "metadata": {},
     "output_type": "execute_result"
    }
   ],
   "source": [
    "u = [1, 3, 5]\n",
    "v = [2, -1, 1]\n",
    "\n",
    "# 内積 u^T*v\n",
    "## 内積演算子は \\cdot <tabキー> で記述可能（REPL環境の場合）\n",
    "u ⋅ v"
   ]
  },
  {
   "cell_type": "code",
   "execution_count": 10,
   "id": "513f0cb7-2a0f-492a-af5b-1de72493d392",
   "metadata": {},
   "outputs": [
    {
     "data": {
      "text/plain": [
       "4"
      ]
     },
     "execution_count": 10,
     "metadata": {},
     "output_type": "execute_result"
    }
   ],
   "source": [
    "# 内積は転置ベクトルとベクトルの積でも表される\n",
    "u' * v"
   ]
  },
  {
   "cell_type": "code",
   "execution_count": 11,
   "id": "aa96c333-4cf8-4be2-b631-4963be02eac8",
   "metadata": {},
   "outputs": [
    {
     "data": {
      "text/latex": [
       "$\\begin{equation*}2 U^{2} + 2 V^{2}\\end{equation*}$\n"
      ],
      "text/plain": [
       "   2      2\n",
       "2⋅U  + 2⋅V "
      ]
     },
     "execution_count": 11,
     "metadata": {},
     "output_type": "execute_result"
    }
   ],
   "source": [
    "# 記号処理パッケージ\n",
    "using SymPy\n",
    "\n",
    "# シンボル U, V を定義\n",
    "@vars U\n",
    "@vars V\n",
    "\n",
    "# ベクトルの和同士の内積 + 差同士の内積\n",
    "(U + V)^2 + (U - V)^2 |> simplify"
   ]
  },
  {
   "cell_type": "code",
   "execution_count": 12,
   "id": "77d4523d-c5fd-44cb-972a-cece799f6df3",
   "metadata": {},
   "outputs": [
    {
     "name": "stdout",
     "output_type": "stream",
     "text": [
      "82\n",
      "82\n"
     ]
    }
   ],
   "source": [
    "# 実数ベクトル u, v で確認\n",
    "## (u + v)^2 + (u - v)^2\n",
    "(u + v) ⋅ (u + v) + (u - v) ⋅ (u - v) |> println # => 82\n",
    "\n",
    "## 2(|u|^2 + |v|^2)\n",
    "2(u⋅u + v⋅v) |> println # => 82"
   ]
  },
  {
   "cell_type": "code",
   "execution_count": null,
   "id": "da4dc564-cbdc-409b-b799-7b4a60a5d963",
   "metadata": {},
   "outputs": [],
   "source": []
  }
 ],
 "metadata": {
  "kernelspec": {
   "display_name": "Julia 1.6.1",
   "language": "julia",
   "name": "julia-1.6"
  },
  "language_info": {
   "file_extension": ".jl",
   "mimetype": "application/julia",
   "name": "julia",
   "version": "1.6.1"
  }
 },
 "nbformat": 4,
 "nbformat_minor": 5
}
