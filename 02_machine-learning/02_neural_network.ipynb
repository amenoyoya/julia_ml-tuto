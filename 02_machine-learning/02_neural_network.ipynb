{
 "cells": [
  {
   "cell_type": "markdown",
   "metadata": {},
   "source": [
    "# ニューラルネットワーク\n",
    "\n",
    "## パーセプトロンからニューラルネットワークへ\n",
    "\n",
    "パーセプトロンを再び考える\n",
    "\n",
    "![perceptron0](./img/perceptron0.drawio.png)\n",
    "\n",
    "ここでバイアスについて、重みがbで値が1固定の入力信号であると考えると、以下のように変形できる\n",
    "\n",
    "![perceptron_bias](./img/perceptron_bias.drawio.png)\n",
    "\n",
    "これによって、パーセプトロンの式を $入力値×重み$ に統一することができる（$a = \\sum_{i=1}^n x_i*w_i$）\n",
    "\n",
    "さらに、出力値 $y$ を得るための処理として、パーセプトロンでは $a \\leqq 0 → 0$ ｜ $a > 0 → 1$ という条件分岐を行っている\n",
    "\n",
    "このように、入力信号の総和を出力信号に変換するための処理関数を**活性化関数**と呼び、$h(a)$ で表す\n",
    "\n",
    "つまり、パーセプトロンにおける活性化関数は `h(a) = 0 if a <= 0 else 1` と表現できる\n",
    "\n",
    "このように、特定条件で0から1へ突然出力値が変わるような活性化関数を**ステップ関数**と呼ぶ\n",
    "\n",
    "![perceptron_h](./img/perceptron_h.drawio.png)"
   ]
  },
  {
   "cell_type": "markdown",
   "metadata": {},
   "source": [
    "### シグモイド関数\n",
    "ステップ関数は微分することができないため、ニューラルネットワークにおいては、ステップ関数の代わりにシグモイド関数がよく使われてきた\n",
    "\n",
    "$$\n",
    "    シグモイド関数: h(a) = \\frac{1}{1 + e^{-a}}\n",
    "$$"
   ]
  },
  {
   "cell_type": "code",
   "execution_count": 1,
   "metadata": {},
   "outputs": [
    {
     "data": {
      "text/plain": [
       "101-element Vector{Float64}:\n",
       " -5.0\n",
       " -4.9\n",
       " -4.8\n",
       " -4.7\n",
       " -4.6\n",
       " -4.5\n",
       " -4.4\n",
       " -4.3\n",
       " -4.2\n",
       " -4.1\n",
       " -4.0\n",
       " -3.9\n",
       " -3.8\n",
       "  ⋮\n",
       "  3.9\n",
       "  4.0\n",
       "  4.1\n",
       "  4.2\n",
       "  4.3\n",
       "  4.4\n",
       "  4.5\n",
       "  4.6\n",
       "  4.7\n",
       "  4.8\n",
       "  4.9\n",
       "  5.0"
      ]
     },
     "execution_count": 1,
     "metadata": {},
     "output_type": "execute_result"
    }
   ],
   "source": [
    "\"\"\"\n",
    "ステップ関数とシグモイド関数の比較\n",
    "\"\"\"\n",
    "\n",
    "# ステップ関数\n",
    "step(a::Float64)::Float64 = (a <= 0 ? 0 : 1)\n",
    "\n",
    "# シグモイド関数\n",
    "sigmoid(a::Float64)::Float64 = 1 / (1 + exp(-a))\n",
    "\n",
    "# プロット用｜横軸\n",
    "## collect(start:interval:end): start〜endまでinterval刻みの数値配列を生成\n",
    "a = collect(-5.0:0.1:5.0)"
   ]
  },
  {
   "cell_type": "code",
   "execution_count": 2,
   "metadata": {},
   "outputs": [
    {
     "data": {
      "text/plain": [
       "101-element Vector{Float64}:\n",
       " 0.0\n",
       " 0.0\n",
       " 0.0\n",
       " 0.0\n",
       " 0.0\n",
       " 0.0\n",
       " 0.0\n",
       " 0.0\n",
       " 0.0\n",
       " 0.0\n",
       " 0.0\n",
       " 0.0\n",
       " 0.0\n",
       " ⋮\n",
       " 1.0\n",
       " 1.0\n",
       " 1.0\n",
       " 1.0\n",
       " 1.0\n",
       " 1.0\n",
       " 1.0\n",
       " 1.0\n",
       " 1.0\n",
       " 1.0\n",
       " 1.0\n",
       " 1.0"
      ]
     },
     "execution_count": 2,
     "metadata": {},
     "output_type": "execute_result"
    }
   ],
   "source": [
    "# ステップ関数実行\n",
    "## function.(array) で function(v) for v in array を実行\n",
    "y = step.(a)"
   ]
  },
  {
   "cell_type": "code",
   "execution_count": 3,
   "metadata": {},
   "outputs": [
    {
     "name": "stdout",
     "output_type": "stream",
     "text": [
      "\u001b[32m\u001b[1m    Updating\u001b[22m\u001b[39m registry at `~/.julia/registries/General`\n",
      "\u001b[32m\u001b[1m   Resolving\u001b[22m\u001b[39m package versions...\n",
      "\u001b[32m\u001b[1m  No Changes\u001b[22m\u001b[39m to `~/github/julia_ml-tuto/Project.toml`\n",
      "\u001b[32m\u001b[1m  No Changes\u001b[22m\u001b[39m to `~/github/julia_ml-tuto/Manifest.toml`\n"
     ]
    }
   ],
   "source": [
    "using Pkg\n",
    "\n",
    "# パッケージインストール時のメッセージ出力先を stdout (Jupyter Cell) に変更\n",
    "Pkg.DEFAULT_IO[] = stdout\n",
    "\n",
    "# python は Conda.jl 環境の python を使う\n",
    "ENV[\"PYTHON\"] = \"~/.julia/conda/3/bin/python\"\n",
    "\n",
    "# PyPlot.jl パッケージインストール\n",
    "Pkg.add(\"PyPlot\")"
   ]
  },
  {
   "cell_type": "code",
   "execution_count": 4,
   "metadata": {},
   "outputs": [
    {
     "data": {
      "image/png": "[encoded data removed]",
      "text/plain": [
       "Figure(PyObject <Figure size 640x480 with 1 Axes>)"
      ]
     },
     "metadata": {},
     "output_type": "display_data"
    },
    {
     "name": "stderr",
     "output_type": "stream",
     "text": [
      "WARNING: using PyPlot.step in module Main conflicts with an existing identifier.\n"
     ]
    },
    {
     "data": {
      "text/plain": [
       "1-element Vector{PyCall.PyObject}:\n",
       " PyObject <matplotlib.lines.Line2D object at 0x7f96198af2b0>"
      ]
     },
     "execution_count": 4,
     "metadata": {},
     "output_type": "execute_result"
    }
   ],
   "source": [
    "# PyPlotパッケージ利用\n",
    "using PyPlot\n",
    "\n",
    "# ステップ関数プロット\n",
    "plot(a, y)"
   ]
  },
  {
   "cell_type": "code",
   "execution_count": 5,
   "metadata": {},
   "outputs": [
    {
     "data": {
      "image/png": "[encoded data removed]",
      "text/plain": [
       "Figure(PyObject <Figure size 640x480 with 1 Axes>)"
      ]
     },
     "metadata": {},
     "output_type": "display_data"
    },
    {
     "data": {
      "text/plain": [
       "1-element Vector{PyCall.PyObject}:\n",
       " PyObject <matplotlib.lines.Line2D object at 0x7f9619030bb0>"
      ]
     },
     "execution_count": 5,
     "metadata": {},
     "output_type": "execute_result"
    }
   ],
   "source": [
    "# シグモイド関数プロット\n",
    "plot(a, sigmoid.(a))"
   ]
  },
  {
   "cell_type": "markdown",
   "metadata": {},
   "source": [
    "### ステップ関数とシグモイド関数\n",
    "ステップ関数とシグモイド関数は、上記グラフを見ても分かるように、滑らかさ（連続性）に違いがある\n",
    "\n",
    "一方で、以下のような共通点もある\n",
    "\n",
    "- 出力値は $0 \\leqq y \\leqq 1$ となる\n",
    "    - 入力値が小さいほど 0 に近く、入力値が大きいほど 1 に近くなる\n",
    "- 非線形関数である\n",
    "    - 一時直線では表現できない関数である\n",
    "\n",
    "### 非線形関数\n",
    "ニューラルネットワークでは、活性化関数に非線形関数を用いる必要がある\n",
    "\n",
    "逆に言えば、活性化関数に線形関数を用いてはならない\n",
    "\n",
    "これは、線形関数を用いてしまうと、どれだけ層を深くしても、それと同じことを行う「隠れ層（中間層）のないネットワーク」が存在することになってしまうためである\n",
    "\n",
    "例えば、活性化関数として $h(x) = cx$ という線形関数を採用し、$y(x) = h(h(h(x)))$ という3層ネットワークを構築したとする\n",
    "\n",
    "このネットワークは $y(x) = c * c * c * x$ という乗算処理を行うが、$c$ は任意定数であることから、$y(x) = ax$（$a = c^3$）という1層ネットワークに等しくなってしまう\n",
    "\n",
    "このように、線形関数を活性化関数として採用してしまうと、層を深くする意味がなくなってしまうため、必ず非線形関数を活性化関数とする必要がある"
   ]
  },
  {
   "cell_type": "markdown",
   "metadata": {},
   "source": [
    "### ReLU関数\n",
    "シグモイド関数は古くから活性化関数としてよく使われてきたが、最近では**ReLU（Rectified Linear Unit）関数**が採用されることが増えてきた\n",
    "\n",
    "ReLU関数は、入力値が0以下なら0を出力し、入力値が0を超えたらその値をそのまま出力する\n",
    "\n",
    "そのため、出力値が収束することはなく、より複雑な問題を解くことが可能である"
   ]
  },
  {
   "cell_type": "code",
   "execution_count": 6,
   "metadata": {},
   "outputs": [
    {
     "data": {
      "image/png": "[encoded data removed]",
      "text/plain": [
       "Figure(PyObject <Figure size 640x480 with 1 Axes>)"
      ]
     },
     "metadata": {},
     "output_type": "display_data"
    },
    {
     "data": {
      "text/plain": [
       "1-element Vector{PyCall.PyObject}:\n",
       " PyObject <matplotlib.lines.Line2D object at 0x7f9618f99070>"
      ]
     },
     "execution_count": 6,
     "metadata": {},
     "output_type": "execute_result"
    }
   ],
   "source": [
    "# ReLU関数\n",
    "ReLU(x::Float64)::Float64 = (x <= 0 ? 0 : x)\n",
    "\n",
    "# プロット用｜入力値: -5.0, -4.9, ..., 4.9, 5.0\n",
    "x = collect(-5.0:0.1:5.0)\n",
    "\n",
    "# ReLU関数プロット\n",
    "plot(x, ReLU.(x))"
   ]
  },
  {
   "cell_type": "markdown",
   "metadata": {},
   "source": [
    "## 3層ニューラルネットワーク\n",
    "\n",
    "### 3層ニューラルネットワークの実装\n",
    "以下のような構造の3層ニューラルネットワークを実装する\n",
    "\n",
    "![neural_network_3](./img/neural_network_3.drawio.png)\n",
    "\n",
    "重みの記述を $w_{n p}^{(i)}$（n: 次層のニューロンの番号, p: 前層のニューロンの番号, i: 層の番号）とし、バイアスを加えると以下のようなネットワーク構造となる\n",
    "\n",
    "![neural_network_bias](./img/neural_network_bias.drawio.png)\n",
    "\n",
    "さらに、各中間層（隠れ層）に活性化関数 $h()$ を導入し、層同士の信号伝達を表現すると以下のようになる\n",
    "\n",
    "![neural_network_layer](./img/neural_network_layer.drawio.png)\n",
    "\n",
    "最後に、出力層に活性化関数 $σ()$ を導入すると、ニューラルネットワークの概念図が完成する\n",
    "\n",
    "![neural_network_y](./img/neural_network_y.drawio.png)"
   ]
  },
  {
   "cell_type": "markdown",
   "metadata": {},
   "source": [
    "#### ニューラルネットワーク1層のテンソル計算\n",
    "$$\n",
    "    \\left(\n",
    "        \\begin{array}{cc}\n",
    "            a_1^{(1)} \\\\\n",
    "            a_2^{(1)} \\\\\n",
    "            a_3^{(1)}\n",
    "        \\end{array}\n",
    "    \\right)\n",
    "    =\n",
    "    \\left(\n",
    "        \\begin{array}{cc}\n",
    "            x_1 & x_2\n",
    "        \\end{array}\n",
    "    \\right)\n",
    "    \\left(\n",
    "        \\begin{array}{cc}\n",
    "            w_{1 1}^{(1)} & w_{2 1}^{(1)} & w_{3 1}^{(1)} \\\\\n",
    "            w_{1 2}^{(1)} & w_{2 2}^{(1)} & w_{3 2}^{(1)}\n",
    "        \\end{array}\n",
    "    \\right)\n",
    "    +\n",
    "    \\left(\n",
    "        \\begin{array}{cc}\n",
    "            b_1^{(1)} \\\\\n",
    "            b_2^{(1)} \\\\\n",
    "            b_3^{(1)}\n",
    "        \\end{array}\n",
    "    \\right)\n",
    "    =\n",
    "    \\left(\n",
    "        \\begin{array}{cc}\n",
    "            \\sum_{p=1}^{2}{(x_1 * w_{1　p}^{(1)})} + b_1^{(1)} \\\\\n",
    "            \\sum_{p=1}^{2}{(x_2 * w_{2　p}^{(1)})} + b_2^{(1)} \\\\\n",
    "            \\sum_{p=1}^{2}{(x_3 * w_{3　p}^{(1)})} + b_3^{(1)}\n",
    "        \\end{array}\n",
    "    \\right)\n",
    "$$"
   ]
  },
  {
   "cell_type": "code",
   "execution_count": 7,
   "metadata": {},
   "outputs": [
    {
     "data": {
      "text/plain": [
       "1×2 Matrix{Int64}:\n",
       " 1  2"
      ]
     },
     "execution_count": 7,
     "metadata": {},
     "output_type": "execute_result"
    }
   ],
   "source": [
    "A = [1 2]"
   ]
  },
  {
   "cell_type": "code",
   "execution_count": 8,
   "metadata": {},
   "outputs": [
    {
     "data": {
      "text/plain": [
       "2×3 Matrix{Int64}:\n",
       " 3  4  5\n",
       " 6  7  8"
      ]
     },
     "execution_count": 8,
     "metadata": {},
     "output_type": "execute_result"
    }
   ],
   "source": [
    "B = [3 4 5; 6 7 8]"
   ]
  },
  {
   "cell_type": "code",
   "execution_count": 9,
   "metadata": {},
   "outputs": [
    {
     "data": {
      "text/plain": [
       "1×3 Matrix{Int64}:\n",
       " 1  2  3"
      ]
     },
     "execution_count": 9,
     "metadata": {},
     "output_type": "execute_result"
    }
   ],
   "source": [
    "C = [1 2 3]"
   ]
  },
  {
   "cell_type": "code",
   "execution_count": 10,
   "metadata": {},
   "outputs": [
    {
     "data": {
      "text/plain": [
       "1×3 Matrix{Int64}:\n",
       " 16  20  24"
      ]
     },
     "execution_count": 10,
     "metadata": {},
     "output_type": "execute_result"
    }
   ],
   "source": [
    "A * B + C"
   ]
  },
  {
   "cell_type": "code",
   "execution_count": 11,
   "metadata": {},
   "outputs": [
    {
     "data": {
      "text/plain": [
       "execute (generic function with 2 methods)"
      ]
     },
     "execution_count": 11,
     "metadata": {},
     "output_type": "execute_result"
    }
   ],
   "source": [
    "\"\"\"\n",
    "3層ニューラルネットワークの実装\n",
    "\"\"\"\n",
    "\n",
    "# ニューラルネットワーク構造体\n",
    "mutable struct Network\n",
    "    l::Int # ネットワーク層数\n",
    "    b::Vector{Array{Float64,2}} # バイアス: [層1: Array{1x次層ニューロン数}, 層2: Array{1x次層ニューロン数}, ...]\n",
    "    w::Vector{Array{Float64,2}} # 重み: [層1: Array{前層ニューロン数x次層ニューロン数}, 層2: Array{前層ニューロン数x次層ニューロン数}, ...]\n",
    "end\n",
    "\n",
    "# ニューラルネットワーク1層計算関数\n",
    "## Network構造体, 層番号, 活性化関数, 層の入力信号 -> 層の出力信号 z\n",
    "forward(network::Network, i::Int, h, x::Array{Float64,2})::Array{Float64,2} =\n",
    "    h.(x * network.w[i] + network.b[i])\n",
    "\n",
    "# ニューラルネットワーク計算関数\n",
    "## Network構造体, 層番号, 中間層の活性化関数, 出力層の活性化関数, 入力信号 -> 出力信号 y\n",
    "execute(network::Network, h, σ, x::Array{Float64,2}, i::Int=1)::Array{Float64,2} = \n",
    "    i == network.l ? forward(network, i, σ, x) : execute(network, h, σ, forward(network, i, h, x), i + 1)"
   ]
  },
  {
   "cell_type": "code",
   "execution_count": 12,
   "metadata": {},
   "outputs": [
    {
     "data": {
      "text/plain": [
       "1×2 Matrix{Float64}:\n",
       " 0.316827  0.696279"
      ]
     },
     "execution_count": 12,
     "metadata": {},
     "output_type": "execute_result"
    }
   ],
   "source": [
    "# 中間層の活性化関数\n",
    "## シグモイド関数\n",
    "# シグモイド関数\n",
    "sigmoid(a::Float64)::Float64 = 1 / (1 + exp(-a))\n",
    "\n",
    "# 出力層の活性化関数\n",
    "## 恒等関数: 入力値をそのまま出力\n",
    "identity(x::Float64)::Float64 = x\n",
    "\n",
    "# 3層ニューラルネットワーク構築\n",
    "network = Network(\n",
    "    3,\n",
    "    [\n",
    "        # i番目の層のバイアス: 次層の数×1 Array{Float64,2}\n",
    "        [0.1 0.2 0.3], # 1 x 3\n",
    "        [0.1 0.2], # 1 x 2\n",
    "        [0.1 0.2] # 1 x 2\n",
    "    ],\n",
    "    [\n",
    "        # i番目の層の重み: 前層の数×次層の数 Array{Float64,2}\n",
    "        [0.1 0.3 0.5; 0.2 0.4 0.6], # 2 x 3\n",
    "        [0.1 0.4; 0.2 0.5; 0.3 0.6], # 3 x 2\n",
    "        [0.1 0.3; 0.2 0.4] # 2 x 2\n",
    "    ]\n",
    ")\n",
    "\n",
    "# ニューラルネットワーク計算実行\n",
    "## 中間層の活性化関数: sigmoid, 出力層の活性化関数: identity\n",
    "## 入力値: x1 = 1.0, x2 = 0.5\n",
    "execute(network, sigmoid, identity, [1.0 0.5])\n",
    "# -> [0.31682708, 0.69627909]"
   ]
  },
  {
   "cell_type": "markdown",
   "metadata": {},
   "source": [
    "## 出力層の設計\n",
    "\n",
    "ニューラルネットワークは、分類問題と回帰問題の両方に用いることができる\n",
    "\n",
    "ただし、分類問題と回帰問題のどちらに用いるかで、出力層の活性化関数を変更する必要がある\n",
    "\n",
    "- 分類問題\n",
    "    - データがどのクラスに属するかを判定する問題\n",
    "    - 活性化関数には、ソフトマックス関数のような、入力信号の総和を引数にとる関数がよく使われる\n",
    "- 回帰問題\n",
    "    - 入力されたデータから数値を予測する問題\n",
    "    - 活性化関数には、恒等関数のような、入力信号をそのまま引数にとる関数がよく使われる\n",
    "\n",
    "![neural_network_activate](./img/neural_network_activate.drawio.png)\n",
    "\n",
    "### ソフトマックス関数\n",
    "分類問題の活性化関数として用いられるソフトマックス関数は以下のような式で表現される\n",
    "\n",
    "$$\n",
    "    y_k = \\frac{exp(a_k)}{\\sum_{i=1}^n exp(a_i)}\n",
    "$$"
   ]
  },
  {
   "cell_type": "code",
   "execution_count": 13,
   "metadata": {},
   "outputs": [
    {
     "data": {
      "text/plain": [
       "3-element Vector{Float64}:\n",
       " 0.018211273295547534\n",
       " 0.2451918129350739\n",
       " 0.7365969137693785"
      ]
     },
     "execution_count": 13,
     "metadata": {},
     "output_type": "execute_result"
    }
   ],
   "source": [
    "# ソフトマックス関数\n",
    "softmax(a::Vector{Float64})::Vector{Float64} = exp.(a) / sum(exp.(a))\n",
    "\n",
    "# 動作確認\n",
    "softmax([0.3, 2.9, 4.0])"
   ]
  },
  {
   "cell_type": "markdown",
   "metadata": {},
   "source": [
    "#### オーバフロー対策\n",
    "ソフトマックス関数は指数関数の計算を行うため、コンピュータ上で実装する場合、オーバフローに注意する必要がある\n",
    "\n",
    "例えば、$e^{1000}$ の結果は無限大を表す Inf となる\n",
    "\n",
    "そのため、このような値を除算に用いると数値が不安定になってしまう"
   ]
  },
  {
   "cell_type": "code",
   "execution_count": 14,
   "metadata": {},
   "outputs": [
    {
     "data": {
      "text/plain": [
       "Inf"
      ]
     },
     "execution_count": 14,
     "metadata": {},
     "output_type": "execute_result"
    }
   ],
   "source": [
    "exp(1000)"
   ]
  },
  {
   "cell_type": "markdown",
   "metadata": {},
   "source": [
    "このようなオーバフローを防ぐために、ソフトマックス関数を変形する\n",
    "\n",
    "任意定数 $C$ を分子と分母の両方に掛けると、以下のように変形できる\n",
    "\n",
    "$$ \\begin{array}{ll}\n",
    "    y_k &=& \\frac{exp(a_k)}{\\sum_{i=1}^n exp(a_i)} \\\\\n",
    "        &=& \\frac{C*exp(a_k)}{C*\\sum_{i=1}^n exp(a_i)} \\\\\n",
    "        &=& \\frac{exp(a_k + log(C))}{\\sum_{i=1}^n exp(a_i + log(C))} \\\\\n",
    "        &=& \\frac{exp(a_k + C')}{\\sum_{i=1}^n exp(a_i + C')}\n",
    "\\end{array} $$\n",
    "\n",
    "上記より、$a_k$ から任意の定数を減算しても計算結果は変わらない\n",
    "\n",
    "従って、入力信号のうち最大の値を各入力信号から減算すればオーバフローを回避することが可能である"
   ]
  },
  {
   "cell_type": "code",
   "execution_count": 15,
   "metadata": {},
   "outputs": [
    {
     "name": "stdout",
     "output_type": "stream",
     "text": [
      "[0.01821127329554753, 0.24519181293507392, 0.7365969137693786]\n",
      "1.0\n"
     ]
    }
   ],
   "source": [
    "# オーバフロー対策済みソフトマックス関数\n",
    "softmax(a::Vector{Float64})::Vector{Float64} = begin\n",
    "    c = maximum(a)\n",
    "    exp_a = exp.(a .- c)\n",
    "    y = exp_a / sum(exp_a)\n",
    "end\n",
    "\n",
    "# 動作確認\n",
    "y = softmax([0.3, 2.9, 4.0])\n",
    "println(y)\n",
    "\n",
    "# ソフトマックス関数は出力値の合計が 1 になる\n",
    "println(sum(y))"
   ]
  },
  {
   "cell_type": "markdown",
   "metadata": {},
   "source": [
    "#### ソフトマックス関数の特徴\n",
    "ソフトマックス関数の出力値は、0〜1 の間の実数となり、その合計値は 1 になる\n",
    "\n",
    "従って、ソフトマックス関数の出力値は、分類問題における各クラスに属する確率を表していると解釈することができる\n",
    "\n",
    "ここで、ソフトマックス関数の出力値は入力値の大きさに単調比例する（$exp(a_k)$ が単調増加関数であるため）ため、大小関係は関数処理前後で変わらない\n",
    "\n",
    "そのため、一般にニューラルネットワークによる推論を行う場合、活性化関数（ソフトマックス関数）は省略されることが多い\n",
    "\n",
    "\n",
    "### 出力層のニューロン数\n",
    "分類問題において、出力層のニューロン数は分類するクラス数に等しくなる\n",
    "\n",
    "例えば、0〜9 の手書き数字を10個の数値クラス（0〜9）に分類する場合、出力層のニューロン数は10個必要になる\n",
    "\n",
    "また、基本的に出力層のニューロンが出力する値が、そのままそのクラスに属する確率であると解釈される"
   ]
  },
  {
   "cell_type": "markdown",
   "metadata": {},
   "source": [
    "## 手書き数字の認識\n",
    "\n",
    "学習済みのニューラルネットワークモデルを用いて、手書き数字の分類を行う\n",
    "\n",
    "この推論処理は、ニューラルネットワークの順方向伝搬と呼ぶ\n",
    "\n",
    "### MNISTデータセット\n",
    "ここでは、MNISTという手書き数字の画像データセットを使用する\n",
    "\n",
    "MNISTデータセットは0〜9までの数字画像から構成されており、訓練用画像60,000枚、テスト用画像10,000枚から成る\n",
    "\n",
    "一般的なMNISTデータセットの使い方では、訓練用画像を用いて学習を行い、学習したモデルでテスト画像に対してどれだけ正しく分類できるかを計測する"
   ]
  },
  {
   "cell_type": "code",
   "execution_count": 16,
   "metadata": {},
   "outputs": [
    {
     "name": "stdout",
     "output_type": "stream",
     "text": [
      "\u001b[32m\u001b[1m   Resolving\u001b[22m\u001b[39m package versions...\n",
      "\u001b[32m\u001b[1m  No Changes\u001b[22m\u001b[39m to `~/github/julia_ml-tuto/Project.toml`\n",
      "\u001b[32m\u001b[1m  No Changes\u001b[22m\u001b[39m to `~/github/julia_ml-tuto/Manifest.toml`\n"
     ]
    }
   ],
   "source": [
    "# MLDatasets.jl パッケージインストール\n",
    "Pkg.add(\"MLDatasets\")"
   ]
  },
  {
   "cell_type": "code",
   "execution_count": 17,
   "metadata": {
    "scrolled": true,
    "tags": []
   },
   "outputs": [
    {
     "data": {
      "text/plain": [
       "(FixedPointNumbers.N0f8[0.0N0f8 0.0N0f8 … 0.0N0f8 0.0N0f8; 0.0N0f8 0.0N0f8 … 0.0N0f8 0.0N0f8; … ; 0.0N0f8 0.0N0f8 … 0.0N0f8 0.0N0f8; 0.0N0f8 0.0N0f8 … 0.0N0f8 0.0N0f8]\n",
       "\n",
       "FixedPointNumbers.N0f8[0.0N0f8 0.0N0f8 … 0.0N0f8 0.0N0f8; 0.0N0f8 0.0N0f8 … 0.0N0f8 0.0N0f8; … ; 0.0N0f8 0.0N0f8 … 0.0N0f8 0.0N0f8; 0.0N0f8 0.0N0f8 … 0.0N0f8 0.0N0f8]\n",
       "\n",
       "FixedPointNumbers.N0f8[0.0N0f8 0.0N0f8 … 0.0N0f8 0.0N0f8; 0.0N0f8 0.0N0f8 … 0.0N0f8 0.0N0f8; … ; 0.0N0f8 0.0N0f8 … 0.0N0f8 0.0N0f8; 0.0N0f8 0.0N0f8 … 0.0N0f8 0.0N0f8]\n",
       "\n",
       "...\n",
       "\n",
       "FixedPointNumbers.N0f8[0.0N0f8 0.0N0f8 … 0.0N0f8 0.0N0f8; 0.0N0f8 0.0N0f8 … 0.0N0f8 0.0N0f8; … ; 0.0N0f8 0.0N0f8 … 0.0N0f8 0.0N0f8; 0.0N0f8 0.0N0f8 … 0.0N0f8 0.0N0f8]\n",
       "\n",
       "FixedPointNumbers.N0f8[0.0N0f8 0.0N0f8 … 0.0N0f8 0.0N0f8; 0.0N0f8 0.0N0f8 … 0.0N0f8 0.0N0f8; … ; 0.0N0f8 0.0N0f8 … 0.0N0f8 0.0N0f8; 0.0N0f8 0.0N0f8 … 0.0N0f8 0.0N0f8]\n",
       "\n",
       "FixedPointNumbers.N0f8[0.0N0f8 0.0N0f8 … 0.0N0f8 0.0N0f8; 0.0N0f8 0.0N0f8 … 0.0N0f8 0.0N0f8; … ; 0.0N0f8 0.0N0f8 … 0.0N0f8 0.0N0f8; 0.0N0f8 0.0N0f8 … 0.0N0f8 0.0N0f8], [5, 0, 4, 1, 9, 2, 1, 3, 1, 4  …  9, 2, 9, 5, 1, 8, 3, 5, 6, 8])"
      ]
     },
     "execution_count": 17,
     "metadata": {},
     "output_type": "execute_result"
    }
   ],
   "source": [
    "# MLDatasetsパッケージのMNISTSデータセットを使う\n",
    "using MLDatasets\n",
    "\n",
    "# 訓練用画像データと教師データをロード\n",
    "## train_x: 特徴量＝<画像データ｜28x28 グレースケール画像 60,000枚>{28x28x60000 Array{UInt8, 3}}\n",
    "## train_y: 目的変数＝<数値クラス｜[0..9]の数値 60,000個>{60000 Array{Int, 1}}\n",
    "train_x, train_y = MNIST.traindata()"
   ]
  },
  {
   "cell_type": "code",
   "execution_count": 18,
   "metadata": {},
   "outputs": [
    {
     "data": {
      "image/png": "[encoded data removed]",
      "text/plain": [
       "Figure(PyObject <Figure size 640x480 with 1 Axes>)"
      ]
     },
     "metadata": {},
     "output_type": "display_data"
    },
    {
     "data": {
      "text/plain": [
       "5"
      ]
     },
     "execution_count": 18,
     "metadata": {},
     "output_type": "execute_result"
    }
   ],
   "source": [
    "using PyPlot\n",
    "\n",
    "# 一枚目の画像データ(28x28)をプロット\n",
    "## imshowは縦軸と横軸が反転しているため転置行列を渡す\n",
    "imshow(train_x[:, :, 1]')\n",
    "\n",
    "# 一枚目の画像に描かれている数字\n",
    "train_y[1]"
   ]
  },
  {
   "cell_type": "markdown",
   "metadata": {},
   "source": [
    "### ニューラルネットワーク構築\n",
    "今回はすでに学習済みのモデルを使って推論処理のみを行ってみるため、そのモデルに合わせたニューラルネットワークを構築する\n",
    "\n",
    "構築するニューラルネットワークは以下のようなものである\n",
    "\n",
    "- 3層ニューラルネットワーク\n",
    "    - 入力層:\n",
    "        - 手書き数字の画像データ（サイズ: 28x28）\n",
    "        - ニューロン数: 28 * 28 = 784\n",
    "        - 各ニューロンの入力値は 0.0〜1.0 の実数型である必要がある\n",
    "    - 中間層（隠れ層）1:\n",
    "        - ニューロン数: 50\n",
    "        - 活性化関数: シグモイド関数\n",
    "    - 中間層（隠れ層）2:\n",
    "        - ニューロン数: 100\n",
    "        - 活性化関数: シグモイド関数\n",
    "    - 出力層:\n",
    "        - ニューロン数: 10（0〜9の数字クラスに分類するため）\n",
    "        - 活性化関数: ソフトマックス関数\n",
    "\n",
    "なお、学習済みモデルは python-pickle 形式で保存されているものをGitHubからダウンロードして使用する"
   ]
  },
  {
   "cell_type": "code",
   "execution_count": 19,
   "metadata": {},
   "outputs": [
    {
     "name": "stdout",
     "output_type": "stream",
     "text": [
      "Requirement already satisfied: pickle-mixin in /home/user/.julia/conda/3/lib/python3.8/site-packages (1.0.2)\n",
      "\u001b[32m\u001b[1m   Resolving\u001b[22m\u001b[39m package versions...\n",
      "\u001b[32m\u001b[1m  No Changes\u001b[22m\u001b[39m to `~/github/julia_ml-tuto/Project.toml`\n",
      "\u001b[32m\u001b[1m  No Changes\u001b[22m\u001b[39m to `~/github/julia_ml-tuto/Manifest.toml`\n"
     ]
    }
   ],
   "source": [
    "# pickle python モジュールインストール\n",
    "using PyCall\n",
    "run(`$(PyCall.python) -m pip install pickle-mixin`)\n",
    "\n",
    "# HTTP.jl パッケージインストール\n",
    "Pkg.add(\"HTTP\")"
   ]
  },
  {
   "cell_type": "code",
   "execution_count": 20,
   "metadata": {},
   "outputs": [
    {
     "data": {
      "text/plain": [
       "Dict{Any, Any} with 6 entries:\n",
       "  \"W2\" => Float32[-0.10694 0.0159125 … 0.14046 0.0396424; 0.299116 -0.0332223 ……\n",
       "  \"W3\" => Float32[-0.421736 0.689445 … -0.305001 0.0275985; -0.524321 -0.143625…\n",
       "  \"b3\" => Float32[-0.0602398, 0.00932628, -0.0135995, 0.0216713, 0.0107372, 0.0…\n",
       "  \"b2\" => Float32[-0.0147111, -0.0721513, -0.00155692, 0.121997, 0.116033, -0.0…\n",
       "  \"W1\" => Float32[-0.00741249 -0.00790439 … -0.0433127 -0.013501; -0.0102975 -0…\n",
       "  \"b1\" => Float32[-0.0675032, 0.0695926, -0.0273047, 0.0225609, -0.220015, -0.2…"
      ]
     },
     "execution_count": 20,
     "metadata": {},
     "output_type": "execute_result"
    }
   ],
   "source": [
    "\"\"\"\n",
    "Python pickle（Pythonのオブジェクト状態を保存したもの）のローディング\n",
    "\"\"\"\n",
    "\n",
    "using HTTP\n",
    "using PyCall\n",
    "pickle = pyimport(\"pickle\")\n",
    "\n",
    "# ファイルにオブジェクト状態保存\n",
    "save_pickle(filename, obj) = begin\n",
    "    out = open(filename, \"w\")\n",
    "    pickle.dump(obj, out)\n",
    "    close(out)\n",
    "end\n",
    "\n",
    "# ファイルからオブジェクト状態復元\n",
    "load_pickle(filename) = begin\n",
    "    @pywith pybuiltin(\"open\")(filename, \"rb\") as f begin\n",
    "        return pickle.load(f)\n",
    "    end\n",
    "end\n",
    "\n",
    "# インターネット上のファイルからオブジェクト状態復元\n",
    "model = pickle.loads(\n",
    "    HTTP.request(\n",
    "        \"GET\", \"https://github.com/oreilly-japan/deep-learning-from-scratch/blob/master/ch03/sample_weight.pkl?raw=true\"\n",
    "    ).body\n",
    ")"
   ]
  },
  {
   "cell_type": "code",
   "execution_count": 21,
   "metadata": {},
   "outputs": [
    {
     "name": "stdout",
     "output_type": "stream",
     "text": [
      "Matrix{Float32}(784, 50)\n",
      "Vector{Float32}(50,)\n"
     ]
    }
   ],
   "source": [
    "# 入力層 -> 中間層1 のパラメータ\n",
    "## 重み: 前層のニューロン数x次層のニューロン数のArray{Float32,2} => 784x50 Array{Float32,2}\n",
    "## バイアス: 次層のニューロン数のArray{Float32,1} => 50 Array{Float32,1}\n",
    "println(typeof(model[\"W1\"]), size(model[\"W1\"]))\n",
    "println(typeof(model[\"b1\"]), size(model[\"b1\"]))"
   ]
  },
  {
   "cell_type": "code",
   "execution_count": 22,
   "metadata": {},
   "outputs": [
    {
     "name": "stdout",
     "output_type": "stream",
     "text": [
      "Matrix{Float32}(50, 100)\n",
      "Vector{Float32}(100,)\n"
     ]
    }
   ],
   "source": [
    "# 中間層1 -> 中間層2 のパラメータ\n",
    "## 重み: 前層のニューロン数x次層のニューロン数のArray{Float32,2} => 784x50 Array{Float32,2}\n",
    "## バイアス: 次層のニューロン数のArray{Float32,1} => 100 Array{Float32,1}\n",
    "println(typeof(model[\"W2\"]), size(model[\"W2\"]))\n",
    "println(typeof(model[\"b2\"]), size(model[\"b2\"]))"
   ]
  },
  {
   "cell_type": "code",
   "execution_count": 23,
   "metadata": {},
   "outputs": [
    {
     "name": "stdout",
     "output_type": "stream",
     "text": [
      "Matrix{Float32}(100, 10)\n",
      "Vector{Float32}(10,)\n"
     ]
    }
   ],
   "source": [
    "# 中間層2 -> 出力層 のパラメータ\n",
    "## 重み: 前層のニューロン数x出力数のArray{Float32,2} => 100x10 Array{Float32,2}\n",
    "## バイアス: 次層のニューロン数のArray{Float32,1} => 10 Array{Float32,1}\n",
    "println(typeof(model[\"W3\"]), size(model[\"W3\"]))\n",
    "println(typeof(model[\"b3\"]), size(model[\"b3\"]))"
   ]
  },
  {
   "cell_type": "code",
   "execution_count": 24,
   "metadata": {},
   "outputs": [
    {
     "data": {
      "text/plain": [
       "Network(3, [[-0.06750315427780151 0.06959260255098343 … -0.1517917513847351 0.10716812312602997], [-0.014711079187691212 -0.0721513107419014 … 0.0219968743622303 -0.04358607530593872], [-0.060239847749471664 0.009326279163360596 … 0.005769616924226284 0.053233496844768524]], [[-0.007412489037960768 -0.007904390804469585 … -0.04331266134977341 -0.013501036912202835; -0.010297450236976147 -0.016166528686881065 … 0.028098108246922493 0.014509075321257114; … ; -0.007615331560373306 0.020289726555347443 … -0.012298551388084888 0.024070410057902336; 0.0002791535807773471 -0.06848375499248505 … 0.007430855184793472 -0.040211476385593414], [-0.1069403886795044 0.01591246761381626 … 0.14045962691307068 0.03964240849018097; 0.2991155683994293 -0.033222347497940063 … -0.0972146987915039 0.2950257956981659; … ; 0.1000162735581398 0.08992860466241837 … -0.05744233727455139 -0.007138228975236416; -0.022206591442227364 -0.0510517880320549 … -0.40420839190483093 0.009080098010599613], [-0.4217357635498047 0.6894454956054688 … -0.3050006031990051 0.027598470449447632; -0.5243205428123474 -0.14362488687038422 … -0.0398552268743515 0.8234255909919739; … ; -0.544507622718811 0.5376719236373901 … 0.5130876898765564 -0.036701593548059464; 1.0722789764404297 -0.373002290725708 … -0.26149052381515503 0.03177173063158989]])"
      ]
     },
     "execution_count": 24,
     "metadata": {},
     "output_type": "execute_result"
    }
   ],
   "source": [
    "\"\"\"\n",
    "ニューラルネットワーク実装\n",
    "\"\"\"\n",
    "\n",
    "# ニューラルネットワーク構造体\n",
    "mutable struct Network\n",
    "    l::Int # ネットワーク層数\n",
    "    b::Vector{Array{Float64,2}} # バイアス: [層1: Array{1x次層ニューロン数}, 層2: Array{1x次層ニューロン数}, ...]\n",
    "    w::Vector{Array{Float64,2}} # 重み: [層1: Array{前層ニューロン数x次層ニューロン数}, 層2: Array{前層ニューロン数x次層ニューロン数}, ...]\n",
    "end\n",
    "\n",
    "# 順方向伝搬関数\n",
    "## Network構造体, 層番号, 活性化関数, 層の入力信号 -> 層の出力信号 z\n",
    "forward(network::Network, i::Int, h, x::Array{Float64,2})::Array{Float64,2} =\n",
    "    h(x * network.w[i] + network.b[i])\n",
    "\n",
    "# 推論処理\n",
    "## Network構造体, 層番号, 中間層の活性化関数, 出力層の活性化関数, 入力信号 -> 出力信号 y\n",
    "predict(network::Network, h, σ, x::Array{Float64,2}, i::Int=1)::Array{Float64,2} = \n",
    "    i == network.l ? forward(network, i, σ, x) : predict(network, h, σ, forward(network, i, h, x), i + 1)\n",
    "\n",
    "# 学習済みモデルのパラメータをセットして3層ニューラルネットワーク構築\n",
    "init(model::Dict{Any,Any})::Network = Network(\n",
    "    3,\n",
    "    [\n",
    "        # i番目の層のバイアス: Array{Float32,1} -> 1 x n Array{Float64,2}にキャスト\n",
    "        Array{Float64,2}(reshape(model[\"b1\"], (1, :))), # 1 x 50 Array{Float64,2}\n",
    "        Array{Float64,2}(reshape(model[\"b2\"], (1, :))), # 1 x 100 Array{Float64,2}\n",
    "        Array{Float64,2}(reshape(model[\"b3\"], (1, :))), # 1 x 10 Array{Float64,2}\n",
    "    ],\n",
    "    [\n",
    "        # i番目の層の重み: Array{Float32,2} -> Array{Float64,2}にキャスト\n",
    "        Array{Float64,2}(model[\"W1\"]),\n",
    "        Array{Float64,2}(model[\"W2\"]),\n",
    "        Array{Float64,2}(model[\"W3\"]),\n",
    "    ]\n",
    ")\n",
    "\n",
    "network = init(model)"
   ]
  },
  {
   "cell_type": "code",
   "execution_count": 25,
   "metadata": {},
   "outputs": [
    {
     "name": "stdout",
     "output_type": "stream",
     "text": [
      "FixedPointNumbers.N0f8[0.0N0f8 0.0N0f8 0.0N0f8 0.0N0f8 0.0N0f8 0.0N0f8 0.0N0f8 0.0N0f8 0.0N0f8 0.0N0f8 0.0N0f8 0.0N0f8 0.0N0f8 0.0N0f8 0.0N0f8 0.0N0f8 0.0N0f8 0.0N0f8 0.0N0f8 0.0N0f8 0.0N0f8 0.0N0f8 0.0N0f8 0.0N0f8 0.0N0f8 0.0N0f8 0.0N0f8 0.0N0f8; 0.0N0f8 0.0N0f8 0.0N0f8 0.0N0f8 0.0N0f8 0.0N0f8 0.0N0f8 0.0N0f8 0.0N0f8 0.0N0f8 0.0N0f8 0.0N0f8 0.0N0f8 0.0N0f8 0.0N0f8 0.0N0f8 0.0N0f8 0.0N0f8 0.0N0f8 0.0N0f8 0.0N0f8 0.0N0f8 0.0N0f8 0.0N0f8 0.0N0f8 0.0N0f8 0.0N0f8 0.0N0f8; 0.0N0f8 0.0N0f8 0.0N0f8 0.0N0f8 0.0N0f8 0.0N0f8 0.0N0f8 0.0N0f8 0.0N0f8 0.0N0f8 0.0N0f8 0.0N0f8 0.0N0f8 0.0N0f8 0.0N0f8 0.0N0f8 0.0N0f8 0.0N0f8 0.0N0f8 0.0N0f8 0.0N0f8 0.0N0f8 0.0N0f8 0.0N0f8 0.0N0f8 0.0N0f8 0.0N0f8 0.0N0f8; 0.0N0f8 0.0N0f8 0.0N0f8 0.0N0f8 0.0N0f8 0.0N0f8 0.0N0f8 0.0N0f8 0.0N0f8 0.0N0f8 0.0N0f8 0.0N0f8 0.0N0f8 0.0N0f8 0.0N0f8 0.0N0f8 0.0N0f8 0.0N0f8 0.0N0f8 0.0N0f8 0.0N0f8 0.0N0f8 0.0N0f8 0.0N0f8 0.0N0f8 0.0N0f8 0.0N0f8 0.0N0f8; 0.0N0f8 0.0N0f8 0.0N0f8 0.0N0f8 0.0N0f8 0.0N0f8 0.0N0f8 0.0N0f8 0.0N0f8 0.0N0f8 0.0N0f8 0.0N0f8 0.0N0f8 0.0N0f8 0.0N0f8 0.0N0f8 0.0N0f8 0.0N0f8 0.0N0f8 0.0N0f8 0.0N0f8 0.0N0f8 0.0N0f8 0.0N0f8 0.0N0f8 0.0N0f8 0.0N0f8 0.0N0f8; 0.0N0f8 0.0N0f8 0.0N0f8 0.0N0f8 0.0N0f8 0.0N0f8 0.0N0f8 0.0N0f8 0.0N0f8 0.0N0f8 0.0N0f8 0.0N0f8 0.0N0f8 0.0N0f8 0.0N0f8 0.0N0f8 0.0N0f8 0.0N0f8 0.0N0f8 0.0N0f8 0.0N0f8 0.0N0f8 0.0N0f8 0.0N0f8 0.0N0f8 0.0N0f8 0.0N0f8 0.0N0f8; 0.0N0f8 0.0N0f8 0.0N0f8 0.0N0f8 0.0N0f8 0.0N0f8 0.0N0f8 0.329N0f8 0.871N0f8 0.263N0f8 0.0N0f8 0.0N0f8 0.0N0f8 0.0N0f8 0.0N0f8 0.0N0f8 0.0N0f8 0.0N0f8 0.0N0f8 0.0N0f8 0.0N0f8 0.0N0f8 0.0N0f8 0.0N0f8 0.0N0f8 0.0N0f8 0.0N0f8 0.0N0f8; 0.0N0f8 0.0N0f8 0.0N0f8 0.0N0f8 0.0N0f8 0.0N0f8 0.0N0f8 0.725N0f8 0.996N0f8 0.447N0f8 0.0N0f8 0.0N0f8 0.0N0f8 0.0N0f8 0.0N0f8 0.0N0f8 0.0N0f8 0.0N0f8 0.0N0f8 0.0N0f8 0.0N0f8 0.0N0f8 0.0N0f8 0.0N0f8 0.0N0f8 0.0N0f8 0.0N0f8 0.0N0f8; 0.0N0f8 0.0N0f8 0.0N0f8 0.0N0f8 0.0N0f8 0.0N0f8 0.0N0f8 0.624N0f8 0.996N0f8 0.282N0f8 0.0N0f8 0.0N0f8 0.0N0f8 0.0N0f8 0.0N0f8 0.0N0f8 0.0N0f8 0.0N0f8 0.0N0f8 0.0N0f8 0.0N0f8 0.0N0f8 0.0N0f8 0.0N0f8 0.0N0f8 0.0N0f8 0.0N0f8 0.0N0f8; 0.0N0f8 0.0N0f8 0.0N0f8 0.0N0f8 0.0N0f8 0.0N0f8 0.0N0f8 0.592N0f8 0.996N0f8 0.447N0f8 0.0N0f8 0.0N0f8 0.0N0f8 0.0N0f8 0.0N0f8 0.0N0f8 0.0N0f8 0.0N0f8 0.0N0f8 0.0N0f8 0.0N0f8 0.0N0f8 0.0N0f8 0.0N0f8 0.0N0f8 0.0N0f8 0.0N0f8 0.0N0f8; 0.0N0f8 0.0N0f8 0.0N0f8 0.0N0f8 0.0N0f8 0.0N0f8 0.0N0f8 0.235N0f8 0.996N0f8 0.639N0f8 0.0N0f8 0.0N0f8 0.0N0f8 0.0N0f8 0.0N0f8 0.0N0f8 0.0N0f8 0.0N0f8 0.0N0f8 0.0N0f8 0.0N0f8 0.0N0f8 0.0N0f8 0.0N0f8 0.239N0f8 0.475N0f8 0.475N0f8 0.0N0f8; 0.0N0f8 0.0N0f8 0.0N0f8 0.0N0f8 0.0N0f8 0.0N0f8 0.0N0f8 0.141N0f8 0.945N0f8 0.89N0f8 0.067N0f8 0.0N0f8 0.0N0f8 0.0N0f8 0.0N0f8 0.0N0f8 0.0N0f8 0.0N0f8 0.0N0f8 0.0N0f8 0.0N0f8 0.0N0f8 0.122N0f8 0.522N0f8 0.949N0f8 0.996N0f8 0.996N0f8 0.0N0f8; 0.0N0f8 0.0N0f8 0.0N0f8 0.0N0f8 0.0N0f8 0.0N0f8 0.0N0f8 0.0N0f8 0.776N0f8 0.996N0f8 0.259N0f8 0.0N0f8 0.0N0f8 0.0N0f8 0.0N0f8 0.0N0f8 0.0N0f8 0.0N0f8 0.0N0f8 0.0N0f8 0.012N0f8 0.149N0f8 0.878N0f8 0.996N0f8 0.996N0f8 0.996N0f8 0.812N0f8 0.0N0f8; 0.0N0f8 0.0N0f8 0.0N0f8 0.0N0f8 0.0N0f8 0.0N0f8 0.0N0f8 0.0N0f8 0.776N0f8 0.882N0f8 0.055N0f8 0.0N0f8 0.0N0f8 0.0N0f8 0.0N0f8 0.0N0f8 0.0N0f8 0.0N0f8 0.0N0f8 0.075N0f8 0.796N0f8 0.996N0f8 0.996N0f8 0.996N0f8 0.996N0f8 0.859N0f8 0.071N0f8 0.0N0f8; 0.0N0f8 0.0N0f8 0.0N0f8 0.0N0f8 0.0N0f8 0.0N0f8 0.0N0f8 0.0N0f8 0.776N0f8 0.996N0f8 0.263N0f8 0.0N0f8 0.0N0f8 0.0N0f8 0.0N0f8 0.0N0f8 0.0N0f8 0.0N0f8 0.294N0f8 0.867N0f8 0.996N0f8 0.996N0f8 0.451N0f8 0.204N0f8 0.204N0f8 0.157N0f8 0.0N0f8 0.0N0f8; 0.0N0f8 0.0N0f8 0.0N0f8 0.0N0f8 0.0N0f8 0.0N0f8 0.0N0f8 0.0N0f8 0.776N0f8 0.996N0f8 0.263N0f8 0.0N0f8 0.0N0f8 0.0N0f8 0.0N0f8 0.0N0f8 0.035N0f8 0.494N0f8 0.984N0f8 0.996N0f8 0.859N0f8 0.302N0f8 0.004N0f8 0.0N0f8 0.0N0f8 0.0N0f8 0.0N0f8 0.0N0f8; 0.0N0f8 0.0N0f8 0.0N0f8 0.0N0f8 0.0N0f8 0.0N0f8 0.0N0f8 0.0N0f8 0.776N0f8 0.996N0f8 0.263N0f8 0.0N0f8 0.0N0f8 0.0N0f8 0.231N0f8 0.522N0f8 0.804N0f8 0.996N0f8 0.941N0f8 0.651N0f8 0.137N0f8 0.0N0f8 0.0N0f8 0.0N0f8 0.0N0f8 0.0N0f8 0.0N0f8 0.0N0f8; 0.0N0f8 0.0N0f8 0.0N0f8 0.0N0f8 0.0N0f8 0.0N0f8 0.0N0f8 0.0N0f8 0.776N0f8 0.98N0f8 0.231N0f8 0.0N0f8 0.086N0f8 0.506N0f8 0.976N0f8 0.996N0f8 0.973N0f8 0.714N0f8 0.224N0f8 0.0N0f8 0.0N0f8 0.0N0f8 0.0N0f8 0.0N0f8 0.0N0f8 0.0N0f8 0.0N0f8 0.0N0f8; 0.0N0f8 0.0N0f8 0.0N0f8 0.0N0f8 0.0N0f8 0.0N0f8 0.0N0f8 0.0N0f8 0.776N0f8 0.898N0f8 0.082N0f8 0.325N0f8 0.914N0f8 0.996N0f8 0.996N0f8 0.733N0f8 0.227N0f8 0.0N0f8 0.0N0f8 0.0N0f8 0.0N0f8 0.0N0f8 0.0N0f8 0.0N0f8 0.0N0f8 0.0N0f8 0.0N0f8 0.0N0f8; 0.0N0f8 0.0N0f8 0.0N0f8 0.0N0f8 0.0N0f8 0.0N0f8 0.0N0f8 0.0N0f8 0.776N0f8 0.996N0f8 0.925N0f8 0.992N0f8 1.0N0f8 0.933N0f8 0.243N0f8 0.02N0f8 0.0N0f8 0.0N0f8 0.0N0f8 0.0N0f8 0.0N0f8 0.0N0f8 0.0N0f8 0.0N0f8 0.0N0f8 0.0N0f8 0.0N0f8 0.0N0f8; 0.0N0f8 0.0N0f8 0.0N0f8 0.0N0f8 0.0N0f8 0.0N0f8 0.0N0f8 0.0N0f8 0.667N0f8 0.996N0f8 0.996N0f8 0.82N0f8 0.325N0f8 0.173N0f8 0.0N0f8 0.0N0f8 0.0N0f8 0.0N0f8 0.0N0f8 0.0N0f8 0.0N0f8 0.0N0f8 0.0N0f8 0.0N0f8 0.0N0f8 0.0N0f8 0.0N0f8 0.0N0f8; 0.0N0f8 0.0N0f8 0.0N0f8 0.0N0f8 0.0N0f8 0.0N0f8 0.0N0f8 0.0N0f8 0.204N0f8 0.549N0f8 0.416N0f8 0.071N0f8 0.0N0f8 0.0N0f8 0.0N0f8 0.0N0f8 0.0N0f8 0.0N0f8 0.0N0f8 0.0N0f8 0.0N0f8 0.0N0f8 0.0N0f8 0.0N0f8 0.0N0f8 0.0N0f8 0.0N0f8 0.0N0f8; 0.0N0f8 0.0N0f8 0.0N0f8 0.0N0f8 0.0N0f8 0.0N0f8 0.0N0f8 0.0N0f8 0.0N0f8 0.0N0f8 0.0N0f8 0.0N0f8 0.0N0f8 0.0N0f8 0.0N0f8 0.0N0f8 0.0N0f8 0.0N0f8 0.0N0f8 0.0N0f8 0.0N0f8 0.0N0f8 0.0N0f8 0.0N0f8 0.0N0f8 0.0N0f8 0.0N0f8 0.0N0f8; 0.0N0f8 0.0N0f8 0.0N0f8 0.0N0f8 0.0N0f8 0.0N0f8 0.0N0f8 0.0N0f8 0.0N0f8 0.0N0f8 0.0N0f8 0.0N0f8 0.0N0f8 0.0N0f8 0.0N0f8 0.0N0f8 0.0N0f8 0.0N0f8 0.0N0f8 0.0N0f8 0.0N0f8 0.0N0f8 0.0N0f8 0.0N0f8 0.0N0f8 0.0N0f8 0.0N0f8 0.0N0f8; 0.0N0f8 0.0N0f8 0.0N0f8 0.0N0f8 0.0N0f8 0.0N0f8 0.0N0f8 0.0N0f8 0.0N0f8 0.0N0f8 0.0N0f8 0.0N0f8 0.0N0f8 0.0N0f8 0.0N0f8 0.0N0f8 0.0N0f8 0.0N0f8 0.0N0f8 0.0N0f8 0.0N0f8 0.0N0f8 0.0N0f8 0.0N0f8 0.0N0f8 0.0N0f8 0.0N0f8 0.0N0f8; 0.0N0f8 0.0N0f8 0.0N0f8 0.0N0f8 0.0N0f8 0.0N0f8 0.0N0f8 0.0N0f8 0.0N0f8 0.0N0f8 0.0N0f8 0.0N0f8 0.0N0f8 0.0N0f8 0.0N0f8 0.0N0f8 0.0N0f8 0.0N0f8 0.0N0f8 0.0N0f8 0.0N0f8 0.0N0f8 0.0N0f8 0.0N0f8 0.0N0f8 0.0N0f8 0.0N0f8 0.0N0f8; 0.0N0f8 0.0N0f8 0.0N0f8 0.0N0f8 0.0N0f8 0.0N0f8 0.0N0f8 0.0N0f8 0.0N0f8 0.0N0f8 0.0N0f8 0.0N0f8 0.0N0f8 0.0N0f8 0.0N0f8 0.0N0f8 0.0N0f8 0.0N0f8 0.0N0f8 0.0N0f8 0.0N0f8 0.0N0f8 0.0N0f8 0.0N0f8 0.0N0f8 0.0N0f8 0.0N0f8 0.0N0f8; 0.0N0f8 0.0N0f8 0.0N0f8 0.0N0f8 0.0N0f8 0.0N0f8 0.0N0f8 0.0N0f8 0.0N0f8 0.0N0f8 0.0N0f8 0.0N0f8 0.0N0f8 0.0N0f8 0.0N0f8 0.0N0f8 0.0N0f8 0.0N0f8 0.0N0f8 0.0N0f8 0.0N0f8 0.0N0f8 0.0N0f8 0.0N0f8 0.0N0f8 0.0N0f8 0.0N0f8 0.0N0f8]\n"
     ]
    }
   ],
   "source": [
    "using MLDatasets\n",
    "\n",
    "# テスト用画像データとその解答をロード\n",
    "test_x, test_y = MNIST.testdata()\n",
    "\n",
    "# 入力値を確認\n",
    "println(test_x[:, :, 1])"
   ]
  },
  {
   "cell_type": "code",
   "execution_count": 26,
   "metadata": {},
   "outputs": [
    {
     "name": "stdout",
     "output_type": "stream",
     "text": [
      "[0.0 0.0 0.0 0.0 0.0 0.0 0.0 0.0 0.0 0.0 0.0 0.0 0.0 0.0 0.0 0.0 0.0 0.0 0.0 0.0 0.0 0.0 0.0 0.0 0.0 0.0 0.0 0.0 0.0 0.0 0.0 0.0 0.0 0.0 0.0 0.0 0.0 0.0 0.0 0.0 0.0 0.0 0.0 0.0 0.0 0.0 0.0 0.0 0.0 0.0 0.0 0.0 0.0 0.0 0.0 0.0 0.0 0.0 0.0 0.0 0.0 0.0 0.0 0.0 0.0 0.0 0.0 0.0 0.0 0.0 0.0 0.0 0.0 0.0 0.0 0.0 0.0 0.0 0.0 0.0 0.0 0.0 0.0 0.0 0.0 0.0 0.0 0.0 0.0 0.0 0.0 0.0 0.0 0.0 0.0 0.0 0.0 0.0 0.0 0.0 0.0 0.0 0.0 0.0 0.0 0.0 0.0 0.0 0.0 0.0 0.0 0.0 0.0 0.0 0.0 0.0 0.0 0.0 0.0 0.0 0.0 0.0 0.0 0.0 0.0 0.0 0.0 0.0 0.0 0.0 0.0 0.0 0.0 0.0 0.0 0.0 0.0 0.0 0.0 0.0 0.0 0.0 0.0 0.0 0.0 0.0 0.0 0.0 0.0 0.0 0.0 0.0 0.0 0.0 0.0 0.0 0.0 0.0 0.0 0.0 0.0 0.0 0.0 0.0 0.0 0.0 0.0 0.0 0.0 0.0 0.0 0.0 0.0 0.0 0.0 0.0 0.0 0.0 0.0 0.0 0.0 0.0 0.0 0.0 0.0 0.0 0.0 0.0 0.0 0.0 0.0 0.0 0.0 0.0 0.0 0.0 0.0 0.0 0.0 0.0 0.0 0.0 0.32941176470588235 0.7254901960784313 0.6235294117647059 0.592156862745098 0.23529411764705882 0.1411764705882353 0.0 0.0 0.0 0.0 0.0 0.0 0.0 0.0 0.0 0.0 0.0 0.0 0.0 0.0 0.0 0.0 0.0 0.0 0.0 0.0 0.0 0.0 0.8705882352941177 0.996078431372549 0.996078431372549 0.996078431372549 0.996078431372549 0.9450980392156862 0.7764705882352941 0.7764705882352941 0.7764705882352941 0.7764705882352941 0.7764705882352941 0.7764705882352941 0.7764705882352941 0.7764705882352941 0.6666666666666666 0.20392156862745098 0.0 0.0 0.0 0.0 0.0 0.0 0.0 0.0 0.0 0.0 0.0 0.0 0.2627450980392157 0.4470588235294118 0.2823529411764706 0.4470588235294118 0.6392156862745098 0.8901960784313725 0.996078431372549 0.8823529411764706 0.996078431372549 0.996078431372549 0.996078431372549 0.9803921568627451 0.8980392156862745 0.996078431372549 0.996078431372549 0.5490196078431373 0.0 0.0 0.0 0.0 0.0 0.0 0.0 0.0 0.0 0.0 0.0 0.0 0.0 0.0 0.0 0.0 0.0 0.06666666666666667 0.25882352941176473 0.054901960784313725 0.2627450980392157 0.2627450980392157 0.2627450980392157 0.23137254901960785 0.08235294117647059 0.9254901960784314 0.996078431372549 0.41568627450980394 0.0 0.0 0.0 0.0 0.0 0.0 0.0 0.0 0.0 0.0 0.0 0.0 0.0 0.0 0.0 0.0 0.0 0.0 0.0 0.0 0.0 0.0 0.0 0.0 0.3254901960784314 0.9921568627450981 0.8196078431372549 0.07058823529411765 0.0 0.0 0.0 0.0 0.0 0.0 0.0 0.0 0.0 0.0 0.0 0.0 0.0 0.0 0.0 0.0 0.0 0.0 0.0 0.0 0.0 0.0 0.0 0.08627450980392157 0.9137254901960784 1.0 0.3254901960784314 0.0 0.0 0.0 0.0 0.0 0.0 0.0 0.0 0.0 0.0 0.0 0.0 0.0 0.0 0.0 0.0 0.0 0.0 0.0 0.0 0.0 0.0 0.0 0.0 0.5058823529411764 0.996078431372549 0.9333333333333333 0.17254901960784313 0.0 0.0 0.0 0.0 0.0 0.0 0.0 0.0 0.0 0.0 0.0 0.0 0.0 0.0 0.0 0.0 0.0 0.0 0.0 0.0 0.0 0.0 0.0 0.23137254901960785 0.9764705882352941 0.996078431372549 0.24313725490196078 0.0 0.0 0.0 0.0 0.0 0.0 0.0 0.0 0.0 0.0 0.0 0.0 0.0 0.0 0.0 0.0 0.0 0.0 0.0 0.0 0.0 0.0 0.0 0.0 0.5215686274509804 0.996078431372549 0.7333333333333333 0.0196078431372549 0.0 0.0 0.0 0.0 0.0 0.0 0.0 0.0 0.0 0.0 0.0 0.0 0.0 0.0 0.0 0.0 0.0 0.0 0.0 0.0 0.0 0.0 0.0 0.03529411764705882 0.803921568627451 0.9725490196078431 0.22745098039215686 0.0 0.0 0.0 0.0 0.0 0.0 0.0 0.0 0.0 0.0 0.0 0.0 0.0 0.0 0.0 0.0 0.0 0.0 0.0 0.0 0.0 0.0 0.0 0.0 0.49411764705882355 0.996078431372549 0.7137254901960784 0.0 0.0 0.0 0.0 0.0 0.0 0.0 0.0 0.0 0.0 0.0 0.0 0.0 0.0 0.0 0.0 0.0 0.0 0.0 0.0 0.0 0.0 0.0 0.0 0.29411764705882354 0.984313725490196 0.9411764705882353 0.2235294117647059 0.0 0.0 0.0 0.0 0.0 0.0 0.0 0.0 0.0 0.0 0.0 0.0 0.0 0.0 0.0 0.0 0.0 0.0 0.0 0.0 0.0 0.0 0.0 0.07450980392156863 0.8666666666666667 0.996078431372549 0.6509803921568628 0.0 0.0 0.0 0.0 0.0 0.0 0.0 0.0 0.0 0.0 0.0 0.0 0.0 0.0 0.0 0.0 0.0 0.0 0.0 0.0 0.0 0.0 0.0 0.011764705882352941 0.796078431372549 0.996078431372549 0.8588235294117647 0.13725490196078433 0.0 0.0 0.0 0.0 0.0 0.0 0.0 0.0 0.0 0.0 0.0 0.0 0.0 0.0 0.0 0.0 0.0 0.0 0.0 0.0 0.0 0.0 0.0 0.14901960784313725 0.996078431372549 0.996078431372549 0.30196078431372547 0.0 0.0 0.0 0.0 0.0 0.0 0.0 0.0 0.0 0.0 0.0 0.0 0.0 0.0 0.0 0.0 0.0 0.0 0.0 0.0 0.0 0.0 0.0 0.12156862745098039 0.8784313725490196 0.996078431372549 0.45098039215686275 0.00392156862745098 0.0 0.0 0.0 0.0 0.0 0.0 0.0 0.0 0.0 0.0 0.0 0.0 0.0 0.0 0.0 0.0 0.0 0.0 0.0 0.0 0.0 0.0 0.0 0.5215686274509804 0.996078431372549 0.996078431372549 0.20392156862745098 0.0 0.0 0.0 0.0 0.0 0.0 0.0 0.0 0.0 0.0 0.0 0.0 0.0 0.0 0.0 0.0 0.0 0.0 0.0 0.0 0.0 0.0 0.0 0.23921568627450981 0.9490196078431372 0.996078431372549 0.996078431372549 0.20392156862745098 0.0 0.0 0.0 0.0 0.0 0.0 0.0 0.0 0.0 0.0 0.0 0.0 0.0 0.0 0.0 0.0 0.0 0.0 0.0 0.0 0.0 0.0 0.0 0.4745098039215686 0.996078431372549 0.996078431372549 0.8588235294117647 0.1568627450980392 0.0 0.0 0.0 0.0 0.0 0.0 0.0 0.0 0.0 0.0 0.0 0.0 0.0 0.0 0.0 0.0 0.0 0.0 0.0 0.0 0.0 0.0 0.0 0.4745098039215686 0.996078431372549 0.8117647058823529 0.07058823529411765 0.0 0.0 0.0 0.0 0.0 0.0 0.0 0.0 0.0 0.0 0.0 0.0 0.0 0.0 0.0 0.0 0.0 0.0 0.0 0.0 0.0 0.0 0.0 0.0 0.0 0.0 0.0 0.0 0.0 0.0 0.0 0.0 0.0 0.0 0.0 0.0 0.0 0.0 0.0 0.0 0.0 0.0]\n"
     ]
    }
   ],
   "source": [
    "# 入力値をニューラルネットワークモデル用に前処理\n",
    "## 入力層は 1 x 784 Array{Float64,2} を受け付けるため、以下のように変換\n",
    "x = Array{Float64,3}(reshape(test_x, (1, 784, :))) # => 1 x 784 x 10,000枚 Array{Flaot64,2}\n",
    "\n",
    "# 確認\n",
    "println(x[:, :, 1])"
   ]
  },
  {
   "cell_type": "code",
   "execution_count": 27,
   "metadata": {},
   "outputs": [
    {
     "data": {
      "text/plain": [
       "10000-element Vector{Matrix{Float64}}:\n",
       " [8.44125032538266e-5 2.635064482738027e-6 … 9.3744733597915e-6 0.0008183116577155337]\n",
       " [0.004836330776933212 0.0011045859406722098 … 0.0012864234827370568 4.78646841013213e-8]\n",
       " [1.0358303462444516e-7 0.9889725891785791 … 0.0012378701453587169 8.671467800036415e-5]\n",
       " [0.9941147779891886 8.211479163588305e-8 … 4.83602379360134e-5 4.2039287506557904e-5]\n",
       " [0.00020664289215094483 6.5650999036163946e-6 … 0.0014368894101294402 0.03264527364528945]\n",
       " [3.031420718844337e-8 0.9885007025860539 … 0.0019129005213941667 0.00042563024713378737]\n",
       " [3.8058199250516447e-6 4.506335700980813e-5 … 0.005343849218626312 0.00989904493277237]\n",
       " [9.682339330479445e-7 0.0017533037632791336 … 0.013703729883155996 0.9498770829169113]\n",
       " [0.0018853791505788683 3.494866319114648e-5 … 0.0010030548097115428 9.428619736864221e-5]\n",
       " [1.6524917801463078e-5 9.826932741479084e-6 … 0.0041195815967009185 0.9183024987782572]\n",
       " [0.9839969452751791 1.1469643070760812e-7 … 0.00022520223138681027 6.578499770160594e-6]\n",
       " [0.0026870533194577567 0.00044876578984743025 … 0.012216889919118349 3.45069241660917e-5]\n",
       " [1.9399715587835808e-5 9.942083715377735e-6 … 0.000990950614105234 0.9651809625326623]\n",
       " ⋮\n",
       " [0.0009018930019743521 6.381599740188294e-5 … 0.008020664858097486 2.2541957058118587e-5]\n",
       " [9.461356663400173e-5 1.7041530866432084e-5 … 5.670640255290448e-5 6.744625161664318e-7]\n",
       " [2.71574154170424e-6 7.625766681054347e-5 … 9.988294070789615e-5 0.0031338374306687515]\n",
       " [0.00043138894165527334 0.00018335359853584706 … 0.9258504760515979 0.0031011538095973464]\n",
       " [0.00018830594854624193 1.4388359377117147e-6 … 0.0005542864360990456 0.8372523533864291]\n",
       " [0.9469511911977566 1.0076399795486967e-6 … 0.006241963931737301 4.743055363425876e-5]\n",
       " [3.3634976844618356e-8 0.9922421060353508 … 0.002582304236793646 1.980497486747364e-5]\n",
       " [3.3069697398936057e-5 0.00015352473609356226 … 0.0006810207046940668 2.1962219078373199e-7]\n",
       " [0.00022503346935173163 9.047008674289899e-5 … 0.00029207432819368764 1.953465293180371e-5]\n",
       " [4.876333086380842e-7 7.047471717729501e-5 … 0.0059542898143256535 0.022070872953937535]\n",
       " [0.0006243848576204307 0.0007675569160106334 … 0.08620649151925389 8.993502253213302e-5]\n",
       " [0.000428828338832523 2.004301519540953e-6 … 6.375684254040745e-6 3.7751403115347407e-7]"
      ]
     },
     "execution_count": 27,
     "metadata": {},
     "output_type": "execute_result"
    }
   ],
   "source": [
    "# シグモイド関数\n",
    "sigmoid(a::Array{Float64,2})::Array{Float64,2} = 1 ./ (1 .+ exp.(-a))\n",
    "\n",
    "# ソフトマックス関数\n",
    "softmax(a::Array{Float64,2})::Array{Float64,2} = begin\n",
    "    c = maximum(a)\n",
    "    exp_a = exp.(a .- c) # オーバフロー対策\n",
    "    y = exp_a ./ sum(exp_a)\n",
    "end\n",
    "\n",
    "# 学習済みパラメータを適用したニューラルネットワークでテスト画像データ10,000枚に対して推論実行\n",
    "## 中間層の活性化関数: シグモイド関数\n",
    "## 出力層の活性化関数: ソフトマックス関数\n",
    "predict_y = [predict(network, sigmoid, softmax, x[:, :, i]) for i in 1:10000]"
   ]
  },
  {
   "cell_type": "code",
   "execution_count": 28,
   "metadata": {},
   "outputs": [
    {
     "data": {
      "text/plain": [
       "10000-element Vector{Float64}:\n",
       " 0.9999999999999999\n",
       " 1.0\n",
       " 1.0\n",
       " 0.9999999999999999\n",
       " 0.9999999999999999\n",
       " 0.9999999999999998\n",
       " 0.9999999999999999\n",
       " 1.0\n",
       " 0.9999999999999999\n",
       " 1.0\n",
       " 0.9999999999999999\n",
       " 1.0\n",
       " 0.9999999999999999\n",
       " ⋮\n",
       " 1.0000000000000004\n",
       " 1.0\n",
       " 1.0000000000000002\n",
       " 1.0\n",
       " 1.0\n",
       " 0.9999999999999998\n",
       " 0.9999999999999999\n",
       " 1.0\n",
       " 1.0\n",
       " 1.0000000000000002\n",
       " 0.9999999999999999\n",
       " 0.9999999999999998"
      ]
     },
     "execution_count": 28,
     "metadata": {},
     "output_type": "execute_result"
    }
   ],
   "source": [
    "# 予測値: 10000 Vector{1 x 10 Array{Float64,2}}\n",
    "# 各予測値の10クラスの合計が1.0（100％）になることを確認\n",
    "[sum(y) for y in predict_y]"
   ]
  },
  {
   "cell_type": "code",
   "execution_count": 29,
   "metadata": {},
   "outputs": [
    {
     "data": {
      "text/plain": [
       "10000-element Vector{Int64}:\n",
       " 7\n",
       " 2\n",
       " 1\n",
       " 0\n",
       " 4\n",
       " 1\n",
       " 4\n",
       " 9\n",
       " 6\n",
       " 9\n",
       " 0\n",
       " 6\n",
       " 9\n",
       " ⋮\n",
       " 5\n",
       " 6\n",
       " 7\n",
       " 8\n",
       " 9\n",
       " 0\n",
       " 1\n",
       " 2\n",
       " 3\n",
       " 4\n",
       " 5\n",
       " 6"
      ]
     },
     "execution_count": 29,
     "metadata": {},
     "output_type": "execute_result"
    }
   ],
   "source": [
    "# 各予測値のうち、最大値（最も確率の高い）のindex（数値クラス）を取得\n",
    "## Juliaのindexは1から始まるため -1 する\n",
    "predicted = [argmax(y)[2]-1 for y in predict_y]"
   ]
  },
  {
   "cell_type": "code",
   "execution_count": 30,
   "metadata": {},
   "outputs": [
    {
     "data": {
      "text/plain": [
       "0.9352"
      ]
     },
     "execution_count": 30,
     "metadata": {},
     "output_type": "execute_result"
    }
   ],
   "source": [
    "# 解答データと比較し、予測値の正確性を計測\n",
    "length(predicted[predicted .== test_y]) / 10000"
   ]
  },
  {
   "cell_type": "markdown",
   "metadata": {},
   "source": [
    "上記の通り、極めて単純な3層ニューラルネットワークでも、十分にパラメータを最適化されていれば、93.5％程度の精度を出すことができる"
   ]
  },
  {
   "cell_type": "markdown",
   "metadata": {},
   "source": [
    "### バッチ処理\n",
    "一つのデータをニューラルネットワークに処理させる場合、1×入力層ニューロン数 の2次元テンソル（行列）を引数として渡していた\n",
    "\n",
    "しかし、通常機械学習においては複数の（大量の）データを処理するため、今までのようにループ計算するのは余り効率が良くない\n",
    "\n",
    "これを解決するために、複数のデータを一つの塊（バッチ）として計算を行う処理を**バッチ処理**と呼ぶ\n",
    "\n",
    "すなわち、1×入力層ニューロン数 の行列をデータ数分ループ計算させるのではなく、データ数×入力層ニューロン数 の行列を計算させる方が効率が良いということである\n",
    "\n",
    "このアルゴリズムを実装する"
   ]
  },
  {
   "cell_type": "code",
   "execution_count": 31,
   "metadata": {},
   "outputs": [
    {
     "data": {
      "text/plain": [
       "10000×784 Matrix{Float64}:\n",
       " 0.0  0.0  0.0  0.0  0.0  0.0  0.0  0.0  …  0.0  0.0  0.0  0.0  0.0  0.0  0.0\n",
       " 0.0  0.0  0.0  0.0  0.0  0.0  0.0  0.0     0.0  0.0  0.0  0.0  0.0  0.0  0.0\n",
       " 0.0  0.0  0.0  0.0  0.0  0.0  0.0  0.0     0.0  0.0  0.0  0.0  0.0  0.0  0.0\n",
       " 0.0  0.0  0.0  0.0  0.0  0.0  0.0  0.0     0.0  0.0  0.0  0.0  0.0  0.0  0.0\n",
       " 0.0  0.0  0.0  0.0  0.0  0.0  0.0  0.0     0.0  0.0  0.0  0.0  0.0  0.0  0.0\n",
       " 0.0  0.0  0.0  0.0  0.0  0.0  0.0  0.0  …  0.0  0.0  0.0  0.0  0.0  0.0  0.0\n",
       " 0.0  0.0  0.0  0.0  0.0  0.0  0.0  0.0     0.0  0.0  0.0  0.0  0.0  0.0  0.0\n",
       " 0.0  0.0  0.0  0.0  0.0  0.0  0.0  0.0     0.0  0.0  0.0  0.0  0.0  0.0  0.0\n",
       " 0.0  0.0  0.0  0.0  0.0  0.0  0.0  0.0     0.0  0.0  0.0  0.0  0.0  0.0  0.0\n",
       " 0.0  0.0  0.0  0.0  0.0  0.0  0.0  0.0     0.0  0.0  0.0  0.0  0.0  0.0  0.0\n",
       " 0.0  0.0  0.0  0.0  0.0  0.0  0.0  0.0  …  0.0  0.0  0.0  0.0  0.0  0.0  0.0\n",
       " 0.0  0.0  0.0  0.0  0.0  0.0  0.0  0.0     0.0  0.0  0.0  0.0  0.0  0.0  0.0\n",
       " 0.0  0.0  0.0  0.0  0.0  0.0  0.0  0.0     0.0  0.0  0.0  0.0  0.0  0.0  0.0\n",
       " ⋮                        ⋮              ⋱                 ⋮              \n",
       " 0.0  0.0  0.0  0.0  0.0  0.0  0.0  0.0     0.0  0.0  0.0  0.0  0.0  0.0  0.0\n",
       " 0.0  0.0  0.0  0.0  0.0  0.0  0.0  0.0     0.0  0.0  0.0  0.0  0.0  0.0  0.0\n",
       " 0.0  0.0  0.0  0.0  0.0  0.0  0.0  0.0  …  0.0  0.0  0.0  0.0  0.0  0.0  0.0\n",
       " 0.0  0.0  0.0  0.0  0.0  0.0  0.0  0.0     0.0  0.0  0.0  0.0  0.0  0.0  0.0\n",
       " 0.0  0.0  0.0  0.0  0.0  0.0  0.0  0.0     0.0  0.0  0.0  0.0  0.0  0.0  0.0\n",
       " 0.0  0.0  0.0  0.0  0.0  0.0  0.0  0.0     0.0  0.0  0.0  0.0  0.0  0.0  0.0\n",
       " 0.0  0.0  0.0  0.0  0.0  0.0  0.0  0.0     0.0  0.0  0.0  0.0  0.0  0.0  0.0\n",
       " 0.0  0.0  0.0  0.0  0.0  0.0  0.0  0.0  …  0.0  0.0  0.0  0.0  0.0  0.0  0.0\n",
       " 0.0  0.0  0.0  0.0  0.0  0.0  0.0  0.0     0.0  0.0  0.0  0.0  0.0  0.0  0.0\n",
       " 0.0  0.0  0.0  0.0  0.0  0.0  0.0  0.0     0.0  0.0  0.0  0.0  0.0  0.0  0.0\n",
       " 0.0  0.0  0.0  0.0  0.0  0.0  0.0  0.0     0.0  0.0  0.0  0.0  0.0  0.0  0.0\n",
       " 0.0  0.0  0.0  0.0  0.0  0.0  0.0  0.0     0.0  0.0  0.0  0.0  0.0  0.0  0.0"
      ]
     },
     "execution_count": 31,
     "metadata": {},
     "output_type": "execute_result"
    }
   ],
   "source": [
    "# 入力値をニューラルネットワークモデル用に前処理したもの\n",
    "# => 1 x 784 x 10,000 Array{Float64,3}\n",
    "# これを 10,000 x 784 Array{Float64,2} に変換する\n",
    "\n",
    "# まず、1 x 784 x 10,000 の次元の並び順を 10,000 x 784 x 1 に変換\n",
    "## [1次元, 2次元, 3次元] => [3次元, 2次元, 1次元]\n",
    "X = permutedims(x, [3, 2, 1])\n",
    "\n",
    "# 10,000 x 784 x 1 Array{Float64,3} を 10,000 x 784 Array{Float64,2} に変換\n",
    "X = Array{Float64,2}(reshape(X, (10000, 784)))"
   ]
  },
  {
   "cell_type": "markdown",
   "metadata": {},
   "source": [
    "ここで順方向伝搬処理の流れをもう一度整理する\n",
    "\n",
    "データ1つに対して処理する場合は以下のような流れになっていた\n",
    "\n",
    "$$ \\begin{array}{ll}\n",
    "    入力層→中間層1 \\\\\n",
    "    入力信号｜(1×入力層ニューロン数)行列 * 重み｜(入力層ニューロン数×中間層1ニューロン数)行列 = (1×中間層1ニューロン数)行列 \\\\\n",
    "    (1×中間層1ニューロン数)行列 + バイアス｜(1×中間層1ニューロン数)行列 = (1×中間層1ニューロン数)行列\n",
    "\\end{array} $$\n",
    "\n",
    "これをバッチ処理させる場合、以下のようにバイアスの行数と不一致が起こるため、計算できない\n",
    "\n",
    "$$ \\begin{array}{ll}\n",
    "    入力層→中間層1 \\\\\n",
    "    入力信号｜(10,000×入力層ニューロン数)行列 * 重み｜(入力層ニューロン数×中間層1ニューロン数)行列 = (10,000×中間層1ニューロン数)行列 \\\\\n",
    "    (10,000×中間層1ニューロン数)行列 + バイアス｜(1×中間層1ニューロン数)行列 = 行数不一致のため計算不可（10,000 \\neq 1）\n",
    "\\end{array} $$\n",
    "\n",
    "そのため、`forward`関数を修正して実行する必要がある"
   ]
  },
  {
   "cell_type": "code",
   "execution_count": 32,
   "metadata": {},
   "outputs": [
    {
     "data": {
      "text/plain": [
       "10000×10 Matrix{Float64}:\n",
       " 8.44125e-5   2.63506e-6   0.000715494  …  9.37447e-6   0.000818312\n",
       " 0.00483633   0.00110459   0.944252        0.00128642   4.78647e-8\n",
       " 1.03583e-7   0.988973     0.00428949      0.00123787   8.67147e-5\n",
       " 0.994115     8.21148e-8   0.00159065      4.83602e-5   4.20393e-5\n",
       " 0.000206643  6.5651e-6    0.00289003      0.00143689   0.0326453\n",
       " 3.03142e-8   0.988501     0.00173125   …  0.0019129    0.00042563\n",
       " 3.80582e-6   4.50634e-5   2.00198e-5      0.00534385   0.00989904\n",
       " 9.68234e-7   0.0017533    9.92064e-5      0.0137037    0.949877\n",
       " 0.00188538   3.49487e-5   0.00578956      0.00100305   9.42862e-5\n",
       " 1.65249e-5   9.82693e-6   9.12797e-5      0.00411958   0.918302\n",
       " 0.983997     1.14696e-7   0.00165859   …  0.000225202  6.5785e-6\n",
       " 0.00268705   0.000448766  0.0577568       0.0122169    3.45069e-5\n",
       " 1.93997e-5   9.94208e-6   6.37594e-5      0.000990951  0.965181\n",
       " ⋮                                      ⋱               \n",
       " 0.000901893  6.3816e-5    2.31159e-5      0.00802066   2.2542e-5\n",
       " 9.46136e-5   1.70415e-5   0.00289238      5.67064e-5   6.74463e-7\n",
       " 2.71574e-6   7.62577e-5   0.00191517   …  9.98829e-5   0.00313384\n",
       " 0.000431389  0.000183354  0.00907453      0.92585      0.00310115\n",
       " 0.000188306  1.43884e-6   0.000107891     0.000554286  0.837252\n",
       " 0.946951     1.00764e-6   0.00238152      0.00624196   4.74306e-5\n",
       " 3.3635e-8    0.992242     0.00367281      0.0025823    1.9805e-5\n",
       " 3.30697e-5   0.000153525  0.990525     …  0.000681021  2.19622e-7\n",
       " 0.000225033  9.04701e-5   0.00609839      0.000292074  1.95347e-5\n",
       " 4.87633e-7   7.04747e-5   7.31145e-5      0.00595429   0.0220709\n",
       " 0.000624385  0.000767557  0.000124992     0.0862065    8.9935e-5\n",
       " 0.000428828  2.0043e-6    0.00254057      6.37568e-6   3.77514e-7"
      ]
     },
     "execution_count": 32,
     "metadata": {},
     "output_type": "execute_result"
    }
   ],
   "source": [
    "\"\"\"\n",
    "ニューラルネットワーク実装\n",
    "\"\"\"\n",
    "# ニューラルネットワーク構造体\n",
    "mutable struct Network\n",
    "    l::Int # ネットワーク層数\n",
    "    b::Vector{Array{Float64,2}} # バイアス: [層1: Array{1x次層ニューロン数}, 層2: Array{1x次層ニューロン数}, ...]\n",
    "    w::Vector{Array{Float64,2}} # 重み: [層1: Array{前層ニューロン数x次層ニューロン数}, 層2: Array{前層ニューロン数x次層ニューロン数}, ...]\n",
    "end\n",
    "\n",
    "# 順方向伝搬関数\n",
    "## Network構造体, 層番号, 活性化関数, 層の入力信号 -> 層の出力信号 z\n",
    "forward(network::Network, i::Int, h, x::Array{Float64,2})::Array{Float64,2} =\n",
    "    # バッチ処理の場合、前層の行数が1以上になるため、バイアスの加算をループ加算（.+）に変更\n",
    "    h(x * network.w[i] .+ network.b[i])\n",
    "\n",
    "# 推論処理\n",
    "## Network構造体, 層番号, 中間層の活性化関数, 出力層の活性化関数, 入力信号 -> 出力信号 y\n",
    "predict(network::Network, h, σ, x::Array{Float64,2}, i::Int=1)::Array{Float64,2} = \n",
    "    i == network.l ? forward(network, i, σ, x) : predict(network, h, σ, forward(network, i, h, x), i + 1)\n",
    "\n",
    "# 学習済みモデルのパラメータをセットして3層ニューラルネットワーク構築\n",
    "init(model::Dict{Any,Any})::Network = Network(\n",
    "    3,\n",
    "    [\n",
    "        # i番目の層のバイアス: Array{Float32,1} -> 1 x n Array{Float64,2}にキャスト\n",
    "        Array{Float64,2}(reshape(model[\"b1\"], (1, :))), # 1 x 50 Array{Float64,2}\n",
    "        Array{Float64,2}(reshape(model[\"b2\"], (1, :))), # 1 x 100 Array{Float64,2}\n",
    "        Array{Float64,2}(reshape(model[\"b3\"], (1, :))), # 1 x 10 Array{Float64,2}\n",
    "    ],\n",
    "    [\n",
    "        # i番目の層の重み: Array{Float32,2} -> Array{Float64,2}にキャスト\n",
    "        Array{Float64,2}(model[\"W1\"]),\n",
    "        Array{Float64,2}(model[\"W2\"]),\n",
    "        Array{Float64,2}(model[\"W3\"]),\n",
    "    ]\n",
    ")\n",
    "\n",
    "network = init(model)\n",
    "\n",
    "\"\"\"\n",
    "活性化関数\n",
    "\"\"\"\n",
    "# バッチ対応版シグモイド関数\n",
    "sigmoid(a::Array{Float64,2})::Array{Float64,2} = hcat(\n",
    "    [1 ./ (1 .+ exp.(-a[row, :])) for row in 1:size(a, 1)]...\n",
    ") |> transpose\n",
    "\n",
    "\n",
    "# バッチ対応版ソフトマックス関数\n",
    "softmax(a::Array{Float64,2})::Array{Float64,2} = begin\n",
    "    y = []\n",
    "    for row in 1:size(a, 1)\n",
    "        c = maximum(a[row, :])\n",
    "        exp_a = exp.(a[row, :] .- c) # オーバフロー対策\n",
    "        push!(y, exp_a ./ sum(exp_a))\n",
    "    end\n",
    "    hcat(y...) |> transpose\n",
    "end\n",
    "\n",
    "\"\"\"\n",
    "推論\n",
    "\"\"\"\n",
    "# データ数×入力層ニューロン数 の入力信号を一回の順伝搬処理で推論できる\n",
    "## [predict(network, sigmoid, softmax, x[:, :, i]) for i in 1:10000] より効率よく処理できる\n",
    "predict_y = predict(network, sigmoid, softmax, X)"
   ]
  },
  {
   "cell_type": "code",
   "execution_count": 33,
   "metadata": {},
   "outputs": [
    {
     "data": {
      "text/plain": [
       "0.9999999999999999"
      ]
     },
     "execution_count": 33,
     "metadata": {},
     "output_type": "execute_result"
    }
   ],
   "source": [
    "sum(predict_y[1, :])"
   ]
  },
  {
   "cell_type": "code",
   "execution_count": 34,
   "metadata": {},
   "outputs": [
    {
     "data": {
      "text/plain": [
       "10000×1 Matrix{CartesianIndex{2}}:\n",
       " CartesianIndex(1, 8)\n",
       " CartesianIndex(2, 3)\n",
       " CartesianIndex(3, 2)\n",
       " CartesianIndex(4, 1)\n",
       " CartesianIndex(5, 5)\n",
       " CartesianIndex(6, 2)\n",
       " CartesianIndex(7, 5)\n",
       " CartesianIndex(8, 10)\n",
       " CartesianIndex(9, 7)\n",
       " CartesianIndex(10, 10)\n",
       " CartesianIndex(11, 1)\n",
       " CartesianIndex(12, 7)\n",
       " CartesianIndex(13, 10)\n",
       " ⋮\n",
       " CartesianIndex(9989, 6)\n",
       " CartesianIndex(9990, 7)\n",
       " CartesianIndex(9991, 8)\n",
       " CartesianIndex(9992, 9)\n",
       " CartesianIndex(9993, 10)\n",
       " CartesianIndex(9994, 1)\n",
       " CartesianIndex(9995, 2)\n",
       " CartesianIndex(9996, 3)\n",
       " CartesianIndex(9997, 4)\n",
       " CartesianIndex(9998, 5)\n",
       " CartesianIndex(9999, 6)\n",
       " CartesianIndex(10000, 7)"
      ]
     },
     "execution_count": 34,
     "metadata": {},
     "output_type": "execute_result"
    }
   ],
   "source": [
    "# 各行における10クラスのうち、最大値のindexを取得\n",
    "## argmaxの dims=1 なら各列における行内の比較、dims=2 なら各行における列内の比較\n",
    "indexes = argmax(predict_y; dims=2)"
   ]
  },
  {
   "cell_type": "code",
   "execution_count": 35,
   "metadata": {},
   "outputs": [
    {
     "data": {
      "text/plain": [
       "10000×1 Matrix{Int64}:\n",
       "  8\n",
       "  3\n",
       "  2\n",
       "  1\n",
       "  5\n",
       "  2\n",
       "  5\n",
       " 10\n",
       "  7\n",
       " 10\n",
       "  1\n",
       "  7\n",
       " 10\n",
       "  ⋮\n",
       "  6\n",
       "  7\n",
       "  8\n",
       "  9\n",
       " 10\n",
       "  1\n",
       "  2\n",
       "  3\n",
       "  4\n",
       "  5\n",
       "  6\n",
       "  7"
      ]
     },
     "execution_count": 35,
     "metadata": {},
     "output_type": "execute_result"
    }
   ],
   "source": [
    "# CartesianIndexの2次元目の値のみ取得する\n",
    "indexes = getindex.(indexes, [2])"
   ]
  },
  {
   "cell_type": "code",
   "execution_count": 36,
   "metadata": {},
   "outputs": [
    {
     "data": {
      "text/plain": [
       "0.9352"
      ]
     },
     "execution_count": 36,
     "metadata": {},
     "output_type": "execute_result"
    }
   ],
   "source": [
    "# Juliaのindexは1から始まるため、-1 して数値クラスを取得\n",
    "predicted = indexes .- 1\n",
    "\n",
    "# 解答データと比較して、予測精度を計算\n",
    "length(predicted[predicted .== test_y]) / 10000"
   ]
  },
  {
   "cell_type": "markdown",
   "metadata": {},
   "source": [
    "#### 備考\n",
    "実際のところ、Python（NumPy）はforループ処理が極端に遅いため行列計算にすることで効率化されていたが、Juliaのforループは十分に高速なため、ドット演算子（ベクトル演算子）とどちらが速いのかは現状不明である\n",
    "\n",
    "しかし、ベクトル演算子を使うことで無駄な一時変数のアロケーションを減らすことができ、結果的に計算速度を向上させることができるという話もあるため、極力ベクトル計算（テンソル計算）を行うことを意識しておくに越したことはないと考えられる\n",
    "\n",
    "参考: [Juliaを高速化するために注意すること](https://myenigma.hatenablog.com/entry/2017/08/22/093953#%E3%83%89%E3%83%83%E3%83%88%E6%BC%94%E7%AE%97%E5%AD%90%E3%82%92%E4%BD%BF%E3%81%86)"
   ]
  },
  {
   "cell_type": "code",
   "execution_count": null,
   "metadata": {},
   "outputs": [],
   "source": []
  }
 ],
 "metadata": {
  "kernelspec": {
   "display_name": "Julia 1.6.1",
   "language": "julia",
   "name": "julia-1.6"
  },
  "language_info": {
   "file_extension": ".jl",
   "mimetype": "application/julia",
   "name": "julia",
   "version": "1.6.1"
  }
 },
 "nbformat": 4,
 "nbformat_minor": 4
}
